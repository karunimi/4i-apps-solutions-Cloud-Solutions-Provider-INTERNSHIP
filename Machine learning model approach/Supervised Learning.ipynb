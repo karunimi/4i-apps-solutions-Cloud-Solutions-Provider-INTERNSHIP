{
 "cells": [
  {
   "cell_type": "markdown",
   "id": "9c1d71e4",
   "metadata": {},
   "source": [
    "#  SUPERVISED LEARNING"
   ]
  },
  {
   "cell_type": "markdown",
   "id": "b3e98f11",
   "metadata": {},
   "source": [
    "### Importing the required libraries "
   ]
  },
  {
   "cell_type": "code",
   "execution_count": 1,
   "id": "5ebb74ea",
   "metadata": {},
   "outputs": [],
   "source": [
    "import numpy as np\n",
    "import pandas as pd \n",
    "import matplotlib.pyplot as plt \n",
    "import seaborn as sns"
   ]
  },
  {
   "cell_type": "code",
   "execution_count": 2,
   "id": "b8af617f",
   "metadata": {},
   "outputs": [],
   "source": [
    "import warnings\n",
    "warnings.filterwarnings(\"ignore\")"
   ]
  },
  {
   "cell_type": "markdown",
   "id": "a4739a09",
   "metadata": {},
   "source": [
    "###  Importing dataset "
   ]
  },
  {
   "cell_type": "code",
   "execution_count": 3,
   "id": "8195bc9c",
   "metadata": {},
   "outputs": [],
   "source": [
    "## Importing dataset named 'diamond' from seaborn\n",
    "\n",
    "diamonds=sns.load_dataset('diamonds')"
   ]
  },
  {
   "cell_type": "code",
   "execution_count": 4,
   "id": "03502a99",
   "metadata": {},
   "outputs": [
    {
     "data": {
      "text/html": [
       "<div>\n",
       "<style scoped>\n",
       "    .dataframe tbody tr th:only-of-type {\n",
       "        vertical-align: middle;\n",
       "    }\n",
       "\n",
       "    .dataframe tbody tr th {\n",
       "        vertical-align: top;\n",
       "    }\n",
       "\n",
       "    .dataframe thead th {\n",
       "        text-align: right;\n",
       "    }\n",
       "</style>\n",
       "<table border=\"1\" class=\"dataframe\">\n",
       "  <thead>\n",
       "    <tr style=\"text-align: right;\">\n",
       "      <th></th>\n",
       "      <th>carat</th>\n",
       "      <th>cut</th>\n",
       "      <th>color</th>\n",
       "      <th>clarity</th>\n",
       "      <th>depth</th>\n",
       "      <th>table</th>\n",
       "      <th>price</th>\n",
       "      <th>x</th>\n",
       "      <th>y</th>\n",
       "      <th>z</th>\n",
       "    </tr>\n",
       "  </thead>\n",
       "  <tbody>\n",
       "    <tr>\n",
       "      <th>0</th>\n",
       "      <td>0.23</td>\n",
       "      <td>Ideal</td>\n",
       "      <td>E</td>\n",
       "      <td>SI2</td>\n",
       "      <td>61.5</td>\n",
       "      <td>55.0</td>\n",
       "      <td>326</td>\n",
       "      <td>3.95</td>\n",
       "      <td>3.98</td>\n",
       "      <td>2.43</td>\n",
       "    </tr>\n",
       "    <tr>\n",
       "      <th>1</th>\n",
       "      <td>0.21</td>\n",
       "      <td>Premium</td>\n",
       "      <td>E</td>\n",
       "      <td>SI1</td>\n",
       "      <td>59.8</td>\n",
       "      <td>61.0</td>\n",
       "      <td>326</td>\n",
       "      <td>3.89</td>\n",
       "      <td>3.84</td>\n",
       "      <td>2.31</td>\n",
       "    </tr>\n",
       "    <tr>\n",
       "      <th>2</th>\n",
       "      <td>0.23</td>\n",
       "      <td>Good</td>\n",
       "      <td>E</td>\n",
       "      <td>VS1</td>\n",
       "      <td>56.9</td>\n",
       "      <td>65.0</td>\n",
       "      <td>327</td>\n",
       "      <td>4.05</td>\n",
       "      <td>4.07</td>\n",
       "      <td>2.31</td>\n",
       "    </tr>\n",
       "    <tr>\n",
       "      <th>3</th>\n",
       "      <td>0.29</td>\n",
       "      <td>Premium</td>\n",
       "      <td>I</td>\n",
       "      <td>VS2</td>\n",
       "      <td>62.4</td>\n",
       "      <td>58.0</td>\n",
       "      <td>334</td>\n",
       "      <td>4.20</td>\n",
       "      <td>4.23</td>\n",
       "      <td>2.63</td>\n",
       "    </tr>\n",
       "    <tr>\n",
       "      <th>4</th>\n",
       "      <td>0.31</td>\n",
       "      <td>Good</td>\n",
       "      <td>J</td>\n",
       "      <td>SI2</td>\n",
       "      <td>63.3</td>\n",
       "      <td>58.0</td>\n",
       "      <td>335</td>\n",
       "      <td>4.34</td>\n",
       "      <td>4.35</td>\n",
       "      <td>2.75</td>\n",
       "    </tr>\n",
       "    <tr>\n",
       "      <th>...</th>\n",
       "      <td>...</td>\n",
       "      <td>...</td>\n",
       "      <td>...</td>\n",
       "      <td>...</td>\n",
       "      <td>...</td>\n",
       "      <td>...</td>\n",
       "      <td>...</td>\n",
       "      <td>...</td>\n",
       "      <td>...</td>\n",
       "      <td>...</td>\n",
       "    </tr>\n",
       "    <tr>\n",
       "      <th>53935</th>\n",
       "      <td>0.72</td>\n",
       "      <td>Ideal</td>\n",
       "      <td>D</td>\n",
       "      <td>SI1</td>\n",
       "      <td>60.8</td>\n",
       "      <td>57.0</td>\n",
       "      <td>2757</td>\n",
       "      <td>5.75</td>\n",
       "      <td>5.76</td>\n",
       "      <td>3.50</td>\n",
       "    </tr>\n",
       "    <tr>\n",
       "      <th>53936</th>\n",
       "      <td>0.72</td>\n",
       "      <td>Good</td>\n",
       "      <td>D</td>\n",
       "      <td>SI1</td>\n",
       "      <td>63.1</td>\n",
       "      <td>55.0</td>\n",
       "      <td>2757</td>\n",
       "      <td>5.69</td>\n",
       "      <td>5.75</td>\n",
       "      <td>3.61</td>\n",
       "    </tr>\n",
       "    <tr>\n",
       "      <th>53937</th>\n",
       "      <td>0.70</td>\n",
       "      <td>Very Good</td>\n",
       "      <td>D</td>\n",
       "      <td>SI1</td>\n",
       "      <td>62.8</td>\n",
       "      <td>60.0</td>\n",
       "      <td>2757</td>\n",
       "      <td>5.66</td>\n",
       "      <td>5.68</td>\n",
       "      <td>3.56</td>\n",
       "    </tr>\n",
       "    <tr>\n",
       "      <th>53938</th>\n",
       "      <td>0.86</td>\n",
       "      <td>Premium</td>\n",
       "      <td>H</td>\n",
       "      <td>SI2</td>\n",
       "      <td>61.0</td>\n",
       "      <td>58.0</td>\n",
       "      <td>2757</td>\n",
       "      <td>6.15</td>\n",
       "      <td>6.12</td>\n",
       "      <td>3.74</td>\n",
       "    </tr>\n",
       "    <tr>\n",
       "      <th>53939</th>\n",
       "      <td>0.75</td>\n",
       "      <td>Ideal</td>\n",
       "      <td>D</td>\n",
       "      <td>SI2</td>\n",
       "      <td>62.2</td>\n",
       "      <td>55.0</td>\n",
       "      <td>2757</td>\n",
       "      <td>5.83</td>\n",
       "      <td>5.87</td>\n",
       "      <td>3.64</td>\n",
       "    </tr>\n",
       "  </tbody>\n",
       "</table>\n",
       "<p>53940 rows × 10 columns</p>\n",
       "</div>"
      ],
      "text/plain": [
       "       carat        cut color clarity  depth  table  price     x     y     z\n",
       "0       0.23      Ideal     E     SI2   61.5   55.0    326  3.95  3.98  2.43\n",
       "1       0.21    Premium     E     SI1   59.8   61.0    326  3.89  3.84  2.31\n",
       "2       0.23       Good     E     VS1   56.9   65.0    327  4.05  4.07  2.31\n",
       "3       0.29    Premium     I     VS2   62.4   58.0    334  4.20  4.23  2.63\n",
       "4       0.31       Good     J     SI2   63.3   58.0    335  4.34  4.35  2.75\n",
       "...      ...        ...   ...     ...    ...    ...    ...   ...   ...   ...\n",
       "53935   0.72      Ideal     D     SI1   60.8   57.0   2757  5.75  5.76  3.50\n",
       "53936   0.72       Good     D     SI1   63.1   55.0   2757  5.69  5.75  3.61\n",
       "53937   0.70  Very Good     D     SI1   62.8   60.0   2757  5.66  5.68  3.56\n",
       "53938   0.86    Premium     H     SI2   61.0   58.0   2757  6.15  6.12  3.74\n",
       "53939   0.75      Ideal     D     SI2   62.2   55.0   2757  5.83  5.87  3.64\n",
       "\n",
       "[53940 rows x 10 columns]"
      ]
     },
     "execution_count": 4,
     "metadata": {},
     "output_type": "execute_result"
    }
   ],
   "source": [
    "diamonds"
   ]
  },
  {
   "cell_type": "code",
   "execution_count": 5,
   "id": "f0fd558f",
   "metadata": {},
   "outputs": [
    {
     "name": "stdout",
     "output_type": "stream",
     "text": [
      "<class 'pandas.core.frame.DataFrame'>\n",
      "RangeIndex: 53940 entries, 0 to 53939\n",
      "Data columns (total 10 columns):\n",
      " #   Column   Non-Null Count  Dtype   \n",
      "---  ------   --------------  -----   \n",
      " 0   carat    53940 non-null  float64 \n",
      " 1   cut      53940 non-null  category\n",
      " 2   color    53940 non-null  category\n",
      " 3   clarity  53940 non-null  category\n",
      " 4   depth    53940 non-null  float64 \n",
      " 5   table    53940 non-null  float64 \n",
      " 6   price    53940 non-null  int64   \n",
      " 7   x        53940 non-null  float64 \n",
      " 8   y        53940 non-null  float64 \n",
      " 9   z        53940 non-null  float64 \n",
      "dtypes: category(3), float64(6), int64(1)\n",
      "memory usage: 3.0 MB\n"
     ]
    }
   ],
   "source": [
    "diamonds.info()"
   ]
  },
  {
   "cell_type": "code",
   "execution_count": 6,
   "id": "50c70934",
   "metadata": {},
   "outputs": [
    {
     "data": {
      "text/plain": [
       "carat       float64\n",
       "cut        category\n",
       "color      category\n",
       "clarity    category\n",
       "depth       float64\n",
       "table       float64\n",
       "price         int64\n",
       "x           float64\n",
       "y           float64\n",
       "z           float64\n",
       "dtype: object"
      ]
     },
     "execution_count": 6,
     "metadata": {},
     "output_type": "execute_result"
    }
   ],
   "source": [
    "diamonds.dtypes"
   ]
  },
  {
   "cell_type": "code",
   "execution_count": 7,
   "id": "fa224b86",
   "metadata": {},
   "outputs": [
    {
     "data": {
      "text/html": [
       "<div>\n",
       "<style scoped>\n",
       "    .dataframe tbody tr th:only-of-type {\n",
       "        vertical-align: middle;\n",
       "    }\n",
       "\n",
       "    .dataframe tbody tr th {\n",
       "        vertical-align: top;\n",
       "    }\n",
       "\n",
       "    .dataframe thead th {\n",
       "        text-align: right;\n",
       "    }\n",
       "</style>\n",
       "<table border=\"1\" class=\"dataframe\">\n",
       "  <thead>\n",
       "    <tr style=\"text-align: right;\">\n",
       "      <th></th>\n",
       "      <th>carat</th>\n",
       "      <th>depth</th>\n",
       "      <th>table</th>\n",
       "      <th>price</th>\n",
       "      <th>x</th>\n",
       "      <th>y</th>\n",
       "      <th>z</th>\n",
       "    </tr>\n",
       "  </thead>\n",
       "  <tbody>\n",
       "    <tr>\n",
       "      <th>count</th>\n",
       "      <td>53940.000000</td>\n",
       "      <td>53940.000000</td>\n",
       "      <td>53940.000000</td>\n",
       "      <td>53940.000000</td>\n",
       "      <td>53940.000000</td>\n",
       "      <td>53940.000000</td>\n",
       "      <td>53940.000000</td>\n",
       "    </tr>\n",
       "    <tr>\n",
       "      <th>mean</th>\n",
       "      <td>0.797940</td>\n",
       "      <td>61.749405</td>\n",
       "      <td>57.457184</td>\n",
       "      <td>3932.799722</td>\n",
       "      <td>5.731157</td>\n",
       "      <td>5.734526</td>\n",
       "      <td>3.538734</td>\n",
       "    </tr>\n",
       "    <tr>\n",
       "      <th>std</th>\n",
       "      <td>0.474011</td>\n",
       "      <td>1.432621</td>\n",
       "      <td>2.234491</td>\n",
       "      <td>3989.439738</td>\n",
       "      <td>1.121761</td>\n",
       "      <td>1.142135</td>\n",
       "      <td>0.705699</td>\n",
       "    </tr>\n",
       "    <tr>\n",
       "      <th>min</th>\n",
       "      <td>0.200000</td>\n",
       "      <td>43.000000</td>\n",
       "      <td>43.000000</td>\n",
       "      <td>326.000000</td>\n",
       "      <td>0.000000</td>\n",
       "      <td>0.000000</td>\n",
       "      <td>0.000000</td>\n",
       "    </tr>\n",
       "    <tr>\n",
       "      <th>25%</th>\n",
       "      <td>0.400000</td>\n",
       "      <td>61.000000</td>\n",
       "      <td>56.000000</td>\n",
       "      <td>950.000000</td>\n",
       "      <td>4.710000</td>\n",
       "      <td>4.720000</td>\n",
       "      <td>2.910000</td>\n",
       "    </tr>\n",
       "    <tr>\n",
       "      <th>50%</th>\n",
       "      <td>0.700000</td>\n",
       "      <td>61.800000</td>\n",
       "      <td>57.000000</td>\n",
       "      <td>2401.000000</td>\n",
       "      <td>5.700000</td>\n",
       "      <td>5.710000</td>\n",
       "      <td>3.530000</td>\n",
       "    </tr>\n",
       "    <tr>\n",
       "      <th>75%</th>\n",
       "      <td>1.040000</td>\n",
       "      <td>62.500000</td>\n",
       "      <td>59.000000</td>\n",
       "      <td>5324.250000</td>\n",
       "      <td>6.540000</td>\n",
       "      <td>6.540000</td>\n",
       "      <td>4.040000</td>\n",
       "    </tr>\n",
       "    <tr>\n",
       "      <th>max</th>\n",
       "      <td>5.010000</td>\n",
       "      <td>79.000000</td>\n",
       "      <td>95.000000</td>\n",
       "      <td>18823.000000</td>\n",
       "      <td>10.740000</td>\n",
       "      <td>58.900000</td>\n",
       "      <td>31.800000</td>\n",
       "    </tr>\n",
       "  </tbody>\n",
       "</table>\n",
       "</div>"
      ],
      "text/plain": [
       "              carat         depth         table         price             x  \\\n",
       "count  53940.000000  53940.000000  53940.000000  53940.000000  53940.000000   \n",
       "mean       0.797940     61.749405     57.457184   3932.799722      5.731157   \n",
       "std        0.474011      1.432621      2.234491   3989.439738      1.121761   \n",
       "min        0.200000     43.000000     43.000000    326.000000      0.000000   \n",
       "25%        0.400000     61.000000     56.000000    950.000000      4.710000   \n",
       "50%        0.700000     61.800000     57.000000   2401.000000      5.700000   \n",
       "75%        1.040000     62.500000     59.000000   5324.250000      6.540000   \n",
       "max        5.010000     79.000000     95.000000  18823.000000     10.740000   \n",
       "\n",
       "                  y             z  \n",
       "count  53940.000000  53940.000000  \n",
       "mean       5.734526      3.538734  \n",
       "std        1.142135      0.705699  \n",
       "min        0.000000      0.000000  \n",
       "25%        4.720000      2.910000  \n",
       "50%        5.710000      3.530000  \n",
       "75%        6.540000      4.040000  \n",
       "max       58.900000     31.800000  "
      ]
     },
     "execution_count": 7,
     "metadata": {},
     "output_type": "execute_result"
    }
   ],
   "source": [
    "diamonds.describe()   "
   ]
  },
  {
   "cell_type": "code",
   "execution_count": 8,
   "id": "360b990d",
   "metadata": {},
   "outputs": [
    {
     "data": {
      "text/plain": [
       "carat      0\n",
       "cut        0\n",
       "color      0\n",
       "clarity    0\n",
       "depth      0\n",
       "table      0\n",
       "price      0\n",
       "x          0\n",
       "y          0\n",
       "z          0\n",
       "dtype: int64"
      ]
     },
     "execution_count": 8,
     "metadata": {},
     "output_type": "execute_result"
    }
   ],
   "source": [
    "diamonds.isnull().sum()"
   ]
  },
  {
   "cell_type": "markdown",
   "id": "57184321",
   "metadata": {},
   "source": [
    "From above information we can understand that x,y,z as whole can act as volume but still doesnt affect our model if we drop those columns ass the carat and depth fullfill its function.\n",
    "\n",
    "Thus,creating Dataframe without x,y,z columns."
   ]
  },
  {
   "cell_type": "code",
   "execution_count": 9,
   "id": "c81c5fa1",
   "metadata": {},
   "outputs": [],
   "source": [
    "arr1=[1,2,3,4]\n",
    "arr2=['a','b','c','d']"
   ]
  },
  {
   "cell_type": "code",
   "execution_count": 10,
   "id": "1d227328",
   "metadata": {},
   "outputs": [],
   "source": [
    "arr3=pd.DataFrame({\"col1\":arr1,\"col2\":arr2})"
   ]
  },
  {
   "cell_type": "code",
   "execution_count": 11,
   "id": "6bff2f67",
   "metadata": {},
   "outputs": [
    {
     "data": {
      "text/html": [
       "<div>\n",
       "<style scoped>\n",
       "    .dataframe tbody tr th:only-of-type {\n",
       "        vertical-align: middle;\n",
       "    }\n",
       "\n",
       "    .dataframe tbody tr th {\n",
       "        vertical-align: top;\n",
       "    }\n",
       "\n",
       "    .dataframe thead th {\n",
       "        text-align: right;\n",
       "    }\n",
       "</style>\n",
       "<table border=\"1\" class=\"dataframe\">\n",
       "  <thead>\n",
       "    <tr style=\"text-align: right;\">\n",
       "      <th></th>\n",
       "      <th>col1</th>\n",
       "      <th>col2</th>\n",
       "    </tr>\n",
       "  </thead>\n",
       "  <tbody>\n",
       "    <tr>\n",
       "      <th>0</th>\n",
       "      <td>1</td>\n",
       "      <td>a</td>\n",
       "    </tr>\n",
       "    <tr>\n",
       "      <th>1</th>\n",
       "      <td>2</td>\n",
       "      <td>b</td>\n",
       "    </tr>\n",
       "    <tr>\n",
       "      <th>2</th>\n",
       "      <td>3</td>\n",
       "      <td>c</td>\n",
       "    </tr>\n",
       "    <tr>\n",
       "      <th>3</th>\n",
       "      <td>4</td>\n",
       "      <td>d</td>\n",
       "    </tr>\n",
       "  </tbody>\n",
       "</table>\n",
       "</div>"
      ],
      "text/plain": [
       "   col1 col2\n",
       "0     1    a\n",
       "1     2    b\n",
       "2     3    c\n",
       "3     4    d"
      ]
     },
     "execution_count": 11,
     "metadata": {},
     "output_type": "execute_result"
    }
   ],
   "source": [
    "arr3"
   ]
  },
  {
   "cell_type": "code",
   "execution_count": null,
   "id": "79ea4985",
   "metadata": {},
   "outputs": [],
   "source": []
  },
  {
   "cell_type": "code",
   "execution_count": null,
   "id": "a842dc91",
   "metadata": {},
   "outputs": [],
   "source": []
  },
  {
   "cell_type": "code",
   "execution_count": null,
   "id": "4444caee",
   "metadata": {},
   "outputs": [],
   "source": []
  },
  {
   "cell_type": "code",
   "execution_count": null,
   "id": "05de97f5",
   "metadata": {},
   "outputs": [],
   "source": []
  },
  {
   "cell_type": "code",
   "execution_count": null,
   "id": "686b2215",
   "metadata": {},
   "outputs": [],
   "source": []
  },
  {
   "cell_type": "code",
   "execution_count": 12,
   "id": "1fe27f01",
   "metadata": {},
   "outputs": [],
   "source": [
    "d=pd.DataFrame({\"carat\":diamonds[\"carat\"],\"color\":diamonds[\"color\"],\"clarity\":diamonds[\"clarity\"],\"depth\":diamonds[\"depth\"],\"price\":diamonds[\"price\"]})"
   ]
  },
  {
   "cell_type": "code",
   "execution_count": 13,
   "id": "3fd685a8",
   "metadata": {},
   "outputs": [
    {
     "data": {
      "text/html": [
       "<div>\n",
       "<style scoped>\n",
       "    .dataframe tbody tr th:only-of-type {\n",
       "        vertical-align: middle;\n",
       "    }\n",
       "\n",
       "    .dataframe tbody tr th {\n",
       "        vertical-align: top;\n",
       "    }\n",
       "\n",
       "    .dataframe thead th {\n",
       "        text-align: right;\n",
       "    }\n",
       "</style>\n",
       "<table border=\"1\" class=\"dataframe\">\n",
       "  <thead>\n",
       "    <tr style=\"text-align: right;\">\n",
       "      <th></th>\n",
       "      <th>carat</th>\n",
       "      <th>color</th>\n",
       "      <th>clarity</th>\n",
       "      <th>depth</th>\n",
       "      <th>price</th>\n",
       "    </tr>\n",
       "  </thead>\n",
       "  <tbody>\n",
       "    <tr>\n",
       "      <th>0</th>\n",
       "      <td>0.23</td>\n",
       "      <td>E</td>\n",
       "      <td>SI2</td>\n",
       "      <td>61.5</td>\n",
       "      <td>326</td>\n",
       "    </tr>\n",
       "    <tr>\n",
       "      <th>1</th>\n",
       "      <td>0.21</td>\n",
       "      <td>E</td>\n",
       "      <td>SI1</td>\n",
       "      <td>59.8</td>\n",
       "      <td>326</td>\n",
       "    </tr>\n",
       "    <tr>\n",
       "      <th>2</th>\n",
       "      <td>0.23</td>\n",
       "      <td>E</td>\n",
       "      <td>VS1</td>\n",
       "      <td>56.9</td>\n",
       "      <td>327</td>\n",
       "    </tr>\n",
       "    <tr>\n",
       "      <th>3</th>\n",
       "      <td>0.29</td>\n",
       "      <td>I</td>\n",
       "      <td>VS2</td>\n",
       "      <td>62.4</td>\n",
       "      <td>334</td>\n",
       "    </tr>\n",
       "    <tr>\n",
       "      <th>4</th>\n",
       "      <td>0.31</td>\n",
       "      <td>J</td>\n",
       "      <td>SI2</td>\n",
       "      <td>63.3</td>\n",
       "      <td>335</td>\n",
       "    </tr>\n",
       "    <tr>\n",
       "      <th>...</th>\n",
       "      <td>...</td>\n",
       "      <td>...</td>\n",
       "      <td>...</td>\n",
       "      <td>...</td>\n",
       "      <td>...</td>\n",
       "    </tr>\n",
       "    <tr>\n",
       "      <th>53935</th>\n",
       "      <td>0.72</td>\n",
       "      <td>D</td>\n",
       "      <td>SI1</td>\n",
       "      <td>60.8</td>\n",
       "      <td>2757</td>\n",
       "    </tr>\n",
       "    <tr>\n",
       "      <th>53936</th>\n",
       "      <td>0.72</td>\n",
       "      <td>D</td>\n",
       "      <td>SI1</td>\n",
       "      <td>63.1</td>\n",
       "      <td>2757</td>\n",
       "    </tr>\n",
       "    <tr>\n",
       "      <th>53937</th>\n",
       "      <td>0.70</td>\n",
       "      <td>D</td>\n",
       "      <td>SI1</td>\n",
       "      <td>62.8</td>\n",
       "      <td>2757</td>\n",
       "    </tr>\n",
       "    <tr>\n",
       "      <th>53938</th>\n",
       "      <td>0.86</td>\n",
       "      <td>H</td>\n",
       "      <td>SI2</td>\n",
       "      <td>61.0</td>\n",
       "      <td>2757</td>\n",
       "    </tr>\n",
       "    <tr>\n",
       "      <th>53939</th>\n",
       "      <td>0.75</td>\n",
       "      <td>D</td>\n",
       "      <td>SI2</td>\n",
       "      <td>62.2</td>\n",
       "      <td>2757</td>\n",
       "    </tr>\n",
       "  </tbody>\n",
       "</table>\n",
       "<p>53940 rows × 5 columns</p>\n",
       "</div>"
      ],
      "text/plain": [
       "       carat color clarity  depth  price\n",
       "0       0.23     E     SI2   61.5    326\n",
       "1       0.21     E     SI1   59.8    326\n",
       "2       0.23     E     VS1   56.9    327\n",
       "3       0.29     I     VS2   62.4    334\n",
       "4       0.31     J     SI2   63.3    335\n",
       "...      ...   ...     ...    ...    ...\n",
       "53935   0.72     D     SI1   60.8   2757\n",
       "53936   0.72     D     SI1   63.1   2757\n",
       "53937   0.70     D     SI1   62.8   2757\n",
       "53938   0.86     H     SI2   61.0   2757\n",
       "53939   0.75     D     SI2   62.2   2757\n",
       "\n",
       "[53940 rows x 5 columns]"
      ]
     },
     "execution_count": 13,
     "metadata": {},
     "output_type": "execute_result"
    }
   ],
   "source": [
    "d"
   ]
  },
  {
   "cell_type": "code",
   "execution_count": 14,
   "id": "b2fd60fc",
   "metadata": {},
   "outputs": [
    {
     "data": {
      "image/png": "[encoded data removed]",
      "text/plain": [
       "<Figure size 750x750 with 12 Axes>"
      ]
     },
     "metadata": {},
     "output_type": "display_data"
    }
   ],
   "source": [
    "g = sns.pairplot(d)\n",
    "plt.show()"
   ]
  },
  {
   "cell_type": "markdown",
   "id": "47260afa",
   "metadata": {},
   "source": [
    "Result: As the carat increases the price also increases (Directly propotional)"
   ]
  },
  {
   "cell_type": "markdown",
   "id": "dc85de8d",
   "metadata": {},
   "source": [
    "Expanded view of carat against price plot "
   ]
  },
  {
   "cell_type": "code",
   "execution_count": 15,
   "id": "804abb17",
   "metadata": {},
   "outputs": [
    {
     "data": {
      "image/png": "[encoded data removed]",
      "text/plain": [
       "<Figure size 640x480 with 1 Axes>"
      ]
     },
     "metadata": {},
     "output_type": "display_data"
    }
   ],
   "source": [
    "plt.scatter(d['carat'],d['price'])\n",
    "plt.plot(d['carat'],d['price'])\n",
    "plt.xlabel('carat')\n",
    "plt.ylabel('price')\n",
    "plt.show()"
   ]
  },
  {
   "cell_type": "code",
   "execution_count": 16,
   "id": "4f1e12e1",
   "metadata": {},
   "outputs": [
    {
     "data": {
      "text/plain": [
       "G    11292\n",
       "E     9797\n",
       "F     9542\n",
       "H     8304\n",
       "D     6775\n",
       "I     5422\n",
       "J     2808\n",
       "Name: color, dtype: int64"
      ]
     },
     "execution_count": 16,
     "metadata": {},
     "output_type": "execute_result"
    }
   ],
   "source": [
    "d[\"color\"].value_counts()"
   ]
  },
  {
   "cell_type": "code",
   "execution_count": 17,
   "id": "5bc815ad",
   "metadata": {},
   "outputs": [
    {
     "data": {
      "text/plain": [
       "SI1     13065\n",
       "VS2     12258\n",
       "SI2      9194\n",
       "VS1      8171\n",
       "VVS2     5066\n",
       "VVS1     3655\n",
       "IF       1790\n",
       "I1        741\n",
       "Name: clarity, dtype: int64"
      ]
     },
     "execution_count": 17,
     "metadata": {},
     "output_type": "execute_result"
    }
   ],
   "source": [
    "d[\"clarity\"].value_counts()"
   ]
  },
  {
   "cell_type": "markdown",
   "id": "e2ac5e58",
   "metadata": {},
   "source": [
    "Result : As color and clarity are categorical with minimum no. of classes, we can proceed with label encoding "
   ]
  },
  {
   "cell_type": "markdown",
   "id": "9c470db2",
   "metadata": {},
   "source": [
    "### Label Encoding\n",
    "Converting the categorical dt into int by labeling each class with one number."
   ]
  },
  {
   "cell_type": "code",
   "execution_count": 18,
   "id": "6e702583",
   "metadata": {},
   "outputs": [
    {
     "data": {
      "text/html": [
       "<div>\n",
       "<style scoped>\n",
       "    .dataframe tbody tr th:only-of-type {\n",
       "        vertical-align: middle;\n",
       "    }\n",
       "\n",
       "    .dataframe tbody tr th {\n",
       "        vertical-align: top;\n",
       "    }\n",
       "\n",
       "    .dataframe thead th {\n",
       "        text-align: right;\n",
       "    }\n",
       "</style>\n",
       "<table border=\"1\" class=\"dataframe\">\n",
       "  <thead>\n",
       "    <tr style=\"text-align: right;\">\n",
       "      <th></th>\n",
       "      <th>carat</th>\n",
       "      <th>color</th>\n",
       "      <th>clarity</th>\n",
       "      <th>depth</th>\n",
       "      <th>price</th>\n",
       "    </tr>\n",
       "  </thead>\n",
       "  <tbody>\n",
       "    <tr>\n",
       "      <th>0</th>\n",
       "      <td>0.23</td>\n",
       "      <td>1</td>\n",
       "      <td>6</td>\n",
       "      <td>61.5</td>\n",
       "      <td>326</td>\n",
       "    </tr>\n",
       "    <tr>\n",
       "      <th>1</th>\n",
       "      <td>0.21</td>\n",
       "      <td>1</td>\n",
       "      <td>5</td>\n",
       "      <td>59.8</td>\n",
       "      <td>326</td>\n",
       "    </tr>\n",
       "    <tr>\n",
       "      <th>2</th>\n",
       "      <td>0.23</td>\n",
       "      <td>1</td>\n",
       "      <td>3</td>\n",
       "      <td>56.9</td>\n",
       "      <td>327</td>\n",
       "    </tr>\n",
       "    <tr>\n",
       "      <th>3</th>\n",
       "      <td>0.29</td>\n",
       "      <td>5</td>\n",
       "      <td>4</td>\n",
       "      <td>62.4</td>\n",
       "      <td>334</td>\n",
       "    </tr>\n",
       "    <tr>\n",
       "      <th>4</th>\n",
       "      <td>0.31</td>\n",
       "      <td>6</td>\n",
       "      <td>6</td>\n",
       "      <td>63.3</td>\n",
       "      <td>335</td>\n",
       "    </tr>\n",
       "    <tr>\n",
       "      <th>...</th>\n",
       "      <td>...</td>\n",
       "      <td>...</td>\n",
       "      <td>...</td>\n",
       "      <td>...</td>\n",
       "      <td>...</td>\n",
       "    </tr>\n",
       "    <tr>\n",
       "      <th>53935</th>\n",
       "      <td>0.72</td>\n",
       "      <td>0</td>\n",
       "      <td>5</td>\n",
       "      <td>60.8</td>\n",
       "      <td>2757</td>\n",
       "    </tr>\n",
       "    <tr>\n",
       "      <th>53936</th>\n",
       "      <td>0.72</td>\n",
       "      <td>0</td>\n",
       "      <td>5</td>\n",
       "      <td>63.1</td>\n",
       "      <td>2757</td>\n",
       "    </tr>\n",
       "    <tr>\n",
       "      <th>53937</th>\n",
       "      <td>0.70</td>\n",
       "      <td>0</td>\n",
       "      <td>5</td>\n",
       "      <td>62.8</td>\n",
       "      <td>2757</td>\n",
       "    </tr>\n",
       "    <tr>\n",
       "      <th>53938</th>\n",
       "      <td>0.86</td>\n",
       "      <td>4</td>\n",
       "      <td>6</td>\n",
       "      <td>61.0</td>\n",
       "      <td>2757</td>\n",
       "    </tr>\n",
       "    <tr>\n",
       "      <th>53939</th>\n",
       "      <td>0.75</td>\n",
       "      <td>0</td>\n",
       "      <td>6</td>\n",
       "      <td>62.2</td>\n",
       "      <td>2757</td>\n",
       "    </tr>\n",
       "  </tbody>\n",
       "</table>\n",
       "<p>53940 rows × 5 columns</p>\n",
       "</div>"
      ],
      "text/plain": [
       "       carat  color  clarity  depth  price\n",
       "0       0.23      1        6   61.5    326\n",
       "1       0.21      1        5   59.8    326\n",
       "2       0.23      1        3   56.9    327\n",
       "3       0.29      5        4   62.4    334\n",
       "4       0.31      6        6   63.3    335\n",
       "...      ...    ...      ...    ...    ...\n",
       "53935   0.72      0        5   60.8   2757\n",
       "53936   0.72      0        5   63.1   2757\n",
       "53937   0.70      0        5   62.8   2757\n",
       "53938   0.86      4        6   61.0   2757\n",
       "53939   0.75      0        6   62.2   2757\n",
       "\n",
       "[53940 rows x 5 columns]"
      ]
     },
     "execution_count": 18,
     "metadata": {},
     "output_type": "execute_result"
    }
   ],
   "source": [
    "d['clarity'] = pd.Categorical(d['clarity']).codes\n",
    "d['color'] = pd.Categorical(d['color']).codes\n",
    "d"
   ]
  },
  {
   "cell_type": "code",
   "execution_count": 19,
   "id": "6f6510d3",
   "metadata": {},
   "outputs": [
    {
     "data": {
      "text/plain": [
       "5    13065\n",
       "4    12258\n",
       "6     9194\n",
       "3     8171\n",
       "2     5066\n",
       "1     3655\n",
       "0     1790\n",
       "7      741\n",
       "Name: clarity, dtype: int64"
      ]
     },
     "execution_count": 19,
     "metadata": {},
     "output_type": "execute_result"
    }
   ],
   "source": [
    "d[\"clarity\"].value_counts()"
   ]
  },
  {
   "cell_type": "code",
   "execution_count": 20,
   "id": "907b2afc",
   "metadata": {},
   "outputs": [
    {
     "data": {
      "text/plain": [
       "carat      float64\n",
       "color         int8\n",
       "clarity       int8\n",
       "depth      float64\n",
       "price        int64\n",
       "dtype: object"
      ]
     },
     "execution_count": 20,
     "metadata": {},
     "output_type": "execute_result"
    }
   ],
   "source": [
    "d.dtypes"
   ]
  },
  {
   "cell_type": "markdown",
   "id": "985cba60",
   "metadata": {},
   "source": [
    "Result : Categorical dt is successfully converted into int  "
   ]
  },
  {
   "cell_type": "markdown",
   "id": "ca38f095",
   "metadata": {},
   "source": [
    "### Splitting the Numerical and categorical parameters"
   ]
  },
  {
   "cell_type": "code",
   "execution_count": 21,
   "id": "576f1bfb",
   "metadata": {},
   "outputs": [],
   "source": [
    "num_data = d.select_dtypes(include = np.number)  \n",
    "cat_data = d.select_dtypes(include = \"category\")"
   ]
  },
  {
   "cell_type": "code",
   "execution_count": 22,
   "id": "3392e4ad",
   "metadata": {},
   "outputs": [
    {
     "data": {
      "text/html": [
       "<div>\n",
       "<style scoped>\n",
       "    .dataframe tbody tr th:only-of-type {\n",
       "        vertical-align: middle;\n",
       "    }\n",
       "\n",
       "    .dataframe tbody tr th {\n",
       "        vertical-align: top;\n",
       "    }\n",
       "\n",
       "    .dataframe thead th {\n",
       "        text-align: right;\n",
       "    }\n",
       "</style>\n",
       "<table border=\"1\" class=\"dataframe\">\n",
       "  <thead>\n",
       "    <tr style=\"text-align: right;\">\n",
       "      <th></th>\n",
       "      <th>carat</th>\n",
       "      <th>color</th>\n",
       "      <th>clarity</th>\n",
       "      <th>depth</th>\n",
       "      <th>price</th>\n",
       "    </tr>\n",
       "  </thead>\n",
       "  <tbody>\n",
       "    <tr>\n",
       "      <th>0</th>\n",
       "      <td>0.23</td>\n",
       "      <td>1</td>\n",
       "      <td>6</td>\n",
       "      <td>61.5</td>\n",
       "      <td>326</td>\n",
       "    </tr>\n",
       "    <tr>\n",
       "      <th>1</th>\n",
       "      <td>0.21</td>\n",
       "      <td>1</td>\n",
       "      <td>5</td>\n",
       "      <td>59.8</td>\n",
       "      <td>326</td>\n",
       "    </tr>\n",
       "    <tr>\n",
       "      <th>2</th>\n",
       "      <td>0.23</td>\n",
       "      <td>1</td>\n",
       "      <td>3</td>\n",
       "      <td>56.9</td>\n",
       "      <td>327</td>\n",
       "    </tr>\n",
       "    <tr>\n",
       "      <th>3</th>\n",
       "      <td>0.29</td>\n",
       "      <td>5</td>\n",
       "      <td>4</td>\n",
       "      <td>62.4</td>\n",
       "      <td>334</td>\n",
       "    </tr>\n",
       "    <tr>\n",
       "      <th>4</th>\n",
       "      <td>0.31</td>\n",
       "      <td>6</td>\n",
       "      <td>6</td>\n",
       "      <td>63.3</td>\n",
       "      <td>335</td>\n",
       "    </tr>\n",
       "  </tbody>\n",
       "</table>\n",
       "</div>"
      ],
      "text/plain": [
       "   carat  color  clarity  depth  price\n",
       "0   0.23      1        6   61.5    326\n",
       "1   0.21      1        5   59.8    326\n",
       "2   0.23      1        3   56.9    327\n",
       "3   0.29      5        4   62.4    334\n",
       "4   0.31      6        6   63.3    335"
      ]
     },
     "execution_count": 22,
     "metadata": {},
     "output_type": "execute_result"
    }
   ],
   "source": [
    "num_data.head()"
   ]
  },
  {
   "cell_type": "code",
   "execution_count": 23,
   "id": "70d86035",
   "metadata": {},
   "outputs": [
    {
     "data": {
      "text/html": [
       "<div>\n",
       "<style scoped>\n",
       "    .dataframe tbody tr th:only-of-type {\n",
       "        vertical-align: middle;\n",
       "    }\n",
       "\n",
       "    .dataframe tbody tr th {\n",
       "        vertical-align: top;\n",
       "    }\n",
       "\n",
       "    .dataframe thead th {\n",
       "        text-align: right;\n",
       "    }\n",
       "</style>\n",
       "<table border=\"1\" class=\"dataframe\">\n",
       "  <thead>\n",
       "    <tr style=\"text-align: right;\">\n",
       "      <th></th>\n",
       "      <th>carat</th>\n",
       "      <th>color</th>\n",
       "      <th>clarity</th>\n",
       "      <th>depth</th>\n",
       "      <th>price</th>\n",
       "    </tr>\n",
       "  </thead>\n",
       "  <tbody>\n",
       "    <tr>\n",
       "      <th>count</th>\n",
       "      <td>53940.000000</td>\n",
       "      <td>53940.000000</td>\n",
       "      <td>53940.000000</td>\n",
       "      <td>53940.000000</td>\n",
       "      <td>53940.000000</td>\n",
       "    </tr>\n",
       "    <tr>\n",
       "      <th>mean</th>\n",
       "      <td>0.797940</td>\n",
       "      <td>2.594197</td>\n",
       "      <td>3.948980</td>\n",
       "      <td>61.749405</td>\n",
       "      <td>3932.799722</td>\n",
       "    </tr>\n",
       "    <tr>\n",
       "      <th>std</th>\n",
       "      <td>0.474011</td>\n",
       "      <td>1.701105</td>\n",
       "      <td>1.647136</td>\n",
       "      <td>1.432621</td>\n",
       "      <td>3989.439738</td>\n",
       "    </tr>\n",
       "    <tr>\n",
       "      <th>min</th>\n",
       "      <td>0.200000</td>\n",
       "      <td>0.000000</td>\n",
       "      <td>0.000000</td>\n",
       "      <td>43.000000</td>\n",
       "      <td>326.000000</td>\n",
       "    </tr>\n",
       "    <tr>\n",
       "      <th>25%</th>\n",
       "      <td>0.400000</td>\n",
       "      <td>1.000000</td>\n",
       "      <td>3.000000</td>\n",
       "      <td>61.000000</td>\n",
       "      <td>950.000000</td>\n",
       "    </tr>\n",
       "    <tr>\n",
       "      <th>50%</th>\n",
       "      <td>0.700000</td>\n",
       "      <td>3.000000</td>\n",
       "      <td>4.000000</td>\n",
       "      <td>61.800000</td>\n",
       "      <td>2401.000000</td>\n",
       "    </tr>\n",
       "    <tr>\n",
       "      <th>75%</th>\n",
       "      <td>1.040000</td>\n",
       "      <td>4.000000</td>\n",
       "      <td>5.000000</td>\n",
       "      <td>62.500000</td>\n",
       "      <td>5324.250000</td>\n",
       "    </tr>\n",
       "    <tr>\n",
       "      <th>max</th>\n",
       "      <td>5.010000</td>\n",
       "      <td>6.000000</td>\n",
       "      <td>7.000000</td>\n",
       "      <td>79.000000</td>\n",
       "      <td>18823.000000</td>\n",
       "    </tr>\n",
       "  </tbody>\n",
       "</table>\n",
       "</div>"
      ],
      "text/plain": [
       "              carat         color       clarity         depth         price\n",
       "count  53940.000000  53940.000000  53940.000000  53940.000000  53940.000000\n",
       "mean       0.797940      2.594197      3.948980     61.749405   3932.799722\n",
       "std        0.474011      1.701105      1.647136      1.432621   3989.439738\n",
       "min        0.200000      0.000000      0.000000     43.000000    326.000000\n",
       "25%        0.400000      1.000000      3.000000     61.000000    950.000000\n",
       "50%        0.700000      3.000000      4.000000     61.800000   2401.000000\n",
       "75%        1.040000      4.000000      5.000000     62.500000   5324.250000\n",
       "max        5.010000      6.000000      7.000000     79.000000  18823.000000"
      ]
     },
     "execution_count": 23,
     "metadata": {},
     "output_type": "execute_result"
    }
   ],
   "source": [
    "num_data.describe()"
   ]
  },
  {
   "cell_type": "markdown",
   "id": "4cb43187",
   "metadata": {},
   "source": [
    "### Scaling the Numerical variables "
   ]
  },
  {
   "cell_type": "code",
   "execution_count": 24,
   "id": "b07b78f1",
   "metadata": {},
   "outputs": [],
   "source": [
    "from sklearn.preprocessing import StandardScaler"
   ]
  },
  {
   "cell_type": "code",
   "execution_count": 25,
   "id": "5d8a47c2",
   "metadata": {},
   "outputs": [],
   "source": [
    "sc = StandardScaler()"
   ]
  },
  {
   "cell_type": "code",
   "execution_count": 26,
   "id": "3b93fcc1",
   "metadata": {},
   "outputs": [],
   "source": [
    "num_data_sc = sc.fit_transform(num_data)"
   ]
  },
  {
   "cell_type": "code",
   "execution_count": 27,
   "id": "0f5eb5d2",
   "metadata": {},
   "outputs": [],
   "source": [
    "num_data_sc = pd.DataFrame(num_data_sc, columns=(num_data.columns))"
   ]
  },
  {
   "cell_type": "code",
   "execution_count": 28,
   "id": "af1c23b7",
   "metadata": {},
   "outputs": [
    {
     "data": {
      "text/html": [
       "<div>\n",
       "<style scoped>\n",
       "    .dataframe tbody tr th:only-of-type {\n",
       "        vertical-align: middle;\n",
       "    }\n",
       "\n",
       "    .dataframe tbody tr th {\n",
       "        vertical-align: top;\n",
       "    }\n",
       "\n",
       "    .dataframe thead th {\n",
       "        text-align: right;\n",
       "    }\n",
       "</style>\n",
       "<table border=\"1\" class=\"dataframe\">\n",
       "  <thead>\n",
       "    <tr style=\"text-align: right;\">\n",
       "      <th></th>\n",
       "      <th>carat</th>\n",
       "      <th>color</th>\n",
       "      <th>clarity</th>\n",
       "      <th>depth</th>\n",
       "      <th>price</th>\n",
       "    </tr>\n",
       "  </thead>\n",
       "  <tbody>\n",
       "    <tr>\n",
       "      <th>0</th>\n",
       "      <td>-1.198168</td>\n",
       "      <td>-0.937163</td>\n",
       "      <td>1.245215</td>\n",
       "      <td>-0.174092</td>\n",
       "      <td>-0.904095</td>\n",
       "    </tr>\n",
       "    <tr>\n",
       "      <th>1</th>\n",
       "      <td>-1.240361</td>\n",
       "      <td>-0.937163</td>\n",
       "      <td>0.638095</td>\n",
       "      <td>-1.360738</td>\n",
       "      <td>-0.904095</td>\n",
       "    </tr>\n",
       "    <tr>\n",
       "      <th>2</th>\n",
       "      <td>-1.198168</td>\n",
       "      <td>-0.937163</td>\n",
       "      <td>-0.576145</td>\n",
       "      <td>-3.385019</td>\n",
       "      <td>-0.903844</td>\n",
       "    </tr>\n",
       "    <tr>\n",
       "      <th>3</th>\n",
       "      <td>-1.071587</td>\n",
       "      <td>1.414272</td>\n",
       "      <td>0.030975</td>\n",
       "      <td>0.454133</td>\n",
       "      <td>-0.902090</td>\n",
       "    </tr>\n",
       "    <tr>\n",
       "      <th>4</th>\n",
       "      <td>-1.029394</td>\n",
       "      <td>2.002131</td>\n",
       "      <td>1.245215</td>\n",
       "      <td>1.082358</td>\n",
       "      <td>-0.901839</td>\n",
       "    </tr>\n",
       "  </tbody>\n",
       "</table>\n",
       "</div>"
      ],
      "text/plain": [
       "      carat     color   clarity     depth     price\n",
       "0 -1.198168 -0.937163  1.245215 -0.174092 -0.904095\n",
       "1 -1.240361 -0.937163  0.638095 -1.360738 -0.904095\n",
       "2 -1.198168 -0.937163 -0.576145 -3.385019 -0.903844\n",
       "3 -1.071587  1.414272  0.030975  0.454133 -0.902090\n",
       "4 -1.029394  2.002131  1.245215  1.082358 -0.901839"
      ]
     },
     "execution_count": 28,
     "metadata": {},
     "output_type": "execute_result"
    }
   ],
   "source": [
    "num_data_sc.head()"
   ]
  },
  {
   "cell_type": "code",
   "execution_count": 29,
   "id": "a3244386",
   "metadata": {},
   "outputs": [
    {
     "data": {
      "text/html": [
       "<div>\n",
       "<style scoped>\n",
       "    .dataframe tbody tr th:only-of-type {\n",
       "        vertical-align: middle;\n",
       "    }\n",
       "\n",
       "    .dataframe tbody tr th {\n",
       "        vertical-align: top;\n",
       "    }\n",
       "\n",
       "    .dataframe thead th {\n",
       "        text-align: right;\n",
       "    }\n",
       "</style>\n",
       "<table border=\"1\" class=\"dataframe\">\n",
       "  <thead>\n",
       "    <tr style=\"text-align: right;\">\n",
       "      <th></th>\n",
       "      <th>carat</th>\n",
       "      <th>color</th>\n",
       "      <th>clarity</th>\n",
       "      <th>depth</th>\n",
       "      <th>price</th>\n",
       "    </tr>\n",
       "  </thead>\n",
       "  <tbody>\n",
       "    <tr>\n",
       "      <th>count</th>\n",
       "      <td>5.394000e+04</td>\n",
       "      <td>5.394000e+04</td>\n",
       "      <td>5.394000e+04</td>\n",
       "      <td>5.394000e+04</td>\n",
       "      <td>5.394000e+04</td>\n",
       "    </tr>\n",
       "    <tr>\n",
       "      <th>mean</th>\n",
       "      <td>2.444878e-16</td>\n",
       "      <td>-1.338360e-16</td>\n",
       "      <td>8.114467e-17</td>\n",
       "      <td>-3.996902e-15</td>\n",
       "      <td>-9.273676e-17</td>\n",
       "    </tr>\n",
       "    <tr>\n",
       "      <th>std</th>\n",
       "      <td>1.000009e+00</td>\n",
       "      <td>1.000009e+00</td>\n",
       "      <td>1.000009e+00</td>\n",
       "      <td>1.000009e+00</td>\n",
       "      <td>1.000009e+00</td>\n",
       "    </tr>\n",
       "    <tr>\n",
       "      <th>min</th>\n",
       "      <td>-1.261458e+00</td>\n",
       "      <td>-1.525021e+00</td>\n",
       "      <td>-2.397505e+00</td>\n",
       "      <td>-1.308760e+01</td>\n",
       "      <td>-9.040952e-01</td>\n",
       "    </tr>\n",
       "    <tr>\n",
       "      <th>25%</th>\n",
       "      <td>-8.395232e-01</td>\n",
       "      <td>-9.371628e-01</td>\n",
       "      <td>-5.761450e-01</td>\n",
       "      <td>-5.231053e-01</td>\n",
       "      <td>-7.476808e-01</td>\n",
       "    </tr>\n",
       "    <tr>\n",
       "      <th>50%</th>\n",
       "      <td>-2.066210e-01</td>\n",
       "      <td>2.385547e-01</td>\n",
       "      <td>3.097505e-02</td>\n",
       "      <td>3.531678e-02</td>\n",
       "      <td>-3.839672e-01</td>\n",
       "    </tr>\n",
       "    <tr>\n",
       "      <th>75%</th>\n",
       "      <td>5.106683e-01</td>\n",
       "      <td>8.264134e-01</td>\n",
       "      <td>6.380951e-01</td>\n",
       "      <td>5.239361e-01</td>\n",
       "      <td>3.487866e-01</td>\n",
       "    </tr>\n",
       "    <tr>\n",
       "      <th>max</th>\n",
       "      <td>8.886075e+00</td>\n",
       "      <td>2.002131e+00</td>\n",
       "      <td>1.852335e+00</td>\n",
       "      <td>1.204139e+01</td>\n",
       "      <td>3.732438e+00</td>\n",
       "    </tr>\n",
       "  </tbody>\n",
       "</table>\n",
       "</div>"
      ],
      "text/plain": [
       "              carat         color       clarity         depth         price\n",
       "count  5.394000e+04  5.394000e+04  5.394000e+04  5.394000e+04  5.394000e+04\n",
       "mean   2.444878e-16 -1.338360e-16  8.114467e-17 -3.996902e-15 -9.273676e-17\n",
       "std    1.000009e+00  1.000009e+00  1.000009e+00  1.000009e+00  1.000009e+00\n",
       "min   -1.261458e+00 -1.525021e+00 -2.397505e+00 -1.308760e+01 -9.040952e-01\n",
       "25%   -8.395232e-01 -9.371628e-01 -5.761450e-01 -5.231053e-01 -7.476808e-01\n",
       "50%   -2.066210e-01  2.385547e-01  3.097505e-02  3.531678e-02 -3.839672e-01\n",
       "75%    5.106683e-01  8.264134e-01  6.380951e-01  5.239361e-01  3.487866e-01\n",
       "max    8.886075e+00  2.002131e+00  1.852335e+00  1.204139e+01  3.732438e+00"
      ]
     },
     "execution_count": 29,
     "metadata": {},
     "output_type": "execute_result"
    }
   ],
   "source": [
    "num_data_sc.describe()"
   ]
  },
  {
   "cell_type": "markdown",
   "id": "d545dfa1",
   "metadata": {},
   "source": [
    "### Concatenating both Numeric and categoric tables together "
   ]
  },
  {
   "cell_type": "code",
   "execution_count": 30,
   "id": "993a9cb5",
   "metadata": {},
   "outputs": [],
   "source": [
    "data = pd.concat([num_data_sc, cat_data], axis = 1)"
   ]
  },
  {
   "cell_type": "code",
   "execution_count": 31,
   "id": "4336e0a1",
   "metadata": {},
   "outputs": [
    {
     "data": {
      "text/html": [
       "<div>\n",
       "<style scoped>\n",
       "    .dataframe tbody tr th:only-of-type {\n",
       "        vertical-align: middle;\n",
       "    }\n",
       "\n",
       "    .dataframe tbody tr th {\n",
       "        vertical-align: top;\n",
       "    }\n",
       "\n",
       "    .dataframe thead th {\n",
       "        text-align: right;\n",
       "    }\n",
       "</style>\n",
       "<table border=\"1\" class=\"dataframe\">\n",
       "  <thead>\n",
       "    <tr style=\"text-align: right;\">\n",
       "      <th></th>\n",
       "      <th>carat</th>\n",
       "      <th>color</th>\n",
       "      <th>clarity</th>\n",
       "      <th>depth</th>\n",
       "      <th>price</th>\n",
       "    </tr>\n",
       "  </thead>\n",
       "  <tbody>\n",
       "    <tr>\n",
       "      <th>0</th>\n",
       "      <td>-1.198168</td>\n",
       "      <td>-0.937163</td>\n",
       "      <td>1.245215</td>\n",
       "      <td>-0.174092</td>\n",
       "      <td>-0.904095</td>\n",
       "    </tr>\n",
       "    <tr>\n",
       "      <th>1</th>\n",
       "      <td>-1.240361</td>\n",
       "      <td>-0.937163</td>\n",
       "      <td>0.638095</td>\n",
       "      <td>-1.360738</td>\n",
       "      <td>-0.904095</td>\n",
       "    </tr>\n",
       "    <tr>\n",
       "      <th>2</th>\n",
       "      <td>-1.198168</td>\n",
       "      <td>-0.937163</td>\n",
       "      <td>-0.576145</td>\n",
       "      <td>-3.385019</td>\n",
       "      <td>-0.903844</td>\n",
       "    </tr>\n",
       "    <tr>\n",
       "      <th>3</th>\n",
       "      <td>-1.071587</td>\n",
       "      <td>1.414272</td>\n",
       "      <td>0.030975</td>\n",
       "      <td>0.454133</td>\n",
       "      <td>-0.902090</td>\n",
       "    </tr>\n",
       "    <tr>\n",
       "      <th>4</th>\n",
       "      <td>-1.029394</td>\n",
       "      <td>2.002131</td>\n",
       "      <td>1.245215</td>\n",
       "      <td>1.082358</td>\n",
       "      <td>-0.901839</td>\n",
       "    </tr>\n",
       "  </tbody>\n",
       "</table>\n",
       "</div>"
      ],
      "text/plain": [
       "      carat     color   clarity     depth     price\n",
       "0 -1.198168 -0.937163  1.245215 -0.174092 -0.904095\n",
       "1 -1.240361 -0.937163  0.638095 -1.360738 -0.904095\n",
       "2 -1.198168 -0.937163 -0.576145 -3.385019 -0.903844\n",
       "3 -1.071587  1.414272  0.030975  0.454133 -0.902090\n",
       "4 -1.029394  2.002131  1.245215  1.082358 -0.901839"
      ]
     },
     "execution_count": 31,
     "metadata": {},
     "output_type": "execute_result"
    }
   ],
   "source": [
    "data.head()"
   ]
  },
  {
   "cell_type": "markdown",
   "id": "a1eb9b3d",
   "metadata": {},
   "source": [
    "### Splitting the independent and dependent variablese"
   ]
  },
  {
   "cell_type": "code",
   "execution_count": 32,
   "id": "ccd5c3c2",
   "metadata": {},
   "outputs": [
    {
     "data": {
      "text/html": [
       "<div>\n",
       "<style scoped>\n",
       "    .dataframe tbody tr th:only-of-type {\n",
       "        vertical-align: middle;\n",
       "    }\n",
       "\n",
       "    .dataframe tbody tr th {\n",
       "        vertical-align: top;\n",
       "    }\n",
       "\n",
       "    .dataframe thead th {\n",
       "        text-align: right;\n",
       "    }\n",
       "</style>\n",
       "<table border=\"1\" class=\"dataframe\">\n",
       "  <thead>\n",
       "    <tr style=\"text-align: right;\">\n",
       "      <th></th>\n",
       "      <th>carat</th>\n",
       "      <th>color</th>\n",
       "      <th>clarity</th>\n",
       "      <th>depth</th>\n",
       "    </tr>\n",
       "  </thead>\n",
       "  <tbody>\n",
       "    <tr>\n",
       "      <th>0</th>\n",
       "      <td>-1.198168</td>\n",
       "      <td>-0.937163</td>\n",
       "      <td>1.245215</td>\n",
       "      <td>-0.174092</td>\n",
       "    </tr>\n",
       "    <tr>\n",
       "      <th>1</th>\n",
       "      <td>-1.240361</td>\n",
       "      <td>-0.937163</td>\n",
       "      <td>0.638095</td>\n",
       "      <td>-1.360738</td>\n",
       "    </tr>\n",
       "    <tr>\n",
       "      <th>2</th>\n",
       "      <td>-1.198168</td>\n",
       "      <td>-0.937163</td>\n",
       "      <td>-0.576145</td>\n",
       "      <td>-3.385019</td>\n",
       "    </tr>\n",
       "    <tr>\n",
       "      <th>3</th>\n",
       "      <td>-1.071587</td>\n",
       "      <td>1.414272</td>\n",
       "      <td>0.030975</td>\n",
       "      <td>0.454133</td>\n",
       "    </tr>\n",
       "    <tr>\n",
       "      <th>4</th>\n",
       "      <td>-1.029394</td>\n",
       "      <td>2.002131</td>\n",
       "      <td>1.245215</td>\n",
       "      <td>1.082358</td>\n",
       "    </tr>\n",
       "  </tbody>\n",
       "</table>\n",
       "</div>"
      ],
      "text/plain": [
       "      carat     color   clarity     depth\n",
       "0 -1.198168 -0.937163  1.245215 -0.174092\n",
       "1 -1.240361 -0.937163  0.638095 -1.360738\n",
       "2 -1.198168 -0.937163 -0.576145 -3.385019\n",
       "3 -1.071587  1.414272  0.030975  0.454133\n",
       "4 -1.029394  2.002131  1.245215  1.082358"
      ]
     },
     "execution_count": 32,
     "metadata": {},
     "output_type": "execute_result"
    }
   ],
   "source": [
    "x = data.drop('price',axis=1) # Independent Variables\n",
    "x.head()   "
   ]
  },
  {
   "cell_type": "code",
   "execution_count": 33,
   "id": "d4e7e8a7",
   "metadata": {},
   "outputs": [
    {
     "data": {
      "text/html": [
       "<div>\n",
       "<style scoped>\n",
       "    .dataframe tbody tr th:only-of-type {\n",
       "        vertical-align: middle;\n",
       "    }\n",
       "\n",
       "    .dataframe tbody tr th {\n",
       "        vertical-align: top;\n",
       "    }\n",
       "\n",
       "    .dataframe thead th {\n",
       "        text-align: right;\n",
       "    }\n",
       "</style>\n",
       "<table border=\"1\" class=\"dataframe\">\n",
       "  <thead>\n",
       "    <tr style=\"text-align: right;\">\n",
       "      <th></th>\n",
       "      <th>price</th>\n",
       "    </tr>\n",
       "  </thead>\n",
       "  <tbody>\n",
       "    <tr>\n",
       "      <th>0</th>\n",
       "      <td>-0.904095</td>\n",
       "    </tr>\n",
       "    <tr>\n",
       "      <th>1</th>\n",
       "      <td>-0.904095</td>\n",
       "    </tr>\n",
       "    <tr>\n",
       "      <th>2</th>\n",
       "      <td>-0.903844</td>\n",
       "    </tr>\n",
       "    <tr>\n",
       "      <th>3</th>\n",
       "      <td>-0.902090</td>\n",
       "    </tr>\n",
       "    <tr>\n",
       "      <th>4</th>\n",
       "      <td>-0.901839</td>\n",
       "    </tr>\n",
       "  </tbody>\n",
       "</table>\n",
       "</div>"
      ],
      "text/plain": [
       "      price\n",
       "0 -0.904095\n",
       "1 -0.904095\n",
       "2 -0.903844\n",
       "3 -0.902090\n",
       "4 -0.901839"
      ]
     },
     "execution_count": 33,
     "metadata": {},
     "output_type": "execute_result"
    }
   ],
   "source": [
    "y = data[[\"price\"]] # Dependent varibale\n",
    "y.head()"
   ]
  },
  {
   "cell_type": "markdown",
   "id": "2808cf9b",
   "metadata": {},
   "source": [
    "### Splitting the training and testing data "
   ]
  },
  {
   "cell_type": "code",
   "execution_count": 34,
   "id": "5d2e96a1",
   "metadata": {},
   "outputs": [],
   "source": [
    "from sklearn.model_selection import train_test_split"
   ]
  },
  {
   "cell_type": "code",
   "execution_count": 35,
   "id": "fa9f8de6",
   "metadata": {},
   "outputs": [],
   "source": [
    "xtrain, xtest, ytrain, ytest = train_test_split(x, y, test_size=0.2)"
   ]
  },
  {
   "cell_type": "code",
   "execution_count": 36,
   "id": "dfaaf9ed",
   "metadata": {},
   "outputs": [
    {
     "data": {
      "text/plain": [
       "((43152, 4), (10788, 4), (43152, 1), (10788, 1))"
      ]
     },
     "execution_count": 36,
     "metadata": {},
     "output_type": "execute_result"
    }
   ],
   "source": [
    "xtrain.shape, xtest.shape, ytrain.shape, ytest.shape"
   ]
  },
  {
   "cell_type": "markdown",
   "id": "867adab2",
   "metadata": {},
   "source": [
    "#### ___________________\n",
    "# 1 REGRESSION ALGORITHM\n",
    "#### ___________________"
   ]
  },
  {
   "cell_type": "markdown",
   "id": "a9e17e16",
   "metadata": {},
   "source": [
    "# 1.1 LINEAR REGRESSION\n",
    "     Building Linear regression model"
   ]
  },
  {
   "cell_type": "code",
   "execution_count": 37,
   "id": "e544b467",
   "metadata": {},
   "outputs": [],
   "source": [
    "from sklearn.linear_model import LinearRegression"
   ]
  },
  {
   "cell_type": "code",
   "execution_count": 38,
   "id": "fe39cf16",
   "metadata": {},
   "outputs": [],
   "source": [
    "lr = LinearRegression()"
   ]
  },
  {
   "cell_type": "code",
   "execution_count": 39,
   "id": "8672e9c7",
   "metadata": {},
   "outputs": [],
   "source": [
    "lr_mod = lr.fit(xtrain, ytrain) "
   ]
  },
  {
   "cell_type": "markdown",
   "id": "5c38a788",
   "metadata": {},
   "source": [
    "NOTE : Model fitting (i.e fit()) is a measure of how well a machine learning model generalizes to similar data to that on which it was trained. A model that is well-fitted produces more accurate outcomes"
   ]
  },
  {
   "cell_type": "code",
   "execution_count": 40,
   "id": "900be1fb",
   "metadata": {},
   "outputs": [
    {
     "data": {
      "text/plain": [
       "array([[-1.0559416 ],\n",
       "       [-0.64161094],\n",
       "       [-0.57117591],\n",
       "       ...,\n",
       "       [ 0.78600008],\n",
       "       [-0.97302255],\n",
       "       [-1.04712484]])"
      ]
     },
     "execution_count": 40,
     "metadata": {},
     "output_type": "execute_result"
    }
   ],
   "source": [
    "lr_train_ypred = lr_mod.predict(xtrain)\n",
    "lr_train_ypred"
   ]
  },
  {
   "cell_type": "code",
   "execution_count": 41,
   "id": "49d6b88a",
   "metadata": {},
   "outputs": [
    {
     "data": {
      "text/plain": [
       "array([[ 1.18907825],\n",
       "       [-0.49589585],\n",
       "       [-0.5510462 ],\n",
       "       ...,\n",
       "       [-0.22223361],\n",
       "       [-0.86856026],\n",
       "       [-1.00040521]])"
      ]
     },
     "execution_count": 41,
     "metadata": {},
     "output_type": "execute_result"
    }
   ],
   "source": [
    "lr_test_ypred = lr_mod.predict(xtest)\n",
    "lr_test_ypred"
   ]
  },
  {
   "cell_type": "markdown",
   "id": "344b9ce9",
   "metadata": {},
   "source": [
    "## Coefficients and intercepts "
   ]
  },
  {
   "cell_type": "code",
   "execution_count": 42,
   "id": "22d4fd96",
   "metadata": {},
   "outputs": [
    {
     "name": "stdout",
     "output_type": "stream",
     "text": [
      "Linear Regression Coeffecients: \n",
      " [[ 1.03784608 -0.13384726 -0.22145484 -0.01793215]]\n"
     ]
    }
   ],
   "source": [
    "print(\"Linear Regression Coeffecients: \\n {}\".format(lr_mod.coef_))"
   ]
  },
  {
   "cell_type": "code",
   "execution_count": 43,
   "id": "3d7b0000",
   "metadata": {},
   "outputs": [
    {
     "name": "stdout",
     "output_type": "stream",
     "text": [
      "y-intercept: [-0.00153068]\n"
     ]
    }
   ],
   "source": [
    "print(\"y-intercept: {}\".format(lr_mod.intercept_))"
   ]
  },
  {
   "cell_type": "markdown",
   "id": "e44376ae",
   "metadata": {},
   "source": [
    "## Evaluation Metrics"
   ]
  },
  {
   "cell_type": "code",
   "execution_count": 44,
   "id": "78b9adb1",
   "metadata": {},
   "outputs": [],
   "source": [
    "from sklearn.metrics import mean_squared_error , mean_absolute_error,mean_absolute_percentage_error"
   ]
  },
  {
   "cell_type": "code",
   "execution_count": 45,
   "id": "e791f955",
   "metadata": {},
   "outputs": [
    {
     "name": "stdout",
     "output_type": "stream",
     "text": [
      "           Training              Testing\n",
      "MSE  : 0.09587747958592494    0.10306988036952347\n",
      "RMSE : 0.3096408881041471     0.32104498184759633\n",
      "MAE  : 0.21488911551646847    0.2186600750783222\n",
      "MAPE : 1.3313929090332168     1.6003245425081103\n"
     ]
    }
   ],
   "source": [
    "print(\"           Training              Testing\")\n",
    "\n",
    "## Mean Squared Error\n",
    "\n",
    "print(\"MSE  : {}\".format(mean_squared_error((ytrain),(lr_train_ypred))),end=\" \")\n",
    "print(\"   {}\".format(mean_squared_error((ytest),(lr_test_ypred))))\n",
    "\n",
    "\n",
    "## Root Mean Squared Error\n",
    "\n",
    "print(\"RMSE : {}\".format(np.sqrt(mean_squared_error((ytrain),(lr_train_ypred)))),end=\" \")\n",
    "print(\"    {}\".format(np.sqrt(mean_squared_error((ytest),(lr_test_ypred)))))\n",
    "\n",
    "\n",
    "## Mean Absolute Error\n",
    "\n",
    "print(\"MAE  : {}\".format(mean_absolute_error((ytrain),(lr_train_ypred))),end=\" \")\n",
    "print(\"   {}\".format(mean_absolute_error((ytest),(lr_test_ypred))))\n",
    "\n",
    "\n",
    "## Mean Absolute Percentage Error\n",
    "\n",
    "print(\"MAPE : {}\".format(mean_absolute_percentage_error((ytrain),(lr_train_ypred))),end=\" \")\n",
    "print(\"    {}\".format(mean_absolute_percentage_error((ytest),(lr_test_ypred))))"
   ]
  },
  {
   "cell_type": "markdown",
   "id": "f56a1425",
   "metadata": {},
   "source": [
    "# 1.2 Decision Tree Regressor "
   ]
  },
  {
   "cell_type": "code",
   "execution_count": 46,
   "id": "3fe4f55c",
   "metadata": {},
   "outputs": [],
   "source": [
    "from sklearn.tree import DecisionTreeRegressor"
   ]
  },
  {
   "cell_type": "code",
   "execution_count": 47,
   "id": "8be5061c",
   "metadata": {},
   "outputs": [],
   "source": [
    "dt = DecisionTreeRegressor()"
   ]
  },
  {
   "cell_type": "code",
   "execution_count": 48,
   "id": "cb42fbad",
   "metadata": {},
   "outputs": [],
   "source": [
    "dt_mod = dt.fit(xtrain, ytrain)"
   ]
  },
  {
   "cell_type": "code",
   "execution_count": 49,
   "id": "67d03d25",
   "metadata": {},
   "outputs": [
    {
     "data": {
      "text/plain": [
       "array([-0.76188507, -0.64002054, -0.70832651, ...,  1.09996422,\n",
       "       -0.77500315, -0.82776794])"
      ]
     },
     "execution_count": 49,
     "metadata": {},
     "output_type": "execute_result"
    }
   ],
   "source": [
    "dt_train_pred = dt_mod.predict(xtrain)\n",
    "dt_train_pred"
   ]
  },
  {
   "cell_type": "code",
   "execution_count": 50,
   "id": "780a226f",
   "metadata": {},
   "outputs": [
    {
     "data": {
      "text/plain": [
       "array([ 2.94234526, -0.59076505, -0.57572521, ..., -0.29247479,\n",
       "       -0.80215843, -0.78916568])"
      ]
     },
     "execution_count": 50,
     "metadata": {},
     "output_type": "execute_result"
    }
   ],
   "source": [
    "dt_test_pred = dt_mod.predict(xtest)\n",
    "dt_test_pred"
   ]
  },
  {
   "cell_type": "markdown",
   "id": "358448b5",
   "metadata": {},
   "source": [
    "## 1.2.1 Evaluation Metrics"
   ]
  },
  {
   "cell_type": "code",
   "execution_count": 51,
   "id": "133742fe",
   "metadata": {},
   "outputs": [
    {
     "name": "stdout",
     "output_type": "stream",
     "text": [
      "           Training              Testing\n",
      "MSE  : 0.0017080332346997968    0.03194591303374593\n",
      "RMSE : 0.041328358722550265     0.17873419659859702\n",
      "MAE  : 0.015928945153606943    0.09005147739091092\n",
      "MAPE : 0.17417021876952543     0.7210474454929274\n"
     ]
    }
   ],
   "source": [
    "print(\"           Training              Testing\")\n",
    "\n",
    "## Mean Squared Error\n",
    "\n",
    "print(\"MSE  : {}\".format(mean_squared_error((ytrain),(dt_train_pred))),end=\" \")\n",
    "print(\"   {}\".format(mean_squared_error((ytest),(dt_test_pred))))\n",
    "\n",
    "\n",
    "## Root Mean Squared Error\n",
    "\n",
    "print(\"RMSE : {}\".format(np.sqrt(mean_squared_error((ytrain),(dt_train_pred)))),end=\" \")\n",
    "print(\"    {}\".format(np.sqrt(mean_squared_error((ytest),(dt_test_pred)))))\n",
    "\n",
    "\n",
    "## Mean Absolute Error\n",
    "\n",
    "print(\"MAE  : {}\".format(mean_absolute_error((ytrain),(dt_train_pred))),end=\" \")\n",
    "print(\"   {}\".format(mean_absolute_error((ytest),(dt_test_pred))))\n",
    "\n",
    "\n",
    "## Mean Absolute Percentage Error\n",
    "\n",
    "print(\"MAPE : {}\".format(mean_absolute_percentage_error((ytrain),(dt_train_pred))),end=\" \")\n",
    "print(\"    {}\".format(mean_absolute_percentage_error((ytest),(dt_test_pred))))"
   ]
  },
  {
   "cell_type": "markdown",
   "id": "228cae28",
   "metadata": {},
   "source": [
    "# 1.3 Random Forest Regressor"
   ]
  },
  {
   "cell_type": "code",
   "execution_count": 52,
   "id": "fceca152",
   "metadata": {},
   "outputs": [],
   "source": [
    "from sklearn.ensemble import RandomForestRegressor"
   ]
  },
  {
   "cell_type": "code",
   "execution_count": 53,
   "id": "74a2be03",
   "metadata": {},
   "outputs": [],
   "source": [
    "rf = RandomForestRegressor()"
   ]
  },
  {
   "cell_type": "code",
   "execution_count": 54,
   "id": "7262175b",
   "metadata": {},
   "outputs": [],
   "source": [
    "rf_mod = rf.fit(xtrain, ytrain)"
   ]
  },
  {
   "cell_type": "code",
   "execution_count": 55,
   "id": "542c31c6",
   "metadata": {},
   "outputs": [
    {
     "data": {
      "text/plain": [
       "array([-0.76178152, -0.63901446, -0.71416364, ...,  1.10557157,\n",
       "       -0.77589629, -0.83015245])"
      ]
     },
     "execution_count": 55,
     "metadata": {},
     "output_type": "execute_result"
    }
   ],
   "source": [
    "rf_train_pred = rf_mod.predict(xtrain)\n",
    "rf_train_pred"
   ]
  },
  {
   "cell_type": "code",
   "execution_count": 56,
   "id": "48ad12db",
   "metadata": {},
   "outputs": [
    {
     "data": {
      "text/plain": [
       "array([ 3.04583255, -0.58303882, -0.61273862, ..., -0.28867873,\n",
       "       -0.80532928, -0.7814758 ])"
      ]
     },
     "execution_count": 56,
     "metadata": {},
     "output_type": "execute_result"
    }
   ],
   "source": [
    "rf_test_pred = rf_mod.predict(xtest)\n",
    "rf_test_pred"
   ]
  },
  {
   "cell_type": "markdown",
   "id": "62a6272e",
   "metadata": {},
   "source": [
    "## 1.3.1 Evaluation Metrics"
   ]
  },
  {
   "cell_type": "code",
   "execution_count": 57,
   "id": "cc789059",
   "metadata": {},
   "outputs": [
    {
     "name": "stdout",
     "output_type": "stream",
     "text": [
      "           Training              Testing\n",
      "MSE  : 0.004135338679596828    0.02184108883691869\n",
      "RMSE : 0.06430659903615513     0.1477873094582843\n",
      "MAE  : 0.03520189602570204    0.07807167770833338\n",
      "MAPE : 0.2887249404174146     0.6501474800353448\n"
     ]
    }
   ],
   "source": [
    "print(\"           Training              Testing\")\n",
    "\n",
    "## Mean Squared Error\n",
    "\n",
    "print(\"MSE  : {}\".format(mean_squared_error((ytrain),(rf_train_pred))),end=\" \")\n",
    "print(\"   {}\".format(mean_squared_error((ytest),(rf_test_pred))))\n",
    "\n",
    "\n",
    "## Root Mean Squared Error\n",
    "\n",
    "print(\"RMSE : {}\".format(np.sqrt(mean_squared_error((ytrain),(rf_train_pred)))),end=\" \")\n",
    "print(\"    {}\".format(np.sqrt(mean_squared_error((ytest),(rf_test_pred)))))\n",
    "\n",
    "\n",
    "## Mean Absolute Error\n",
    "\n",
    "print(\"MAE  : {}\".format(mean_absolute_error((ytrain),(rf_train_pred))),end=\" \")\n",
    "print(\"   {}\".format(mean_absolute_error((ytest),(rf_test_pred))))\n",
    "\n",
    "\n",
    "## Mean Absolute Percentage Error\n",
    "\n",
    "print(\"MAPE : {}\".format(mean_absolute_percentage_error((ytrain),(rf_train_pred))),end=\" \")\n",
    "print(\"    {}\".format(mean_absolute_percentage_error((ytest),(rf_test_pred))))"
   ]
  },
  {
   "cell_type": "markdown",
   "id": "656746a2",
   "metadata": {},
   "source": [
    "# Selecting New Dataset For classification"
   ]
  },
  {
   "cell_type": "code",
   "execution_count": 58,
   "id": "120b506e",
   "metadata": {},
   "outputs": [
    {
     "data": {
      "text/plain": [
       "['anagrams',\n",
       " 'anscombe',\n",
       " 'attention',\n",
       " 'brain_networks',\n",
       " 'car_crashes',\n",
       " 'diamonds',\n",
       " 'dots',\n",
       " 'dowjones',\n",
       " 'exercise',\n",
       " 'flights',\n",
       " 'fmri',\n",
       " 'geyser',\n",
       " 'glue',\n",
       " 'healthexp',\n",
       " 'iris',\n",
       " 'mpg',\n",
       " 'penguins',\n",
       " 'planets',\n",
       " 'seaice',\n",
       " 'taxis',\n",
       " 'tips',\n",
       " 'titanic']"
      ]
     },
     "execution_count": 58,
     "metadata": {},
     "output_type": "execute_result"
    }
   ],
   "source": [
    "sns.get_dataset_names()"
   ]
  },
  {
   "cell_type": "markdown",
   "id": "94eb691c",
   "metadata": {},
   "source": [
    "### Importing planet dataset"
   ]
  },
  {
   "cell_type": "code",
   "execution_count": 59,
   "id": "58193c34",
   "metadata": {},
   "outputs": [
    {
     "data": {
      "text/html": [
       "<div>\n",
       "<style scoped>\n",
       "    .dataframe tbody tr th:only-of-type {\n",
       "        vertical-align: middle;\n",
       "    }\n",
       "\n",
       "    .dataframe tbody tr th {\n",
       "        vertical-align: top;\n",
       "    }\n",
       "\n",
       "    .dataframe thead th {\n",
       "        text-align: right;\n",
       "    }\n",
       "</style>\n",
       "<table border=\"1\" class=\"dataframe\">\n",
       "  <thead>\n",
       "    <tr style=\"text-align: right;\">\n",
       "      <th></th>\n",
       "      <th>method</th>\n",
       "      <th>number</th>\n",
       "      <th>orbital_period</th>\n",
       "      <th>mass</th>\n",
       "      <th>distance</th>\n",
       "      <th>year</th>\n",
       "    </tr>\n",
       "  </thead>\n",
       "  <tbody>\n",
       "    <tr>\n",
       "      <th>0</th>\n",
       "      <td>Radial Velocity</td>\n",
       "      <td>1</td>\n",
       "      <td>269.300000</td>\n",
       "      <td>7.10</td>\n",
       "      <td>77.40</td>\n",
       "      <td>2006</td>\n",
       "    </tr>\n",
       "    <tr>\n",
       "      <th>1</th>\n",
       "      <td>Radial Velocity</td>\n",
       "      <td>1</td>\n",
       "      <td>874.774000</td>\n",
       "      <td>2.21</td>\n",
       "      <td>56.95</td>\n",
       "      <td>2008</td>\n",
       "    </tr>\n",
       "    <tr>\n",
       "      <th>2</th>\n",
       "      <td>Radial Velocity</td>\n",
       "      <td>1</td>\n",
       "      <td>763.000000</td>\n",
       "      <td>2.60</td>\n",
       "      <td>19.84</td>\n",
       "      <td>2011</td>\n",
       "    </tr>\n",
       "    <tr>\n",
       "      <th>3</th>\n",
       "      <td>Radial Velocity</td>\n",
       "      <td>1</td>\n",
       "      <td>326.030000</td>\n",
       "      <td>19.40</td>\n",
       "      <td>110.62</td>\n",
       "      <td>2007</td>\n",
       "    </tr>\n",
       "    <tr>\n",
       "      <th>4</th>\n",
       "      <td>Radial Velocity</td>\n",
       "      <td>1</td>\n",
       "      <td>516.220000</td>\n",
       "      <td>10.50</td>\n",
       "      <td>119.47</td>\n",
       "      <td>2009</td>\n",
       "    </tr>\n",
       "    <tr>\n",
       "      <th>...</th>\n",
       "      <td>...</td>\n",
       "      <td>...</td>\n",
       "      <td>...</td>\n",
       "      <td>...</td>\n",
       "      <td>...</td>\n",
       "      <td>...</td>\n",
       "    </tr>\n",
       "    <tr>\n",
       "      <th>1030</th>\n",
       "      <td>Transit</td>\n",
       "      <td>1</td>\n",
       "      <td>3.941507</td>\n",
       "      <td>NaN</td>\n",
       "      <td>172.00</td>\n",
       "      <td>2006</td>\n",
       "    </tr>\n",
       "    <tr>\n",
       "      <th>1031</th>\n",
       "      <td>Transit</td>\n",
       "      <td>1</td>\n",
       "      <td>2.615864</td>\n",
       "      <td>NaN</td>\n",
       "      <td>148.00</td>\n",
       "      <td>2007</td>\n",
       "    </tr>\n",
       "    <tr>\n",
       "      <th>1032</th>\n",
       "      <td>Transit</td>\n",
       "      <td>1</td>\n",
       "      <td>3.191524</td>\n",
       "      <td>NaN</td>\n",
       "      <td>174.00</td>\n",
       "      <td>2007</td>\n",
       "    </tr>\n",
       "    <tr>\n",
       "      <th>1033</th>\n",
       "      <td>Transit</td>\n",
       "      <td>1</td>\n",
       "      <td>4.125083</td>\n",
       "      <td>NaN</td>\n",
       "      <td>293.00</td>\n",
       "      <td>2008</td>\n",
       "    </tr>\n",
       "    <tr>\n",
       "      <th>1034</th>\n",
       "      <td>Transit</td>\n",
       "      <td>1</td>\n",
       "      <td>4.187757</td>\n",
       "      <td>NaN</td>\n",
       "      <td>260.00</td>\n",
       "      <td>2008</td>\n",
       "    </tr>\n",
       "  </tbody>\n",
       "</table>\n",
       "<p>1035 rows × 6 columns</p>\n",
       "</div>"
      ],
      "text/plain": [
       "               method  number  orbital_period   mass  distance  year\n",
       "0     Radial Velocity       1      269.300000   7.10     77.40  2006\n",
       "1     Radial Velocity       1      874.774000   2.21     56.95  2008\n",
       "2     Radial Velocity       1      763.000000   2.60     19.84  2011\n",
       "3     Radial Velocity       1      326.030000  19.40    110.62  2007\n",
       "4     Radial Velocity       1      516.220000  10.50    119.47  2009\n",
       "...               ...     ...             ...    ...       ...   ...\n",
       "1030          Transit       1        3.941507    NaN    172.00  2006\n",
       "1031          Transit       1        2.615864    NaN    148.00  2007\n",
       "1032          Transit       1        3.191524    NaN    174.00  2007\n",
       "1033          Transit       1        4.125083    NaN    293.00  2008\n",
       "1034          Transit       1        4.187757    NaN    260.00  2008\n",
       "\n",
       "[1035 rows x 6 columns]"
      ]
     },
     "execution_count": 59,
     "metadata": {},
     "output_type": "execute_result"
    }
   ],
   "source": [
    "planet=sns.load_dataset('planets')\n",
    "planet"
   ]
  },
  {
   "cell_type": "code",
   "execution_count": 60,
   "id": "99351890",
   "metadata": {},
   "outputs": [
    {
     "data": {
      "text/plain": [
       "(1035, 6)"
      ]
     },
     "execution_count": 60,
     "metadata": {},
     "output_type": "execute_result"
    }
   ],
   "source": [
    "planet.shape"
   ]
  },
  {
   "cell_type": "code",
   "execution_count": 61,
   "id": "b30723c8",
   "metadata": {},
   "outputs": [
    {
     "data": {
      "text/plain": [
       "Radial Velocity                  553\n",
       "Transit                          397\n",
       "Imaging                           38\n",
       "Microlensing                      23\n",
       "Eclipse Timing Variations          9\n",
       "Pulsar Timing                      5\n",
       "Transit Timing Variations          4\n",
       "Orbital Brightness Modulation      3\n",
       "Astrometry                         2\n",
       "Pulsation Timing Variations        1\n",
       "Name: method, dtype: int64"
      ]
     },
     "execution_count": 61,
     "metadata": {},
     "output_type": "execute_result"
    }
   ],
   "source": [
    "planet['method'].value_counts()"
   ]
  },
  {
   "cell_type": "markdown",
   "id": "69b152ef",
   "metadata": {},
   "source": [
    "## Label Encoding "
   ]
  },
  {
   "cell_type": "code",
   "execution_count": 62,
   "id": "d2229446",
   "metadata": {},
   "outputs": [
    {
     "data": {
      "text/html": [
       "<div>\n",
       "<style scoped>\n",
       "    .dataframe tbody tr th:only-of-type {\n",
       "        vertical-align: middle;\n",
       "    }\n",
       "\n",
       "    .dataframe tbody tr th {\n",
       "        vertical-align: top;\n",
       "    }\n",
       "\n",
       "    .dataframe thead th {\n",
       "        text-align: right;\n",
       "    }\n",
       "</style>\n",
       "<table border=\"1\" class=\"dataframe\">\n",
       "  <thead>\n",
       "    <tr style=\"text-align: right;\">\n",
       "      <th></th>\n",
       "      <th>method</th>\n",
       "      <th>number</th>\n",
       "      <th>orbital_period</th>\n",
       "      <th>mass</th>\n",
       "      <th>distance</th>\n",
       "      <th>year</th>\n",
       "    </tr>\n",
       "  </thead>\n",
       "  <tbody>\n",
       "    <tr>\n",
       "      <th>0</th>\n",
       "      <td>7</td>\n",
       "      <td>1</td>\n",
       "      <td>269.300000</td>\n",
       "      <td>7.10</td>\n",
       "      <td>77.40</td>\n",
       "      <td>2006</td>\n",
       "    </tr>\n",
       "    <tr>\n",
       "      <th>1</th>\n",
       "      <td>7</td>\n",
       "      <td>1</td>\n",
       "      <td>874.774000</td>\n",
       "      <td>2.21</td>\n",
       "      <td>56.95</td>\n",
       "      <td>2008</td>\n",
       "    </tr>\n",
       "    <tr>\n",
       "      <th>2</th>\n",
       "      <td>7</td>\n",
       "      <td>1</td>\n",
       "      <td>763.000000</td>\n",
       "      <td>2.60</td>\n",
       "      <td>19.84</td>\n",
       "      <td>2011</td>\n",
       "    </tr>\n",
       "    <tr>\n",
       "      <th>3</th>\n",
       "      <td>7</td>\n",
       "      <td>1</td>\n",
       "      <td>326.030000</td>\n",
       "      <td>19.40</td>\n",
       "      <td>110.62</td>\n",
       "      <td>2007</td>\n",
       "    </tr>\n",
       "    <tr>\n",
       "      <th>4</th>\n",
       "      <td>7</td>\n",
       "      <td>1</td>\n",
       "      <td>516.220000</td>\n",
       "      <td>10.50</td>\n",
       "      <td>119.47</td>\n",
       "      <td>2009</td>\n",
       "    </tr>\n",
       "    <tr>\n",
       "      <th>...</th>\n",
       "      <td>...</td>\n",
       "      <td>...</td>\n",
       "      <td>...</td>\n",
       "      <td>...</td>\n",
       "      <td>...</td>\n",
       "      <td>...</td>\n",
       "    </tr>\n",
       "    <tr>\n",
       "      <th>1030</th>\n",
       "      <td>8</td>\n",
       "      <td>1</td>\n",
       "      <td>3.941507</td>\n",
       "      <td>NaN</td>\n",
       "      <td>172.00</td>\n",
       "      <td>2006</td>\n",
       "    </tr>\n",
       "    <tr>\n",
       "      <th>1031</th>\n",
       "      <td>8</td>\n",
       "      <td>1</td>\n",
       "      <td>2.615864</td>\n",
       "      <td>NaN</td>\n",
       "      <td>148.00</td>\n",
       "      <td>2007</td>\n",
       "    </tr>\n",
       "    <tr>\n",
       "      <th>1032</th>\n",
       "      <td>8</td>\n",
       "      <td>1</td>\n",
       "      <td>3.191524</td>\n",
       "      <td>NaN</td>\n",
       "      <td>174.00</td>\n",
       "      <td>2007</td>\n",
       "    </tr>\n",
       "    <tr>\n",
       "      <th>1033</th>\n",
       "      <td>8</td>\n",
       "      <td>1</td>\n",
       "      <td>4.125083</td>\n",
       "      <td>NaN</td>\n",
       "      <td>293.00</td>\n",
       "      <td>2008</td>\n",
       "    </tr>\n",
       "    <tr>\n",
       "      <th>1034</th>\n",
       "      <td>8</td>\n",
       "      <td>1</td>\n",
       "      <td>4.187757</td>\n",
       "      <td>NaN</td>\n",
       "      <td>260.00</td>\n",
       "      <td>2008</td>\n",
       "    </tr>\n",
       "  </tbody>\n",
       "</table>\n",
       "<p>1035 rows × 6 columns</p>\n",
       "</div>"
      ],
      "text/plain": [
       "      method  number  orbital_period   mass  distance  year\n",
       "0          7       1      269.300000   7.10     77.40  2006\n",
       "1          7       1      874.774000   2.21     56.95  2008\n",
       "2          7       1      763.000000   2.60     19.84  2011\n",
       "3          7       1      326.030000  19.40    110.62  2007\n",
       "4          7       1      516.220000  10.50    119.47  2009\n",
       "...      ...     ...             ...    ...       ...   ...\n",
       "1030       8       1        3.941507    NaN    172.00  2006\n",
       "1031       8       1        2.615864    NaN    148.00  2007\n",
       "1032       8       1        3.191524    NaN    174.00  2007\n",
       "1033       8       1        4.125083    NaN    293.00  2008\n",
       "1034       8       1        4.187757    NaN    260.00  2008\n",
       "\n",
       "[1035 rows x 6 columns]"
      ]
     },
     "execution_count": 62,
     "metadata": {},
     "output_type": "execute_result"
    }
   ],
   "source": [
    "planet['method'] = pd.Categorical(planet['method']).codes\n",
    "planet   "
   ]
  },
  {
   "cell_type": "code",
   "execution_count": 63,
   "id": "47457414",
   "metadata": {},
   "outputs": [
    {
     "data": {
      "text/plain": [
       "method              0\n",
       "number              0\n",
       "orbital_period     43\n",
       "mass              522\n",
       "distance          227\n",
       "year                0\n",
       "dtype: int64"
      ]
     },
     "execution_count": 63,
     "metadata": {},
     "output_type": "execute_result"
    }
   ],
   "source": [
    "planet.isnull().sum()"
   ]
  },
  {
   "cell_type": "markdown",
   "id": "03b70a5b",
   "metadata": {},
   "source": [
    "Case1:\n",
    "    can replace all three (orbital_period,mass,distance) null values with their mean values\n",
    "    \n",
    "Case2:\n",
    "    can replace both (mass,distance) null values with mean values as orbital_period has only 24 null values, we can drop them."
   ]
  },
  {
   "cell_type": "code",
   "execution_count": 64,
   "id": "398cbd6b",
   "metadata": {},
   "outputs": [
    {
     "data": {
      "text/html": [
       "<div>\n",
       "<style scoped>\n",
       "    .dataframe tbody tr th:only-of-type {\n",
       "        vertical-align: middle;\n",
       "    }\n",
       "\n",
       "    .dataframe tbody tr th {\n",
       "        vertical-align: top;\n",
       "    }\n",
       "\n",
       "    .dataframe thead th {\n",
       "        text-align: right;\n",
       "    }\n",
       "</style>\n",
       "<table border=\"1\" class=\"dataframe\">\n",
       "  <thead>\n",
       "    <tr style=\"text-align: right;\">\n",
       "      <th></th>\n",
       "      <th>method</th>\n",
       "      <th>number</th>\n",
       "      <th>orbital_period</th>\n",
       "      <th>mass</th>\n",
       "      <th>distance</th>\n",
       "      <th>year</th>\n",
       "    </tr>\n",
       "  </thead>\n",
       "  <tbody>\n",
       "    <tr>\n",
       "      <th>count</th>\n",
       "      <td>1035.000000</td>\n",
       "      <td>1035.000000</td>\n",
       "      <td>992.000000</td>\n",
       "      <td>513.000000</td>\n",
       "      <td>808.000000</td>\n",
       "      <td>1035.000000</td>\n",
       "    </tr>\n",
       "    <tr>\n",
       "      <th>mean</th>\n",
       "      <td>7.033816</td>\n",
       "      <td>1.785507</td>\n",
       "      <td>2002.917596</td>\n",
       "      <td>2.638161</td>\n",
       "      <td>264.069282</td>\n",
       "      <td>2009.070531</td>\n",
       "    </tr>\n",
       "    <tr>\n",
       "      <th>std</th>\n",
       "      <td>1.458589</td>\n",
       "      <td>1.240976</td>\n",
       "      <td>26014.728304</td>\n",
       "      <td>3.818617</td>\n",
       "      <td>733.116493</td>\n",
       "      <td>3.972567</td>\n",
       "    </tr>\n",
       "    <tr>\n",
       "      <th>min</th>\n",
       "      <td>0.000000</td>\n",
       "      <td>1.000000</td>\n",
       "      <td>0.090706</td>\n",
       "      <td>0.003600</td>\n",
       "      <td>1.350000</td>\n",
       "      <td>1989.000000</td>\n",
       "    </tr>\n",
       "    <tr>\n",
       "      <th>25%</th>\n",
       "      <td>7.000000</td>\n",
       "      <td>1.000000</td>\n",
       "      <td>5.442540</td>\n",
       "      <td>0.229000</td>\n",
       "      <td>32.560000</td>\n",
       "      <td>2007.000000</td>\n",
       "    </tr>\n",
       "    <tr>\n",
       "      <th>50%</th>\n",
       "      <td>7.000000</td>\n",
       "      <td>1.000000</td>\n",
       "      <td>39.979500</td>\n",
       "      <td>1.260000</td>\n",
       "      <td>55.250000</td>\n",
       "      <td>2010.000000</td>\n",
       "    </tr>\n",
       "    <tr>\n",
       "      <th>75%</th>\n",
       "      <td>8.000000</td>\n",
       "      <td>2.000000</td>\n",
       "      <td>526.005000</td>\n",
       "      <td>3.040000</td>\n",
       "      <td>178.500000</td>\n",
       "      <td>2012.000000</td>\n",
       "    </tr>\n",
       "    <tr>\n",
       "      <th>max</th>\n",
       "      <td>9.000000</td>\n",
       "      <td>7.000000</td>\n",
       "      <td>730000.000000</td>\n",
       "      <td>25.000000</td>\n",
       "      <td>8500.000000</td>\n",
       "      <td>2014.000000</td>\n",
       "    </tr>\n",
       "  </tbody>\n",
       "</table>\n",
       "</div>"
      ],
      "text/plain": [
       "            method       number  orbital_period        mass     distance  \\\n",
       "count  1035.000000  1035.000000      992.000000  513.000000   808.000000   \n",
       "mean      7.033816     1.785507     2002.917596    2.638161   264.069282   \n",
       "std       1.458589     1.240976    26014.728304    3.818617   733.116493   \n",
       "min       0.000000     1.000000        0.090706    0.003600     1.350000   \n",
       "25%       7.000000     1.000000        5.442540    0.229000    32.560000   \n",
       "50%       7.000000     1.000000       39.979500    1.260000    55.250000   \n",
       "75%       8.000000     2.000000      526.005000    3.040000   178.500000   \n",
       "max       9.000000     7.000000   730000.000000   25.000000  8500.000000   \n",
       "\n",
       "              year  \n",
       "count  1035.000000  \n",
       "mean   2009.070531  \n",
       "std       3.972567  \n",
       "min    1989.000000  \n",
       "25%    2007.000000  \n",
       "50%    2010.000000  \n",
       "75%    2012.000000  \n",
       "max    2014.000000  "
      ]
     },
     "execution_count": 64,
     "metadata": {},
     "output_type": "execute_result"
    }
   ],
   "source": [
    "### Since there are lot of null vaues in mass, we can replace those, as we cannot delete /drop that column.\n",
    "## let us find the average of that column and replace the null value with avg value.\n",
    "\n",
    "planet.describe()"
   ]
  },
  {
   "cell_type": "code",
   "execution_count": 71,
   "id": "1bd5b769",
   "metadata": {},
   "outputs": [],
   "source": [
    "## Going with case1\n",
    "planet[\"orbital_period\"].fillna((planet['orbital_period'].mean()), inplace = True)\n",
    "planet[\"mass\"].fillna((planet['mass'].mean()), inplace = True)\n",
    "planet[\"distance\"].fillna((planet['distance'].mean()), inplace = True)"
   ]
  },
  {
   "cell_type": "code",
   "execution_count": 72,
   "id": "39f21076",
   "metadata": {},
   "outputs": [
    {
     "data": {
      "text/plain": [
       "1    595\n",
       "2    259\n",
       "3     88\n",
       "4     32\n",
       "5     30\n",
       "6     24\n",
       "7      7\n",
       "Name: number, dtype: int64"
      ]
     },
     "execution_count": 72,
     "metadata": {},
     "output_type": "execute_result"
    }
   ],
   "source": [
    "planet['number'].value_counts()"
   ]
  },
  {
   "cell_type": "code",
   "execution_count": 73,
   "id": "082ac351",
   "metadata": {},
   "outputs": [
    {
     "data": {
      "text/plain": [
       "method            0\n",
       "number            0\n",
       "orbital_period    0\n",
       "mass              0\n",
       "distance          0\n",
       "year              0\n",
       "dtype: int64"
      ]
     },
     "execution_count": 73,
     "metadata": {},
     "output_type": "execute_result"
    }
   ],
   "source": [
    "planet.isnull().sum()"
   ]
  },
  {
   "cell_type": "markdown",
   "id": "98625974",
   "metadata": {},
   "source": [
    "###### Cleared all null values."
   ]
  },
  {
   "cell_type": "markdown",
   "id": "60becbb5",
   "metadata": {},
   "source": [
    "## Outliers Treatment"
   ]
  },
  {
   "cell_type": "code",
   "execution_count": 74,
   "id": "5acfad25",
   "metadata": {},
   "outputs": [
    {
     "data": {
      "text/plain": [
       "<Axes: >"
      ]
     },
     "execution_count": 74,
     "metadata": {},
     "output_type": "execute_result"
    },
    {
     "data": {
      "image/png": "[encoded data removed]",
      "text/plain": [
       "<Figure size 640x480 with 1 Axes>"
      ]
     },
     "metadata": {},
     "output_type": "display_data"
    }
   ],
   "source": [
    "planet.boxplot()"
   ]
  },
  {
   "cell_type": "markdown",
   "id": "77603562",
   "metadata": {},
   "source": [
    "### Finding the boundary values"
   ]
  },
  {
   "cell_type": "code",
   "execution_count": null,
   "id": "55b782e7",
   "metadata": {},
   "outputs": [],
   "source": [
    "print(\"Highest allowed\",planet[\"orbital_period\"].mean() + 3*planet[\"orbital_period\"].std())\n",
    "print(\"Lowest allowed\",planet[\"orbital_period\"].mean() - 3*planet[\"orbital_period\"].std())"
   ]
  },
  {
   "cell_type": "markdown",
   "id": "ae2aa8fa",
   "metadata": {},
   "source": [
    "###  Finding the outliers"
   ]
  },
  {
   "cell_type": "code",
   "execution_count": null,
   "id": "fae531b5",
   "metadata": {},
   "outputs": [],
   "source": [
    "planet[(planet[\"orbital_period\"] > 78407.09) | (planet[\"orbital_period\"] < -74401.26)]"
   ]
  },
  {
   "cell_type": "markdown",
   "id": "24c75afb",
   "metadata": {},
   "source": [
    "### Trimming of outliers"
   ]
  },
  {
   "cell_type": "code",
   "execution_count": null,
   "id": "3c7181fe",
   "metadata": {},
   "outputs": [],
   "source": [
    "pl = planet[(planet[\"orbital_period\"] < 78407.09) & (planet[\"orbital_period\"] > -74401.26)]\n",
    "pl"
   ]
  },
  {
   "cell_type": "code",
   "execution_count": null,
   "id": "60e230de",
   "metadata": {},
   "outputs": [],
   "source": [
    "pl.isnull().sum()"
   ]
  },
  {
   "cell_type": "code",
   "execution_count": null,
   "id": "11f617ce",
   "metadata": {},
   "outputs": [],
   "source": [
    "pl.boxplot()"
   ]
  },
  {
   "cell_type": "code",
   "execution_count": null,
   "id": "4fd39f8b",
   "metadata": {},
   "outputs": [],
   "source": [
    "sns.boxplot(planet['orbital_period'])"
   ]
  },
  {
   "cell_type": "code",
   "execution_count": null,
   "id": "bf7ea2f7",
   "metadata": {},
   "outputs": [],
   "source": [
    "upper_limit = planet['orbital_period'].quantile(0.99)\n",
    "lower_limit = planet['orbital_period'].quantile(0.01)\n",
    "print(upper_limit)\n",
    "print(lower_limit)"
   ]
  },
  {
   "cell_type": "code",
   "execution_count": null,
   "id": "31a40977",
   "metadata": {},
   "outputs": [],
   "source": [
    "new_df = planet[(planet['orbital_period'] <= 10157.94) & (planet['orbital_period'] >= 0.84)]\n",
    "new_df"
   ]
  },
  {
   "cell_type": "code",
   "execution_count": null,
   "id": "326974d5",
   "metadata": {},
   "outputs": [],
   "source": [
    "sns.distplot(new_df['orbital_period'])\n",
    "sns.boxplot(new_df['orbital_period'])"
   ]
  },
  {
   "cell_type": "code",
   "execution_count": null,
   "id": "5909d533",
   "metadata": {},
   "outputs": [],
   "source": [
    "planet['orbital_period'] = np.where(planet['orbital_period'] >= upper_limit,\n",
    "        upper_limit,\n",
    "        np.where(planet['orbital_period'] <= lower_limit,\n",
    "        lower_limit,\n",
    "        planet['orbital_period']))"
   ]
  },
  {
   "cell_type": "code",
   "execution_count": null,
   "id": "1cb4a72a",
   "metadata": {},
   "outputs": [],
   "source": [
    "sns.distplot(planet['orbital_period'])\n",
    "sns.boxplot(planet['orbital_period'])"
   ]
  },
  {
   "cell_type": "markdown",
   "id": "01bc6f6b",
   "metadata": {},
   "source": [
    "##  Splitting the independent and dependent variablese"
   ]
  },
  {
   "cell_type": "code",
   "execution_count": null,
   "id": "db80ac26",
   "metadata": {},
   "outputs": [],
   "source": [
    "x = planet.drop('method', axis = 1) #Independent variables\n",
    "x"
   ]
  },
  {
   "cell_type": "code",
   "execution_count": null,
   "id": "95cbd3b8",
   "metadata": {},
   "outputs": [],
   "source": [
    "y = planet['method'] #Dependent variable\n",
    "y"
   ]
  },
  {
   "cell_type": "markdown",
   "id": "9623f0b4",
   "metadata": {},
   "source": [
    "##  Scaling the independent variables "
   ]
  },
  {
   "cell_type": "code",
   "execution_count": null,
   "id": "7f454b1c",
   "metadata": {},
   "outputs": [],
   "source": [
    "from sklearn.preprocessing import StandardScaler"
   ]
  },
  {
   "cell_type": "code",
   "execution_count": null,
   "id": "658a0bd8",
   "metadata": {},
   "outputs": [],
   "source": [
    "sc = StandardScaler()"
   ]
  },
  {
   "cell_type": "code",
   "execution_count": null,
   "id": "88cb6e2d",
   "metadata": {},
   "outputs": [],
   "source": [
    "x_sc = sc.fit_transform(x)"
   ]
  },
  {
   "cell_type": "code",
   "execution_count": null,
   "id": "07d58178",
   "metadata": {},
   "outputs": [],
   "source": [
    "x_sc = pd.DataFrame(x_sc, columns=x.columns)"
   ]
  },
  {
   "cell_type": "code",
   "execution_count": null,
   "id": "7c0ea0fc",
   "metadata": {},
   "outputs": [],
   "source": [
    "x_sc.head(5)"
   ]
  },
  {
   "cell_type": "code",
   "execution_count": null,
   "id": "0661818d",
   "metadata": {},
   "outputs": [],
   "source": [
    "x_sc.describe()"
   ]
  },
  {
   "cell_type": "markdown",
   "id": "349387d6",
   "metadata": {},
   "source": [
    "## Splitting the training and testing data "
   ]
  },
  {
   "cell_type": "code",
   "execution_count": null,
   "id": "d23c0cbd",
   "metadata": {},
   "outputs": [],
   "source": [
    "from sklearn.model_selection import train_test_split"
   ]
  },
  {
   "cell_type": "code",
   "execution_count": null,
   "id": "27395298",
   "metadata": {},
   "outputs": [],
   "source": [
    "xtrain, xtest, ytrain, ytest = train_test_split(x_sc, y, test_size=0.2)"
   ]
  },
  {
   "cell_type": "code",
   "execution_count": null,
   "id": "53881d2c",
   "metadata": {},
   "outputs": [],
   "source": [
    "xtrain.shape, xtest.shape, ytrain.shape, ytest.shape"
   ]
  },
  {
   "cell_type": "markdown",
   "id": "8eacdbc4",
   "metadata": {},
   "source": [
    "# 1.2  Logical Regression as Classifier"
   ]
  },
  {
   "cell_type": "markdown",
   "id": "493fe342",
   "metadata": {},
   "source": [
    "### Logical Regression as Classifier"
   ]
  },
  {
   "cell_type": "code",
   "execution_count": null,
   "id": "cb233ed3",
   "metadata": {},
   "outputs": [],
   "source": [
    "from sklearn.linear_model import LogisticRegression"
   ]
  },
  {
   "cell_type": "code",
   "execution_count": null,
   "id": "1b5a603a",
   "metadata": {},
   "outputs": [],
   "source": [
    "log = LogisticRegression()"
   ]
  },
  {
   "cell_type": "code",
   "execution_count": null,
   "id": "8d5edb1d",
   "metadata": {},
   "outputs": [],
   "source": [
    "model = log.fit(xtrain, ytrain)"
   ]
  },
  {
   "cell_type": "code",
   "execution_count": null,
   "id": "38a298e7",
   "metadata": {},
   "outputs": [],
   "source": [
    "log_train_pred = model.predict(xtrain)\n",
    "log_train_pred"
   ]
  },
  {
   "cell_type": "code",
   "execution_count": null,
   "id": "838e4ad3",
   "metadata": {},
   "outputs": [],
   "source": [
    "log_test_pred = model.predict(xtest)"
   ]
  },
  {
   "cell_type": "code",
   "execution_count": null,
   "id": "4979a2ef",
   "metadata": {},
   "outputs": [],
   "source": [
    "log_test_pred"
   ]
  },
  {
   "cell_type": "markdown",
   "id": "ab30ad09",
   "metadata": {},
   "source": [
    "##  1.2.1 Performance Metrics"
   ]
  },
  {
   "cell_type": "code",
   "execution_count": null,
   "id": "58a5012f",
   "metadata": {},
   "outputs": [],
   "source": [
    "from sklearn.metrics import accuracy_score, classification_report, confusion_matrix"
   ]
  },
  {
   "cell_type": "markdown",
   "id": "33712cdd",
   "metadata": {},
   "source": [
    "### 1.2.1.1 Accuracy Score "
   ]
  },
  {
   "cell_type": "code",
   "execution_count": null,
   "id": "b0b83179",
   "metadata": {},
   "outputs": [],
   "source": [
    "print(\"Logistic Regression Training - Accuracy Score: \",accuracy_score(ytrain, log_train_pred))"
   ]
  },
  {
   "cell_type": "code",
   "execution_count": null,
   "id": "f32460c9",
   "metadata": {},
   "outputs": [],
   "source": [
    "print(\"Logistic Regression Testing - Accuracy Score: \",accuracy_score(ytest, log_test_pred))"
   ]
  },
  {
   "cell_type": "markdown",
   "id": "e20e2ccd",
   "metadata": {},
   "source": [
    "The model performed with a 89 % accuracy during the training phase. However, the accuracy has increased to 90% during the testing phase. This is a sign of underfitting. "
   ]
  },
  {
   "cell_type": "markdown",
   "id": "6ae79cd4",
   "metadata": {},
   "source": [
    "### 1.2.1.2 Classification Report"
   ]
  },
  {
   "cell_type": "code",
   "execution_count": null,
   "id": "d237dcc6",
   "metadata": {},
   "outputs": [],
   "source": [
    "log_train_cr = classification_report(ytrain, log_train_pred)"
   ]
  },
  {
   "cell_type": "code",
   "execution_count": null,
   "id": "1e7a7673",
   "metadata": {},
   "outputs": [],
   "source": [
    "print(\"Logistic Regression Training - Classification Report \\n\\n\", log_train_cr)"
   ]
  },
  {
   "cell_type": "code",
   "execution_count": null,
   "id": "549fc0d0",
   "metadata": {},
   "outputs": [],
   "source": [
    "log_test_cr = classification_report(ytest, log_test_pred)"
   ]
  },
  {
   "cell_type": "code",
   "execution_count": null,
   "id": "cff1e4ca",
   "metadata": {},
   "outputs": [],
   "source": [
    "print(\"Logistic Regression Testing - Classification Report \\n\\n\", log_test_cr)"
   ]
  },
  {
   "cell_type": "markdown",
   "id": "085b4587",
   "metadata": {},
   "source": [
    "### 1.2.1.3 Confusion Matrix"
   ]
  },
  {
   "cell_type": "code",
   "execution_count": null,
   "id": "9714105a",
   "metadata": {},
   "outputs": [],
   "source": [
    "log_train_cm = confusion_matrix(ytrain, log_train_pred)"
   ]
  },
  {
   "cell_type": "code",
   "execution_count": null,
   "id": "572172d0",
   "metadata": {},
   "outputs": [],
   "source": [
    "print(\"Logistic Regression Training - Confusion Matrix \\n\", log_train_cm)"
   ]
  },
  {
   "cell_type": "code",
   "execution_count": null,
   "id": "8bcf7440",
   "metadata": {},
   "outputs": [],
   "source": [
    "sns.heatmap(log_train_cm, annot=True, cmap = 'Spectral')\n",
    "plt.xlabel('Prediction')\n",
    "plt.ylabel('Target')\n",
    "plt.title('Logistic Regression Training - Confusion Matrix')\n",
    "plt.show()"
   ]
  },
  {
   "cell_type": "code",
   "execution_count": null,
   "id": "67f93594",
   "metadata": {},
   "outputs": [],
   "source": [
    "log_test_cm = confusion_matrix(ytest, log_test_pred)"
   ]
  },
  {
   "cell_type": "code",
   "execution_count": null,
   "id": "7aed7693",
   "metadata": {},
   "outputs": [],
   "source": [
    "print(\"Logistic Regression Testing - Confusion Matrix \\n\", log_test_cm)"
   ]
  },
  {
   "cell_type": "code",
   "execution_count": null,
   "id": "f9a96379",
   "metadata": {},
   "outputs": [],
   "source": [
    "sns.heatmap(log_test_cm, annot=True, cmap = 'Spectral')\n",
    "plt.xlabel('Prediction')\n",
    "plt.ylabel('Target')\n",
    "plt.title('Logistic Regression Testing - Confusion Matrix')\n",
    "plt.show()"
   ]
  },
  {
   "cell_type": "markdown",
   "id": "5618181e",
   "metadata": {},
   "source": [
    "#### ____________________\n",
    "# 2 CLASSIFICATION ALGORITHM\n",
    "#### ____________________"
   ]
  },
  {
   "cell_type": "markdown",
   "id": "1756b258",
   "metadata": {},
   "source": [
    "# 2.1 Decision Tree Classifier  \n"
   ]
  },
  {
   "cell_type": "code",
   "execution_count": null,
   "id": "c7f20653",
   "metadata": {},
   "outputs": [],
   "source": [
    "from sklearn.tree import DecisionTreeClassifier"
   ]
  },
  {
   "cell_type": "code",
   "execution_count": null,
   "id": "809f7ef8",
   "metadata": {},
   "outputs": [],
   "source": [
    "dt = DecisionTreeClassifier()"
   ]
  },
  {
   "cell_type": "code",
   "execution_count": null,
   "id": "37cdf83d",
   "metadata": {},
   "outputs": [],
   "source": [
    "dt_mod = dt.fit(xtrain, ytrain)"
   ]
  },
  {
   "cell_type": "code",
   "execution_count": null,
   "id": "8156bc1d",
   "metadata": {},
   "outputs": [],
   "source": [
    "dt_train_pred = dt_mod.predict(xtrain)"
   ]
  },
  {
   "cell_type": "code",
   "execution_count": null,
   "id": "3d8b862a",
   "metadata": {},
   "outputs": [],
   "source": [
    "dt_train_pred"
   ]
  },
  {
   "cell_type": "code",
   "execution_count": null,
   "id": "a2134552",
   "metadata": {},
   "outputs": [],
   "source": [
    "dt_test_pred = dt_mod.predict(xtest)"
   ]
  },
  {
   "cell_type": "code",
   "execution_count": null,
   "id": "ce7ec5d1",
   "metadata": {},
   "outputs": [],
   "source": [
    "dt_test_pred"
   ]
  },
  {
   "cell_type": "code",
   "execution_count": null,
   "id": "31d32f7f",
   "metadata": {},
   "outputs": [],
   "source": [
    "from sklearn import tree\n",
    "tree.plot_tree(dt_mod)"
   ]
  },
  {
   "cell_type": "markdown",
   "id": "d6835a47",
   "metadata": {},
   "source": [
    "## 2.1.1 Performance Metrics "
   ]
  },
  {
   "cell_type": "markdown",
   "id": "e85c0e30",
   "metadata": {},
   "source": [
    "### 2.1.1.1 Accuracy Score"
   ]
  },
  {
   "cell_type": "code",
   "execution_count": null,
   "id": "35e3f3cf",
   "metadata": {},
   "outputs": [],
   "source": [
    "print(\"Decision Tree Training - Accuracy Score: \",accuracy_score(ytrain, dt_train_pred))"
   ]
  },
  {
   "cell_type": "code",
   "execution_count": null,
   "id": "648019f9",
   "metadata": {},
   "outputs": [],
   "source": [
    "print(\"Decision Tree Testing - Accuracy Score: \",accuracy_score(ytest, dt_test_pred))"
   ]
  },
  {
   "cell_type": "markdown",
   "id": "0d2a9a75",
   "metadata": {},
   "source": [
    "The model performed with a 99 % accuracy during the training phase. However, the accuracy has come way down to 91% during the testing phase. This is a sign of overfitting. "
   ]
  },
  {
   "cell_type": "markdown",
   "id": "6d540fdd",
   "metadata": {},
   "source": [
    "### 2.1.1.2 Classification Report"
   ]
  },
  {
   "cell_type": "code",
   "execution_count": null,
   "id": "090eb0e2",
   "metadata": {},
   "outputs": [],
   "source": [
    "dt_train_cr = classification_report(ytrain, dt_train_pred)\n",
    "print(\"Logistic Regression Training - Classification Report \\n\\n\", dt_train_cr)"
   ]
  },
  {
   "cell_type": "code",
   "execution_count": null,
   "id": "1ac28436",
   "metadata": {},
   "outputs": [],
   "source": [
    "dt_test_cr = classification_report(ytest, dt_test_pred)\n",
    "print(\"Decision Tree Testing - Classification Report \\n\\n\", dt_test_cr)"
   ]
  },
  {
   "cell_type": "markdown",
   "id": "451a460c",
   "metadata": {},
   "source": [
    "### 2.1.1.3 Confusion Matrix"
   ]
  },
  {
   "cell_type": "code",
   "execution_count": null,
   "id": "bf27f4ca",
   "metadata": {},
   "outputs": [],
   "source": [
    "dt_train_cm = confusion_matrix(ytrain, dt_train_pred)\n",
    "print(\"Decision Tree Training - Confusion Matrix \\n\", dt_train_cm)"
   ]
  },
  {
   "cell_type": "code",
   "execution_count": null,
   "id": "97c8b740",
   "metadata": {},
   "outputs": [],
   "source": [
    "sns.heatmap(dt_train_cm, annot=True, cmap = 'Spectral')\n",
    "plt.xlabel('Prediction')\n",
    "plt.ylabel('Target')\n",
    "plt.title('Decision Tree Training - Confusion Matrix')\n",
    "plt.show()"
   ]
  },
  {
   "cell_type": "code",
   "execution_count": null,
   "id": "2aa43f66",
   "metadata": {},
   "outputs": [],
   "source": [
    "dt_test_cm = confusion_matrix(ytest, dt_test_pred)\n",
    "print(\"Logistic Regression Testing - Confusion Matrix \\n\", dt_test_cm)"
   ]
  },
  {
   "cell_type": "code",
   "execution_count": null,
   "id": "67fe272c",
   "metadata": {},
   "outputs": [],
   "source": [
    "sns.heatmap(dt_test_cm, annot=True, cmap = 'Spectral')\n",
    "plt.xlabel('Prediction')\n",
    "plt.ylabel('Target')\n",
    "plt.title('Decision Tree Testing - Confusion Matrix')\n",
    "plt.show()"
   ]
  },
  {
   "cell_type": "markdown",
   "id": "d9e6f1e2",
   "metadata": {},
   "source": [
    "## Hyperparameter tuning using Gridsearch CV "
   ]
  },
  {
   "cell_type": "code",
   "execution_count": null,
   "id": "de707edb",
   "metadata": {},
   "outputs": [],
   "source": [
    "param_dict = {\n",
    "    'criterion': ['gini', 'entropy'], \n",
    "    'max_depth': range(1,10), \n",
    "    'min_samples_split': range(1,10), \n",
    "    'min_samples_leaf': range(1,5)\n",
    "}"
   ]
  },
  {
   "cell_type": "code",
   "execution_count": null,
   "id": "e31ce781",
   "metadata": {},
   "outputs": [],
   "source": [
    "from sklearn.model_selection import GridSearchCV"
   ]
  },
  {
   "cell_type": "code",
   "execution_count": null,
   "id": "535ad03c",
   "metadata": {},
   "outputs": [],
   "source": [
    "grid = GridSearchCV(dt, param_grid = param_dict , cv = 10, verbose = 1, n_jobs=-1)\n",
    "grid.fit(xtrain, ytrain)"
   ]
  },
  {
   "cell_type": "code",
   "execution_count": null,
   "id": "75f69ee0",
   "metadata": {},
   "outputs": [],
   "source": [
    "grid.get_params"
   ]
  },
  {
   "cell_type": "code",
   "execution_count": null,
   "id": "4478dd19",
   "metadata": {},
   "outputs": [],
   "source": [
    "grid.best_params_"
   ]
  },
  {
   "cell_type": "code",
   "execution_count": null,
   "id": "5c75f68b",
   "metadata": {},
   "outputs": [],
   "source": [
    "grid.best_estimator_"
   ]
  },
  {
   "cell_type": "code",
   "execution_count": null,
   "id": "7ed7d6e5",
   "metadata": {},
   "outputs": [],
   "source": [
    "grid.best_score_"
   ]
  },
  {
   "cell_type": "markdown",
   "id": "0208dc88",
   "metadata": {},
   "source": [
    "## 2.1.2 Redefining the model "
   ]
  },
  {
   "cell_type": "code",
   "execution_count": null,
   "id": "9ef36d71",
   "metadata": {},
   "outputs": [],
   "source": [
    "grid_dt = DecisionTreeClassifier(criterion = 'gini', max_depth = 7, min_samples_leaf = 1, min_samples_split = 2)"
   ]
  },
  {
   "cell_type": "code",
   "execution_count": null,
   "id": "1aef446e",
   "metadata": {},
   "outputs": [],
   "source": [
    "grid_dt_mod = grid_dt.fit(xtrain,ytrain)"
   ]
  },
  {
   "cell_type": "code",
   "execution_count": null,
   "id": "27e1841b",
   "metadata": {},
   "outputs": [],
   "source": [
    "grid_dt_train_pred = grid_dt_mod.predict(xtrain)\n",
    "grid_dt_train_pred"
   ]
  },
  {
   "cell_type": "code",
   "execution_count": null,
   "id": "1db4b7ab",
   "metadata": {},
   "outputs": [],
   "source": [
    "grid_dt_test_pred = grid_dt_mod.predict(xtest)\n",
    "grid_dt_test_pred"
   ]
  },
  {
   "cell_type": "markdown",
   "id": "2c00d52e",
   "metadata": {},
   "source": [
    "### 2.1.2.1 Performance Metrics "
   ]
  },
  {
   "cell_type": "markdown",
   "id": "e30e4d57",
   "metadata": {},
   "source": [
    "#### 2.1.2.1.1 Accuracy Score"
   ]
  },
  {
   "cell_type": "code",
   "execution_count": null,
   "id": "83f576a7",
   "metadata": {},
   "outputs": [],
   "source": [
    "print(\"Decision Tree Training - Accuracy Score (After GridSearchCV): \",accuracy_score(ytrain, grid_dt_train_pred))"
   ]
  },
  {
   "cell_type": "code",
   "execution_count": null,
   "id": "991e391b",
   "metadata": {},
   "outputs": [],
   "source": [
    "print(\"Decision Tree Testing - Accuracy Score (After GridSearchCV): \",accuracy_score(ytest, grid_dt_test_pred))"
   ]
  },
  {
   "cell_type": "markdown",
   "id": "315bde42",
   "metadata": {},
   "source": [
    "The model performed with a 98 % accuracy during the training phase. However, the accuracy has come way down to 92% during the testing phase. This is a sign of overfitting."
   ]
  },
  {
   "cell_type": "markdown",
   "id": "3d98ba0c",
   "metadata": {},
   "source": [
    "#### 2.1.2.1.2 Classification Report"
   ]
  },
  {
   "cell_type": "code",
   "execution_count": null,
   "id": "755c1cf6",
   "metadata": {},
   "outputs": [],
   "source": [
    "\n",
    "grid_dt_train_cr = classification_report(ytrain, grid_dt_train_pred)\n",
    "print(\"Logistic Regression Training - Classification Report \\n\\n\", grid_dt_train_cr)\n"
   ]
  },
  {
   "cell_type": "code",
   "execution_count": null,
   "id": "c741422b",
   "metadata": {},
   "outputs": [],
   "source": [
    "grid_dt_test_cr = classification_report(ytest, grid_dt_test_pred)\n",
    "print(\"Logistic Regression Testing - Classification Report \\n\\n\", grid_dt_test_cr)"
   ]
  },
  {
   "cell_type": "markdown",
   "id": "c8226ce6",
   "metadata": {},
   "source": [
    "#### 2.1.2.1.3 Confusion Matrix"
   ]
  },
  {
   "cell_type": "code",
   "execution_count": null,
   "id": "4945724b",
   "metadata": {},
   "outputs": [],
   "source": [
    "grid_dt_train_cm = confusion_matrix(ytrain, grid_dt_train_pred)\n",
    "print(\"Decision Tree Training(GridSearch)- Confusion Matrix \\n\", grid_dt_train_cm)"
   ]
  },
  {
   "cell_type": "code",
   "execution_count": null,
   "id": "e93b0055",
   "metadata": {},
   "outputs": [],
   "source": [
    "sns.heatmap(grid_dt_train_cm, annot=True, cmap = 'Spectral')\n",
    "plt.xlabel('Prediction')\n",
    "plt.ylabel('Target')\n",
    "plt.title('Decision Tree Training(GridSearch) - Confusion Matrix')\n",
    "plt.show()"
   ]
  },
  {
   "cell_type": "code",
   "execution_count": null,
   "id": "15dea5b4",
   "metadata": {},
   "outputs": [],
   "source": [
    "grid_dt_test_cm = confusion_matrix(ytest, grid_dt_test_pred)\n",
    "print(\"Decision Tree Testing(GridSearch) - Confusion Matrix \\n\", grid_dt_test_cm)"
   ]
  },
  {
   "cell_type": "code",
   "execution_count": null,
   "id": "979f14b9",
   "metadata": {},
   "outputs": [],
   "source": [
    "sns.heatmap(grid_dt_test_cm, annot=True, cmap = 'Spectral')\n",
    "plt.xlabel('Prediction')\n",
    "plt.ylabel('Target')\n",
    "plt.title('Decision Tree Testing(GridSearch) - Confusion Matrix')\n",
    "plt.show()"
   ]
  },
  {
   "cell_type": "code",
   "execution_count": null,
   "id": "078301e5",
   "metadata": {},
   "outputs": [],
   "source": [
    "## As gini is suggested for best, but Iam going to try with entropy\n",
    "\n",
    "grid_dt = DecisionTreeClassifier(criterion = 'entropy', max_depth = 7, min_samples_leaf = 1, min_samples_split = 2)"
   ]
  },
  {
   "cell_type": "code",
   "execution_count": null,
   "id": "f8c291af",
   "metadata": {},
   "outputs": [],
   "source": [
    "grid_dt_mod = grid_dt.fit(xtrain,ytrain)"
   ]
  },
  {
   "cell_type": "code",
   "execution_count": null,
   "id": "6ecc9d9f",
   "metadata": {},
   "outputs": [],
   "source": [
    "grid_dt_train_pred = grid_dt_mod.predict(xtrain)\n",
    "grid_dt_train_pred"
   ]
  },
  {
   "cell_type": "code",
   "execution_count": null,
   "id": "10302883",
   "metadata": {},
   "outputs": [],
   "source": [
    "grid_dt_test_pred = grid_dt_mod.predict(xtest)\n",
    "grid_dt_test_pred"
   ]
  },
  {
   "cell_type": "markdown",
   "id": "f97cb119",
   "metadata": {},
   "source": [
    "## Performance Metrics "
   ]
  },
  {
   "cell_type": "markdown",
   "id": "54ae972c",
   "metadata": {},
   "source": [
    "### Accuracy Score"
   ]
  },
  {
   "cell_type": "code",
   "execution_count": null,
   "id": "bd6113d1",
   "metadata": {},
   "outputs": [],
   "source": [
    "print(\"Decision Tree Training - Accuracy Score (After GridSearchCV): \",accuracy_score(ytrain, grid_dt_train_pred))"
   ]
  },
  {
   "cell_type": "code",
   "execution_count": null,
   "id": "ba56502d",
   "metadata": {},
   "outputs": [],
   "source": [
    "print(\"Decision Tree Testing - Accuracy Score (After GridSearchCV): \",accuracy_score(ytest, grid_dt_test_pred))"
   ]
  },
  {
   "cell_type": "code",
   "execution_count": null,
   "id": "0a87b4e7",
   "metadata": {},
   "outputs": [],
   "source": [
    "### It remains same as we did for gini. Also another factor is we dint change any other values."
   ]
  },
  {
   "cell_type": "markdown",
   "id": "c8a00e7a",
   "metadata": {},
   "source": [
    "# 2.2 Building a Random Forest model"
   ]
  },
  {
   "cell_type": "code",
   "execution_count": null,
   "id": "e836f115",
   "metadata": {},
   "outputs": [],
   "source": [
    "from sklearn.ensemble import RandomForestClassifier"
   ]
  },
  {
   "cell_type": "code",
   "execution_count": null,
   "id": "4f5da51b",
   "metadata": {},
   "outputs": [],
   "source": [
    "rf = RandomForestClassifier()"
   ]
  },
  {
   "cell_type": "code",
   "execution_count": null,
   "id": "b25ded3f",
   "metadata": {},
   "outputs": [],
   "source": [
    "rf_mod = rf.fit(xtrain,ytrain)"
   ]
  },
  {
   "cell_type": "code",
   "execution_count": null,
   "id": "cf50dbf0",
   "metadata": {},
   "outputs": [],
   "source": [
    "rf_train_pred = rf_mod.predict(xtrain)"
   ]
  },
  {
   "cell_type": "code",
   "execution_count": null,
   "id": "1b3d2eef",
   "metadata": {},
   "outputs": [],
   "source": [
    "rf_train_pred"
   ]
  },
  {
   "cell_type": "code",
   "execution_count": null,
   "id": "700e1334",
   "metadata": {},
   "outputs": [],
   "source": [
    "rf_test_pred = rf_mod.predict(xtest)"
   ]
  },
  {
   "cell_type": "code",
   "execution_count": null,
   "id": "b54638ff",
   "metadata": {
    "scrolled": true
   },
   "outputs": [],
   "source": [
    "rf_test_pred"
   ]
  },
  {
   "cell_type": "markdown",
   "id": "b78c0381",
   "metadata": {},
   "source": [
    "## 2.2.1 Performance Metrics  "
   ]
  },
  {
   "cell_type": "markdown",
   "id": "77cabe24",
   "metadata": {},
   "source": [
    "### 2.2.1.1 Accuracy Score "
   ]
  },
  {
   "cell_type": "code",
   "execution_count": null,
   "id": "9591304d",
   "metadata": {},
   "outputs": [],
   "source": [
    "print(\"Random Forest Training - Accuracy Score:\", accuracy_score(ytrain, rf_train_pred))"
   ]
  },
  {
   "cell_type": "code",
   "execution_count": null,
   "id": "8ae2abf0",
   "metadata": {},
   "outputs": [],
   "source": [
    "print(\"Random Forest Testing - Accuracy Score:\", accuracy_score(ytest, rf_test_pred))"
   ]
  },
  {
   "cell_type": "markdown",
   "id": "13e9040f",
   "metadata": {},
   "source": [
    "The model performed with a 99 % accuracy during the training phase. However, the accuracy has come way down to 93% during the testing phase. This is a sign of overfitting. "
   ]
  },
  {
   "cell_type": "markdown",
   "id": "0ad2c2dd",
   "metadata": {},
   "source": [
    "### 2.2.1.2 Classification Report"
   ]
  },
  {
   "cell_type": "code",
   "execution_count": null,
   "id": "6482a283",
   "metadata": {},
   "outputs": [],
   "source": [
    "rf_train_cr = classification_report(ytrain, rf_train_pred)\n",
    "print(\"Random Forest Training- Classification Report: \\n\", rf_train_cr)"
   ]
  },
  {
   "cell_type": "code",
   "execution_count": null,
   "id": "ef86cfb6",
   "metadata": {},
   "outputs": [],
   "source": [
    "rf_test_cr = classification_report(ytest, rf_test_pred)\n",
    "print(\"Random Forest Testing - Classification Report : \\n\", rf_test_cr)"
   ]
  },
  {
   "cell_type": "markdown",
   "id": "b82a2afc",
   "metadata": {},
   "source": [
    "### 2.2.1 Confusion Matrix"
   ]
  },
  {
   "cell_type": "code",
   "execution_count": null,
   "id": "3042537f",
   "metadata": {},
   "outputs": [],
   "source": [
    "rf_train_cm = confusion_matrix(ytrain, rf_train_pred)\n",
    "print(\"Random Forest Training - Confusion Matrix \\n\", grid_dt_train_cm)"
   ]
  },
  {
   "cell_type": "code",
   "execution_count": null,
   "id": "386af4ce",
   "metadata": {},
   "outputs": [],
   "source": [
    "sns.heatmap(rf_train_cm, annot=True, cmap = 'Spectral')\n",
    "plt.xlabel('Prediction')\n",
    "plt.ylabel('Target')\n",
    "plt.title('Random Forest Training - Confusion Matrix ')\n",
    "plt.show()"
   ]
  },
  {
   "cell_type": "code",
   "execution_count": null,
   "id": "c16cea67",
   "metadata": {},
   "outputs": [],
   "source": [
    "rf_test_cm = confusion_matrix(ytest, rf_test_pred)\n",
    "print(\"Random Forest Testing - Confusion Matrix \\n\", rf_test_cm)"
   ]
  },
  {
   "cell_type": "code",
   "execution_count": null,
   "id": "6be0c988",
   "metadata": {},
   "outputs": [],
   "source": [
    "sns.heatmap(rf_test_cm, annot=True, cmap = 'Spectral')\n",
    "plt.xlabel('Prediction')\n",
    "plt.ylabel('Target')\n",
    "plt.title('Random Forest Testing - Confusion Matrix')\n",
    "plt.show()"
   ]
  },
  {
   "cell_type": "code",
   "execution_count": null,
   "id": "4dfc9329",
   "metadata": {},
   "outputs": [],
   "source": [
    "grid.fit(xtrain,ytrain)"
   ]
  },
  {
   "cell_type": "code",
   "execution_count": null,
   "id": "7b2a1e59",
   "metadata": {},
   "outputs": [],
   "source": [
    "grid.best_params_"
   ]
  },
  {
   "cell_type": "code",
   "execution_count": null,
   "id": "83385a8f",
   "metadata": {},
   "outputs": [],
   "source": [
    "grid.best_estimator_"
   ]
  },
  {
   "cell_type": "markdown",
   "id": "ae377a14",
   "metadata": {},
   "source": [
    "## 2.2.2 Redefining the model"
   ]
  },
  {
   "cell_type": "code",
   "execution_count": null,
   "id": "8c7f451c",
   "metadata": {},
   "outputs": [],
   "source": [
    "grid_rf = DecisionTreeClassifier(criterion='gini', max_depth=7, min_samples_leaf=1, min_samples_split=2)"
   ]
  },
  {
   "cell_type": "code",
   "execution_count": null,
   "id": "3832cd23",
   "metadata": {},
   "outputs": [],
   "source": [
    "grid_rf_mod = grid_rf.fit(xtrain, ytrain)"
   ]
  },
  {
   "cell_type": "code",
   "execution_count": null,
   "id": "360c2c83",
   "metadata": {},
   "outputs": [],
   "source": [
    "grid_rf_train_pred = grid_rf_mod.predict(xtrain)\n",
    "grid_rf_train_pred"
   ]
  },
  {
   "cell_type": "code",
   "execution_count": null,
   "id": "1c1522f7",
   "metadata": {},
   "outputs": [],
   "source": [
    "grid_rf_test_pred = grid_rf_mod.predict(xtest)\n",
    "grid_rf_test_pred"
   ]
  },
  {
   "cell_type": "markdown",
   "id": "90f75d28",
   "metadata": {},
   "source": [
    "### 2.2.2.1 Performance Metrics "
   ]
  },
  {
   "cell_type": "markdown",
   "id": "f0eecd0d",
   "metadata": {},
   "source": [
    "#### 2.2.2.1.1 Accuracy Score"
   ]
  },
  {
   "cell_type": "code",
   "execution_count": null,
   "id": "daeaa1d0",
   "metadata": {},
   "outputs": [],
   "source": [
    "print(\"Random Forest Training - Accuracy Score (After GridSearchCV): \",accuracy_score(ytrain, grid_rf_train_pred))"
   ]
  },
  {
   "cell_type": "code",
   "execution_count": null,
   "id": "40889799",
   "metadata": {},
   "outputs": [],
   "source": [
    "print(\"Random Forest Testing - Accuracy Score (After GridSearchCV): \",accuracy_score(ytest, grid_rf_test_pred))"
   ]
  },
  {
   "cell_type": "markdown",
   "id": "5446a672",
   "metadata": {},
   "source": [
    "The model performed with a 98 % accuracy during the training phase. However, the accuracy has come way down to 92% during the testing phase. This is a sign of overfitting."
   ]
  },
  {
   "cell_type": "markdown",
   "id": "ca4e2061",
   "metadata": {},
   "source": [
    "#### 2.2.2.1.2 Classification Report"
   ]
  },
  {
   "cell_type": "code",
   "execution_count": null,
   "id": "9a04b554",
   "metadata": {},
   "outputs": [],
   "source": [
    "grid_rf_train_cr = classification_report(ytrain, grid_rf_train_pred)\n",
    "print(\"Random Forest Tree Training - Classification Report (After GridSearchCV): \\n\", grid_rf_train_cr)"
   ]
  },
  {
   "cell_type": "code",
   "execution_count": null,
   "id": "5a776178",
   "metadata": {},
   "outputs": [],
   "source": [
    "grid_rf_test_cr = classification_report(ytest, grid_rf_test_pred)\n",
    "print(\"Random Forest Tree Testing - Classification Report (After GridSearchCV): \\n\", grid_rf_test_cr)"
   ]
  },
  {
   "cell_type": "markdown",
   "id": "af2a165e",
   "metadata": {},
   "source": [
    "#### 2.2.2.1.3 Confusion Matrix"
   ]
  },
  {
   "cell_type": "code",
   "execution_count": null,
   "id": "f741ebf0",
   "metadata": {},
   "outputs": [],
   "source": [
    "grid_rf_train_cm = confusion_matrix(ytrain, grid_rf_train_pred)\n",
    "print(\"Random Forest Tree Training - Confusion Matrix (After GridSearchCV)\\n\", grid_rf_train_cm)"
   ]
  },
  {
   "cell_type": "code",
   "execution_count": null,
   "id": "906e2d05",
   "metadata": {},
   "outputs": [],
   "source": [
    "sns.heatmap(grid_rf_train_cm, annot=True, cmap = 'Spectral')\n",
    "plt.xlabel('Prediction')\n",
    "plt.ylabel('Target')\n",
    "plt.title('Random Forest Training - Confusion Matrix (After GridSearchCV)')\n",
    "plt.show()"
   ]
  },
  {
   "cell_type": "code",
   "execution_count": null,
   "id": "29e195bc",
   "metadata": {},
   "outputs": [],
   "source": [
    "grid_rf_test_cm = confusion_matrix(ytest, grid_rf_test_pred)\n",
    "print(\"Random Forest Tree Testing - Confusion Matrix (After GridSearchCV)\\n\", grid_rf_test_cm)"
   ]
  },
  {
   "cell_type": "code",
   "execution_count": null,
   "id": "5b72f056",
   "metadata": {},
   "outputs": [],
   "source": [
    "sns.heatmap(grid_rf_test_cm, annot=True, cmap = 'Spectral')\n",
    "plt.xlabel('Prediction')\n",
    "plt.ylabel('Target')\n",
    "plt.title('Random Forest Tree Testing - Confusion Matrix (After GridSearchCV)')\n",
    "plt.show()"
   ]
  },
  {
   "cell_type": "markdown",
   "id": "677db387",
   "metadata": {},
   "source": [
    "# 2.3 Building KNN Model"
   ]
  },
  {
   "cell_type": "code",
   "execution_count": null,
   "id": "e5cc7d67",
   "metadata": {},
   "outputs": [],
   "source": [
    "from sklearn.neighbors import KNeighborsClassifier"
   ]
  },
  {
   "cell_type": "code",
   "execution_count": null,
   "id": "40f29fe5",
   "metadata": {},
   "outputs": [],
   "source": [
    "knn = KNeighborsClassifier(5)"
   ]
  },
  {
   "cell_type": "code",
   "execution_count": null,
   "id": "325d753e",
   "metadata": {},
   "outputs": [],
   "source": [
    "knn.n_neighbors"
   ]
  },
  {
   "cell_type": "code",
   "execution_count": null,
   "id": "2c42b83a",
   "metadata": {},
   "outputs": [],
   "source": [
    "knn_mod = knn.fit(xtrain,ytrain)"
   ]
  },
  {
   "cell_type": "code",
   "execution_count": null,
   "id": "80fc89ba",
   "metadata": {},
   "outputs": [],
   "source": [
    "knn_train_pred = knn_mod.predict(xtrain)\n",
    "knn_train_pred"
   ]
  },
  {
   "cell_type": "code",
   "execution_count": null,
   "id": "1e6e1ace",
   "metadata": {},
   "outputs": [],
   "source": [
    "knn_test_pred = knn_mod.predict(xtest)\n",
    "knn_test_pred"
   ]
  },
  {
   "cell_type": "markdown",
   "id": "fd298c5d",
   "metadata": {},
   "source": [
    "## 2.3.1 Performance Metrics  "
   ]
  },
  {
   "cell_type": "markdown",
   "id": "c289b5e0",
   "metadata": {},
   "source": [
    "### 2.3.1.1 Accuracy Metrics "
   ]
  },
  {
   "cell_type": "code",
   "execution_count": null,
   "id": "9524edb9",
   "metadata": {},
   "outputs": [],
   "source": [
    "print(\"KNN Training - Accuracy Score:\", accuracy_score(ytrain, knn_train_pred))"
   ]
  },
  {
   "cell_type": "code",
   "execution_count": null,
   "id": "ec5ba435",
   "metadata": {},
   "outputs": [],
   "source": [
    "print(\"KNN Testing - Accuracy Score:\", accuracy_score(ytest, knn_test_pred))"
   ]
  },
  {
   "cell_type": "markdown",
   "id": "45c2874f",
   "metadata": {},
   "source": [
    "The model performed with a 94 % accuracy during the training phase. However, the accuracy has come way down to 87% during the testing phase. This is a sign of overfitting. "
   ]
  },
  {
   "cell_type": "markdown",
   "id": "2b698bea",
   "metadata": {},
   "source": [
    "### 2.3.1.2 Classification Report"
   ]
  },
  {
   "cell_type": "code",
   "execution_count": null,
   "id": "98e4a1c5",
   "metadata": {},
   "outputs": [],
   "source": [
    "knn_train_cr = classification_report(ytrain, knn_train_pred)\n",
    "print(\"KNN Training - Classification Report : \\n\", knn_train_cr)"
   ]
  },
  {
   "cell_type": "code",
   "execution_count": null,
   "id": "fd60038e",
   "metadata": {},
   "outputs": [],
   "source": [
    "knn_test_cr = classification_report(ytest, knn_test_pred)\n",
    "print(\"KNN Testing - Classification Report : \\n\", knn_test_cr)"
   ]
  },
  {
   "cell_type": "markdown",
   "id": "3977b272",
   "metadata": {},
   "source": [
    "### 2.3.1.3 Confusion Matrix"
   ]
  },
  {
   "cell_type": "code",
   "execution_count": null,
   "id": "54c5a4c7",
   "metadata": {},
   "outputs": [],
   "source": [
    "knn_train_cm = confusion_matrix(ytrain, knn_train_pred)\n",
    "print(\"KNN Training - Confusion Matrix \\n\", knn_train_cm)"
   ]
  },
  {
   "cell_type": "code",
   "execution_count": null,
   "id": "b05c2f7b",
   "metadata": {},
   "outputs": [],
   "source": [
    "sns.heatmap(knn_train_cm, annot=True, cmap = 'Spectral')\n",
    "plt.xlabel('Prediction')\n",
    "plt.ylabel('Target')\n",
    "plt.title('KNN Training - Confusion Matrix ')\n",
    "plt.show()"
   ]
  },
  {
   "cell_type": "code",
   "execution_count": null,
   "id": "9f05f964",
   "metadata": {},
   "outputs": [],
   "source": [
    "knn_test_cm = confusion_matrix(ytest, knn_test_pred)\n",
    "print(\"KNN Testing - Confusion Matrix \\n\", knn_test_cm)"
   ]
  },
  {
   "cell_type": "code",
   "execution_count": null,
   "id": "90d2a6dc",
   "metadata": {},
   "outputs": [],
   "source": [
    "sns.heatmap(knn_test_cm, annot=True, cmap = 'Spectral')\n",
    "plt.xlabel('Prediction')\n",
    "plt.ylabel('Target')\n",
    "plt.title('KNN Testing - Confusion Matrix ')\n",
    "plt.show()"
   ]
  },
  {
   "cell_type": "markdown",
   "id": "79d45774",
   "metadata": {},
   "source": [
    "## 2.5.2 Finding the optimal value of K"
   ]
  },
  {
   "cell_type": "code",
   "execution_count": null,
   "id": "ecf39a79",
   "metadata": {},
   "outputs": [],
   "source": [
    "k_range = range(1, 100)\n",
    "weight_options = ['uniform', 'distance']\n",
    "\n",
    "param_grid = dict(n_neighbors = k_range, weights = weight_options)\n",
    "\n",
    "grid_knn = GridSearchCV(knn_mod, param_grid, cv = 10, scoring = 'accuracy')\n",
    "grid_knn.fit(xtrain, ytrain)"
   ]
  },
  {
   "cell_type": "code",
   "execution_count": null,
   "id": "52df2e60",
   "metadata": {},
   "outputs": [],
   "source": [
    "grid_knn.get_params"
   ]
  },
  {
   "cell_type": "code",
   "execution_count": null,
   "id": "8fa3770b",
   "metadata": {},
   "outputs": [],
   "source": [
    "grid_knn.best_params_"
   ]
  },
  {
   "cell_type": "code",
   "execution_count": null,
   "id": "e024f47c",
   "metadata": {},
   "outputs": [],
   "source": [
    "grid_knn.best_score_"
   ]
  },
  {
   "cell_type": "markdown",
   "id": "1f824f1c",
   "metadata": {},
   "source": [
    "## 2.3.3 Redefining the model "
   ]
  },
  {
   "cell_type": "code",
   "execution_count": null,
   "id": "6ed4aa81",
   "metadata": {},
   "outputs": [],
   "source": [
    "grid_knn = KNeighborsClassifier(n_neighbors=4, weights='distance')"
   ]
  },
  {
   "cell_type": "code",
   "execution_count": null,
   "id": "99719787",
   "metadata": {},
   "outputs": [],
   "source": [
    "grid_knn_mod = grid_knn.fit(xtrain,ytrain)"
   ]
  },
  {
   "cell_type": "code",
   "execution_count": null,
   "id": "ada29834",
   "metadata": {},
   "outputs": [],
   "source": [
    "grid_knn_train_pred = grid_knn_mod.predict(xtrain)\n",
    "grid_knn_train_pred"
   ]
  },
  {
   "cell_type": "code",
   "execution_count": null,
   "id": "9ad02db0",
   "metadata": {},
   "outputs": [],
   "source": [
    "grid_knn_test_pred = grid_knn_mod.predict(xtest)\n",
    "grid_knn_test_pred"
   ]
  },
  {
   "cell_type": "markdown",
   "id": "03baba8c",
   "metadata": {},
   "source": [
    "### 2.3.3.1 Performance Metrics "
   ]
  },
  {
   "cell_type": "markdown",
   "id": "aaa455c8",
   "metadata": {},
   "source": [
    "#### 2.3.3.1.1 Accuracy Score"
   ]
  },
  {
   "cell_type": "code",
   "execution_count": null,
   "id": "6b6e0cfd",
   "metadata": {},
   "outputs": [],
   "source": [
    "print(\"KNN Training - Accuracy Score (After GridSearchCV): \",accuracy_score(ytrain, grid_knn_train_pred))"
   ]
  },
  {
   "cell_type": "code",
   "execution_count": null,
   "id": "0ed83460",
   "metadata": {},
   "outputs": [],
   "source": [
    "print(\"KNN Testing - Accuracy Score (After GridSearchCV): \",accuracy_score(ytest, grid_knn_test_pred))"
   ]
  },
  {
   "cell_type": "markdown",
   "id": "3c2bc15d",
   "metadata": {},
   "source": [
    "The model performed with a 99 % accuracy during the training phase. However, the accuracy has come way down to 90% during the testing phase. This is a sign of overfitting. "
   ]
  },
  {
   "cell_type": "markdown",
   "id": "e5add002",
   "metadata": {},
   "source": [
    "#### 2.3.3.1.2 Classification Report"
   ]
  },
  {
   "cell_type": "code",
   "execution_count": null,
   "id": "c634f103",
   "metadata": {},
   "outputs": [],
   "source": [
    "grid_knn_train_cr = classification_report(ytrain, grid_knn_train_pred)\n",
    "print(\"knn Training - Classification Report (After GridSearchCV): \\n\", grid_knn_train_cr)"
   ]
  },
  {
   "cell_type": "code",
   "execution_count": null,
   "id": "30679a8c",
   "metadata": {},
   "outputs": [],
   "source": [
    "grid_knn_test_cr = classification_report(ytest, grid_knn_test_pred)\n",
    "print(\"knn Testing - Classification Report (After GridSearchCV): \\n\", grid_knn_test_cr)"
   ]
  },
  {
   "cell_type": "markdown",
   "id": "ca1fe4ee",
   "metadata": {},
   "source": [
    "#### 2.3.3.1.3 Confusion Matrix"
   ]
  },
  {
   "cell_type": "code",
   "execution_count": null,
   "id": "22fdbb1c",
   "metadata": {},
   "outputs": [],
   "source": [
    "grid_knn_train_cm = confusion_matrix(ytrain, grid_knn_train_pred)\n",
    "print(\"knn Training - Confusion Matrix (After GridSearchCV)\\n\", grid_knn_train_cm)"
   ]
  },
  {
   "cell_type": "code",
   "execution_count": null,
   "id": "17c1d69a",
   "metadata": {},
   "outputs": [],
   "source": [
    "sns.heatmap(grid_knn_train_cm, annot=True, cmap = 'Spectral')\n",
    "plt.xlabel('Prediction')\n",
    "plt.ylabel('Target')\n",
    "plt.title('knn Training - Confusion Matrix (After GridSearchCV)')\n",
    "plt.show()"
   ]
  },
  {
   "cell_type": "code",
   "execution_count": null,
   "id": "8eaad3e8",
   "metadata": {},
   "outputs": [],
   "source": [
    "grid_knn_test_cm = confusion_matrix(ytest, grid_knn_test_pred)\n",
    "print(\"knn Testing - Confusion Matrix (After GridSearchCV)\\n\", grid_knn_test_cm)"
   ]
  },
  {
   "cell_type": "code",
   "execution_count": null,
   "id": "ca91225e",
   "metadata": {},
   "outputs": [],
   "source": [
    "sns.heatmap(grid_knn_test_cm, annot=True, cmap = 'Spectral')\n",
    "plt.xlabel('Prediction')\n",
    "plt.ylabel('Target')\n",
    "plt.title('knn Testing - Confusion Matrix (After GridSearchCV)')\n",
    "plt.show()"
   ]
  },
  {
   "cell_type": "markdown",
   "id": "c8f476d6",
   "metadata": {},
   "source": [
    "# 2.4 Building a Naive Baye's model"
   ]
  },
  {
   "cell_type": "code",
   "execution_count": null,
   "id": "f5acf5a5",
   "metadata": {},
   "outputs": [],
   "source": [
    "from sklearn.naive_bayes import GaussianNB"
   ]
  },
  {
   "cell_type": "code",
   "execution_count": null,
   "id": "8eaea355",
   "metadata": {},
   "outputs": [],
   "source": [
    "nb = GaussianNB()"
   ]
  },
  {
   "cell_type": "code",
   "execution_count": null,
   "id": "35edaf79",
   "metadata": {},
   "outputs": [],
   "source": [
    "nb_mod = nb.fit(xtrain,ytrain)"
   ]
  },
  {
   "cell_type": "code",
   "execution_count": null,
   "id": "d8fd5633",
   "metadata": {},
   "outputs": [],
   "source": [
    "nb_train_pred = nb_mod.predict(xtrain)\n",
    "nb_train_pred"
   ]
  },
  {
   "cell_type": "code",
   "execution_count": null,
   "id": "8227996c",
   "metadata": {},
   "outputs": [],
   "source": [
    "nb_test_pred = nb_mod.predict(xtest)\n",
    "nb_test_pred"
   ]
  },
  {
   "cell_type": "markdown",
   "id": "b57680f2",
   "metadata": {},
   "source": [
    "## 2.4.1 Performance Metrics"
   ]
  },
  {
   "cell_type": "markdown",
   "id": "c5cb288f",
   "metadata": {},
   "source": [
    "### 2.4.1.1 Accuracy Score"
   ]
  },
  {
   "cell_type": "code",
   "execution_count": null,
   "id": "0b78910d",
   "metadata": {},
   "outputs": [],
   "source": [
    "print(\"Naive bayes Training - Accuracy Score: \", accuracy_score(ytrain, nb_train_pred))"
   ]
  },
  {
   "cell_type": "code",
   "execution_count": null,
   "id": "86c9477d",
   "metadata": {},
   "outputs": [],
   "source": [
    "print(\"Naive bayes Testing - Accuracy Score: \", accuracy_score(ytest, nb_test_pred))"
   ]
  },
  {
   "cell_type": "markdown",
   "id": "7505c92b",
   "metadata": {},
   "source": [
    "The model performed with a 79 % accuracy during the training phase. However, the accuracy has come way down to 75% during the testing phase. This is a sign of overfitting. "
   ]
  },
  {
   "cell_type": "markdown",
   "id": "d92f35dc",
   "metadata": {},
   "source": [
    "### 2.4.1.2 Classification Report"
   ]
  },
  {
   "cell_type": "code",
   "execution_count": null,
   "id": "a3819693",
   "metadata": {},
   "outputs": [],
   "source": [
    "nb_train_cr = classification_report(ytrain, nb_train_pred)\n",
    "print(\"Naive Baye's Training - Classification Report : \\n\", nb_train_cr)"
   ]
  },
  {
   "cell_type": "code",
   "execution_count": null,
   "id": "1433456a",
   "metadata": {},
   "outputs": [],
   "source": [
    "nb_test_cr = classification_report(ytest, nb_test_pred)\n",
    "print(\"Naive Baye's Testing - Classification Report : \\n\", nb_test_cr)"
   ]
  },
  {
   "cell_type": "markdown",
   "id": "7ee28bbe",
   "metadata": {},
   "source": [
    "### 2.4.1.3 Confusion Matrix"
   ]
  },
  {
   "cell_type": "code",
   "execution_count": null,
   "id": "cd4ac3b3",
   "metadata": {},
   "outputs": [],
   "source": [
    "nb_train_cm = confusion_matrix(ytrain, nb_train_pred)\n",
    "print(\"Naive Baye's Training - Confusion Matrix \\n\", nb_train_cm)"
   ]
  },
  {
   "cell_type": "code",
   "execution_count": null,
   "id": "fbf31797",
   "metadata": {},
   "outputs": [],
   "source": [
    "sns.heatmap(nb_train_cm, annot=True, cmap = 'Spectral')\n",
    "plt.xlabel('Prediction')\n",
    "plt.ylabel('Target')\n",
    "plt.title(\" Naive Baye's Training - Confusion Matrix\")\n",
    "plt.show()"
   ]
  },
  {
   "cell_type": "code",
   "execution_count": null,
   "id": "ed19c103",
   "metadata": {},
   "outputs": [],
   "source": [
    "nb_test_cm = confusion_matrix(ytest, nb_test_pred)\n",
    "print(\"Naive Baye's Testing - Confusion Matrix \\n\", nb_test_cm)"
   ]
  },
  {
   "cell_type": "code",
   "execution_count": null,
   "id": "29523499",
   "metadata": {},
   "outputs": [],
   "source": [
    "sns.heatmap(nb_test_cm, annot=True, cmap = 'Spectral')\n",
    "plt.xlabel('Prediction')\n",
    "plt.ylabel('Target')\n",
    "plt.title(\"Naive Baye's Testing - Confusion Matrix\")\n",
    "plt.show()"
   ]
  }
 ],
 "metadata": {
  "kernelspec": {
   "display_name": "Python 3 (ipykernel)",
   "language": "python",
   "name": "python3"
  },
  "language_info": {
   "codemirror_mode": {
    "name": "ipython",
    "version": 3
   },
   "file_extension": ".py",
   "mimetype": "text/x-python",
   "name": "python",
   "nbconvert_exporter": "python",
   "pygments_lexer": "ipython3",
   "version": "3.10.9"
  },
  "toc": {
   "base_numbering": 1,
   "nav_menu": {},
   "number_sections": false,
   "sideBar": true,
   "skip_h1_title": false,
   "title_cell": "Table of Contents",
   "title_sidebar": "Contents",
   "toc_cell": false,
   "toc_position": {
    "height": "calc(100% - 180px)",
    "left": "10px",
    "top": "150px",
    "width": "165px"
   },
   "toc_section_display": true,
   "toc_window_display": true
  }
 },
 "nbformat": 4,
 "nbformat_minor": 5
}
