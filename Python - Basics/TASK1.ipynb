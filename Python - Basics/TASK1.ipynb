{
 "cells": [
  {
   "cell_type": "markdown",
   "id": "0f9bca87",
   "metadata": {},
   "source": [
    "## TASK-1"
   ]
  },
  {
   "cell_type": "markdown",
   "id": "4b5c7266",
   "metadata": {},
   "source": [
    "## Python Basics"
   ]
  },
  {
   "cell_type": "markdown",
   "id": "0681cf2b",
   "metadata": {},
   "source": [
    "#### Variables"
   ]
  },
  {
   "cell_type": "markdown",
   "id": "31192cee",
   "metadata": {},
   "source": [
    "Integer,string,float are major datatypes."
   ]
  },
  {
   "cell_type": "code",
   "execution_count": 12,
   "id": "41861dfc",
   "metadata": {},
   "outputs": [],
   "source": [
    "a=1          ##integer\n",
    "b='string'   ##string\n",
    "c=12.4       ##float\n",
    "d='12.4'     ##it might be integer if it is not inside the quotes."
   ]
  },
  {
   "cell_type": "markdown",
   "id": "efc7a101",
   "metadata": {},
   "source": [
    "To get to know about the data type of variable we use\n",
    "'type()' function."
   ]
  },
  {
   "cell_type": "code",
   "execution_count": 13,
   "id": "c805df81",
   "metadata": {},
   "outputs": [
    {
     "name": "stdout",
     "output_type": "stream",
     "text": [
      "<class 'int'>\n",
      "<class 'str'>\n",
      "<class 'float'>\n",
      "<class 'str'>\n"
     ]
    }
   ],
   "source": [
    "print(type(a))\n",
    "print(type(b))\n",
    "print(type(c))\n",
    "print(type(d))"
   ]
  },
  {
   "cell_type": "code",
   "execution_count": 14,
   "id": "f599db05",
   "metadata": {},
   "outputs": [
    {
     "name": "stdout",
     "output_type": "stream",
     "text": [
      "hello\n",
      "hello world\n"
     ]
    }
   ],
   "source": [
    "print('hello')\n",
    "print('hello world')"
   ]
  },
  {
   "cell_type": "markdown",
   "id": "c76829a4",
   "metadata": {},
   "source": [
    "In the above print statement, why the hello and hello world is being printed in two different lines?"
   ]
  },
  {
   "cell_type": "markdown",
   "id": "167702de",
   "metadata": {},
   "source": [
    "It is because the end key of print function will set the string that needs to be appended \n",
    "when printing is done.By default the end key is set by newline character.Let us check it out."
   ]
  },
  {
   "cell_type": "code",
   "execution_count": 15,
   "id": "fb4e1e15",
   "metadata": {},
   "outputs": [
    {
     "name": "stdout",
     "output_type": "stream",
     "text": [
      "hello hello world\n"
     ]
    }
   ],
   "source": [
    "print('hello',end=\" \")   ## assigning the end with a space\n",
    "print('hello world')"
   ]
  },
  {
   "cell_type": "code",
   "execution_count": 16,
   "id": "063debee",
   "metadata": {},
   "outputs": [
    {
     "name": "stdout",
     "output_type": "stream",
     "text": [
      "hello space hello world end "
     ]
    }
   ],
   "source": [
    "print('hello',end=\" space \")     ## assigning the end with ' space '\n",
    "print('hello world',end=' end ') ## assigning the end with ' end '"
   ]
  },
  {
   "cell_type": "markdown",
   "id": "d4eab104",
   "metadata": {},
   "source": [
    "What happens when you want to print an variable inside the print statement?"
   ]
  },
  {
   "cell_type": "code",
   "execution_count": 17,
   "id": "08d365b0",
   "metadata": {},
   "outputs": [
    {
     "name": "stdout",
     "output_type": "stream",
     "text": [
      "karthikaa\n"
     ]
    }
   ],
   "source": [
    "a='karthikaa'\n",
    "print(a)"
   ]
  },
  {
   "cell_type": "markdown",
   "id": "42a8ba93",
   "metadata": {},
   "source": [
    "What happens when you want to print two other variable inside the same print statement?\n",
    "Here comes the concept \n",
    "#### Concatenation"
   ]
  },
  {
   "cell_type": "code",
   "execution_count": 18,
   "id": "365f710f",
   "metadata": {},
   "outputs": [
    {
     "name": "stdout",
     "output_type": "stream",
     "text": [
      "pythoncourse\n",
      "helloworld\n"
     ]
    }
   ],
   "source": [
    "a='python'\n",
    "b='course'\n",
    "print(a+b)\n",
    "\n",
    "## The '+' acts as an arithmetic operator when dealing with integers or floats,but\n",
    "## concanetates when dealing with strings\n",
    "\n",
    "print('hello'+'world')"
   ]
  },
  {
   "cell_type": "markdown",
   "id": "1ab378c5",
   "metadata": {},
   "source": [
    "Lets try to concatenate two other data types together"
   ]
  },
  {
   "cell_type": "code",
   "execution_count": 19,
   "id": "704283e2",
   "metadata": {},
   "outputs": [
    {
     "ename": "TypeError",
     "evalue": "can only concatenate str (not \"int\") to str",
     "output_type": "error",
     "traceback": [
      "\u001b[1;31m---------------------------------------------------------------------------\u001b[0m",
      "\u001b[1;31mTypeError\u001b[0m                                 Traceback (most recent call last)",
      "Cell \u001b[1;32mIn[19], line 3\u001b[0m\n\u001b[0;32m      1\u001b[0m a\u001b[38;5;241m=\u001b[39m\u001b[38;5;124m'\u001b[39m\u001b[38;5;124mpython\u001b[39m\u001b[38;5;124m'\u001b[39m\n\u001b[0;32m      2\u001b[0m b\u001b[38;5;241m=\u001b[39m\u001b[38;5;241m1\u001b[39m\n\u001b[1;32m----> 3\u001b[0m \u001b[38;5;28mprint\u001b[39m(\u001b[43ma\u001b[49m\u001b[38;5;241;43m+\u001b[39;49m\u001b[43mb\u001b[49m)\n",
      "\u001b[1;31mTypeError\u001b[0m: can only concatenate str (not \"int\") to str"
     ]
    }
   ],
   "source": [
    "a='python'\n",
    "b=1\n",
    "print(a+b)\n",
    "\n",
    "## We result in TypeError, as two different data types can not be concatenated."
   ]
  },
  {
   "cell_type": "code",
   "execution_count": null,
   "id": "379e1f26",
   "metadata": {},
   "outputs": [],
   "source": [
    "a=10.2\n",
    "b=9\n",
    "print(a+b)\n",
    "\n",
    "## Here the two different data type is added because '+' plays operator role here."
   ]
  },
  {
   "cell_type": "markdown",
   "id": "9ea164d0",
   "metadata": {},
   "source": [
    "Taking about errors, what happens when we assign a word to a variable without quoting it?"
   ]
  },
  {
   "cell_type": "code",
   "execution_count": 20,
   "id": "878df570",
   "metadata": {},
   "outputs": [
    {
     "ename": "NameError",
     "evalue": "name 'cancel' is not defined",
     "output_type": "error",
     "traceback": [
      "\u001b[1;31m---------------------------------------------------------------------------\u001b[0m",
      "\u001b[1;31mNameError\u001b[0m                                 Traceback (most recent call last)",
      "Cell \u001b[1;32mIn[20], line 1\u001b[0m\n\u001b[1;32m----> 1\u001b[0m a\u001b[38;5;241m=\u001b[39m\u001b[43mcancel\u001b[49m\n\u001b[0;32m      2\u001b[0m \u001b[38;5;28mprint\u001b[39m(a)\n",
      "\u001b[1;31mNameError\u001b[0m: name 'cancel' is not defined"
     ]
    }
   ],
   "source": [
    "a=cancel\n",
    "print(a)\n",
    "## It results in NameError\n",
    "## Because 'hello' is a variable with no value assigned to it."
   ]
  },
  {
   "cell_type": "code",
   "execution_count": null,
   "id": "6647468b",
   "metadata": {},
   "outputs": [],
   "source": [
    "##Lets fix this\n",
    "\n",
    "cancel='good vibes'\n",
    "a=cancel\n",
    "print(a)\n",
    "\n",
    "## Here we have assigned a string value to the varibale 'hello'."
   ]
  },
  {
   "cell_type": "markdown",
   "id": "78f0e20f",
   "metadata": {},
   "source": [
    "What happens when we want to print an int variable in between a print statement?"
   ]
  },
  {
   "cell_type": "code",
   "execution_count": 21,
   "id": "a4892100",
   "metadata": {},
   "outputs": [
    {
     "ename": "TypeError",
     "evalue": "can only concatenate str (not \"int\") to str",
     "output_type": "error",
     "traceback": [
      "\u001b[1;31m---------------------------------------------------------------------------\u001b[0m",
      "\u001b[1;31mTypeError\u001b[0m                                 Traceback (most recent call last)",
      "Cell \u001b[1;32mIn[21], line 2\u001b[0m\n\u001b[0;32m      1\u001b[0m a\u001b[38;5;241m=\u001b[39m\u001b[38;5;241m2\u001b[39m\n\u001b[1;32m----> 2\u001b[0m \u001b[38;5;28mprint\u001b[39m(\u001b[38;5;124;43m'\u001b[39;49m\u001b[38;5;124;43mhello\u001b[39;49m\u001b[38;5;124;43m'\u001b[39;49m\u001b[43m \u001b[49m\u001b[38;5;241;43m+\u001b[39;49m\u001b[43m \u001b[49m\u001b[43ma\u001b[49m)\n",
      "\u001b[1;31mTypeError\u001b[0m: can only concatenate str (not \"int\") to str"
     ]
    }
   ],
   "source": [
    "a=2\n",
    "print('hello' + a)\n",
    "\n",
    "## This won't work because str and int/float/any other dt cannot be concatenated."
   ]
  },
  {
   "cell_type": "markdown",
   "id": "a23bc05d",
   "metadata": {},
   "source": [
    "To over come this, we have two ways:\n",
    "#### Formate() function"
   ]
  },
  {
   "cell_type": "code",
   "execution_count": 22,
   "id": "8481f122",
   "metadata": {},
   "outputs": [
    {
     "name": "stdout",
     "output_type": "stream",
     "text": [
      "my fav num is 1 and 2\n"
     ]
    }
   ],
   "source": [
    "a=1;b=2\n",
    "print('my fav num is {0} and {1}'.format(a,b))"
   ]
  },
  {
   "cell_type": "markdown",
   "id": "2d56b092",
   "metadata": {},
   "source": [
    "### Typecasting"
   ]
  },
  {
   "cell_type": "markdown",
   "id": "86a4a19e",
   "metadata": {},
   "source": [
    "Using typecaste we can change a variable from one datatype to other"
   ]
  },
  {
   "cell_type": "code",
   "execution_count": 23,
   "id": "3a6967a1",
   "metadata": {},
   "outputs": [
    {
     "data": {
      "text/plain": [
       "int"
      ]
     },
     "execution_count": 23,
     "metadata": {},
     "output_type": "execute_result"
    }
   ],
   "source": [
    "a=1\n",
    "b='hello'\n",
    "type(a)"
   ]
  },
  {
   "cell_type": "code",
   "execution_count": 24,
   "id": "1b134255",
   "metadata": {},
   "outputs": [
    {
     "data": {
      "text/plain": [
       "int"
      ]
     },
     "execution_count": 24,
     "metadata": {},
     "output_type": "execute_result"
    }
   ],
   "source": [
    "str(a)\n",
    "type(a)\n",
    "\n",
    "## the variable 'a' is still an integer, because it only acts as string when we use str(a)."
   ]
  },
  {
   "cell_type": "code",
   "execution_count": 25,
   "id": "8d25a87f",
   "metadata": {},
   "outputs": [
    {
     "name": "stdout",
     "output_type": "stream",
     "text": [
      "my fav num is 1 and 2\n"
     ]
    }
   ],
   "source": [
    "a=1;b=2\n",
    "print('my fav num is '+ str(a) + ' and '+ str(b))"
   ]
  },
  {
   "cell_type": "markdown",
   "id": "9a868de8",
   "metadata": {},
   "source": [
    "Lets try to type caste from different datatypes to other"
   ]
  },
  {
   "cell_type": "code",
   "execution_count": 26,
   "id": "03f0b3af",
   "metadata": {},
   "outputs": [
    {
     "ename": "ValueError",
     "evalue": "invalid literal for int() with base 10: 'hello'",
     "output_type": "error",
     "traceback": [
      "\u001b[1;31m---------------------------------------------------------------------------\u001b[0m",
      "\u001b[1;31mValueError\u001b[0m                                Traceback (most recent call last)",
      "Cell \u001b[1;32mIn[26], line 2\u001b[0m\n\u001b[0;32m      1\u001b[0m string\u001b[38;5;241m=\u001b[39m\u001b[38;5;124m'\u001b[39m\u001b[38;5;124mhello\u001b[39m\u001b[38;5;124m'\u001b[39m\n\u001b[1;32m----> 2\u001b[0m \u001b[38;5;28;43mint\u001b[39;49m\u001b[43m(\u001b[49m\u001b[43mstring\u001b[49m\u001b[43m)\u001b[49m\n",
      "\u001b[1;31mValueError\u001b[0m: invalid literal for int() with base 10: 'hello'"
     ]
    }
   ],
   "source": [
    "string='hello'\n",
    "int(string)"
   ]
  },
  {
   "cell_type": "code",
   "execution_count": null,
   "id": "8481faa9",
   "metadata": {},
   "outputs": [],
   "source": [
    "a='9.4'\n",
    "int(a)"
   ]
  },
  {
   "cell_type": "code",
   "execution_count": 27,
   "id": "d7492e75",
   "metadata": {},
   "outputs": [
    {
     "data": {
      "text/plain": [
       "9"
      ]
     },
     "execution_count": 27,
     "metadata": {},
     "output_type": "execute_result"
    }
   ],
   "source": [
    "a='9'\n",
    "int(a)"
   ]
  },
  {
   "cell_type": "code",
   "execution_count": 28,
   "id": "3bef4ec7",
   "metadata": {},
   "outputs": [
    {
     "data": {
      "text/plain": [
       "(9+0j)"
      ]
     },
     "execution_count": 28,
     "metadata": {},
     "output_type": "execute_result"
    }
   ],
   "source": [
    "complex(a)"
   ]
  },
  {
   "cell_type": "code",
   "execution_count": 29,
   "id": "357b42b0",
   "metadata": {},
   "outputs": [
    {
     "data": {
      "text/plain": [
       "9.0"
      ]
     },
     "execution_count": 29,
     "metadata": {},
     "output_type": "execute_result"
    }
   ],
   "source": [
    "float(a)"
   ]
  },
  {
   "cell_type": "code",
   "execution_count": 30,
   "id": "c915047c",
   "metadata": {},
   "outputs": [
    {
     "name": "stdout",
     "output_type": "stream",
     "text": [
      "0\n",
      "1\n",
      "2\n",
      "3\n",
      "4\n",
      "5\n",
      "6\n",
      "7\n",
      "8\n",
      "9\n"
     ]
    }
   ],
   "source": [
    "for i in range(10):\n",
    "    print(i)"
   ]
  },
  {
   "cell_type": "code",
   "execution_count": 31,
   "id": "68fee7bf",
   "metadata": {},
   "outputs": [
    {
     "name": "stdout",
     "output_type": "stream",
     "text": [
      "1\n",
      "2\n",
      "3\n",
      "4\n",
      "5\n"
     ]
    }
   ],
   "source": [
    "for i in range(1,6):\n",
    "    print(i)"
   ]
  },
  {
   "cell_type": "code",
   "execution_count": 32,
   "id": "d5830aef",
   "metadata": {},
   "outputs": [
    {
     "name": "stdout",
     "output_type": "stream",
     "text": [
      "4\n",
      "8\n",
      "12\n",
      "16\n",
      "20\n",
      "24\n",
      "28\n",
      "32\n",
      "36\n",
      "40\n"
     ]
    }
   ],
   "source": [
    "## print 4 table\n",
    "\n",
    "for i in range(4,41,4):\n",
    "    print(i)"
   ]
  },
  {
   "cell_type": "markdown",
   "id": "abbea521",
   "metadata": {},
   "source": [
    "### List"
   ]
  },
  {
   "cell_type": "markdown",
   "id": "70514eff",
   "metadata": {},
   "source": [
    "It is mention by square brackets.\n",
    "It allows duplictate values.\n",
    "Allows slicing,indexing."
   ]
  },
  {
   "cell_type": "code",
   "execution_count": 33,
   "id": "b4c6b261",
   "metadata": {},
   "outputs": [
    {
     "name": "stdout",
     "output_type": "stream",
     "text": [
      "[1, 2, 3, 4, 5, 6, 7, 8]\n"
     ]
    }
   ],
   "source": [
    "l=[1,2,3,4,5,6,7,8]\n",
    "print(l)"
   ]
  },
  {
   "cell_type": "code",
   "execution_count": 34,
   "id": "0fef191f",
   "metadata": {},
   "outputs": [
    {
     "name": "stdout",
     "output_type": "stream",
     "text": [
      "[1, 2, 3, 4, 5, 6, 7, 8, 3]\n"
     ]
    }
   ],
   "source": [
    "l=[1,2,3,4,5,6,7,8,3]\n",
    "print(l)"
   ]
  },
  {
   "cell_type": "code",
   "execution_count": 35,
   "id": "a5bae55b",
   "metadata": {},
   "outputs": [
    {
     "name": "stdout",
     "output_type": "stream",
     "text": [
      "3\n"
     ]
    }
   ],
   "source": [
    "print(l[2])"
   ]
  },
  {
   "cell_type": "code",
   "execution_count": 36,
   "id": "aca04d6b",
   "metadata": {},
   "outputs": [
    {
     "name": "stdout",
     "output_type": "stream",
     "text": [
      "[1, 2, 3, 4, 5, 6, 7, 8, 3]\n",
      "[1, 2, 3]\n",
      "[3, 4, 5, 6, 7, 8, 3]\n",
      "[1, 3, 5, 7, 3]\n"
     ]
    }
   ],
   "source": [
    "## Wants the entire list.\n",
    "## By default value (empty) means from the beggining or till the end\n",
    "print(l[:])\n",
    "\n",
    "## print from the begining till the index number 2.\n",
    "print(l[:3])\n",
    "\n",
    "## print from the index number 2 till the end.\n",
    "print(l[2:])\n",
    "\n",
    "## If we want to step values \n",
    "print(l[::2])"
   ]
  },
  {
   "cell_type": "markdown",
   "id": "f05e9d26",
   "metadata": {},
   "source": [
    "Reverse the list"
   ]
  },
  {
   "cell_type": "code",
   "execution_count": 37,
   "id": "6ccf90fe",
   "metadata": {},
   "outputs": [
    {
     "name": "stdout",
     "output_type": "stream",
     "text": [
      "[3, 8, 7, 6, 5, 4, 3, 2, 1]\n"
     ]
    }
   ],
   "source": [
    "print(l[::-1]) ## here the '-1' decrease the"
   ]
  },
  {
   "cell_type": "markdown",
   "id": "36b06c4c",
   "metadata": {},
   "source": [
    "Print the elements inside the list using for loops"
   ]
  },
  {
   "cell_type": "code",
   "execution_count": 124,
   "id": "7458ecac",
   "metadata": {},
   "outputs": [
    {
     "name": "stdout",
     "output_type": "stream",
     "text": [
      "11\n",
      "21\n",
      "3\n",
      "4\n",
      "5\n",
      "6\n",
      "7\n",
      "8\n"
     ]
    }
   ],
   "source": [
    "l=[11,21,3,4,5,6,7,8]\n",
    "for i in l:\n",
    "    print(i)"
   ]
  },
  {
   "cell_type": "code",
   "execution_count": 39,
   "id": "10a2f2ef",
   "metadata": {},
   "outputs": [
    {
     "name": "stdout",
     "output_type": "stream",
     "text": [
      "[1, 'hello', 9.023]\n"
     ]
    }
   ],
   "source": [
    "## List accepts different data types storage in one.\n",
    "\n",
    "l2=[1,'hello',9.023]\n",
    "print(l2)"
   ]
  },
  {
   "cell_type": "code",
   "execution_count": 40,
   "id": "d8c2c87a",
   "metadata": {},
   "outputs": [
    {
     "name": "stdout",
     "output_type": "stream",
     "text": [
      "[90, 'hello', 9.023]\n"
     ]
    }
   ],
   "source": [
    "## It is mutable\n",
    "\n",
    "l2[0]=90\n",
    "print(l2)"
   ]
  },
  {
   "cell_type": "code",
   "execution_count": 41,
   "id": "c834799c",
   "metadata": {},
   "outputs": [
    {
     "name": "stdout",
     "output_type": "stream",
     "text": [
      "3\n"
     ]
    }
   ],
   "source": [
    "## Length of list can be determined using len() function\n",
    "\n",
    "print(len(l2))"
   ]
  },
  {
   "cell_type": "markdown",
   "id": "420c9f38",
   "metadata": {},
   "source": [
    "Typecasting list into tuple"
   ]
  },
  {
   "cell_type": "code",
   "execution_count": 49,
   "id": "fb17313d",
   "metadata": {},
   "outputs": [
    {
     "name": "stdout",
     "output_type": "stream",
     "text": [
      "(1, 3, 'hello')\n"
     ]
    }
   ],
   "source": [
    "l3=[1,3,'hello']\n",
    "print(tuple(l3))    ## list is converted into tuple"
   ]
  },
  {
   "cell_type": "markdown",
   "id": "ba139f7b",
   "metadata": {},
   "source": [
    "Typecasting list into set"
   ]
  },
  {
   "cell_type": "code",
   "execution_count": 50,
   "id": "2434df9d",
   "metadata": {},
   "outputs": [
    {
     "name": "stdout",
     "output_type": "stream",
     "text": [
      "{1, 3, 'hello'}\n"
     ]
    }
   ],
   "source": [
    "l3=[1,3,'hello']\n",
    "print(set(l3))    ## list is converted into set"
   ]
  },
  {
   "cell_type": "code",
   "execution_count": 70,
   "id": "686fe8d2",
   "metadata": {},
   "outputs": [
    {
     "name": "stdout",
     "output_type": "stream",
     "text": [
      "{0: 'a', 1: 'b', 2: 'c', 3: 'd'}\n"
     ]
    }
   ],
   "source": [
    "## by default the start value is from '0'\n",
    "## it can be customized\n",
    "\n",
    "l1=['a','b','c','d']\n",
    "d1=dict(enumerate(l1))\n",
    "print (d1)"
   ]
  },
  {
   "cell_type": "code",
   "execution_count": 125,
   "id": "8a4467c3",
   "metadata": {},
   "outputs": [
    {
     "name": "stdout",
     "output_type": "stream",
     "text": [
      "{10: 'a', 11: 'b', 12: 'c', 13: 'd'}\n"
     ]
    }
   ],
   "source": [
    "l1=['a','b','c','d']\n",
    "d1=dict(enumerate(l1,start=10))\n",
    "print (d1)"
   ]
  },
  {
   "cell_type": "code",
   "execution_count": 58,
   "id": "6858cf1b",
   "metadata": {},
   "outputs": [
    {
     "name": "stdout",
     "output_type": "stream",
     "text": [
      "{1: 'one', 2: 'two', 3: 'three'}\n"
     ]
    }
   ],
   "source": [
    "### CONVERT TWO LIST OF SAME SIZE INTO ONE DICT\n",
    "\n",
    "a1=[1,2,3]\n",
    "a2=[\"one\",\"two\",\"three\"]\n",
    "\n",
    "## to convert this two list into a same dictionary:\n",
    "\n",
    "d=zip(a1,a2)  ## we have zipped two list together\n",
    "\n",
    "print(dict(d))  ## here we convert the zipped list to dictionary"
   ]
  },
  {
   "cell_type": "code",
   "execution_count": 59,
   "id": "997c42f4",
   "metadata": {},
   "outputs": [
    {
     "name": "stdout",
     "output_type": "stream",
     "text": [
      "{1: 'one', 2: 'two', 3: 'three'}\n"
     ]
    }
   ],
   "source": [
    "###  CONVERT TWO LIST OF DIFFERENT SIZE INTO ONE DICT\n",
    "\n",
    "a1=[1,2,3,4,5]\n",
    "a2=[\"one\",\"two\",\"three\"]\n",
    "\n",
    "## to convert this two list into a same dictionary:\n",
    "\n",
    "d=zip(a1,a2)  ## we have zipped two list together,it skips the key which doesnt have value.\n",
    "\n",
    "print(dict(d))  ## here we convert the zipped list to dictionary"
   ]
  },
  {
   "cell_type": "code",
   "execution_count": 60,
   "id": "87195f10",
   "metadata": {},
   "outputs": [
    {
     "name": "stdout",
     "output_type": "stream",
     "text": [
      "{1: 'one', 2: 'two'}\n"
     ]
    }
   ],
   "source": [
    "###  CONVERT TWO LIST OF DIFFERENT SIZE INTO ONE DICT\n",
    "\n",
    "a1=[1,2]\n",
    "a2=[\"one\",\"two\",\"three\"]\n",
    "\n",
    "## to convert this two list into a same dictionary:\n",
    "\n",
    "d=zip(a1,a2)  ## we have zipped two list together,it skips the value which doesnt have key.\n",
    "\n",
    "print(dict(d))  ## here we convert the zipped list to dictionary"
   ]
  },
  {
   "cell_type": "code",
   "execution_count": 69,
   "id": "e81181e6",
   "metadata": {},
   "outputs": [
    {
     "name": "stdout",
     "output_type": "stream",
     "text": [
      "{1: 'one', 2: 'two', 3: 'three', 4: None, 5: None}\n",
      "------------------------------------------------------------\n",
      "{1: 'one', 2: 'two', 3: 'three', 4: 'text', 5: 'text'}\n"
     ]
    }
   ],
   "source": [
    "###  CONVERT TWO LIST OF DIFFERENT SIZE INTO ONE DICT\n",
    "\n",
    "from itertools import zip_longest \n",
    "\n",
    "a1=[1,2,3,4,5]\n",
    "a2=[\"one\",\"two\",\"three\"]\n",
    "\n",
    "## Using zip_longest(), iteration continues until the longest iterable is exhausted.\n",
    "## By default, fillvalue is None as end value is set to \"/n\" by default.\n",
    "## We can set a value if we want\n",
    "\n",
    "d1=zip_longest(a1,a2)\n",
    "\n",
    "#Converting zip object to dict using dict() contructor.\n",
    "\n",
    "print (dict(d1))\n",
    "\n",
    "print(\"------------------------------------------------------------\")\n",
    "\n",
    "d2=zip_longest(a1,a2,fillvalue=\"text\")\n",
    "\n",
    "print(dict(d2))"
   ]
  },
  {
   "cell_type": "markdown",
   "id": "3cd21b29",
   "metadata": {},
   "source": [
    "Using the append() method to add one item at a time:"
   ]
  },
  {
   "cell_type": "code",
   "execution_count": 76,
   "id": "cb48239d",
   "metadata": {},
   "outputs": [
    {
     "name": "stdout",
     "output_type": "stream",
     "text": [
      "[1, 2, 3]\n"
     ]
    }
   ],
   "source": [
    "b=[1,2]\n",
    "\n",
    "b.append(3)\n",
    "\n",
    "print(b)"
   ]
  },
  {
   "cell_type": "markdown",
   "id": "e6aff7ca",
   "metadata": {},
   "source": [
    "Using the insert() method to add two item at a time:"
   ]
  },
  {
   "cell_type": "code",
   "execution_count": 127,
   "id": "3d823415",
   "metadata": {},
   "outputs": [
    {
     "name": "stdout",
     "output_type": "stream",
     "text": [
      "[1, 'hello', 2]\n"
     ]
    }
   ],
   "source": [
    "b=[1,2]\n",
    "\n",
    "b.insert(1,\"hello\")\n",
    "\n",
    "print(b)"
   ]
  },
  {
   "cell_type": "markdown",
   "id": "c21d7477",
   "metadata": {},
   "source": [
    "To append elements from another list to the current list, use the extend() method."
   ]
  },
  {
   "cell_type": "code",
   "execution_count": 80,
   "id": "a6188f07",
   "metadata": {},
   "outputs": [
    {
     "name": "stdout",
     "output_type": "stream",
     "text": [
      "[1, 2, 3, 4, 5, 6, 7, 8]\n",
      "[1, 2, 3, 4, 5, 6, 7, 8, 'one', 'two']\n",
      "[1, 2, 3, 4, 5, 6, 7, 8, 'one', 'two', 2, 'three', 'one']\n"
     ]
    }
   ],
   "source": [
    "## Using extend we can extend a list with ny iterable object (tuples, sets, dictionaries etc.).\n",
    "\n",
    "a=[1,2,3,4]\n",
    "\n",
    "b=[5,6,7,8]\n",
    "c=(\"one\",\"two\")\n",
    "d={'one',2,\"three\"}\n",
    "\n",
    "a.extend(b)\n",
    "print(a)\n",
    "\n",
    "a.extend(c)\n",
    "print(a)\n",
    "\n",
    "a.extend(d)\n",
    "print(a)\n"
   ]
  },
  {
   "cell_type": "code",
   "execution_count": 81,
   "id": "59c27997",
   "metadata": {},
   "outputs": [
    {
     "name": "stdout",
     "output_type": "stream",
     "text": [
      "[1, 3, 4]\n"
     ]
    }
   ],
   "source": [
    "## The remove() method removes the specified item.\n",
    "\n",
    "l=[1,2,3,4]\n",
    "l.remove(2)\n",
    "print(l)"
   ]
  },
  {
   "cell_type": "code",
   "execution_count": 82,
   "id": "40967297",
   "metadata": {},
   "outputs": [
    {
     "name": "stdout",
     "output_type": "stream",
     "text": [
      "[1, 2, 4]\n"
     ]
    }
   ],
   "source": [
    "## The pop() method removes the specified index.\n",
    "\n",
    "l=[1,2,3,4]\n",
    "l.pop(2) \n",
    "print(l)"
   ]
  },
  {
   "cell_type": "code",
   "execution_count": 83,
   "id": "77191a75",
   "metadata": {},
   "outputs": [
    {
     "name": "stdout",
     "output_type": "stream",
     "text": [
      "[1, 2, 3]\n"
     ]
    }
   ],
   "source": [
    "## If you do not specify the index, the pop() method removes the last item\n",
    "\n",
    "l=[1,2,3,4]\n",
    "l.pop() \n",
    "print(l)"
   ]
  },
  {
   "cell_type": "code",
   "execution_count": 84,
   "id": "b340f722",
   "metadata": {},
   "outputs": [
    {
     "name": "stdout",
     "output_type": "stream",
     "text": [
      "[1, 2, 3, 4]\n"
     ]
    }
   ],
   "source": [
    "## The del keyword also removes the specified index:\n",
    "\n",
    "l=[1,2,3,4,5]\n",
    "del l[4]\n",
    "print(l)"
   ]
  },
  {
   "cell_type": "code",
   "execution_count": 85,
   "id": "e8d0d851",
   "metadata": {},
   "outputs": [
    {
     "ename": "NameError",
     "evalue": "name 'l' is not defined",
     "output_type": "error",
     "traceback": [
      "\u001b[1;31m---------------------------------------------------------------------------\u001b[0m",
      "\u001b[1;31mNameError\u001b[0m                                 Traceback (most recent call last)",
      "Cell \u001b[1;32mIn[85], line 5\u001b[0m\n\u001b[0;32m      3\u001b[0m l\u001b[38;5;241m=\u001b[39m[\u001b[38;5;241m1\u001b[39m,\u001b[38;5;241m2\u001b[39m,\u001b[38;5;241m3\u001b[39m,\u001b[38;5;241m4\u001b[39m]\n\u001b[0;32m      4\u001b[0m \u001b[38;5;28;01mdel\u001b[39;00m l\n\u001b[1;32m----> 5\u001b[0m \u001b[38;5;28mprint\u001b[39m(\u001b[43ml\u001b[49m)\n",
      "\u001b[1;31mNameError\u001b[0m: name 'l' is not defined"
     ]
    }
   ],
   "source": [
    "## The del keyword can also delete the list completely.\n",
    "\n",
    "l=[1,2,3,4]\n",
    "del l\n",
    "print(l)\n",
    "\n",
    "## here comes name error, as we deleted the list named l."
   ]
  },
  {
   "cell_type": "code",
   "execution_count": 86,
   "id": "d06b1e9d",
   "metadata": {},
   "outputs": [
    {
     "name": "stdout",
     "output_type": "stream",
     "text": [
      "[]\n"
     ]
    }
   ],
   "source": [
    "## The clear() method empties the list.\n",
    "\n",
    "l=[1,2,3,4]\n",
    "l.clear()\n",
    "print(l)"
   ]
  },
  {
   "cell_type": "code",
   "execution_count": 89,
   "id": "3bcb9a6c",
   "metadata": {},
   "outputs": [
    {
     "name": "stdout",
     "output_type": "stream",
     "text": [
      "[-67, 0, 52, 52, 80, 105]\n"
     ]
    }
   ],
   "source": [
    "## sort the list using sort() method\n",
    "\n",
    "l= [105, 52, 52, 80, 0,-67]\n",
    "l.sort()\n",
    "print(l)"
   ]
  },
  {
   "cell_type": "code",
   "execution_count": 90,
   "id": "7340df7c",
   "metadata": {},
   "outputs": [
    {
     "name": "stdout",
     "output_type": "stream",
     "text": [
      "[105, 80, 52, 52, 0, -67]\n"
     ]
    }
   ],
   "source": [
    "## Sort the list descending:\n",
    "\n",
    "l= [105, 52, 52, 80, 0,-67]\n",
    "l.sort(reverse=True)\n",
    "print(l)"
   ]
  },
  {
   "cell_type": "code",
   "execution_count": 92,
   "id": "3f8733f9",
   "metadata": {},
   "outputs": [
    {
     "name": "stdout",
     "output_type": "stream",
     "text": [
      "[1, 2, 3, 4]\n"
     ]
    }
   ],
   "source": [
    "## reverse the order of list:\n",
    "\n",
    "l= [4,3,2,1]\n",
    "l.reverse()\n",
    "print(l)"
   ]
  },
  {
   "cell_type": "code",
   "execution_count": 94,
   "id": "91135003",
   "metadata": {},
   "outputs": [
    {
     "name": "stdout",
     "output_type": "stream",
     "text": [
      "[1, 2, 3, 4]\n"
     ]
    }
   ],
   "source": [
    "## To copy a list to other use copy() method\n",
    "\n",
    "l=[1,2,3,4]\n",
    "l1=l.copy()\n",
    "print(l1)"
   ]
  },
  {
   "cell_type": "code",
   "execution_count": 101,
   "id": "4835ab20",
   "metadata": {},
   "outputs": [
    {
     "name": "stdout",
     "output_type": "stream",
     "text": [
      "[1, 2, 3, 4, 5, 7, 4, 4]\n"
     ]
    }
   ],
   "source": [
    "## Join two lists\n",
    "\n",
    "l1=[1,2,3]\n",
    "l2=[4,5,7,4,4]\n",
    "\n",
    "print(l1 +l2)"
   ]
  },
  {
   "cell_type": "code",
   "execution_count": 135,
   "id": "cacb5bb6",
   "metadata": {},
   "outputs": [
    {
     "ename": "TypeError",
     "evalue": "can only concatenate list (not \"tuple\") to list",
     "output_type": "error",
     "traceback": [
      "\u001b[1;31m---------------------------------------------------------------------------\u001b[0m",
      "\u001b[1;31mTypeError\u001b[0m                                 Traceback (most recent call last)",
      "Cell \u001b[1;32mIn[135], line 4\u001b[0m\n\u001b[0;32m      1\u001b[0m t1\u001b[38;5;241m=\u001b[39m[\u001b[38;5;241m1\u001b[39m,\u001b[38;5;241m2\u001b[39m,\u001b[38;5;241m3\u001b[39m]\n\u001b[0;32m      2\u001b[0m l\u001b[38;5;241m=\u001b[39m(\u001b[38;5;241m4\u001b[39m,\u001b[38;5;241m5\u001b[39m,\u001b[38;5;241m6\u001b[39m)\n\u001b[1;32m----> 4\u001b[0m t3\u001b[38;5;241m=\u001b[39m\u001b[43mt1\u001b[49m\u001b[38;5;241;43m+\u001b[39;49m\u001b[43ml\u001b[49m\n\u001b[0;32m      6\u001b[0m \u001b[38;5;28mprint\u001b[39m(t3)\n",
      "\u001b[1;31mTypeError\u001b[0m: can only concatenate list (not \"tuple\") to list"
     ]
    }
   ],
   "source": [
    "t1=[1,2,3]\n",
    "l=(4,5,6)\n",
    "\n",
    "t3=t1+l\n",
    "\n",
    "print(t3)\n",
    "\n",
    "## list can be conactenate with list only"
   ]
  },
  {
   "cell_type": "code",
   "execution_count": 100,
   "id": "e47fedfa",
   "metadata": {},
   "outputs": [
    {
     "name": "stdout",
     "output_type": "stream",
     "text": [
      "3\n"
     ]
    }
   ],
   "source": [
    "## count() method to count specific number in the list\n",
    "\n",
    "print(l2.count(4))"
   ]
  },
  {
   "cell_type": "markdown",
   "id": "bfc0be60",
   "metadata": {},
   "source": [
    "### Tuple"
   ]
  },
  {
   "cell_type": "code",
   "execution_count": 162,
   "id": "5759daa7",
   "metadata": {},
   "outputs": [
    {
     "name": "stdout",
     "output_type": "stream",
     "text": [
      "<class 'tuple'>\n",
      "(1, 2, 3, 4, 5, 6, 7, 8)\n"
     ]
    }
   ],
   "source": [
    "t=(1,2,3,4,5,6,7,8)\n",
    "print(type(t))\n",
    "print(t)"
   ]
  },
  {
   "cell_type": "code",
   "execution_count": 43,
   "id": "1bfe82f8",
   "metadata": {},
   "outputs": [
    {
     "name": "stdout",
     "output_type": "stream",
     "text": [
      "(1, 2, 3, 4, 5, 6, 7, 8, 3)\n"
     ]
    }
   ],
   "source": [
    "## Alows duplicate values\n",
    "\n",
    "t=(1,2,3,4,5,6,7,8,3)\n",
    "print(t)"
   ]
  },
  {
   "cell_type": "code",
   "execution_count": 44,
   "id": "c6ef82e5",
   "metadata": {},
   "outputs": [
    {
     "ename": "TypeError",
     "evalue": "'tuple' object does not support item assignment",
     "output_type": "error",
     "traceback": [
      "\u001b[1;31m---------------------------------------------------------------------------\u001b[0m",
      "\u001b[1;31mTypeError\u001b[0m                                 Traceback (most recent call last)",
      "Cell \u001b[1;32mIn[44], line 3\u001b[0m\n\u001b[0;32m      1\u001b[0m \u001b[38;5;66;03m## Tuples are immutable\u001b[39;00m\n\u001b[1;32m----> 3\u001b[0m t[\u001b[38;5;241m0\u001b[39m]\u001b[38;5;241m=\u001b[39m\u001b[38;5;241m90\u001b[39m\n\u001b[0;32m      4\u001b[0m \u001b[38;5;28mprint\u001b[39m(t)\n",
      "\u001b[1;31mTypeError\u001b[0m: 'tuple' object does not support item assignment"
     ]
    }
   ],
   "source": [
    "## Tuples are immutable\n",
    "\n",
    "t[0]=90\n",
    "print(t)"
   ]
  },
  {
   "cell_type": "code",
   "execution_count": null,
   "id": "84e0cbcd",
   "metadata": {},
   "outputs": [],
   "source": [
    "## In tuple we can store different dt \n",
    "\n",
    "t1=(1,'hello')\n",
    "print(t1)"
   ]
  },
  {
   "cell_type": "markdown",
   "id": "ea4d58de",
   "metadata": {},
   "source": [
    "#### Access"
   ]
  },
  {
   "cell_type": "code",
   "execution_count": 45,
   "id": "2d2859b6",
   "metadata": {},
   "outputs": [
    {
     "name": "stdout",
     "output_type": "stream",
     "text": [
      "('apple', 'banana', 'cherry', 'mango')\n"
     ]
    }
   ],
   "source": [
    "t2 = (\"apple\", \"banana\", \"cherry\",\"mango\")\n",
    "print(t2)"
   ]
  },
  {
   "cell_type": "code",
   "execution_count": 46,
   "id": "0e894bfa",
   "metadata": {},
   "outputs": [
    {
     "name": "stdout",
     "output_type": "stream",
     "text": [
      "mango\n"
     ]
    }
   ],
   "source": [
    "print(t2[-1])"
   ]
  },
  {
   "cell_type": "markdown",
   "id": "d8cff71f",
   "metadata": {},
   "source": [
    "### slicing"
   ]
  },
  {
   "cell_type": "code",
   "execution_count": 47,
   "id": "ff940042",
   "metadata": {},
   "outputs": [
    {
     "name": "stdout",
     "output_type": "stream",
     "text": [
      "('banana', 'cherry')\n"
     ]
    }
   ],
   "source": [
    "## Want to print 'banana' and cherry\n",
    "print(t2[1:3])"
   ]
  },
  {
   "cell_type": "code",
   "execution_count": 48,
   "id": "4ce6bfee",
   "metadata": {},
   "outputs": [
    {
     "name": "stdout",
     "output_type": "stream",
     "text": [
      "('apple', 'cherry')\n"
     ]
    }
   ],
   "source": [
    "## Want to print 'apple' and 'cherry'\n",
    "print(t2[::2])"
   ]
  },
  {
   "cell_type": "code",
   "execution_count": 121,
   "id": "1be5acb0",
   "metadata": {},
   "outputs": [
    {
     "name": "stdout",
     "output_type": "stream",
     "text": [
      "apple\n",
      "banana\n",
      "cherry\n"
     ]
    }
   ],
   "source": [
    "## extract the values back into variables. This is called \"unpacking\":\n",
    "\n",
    "fruit = (\"apple\", \"banana\", \"cherry\")\n",
    "\n",
    "one,two,three = fruit\n",
    "\n",
    "print(one)\n",
    "print(two)\n",
    "print(three)"
   ]
  },
  {
   "cell_type": "code",
   "execution_count": 118,
   "id": "fb361dd7",
   "metadata": {},
   "outputs": [
    {
     "name": "stdout",
     "output_type": "stream",
     "text": [
      "1\n",
      "2\n",
      "3\n"
     ]
    }
   ],
   "source": [
    "fruits = (1,2,3)\n",
    "\n",
    "apple, banana, cherry = fruits\n",
    "\n",
    "print(1)\n",
    "print(2)\n",
    "print(3)"
   ]
  },
  {
   "cell_type": "code",
   "execution_count": 129,
   "id": "dc2250e3",
   "metadata": {},
   "outputs": [
    {
     "name": "stdout",
     "output_type": "stream",
     "text": [
      "(1, 2, 3, 4, 5, 6)\n"
     ]
    }
   ],
   "source": [
    "## Add two tuples\n",
    "\n",
    "t1=(1,2,3)\n",
    "t2=(4,5,6)\n",
    "\n",
    "t3=t1+t2\n",
    "\n",
    "print(t3)"
   ]
  },
  {
   "cell_type": "code",
   "execution_count": 132,
   "id": "6111ccf0",
   "metadata": {},
   "outputs": [
    {
     "ename": "TypeError",
     "evalue": "can only concatenate tuple (not \"list\") to tuple",
     "output_type": "error",
     "traceback": [
      "\u001b[1;31m---------------------------------------------------------------------------\u001b[0m",
      "\u001b[1;31mTypeError\u001b[0m                                 Traceback (most recent call last)",
      "Cell \u001b[1;32mIn[132], line 4\u001b[0m\n\u001b[0;32m      1\u001b[0m t1\u001b[38;5;241m=\u001b[39m(\u001b[38;5;241m1\u001b[39m,\u001b[38;5;241m2\u001b[39m,\u001b[38;5;241m3\u001b[39m)\n\u001b[0;32m      2\u001b[0m l\u001b[38;5;241m=\u001b[39m[\u001b[38;5;241m4\u001b[39m,\u001b[38;5;241m5\u001b[39m,\u001b[38;5;241m6\u001b[39m]\n\u001b[1;32m----> 4\u001b[0m t3\u001b[38;5;241m=\u001b[39m\u001b[43mt1\u001b[49m\u001b[38;5;241;43m+\u001b[39;49m\u001b[43ml\u001b[49m\n\u001b[0;32m      6\u001b[0m \u001b[38;5;28mprint\u001b[39m(t3)\n",
      "\u001b[1;31mTypeError\u001b[0m: can only concatenate tuple (not \"list\") to tuple"
     ]
    }
   ],
   "source": [
    "t1=(1,2,3)\n",
    "l=[4,5,6]\n",
    "\n",
    "t3=t1+l\n",
    "\n",
    "print(t3)\n",
    "\n",
    "## Tuple can be conactenate with tuple only"
   ]
  },
  {
   "cell_type": "markdown",
   "id": "ffc5e4cc",
   "metadata": {},
   "source": [
    "#### As tuple is immutable it has two methods:\n",
    "index()\n",
    "count()"
   ]
  },
  {
   "cell_type": "code",
   "execution_count": 139,
   "id": "d7818e1a",
   "metadata": {},
   "outputs": [
    {
     "name": "stdout",
     "output_type": "stream",
     "text": [
      "[1, 2, 3, 'o']\n"
     ]
    }
   ],
   "source": [
    "# TYPECASTING\n",
    "\n",
    "## tuple to list\n",
    "\n",
    "t=(1,2,3,'o')\n",
    "print(list(t))"
   ]
  },
  {
   "cell_type": "code",
   "execution_count": 140,
   "id": "b6422cfb",
   "metadata": {},
   "outputs": [
    {
     "name": "stdout",
     "output_type": "stream",
     "text": [
      "{1, 2, 3, 'o'}\n"
     ]
    }
   ],
   "source": [
    "## tuple to set\n",
    "\n",
    "t=(1,2,3,'o')\n",
    "print(set(t))"
   ]
  },
  {
   "cell_type": "code",
   "execution_count": 144,
   "id": "19f5f797",
   "metadata": {},
   "outputs": [
    {
     "name": "stdout",
     "output_type": "stream",
     "text": [
      "{1: 1, 2: 2, 3: 3, 4: 'o'}\n"
     ]
    }
   ],
   "source": [
    "## tuple to dict\n",
    "\n",
    "t=(1,2,3,'o')\n",
    "print(dict(enumerate(t,1)))"
   ]
  },
  {
   "cell_type": "markdown",
   "id": "365fd1f1",
   "metadata": {},
   "source": [
    "## Set"
   ]
  },
  {
   "cell_type": "code",
   "execution_count": 161,
   "id": "76fac3e0",
   "metadata": {},
   "outputs": [
    {
     "name": "stdout",
     "output_type": "stream",
     "text": [
      "<class 'set'>\n",
      "{1, 2, 'hello'}\n"
     ]
    }
   ],
   "source": [
    "a={1,2,'hello'}\n",
    "print(type(a))\n",
    "print(a)"
   ]
  },
  {
   "cell_type": "code",
   "execution_count": 146,
   "id": "36aafaaf",
   "metadata": {},
   "outputs": [
    {
     "name": "stdout",
     "output_type": "stream",
     "text": [
      "{1, 2}\n"
     ]
    }
   ],
   "source": [
    "## Set does not allow duplicates\n",
    "\n",
    "a={1,1,2}\n",
    "print(a)"
   ]
  },
  {
   "cell_type": "code",
   "execution_count": 147,
   "id": "8b545574",
   "metadata": {},
   "outputs": [
    {
     "ename": "TypeError",
     "evalue": "'set' object does not support item assignment",
     "output_type": "error",
     "traceback": [
      "\u001b[1;31m---------------------------------------------------------------------------\u001b[0m",
      "\u001b[1;31mTypeError\u001b[0m                                 Traceback (most recent call last)",
      "Cell \u001b[1;32mIn[147], line 4\u001b[0m\n\u001b[0;32m      1\u001b[0m \u001b[38;5;66;03m## set is unmutable\u001b[39;00m\n\u001b[0;32m      3\u001b[0m a\u001b[38;5;241m=\u001b[39m{\u001b[38;5;241m1\u001b[39m,\u001b[38;5;241m2\u001b[39m,\u001b[38;5;241m3\u001b[39m}\n\u001b[1;32m----> 4\u001b[0m a[\u001b[38;5;241m0\u001b[39m]\u001b[38;5;241m=\u001b[39m\u001b[38;5;241m9\u001b[39m\n\u001b[0;32m      5\u001b[0m \u001b[38;5;28mprint\u001b[39m(a)\n",
      "\u001b[1;31mTypeError\u001b[0m: 'set' object does not support item assignment"
     ]
    }
   ],
   "source": [
    "## set is unmutable and has no index\n",
    "\n",
    "a={1,2,3}\n",
    "print(a[0])\n",
    "\n",
    "\n",
    "a[0]=9\n",
    "print(a)"
   ]
  },
  {
   "cell_type": "markdown",
   "id": "db40c5fe",
   "metadata": {},
   "source": [
    "#### The values True and 1 are considered the same value in sets, and are treated as duplicates"
   ]
  },
  {
   "cell_type": "code",
   "execution_count": 152,
   "id": "9f298a3d",
   "metadata": {},
   "outputs": [
    {
     "name": "stdout",
     "output_type": "stream",
     "text": [
      "{'apple', 'banana', 'orange', 'cherry'}\n"
     ]
    }
   ],
   "source": [
    "## Add items using add() method\n",
    "\n",
    "t = {\"apple\", \"banana\", \"cherry\"}\n",
    "\n",
    "t.add(\"orange\")\n",
    "\n",
    "print(t)"
   ]
  },
  {
   "cell_type": "code",
   "execution_count": 157,
   "id": "238bd9a3",
   "metadata": {},
   "outputs": [
    {
     "name": "stdout",
     "output_type": "stream",
     "text": [
      "{'kitty', 1, 2, 3, 'hello'}\n"
     ]
    }
   ],
   "source": [
    "## To add items from another set into the current set, use the update() method.\n",
    "\n",
    "a={1,2,3}\n",
    "b={'hello','kitty'}\n",
    "\n",
    "b.update(a)\n",
    "print(b)"
   ]
  },
  {
   "cell_type": "code",
   "execution_count": 160,
   "id": "0eda736e",
   "metadata": {},
   "outputs": [
    {
     "name": "stdout",
     "output_type": "stream",
     "text": [
      "{2, 3}\n",
      "{2}\n",
      "set()\n"
     ]
    }
   ],
   "source": [
    "## To remove an item in a set, use the remove(), or the discard() method.\n",
    "\n",
    "a={1,2,3}\n",
    "a.remove(1)\n",
    "print(a)\n",
    "\n",
    "a.discard(3)\n",
    "print(a)\n",
    "\n",
    "a.pop()\n",
    "print(a)"
   ]
  },
  {
   "cell_type": "code",
   "execution_count": 163,
   "id": "9619ff63",
   "metadata": {},
   "outputs": [
    {
     "name": "stdout",
     "output_type": "stream",
     "text": [
      "apple\n",
      "banana\n",
      "cherry\n"
     ]
    }
   ],
   "source": [
    "## Looping\n",
    "\n",
    "s = {\"apple\", \"banana\", \"cherry\"}\n",
    "\n",
    "for i in s:\n",
    "  print(i)"
   ]
  },
  {
   "cell_type": "code",
   "execution_count": 164,
   "id": "21404106",
   "metadata": {},
   "outputs": [
    {
     "data": {
      "text/plain": [
       "{1, 2}"
      ]
     },
     "execution_count": 164,
     "metadata": {},
     "output_type": "execute_result"
    }
   ],
   "source": [
    "s1={1,2,3,4}\n",
    "s2={3,4,5,6,7}\n",
    "\n",
    "s1.difference(s2) # Returns a set containing the difference between two or more sets"
   ]
  },
  {
   "cell_type": "code",
   "execution_count": 165,
   "id": "07778e76",
   "metadata": {},
   "outputs": [
    {
     "data": {
      "text/plain": [
       "{3, 4}"
      ]
     },
     "execution_count": 165,
     "metadata": {},
     "output_type": "execute_result"
    }
   ],
   "source": [
    "s1={1,2,3,4}\n",
    "s2={3,4,5,6,7}\n",
    "\n",
    "s1.intersection(s2) # Returns a set, that is the intersection of two other sets"
   ]
  },
  {
   "cell_type": "code",
   "execution_count": 167,
   "id": "59948925",
   "metadata": {},
   "outputs": [
    {
     "name": "stdout",
     "output_type": "stream",
     "text": [
      "{1, 2}\n"
     ]
    }
   ],
   "source": [
    "s1={1,2,3,4}\n",
    "s2={3,4,5,6,7}\n",
    "\n",
    "# difference_update Removes the items in this set that are also included in another, specified set\n",
    "\n",
    "s1.difference_update(s2)  \n",
    " \n",
    "print(s1)"
   ]
  },
  {
   "cell_type": "code",
   "execution_count": 168,
   "id": "4eddddfb",
   "metadata": {},
   "outputs": [
    {
     "name": "stdout",
     "output_type": "stream",
     "text": [
      "{3, 4}\n"
     ]
    }
   ],
   "source": [
    "s1={1,2,3,4}\n",
    "s2={3,4,5,6,7}\n",
    "\n",
    "# intersection_update Removes the items in this set that are not present in other, specified set(s)\n",
    "s1.intersection_update(s2)  \n",
    " \n",
    "print(s1)"
   ]
  },
  {
   "cell_type": "code",
   "execution_count": 182,
   "id": "55187320",
   "metadata": {},
   "outputs": [
    {
     "name": "stdout",
     "output_type": "stream",
     "text": [
      "False\n",
      "False\n",
      "False\n"
     ]
    }
   ],
   "source": [
    "s1={1,2,3,4}\n",
    "s2={3,4,5,6,7}\n",
    "\n",
    "print(s2.isdisjoint(s1))   ## if intersection is there then it is false\n",
    "print(s1.issubset(s2))     ## if s1  is subset of s2 then it is true\n",
    "print(s1.issuperset(s2))   ## if all item of s2 contains in s1, then t is true"
   ]
  },
  {
   "cell_type": "code",
   "execution_count": 185,
   "id": "782e2a12",
   "metadata": {},
   "outputs": [
    {
     "name": "stdout",
     "output_type": "stream",
     "text": [
      "False\n",
      "True\n",
      "True\n"
     ]
    }
   ],
   "source": [
    "s1={1,2,3}\n",
    "s2={1,2,3,4,5,6,7}\n",
    "\n",
    "print(s2.isdisjoint(s1))   ## if intersection is there then it is false\n",
    "print(s1.issubset(s2))     ## if s1  is subset of s2 then it is true\n",
    "print(s2.issuperset(s1))   ## if all item of s2 contains in s1, then t is true\n"
   ]
  },
  {
   "cell_type": "code",
   "execution_count": 186,
   "id": "c4af802a",
   "metadata": {},
   "outputs": [
    {
     "data": {
      "text/plain": [
       "{1, 2, 3, 4, 5, 6, 7}"
      ]
     },
     "execution_count": 186,
     "metadata": {},
     "output_type": "execute_result"
    }
   ],
   "source": [
    "s1={1,2,3}\n",
    "s2={1,2,3,4,5,6,7}\n",
    "\n",
    "s1.union(s2)"
   ]
  },
  {
   "cell_type": "code",
   "execution_count": 190,
   "id": "7adebf46",
   "metadata": {},
   "outputs": [
    {
     "name": "stdout",
     "output_type": "stream",
     "text": [
      "{'e', 'a', 'f', 'd', 'z'}\n"
     ]
    },
    {
     "data": {
      "text/plain": [
       "{'d', 'e', 'f'}"
      ]
     },
     "execution_count": 190,
     "metadata": {},
     "output_type": "execute_result"
    }
   ],
   "source": [
    "x = {\"f\", \"e\", \"d\", \"c\", \"b\"}\n",
    "y = {\"a\", \"b\", \"c\",\"z\"}\n",
    "\n",
    "\n",
    "z = x.symmetric_difference(y) ## gives the difference value from  both of the set\n",
    "\n",
    "print(z)"
   ]
  },
  {
   "cell_type": "markdown",
   "id": "e54331ba",
   "metadata": {},
   "source": [
    "#### Typecasting"
   ]
  },
  {
   "cell_type": "code",
   "execution_count": 193,
   "id": "5ade65d2",
   "metadata": {},
   "outputs": [
    {
     "name": "stdout",
     "output_type": "stream",
     "text": [
      "[1, 2, 3, 'hello']\n",
      "(1, 2, 3, 'hello')\n",
      "{1: 1, 2: 2, 3: 3, 4: 'hello'}\n"
     ]
    }
   ],
   "source": [
    "s={1,2,3,\"hello\"}\n",
    "\n",
    "print(list(s))                 ## set to list\n",
    "print(tuple(s))                ## set to tuple\n",
    "print(dict(enumerate(s,1)))    ## set to dict"
   ]
  },
  {
   "cell_type": "code",
   "execution_count": 195,
   "id": "f90178d4",
   "metadata": {},
   "outputs": [
    {
     "ename": "TypeError",
     "evalue": "unsupported operand type(s) for +: 'set' and 'set'",
     "output_type": "error",
     "traceback": [
      "\u001b[1;31m---------------------------------------------------------------------------\u001b[0m",
      "\u001b[1;31mTypeError\u001b[0m                                 Traceback (most recent call last)",
      "Cell \u001b[1;32mIn[195], line 3\u001b[0m\n\u001b[0;32m      1\u001b[0m s1\u001b[38;5;241m=\u001b[39m{\u001b[38;5;241m1\u001b[39m,\u001b[38;5;241m2\u001b[39m,\u001b[38;5;241m3\u001b[39m}\n\u001b[0;32m      2\u001b[0m s2\u001b[38;5;241m=\u001b[39m{\u001b[38;5;241m3\u001b[39m,\u001b[38;5;241m4\u001b[39m,\u001b[38;5;241m5\u001b[39m}\n\u001b[1;32m----> 3\u001b[0m \u001b[38;5;28mprint\u001b[39m(\u001b[43ms1\u001b[49m\u001b[43m \u001b[49m\u001b[38;5;241;43m+\u001b[39;49m\u001b[43m \u001b[49m\u001b[43ms2\u001b[49m)\n",
      "\u001b[1;31mTypeError\u001b[0m: unsupported operand type(s) for +: 'set' and 'set'"
     ]
    }
   ],
   "source": [
    "s1={1,2,3}\n",
    "s2={3,4,5}\n",
    "\n",
    "print(s1 + s2)\n",
    "\n",
    "## set does not allow to conactenate"
   ]
  },
  {
   "cell_type": "code",
   "execution_count": 197,
   "id": "d40a2b2a",
   "metadata": {},
   "outputs": [
    {
     "name": "stdout",
     "output_type": "stream",
     "text": [
      "{1, 2, 3, 4, 5}\n"
     ]
    }
   ],
   "source": [
    "s1={1,2,3}\n",
    "s2={3,4,5}\n",
    "\n",
    "s1.update(s2)\n",
    "print(s1)"
   ]
  },
  {
   "cell_type": "markdown",
   "id": "23e93e16",
   "metadata": {},
   "source": [
    "## Dictionaries"
   ]
  },
  {
   "cell_type": "code",
   "execution_count": 192,
   "id": "06d08fe7",
   "metadata": {},
   "outputs": [
    {
     "name": "stdout",
     "output_type": "stream",
     "text": [
      "<class 'dict'>\n",
      "{'name': 'karu', 'course': 'cs', 'age': 19}\n"
     ]
    }
   ],
   "source": [
    "d = {\n",
    "  \"name\": \"karu\",\n",
    "  \"course\": \"cs\",\n",
    "  \"age\": 19\n",
    "}\n",
    "print(type(d))\n",
    "print(d)"
   ]
  },
  {
   "cell_type": "code",
   "execution_count": 216,
   "id": "4da7a021",
   "metadata": {},
   "outputs": [
    {
     "name": "stdout",
     "output_type": "stream",
     "text": [
      "{'name': 'karu', 'course': 'cs', 'age': 56}\n"
     ]
    }
   ],
   "source": [
    "## Does not alloe duplicates\n",
    "\n",
    "d = {\n",
    "  \"name\": \"karu\",\n",
    "  \"course\": \"cs\",\n",
    "  \"age\": 19,\n",
    "  \"age\": 56\n",
    "}\n",
    "\n",
    "print(d)"
   ]
  },
  {
   "cell_type": "code",
   "execution_count": 217,
   "id": "ee478222",
   "metadata": {},
   "outputs": [
    {
     "name": "stdout",
     "output_type": "stream",
     "text": [
      "{'name': 'nimi', 'course': 'cs', 'age': 56}\n"
     ]
    }
   ],
   "source": [
    "## mutable\n",
    "\n",
    "d['name']=\"nimi\"\n",
    "print(d)"
   ]
  },
  {
   "cell_type": "code",
   "execution_count": 218,
   "id": "74fa1015",
   "metadata": {},
   "outputs": [
    {
     "name": "stdout",
     "output_type": "stream",
     "text": [
      "nimi\n"
     ]
    }
   ],
   "source": [
    "print(d[\"name\"])"
   ]
  },
  {
   "cell_type": "code",
   "execution_count": 219,
   "id": "6dbfb2ce",
   "metadata": {},
   "outputs": [
    {
     "data": {
      "text/plain": [
       "'nimi'"
      ]
     },
     "execution_count": 219,
     "metadata": {},
     "output_type": "execute_result"
    }
   ],
   "source": [
    "## There is also a method called get() that will give you the same result:\n",
    "\n",
    "d.get('name')"
   ]
  },
  {
   "cell_type": "code",
   "execution_count": 220,
   "id": "f23c2fd1",
   "metadata": {},
   "outputs": [
    {
     "data": {
      "text/plain": [
       "dict_keys(['name', 'course', 'age'])"
      ]
     },
     "execution_count": 220,
     "metadata": {},
     "output_type": "execute_result"
    }
   ],
   "source": [
    "### The keys() method will return a list of all the keys in the dictionary.\n",
    "\n",
    "d.keys()"
   ]
  },
  {
   "cell_type": "code",
   "execution_count": 221,
   "id": "f43dace3",
   "metadata": {},
   "outputs": [
    {
     "name": "stdout",
     "output_type": "stream",
     "text": [
      "{'name': 'nimi', 'course': 'cs', 'age': 56, 'new key': 'new value'}\n"
     ]
    }
   ],
   "source": [
    "## adding key and value\n",
    "\n",
    "d[\"new key\"]=\"new value\"\n",
    "\n",
    "print(d)"
   ]
  },
  {
   "cell_type": "code",
   "execution_count": 223,
   "id": "57ddad86",
   "metadata": {},
   "outputs": [
    {
     "name": "stdout",
     "output_type": "stream",
     "text": [
      "{'name': 'nimi', 'course': 'cs', 'age': 20, 'new key': 'new value'}\n"
     ]
    }
   ],
   "source": [
    "## update the values:\n",
    "\n",
    "d.update({'age':20})\n",
    "print(d)"
   ]
  },
  {
   "cell_type": "code",
   "execution_count": 225,
   "id": "a9f9fe70",
   "metadata": {},
   "outputs": [
    {
     "name": "stdout",
     "output_type": "stream",
     "text": [
      "{'name': 'nimi', 'course': 'cs', 'age': 20}\n"
     ]
    }
   ],
   "source": [
    "## Remove element from dict\n",
    "\n",
    "d.popitem()   ## pops last item\n",
    "print(d)"
   ]
  },
  {
   "cell_type": "code",
   "execution_count": 227,
   "id": "a6875ecf",
   "metadata": {},
   "outputs": [
    {
     "name": "stdout",
     "output_type": "stream",
     "text": [
      "{'name': 'nimi', 'age': 20}\n"
     ]
    }
   ],
   "source": [
    "d.pop('course')  \n",
    "print(d)"
   ]
  },
  {
   "cell_type": "code",
   "execution_count": 229,
   "id": "e0cdfa4a",
   "metadata": {},
   "outputs": [
    {
     "name": "stdout",
     "output_type": "stream",
     "text": [
      "{'name': 'nimi'}\n"
     ]
    }
   ],
   "source": [
    "## using del keyword\n",
    "\n",
    "del d['age']\n",
    "\n",
    "print(d)"
   ]
  },
  {
   "cell_type": "code",
   "execution_count": null,
   "id": "381c8056",
   "metadata": {},
   "outputs": [],
   "source": [
    "## Dict to list"
   ]
  },
  {
   "cell_type": "code",
   "execution_count": 237,
   "id": "dce70634",
   "metadata": {},
   "outputs": [
    {
     "name": "stdout",
     "output_type": "stream",
     "text": [
      "['name', 'course', 'age']\n",
      "['karu', 'cs', 19]\n",
      "[('name', 'karu'), ('course', 'cs'), ('age', 19)]\n"
     ]
    }
   ],
   "source": [
    "d = {\n",
    "  \"name\": \"karu\",\n",
    "  \"course\": \"cs\",\n",
    "  \"age\": 19\n",
    "}\n",
    "\n",
    "print(list(d.keys()))\n",
    "print(list(d.values()))\n",
    "print(list(d.items()))"
   ]
  },
  {
   "cell_type": "code",
   "execution_count": 246,
   "id": "fb9bf55b",
   "metadata": {},
   "outputs": [],
   "source": [
    "## Dict  to set"
   ]
  },
  {
   "cell_type": "code",
   "execution_count": 238,
   "id": "d07cf461",
   "metadata": {},
   "outputs": [
    {
     "name": "stdout",
     "output_type": "stream",
     "text": [
      "{'course', 'age', 'name'}\n",
      "{19, 'karu', 'cs'}\n",
      "{('age', 19), ('name', 'karu'), ('course', 'cs')}\n"
     ]
    }
   ],
   "source": [
    "d = {\n",
    "  \"name\": \"karu\",\n",
    "  \"course\": \"cs\",\n",
    "  \"age\": 19\n",
    "}\n",
    "\n",
    "print(set(d.keys()))\n",
    "print(set(d.values()))\n",
    "print(set(d.items()))"
   ]
  },
  {
   "cell_type": "code",
   "execution_count": null,
   "id": "2cf5c526",
   "metadata": {},
   "outputs": [],
   "source": [
    "## Dict to tuple"
   ]
  },
  {
   "cell_type": "code",
   "execution_count": 240,
   "id": "838cecf4",
   "metadata": {},
   "outputs": [
    {
     "name": "stdout",
     "output_type": "stream",
     "text": [
      "('name', 'course', 'age')\n",
      "('karu', 'cs', 19)\n",
      "(('name', 'karu'), ('course', 'cs'), ('age', 19))\n"
     ]
    }
   ],
   "source": [
    "d = {\n",
    "  \"name\": \"karu\",\n",
    "  \"course\": \"cs\",\n",
    "  \"age\": 19\n",
    "}\n",
    "\n",
    "print(tuple(d.keys()))\n",
    "print(tuple(d.values()))\n",
    "print(tuple(d.items()))"
   ]
  },
  {
   "cell_type": "markdown",
   "id": "7bd07d66",
   "metadata": {},
   "source": [
    "#### List inside list"
   ]
  },
  {
   "cell_type": "code",
   "execution_count": 244,
   "id": "a7624ccf",
   "metadata": {},
   "outputs": [],
   "source": [
    "l=[[1,2],{3,5},(4,5)]"
   ]
  },
  {
   "cell_type": "markdown",
   "id": "34233370",
   "metadata": {},
   "source": [
    "#### tuple inside a tuple"
   ]
  },
  {
   "cell_type": "code",
   "execution_count": 245,
   "id": "2b503209",
   "metadata": {},
   "outputs": [],
   "source": [
    "t=({1,0},[2,8],(3,4))"
   ]
  },
  {
   "cell_type": "markdown",
   "id": "fc0848ea",
   "metadata": {},
   "source": [
    "#### set cannot have set/list/dict in it but can have tuple"
   ]
  },
  {
   "cell_type": "code",
   "execution_count": 248,
   "id": "eca270b9",
   "metadata": {},
   "outputs": [
    {
     "ename": "TypeError",
     "evalue": "unhashable type: 'dict'",
     "output_type": "error",
     "traceback": [
      "\u001b[1;31m---------------------------------------------------------------------------\u001b[0m",
      "\u001b[1;31mTypeError\u001b[0m                                 Traceback (most recent call last)",
      "Cell \u001b[1;32mIn[248], line 4\u001b[0m\n\u001b[0;32m      1\u001b[0m \u001b[38;5;66;03m# s={1,2,(3,4)} # works\u001b[39;00m\n\u001b[0;32m      2\u001b[0m \u001b[38;5;66;03m# s={1,2,[3,4]} #not\u001b[39;00m\n\u001b[0;32m      3\u001b[0m \u001b[38;5;66;03m# s={1,2,{3,4}} #not\u001b[39;00m\n\u001b[1;32m----> 4\u001b[0m s\u001b[38;5;241m=\u001b[39m{\u001b[38;5;241m1\u001b[39m,\u001b[38;5;241m2\u001b[39m,{\u001b[38;5;124m'\u001b[39m\u001b[38;5;124ma\u001b[39m\u001b[38;5;124m'\u001b[39m:\u001b[38;5;241m1\u001b[39m,\n\u001b[0;32m      5\u001b[0m    \u001b[38;5;124m'\u001b[39m\u001b[38;5;124mb\u001b[39m\u001b[38;5;124m'\u001b[39m:\u001b[38;5;241m2\u001b[39m,\n\u001b[0;32m      6\u001b[0m    \u001b[38;5;124m'\u001b[39m\u001b[38;5;124mc\u001b[39m\u001b[38;5;124m'\u001b[39m:[\u001b[38;5;241m1\u001b[39m,\u001b[38;5;241m2\u001b[39m,\u001b[38;5;241m3\u001b[39m],\n\u001b[0;32m      7\u001b[0m    \u001b[38;5;124m'\u001b[39m\u001b[38;5;124md\u001b[39m\u001b[38;5;124m'\u001b[39m:(\u001b[38;5;241m4\u001b[39m,\u001b[38;5;241m5\u001b[39m,\u001b[38;5;241m6\u001b[39m),\n\u001b[0;32m      8\u001b[0m    \u001b[38;5;124m'\u001b[39m\u001b[38;5;124me\u001b[39m\u001b[38;5;124m'\u001b[39m:{\u001b[38;5;241m1\u001b[39m,\u001b[38;5;241m2\u001b[39m,\u001b[38;5;241m3\u001b[39m},\n\u001b[0;32m      9\u001b[0m    \u001b[38;5;124m'\u001b[39m\u001b[38;5;124mf\u001b[39m\u001b[38;5;124m'\u001b[39m:{\u001b[38;5;124m'\u001b[39m\u001b[38;5;124mp\u001b[39m\u001b[38;5;124m'\u001b[39m:\u001b[38;5;241m1\u001b[39m,\u001b[38;5;124m'\u001b[39m\u001b[38;5;124mq\u001b[39m\u001b[38;5;124m'\u001b[39m:\u001b[38;5;241m2\u001b[39m}\n\u001b[0;32m     10\u001b[0m   }\n\u001b[0;32m     11\u001b[0m }\n",
      "\u001b[1;31mTypeError\u001b[0m: unhashable type: 'dict'"
     ]
    }
   ],
   "source": [
    "s={1,2,(3,4)} # works\n",
    "s={1,2,[3,4]} #not\n",
    "s={1,2,{3,4}} #not\n",
    "s={1,2,{'a':1,\n",
    "   'b':2,\n",
    "   'c':[1,2,3],\n",
    "   'd':(4,5,6),\n",
    "   'e':{1,2,3},\n",
    "   'f':{'p':1,'q':2}\n",
    "  }\n",
    "}"
   ]
  },
  {
   "cell_type": "markdown",
   "id": "176e21f1",
   "metadata": {},
   "source": [
    "#### list,tuple,set,dict inside dict"
   ]
  },
  {
   "cell_type": "code",
   "execution_count": 213,
   "id": "a780cacc",
   "metadata": {},
   "outputs": [
    {
     "name": "stdout",
     "output_type": "stream",
     "text": [
      "{'a': 1, 'b': 2, 'c': [1, 2, 3], 'd': (4, 5, 6), 'e': {1, 2, 3}, 'f': {'p': 1, 'q': 2}}\n"
     ]
    }
   ],
   "source": [
    "d={'a':1,\n",
    "   'b':2,\n",
    "   'c':[1,2,3],\n",
    "   'd':(4,5,6),\n",
    "   'e':{1,2,3},\n",
    "   'f':{'p':1,'q':2}\n",
    "  }\n",
    "\n",
    "print(d)"
   ]
  }
 ],
 "metadata": {
  "kernelspec": {
   "display_name": "Python 3 (ipykernel)",
   "language": "python",
   "name": "python3"
  },
  "language_info": {
   "codemirror_mode": {
    "name": "ipython",
    "version": 3
   },
   "file_extension": ".py",
   "mimetype": "text/x-python",
   "name": "python",
   "nbconvert_exporter": "python",
   "pygments_lexer": "ipython3",
   "version": "3.10.9"
  }
 },
 "nbformat": 4,
 "nbformat_minor": 5
}
