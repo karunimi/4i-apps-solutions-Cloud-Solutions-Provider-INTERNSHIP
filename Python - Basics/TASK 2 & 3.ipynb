{
 "cells": [
  {
   "cell_type": "markdown",
   "id": "1a42daa0",
   "metadata": {},
   "source": [
    "# TASK-2"
   ]
  },
  {
   "cell_type": "markdown",
   "id": "6c293cda",
   "metadata": {},
   "source": [
    "## If Else "
   ]
  },
  {
   "cell_type": "code",
   "execution_count": 1,
   "id": "b1b962bd",
   "metadata": {},
   "outputs": [
    {
     "name": "stdout",
     "output_type": "stream",
     "text": [
      "a is greater than 5\n",
      "a is greater than 10\n"
     ]
    }
   ],
   "source": [
    "## if condition\n",
    "\n",
    "a=10;b=20\n",
    "\n",
    "if(a>5):\n",
    "    print(\"a is greater than 5\")\n",
    "if(b>10):\n",
    "    print(\"a is greater than 10\")\n",
    "if(a>10):\n",
    "    print(\"a is greater than 10\")"
   ]
  },
  {
   "cell_type": "code",
   "execution_count": 2,
   "id": "abbf3ce7",
   "metadata": {},
   "outputs": [
    {
     "name": "stdout",
     "output_type": "stream",
     "text": [
      "b is greater than a\n"
     ]
    }
   ],
   "source": [
    "## The elif keyword is Python's way of saying \"if the previous conditions were not true,\n",
    "## then try this condition\".\n",
    "\n",
    "if b > a:\n",
    "  print(\"b is greater than a\")\n",
    "elif a == b:\n",
    "  print(\"a and b are equal\")"
   ]
  },
  {
   "cell_type": "code",
   "execution_count": 3,
   "id": "15e73841",
   "metadata": {},
   "outputs": [
    {
     "name": "stdout",
     "output_type": "stream",
     "text": [
      "else statement is printed\n"
     ]
    }
   ],
   "source": [
    "## The else keyword catches anything which isn't caught by the preceding conditions.\n",
    "\n",
    "a=33;b=22\n",
    "\n",
    "if(a==10):\n",
    "    print(\"a is\",a)\n",
    "else:\n",
    "    print(\"else statement is printed\")\n"
   ]
  },
  {
   "cell_type": "markdown",
   "id": "4d9dfe3c",
   "metadata": {},
   "source": [
    "#### Short Hand If"
   ]
  },
  {
   "cell_type": "code",
   "execution_count": 4,
   "id": "59c5c9e8",
   "metadata": {},
   "outputs": [
    {
     "name": "stdout",
     "output_type": "stream",
     "text": [
      "a is greater than b\n"
     ]
    }
   ],
   "source": [
    "## If you have only one statement to execute, you can put it on the same line as the if statement\n",
    "\n",
    "a=33;b=22\n",
    "\n",
    "if a > b: print(\"a is greater than b\")"
   ]
  },
  {
   "cell_type": "markdown",
   "id": "683c0985",
   "metadata": {},
   "source": [
    "#### Short Hand If ... Else"
   ]
  },
  {
   "cell_type": "code",
   "execution_count": 5,
   "id": "fcb4c5e7",
   "metadata": {},
   "outputs": [
    {
     "name": "stdout",
     "output_type": "stream",
     "text": [
      "a is greater\n"
     ]
    }
   ],
   "source": [
    "## If you have only one statement to execute, one for if, and one for else,\n",
    "## you can put it all on the same line:\n",
    "\n",
    "a=33;b=22\n",
    "\n",
    "print(\"b is greater\") if (b>a)  else print(\"a is greater\")"
   ]
  },
  {
   "cell_type": "code",
   "execution_count": 6,
   "id": "1d5d428d",
   "metadata": {},
   "outputs": [
    {
     "name": "stdout",
     "output_type": "stream",
     "text": [
      "a is greater\n"
     ]
    }
   ],
   "source": [
    "## You can also have multiple else statements on the same line:\n",
    "\n",
    "a=33;b=22\n",
    "\n",
    "print(\"b is greater\") if(b>a) else print(\"a is equal to b\") if(a==b) else print(\"a is greater\")"
   ]
  },
  {
   "cell_type": "code",
   "execution_count": 7,
   "id": "ff07325e",
   "metadata": {},
   "outputs": [
    {
     "name": "stdout",
     "output_type": "stream",
     "text": [
      "Both conditions are True\n",
      "At least one of the condition is true\n",
      "a is lesser than b\n"
     ]
    }
   ],
   "source": [
    "## AND,OR,NOT keywords are a logical operator\n",
    "\n",
    "a=10;b=20;c=10\n",
    "\n",
    "if (a==10) and (a>9):\n",
    "    print(\"Both conditions are True\")\n",
    "    \n",
    "if (b==20 or c>10):\n",
    "    print(\"At least one of the condition is true\")\n",
    "    \n",
    "if not a>b:\n",
    "    print(\"a is lesser than b\")"
   ]
  },
  {
   "cell_type": "code",
   "execution_count": 8,
   "id": "5222223f",
   "metadata": {},
   "outputs": [
    {
     "name": "stdout",
     "output_type": "stream",
     "text": [
      "combinations of 'and','or'and 'not'keywords \n"
     ]
    }
   ],
   "source": [
    "## Lets try to combine 'and','or' and 'not' keywords\n",
    "\n",
    "if (b==20 or c>10) and not(a>b):\n",
    "    print(\"combinations of 'and','or'and 'not'keywords \")\n",
    "    \n",
    "# b==20 or c>10 is true\n",
    "# not(a>b) is true\n",
    "# hence and of these true are true"
   ]
  },
  {
   "cell_type": "markdown",
   "id": "47b67152",
   "metadata": {},
   "source": [
    "#### The pass Statement"
   ]
  },
  {
   "cell_type": "code",
   "execution_count": 9,
   "id": "98e7c3c5",
   "metadata": {},
   "outputs": [],
   "source": [
    "a=11;b=22\n",
    "\n",
    "if(b>a):\n",
    "    pass\n",
    "else:\n",
    "    print(\"a is greater\")"
   ]
  },
  {
   "cell_type": "markdown",
   "id": "0f2b0e22",
   "metadata": {},
   "source": [
    "## While Loop"
   ]
  },
  {
   "cell_type": "code",
   "execution_count": 10,
   "id": "4c602f05",
   "metadata": {},
   "outputs": [
    {
     "name": "stdout",
     "output_type": "stream",
     "text": [
      "1\n",
      "2\n",
      "3\n",
      "4\n"
     ]
    }
   ],
   "source": [
    "## With the while loop we can execute a set of statements as long as a condition is true.\n",
    "\n",
    "i=1\n",
    "while(i<5):\n",
    "    print(i)\n",
    "    i+=1"
   ]
  },
  {
   "cell_type": "markdown",
   "id": "14012375",
   "metadata": {},
   "source": [
    "#### The break Statement"
   ]
  },
  {
   "cell_type": "code",
   "execution_count": 11,
   "id": "810043cc",
   "metadata": {},
   "outputs": [
    {
     "name": "stdout",
     "output_type": "stream",
     "text": [
      "1\n",
      "2\n",
      "3\n"
     ]
    }
   ],
   "source": [
    "## With the break statement we can stop the loop even if the while condition is true:\n",
    "\n",
    "i = 1\n",
    "while i < 5:\n",
    "  print(i)\n",
    "  if i == 3:\n",
    "    break\n",
    "  i += 1"
   ]
  },
  {
   "cell_type": "markdown",
   "id": "19631978",
   "metadata": {},
   "source": [
    "#### The continue Statement"
   ]
  },
  {
   "cell_type": "code",
   "execution_count": 12,
   "id": "9f06348c",
   "metadata": {},
   "outputs": [
    {
     "name": "stdout",
     "output_type": "stream",
     "text": [
      "1\n",
      "2\n",
      "4\n",
      "5\n"
     ]
    }
   ],
   "source": [
    "##With the continue statement we can stop the current iteration, and continue with the next:\n",
    "\n",
    "i = 0\n",
    "while i < 5:\n",
    "  i += 1\n",
    "  if i == 3:\n",
    "    continue\n",
    "  print(i)"
   ]
  },
  {
   "cell_type": "markdown",
   "id": "8b69abb8",
   "metadata": {},
   "source": [
    "#### The else Statement"
   ]
  },
  {
   "cell_type": "code",
   "execution_count": 13,
   "id": "06de9a84",
   "metadata": {},
   "outputs": [
    {
     "name": "stdout",
     "output_type": "stream",
     "text": [
      "1\n",
      "2\n",
      "3\n",
      "4\n",
      "i is no longer less than 5\n"
     ]
    }
   ],
   "source": [
    "## With the else statement we can run a block of code once when the condition no longer is true:\n",
    "\n",
    "i = 1\n",
    "while i < 5:\n",
    "  print(i)\n",
    "  i += 1\n",
    "else:\n",
    "  print(\"i is no longer less than 5\")"
   ]
  },
  {
   "cell_type": "markdown",
   "id": "58a4b5a8",
   "metadata": {},
   "source": [
    "## Functions"
   ]
  },
  {
   "cell_type": "code",
   "execution_count": 14,
   "id": "32d92c79",
   "metadata": {},
   "outputs": [],
   "source": [
    "## In Python a function is defined using the def keyword:\n",
    "\n",
    "def trial_function():\n",
    "    print(\"function statement\")"
   ]
  },
  {
   "cell_type": "code",
   "execution_count": 15,
   "id": "1456ea6c",
   "metadata": {},
   "outputs": [
    {
     "name": "stdout",
     "output_type": "stream",
     "text": [
      "function statement\n"
     ]
    }
   ],
   "source": [
    "## to call function call its name with paranthese\n",
    "\n",
    "trial_function()"
   ]
  },
  {
   "cell_type": "code",
   "execution_count": 16,
   "id": "6dd0db7b",
   "metadata": {},
   "outputs": [
    {
     "name": "stdout",
     "output_type": "stream",
     "text": [
      "karthikaa Ravikumar\n",
      "nimitha Ravikumar\n"
     ]
    }
   ],
   "source": [
    "## Arguments\n",
    "##Information can be passed into functions as arguments\n",
    "\n",
    "def my_function(fname):\n",
    "  print(fname + \" Ravikumar\")\n",
    "\n",
    "my_function(\"karthikaa\")\n",
    "my_function(\"nimitha\")"
   ]
  },
  {
   "cell_type": "code",
   "execution_count": 17,
   "id": "b3dbf05c",
   "metadata": {},
   "outputs": [
    {
     "name": "stdout",
     "output_type": "stream",
     "text": [
      "2 + 4 = 6\n",
      "4 + 5 = 9\n"
     ]
    },
    {
     "ename": "TypeError",
     "evalue": "add() missing 1 required positional argument: 'b'",
     "output_type": "error",
     "traceback": [
      "\u001b[1;31m---------------------------------------------------------------------------\u001b[0m",
      "\u001b[1;31mTypeError\u001b[0m                                 Traceback (most recent call last)",
      "Cell \u001b[1;32mIn[17], line 6\u001b[0m\n\u001b[0;32m      3\u001b[0m add(\u001b[38;5;241m2\u001b[39m,\u001b[38;5;241m4\u001b[39m)\n\u001b[0;32m      4\u001b[0m add(\u001b[38;5;241m4\u001b[39m,\u001b[38;5;241m5\u001b[39m)\n\u001b[1;32m----> 6\u001b[0m \u001b[43madd\u001b[49m\u001b[43m(\u001b[49m\u001b[38;5;241;43m2\u001b[39;49m\u001b[43m)\u001b[49m\n",
      "\u001b[1;31mTypeError\u001b[0m: add() missing 1 required positional argument: 'b'"
     ]
    }
   ],
   "source": [
    "def add(a,b):\n",
    "    print(\"{0} + {1} = {2}\".format(a,b,a+b))\n",
    "add(2,4)\n",
    "add(4,5)\n",
    "\n",
    "add(2) \n",
    "\n",
    "#  if your function expects 2 arguments, you have to call the function with 2 arguments,\n",
    "#  not more, and not less."
   ]
  },
  {
   "cell_type": "markdown",
   "id": "fe3e4959",
   "metadata": {},
   "source": [
    "# TASK 3.1"
   ]
  },
  {
   "cell_type": "markdown",
   "id": "0ae5e81c",
   "metadata": {},
   "source": [
    "#### Arbitrary Arguments"
   ]
  },
  {
   "cell_type": "code",
   "execution_count": 18,
   "id": "eb56de37",
   "metadata": {},
   "outputs": [
    {
     "name": "stdout",
     "output_type": "stream",
     "text": [
      "The greatest number is  6\n"
     ]
    }
   ],
   "source": [
    "## If the number of arguments is unknown, add a * before the parameter name:\n",
    "\n",
    "def greatest(*num):\n",
    "    i=0\n",
    "    result=0\n",
    "\n",
    "    while(i<len(num)):\n",
    "        if(num[i] > num[i]+1):\n",
    "           result=num[i]\n",
    "        else:\n",
    "            result=num[i]+1\n",
    "        i+=1\n",
    "    return result\n",
    "    \n",
    "\n",
    "print(\"The greatest number is \",greatest(1,2,3,4,5))"
   ]
  },
  {
   "cell_type": "markdown",
   "id": "b403eea9",
   "metadata": {},
   "source": [
    "#### Default value can be followed by Arbitrary argument"
   ]
  },
  {
   "cell_type": "code",
   "execution_count": 19,
   "id": "22244b7b",
   "metadata": {},
   "outputs": [
    {
     "name": "stdout",
     "output_type": "stream",
     "text": [
      "His last name is Refsnes and from india\n"
     ]
    }
   ],
   "source": [
    "def my_function(*kid,country=\"india\"):\n",
    "  print(\"His last name is \" + kid[1] + \" and from \" + country)\n",
    "\n",
    "my_function(\"Tobias\",\"Refsnes\")"
   ]
  },
  {
   "cell_type": "code",
   "execution_count": 20,
   "id": "90270f36",
   "metadata": {},
   "outputs": [
    {
     "ename": "IndexError",
     "evalue": "tuple index out of range",
     "output_type": "error",
     "traceback": [
      "\u001b[1;31m---------------------------------------------------------------------------\u001b[0m",
      "\u001b[1;31mIndexError\u001b[0m                                Traceback (most recent call last)",
      "Cell \u001b[1;32mIn[20], line 4\u001b[0m\n\u001b[0;32m      1\u001b[0m \u001b[38;5;28;01mdef\u001b[39;00m \u001b[38;5;21mmy_function\u001b[39m(country\u001b[38;5;241m=\u001b[39m\u001b[38;5;124m\"\u001b[39m\u001b[38;5;124mindia\u001b[39m\u001b[38;5;124m\"\u001b[39m,\u001b[38;5;241m*\u001b[39mkid):\n\u001b[0;32m      2\u001b[0m   \u001b[38;5;28mprint\u001b[39m(\u001b[38;5;124m\"\u001b[39m\u001b[38;5;124mHis last name is \u001b[39m\u001b[38;5;124m\"\u001b[39m \u001b[38;5;241m+\u001b[39m kid[\u001b[38;5;241m1\u001b[39m] \u001b[38;5;241m+\u001b[39m \u001b[38;5;124m\"\u001b[39m\u001b[38;5;124m and from \u001b[39m\u001b[38;5;124m\"\u001b[39m \u001b[38;5;241m+\u001b[39m country)\n\u001b[1;32m----> 4\u001b[0m \u001b[43mmy_function\u001b[49m\u001b[43m(\u001b[49m\u001b[38;5;124;43m\"\u001b[39;49m\u001b[38;5;124;43mTobias\u001b[39;49m\u001b[38;5;124;43m\"\u001b[39;49m\u001b[43m,\u001b[49m\u001b[38;5;124;43m\"\u001b[39;49m\u001b[38;5;124;43mRefsnes\u001b[39;49m\u001b[38;5;124;43m\"\u001b[39;49m\u001b[43m)\u001b[49m\n",
      "Cell \u001b[1;32mIn[20], line 2\u001b[0m, in \u001b[0;36mmy_function\u001b[1;34m(country, *kid)\u001b[0m\n\u001b[0;32m      1\u001b[0m \u001b[38;5;28;01mdef\u001b[39;00m \u001b[38;5;21mmy_function\u001b[39m(country\u001b[38;5;241m=\u001b[39m\u001b[38;5;124m\"\u001b[39m\u001b[38;5;124mindia\u001b[39m\u001b[38;5;124m\"\u001b[39m,\u001b[38;5;241m*\u001b[39mkid):\n\u001b[1;32m----> 2\u001b[0m   \u001b[38;5;28mprint\u001b[39m(\u001b[38;5;124m\"\u001b[39m\u001b[38;5;124mHis last name is \u001b[39m\u001b[38;5;124m\"\u001b[39m \u001b[38;5;241m+\u001b[39m \u001b[43mkid\u001b[49m\u001b[43m[\u001b[49m\u001b[38;5;241;43m1\u001b[39;49m\u001b[43m]\u001b[49m \u001b[38;5;241m+\u001b[39m \u001b[38;5;124m\"\u001b[39m\u001b[38;5;124m and from \u001b[39m\u001b[38;5;124m\"\u001b[39m \u001b[38;5;241m+\u001b[39m country)\n",
      "\u001b[1;31mIndexError\u001b[0m: tuple index out of range"
     ]
    }
   ],
   "source": [
    "def my_function(country=\"india\",*kid):\n",
    "  print(\"His last name is \" + kid[1] + \" and from \" + country)\n",
    "\n",
    "my_function(\"Tobias\",\"Refsnes\")\n",
    "\n",
    "# the error is because as it is positional argument 'Tobias' is assigned to country and the kid\n",
    "# tuple is now with one element in it,here comes \"index error\" will calling the tuple's 2nd \n",
    "# element."
   ]
  },
  {
   "cell_type": "code",
   "execution_count": null,
   "id": "4669190b",
   "metadata": {},
   "outputs": [],
   "source": [
    "# Let us add one more argument in the function see what happens\n",
    "\n",
    "def my_function(country=\"india\",*kid):\n",
    "  print(\"His last name is \" + kid[1] + \" and from \" + country)\n",
    "\n",
    "my_function(\"Tobias\",\"Refsnes\",\"karu\")\n",
    "\n",
    "# Now \"Tobias\" is assigned to country and the remaining (\"Refsnes\",\"karu\") tuple \n",
    "# is assigned to kid. When calling kid[1], there comes karu."
   ]
  },
  {
   "cell_type": "markdown",
   "id": "9bdcd1d8",
   "metadata": {},
   "source": [
    "#### Keyword Arguments"
   ]
  },
  {
   "cell_type": "code",
   "execution_count": 21,
   "id": "891d7b06",
   "metadata": {},
   "outputs": [
    {
     "name": "stdout",
     "output_type": "stream",
     "text": [
      "The youngest child is Linus\n"
     ]
    }
   ],
   "source": [
    "## You can also send arguments with the key = value syntax\n",
    "## even the order is changed that doesn't matter,whatever the key called will reflect with its \n",
    "## value assigned inside the function\n",
    "\n",
    "def my_function(child3, child2, child1):\n",
    "  print(\"The youngest child is \" + child3)\n",
    "\n",
    "my_function(child1 = \"Emil\", child2 = \"Tobias\", child3 = \"Linus\")"
   ]
  },
  {
   "cell_type": "markdown",
   "id": "22ee248c",
   "metadata": {},
   "source": [
    "#### Arbitrary Keyword Arguments"
   ]
  },
  {
   "cell_type": "code",
   "execution_count": 22,
   "id": "43e819b6",
   "metadata": {},
   "outputs": [
    {
     "name": "stdout",
     "output_type": "stream",
     "text": [
      "His last name is Tobias\n"
     ]
    }
   ],
   "source": [
    "def my_function(**kid):\n",
    "  print(\"His last name is \" + kid[\"lname\"])\n",
    "\n",
    "my_function(lname=\"Tobias\",fname=\"Refsnes\")"
   ]
  },
  {
   "cell_type": "code",
   "execution_count": 23,
   "id": "4cebce92",
   "metadata": {},
   "outputs": [
    {
     "ename": "SyntaxError",
     "evalue": "invalid syntax (2756281501.py, line 1)",
     "output_type": "error",
     "traceback": [
      "\u001b[1;36m  Cell \u001b[1;32mIn[23], line 1\u001b[1;36m\u001b[0m\n\u001b[1;33m    def my_function(**kid,country=\"india\"):\u001b[0m\n\u001b[1;37m                          ^\u001b[0m\n\u001b[1;31mSyntaxError\u001b[0m\u001b[1;31m:\u001b[0m invalid syntax\n"
     ]
    }
   ],
   "source": [
    "def my_function(**kid,country=\"india\"):\n",
    "  print(\"His last name is \" + kid[\"lname\"] +\"and from \"+ country)\n",
    "\n",
    "my_function(lname=\"Tobias\",fname=\"Refsnes\")"
   ]
  },
  {
   "cell_type": "markdown",
   "id": "b3a373bb",
   "metadata": {},
   "source": [
    "#### Default Parameter Value"
   ]
  },
  {
   "cell_type": "code",
   "execution_count": 24,
   "id": "c8dd150b",
   "metadata": {},
   "outputs": [
    {
     "name": "stdout",
     "output_type": "stream",
     "text": [
      "karthika is present\n",
      "nimitha is present\n",
      "rathi is absent\n"
     ]
    }
   ],
   "source": [
    "def attendance(name,attend=\"absent\"):\n",
    "    print(name,\"is\",attend)\n",
    "    \n",
    "attendance(\"karthika\",\"present\")\n",
    "attendance(\"nimitha\",\"present\")\n",
    "attendance(\"rathi\")"
   ]
  },
  {
   "cell_type": "code",
   "execution_count": 25,
   "id": "12011ea9",
   "metadata": {},
   "outputs": [
    {
     "ename": "SyntaxError",
     "evalue": "non-default argument follows default argument (4114999170.py, line 1)",
     "output_type": "error",
     "traceback": [
      "\u001b[1;36m  Cell \u001b[1;32mIn[25], line 1\u001b[1;36m\u001b[0m\n\u001b[1;33m    def attendance(attend=\"absent\",name):\u001b[0m\n\u001b[1;37m                                   ^\u001b[0m\n\u001b[1;31mSyntaxError\u001b[0m\u001b[1;31m:\u001b[0m non-default argument follows default argument\n"
     ]
    }
   ],
   "source": [
    "def attendance(attend=\"absent\",name):\n",
    "    print(name,\"is\",attend)\n",
    "    \n",
    "attendance(\"karthika\",\"present\")\n",
    "attendance(\"nimitha\",\"present\")\n",
    "attendance(\"rathi\")"
   ]
  },
  {
   "cell_type": "code",
   "execution_count": 26,
   "id": "f1f9acb1",
   "metadata": {},
   "outputs": [
    {
     "ename": "SyntaxError",
     "evalue": "invalid syntax (2753762713.py, line 6)",
     "output_type": "error",
     "traceback": [
      "\u001b[1;36m  Cell \u001b[1;32mIn[26], line 6\u001b[1;36m\u001b[0m\n\u001b[1;33m    attendance(\"rathi\",,\"bad\")       ## we should use key-word to solve this error\u001b[0m\n\u001b[1;37m                       ^\u001b[0m\n\u001b[1;31mSyntaxError\u001b[0m\u001b[1;31m:\u001b[0m invalid syntax\n"
     ]
    }
   ],
   "source": [
    "def attendance(name,attend=\"absent\",status=\"good\"):\n",
    "    print(name,\"is\",attend,\"and is\",status)\n",
    "    \n",
    "attendance(\"karthika\",\"present\",\"good\")\n",
    "attendance(\"nimitha\",\"present\",\"bad\")\n",
    "attendance(\"rathi\",,\"bad\")       ## we should use key-word to solve this error"
   ]
  },
  {
   "cell_type": "code",
   "execution_count": 27,
   "id": "41eca3bd",
   "metadata": {},
   "outputs": [
    {
     "name": "stdout",
     "output_type": "stream",
     "text": [
      "karthika is present and is good\n",
      "nimitha is present and is bad\n",
      "rathi is absent and is bad\n"
     ]
    }
   ],
   "source": [
    " ## we should use key-word to solve this error as shown below:\n",
    "    \n",
    " def attendance(name,attend=\"absent\",status=\"good\"):\n",
    "    print(name,\"is\",attend,\"and is\",status)\n",
    "    \n",
    "attendance(\"karthika\",\"present\",\"good\")\n",
    "attendance(\"nimitha\",\"present\",\"bad\")\n",
    "attendance(\"rathi\",status=\"bad\")     "
   ]
  },
  {
   "cell_type": "markdown",
   "id": "d16dc917",
   "metadata": {},
   "source": [
    "# TASK 3.2"
   ]
  },
  {
   "cell_type": "markdown",
   "id": "048b48f7",
   "metadata": {},
   "source": [
    "## Copy and view"
   ]
  },
  {
   "cell_type": "code",
   "execution_count": 28,
   "id": "2b7a24cd",
   "metadata": {},
   "outputs": [],
   "source": [
    "import numpy as np"
   ]
  },
  {
   "cell_type": "code",
   "execution_count": 29,
   "id": "8d9fbe81",
   "metadata": {},
   "outputs": [],
   "source": [
    "ls=[x for x in range(5)]"
   ]
  },
  {
   "cell_type": "code",
   "execution_count": 30,
   "id": "30beeddb",
   "metadata": {},
   "outputs": [
    {
     "data": {
      "text/plain": [
       "[0, 1, 2, 3, 4]"
      ]
     },
     "execution_count": 30,
     "metadata": {},
     "output_type": "execute_result"
    }
   ],
   "source": [
    "ls"
   ]
  },
  {
   "cell_type": "code",
   "execution_count": 31,
   "id": "470bfaba",
   "metadata": {},
   "outputs": [],
   "source": [
    "arr1=np.array(ls)"
   ]
  },
  {
   "cell_type": "code",
   "execution_count": 32,
   "id": "e06c389d",
   "metadata": {},
   "outputs": [
    {
     "data": {
      "text/plain": [
       "array([0, 1, 2, 3, 4])"
      ]
     },
     "execution_count": 32,
     "metadata": {},
     "output_type": "execute_result"
    }
   ],
   "source": [
    "arr1"
   ]
  },
  {
   "cell_type": "code",
   "execution_count": 33,
   "id": "3e90e549",
   "metadata": {},
   "outputs": [],
   "source": [
    "x=arr1.copy()\n",
    "y=arr1.view()"
   ]
  },
  {
   "cell_type": "code",
   "execution_count": 34,
   "id": "b69c129e",
   "metadata": {},
   "outputs": [
    {
     "name": "stdout",
     "output_type": "stream",
     "text": [
      "Original:  [0 1 2 3 4]\n",
      "----------------\n",
      "Copy:      [0 1 2 3 4]\n",
      "----------------\n",
      "View:      [0 1 2 3 4]\n"
     ]
    }
   ],
   "source": [
    "print(\"Original: \",arr1)\n",
    "print(\"----------------\")\n",
    "print(\"Copy:     \",x)\n",
    "print(\"----------------\")\n",
    "print(\"View:     \",y)"
   ]
  },
  {
   "cell_type": "code",
   "execution_count": 35,
   "id": "0b9be58a",
   "metadata": {},
   "outputs": [
    {
     "name": "stdout",
     "output_type": "stream",
     "text": [
      "Original:  [  0 100   2   3   4]\n",
      "----------------\n",
      "Copy:      [0 1 2 3 4]\n",
      "----------------\n",
      "View:      [  0 100   2   3   4]\n"
     ]
    }
   ],
   "source": [
    "## changing the value in original\n",
    "\n",
    "arr1[1]=100\n",
    "\n",
    "print(\"Original: \",arr1)\n",
    "print(\"----------------\")\n",
    "print(\"Copy:     \",x)\n",
    "print(\"----------------\")\n",
    "print(\"View:     \",y)\n",
    "\n",
    "## Both view and original are changed with  no change in copy"
   ]
  },
  {
   "cell_type": "code",
   "execution_count": 36,
   "id": "165c87bd",
   "metadata": {},
   "outputs": [
    {
     "name": "stdout",
     "output_type": "stream",
     "text": [
      "Original:  [ 50 100   2   3   4]\n",
      "----------------\n",
      "Copy:      [0 1 2 3 4]\n",
      "----------------\n",
      "View:      [ 50 100   2   3   4]\n"
     ]
    }
   ],
   "source": [
    "## changing the value in the view\n",
    "\n",
    "y[0]=50\n",
    "\n",
    "print(\"Original: \",arr1)\n",
    "print(\"----------------\")\n",
    "print(\"Copy:     \",x)\n",
    "print(\"----------------\")\n",
    "print(\"View:     \",y)\n",
    "\n",
    "## Both view and original are changed with  no change in copy"
   ]
  },
  {
   "cell_type": "code",
   "execution_count": 37,
   "id": "c8070125",
   "metadata": {},
   "outputs": [
    {
     "name": "stdout",
     "output_type": "stream",
     "text": [
      "Original:  [ 50 100   2   3   4]\n",
      "----------------\n",
      "Copy:      [  0   1 150   3   4]\n",
      "----------------\n",
      "View:      [ 50 100   2   3   4]\n"
     ]
    }
   ],
   "source": [
    "## changing the value in the copy\n",
    "\n",
    "x[2]=150\n",
    "\n",
    "print(\"Original: \",arr1)\n",
    "print(\"----------------\")\n",
    "print(\"Copy:     \",x)\n",
    "print(\"----------------\")\n",
    "print(\"View:     \",y)\n",
    "\n",
    "## Only the copy value change,but original and view are unchanged"
   ]
  },
  {
   "cell_type": "markdown",
   "id": "43e8f2a3",
   "metadata": {},
   "source": [
    "# TASK 3.3\n",
    "#### List comprehension filter"
   ]
  },
  {
   "cell_type": "code",
   "execution_count": 38,
   "id": "2fe067fd",
   "metadata": {},
   "outputs": [],
   "source": [
    "from numpy import random"
   ]
  },
  {
   "cell_type": "code",
   "execution_count": 39,
   "id": "272196e5",
   "metadata": {},
   "outputs": [
    {
     "data": {
      "text/plain": [
       "array([ 7, 41, 42, 33, 49, 20,  7, 45, 24, 16])"
      ]
     },
     "execution_count": 39,
     "metadata": {},
     "output_type": "execute_result"
    }
   ],
   "source": [
    "age = np.array([i for i in random.randint(50, size = 10)])\n",
    "age"
   ]
  },
  {
   "cell_type": "code",
   "execution_count": 40,
   "id": "8cb6623a",
   "metadata": {},
   "outputs": [
    {
     "data": {
      "text/plain": [
       "array([41, 42, 33, 49, 20, 45, 24])"
      ]
     },
     "execution_count": 40,
     "metadata": {},
     "output_type": "execute_result"
    }
   ],
   "source": [
    "check_bool=age[[True if i>=18 else False for i in age ]]\n",
    "check_bool"
   ]
  }
 ],
 "metadata": {
  "kernelspec": {
   "display_name": "Python 3 (ipykernel)",
   "language": "python",
   "name": "python3"
  },
  "language_info": {
   "codemirror_mode": {
    "name": "ipython",
    "version": 3
   },
   "file_extension": ".py",
   "mimetype": "text/x-python",
   "name": "python",
   "nbconvert_exporter": "python",
   "pygments_lexer": "ipython3",
   "version": "3.10.9"
  },
  "toc": {
   "base_numbering": 1,
   "nav_menu": {},
   "number_sections": true,
   "sideBar": true,
   "skip_h1_title": false,
   "title_cell": "Table of Contents",
   "title_sidebar": "Contents",
   "toc_cell": false,
   "toc_position": {},
   "toc_section_display": true,
   "toc_window_display": false
  }
 },
 "nbformat": 4,
 "nbformat_minor": 5
}
