<!DOCTYPE html>
<!-- saved from url=(0095)https://colab.research.google.com/drive/1ISj7UevJE_zZTs3S0MSeka2jX5iyG5Ym#scrollTo=WvK4eJRQzQFF -->
<html lang="en" theme="adaptive" editor="Default Dark" style="--colab-code-font-family: monospace;"><head><meta http-equiv="Content-Type" content="text/html; charset=UTF-8"><meta http-equiv="origin-trial" content="Az520Inasey3TAyqLyojQa8MnmCALSEU29yQFW8dePZ7xQTvSt73pHazLFTK5f7SyLUJSo2uKLesEtEa9aUYcgMAAACPeyJvcmlnaW4iOiJodHRwczovL2dvb2dsZS5jb206NDQzIiwiZmVhdHVyZSI6IkRpc2FibGVUaGlyZFBhcnR5U3RvcmFnZVBhcnRpdGlvbmluZyIsImV4cGlyeSI6MTcyNTQwNzk5OSwiaXNTdWJkb21haW4iOnRydWUsImlzVGhpcmRQYXJ0eSI6dHJ1ZX0="><meta http-equiv="origin-trial" content="Az520Inasey3TAyqLyojQa8MnmCALSEU29yQFW8dePZ7xQTvSt73pHazLFTK5f7SyLUJSo2uKLesEtEa9aUYcgMAAACPeyJvcmlnaW4iOiJodHRwczovL2dvb2dsZS5jb206NDQzIiwiZmVhdHVyZSI6IkRpc2FibGVUaGlyZFBhcnR5U3RvcmFnZVBhcnRpdGlvbmluZyIsImV4cGlyeSI6MTcyNTQwNzk5OSwiaXNTdWJkb21haW4iOnRydWUsImlzVGhpcmRQYXJ0eSI6dHJ1ZX0="><script type="text/javascript" async="" src="./spam or ham_files/recaptcha__en.js.download" crossorigin="anonymous" integrity="sha384-0lJkOVHDy3ItYlCbUoEzThjP3hLhLYfEFPAkVOCxnJpb5K9Fllso+S8TRBILcfPo" nonce=""></script><script type="text/javascript" async="" src="./spam or ham_files/recaptcha__en.js.download" crossorigin="anonymous" integrity="sha384-0lJkOVHDy3ItYlCbUoEzThjP3hLhLYfEFPAkVOCxnJpb5K9Fllso+S8TRBILcfPo" nonce=""></script><script src="./spam or ham_files/cb=gapi.loaded_1" nonce="" async=""></script><script type="text/javascript" async="" src="./spam or ham_files/js" nonce=""></script><script src="./spam or ham_files/cb=gapi.loaded_0" nonce="" async=""></script><script async="" src="./spam or ham_files/analytics.js.download"></script><script nonce="">
      document.addEventListener('keydown', (e) => {
        // Stop propagation on ESC because otherwise it will halt outbound XHRs
        // See b/131755324 for more info.
        if (e.key === 'Escape') {
          e.stopPropagation();
          e.preventDefault();
        }
      });
    </script><meta name="referrer" content="origin"><meta name="viewport" content="width=device-width, initial-scale=1"><title>spam or ham.ipynb - Colab</title><link href="./spam or ham_files/css2" rel="stylesheet"><link href="./spam or ham_files/css" rel="stylesheet"><link rel="search" type="application/opensearchdescription+xml" href="https://colab.research.google.com/opensearch.xml" title="Google Colab"><style>.gb_hb:not(.gb_jd){font:13px/27px Roboto,Arial,sans-serif;z-index:986}@-webkit-keyframes gb__a{0%{opacity:0}50%{opacity:1}}@keyframes gb__a{0%{opacity:0}50%{opacity:1}}a.gb_ya{border:none;color:#4285f4;cursor:default;font-weight:bold;outline:none;position:relative;text-align:center;text-decoration:none;text-transform:uppercase;white-space:nowrap;-webkit-user-select:none}a.gb_ya:hover:after,a.gb_ya:focus:after{background-color:rgba(0,0,0,.12);content:"";height:100%;left:0;position:absolute;top:0;width:100%}a.gb_ya:hover,a.gb_ya:focus{text-decoration:none}a.gb_ya:active{background-color:rgba(153,153,153,.4);text-decoration:none}a.gb_za{background-color:#4285f4;color:#fff}a.gb_za:active{background-color:#0043b2}.gb_Aa{box-shadow:0 1px 1px rgba(0,0,0,.16)}.gb_ya,.gb_za,.gb_Ba,.gb_Ca{display:inline-block;line-height:28px;padding:0 12px;border-radius:2px}.gb_Ba{background:#f8f8f8;border:1px solid #c6c6c6}.gb_Ca{background:#f8f8f8}.gb_Ba,#gb a.gb_Ba.gb_Ba,.gb_Ca{color:#666;cursor:default;text-decoration:none}#gb a.gb_Ca{cursor:default;text-decoration:none}.gb_Ca{border:1px solid #4285f4;font-weight:bold;outline:none;background:#4285f4;background:-webkit-gradient(linear,left top,left bottom,from(top),color-stop(#4387fd),to(#4683ea));background:-webkit-linear-gradient(top,#4387fd,#4683ea);background:linear-gradient(top,#4387fd,#4683ea);filter:progid:DXImageTransform.Microsoft.gradient(startColorstr=#4387fd,endColorstr=#4683ea,GradientType=0)}#gb a.gb_Ca{color:#fff}.gb_Ca:hover{box-shadow:0 1px 0 rgba(0,0,0,.15)}.gb_Ca:active{box-shadow:inset 0 2px 0 rgba(0,0,0,.15);background:#3c78dc;background:-webkit-gradient(linear,left top,left bottom,from(top),color-stop(#3c7ae4),to(#3f76d3));background:-webkit-linear-gradient(top,#3c7ae4,#3f76d3);background:linear-gradient(top,#3c7ae4,#3f76d3);filter:progid:DXImageTransform.Microsoft.gradient(startColorstr=#3c7ae4,endColorstr=#3f76d3,GradientType=0)}#gb .gb_Da{background:#fff;border:1px solid #dadce0;color:#1a73e8;display:inline-block;text-decoration:none}#gb .gb_Da:hover{background:#f8fbff;border-color:#dadce0;color:#174ea6}#gb .gb_Da:focus{background:#f4f8ff;color:#174ea6;outline:1px solid #174ea6}#gb .gb_Da:active,#gb .gb_Da:focus:active{background:#ecf3fe;color:#174ea6}#gb .gb_Da.gb_i{background:transparent;border:1px solid #5f6368;color:#8ab4f8;text-decoration:none}#gb .gb_Da.gb_i:hover{background:rgba(255,255,255,.04);color:#e8eaed}#gb .gb_Da.gb_i:focus{background:rgba(232,234,237,.12);color:#e8eaed;outline:1px solid #e8eaed}#gb .gb_Da.gb_i:active,#gb .gb_Da.gb_i:focus:active{background:rgba(232,234,237,.1);color:#e8eaed}.gb_q{display:none!important}.gb_2a{visibility:hidden}.gb_x{display:inline-block;vertical-align:middle}.gb_Rd .gb_p{bottom:-3px;right:-5px}.gb_f{position:relative}.gb_d{display:inline-block;outline:none;vertical-align:middle;border-radius:2px;box-sizing:border-box;height:40px;width:40px;cursor:pointer;text-decoration:none}#gb#gb a.gb_d{cursor:pointer;text-decoration:none}.gb_d,a.gb_d{color:#000}.gb_hf{border-color:transparent;border-bottom-color:#fff;border-style:dashed dashed solid;border-width:0 8.5px 8.5px;display:none;position:absolute;left:11.5px;top:33px;z-index:1;height:0;width:0;-webkit-animation:gb__a .2s;animation:gb__a .2s}.gb_if{border-color:transparent;border-style:dashed dashed solid;border-width:0 8.5px 8.5px;display:none;position:absolute;left:11.5px;z-index:1;height:0;width:0;-webkit-animation:gb__a .2s;animation:gb__a .2s;border-bottom-color:rgba(0,0,0,.2);top:32px}x:-o-prefocus,div.gb_if{border-bottom-color:#ccc}.gb_6{background:#fff;border:1px solid #ccc;border-color:rgba(0,0,0,.2);color:#000;-webkit-box-shadow:0 2px 10px rgba(0,0,0,.2);box-shadow:0 2px 10px rgba(0,0,0,.2);display:none;outline:none;overflow:hidden;position:absolute;right:8px;top:62px;-webkit-animation:gb__a .2s;animation:gb__a .2s;border-radius:2px;-webkit-user-select:text}.gb_x.gb_Ma .gb_hf,.gb_x.gb_Ma .gb_if,.gb_x.gb_Ma .gb_6,.gb_Ma.gb_6{display:block}.gb_x.gb_Ma.gb_jf .gb_hf,.gb_x.gb_Ma.gb_jf .gb_if{display:none}.gb_Sd{position:absolute;right:8px;top:62px;z-index:-1}.gb_8a .gb_hf,.gb_8a .gb_if,.gb_8a .gb_6{margin-top:-10px}.gb_x:first-child,#gbsfw:first-child+.gb_x{padding-left:4px}.gb_Qa.gb_Td .gb_x:first-child{padding-left:0}.gb_Ud{position:relative}.gb_u.gb_Bd.gb_fb.gb_qd{margin:0 12px;padding:0}.gb_u .gb_d{position:relative}.gb_u .gb_x{margin:0 4px;padding:4px}.gb_u .gb_Vd{display:inline-block}.gb_u a.gb_md{-webkit-box-align:center;-webkit-align-items:center;-webkit-align-items:center;align-items:center;-webkit-border-radius:100px;border-radius:100px;border:0;background:#0b57d0;color:#fff;display:-webkit-inline-box;display:-webkit-inline-flex;display:-webkit-inline-box;display:-webkit-inline-flex;display:inline-flex;font-size:14px;font-weight:500;height:40px;white-space:nowrap;width:auto}.gb_u a.gb_d.gb_md{margin:0 4px;padding:4px 24px 4px 24px}.gb_u a.gb_md.gb_Wd{padding:9px 12px 9px 16px}.gb_u a.gb_md.gb_Xd{background:transparent;border:1px solid #747775;color:#0b57d0;outline:0}.gb_u .gb_t{fill:#0b57d0}.gb_u .gb_Zd{fill:#0b57d0;margin-left:8px}.gb_u .gb_Zd circle{fill:#fff}.gb_u .gb_md .gb_Kd{-webkit-box-flex:1;-webkit-flex-grow:1;-webkit-box-flex:1;box-flex:1;-webkit-flex-grow:1;flex-grow:1;text-align:center}.gb_u .gb_md:hover{background:#3763cd}.gb_u .gb_md:hover .gb_Zd{fill:#3763cd}.gb_u .gb_md:focus,.gb_u .gb_md:active,.gb_u .gb_md:focus:hover,.gb_u .gb_md[aria-expanded=true],.gb_u .gb_md:hover[aria-expanded=true]{background:#416acf}.gb_u .gb_md:focus .gb_Zd,.gb_u .gb_md:active .gb_Zd,.gb_u .gb_md:focus:hover .gb_Zd,.gb_u .gb_md[aria-expanded=true] .gb_Zd,.gb_u .gb_md:hover[aria-expanded=true] .gb_Zd{fill:#416acf}.gb_u .gb_md:focus,.gb_u .gb_md:active,.gb_u .gb_md[aria-expanded=true]{-webkit-box-shadow:0 1px 3px 1px rgba(66,64,67,.15),0 1px 2px 0 rgba(60,64,67,.3);box-shadow:0 1px 3px 1px rgba(66,64,67,.15),0 1px 2px 0 rgba(60,64,67,.3)}.gb_u .gb_md:focus-visible{outline:1px solid #416acf;outline-offset:2px}.gb_u .gb_Ha:focus-visible{outline:1px solid #416acf}.gb_u .gb_i.gb_md{background:#a8c7fa;color:#062e6f}.gb_u .gb_i.gb_md .gb_Zd{fill:#a8c7fa}.gb_u .gb_i.gb_md .gb_Zd circle{fill:#062e6f}.gb_u .gb_i.gb_md:hover{background:#b4cbf6}.gb_u .gb_i.gb_md:hover .gb_Zd{fill:#b4cbf6}.gb_u .gb_i.gb_md:focus,.gb_u .gb_i.gb_md:focus:hover,.gb_u .gb_i.gb_md:active,.gb_u .gb_i.gb_md[aria-expanded=true],.gb_u .gb_i.gb_md:hover[aria-expanded=true]{background:#b8cdf7}.gb_u .gb_i.gb_md:focus .gb_Zd,.gb_u .gb_i.gb_md:focus:hover .gb_Zd,.gb_u .gb_i.gb_md:active .gb_Zd,.gb_u .gb_i.gb_md[aria-expanded=true] .gb_Zd,.gb_u .gb_i.gb_md:hover[aria-expanded=true] .gb_Zd{fill:#b8cdf7}.gb_u .gb_i.gb_md:focus-visible{outline-color:#b8cdf7}.gb_u .gb_i.gb_md:focus,.gb_u .gb_i.gb_md:active,.gb_u .gb_i.gb_md[aria-expanded=true]{-webkit-box-shadow:0 1px 3px 1px rgba(66,64,67,.15),0 1px 2px 0 rgba(60,64,67,.3);box-shadow:0 1px 3px 1px rgba(66,64,67,.15),0 1px 2px 0 rgba(60,64,67,.3)}.gb_u .gb_md.gb_Xd:hover,.gb_u .gb_md.gb_Xd:focus,.gb_u .gb_md.gb_Xd[aria-expanded=true],.gb_u .gb_md.gb_Xd:hover[aria-expanded=true]{background:rgba(11,87,208,.08);-webkit-box-shadow:none;box-shadow:none}.gb_u .gb_md.gb_Xd:active{background:rgba(11,87,208,.12);-webkit-box-shadow:none;box-shadow:none}.gb_u .gb_md.gb_Xd:focus-visible{border-color:#0b57d0;outline:0}.gb_u .gb_i.gb_md.gb_Xd{background:transparent;color:#a8c7fa}.gb_u .gb_i.gb_md.gb_Xd:hover,.gb_u .gb_i.gb_md.gb_Xd:focus,.gb_u .gb_i.gb_md.gb_Xd[aria-expanded=true],.gb_u .gb_i.gb_md.gb_Xd:hover[aria-expanded=true]{background:rgba(168,199,250,.08);-webkit-box-shadow:none;box-shadow:none}.gb_u .gb_i.gb_md.gb_Xd:active{background:rgba(168,199,250,.12);-webkit-box-shadow:none;box-shadow:none}.gb_u .gb_i.gb_md.gb_Xd:focus-visible{border-color:#a8c7fa;outline:0}.gb_i .gb_u .gb_t{fill:#a8c7fa}.gb_i .gb_u .gb_Ha:focus-visible{outline-color:#a8c7fa}.gb_6c .gb_Ud,.gb_ld .gb_Ud{float:right}.gb_d{padding:8px;cursor:pointer}.gb_d:after{content:"";position:absolute;top:-4px;bottom:-4px;left:-4px;right:-4px}.gb_Qa .gb_me:not(.gb_ya):focus img{background-color:rgba(0,0,0,.2);outline:none;-webkit-border-radius:50%;border-radius:50%}.gb_0d button svg,.gb_d{-webkit-border-radius:50%;border-radius:50%}.gb_0d button:focus:not(:focus-visible) svg,.gb_0d button:hover svg,.gb_0d button:active svg,.gb_d:focus:not(:focus-visible),.gb_d:hover,.gb_d:active,.gb_d[aria-expanded=true]{outline:none}.gb_Pc .gb_0d.gb_ve button:focus-visible svg,.gb_0d button:focus-visible svg,.gb_d:focus-visible{outline:1px solid #202124}.gb_Pc .gb_0d button:focus-visible svg,.gb_Pc .gb_d:focus-visible{outline:1px solid #f1f3f4}@media (forced-colors:active){.gb_Pc .gb_0d.gb_ve button:focus-visible svg,.gb_0d button:focus-visible svg,.gb_Pc .gb_0d button:focus-visible svg{outline:1px solid currentcolor}}.gb_Pc .gb_0d.gb_ve button:focus svg,.gb_Pc .gb_0d.gb_ve button:focus:hover svg,.gb_0d button:focus svg,.gb_0d button:focus:hover svg,.gb_d:focus,.gb_d:focus:hover{background-color:rgba(60,64,67,.1)}.gb_Pc .gb_0d.gb_ve button:active svg,.gb_0d button:active svg,.gb_d:active{background-color:rgba(60,64,67,.12)}.gb_Pc .gb_0d.gb_ve button:hover svg,.gb_0d button:hover svg,.gb_d:hover{background-color:rgba(60,64,67,.08)}.gb_Ea .gb_d.gb_Ha:hover{background-color:transparent}.gb_d[aria-expanded=true],.gb_d:hover[aria-expanded=true]{background-color:rgba(95,99,104,.24)}.gb_d[aria-expanded=true] .gb_h{fill:#5f6368;opacity:1}.gb_Pc .gb_0d button:hover svg,.gb_Pc .gb_d:hover{background-color:rgba(232,234,237,.08)}.gb_Pc .gb_0d button:focus svg,.gb_Pc .gb_0d button:focus:hover svg,.gb_Pc .gb_d:focus,.gb_Pc .gb_d:focus:hover{background-color:rgba(232,234,237,.1)}.gb_Pc .gb_0d button:active svg,.gb_Pc .gb_d:active{background-color:rgba(232,234,237,.12)}.gb_Pc .gb_d[aria-expanded=true],.gb_Pc .gb_d:hover[aria-expanded=true]{background-color:rgba(255,255,255,.12)}.gb_Pc .gb_d[aria-expanded=true] .gb_h{fill:#fff;opacity:1}.gb_x{padding:4px}.gb_Qa.gb_Td .gb_x{padding:4px 2px}.gb_Qa.gb_Td .gb_b.gb_x{padding-left:6px}.gb_6{z-index:991;line-height:normal}.gb_6.gb_1d{left:0;right:auto}@media (max-width:350px){.gb_6.gb_1d{left:0}}.gb_2d .gb_6{top:56px}.gb_k .gb_d,.gb_5 .gb_k .gb_d{background-position:-64px -29px}.gb_L .gb_k .gb_d{background-position:-29px -29px;opacity:1}.gb_k .gb_d,.gb_k .gb_d:hover,.gb_k .gb_d:focus{opacity:1}.gb_m{display:none}@media screen and (max-width:319px){.gb_rd:not(.gb_wd) .gb_k{display:none;visibility:hidden}}.gb_p{display:none}.gb_ed{font-family:Google Sans,Roboto,Helvetica,Arial,sans-serif;font-size:20px;font-weight:400;letter-spacing:0.25px;line-height:48px;margin-bottom:2px;opacity:1;overflow:hidden;padding-left:16px;position:relative;text-overflow:ellipsis;vertical-align:middle;top:2px;white-space:nowrap;-webkit-flex:1 1 auto;-webkit-box-flex:1;flex:1 1 auto}.gb_ed.gb_fd{color:#3c4043}.gb_Qa.gb_Ra .gb_ed{margin-bottom:0}.gb_gd.gb_hd .gb_ed{padding-left:4px}.gb_Qa.gb_Ra .gb_id{position:relative;top:-2px}.gb_Qa{color:black;min-width:160px;position:relative;-webkit-transition:box-shadow 250ms;transition:box-shadow 250ms}.gb_Qa.gb_Xc{min-width:120px}.gb_Qa.gb_pd .gb_qd{display:none}.gb_Qa.gb_pd .gb_rd{height:56px}header.gb_Qa{display:block}.gb_Qa svg{fill:currentColor}.gb_sd{position:fixed;top:0;width:100%}.gb_td{-webkit-box-shadow:0 4px 5px 0 rgba(0,0,0,.14),0 1px 10px 0 rgba(0,0,0,.12),0 2px 4px -1px rgba(0,0,0,.2);box-shadow:0 4px 5px 0 rgba(0,0,0,.14),0 1px 10px 0 rgba(0,0,0,.12),0 2px 4px -1px rgba(0,0,0,.2)}.gb_ud{height:64px}.gb_rd{-webkit-box-sizing:border-box;box-sizing:border-box;position:relative;width:100%;display:-webkit-box;display:-webkit-flex;display:flex;-webkit-box-pack:space-between;-webkit-justify-content:space-between;justify-content:space-between;min-width:-webkit-min-content;min-width:min-content}.gb_Qa:not(.gb_Ra) .gb_rd{padding:8px}.gb_Qa.gb_vd .gb_rd{-webkit-flex:1 0 auto;-webkit-box-flex:1;flex:1 0 auto}.gb_Qa .gb_rd.gb_wd.gb_xd{min-width:0}.gb_Qa.gb_Ra .gb_rd{padding:4px;padding-left:8px;min-width:0}.gb_qd{height:48px;vertical-align:middle;white-space:nowrap;-webkit-box-align:center;-webkit-align-items:center;align-items:center;display:-webkit-box;display:-webkit-flex;display:flex;-webkit-user-select:none}.gb_zd>.gb_qd{display:table-cell;width:100%}.gb_gd{padding-right:30px;box-sizing:border-box;-webkit-flex:1 0 auto;-webkit-box-flex:1;flex:1 0 auto}.gb_Qa.gb_Ra .gb_gd{padding-right:14px}.gb_Ad{-webkit-flex:1 1 100%;-webkit-box-flex:1;flex:1 1 100%}.gb_Ad>:only-child{display:inline-block}.gb_Bd.gb_7c{padding-left:4px}.gb_Bd.gb_Cd,.gb_Qa.gb_vd .gb_Bd,.gb_Qa.gb_Ra:not(.gb_ld) .gb_Bd{padding-left:0}.gb_Qa.gb_Ra .gb_Bd.gb_Cd{padding-right:0}.gb_Qa.gb_Ra .gb_Bd.gb_Cd .gb_Ea{margin-left:10px}.gb_7c{display:inline}.gb_Qa.gb_1c .gb_Bd.gb_Dd,.gb_Qa.gb_ld .gb_Bd.gb_Dd{padding-left:2px}.gb_ed{display:inline-block}.gb_Bd{-webkit-box-sizing:border-box;box-sizing:border-box;height:48px;line-height:normal;padding:0 4px;padding-left:30px;-webkit-flex:0 0 auto;-webkit-box-flex:0;flex:0 0 auto;-webkit-box-pack:flex-end;-webkit-justify-content:flex-end;justify-content:flex-end}.gb_ld{height:48px}.gb_Qa.gb_ld{min-width:auto}.gb_ld .gb_Bd{float:right;padding-left:32px}.gb_ld .gb_Bd.gb_Ed{padding-left:0}.gb_Fd{font-size:14px;max-width:200px;overflow:hidden;padding:0 12px;text-overflow:ellipsis;white-space:nowrap;-webkit-user-select:text}.gb_kd{-webkit-transition:background-color .4s;-webkit-transition:background-color .4s;transition:background-color .4s}.gb_Md{color:black}.gb_Pc{color:white}.gb_Qa a,.gb_Uc a{color:inherit}.gb_V{color:rgba(0,0,0,.87)}.gb_Qa svg,.gb_Uc svg,.gb_gd .gb_od,.gb_6c .gb_od{color:#5f6368;opacity:1}.gb_Pc svg,.gb_Uc.gb_Zc svg,.gb_Pc .gb_gd .gb_od,.gb_Pc .gb_gd .gb_Oc,.gb_Pc .gb_gd .gb_id,.gb_Uc.gb_Zc .gb_od{color:rgba(255,255,255,.87)}.gb_Pc .gb_gd .gb_Nc:not(.gb_Nd){opacity:.87}.gb_fd{color:inherit;opacity:1;text-rendering:optimizeLegibility;-webkit-font-smoothing:antialiased}.gb_Pc .gb_fd,.gb_Md .gb_fd{opacity:1}.gb_Hd{position:relative}.gb_Id{font-family:arial,sans-serif;line-height:normal;padding-right:15px}a.gb_I,span.gb_I{color:rgba(0,0,0,.87);text-decoration:none}.gb_Pc a.gb_I,.gb_Pc span.gb_I{color:white}a.gb_I:focus{outline-offset:2px}a.gb_I:hover{text-decoration:underline}.gb_J{display:inline-block;padding-left:15px}.gb_J .gb_I{display:inline-block;line-height:24px;vertical-align:middle}.gb_Od{font-family:Google Sans,Roboto,Helvetica,Arial,sans-serif;font-weight:500;font-size:14px;letter-spacing:.25px;line-height:16px;margin-left:10px;margin-right:8px;min-width:96px;padding:9px 23px;text-align:center;vertical-align:middle;border-radius:4px;box-sizing:border-box}.gb_Qa.gb_ld .gb_Od{margin-left:8px}#gb a.gb_Ca.gb_Od{cursor:pointer}.gb_Ca.gb_Od:hover{background:#1b66c9;-webkit-box-shadow:0 1px 3px 1px rgba(66,64,67,.15),0 1px 2px 0 rgba(60,64,67,.3);box-shadow:0 1px 3px 1px rgba(66,64,67,.15),0 1px 2px 0 rgba(60,64,67,.3)}.gb_Ca.gb_Od:focus,.gb_Ca.gb_Od:hover:focus{background:#1c5fba;-webkit-box-shadow:0 1px 3px 1px rgba(66,64,67,.15),0 1px 2px 0 rgba(60,64,67,.3);box-shadow:0 1px 3px 1px rgba(66,64,67,.15),0 1px 2px 0 rgba(60,64,67,.3)}.gb_Ca.gb_Od:active{background:#1b63c1;-webkit-box-shadow:0 1px 3px 1px rgba(66,64,67,.15),0 1px 2px 0 rgba(60,64,67,.3);box-shadow:0 1px 3px 1px rgba(66,64,67,.15),0 1px 2px 0 rgba(60,64,67,.3)}.gb_Od{background:#1a73e8;border:1px solid transparent}.gb_Qa.gb_Ra .gb_Od{padding:9px 15px;min-width:80px}.gb_Jd{text-align:left}#gb .gb_Pc a.gb_Od:not(.gb_i),#gb.gb_Pc a.gb_Od:not(.gb_Pd){background:#fff;border-color:#dadce0;-webkit-box-shadow:none;box-shadow:none;color:#1a73e8}#gb a.gb_Ca.gb_i.gb_Od{background:#8ab4f8;border:1px solid transparent;-webkit-box-shadow:none;box-shadow:none;color:#202124}#gb .gb_Pc a.gb_Od:hover:not(.gb_i),#gb.gb_Pc a.gb_Od:not(.gb_Pd):hover{background:#f8fbff;border-color:#cce0fc}#gb a.gb_Ca.gb_i.gb_Od:hover{background:#93baf9;border-color:transparent;-webkit-box-shadow:0 1px 3px 1px rgba(0,0,0,.15),0 1px 2px rgba(0,0,0,.3);box-shadow:0 1px 3px 1px rgba(0,0,0,.15),0 1px 2px rgba(0,0,0,.3)}#gb .gb_Pc a.gb_Od:focus:not(.gb_i),#gb .gb_Pc a.gb_Od:focus:hover:not(.gb_i),#gb.gb_Pc a.gb_Od:focus:not(.gb_i),#gb.gb_Pc a.gb_Od:focus:hover:not(.gb_i){background:#f4f8ff;outline:1px solid #c9ddfc}#gb a.gb_Ca.gb_i.gb_Od:focus,#gb a.gb_Ca.gb_i.gb_Od:focus:hover{background:#a6c6fa;border-color:transparent;-webkit-box-shadow:none;box-shadow:none}#gb .gb_Pc a.gb_Od:active:not(.gb_i),#gb.gb_Pc a.gb_Od:not(.gb_Pd):active{background:#ecf3fe}#gb a.gb_Ca.gb_i.gb_Od:active{background:#a1c3f9;-webkit-box-shadow:0 1px 2px rgba(60,64,67,.3),0 2px 6px 2px rgba(60,64,67,.15);box-shadow:0 1px 2px rgba(60,64,67,.3),0 2px 6px 2px rgba(60,64,67,.15)}.gb_l{display:none}@media screen and (max-width:319px){.gb_rd:not(.gb_wd) .gb_k{display:none;visibility:hidden}}.gb_Ea{background-color:rgba(255,255,255,.88);border:1px solid #dadce0;-webkit-box-sizing:border-box;box-sizing:border-box;cursor:pointer;display:inline-block;max-height:48px;overflow:hidden;outline:none;padding:0;vertical-align:middle;width:134px;-webkit-border-radius:8px;border-radius:8px}.gb_Ea.gb_i{background-color:transparent;border:1px solid #5f6368}.gb_La{display:inherit}.gb_Ea.gb_i .gb_La{background:#fff;-webkit-border-radius:4px;border-radius:4px;display:inline-block;left:8px;margin-right:5px;position:relative;padding:3px;top:-1px}.gb_Ea:hover{border:1px solid #d2e3fc;background-color:rgba(248,250,255,.88)}.gb_Ea.gb_i:hover{background-color:rgba(241,243,244,.04);border:1px solid #5f6368}.gb_Ea:focus-visible,.gb_Ea:focus{background-color:#fff;outline:1px solid #202124;-webkit-box-shadow:0 1px 2px 0 rgba(60,64,67,.3),0 1px 3px 1px rgba(60,64,67,.15);box-shadow:0 1px 2px 0 rgba(60,64,67,.3),0 1px 3px 1px rgba(60,64,67,.15)}.gb_Ea.gb_i:focus-visible,.gb_Ea.gb_i:focus{background-color:rgba(241,243,244,.12);outline:1px solid #f1f3f4;-webkit-box-shadow:0 1px 3px 1px rgba(0,0,0,.15),0 1px 2px 0 rgba(0,0,0,.3);box-shadow:0 1px 3px 1px rgba(0,0,0,.15),0 1px 2px 0 rgba(0,0,0,.3)}.gb_Ea.gb_i:active,.gb_Ea.gb_Ma.gb_i:focus{background-color:rgba(241,243,244,.1);border:1px solid #5f6368}.gb_Na{display:inline-block;padding-bottom:2px;padding-left:7px;padding-top:2px;text-align:center;vertical-align:middle;line-height:32px;width:78px}.gb_Ea.gb_i .gb_Na{line-height:26px;margin-left:0;padding-bottom:0;padding-left:0;padding-top:0;width:72px}.gb_Na.gb_Oa{background-color:#f1f3f4;-webkit-border-radius:4px;border-radius:4px;margin-left:8px;padding-left:0;line-height:30px}.gb_Na.gb_Oa .gb_Pa{vertical-align:middle}.gb_Qa:not(.gb_Ra) .gb_Ea{margin-left:10px;margin-right:4px}.gb_Sa{max-height:32px;width:78px}.gb_Ea.gb_i .gb_Sa{max-height:26px;width:72px}.gb_o{-webkit-background-size:32px 32px;background-size:32px 32px;border:0;-webkit-border-radius:50%;border-radius:50%;display:block;margin:0px;position:relative;height:32px;width:32px;z-index:0}.gb_3a{background-color:#e8f0fe;border:1px solid rgba(32,33,36,.08);position:relative}.gb_3a.gb_o{height:30px;width:30px}.gb_3a.gb_o:hover,.gb_3a.gb_o:active{-webkit-box-shadow:none;box-shadow:none}.gb_4a{background:#fff;border:none;-webkit-border-radius:50%;border-radius:50%;bottom:2px;-webkit-box-shadow:0px 1px 2px 0px rgba(60,64,67,.30),0px 1px 3px 1px rgba(60,64,67,.15);box-shadow:0px 1px 2px 0px rgba(60,64,67,.30),0px 1px 3px 1px rgba(60,64,67,.15);height:14px;margin:2px;position:absolute;right:0;width:14px}.gb_5a{color:#1f71e7;font:400 22px/32px Google Sans,Roboto,Helvetica,Arial,sans-serif;text-align:center;text-transform:uppercase}@media (-webkit-min-device-pixel-ratio:1.25),(min-resolution:1.25dppx),(min-device-pixel-ratio:1.25){.gb_o::before,.gb_6a::before{display:inline-block;-webkit-transform:scale(0.5);-webkit-transform:scale(0.5);transform:scale(0.5);-webkit-transform-origin:left 0;-webkit-transform-origin:left 0;transform-origin:left 0}.gb_N .gb_6a::before{-webkit-transform:scale(scale(0.416666667));-webkit-transform:scale(scale(0.416666667));transform:scale(scale(0.416666667))}}.gb_o:hover,.gb_o:focus{-webkit-box-shadow:0 1px 0 rgba(0,0,0,.15);box-shadow:0 1px 0 rgba(0,0,0,.15)}.gb_o:active{-webkit-box-shadow:inset 0 2px 0 rgba(0,0,0,.15);box-shadow:inset 0 2px 0 rgba(0,0,0,.15)}.gb_o:active::after{background:rgba(0,0,0,.1);-webkit-border-radius:50%;border-radius:50%;content:"";display:block;height:100%}.gb_7a{cursor:pointer;line-height:40px;min-width:30px;opacity:.75;overflow:hidden;vertical-align:middle;text-overflow:ellipsis}.gb_d.gb_7a{width:auto}.gb_7a:hover,.gb_7a:focus{opacity:.85}.gb_8a .gb_7a,.gb_8a .gb_9a{line-height:26px}#gb#gb.gb_8a a.gb_7a,.gb_8a .gb_9a{font-size:11px;height:auto}.gb_ab{border-top:4px solid #000;border-left:4px dashed transparent;border-right:4px dashed transparent;display:inline-block;margin-left:6px;opacity:.75;vertical-align:middle}.gb_Ha:hover .gb_ab{opacity:.85}.gb_Ea>.gb_b{padding:3px 3px 3px 4px}.gb_bb.gb_2a{color:#fff}.gb_L .gb_7a,.gb_L .gb_ab{opacity:1}#gb#gb.gb_L.gb_L a.gb_7a,#gb#gb .gb_L.gb_L a.gb_7a{color:#fff}.gb_L.gb_L .gb_ab{border-top-color:#fff;opacity:1}.gb_5 .gb_o:hover,.gb_L .gb_o:hover,.gb_5 .gb_o:focus,.gb_L .gb_o:focus{-webkit-box-shadow:0 1px 0 rgba(0,0,0,.15),0 1px 2px rgba(0,0,0,.2);box-shadow:0 1px 0 rgba(0,0,0,.15),0 1px 2px rgba(0,0,0,.2)}.gb_cb .gb_b,.gb_db .gb_b{position:absolute;right:1px}.gb_b.gb_K,.gb_eb.gb_K,.gb_Ha.gb_K{-webkit-flex:0 1 auto;-webkit-box-flex:0;flex:0 1 auto}.gb_fb.gb_gb .gb_7a{width:30px!important}.gb_n{height:40px;position:absolute;right:-5px;top:-5px;width:40px}.gb_hb .gb_n,.gb_ib .gb_n{right:0;top:0}.gb_b .gb_d{padding:4px}.gb_r{display:none}sentinel{}</style><script nonce="">;this.gbar_={CONFIG:[[[0,"www.gstatic.com","og.qtm.en_US.Ics7SFQVxbg.2019.O","co.in","en","425",0,[4,2,"","","","628921675","0"],null,"I5U3ZpbmBe2Jp84PiJOZ6Ao",null,0,"og.qtm.RS0dNtaZmo0.L.W.O","AA2YrTtpRznzVJk75Y4TcT-zpGGUjebtAg","AA2YrTuhe2hCYlalU7rKCW-qT_-zMhVRaw","",2,1,200,"IND",null,null,"425","425",1,null,null,114591953,0],null,[1,0.1000000014901161,2,1],null,[1,0,0,null,"0","karunimi21@gmail.com","","ABBHTIsNvGat5hgJvN_rMQMI6t4Pkaomnbh91VO7aOy7zsHhgFOPUI7TlRM3RgP11CLTuuFo7dHpscuQYjNiRdr1q-bIz5cFCw",0,0,0],[0,0,"",1,0,0,0,0,0,0,null,0,0,null,0,0,null,null,0,0,0,"","","","","","",null,0,0,0,0,0,null,null,null,"rgba(32,33,36,1)","rgba(255,255,255,1)",0,0,0,null,null,1,0,0],["%1$s (default)","Brand account",1,"%1$s (delegated)",1,null,83,"https://colab.research.google.com/drive/1ISj7UevJE_zZTs3S0MSeka2jX5iyG5Ym?authuser=$authuser",null,null,null,1,"https://accounts.google.com/ListAccounts?listPages=0\u0026pid=425\u0026gpsia=1\u0026source=ogb\u0026atic=1\u0026mo=1\u0026mn=1\u0026hl=en\u0026ts=250",0,"dashboard",null,null,null,null,"Profile","",1,null,"Signed out","https://accounts.google.com/AccountChooser?source=ogb\u0026continue=$continue\u0026Email=$email\u0026ec=GAhAqQM","https://accounts.google.com/RemoveLocalAccount?source=ogb","Remove","Sign in",0,1,1,0,1,1,0,null,null,null,"Session expired",null,null,null,"Visitor",null,"Default","Delegated","Sign out of all accounts",0,null,null,0,null,null,"myaccount.google.com","https",0,1,0],null,["1","gci_91f30755d6a6b787dcc2a4062e6e9824.js","googleapis.client:gapi.iframes","0","en"],null,null,null,null,["m;/_/scs/abc-static/_/js/k=gapi.gapi.en.SCWmpDDGjPk.O/am=AAAC/d=1/rs=AHpOoo_Pl64J0IIHlj2zBtEJ3ZwdaJC3HA/m=__features__","https://apis.google.com","","","1","",null,1,"es_plusone_gc_20240331.0_p2","en",null,0],[0.009999999776482582,"co.in","425",[null,"","0",null,1,5184000,null,null,"",null,null,null,null,null,0,null,0,null,1,0,0,0,null,null,0,0,null,0,0,0,0,0],null,null,null,0,null,null,["5061451","google\\.(com|ru|ca|by|kz|com\\.mx|com\\.tr)$",1]],[1,1,null,40400,425,"IND","en","628921675.0",8,0.2000000029802322,1,0,null,null,null,null,"3701310",null,null,null,"I5U3ZpbmBe2Jp84PiJOZ6Ao",0,0,0,null,2,5,"nn",107,0,0,1,1,1,114591953,0],[[null,null,null,"https://www.gstatic.com/og/_/js/k=og.qtm.en_US.Ics7SFQVxbg.2019.O/rt=j/m=qabr,qgl,q_dnp,qcwid,qbd,qapid,qrcd,q_dg/exm=qaaw,qadd,qaid,qein,qhaw,qhba,qhbr,qhch,qhga,qhid,qhin/d=1/ed=1/rs=AA2YrTtpRznzVJk75Y4TcT-zpGGUjebtAg"],[null,null,null,"https://www.gstatic.com/og/_/ss/k=og.qtm.RS0dNtaZmo0.L.W.O/m=qcwid/excm=qaaw,qadd,qaid,qein,qhaw,qhba,qhbr,qhch,qhga,qhid,qhin/d=1/ed=1/ct=zgms/rs=AA2YrTuhe2hCYlalU7rKCW-qT_-zMhVRaw"]],null,null,null,[[[null,null,[null,null,null,"https://ogs.google.com/u/0/widget/account?amb=1\u0026sea=1"],0,414,436,57,4,1,0,0,65,66,8000,"https://accounts.google.com/SignOutOptions?hl=en\u0026continue=https://colab.research.google.com/drive/1ISj7UevJE_zZTs3S0MSeka2jX5iyG5Ym\u0026ec=GBRAqQM",68,2,null,null,1,113,"Something went wrong.%1$s Refresh to try again or %2$schoose another account%3$s.",3,null,null,75,0,null,null,null,null,null,null,null,"/widget/account",["https","myaccount.google.com",0,32,83,0],0,0,1,["Critical security alert","Important account alert"],0,1,null,1,1,0,0,null,null,0,0,0,0]],null,null,"425","425",1,0,null,"en",0,["https://colab.research.google.com/drive/1ISj7UevJE_zZTs3S0MSeka2jX5iyG5Ym?authuser=$authuser","https://accounts.google.com/AddSession?hl=en\u0026continue=https://colab.research.google.com/drive/1ISj7UevJE_zZTs3S0MSeka2jX5iyG5Ym\u0026ec=GAlAqQM","https://accounts.google.com/Logout?hl=en\u0026continue=https://colab.research.google.com/drive/1ISj7UevJE_zZTs3S0MSeka2jX5iyG5Ym\u0026timeStmp=1714918691\u0026secTok=.AG5fkS8jjGDoAek7OmEv7MkSgDXx_2a58Q\u0026ec=GAdAqQM","https://accounts.google.com/ListAccounts?listPages=0\u0026pid=425\u0026gpsia=1\u0026source=ogb\u0026atic=1\u0026mo=1\u0026mn=1\u0026hl=en\u0026ts=250",0,0,"",0,0,null,0,0,"https://accounts.google.com/ServiceLogin?passive=true\u0026continue=https%3A%2F%2Fcolab.research.google.com%2Fdrive%2F1ISj7UevJE_zZTs3S0MSeka2jX5iyG5Ym\u0026ec=GAZAqQM",0,0],0,0,0,null,0,null,0,0],null,[["mousedown","touchstart","touchmove","wheel","keydown"],300000],[[null,null,null,"https://accounts.google.com/RotateCookiesPage"],3,null,null,null,0,0]]],};this.gbar_=this.gbar_||{};(function(_){var window=this;
try{
_._F_toggles_initialize=function(a){("undefined"!==typeof globalThis?globalThis:"undefined"!==typeof self?self:this)._F_toggles=a||[]};(0,_._F_toggles_initialize)([]);
/*

 Copyright The Closure Library Authors.
 SPDX-License-Identifier: Apache-2.0
*/
var ia,ja,na,pa,qa,za,Aa,Ba,Ea,Fa,Ga,Ja,Za,Ya,ab,cb,bb,db,eb,hb,nb,pb,qb,rb,sb;_.ca=function(a,b){if(Error.captureStackTrace)Error.captureStackTrace(this,_.ca);else{const c=Error().stack;c&&(this.stack=c)}a&&(this.message=String(a));void 0!==b&&(this.cause=b)};_.da=function(a){_.q.setTimeout(()=>{throw a;},0)};_.ea=function(){var a=_.q.navigator;return a&&(a=a.userAgent)?a:""};ia=function(a){return fa?ha?ha.brands.some(({brand:b})=>b&&-1!=b.indexOf(a)):!1:!1};_.u=function(a){return-1!=_.ea().indexOf(a)};
ja=function(){return fa?!!ha&&0<ha.brands.length:!1};_.ka=function(){return ja()?!1:_.u("Opera")};_.la=function(){return ja()?!1:_.u("Trident")||_.u("MSIE")};_.ma=function(){return _.u("Firefox")||_.u("FxiOS")};_.oa=function(){return _.u("Safari")&&!(na()||(ja()?0:_.u("Coast"))||_.ka()||(ja()?0:_.u("Edge"))||(ja()?ia("Microsoft Edge"):_.u("Edg/"))||(ja()?ia("Opera"):_.u("OPR"))||_.ma()||_.u("Silk")||_.u("Android"))};
na=function(){return ja()?ia("Chromium"):(_.u("Chrome")||_.u("CriOS"))&&!(ja()?0:_.u("Edge"))||_.u("Silk")};pa=function(){return fa?!!ha&&!!ha.platform:!1};qa=function(){return _.u("iPhone")&&!_.u("iPod")&&!_.u("iPad")};_.ra=function(){return qa()||_.u("iPad")||_.u("iPod")};_.sa=function(){return pa()?"macOS"===ha.platform:_.u("Macintosh")};_.ua=function(a,b){return 0<=_.ta(a,b)};
_.va=function(a){let b="",c=0;const d=a.length-10240;for(;c<d;)b+=String.fromCharCode.apply(null,a.subarray(c,c+=10240));b+=String.fromCharCode.apply(null,c?a.subarray(c):a);return btoa(b)};_.wa=function(a){return null!=a&&a instanceof Uint8Array};_.xa=function(a){return Array.prototype.slice.call(a)};za=function(a,b){_.ya(b,(a|0)&-14591)};Aa=function(a,b){_.ya(b,(a|34)&-14557)};Ba=function(a){a=a>>14&1023;return 0===a?536870912:a};Ea=function(a){return!(!a||"object"!==typeof a||a.i!==Da)};
Fa=function(a){return null!==a&&"object"===typeof a&&!Array.isArray(a)&&a.constructor===Object};Ga=function(a,b,c){if(!Array.isArray(a)||a.length)return!1;const d=a[_.v]|0;if(d&1)return!0;if(!(b&&(Array.isArray(b)?b.includes(c):b.has(c))))return!1;_.ya(a,d|1);return!0};_.Ha=function(a){if(a&2)throw Error();};Ja=function(a,b){(b=_.Ia?b[_.Ia]:void 0)&&(a[_.Ia]=_.xa(b))};_.La=function(){const a=Error();Ka(a,"incident");_.da(a)};_.Ma=function(a){a=Error(a);Ka(a,"warning");return a};
_.Oa=function(a){if("boolean"!==typeof a)throw Error("r`"+_.Na(a)+"`"+a);return a};_.Pa=function(a){if(!Number.isFinite(a))throw _.Ma("enum");return a|0};_.Qa=function(a){if("number"!==typeof a)throw _.Ma("int32");if(!Number.isFinite(a))throw _.Ma("int32");return a|0};_.Ra=function(a){if(null!=a&&"string"!==typeof a)throw Error();return a};_.Sa=function(a){return null==a||"string"===typeof a?a:void 0};
_.Ua=function(a,b,c){if(null!=a&&"object"===typeof a&&a.Hd===_.Ta)return a;if(Array.isArray(a)){var d=a[_.v]|0,e=d;0===e&&(e|=c&32);e|=c&2;e!==d&&_.ya(a,e);return new b(a)}};_.Wa=function(a,b){Va=b;a=new a(b);Va=void 0;return a};
_.Xa=function(a,b,c){null==a&&(a=Va);Va=void 0;if(null==a){var d=96;c?(a=[c],d|=512):a=[];b&&(d=d&-16760833|(b&1023)<<14)}else{if(!Array.isArray(a))throw Error("s");d=a[_.v]|0;if(d&2048)throw Error("t");if(d&64)return a;d|=64;if(c&&(d|=512,c!==a[0]))throw Error("u");a:{c=a;const e=c.length;if(e){const f=e-1;if(Fa(c[f])){d|=256;b=f-(+!!(d&512)-1);if(1024<=b)throw Error("v");d=d&-16760833|(b&1023)<<14;break a}}if(b){b=Math.max(b,e-(+!!(d&512)-1));if(1024<b)throw Error("w");d=d&-16760833|(b&1023)<<14}}}_.ya(a,
d);return a};Za=function(a,b){return Ya(b)};Ya=function(a){switch(typeof a){case "number":return isFinite(a)?a:String(a);case "boolean":return a?1:0;case "object":if(a)if(Array.isArray(a)){if(Ga(a,void 0,0))return}else{if(_.wa(a))return _.va(a);if("function"==typeof _.$a&&a instanceof _.$a)return a.j()}}return a};ab=function(a,b,c){const d=_.xa(a);var e=d.length;const f=b&256?d[e-1]:void 0;e+=f?-1:0;for(b=b&512?1:0;b<e;b++)d[b]=c(d[b]);if(f){b=d[b]={};for(const g in f)b[g]=c(f[g])}Ja(d,a);return d};
cb=function(a,b,c,d,e){if(null!=a){if(Array.isArray(a))a=Ga(a,void 0,0)?void 0:e&&(a[_.v]|0)&2?a:bb(a,b,c,void 0!==d,e);else if(Fa(a)){const f={};for(let g in a)f[g]=cb(a[g],b,c,d,e);a=f}else a=b(a,d);return a}};bb=function(a,b,c,d,e){const f=d||c?a[_.v]|0:0;d=d?!!(f&32):void 0;const g=_.xa(a);for(let h=0;h<g.length;h++)g[h]=cb(g[h],b,c,d,e);c&&(Ja(g,a),c(f,g));return g};db=function(a){return a.Hd===_.Ta?a.toJSON():Ya(a)};
eb=function(a,b,c=Aa){if(null!=a){if(a instanceof Uint8Array)return b?a:new Uint8Array(a);if(Array.isArray(a)){var d=a[_.v]|0;if(d&2)return a;b&&(b=0===d||!!(d&32)&&!(d&64||!(d&16)));return b?_.ya(a,(d|34)&-12293):bb(a,eb,d&4?Aa:c,!0,!0)}a.Hd===_.Ta&&(c=a.ka,d=c[_.v],a=d&2?a:_.Wa(a.constructor,_.fb(c,d,!0)));return a}};_.fb=function(a,b,c){const d=c||b&2?Aa:za,e=!!(b&32);a=ab(a,b,f=>eb(f,e,d));a[_.v]=a[_.v]|32|(c?2:0);return a};
_.gb=function(a){const b=a.ka,c=b[_.v];return c&2?_.Wa(a.constructor,_.fb(b,c,!1)):a};hb=function(a,b,c,d){b=d+(+!!(b&512)-1);if(!(0>b||b>=a.length||b>=c))return a[b]};_.ib=function(a,b,c,d,e){const f=Ba(b);if(c>=f||e){let g=b;if(b&256)e=a[a.length-1];else{if(null==d)return g;e=a[f+(+!!(b&512)-1)]={};g|=256}e[c]=d;c<f&&(a[c+(+!!(b&512)-1)]=void 0);g!==b&&_.ya(a,g);return g}a[c+(+!!(b&512)-1)]=d;b&256&&(a=a[a.length-1],c in a&&delete a[c]);return b};
_.kb=function(a,b,c,d){a=a.ka;let e=a[_.v];const f=_.jb(a,e,c,d);b=_.Ua(f,b,e);b!==f&&null!=b&&_.ib(a,e,c,b,d);return b};_.lb=function(a,b){return null!=a?a:b};
nb=function(a,b,c){var d=mb?void 0:a.constructor.oa;const e=(c?a.ka:b)[_.v];a=b.length;if(!a)return b;let f,g;if(Fa(c=b[a-1])){a:{var h=c;let n={},p=!1;for(var k in h){let t=h[k];if(Array.isArray(t)){let r=t;if(Ga(t,d,+k)||Ea(t)&&0===t.size)t=null;t!=r&&(p=!0)}null!=t?n[k]=t:p=!0}if(p){for(var l in n){h=n;break a}h=null}}h!=c&&(f=!0);a--}for(k=+!!(e&512)-1;0<a;a--){l=a-1;c=b[l];l-=k;if(!(null==c||Ga(c,d,l)||Ea(c)&&0===c.size))break;g=!0}if(!f&&!g)return b;b=Array.prototype.slice.call(b,0,a);h&&b.push(h);
return b};_.w=function(a,b){return null!=a?!!a:!!b};_.x=function(a,b){void 0==b&&(b="");return null!=a?a:b};_.ob=function(a){for(const b in a)return!1;return!0};pb="function"==typeof Object.defineProperties?Object.defineProperty:function(a,b,c){if(a==Array.prototype||a==Object.prototype)return a;a[b]=c.value;return a};
qb=function(a){a=["object"==typeof globalThis&&globalThis,a,"object"==typeof window&&window,"object"==typeof self&&self,"object"==typeof global&&global];for(var b=0;b<a.length;++b){var c=a[b];if(c&&c.Math==Math)return c}throw Error("a");};rb=qb(this);sb=function(a,b){if(b)a:{var c=rb;a=a.split(".");for(var d=0;d<a.length-1;d++){var e=a[d];if(!(e in c))break a;c=c[e]}a=a[a.length-1];d=c[a];b=b(d);b!=d&&null!=b&&pb(c,a,{configurable:!0,writable:!0,value:b})}};sb("globalThis",function(a){return a||rb});
sb("Promise.prototype.finally",function(a){return a?a:function(b){return this.then(function(c){return Promise.resolve(b()).then(function(){return c})},function(c){return Promise.resolve(b()).then(function(){throw c;})})}});var vb,wb,yb,zb;_.tb=_.tb||{};_.q=this||self;vb=function(a){var b=_.ub("WIZ_global_data.oxN3nb");a=b&&b[a];return null!=a?a:!1};wb=_.q._F_toggles||[];_.ub=function(a,b){a=a.split(".");b=b||_.q;for(var c=0;c<a.length;c++)if(b=b[a[c]],null==b)return null;return b};_.Na=function(a){var b=typeof a;return"object"!=b?b:a?Array.isArray(a)?"array":b:"null"};_.xb="closure_uid_"+(1E9*Math.random()>>>0);yb=function(a,b,c){return a.call.apply(a.bind,arguments)};
zb=function(a,b,c){if(!a)throw Error();if(2<arguments.length){var d=Array.prototype.slice.call(arguments,2);return function(){var e=Array.prototype.slice.call(arguments);Array.prototype.unshift.apply(e,d);return a.apply(b,e)}}return function(){return a.apply(b,arguments)}};_.y=function(a,b,c){_.y=Function.prototype.bind&&-1!=Function.prototype.bind.toString().indexOf("native code")?yb:zb;return _.y.apply(null,arguments)};
_.z=function(a,b){a=a.split(".");var c=_.q;a[0]in c||"undefined"==typeof c.execScript||c.execScript("var "+a[0]);for(var d;a.length&&(d=a.shift());)a.length||void 0===b?c[d]&&c[d]!==Object.prototype[d]?c=c[d]:c=c[d]={}:c[d]=b};_.A=function(a,b){function c(){}c.prototype=b.prototype;a.W=b.prototype;a.prototype=new c;a.prototype.constructor=a;a.Zi=function(d,e,f){for(var g=Array(arguments.length-2),h=2;h<arguments.length;h++)g[h-2]=arguments[h];return b.prototype[e].apply(d,g)}};_.A(_.ca,Error);_.ca.prototype.name="CustomError";_.Ab=String.prototype.trim?function(a){return a.trim()}:function(a){return/^[\s\xa0]*([\s\S]*?)[\s\xa0]*$/.exec(a)[1]};var Bb=!!(wb[0]&256),Cb=!!(wb[0]&512),Db=!!(wb[0]&4);var fa=Bb?Cb:vb(610401301),mb=Bb?Db:vb(188588736);var ha,Eb=_.q.navigator;ha=Eb?Eb.userAgentData||null:null;_.ta=function(a,b){return Array.prototype.indexOf.call(a,b,void 0)};_.Fb=function(a,b,c){Array.prototype.forEach.call(a,b,c)};_.Gb=function(a){_.Gb[" "](a);return a};_.Gb[" "]=function(){};var Tb;_.Hb=_.ka();_.Ib=_.la();_.Jb=_.u("Edge");_.Kb=_.u("Gecko")&&!(-1!=_.ea().toLowerCase().indexOf("webkit")&&!_.u("Edge"))&&!(_.u("Trident")||_.u("MSIE"))&&!_.u("Edge");_.Lb=-1!=_.ea().toLowerCase().indexOf("webkit")&&!_.u("Edge");_.Mb=_.sa();_.Nb=pa()?"Windows"===ha.platform:_.u("Windows");_.Ob=pa()?"Android"===ha.platform:_.u("Android");_.Pb=qa();_.Qb=_.u("iPad");_.Rb=_.u("iPod");_.Sb=_.ra();
a:{var Ub="",Vb=function(){var a=_.ea();if(_.Kb)return/rv:([^\);]+)(\)|;)/.exec(a);if(_.Jb)return/Edge\/([\d\.]+)/.exec(a);if(_.Ib)return/\b(?:MSIE|rv)[: ]([^\);]+)(\)|;)/.exec(a);if(_.Lb)return/WebKit\/(\S+)/.exec(a);if(_.Hb)return/(?:Version)[ \/]?(\S+)/.exec(a)}();Vb&&(Ub=Vb?Vb[1]:"");if(_.Ib){var Xb,Yb=_.q.document;Xb=Yb?Yb.documentMode:void 0;if(null!=Xb&&Xb>parseFloat(Ub)){Tb=String(Xb);break a}}Tb=Ub}_.Zb=Tb;_.$b=_.ma();_.ac=qa()||_.u("iPod");_.bc=_.u("iPad");_.cc=_.u("Android")&&!(na()||_.ma()||_.ka()||_.u("Silk"));_.dc=na();_.ec=_.oa()&&!_.ra();_.fc="undefined"!==typeof TextDecoder;_.gc="undefined"!==typeof TextEncoder;var hc;_.v=Symbol();hc=Symbol();_.ic=Symbol();_.ya=(a,b)=>{a[_.v]=b;return a};var Da,jc,mc,nc,oc;_.Ta={};Da={};mc=[];_.ya(mc,55);_.kc=Object.freeze(mc);nc=class{};oc=class{};Object.freeze(new nc);Object.freeze(new oc);var Ka=function(a,b){a.__closure__error__context__984382||(a.__closure__error__context__984382={});a.__closure__error__context__984382.severity=b};var pc;var Va;_.qc=function(a,b){a=a.ka;return _.jb(a,a[_.v],b)};_.jb=function(a,b,c,d){if(-1===c)return null;const e=Ba(b);if(c>=e){if(b&256)return a[a.length-1][c]}else{var f=a.length;if(d&&b&256&&(d=a[f-1][c],null!=d)){if(hb(a,b,e,c)&&null!=hc){var g;a=null!=(g=pc)?g:pc={};g=a[hc]||0;4<=g||(a[hc]=g+1,_.La())}return d}return hb(a,b,e,c)}};_.rc=function(a,b,c){const d=a.ka;let e=d[_.v];_.Ha(e);_.ib(d,e,b,c);return a};
_.C=function(a,b){a=_.qc(a,b);return null==a||"boolean"===typeof a?a:"number"===typeof a?!!a:void 0};_.D=function(a,b,c,d=!1){b=_.kb(a,b,c,d);if(null==b)return b;a=a.ka;let e=a[_.v];if(!(e&2)){const f=_.gb(b);f!==b&&(b=f,_.ib(a,e,c,b,d))}return b};_.E=function(a,b,c){null==c&&(c=void 0);return _.rc(a,b,c)};_.G=function(a,b){return _.Sa(_.qc(a,b))};_.H=function(a,b,c=!1){return _.lb(_.C(a,b),c)};_.I=function(a,b){return _.lb(_.G(a,b),"")};_.J=function(a,b,c){return _.rc(a,b,null==c?c:_.Oa(c))};
_.L=function(a,b,c){return _.rc(a,b,null==c?c:_.Qa(c))};_.M=function(a,b,c){return _.rc(a,b,_.Ra(c))};_.N=function(a,b,c){return _.rc(a,b,null==c?c:_.Pa(c))};_.O=class{constructor(a,b,c){this.ka=_.Xa(a,b,c)}toJSON(){return jc?nb(this,this.ka,!1):nb(this,bb(this.ka,db,void 0,void 0,!1),!0)}Ea(){jc=!0;try{return JSON.stringify(this.toJSON(),Za)}finally{jc=!1}}wc(){return!!((this.ka[_.v]|0)&2)}};_.O.prototype.Hd=_.Ta;_.O.prototype.toString=function(){return nb(this,this.ka,!1).toString()};_.sc=Symbol();_.tc=Symbol();_.uc=Symbol();_.vc=Symbol();_.wc=Symbol();var xc=class extends _.O{constructor(){super()}};_.yc=class extends _.O{constructor(){super()}C(a){return _.L(this,3,a)}};var zc=class extends _.O{constructor(a){super(a)}Nc(a){return _.M(this,24,a)}};_.Ac=class extends _.O{constructor(a){super(a)}};_.P=function(){this.Ca=this.Ca;this.fa=this.fa};_.P.prototype.Ca=!1;_.P.prototype.isDisposed=function(){return this.Ca};_.P.prototype.ea=function(){this.Ca||(this.Ca=!0,this.O())};_.P.prototype.O=function(){if(this.fa)for(;this.fa.length;)this.fa.shift()()};var Bc=class extends _.P{constructor(){var a=window;super();this.o=a;this.i=[];this.j={}}resolve(a){var b=this.o;a=a.split(".");for(var c=a.length,d=0;d<c;++d)if(b[a[d]])b=b[a[d]];else return null;return b instanceof Function?b:null}Ab(){for(var a=this.i.length,b=this.i,c=[],d=0;d<a;++d){var e=b[d].i(),f=this.resolve(e);if(f&&f!=this.j[e])try{b[d].Ab(f)}catch(g){}else c.push(b[d])}this.i=c.concat(b.slice(a))}};var Dc=class extends _.P{constructor(){var a=_.Cc;super();this.o=a;this.A=this.i=null;this.v=0;this.B={};this.j=!1;a=window.navigator.userAgent;0<=a.indexOf("MSIE")&&0<=a.indexOf("Trident")&&(a=/\b(?:MSIE|rv)[: ]([^\);]+)(\)|;)/.exec(a))&&a[1]&&9>parseFloat(a[1])&&(this.j=!0)}C(a,b){this.i=b;this.A=a;b.preventDefault?b.preventDefault():b.returnValue=!1}};_.Ec=class extends _.O{constructor(a){super(a)}};var Fc=class extends _.O{constructor(a){super(a)}};var Ic;_.Gc=function(a,b){if(a.i){const c=new xc;_.M(c,1,b.message);_.M(c,2,b.stack);_.L(c,3,b.lineNumber);_.N(c,5,1);b=new _.yc;_.E(b,40,c);a.i.log(98,b)}};Ic=class{constructor(){var a=Hc;this.i=null;_.H(a,4,!0)}log(a){_.Gc(this,a)}};var Kc;_.Jc=function(a){if(0<a.o.length){var b=void 0!==a.i,c=void 0!==a.j;if(b||c){b=b?a.v:a.A;c=a.o;a.o=[];try{_.Fb(c,b,a)}catch(d){console.error(d)}}}};_.Lc=class{constructor(a){this.i=a;this.j=void 0;this.o=[]}then(a,b,c){this.o.push(new Kc(a,b,c));_.Jc(this)}resolve(a){if(void 0!==this.i||void 0!==this.j)throw Error("B");this.i=a;_.Jc(this)}v(a){a.j&&a.j.call(a.i,this.i)}A(a){a.o&&a.o.call(a.i,this.j)}};Kc=class{constructor(a,b,c){this.j=a;this.o=b;this.i=c}};_.Mc=a=>{var b="uc";if(a.uc&&a.hasOwnProperty(b))return a.uc;b=new a;return a.uc=b};_.Q=class{constructor(){this.v=new _.Lc;this.i=new _.Lc;this.D=new _.Lc;this.B=new _.Lc;this.C=new _.Lc;this.A=new _.Lc;this.o=new _.Lc;this.j=new _.Lc;this.F=new _.Lc}fa(){return this.v}M(){return this.i}N(){return this.D}L(){return this.B}Ca(){return this.C}K(){return this.A}J(){return this.o}G(){return this.j}static i(){return _.Mc(_.Q)}};var Rc;_.Oc=function(){return _.D(_.Nc,zc,1)};_.Pc=function(){return _.D(_.Nc,_.Ac,5)};Rc=class extends _.O{constructor(){super(Qc)}};var Qc;window.gbar_&&window.gbar_.CONFIG?Qc=window.gbar_.CONFIG[0]||{}:Qc=[];_.Nc=new Rc;var Hc=_.D(_.Nc,Fc,3)||new Fc;_.Oc()||new zc;_.Cc=new Ic;_.z("gbar_._DumpException",function(a){_.Cc?_.Cc.log(a):console.error(a)});_.Sc=new Dc;var Uc;_.Vc=function(a,b){var c=_.Tc.i();if(a in c.i){if(c.i[a]!=b)throw new Uc;}else{c.i[a]=b;const h=c.j[a];if(h)for(let k=0,l=h.length;k<l;k++){b=h[k];var d=c.i;delete b.i[a];if(_.ob(b.i)){for(var e=b.j.length,f=Array(e),g=0;g<e;g++)f[g]=d[b.j[g]];b.o.apply(b.v,f)}}delete c.j[a]}};_.Tc=class{constructor(){this.i={};this.j={}}static i(){return _.Mc(_.Tc)}};_.Wc=class extends _.ca{constructor(){super()}};Uc=class extends _.Wc{};_.z("gbar.A",_.Lc);_.Lc.prototype.aa=_.Lc.prototype.then;_.z("gbar.B",_.Q);_.Q.prototype.ba=_.Q.prototype.M;_.Q.prototype.bb=_.Q.prototype.N;_.Q.prototype.bd=_.Q.prototype.Ca;_.Q.prototype.bf=_.Q.prototype.fa;_.Q.prototype.bg=_.Q.prototype.L;_.Q.prototype.bh=_.Q.prototype.K;_.Q.prototype.bj=_.Q.prototype.J;_.Q.prototype.bk=_.Q.prototype.G;_.z("gbar.a",_.Q.i());window.gbar&&window.gbar.ap&&window.gbar.ap(window.gbar.a);var Xc=new Bc;_.Vc("api",Xc);var Yc=_.Pc()||new _.Ac,Zc=window,$c=_.x(_.G(Yc,8));
Zc.__PVT=$c;_.Vc("eq",_.Sc);
}catch(e){_._DumpException(e)}
try{
_.ad=class extends _.O{constructor(a){super(a)}};
}catch(e){_._DumpException(e)}
try{
var bd=class extends _.O{constructor(){super()}};var cd=class extends _.P{constructor(){super();this.j=[];this.i=[]}o(a,b){this.j.push({features:a,options:b})}init(a,b,c){window.gapi={};var d=window.___jsl={};d.h=_.x(_.G(a,1));null!=_.C(a,12)&&(d.dpo=_.w(_.H(a,12)));d.ms=_.x(_.G(a,2));d.m=_.x(_.G(a,3));d.l=[];_.I(b,1)&&(a=_.G(b,3))&&this.i.push(a);_.I(c,1)&&(c=_.G(c,2))&&this.i.push(c);_.z("gapi.load",(0,_.y)(this.o,this));return this}};var dd=_.D(_.Nc,_.Ec,14);if(dd){var ed=_.D(_.Nc,_.ad,9)||new _.ad,fd=new bd,gd=new cd;gd.init(dd,ed,fd);_.Vc("gs",gd)};
}catch(e){_._DumpException(e)}
})(this.gbar_);
// Google Inc.
</script><script nonce="">try {const preferences = JSON.parse(window.localStorage.getItem("datalab_prefs_karunimi21@gmail.com")); document.querySelector('html') .setAttribute('theme', preferences['siteTheme'] || 'default');} catch (e) {}</script><script nonce="">window.performance.mark('head_start');</script><link rel="stylesheet" href="./spam or ham_files/bundle.css"><script nonce="">var colabVersionTag = 'colab_20240502-060125_RC00_630016150'; var colabScsVersion = '6fae1b1d3cb5d05e06b4e3cb542a7645'; var hl = 'en'; var colabExperiments = JSON.parse('\x7b\x22ai_unsubscribed_warning\x22: true, \x22aida_cell_button\x22: false, \x22aida_complete_code_model_id\x22: \x22\x22, \x22aida_do_conversation_model_id\x22: \x22\x22, \x22aida_generate_code_model_id\x22: \x22\x22, \x22aida_in_editor\x22: false, \x22allowed_public_url_domains\x22: \x5b\x22huggingface.co\x22, \x22dagshub.com\x22, \x22storage.googleapis.com\x22\x5d, \x22auto_execute_prereqs\x22: false, \x22backend_version\x22: \x22next\x22, \x22bq_tid\x22: true, \x22cell_tags\x22: false, \x22chat\x22: true, \x22classified_generate\x22: false, \x22classroom_iframe_parent_origin\x22: \x22\x22, \x22client_text_compose\x22: true, \x22client_trim_completion_text\x22: 100, \x22cloud_origin\x22: \x22\x22, \x22commands_in_toolbar\x22: false, \x22comment_poll_long\x22: 900000, \x22comment_poll_short\x22: 60000, \x22completion_throttle_millis\x22: 300, \x22compose_skip_suffix_check\x22: false, \x22converse_temp\x22: \x22\x22, \x22crawler\x22: false, \x22critique_comments\x22: false, \x22dbu\x22: \x22\x22, \x22debug_external\x22: \x22external\x22, \x22debug_prod\x22: \x22prod\x22, \x22dep_cells_commands\x22: false, \x22development\x22: false, \x22document_change_poll_interval\x22: 30000, \x22drive_anon_api_key\x22: \x22AIzaSyB10s2vWUTwP0pj20wZoxmpZIt3rRodYeg\x22, \x22drive_api_key\x22: \x22AIzaSyCN_sSPJMpYrAzC5AtTrltNC8oRmLtoqBk\x22, \x22drive_background_save_project_number\x22: \x22948411933973\x22, \x22drive_realtime_project_number\x22: \x22\x22, \x22embedded_connection_poll\x22: false, \x22embedding_app\x22: \x22\x22, \x22enable_adhoc_backends\x22: false, \x22enable_more_reprs\x22: true, \x22explain_cell\x22: false, \x22explain_error\x22: true, \x22explain_error_prompt_next\x22: true, \x22explain_error_trim_traceback\x22: true, \x22external_trusted_github_org_repos_quick_add\x22: \x22GoogleChrome\/CrUX,google\/generative-ai-docs\x22, \x22filter_repetitive_suggestions\x22: false, \x22first_party_auth\x22: true, \x22fix_imports\x22: false, \x22generate_code\x22: true, \x22generate_code_prompt\x22: true, \x22generate_df\x22: true, \x22generate_fix\x22: true, \x22generate_temp\x22: \x22\x22, \x22get_started\x22: false, \x22gis_auth\x22: true, \x22github_client_id\x22: \x225036cf6d81e65aaa6340\x22, \x22gpu_utilization_check_interval_ms\x22: 600000, \x22hats_surveys\x22: true, \x22hrc\x22: false, \x22import_data\x22: false, \x22internal_chat\x22: false, \x22internal_schedule\x22: false, \x22is_prober\x22: false, \x22jsraw\x22: \x22compiled\x22, \x22key_promoter\x22: false, \x22kr\x22: false, \x22local_cloud_apis\x22: false, \x22local_service_worker\x22: false, \x22log_hover_type\x22: false, \x22lsp_diagnostic_threshold_b312769838\x22: 0, \x22lsp_diagnostics_reporting\x22: false, \x22lsp_inlay_hint\x22: false, \x22lsrp\x22: 0, \x22ml_banner\x22: false, \x22ml_enabled\x22: true, \x22mlpp\x22: false, \x22mlpp_multiline\x22: false, \x22mlpp_on_by_default\x22: true, \x22mlpp_trim_completion_text\x22: 100, \x22mobile\x22: false, \x22next_steps\x22: true, \x22nl2code_missing_imports\x22: true, \x22no_fun\x22: false, \x22og_dark\x22: true, \x22outage_notification\x22: \x22\x22, \x22outage_notification_link\x22: \x22\x22, \x22output_menu\x22: false, \x22outputframe_version\x22: \x22\x22, \x22override_suf_params_for_test\x22: false, \x22quickchart_button\x22: true, \x22recaptcha_polling_frequency_ms\x22: 300000, \x22recaptcha_v2_site_key\x22: \x226LfQttQUAAAAADuPanA_VZMaZgBAOnHZNuuqUewp\x22, \x22recaptcha_v3_site_key\x22: \x226LfQPtEUAAAAAHBpAdFng54jyuB1V5w5dofknpip\x22, \x22reconnect_max_delay_seconds\x22: 300, \x22replace_indented_block_with_blockquote\x22: true, \x22require_ai_consent\x22: true, \x22resource_poll_interval_ms\x22: 10000, \x22rp_kxhr\x22: false, \x22rp_lsp\x22: false, \x22rp_serve_kernel_port\x22: false, \x22rp_term\x22: false, \x22rp_token_refresh_headroom_millis\x22: 300000, \x22rt\x22: false, \x22runtime_env_overrides\x22: \x22\\n          \x5b\\n            \x5b\\\x22ENABLE_DIRECTORYPREFETCHER\\\x22, \\\x221\\\x22\x5d\\n          \x5d\\n        \x22, \x22runtime_type_for_test\x22: \x22\x22, \x22server_execution_queue\x22: true, \x22session_resume_coalesce\x22: true, \x22sheets_paste\x22: true, \x22show_internal_ai_warning\x22: false, \x22show_payments_interstitial\x22: false, \x22show_relnotes_on_open\x22: true, \x22show_signup_survey\x22: true, \x22show_subscription_renewal_time\x22: false, \x22show_switch_to_prod_link\x22: false, \x22smartpaste\x22: false, \x22smartpaste_serving_config\x22: \x22pl_700m_smart_paste_3.0.25\x22, \x22sql_cell\x22: false, \x22sql_cell_buttons\x22: false, \x22storage_partition_trial\x22: true, \x22storage_partition_trial_token\x22: \x22AmUpB2+Hlwk73pYiEMbnkef\/dprJi1I9rClec33apyFsbVOaCIRN29Rk9M4ht5Otgbp+thCc3MMD73GyCNfEWAkAAAB3eyJvcmlnaW4iOiJodHRwczovL2NvbGFiLnJlc2VhcmNoLmdvb2dsZS5jb206NDQzIiwiZmVhdHVyZSI6IkRpc2FibGVUaGlyZFBhcnR5U3RvcmFnZVBhcnRpdGlvbmluZyIsImV4cGlyeSI6MTcyNTQwNzk5OX0\x3d\x22, \x22suspicious_code_matches\x22: \x22\x22, \x22suspicious_code_regexs\x22: \x22\x22, \x22term4all\x22: false, \x22text_compose_report_changes_millis\x22: 10000, \x22text_span_comments\x22: false, \x22tpu_vm\x22: true, \x22unified_compose\x22: true, \x22unmanaged_vm_min_label_block\x22: \x22\x22, \x22unmanaged_vm_min_label_warn\x22: \x22\x22, \x22unmanaged_vm_min_release_tag_block\x22: \x22\x22, \x22unmanaged_vm_min_release_tag_warn\x22: \x22\x22, \x22use_corplogin\x22: true, \x22use_dm_sql_lsp\x22: false, \x22use_upticks_for_internalai\x22: false, \x22user_visible_gpu_types\x22: \x5b\x22T4\x22, \x22V100\x22, \x22A100\x22, \x22L4\x22\x5d, \x22uxr_survey\x22: false, \x22verbose_warnings\x22: false, \x22vertex_ai_api_environment_override\x22: \x22\x22, \x22waffle\x22: false, \x22workstations\x22: false, \x22ids\x22: \x5b20730185, 20730189, 20730159, 20730150, 20730129, 20730183, 20730177, 20730236, 20730230\x5d, \x22flag_ids\x22: \x7b\x22ai_unsubscribed_warning\x22: 45504730, \x22aida_cell_button\x22: 45425510, \x22aida_complete_code_model_id\x22: 45427660, \x22aida_do_conversation_model_id\x22: 45427664, \x22aida_generate_code_model_id\x22: 45427663, \x22aida_in_editor\x22: 45425507, \x22allowed_public_url_domains\x22: 45425558, \x22auto_execute_prereqs\x22: 45624305, \x22backend_version\x22: 45425541, \x22bq_tid\x22: 45425617, \x22cell_tags\x22: 45425779, \x22chat\x22: 45425490, \x22classified_generate\x22: 45425499, \x22classroom_iframe_parent_origin\x22: 45425537, \x22client_text_compose\x22: 45425512, \x22client_trim_completion_text\x22: 45425628, \x22cloud_origin\x22: 45425538, \x22commands_in_toolbar\x22: 45425502, \x22comment_poll_long\x22: 45425588, \x22comment_poll_short\x22: 45425587, \x22completion_throttle_millis\x22: 45621713, \x22compose_skip_suffix_check\x22: 45615470, \x22converse_temp\x22: 45425509, \x22crawler\x22: 45425491, \x22critique_comments\x22: 45612076, \x22dbu\x22: 45425545, \x22debug_external\x22: 45425470, \x22debug_prod\x22: 45425471, \x22dep_cells_commands\x22: 45622249, \x22development\x22: 45425544, \x22document_change_poll_interval\x22: 45425589, \x22drive_anon_api_key\x22: 45425478, \x22drive_api_key\x22: 45425473, \x22drive_background_save_project_number\x22: 45425479, \x22drive_realtime_project_number\x22: 45425629, \x22embedded_connection_poll\x22: 45491618, \x22enable_adhoc_backends\x22: 45425506, \x22enable_more_reprs\x22: 45613354, \x22explain_cell\x22: 45425505, \x22explain_error\x22: 45425487, \x22explain_error_prompt_next\x22: 45615229, \x22explain_error_trim_traceback\x22: 45618831, \x22external_trusted_github_org_repos_quick_add\x22: 45425555, \x22filter_repetitive_suggestions\x22: 45615781, \x22first_party_auth\x22: 45425560, \x22fix_imports\x22: 45624140, \x22generate_code\x22: 45425492, \x22generate_code_prompt\x22: 45425488, \x22generate_df\x22: 45425503, \x22generate_fix\x22: 45425504, \x22generate_temp\x22: 45425508, \x22get_started\x22: 45430267, \x22gis_auth\x22: 45425625, \x22github_client_id\x22: 45425556, \x22gpu_utilization_check_interval_ms\x22: 45425561, \x22hats_surveys\x22: 45425559, \x22import_data\x22: 45430411, \x22internal_chat\x22: 45622872, \x22internal_schedule\x22: 45425578, \x22is_prober\x22: 45429104, \x22jsraw\x22: 45425557, \x22key_promoter\x22: 45425570, \x22local_cloud_apis\x22: 45425630, \x22local_service_worker\x22: 45425550, \x22log_hover_type\x22: 45425602, \x22lsp_diagnostic_threshold_b312769838\x22: 45618432, \x22lsp_diagnostics_reporting\x22: 45425604, \x22lsp_inlay_hint\x22: 45614695, \x22lsrp\x22: 45425612, \x22ml_banner\x22: 45425631, \x22ml_enabled\x22: 45425493, \x22mlpp\x22: 45425608, \x22mlpp_multiline\x22: 45425623, \x22mlpp_on_by_default\x22: 45425609, \x22mlpp_trim_completion_text\x22: 45425622, \x22mobile\x22: 45425562, \x22next_steps\x22: 45428239, \x22nl2code_missing_imports\x22: 45615676, \x22no_fun\x22: 45425540, \x22og_dark\x22: 45459627, \x22outage_notification\x22: 45425584, \x22outage_notification_link\x22: 45425585, \x22output_menu\x22: 45617054, \x22outputframe_version\x22: 45425591, \x22override_suf_params_for_test\x22: 45425592, \x22quickchart_button\x22: 45425501, \x22recaptcha_polling_frequency_ms\x22: 45425582, \x22recaptcha_v2_site_key\x22: 45425581, \x22recaptcha_v3_site_key\x22: 45425580, \x22reconnect_max_delay_seconds\x22: 45425539, \x22replace_indented_block_with_blockquote\x22: 45623563, \x22require_ai_consent\x22: 45425489, \x22resource_poll_interval_ms\x22: 45425590, \x22rp_kxhr\x22: 45491686, \x22rp_lsp\x22: 45462965, \x22rp_serve_kernel_port\x22: 45572083, \x22rp_term\x22: 45426219, \x22rp_token_refresh_headroom_millis\x22: 45517773, \x22rt\x22: 45425624, \x22runtime_env_overrides\x22: 45425583, \x22runtime_type_for_test\x22: 45425586, \x22server_execution_queue\x22: 45425600, \x22session_resume_coalesce\x22: 45425603, \x22sheets_paste\x22: 45428502, \x22show_internal_ai_warning\x22: 45622780, \x22show_payments_interstitial\x22: 45425543, \x22show_relnotes_on_open\x22: 45428128, \x22show_signup_survey\x22: 45425620, \x22show_subscription_renewal_time\x22: 45425569, \x22show_switch_to_prod_link\x22: 45425483, \x22smartpaste\x22: 45627425, \x22smartpaste_serving_config\x22: 45630585, \x22sql_cell\x22: 45425497, \x22sql_cell_buttons\x22: 45425498, \x22suspicious_code_matches\x22: 45425615, \x22suspicious_code_regexs\x22: 45425616, \x22term4all\x22: 45425542, \x22text_compose_report_changes_millis\x22: 45425568, \x22text_span_comments\x22: 45545873, \x22tpu_vm\x22: 45614812, \x22unified_compose\x22: 45425627, \x22unmanaged_vm_min_label_block\x22: 45425546, \x22unmanaged_vm_min_label_warn\x22: 45425547, \x22unmanaged_vm_min_release_tag_block\x22: 45425548, \x22unmanaged_vm_min_release_tag_warn\x22: 45425549, \x22use_corplogin\x22: 45425606, \x22use_dm_sql_lsp\x22: 45425610, \x22use_upticks_for_internalai\x22: 45629267, \x22user_visible_gpu_types\x22: 45620529, \x22uxr_survey\x22: 45425618, \x22verbose_warnings\x22: 45425551, \x22vertex_ai_api_environment_override\x22: 45612077, \x22waffle\x22: 45446491, \x22workstations\x22: 45425626\x7d\x7d'); var colabUserEmail = 'karunimi21@gmail.com'; var colabRenderDataToken = 'AFWLbD1NJ9zMWEVimrQ4R_PDXnofMvJIFQ8ZF28wGYm6_Tuyqip7UxZhRqIFyrXq8ywBSs8zUzvZf6ODGjnswvPGK1p5XJPEdAes'; var colabConfig = '\x5b\x5b\x22karunimi21@gmail.com\x22,\x5b1,\x22AHXL0D3dp2soc8saz29Jpt8TwibqcJ4HX4zjXGVRriO+EDQ5vbDEnWFnkkpgdvy+vzBP8yK3K3gBQezBlbhd5+WJBeJ2VCdDFZeSb2IHdbc5T4wfFIAVQoL3u9FqmGj9yDwexrLWQ2+BMgS7v01NLfxQUlMfjiP+TNqtzD0\/h9PRM+wD8ZLTFaXGBYmXiVbyWe3KWoiUJ2jRBix+mUCnyxDdQ1MpZg+PtZiauQUiiu0hZnY6QLdI831po69g7hlPD53Fyp4ast81K4rEN7EaApPzIyFlzeZ3dEALbxj8Qa4NySqtCD6URPZohYQYE45DK3bZlLhgySjbm9x0o0diZbDkMt+aDjF\/adbHH+Z7K6YgtUWSgCwh\/tZtg\/1Hd0f5cOarpdkE24Mz7vIOXzeH\/uMEgls3txmQ3vL3EJkfMYib0NYEJ4wallpkFcDFb8kJ13CYiWZ3YDDrDplrQYLtCWkylLyzXpmelOpbZN3vLanCgi3Ys+SHBPw1dv0zfX5d6qnjyidEU\/MLVFJ2HOfjcGIPUKGV2ppJtaOqz\/IS4w7MH5zcFK1Gaa69B5tOlBDXaeFX7meHkf2ifpXv+SUnuxl092om0YFRPLH3\/WuW5eytL30\/syikZ5DT12SWHoy8ekKCHm9shN9ITT9oU2QVONn9DTqKhfDNIYEOdENkqe+KUzmJUaB+VkuCYwUkMiPNknio97z2k7WMR2WaVH\/vTuZSA+WAvdpcqDiA\/T+F92UurzRNFK0Pdf7MbPEIEZazBevitUudK+xBy8FLgySOWO\/zXF3Pcy+nnLfgYZqlWSzzqPXfG08LyeokPAa48BsOBjVDRIIircqRoxaxnW403qoBHYhBodRMGxX6LFpmT29KOsq2SwbXkkZ3fD\/TWZjqtUinHXb9pr6jxSU3kQU\/D+nvC05\/R3yft88o4y6UWtMakmO5xGIgo22NCMktfFJJ4Upc58iXNlKJIiNOolyxwKfplcAtBbxu3Yrewca3mFFlMLm9YVs+s4cG6RvI70Vs9kGiqv8Vxhhx0kP61Iz5V6hw8gUDYp09I9zVI8HZsiG+Tx5QP1uGkGJKmXQbt7\/BqlU\/fTuXaySXWzQMZeexoIGVC2N6yASdG82F4KK\/KEUNIOHM74NJ124WA0EM\/BH5JtSHlmbcW85us2\/9bjC+M8NYiWADvQWGpRghvCz5YBLwyMFuJ21FfRtiMA2M759lonvyj5+LErrgTueqxObWYsM3TgtNqKNEOtc9ch4XdxUVxCiV0cvt9edN\/dp+OzFLzqY2CWtEb36dL3iwpQjPdzFBdI2YZxe6Gza94HKoiMileQp\/iaGKt7+0BwW71i7tXY1cy0f\/UNmwOF4gX6ssTJhwPrjcD\/LKIusTUJKIeMcJCk4EZjeDCyGgfYkij6tIiG6fpOftVJrQ2C3hYaw1DrdAlr164KkZWQECIjEcr\/Xb+jYcqRn\/gLRHrkIxSYPsolMhUw1b\/RIg8p27d1\/fClCEyVayBHJDn9vQMlhvffIFoGGNKd6LS6z0mYeQHrRSGTCSsEk41nxNEkl66f4hI8iCBHGO7QV\/kunv0CDkyKupNtMV8nqijm4tkiq2K7FFc9b0LrnLjgKGRnmR5BihX1mLCzyMOcg7lz8vNJhj8XgNHLuCuBnfHSv5BqVkmnWyz\/cq6z12hiEXkko4KkPMOHrqUnDZZN2psE4XPJXNsHuRnw\/y0BAq75Fx\/HkRIxRHx+4bk2ttv1yULtgZFgzhTv7LfC4qucZ\/r59terQ9nHSAk2FIbv1fEpdEhe05citI2ck87vStRwD8MFg9+kkn1VxfJzIOHLoCC6dJflqkKz5RJWZCDjrPzhVAQnZRfmAYEld6INmPsR97LtoMAyP+3RVjbgm0ZA\/yB\/f9zwph2xzeFVzaJpi8hhQ\x3d\x22,\x22AJ9oCCxpOMp0jnFuD0jCA5sVadGWqXh1ao\/dGzq9uPzfsbBOBA0zyhksuQAsImjykk6fU5ylk1j2hl4wcD5dC7FiBwNI7vZ9OViEVqs9nKKVr0q7RcELZh7kOdmllO0g0PCtDojgeBNQ\x22,\x22https:\/\/payments.google.com\/payments\x22,0,0,null,null,null,\x22$11.79\x22,\x22$58.99\x22,\x22$11.79\x22,\x22$58.99\x22\x5d,\x5b1\x5d,\x22IN\x22\x5d\x5d';</script><link id="favicon-link" rel="shortcut icon" href="https://ssl.gstatic.com/colaboratory-static/common/6fae1b1d3cb5d05e06b4e3cb542a7645/img/favicon.ico"><meta name="google-site-verification" content="wRgpUU3mIRZPD1GORBPNonaotM72092B_DsqQFWNa4s"><meta name="google-site-verification" content="f5qdvL6RAXlBgHezvCLpPtvx2wU5ZgIzzPULroprlnA"><meta name="google-site-verification" content="-wL8iYJTC7X0zF9qBNDQUAd-P1ZkQUK-OhSgv4Wkf1M"><meta name="google-site-verification" content="o-EECwEDQeUpZv0jTmoGfCDX7dUI8Kul4ESepXmDnO0"><meta name="google-site-verification" content="sNOroO9gXrazN-oMODOm0Bs0_vw1R5QwZ-BfrSHn8Io"><meta name="google-site-verification" content="K1UdZBHJXQYnJGXIK1KuutmVy6dn3vG2sEyV9D1C6dM"><meta name="google-site-verification" content="wdGthzzfu0IjM3qpFqTuQL9poAQZAvAaFKyuzetLpIM"><meta name="google-site-verification" content="qZJ77guHGO0TObHUBRYVdXQlIhXBBuz8dahJVmIlzCo"><meta name="google-site-verification" content="7ahoeOOKT2ZR781GZ5xK4L9t7yO1ZOHc-gaoUALEYgw"><meta name="google-site-verification" content="PHgaSKwdxZELS21aixtLhfpvaHtKen9pnVJ25EI35Zs"><meta name="google-site-verification" content="Ozey1ptWUQW13_lCEhpPMOcmRBLqdyB3WEL-TJUjskU"><meta name="google-site-verification" content="rF5iXzWe9KZXJes1dQNhOUkS4_z_e97IrsVoCx2trek"><meta name="google-site-verification" content="cpB5oulaGwqSxsg4E-9q2MVbK87iE9NAUUVxdveucPw"><meta name="google-site-verification" content="8P-D5fVWgUIhw8X2BxnKJbf5itK0zxX0QhoBjbJFTe8"><meta name="google-site-verification" content="88fgsZDoVRBuRnDPMIEjcHCxsEXzODOqEsJoqtvQsDc"><meta name="google-site-verification" content="26aKGBCw3XblB5Ou01UhxY5WDtMqHjoTm6P-lvF6AqE"><meta name="google-site-verification" content="DGionF7db9g0dOgeBXwOAN2tmCzWBdo5yOdc_-5UcuE"><meta name="google-site-verification" content="Q9LlidR0toR7UtSyVO23xNeaqJmRp8I6r4ghBQTtntU"><meta name="google-site-verification" content="rQawcZaTEK_UrDG30cz_7nVKOVvBass61QEes0Tm04g"><meta name="google-site-verification" content="8L3ghjzKIj241AYAmEygniTe604tsXFkIrb1v-DBtGo"><meta name="google-site-verification" content="Osw7QcOK045GmOYJI2MM2_7AaL-s4q6pdn8gIv6JNxA"><meta name="google-site-verification" content="KiunYPvrY5x8umvAWcjhwPrB677xCar2LeT_8yaVrDg"><meta name="google-site-verification" content="b6bOMRzMVX2bJABYDGBPtpGcB_AUZ-o2SOTggQXErkg"><meta property="og:type" content="article"><meta property="og:image" content="https://colab.research.google.com/img/colab_favicon_256px.png"><meta property="og:title" content="Google Colab"><meta http-equiv="origin-trial" content="AmUpB2+Hlwk73pYiEMbnkef/dprJi1I9rClec33apyFsbVOaCIRN29Rk9M4ht5Otgbp+thCc3MMD73GyCNfEWAkAAAB3eyJvcmlnaW4iOiJodHRwczovL2NvbGFiLnJlc2VhcmNoLmdvb2dsZS5jb206NDQzIiwiZmVhdHVyZSI6IkRpc2FibGVUaGlyZFBhcnR5U3RvcmFnZVBhcnRpdGlvbmluZyIsImV4cGlyeSI6MTcyNTQwNzk5OX0="><script nonce="">window.performance.mark('head_end'); window.performance.measure('head', 'head_start', 'head_end');</script><script async="" src="./spam or ham_files/lazy.min.js.download" nonce=""></script><style id="inert-style">
[inert] {
  pointer-events: none;
  cursor: default;
}

[inert], [inert] * {
  user-select: none;
  -webkit-user-select: none;
  -moz-user-select: none;
  -ms-user-select: none;
}
</style><style>
    html {
      <!---->
      <!---->
      --code-cell-background: #f7f7f7;
      --colab-anchor-color: #00e;
      --colab-border-color: #dadada;
      --colab-bold-border-color: #111;
      --colab-callout-color: var(--paper-blue-700);
      --colab-divider-color: var(--paper-grey-300);
      --colab-debugger-line-color: var(--paper-red-100);
      --colab-editor-focus-color: var(--paper-grey-200);
      --colab-highlighted-surface-color: var(--paper-grey-200);
      --colab-icon-color: var(--paper-grey-700);
      --colab-input-button-hover-background: #6161611a;
      --colab-secondary-icon-color: #93adcf;
      --colab-input-placeholder-color: var(--colab-secondary-text-color);
      --colab-primary-surface-color: var(--paper-white);
      --colab-primary-text-color: var(--paper-grey-900);
      --colab-secondary-text-color: #616161;
      --colab-tertiary-text-color: var(--paper-grey-600);
      --colab-secondary-surface-color: #f7f7f7;
      --colab-snackbar-surface-color: #333333;
      --colab-scrollbar-color: rgba(0, 0, 0, 0.1);
      --colab-gutter-icon-color: #8c8c8c;
      --colab-active-execution-icon-color: var(--paper-grey-800);
      --colab-error-icon-color: var(--paper-red-a700);
      --colab-title-color: #000;
      --colab-form-field-underline-color: var(--paper-grey-400);
      --colab-editor-focus-border-thickness: 2px;
      --colab-diff-editor-background: #fff;
      --colab-local-diff-background: #eef;
      --colab-remote-diff-background: #feffe0;
      --colab-merged-diff-background: #d7fed8;
      --colab-status-okay: var(--google-green-700);
      --ansi-black: rgb(0, 0, 0);
      --ansi-red: rgb(139, 0, 0);
      --ansi-green: rgb(0, 100, 0);
      --ansi-yellow: rgb(205, 205, 0);
      --ansi-blue: rgb(0, 0, 238);
      --ansi-magenta: rgb(205, 0, 205);
      --ansi-cyan: rgb(70, 130, 180);
      --ansi-gray: rgb(229, 229, 229);
      --ansi-bright-black: rgb(127, 127, 127);
      --ansi-bright-red: rgb(255, 0, 0);
      --ansi-bright-green: rgb(0, 208, 0);
      --ansi-bright-yellow: rgb(255, 255, 0);
      --ansi-bright-blue: rgb(92, 92, 255);
      --ansi-bright-magenta: rgb(255, 0, 255);
      --ansi-bright-cyan: rgb(0, 255, 255);
      --ansi-bright-gray: rgb(255, 255, 255);
      --gcp-success-icon-color: var(--google-green-700);
      --colab-comment-anchor-color: var(--google-blue-600);
      --colab-filled-button-ripple-color: #000;
      --colab-comment-highlight-color: #ffe082; /* material amber-200 */
      --colab-smartpaste-highlight-color: rgba(255, 224, 130, 0.5);
      <!---->
      --colab-input-border-color: #a9a9a9;
      --colab-logo-dark: var(--google-orange-600);
      --colab-logo-light: var(--google-yellow-600);
      --colab-status-error: #e51c23;
      --colab-status-warning: #f09300;
      --colab-chrome-font-family: 'Roboto', 'Noto', sans-serif;
      --colab-google-sans-font-family: 'Google Sans', 'Roboto', 'Noto',
        sans-serif;
      --colab-chrome-font-size: 14px;
      <!---->
      --colab-icon-hover-color: var(--colab-primary-text-color);
      --colab-fresh-execution-count-color: var(--colab-primary-text-color);
      --colab-stale-execution-count-color: var(--colab-input-placeholder-color);
      --error-color: #b3261e;
      --primary-color: var(--google-blue-700);
      --google-green-700: #188038;
      --google-grey-800: #3c4043;
      --google-blue-200: #aecbfa;
      --google-blue-300: #8ab4f8;
      --google-blue-700: #1967d2;
      --google-blue-900: #174ea6;
      --hairline-button-secondary: var(--google-blue-900);
      --mdc-theme-primary: var(--primary-color);
      --mdc-theme-on-primary: var(--colab-primary-surface-color);
      --md-sys-color-primary: var(--primary-color);
      --md-sys-color-on-primary: var(--colab-primary-surface-color);
    }
    html[theme='dark'] {
      <!---->
      --colab-anchor-color: var(--paper-blue-300);
      --colab-callout-color: var(--google-blue-600);
      --code-cell-background: #1e1e1e;
      --colab-border-color: var(--paper-grey-700);
      --colab-bold-border-color: #eee;
      --colab-divider-color: var(--paper-grey-700);
      --colab-debugger-line-color: var(--paper-red-900);
      --colab-editor-focus-color: #282828;
      --colab-highlighted-surface-color: #525252;
      --colab-icon-color: var(--paper-grey-400);
      --colab-input-button-hover-background: #bdbdbd1a;
      --colab-input-placeholder-color: var(--colab-tertiary-text-color);
      --colab-primary-surface-color: #383838;
      --colab-primary-text-color: #d5d5d5;
      --colab-secondary-text-color: #f7f7f7;
      --colab-tertiary-text-color: #b3b3b3;
      --colab-secondary-surface-color: #454545;
      --colab-snackbar-surface-color: var(--colab-secondary-surface-color);
      --colab-scrollbar-color: rgba(255, 255, 255, 0.2);
      --colab-gutter-icon-color: #858585;
      --colab-active-execution-icon-color: var(--colab-icon-color);
      --colab-error-icon-color: #ef5350;
      --colab-title-color: #fff;
      --colab-form-field-underline-color: var(--paper-grey-600);
      --colab-diff-editor-background: #000;
      --colab-local-diff-background: #292935;
      --colab-remote-diff-background: #2e2f08;
      --colab-merged-diff-background: #09380b;
      --colab-status-okay: #00c752;
      --ansi-black: rgb(127, 127, 127);
      --ansi-red: rgb(255, 122, 136);
      --ansi-green: rgb(87, 187, 138);
      --ansi-yellow: rgb(255, 255, 102);
      --ansi-blue: rgb(130, 177, 255);
      --ansi-magenta: rgb(205, 0, 205);
      --ansi-cyan: rgb(153, 187, 215);
      --ansi-gray: rgb(229, 229, 229);
      --ansi-bright-green: rgb(0, 255, 0);
      --gcp-success-icon-color: #81c995;
      --colab-comment-anchor-color: var(--paper-blue-300);
      --colab-filled-button-ripple-color: #fff;
      --colab-comment-highlight-color: #1a237e; /* material indigo-900 */
      --colab-smartpaste-highlight-color: rgba(255, 224, 130, 0.3);
      --error-color: var(--paper-deep-orange-a100);
      --primary-color: var(--google-blue-300);
      --hairline-button-secondary: var(--google-blue-200);
    }
    @media (prefers-color-scheme: dark) {
      html[theme='adaptive'] {
        <!---->
        --colab-anchor-color: var(--paper-blue-400);
        --colab-callout-color: var(--paper-blue-900);
        --code-cell-background: #1e1e1e;
        --colab-border-color: var(--paper-grey-700);
        --colab-bold-border-color: #eee;
        --colab-divider-color: var(--paper-grey-700);
        --colab-debugger-line-color: var(--paper-red-900);
        --colab-editor-focus-color: #282828;
        --colab-highlighted-surface-color: #525252;
        --colab-icon-color: var(--paper-grey-100);
        --colab-input-button-hover-background: #bdbdbd1a;
        --colab-input-placeholder-color: var(--colab-tertiary-text-color);
        --colab-primary-surface-color: #383838;
        --colab-primary-text-color: #d5d5d5;
        --colab-secondary-text-color: #f7f7f7;
        --colab-tertiary-text-color: #b3b3b3;
        --colab-secondary-surface-color: #454545;
        --colab-snackbar-surface-color: var(--colab-secondary-surface-color);
        --colab-scrollbar-color: rgba(255, 255, 255, 0.2);
        --colab-gutter-icon-color: #858585;
        --colab-execution-count: var(--colab-primary-text-color);
        --colab-active-execution-icon-color: var(--colab-icon-color);
        --colab-error-icon-color: #ef5350;
        --colab-title-color: #fff;
        --colab-form-field-underline-color: var(--paper-grey-600);
        --colab-diff-editor-background: #000;
        --colab-local-diff-background: #292935;
        --colab-remote-diff-background: #2e2f08;
        --colab-merged-diff-background: #09380b;
        --colab-status-okay: #00c752;
        --ansi-black: rgb(63, 63, 63);
        --ansi-red: rgb(255, 122, 136);
        --ansi-green: rgb(87, 187, 138);
        --ansi-yellow: rgb(255, 255, 102);
        --ansi-blue: rgb(130, 177, 255);
        --ansi-magenta: rgb(205, 0, 205);
        --ansi-cyan: rgb(153, 187, 215);
        --ansi-gray: rgb(229, 229, 229);
        --colab-filled-button-ripple-color: #fff;
        --error-color: var(--paper-deep-orange-a100);
        --primary-color: var(--google-blue-300);
        --hairline-button-secondary: var(--google-blue-200);
      }
    }
    html[editor='High Contrast Dark'] {
      --code-cell-background: #000;
      --colab-editor-focus-color: #f38518;
      --colab-editor-focus-border-thickness: 1px;
    }
    html[editor='Monokai'] {
      --code-cell-background: #272822;
    }
    html[editor='All Hallows Eve'] {
      --code-cell-background: #000;
    }
    html[editor='Amy'] {
      --code-cell-background: #200020;
    }
    html[editor='Birds Of Paradise'] {
      --code-cell-background: #372725;
    }
    html[editor='Blackboard'] {
      --code-cell-background: #0c1021;
    }
    html[editor='Clouds Midnight'] {
      --code-cell-background: #191919;
    }
    html[editor='Dominion Day'] {
      --code-cell-background: #372725;
    }
    html[editor='Espresso Libre'] {
      --code-cell-background: #2a211c;
    }
    html[editor='Merbivore'] {
      --code-cell-background: #161616;
    }
    html[editor='Night Owl'] {
      --code-cell-background: #011627;
    }
    html[editor='Oceanic Next'] {
      --code-cell-background: #1b2b34;
    }
    html[editor='Pastels On Dark'] {
      --code-cell-background: #211e1e;
    }
    html[editor='Space Cadet'] {
      --code-cell-background: #0d0d0d;
    }
    html[editor='Sunburst'] {
      --code-cell-background: #000;
    }
    html[editor='Twilight'] {
      --code-cell-background: #141414;
    }
    html[editor='Vibrant Ink'] {
      --code-cell-background: #000;
    }
    html[editor='Zenburnesque'] {
      --code-cell-background: #404040;
    }
    html[editor='Idle Fingers'] {
      --code-cell-background: #323232;
    }
    html[editor='Mono Industrial'] {
      --code-cell-background: #222c28;
    }
    html[editor='Synthwave84'] {
      --colab-primary-surface-color: #241b2f;
      --colab-secondary-surface-color: #49549539;
      --code-cell-background: #262335;
      --colab-highlighted-surface-color: #372d4b;
      --colab-border-color: #34294fb3;
      --colab-anchor-color: #f97e72;
      --ansi-red: #fe4450;
      --ansi-green: #72f1b8;
      --ansi-yellow: #f97e72;
      --ansi-blue: #03edf9;
      --ansi-magenta: #ff7edb;
      --ansi-cyan: #03edf9;
      --ansi-bright-red: #fe4450;
      --ansi-bright-green: #72f1b8;
      --ansi-bright-yellow: #fede5d;
      --ansi-bright-blue: #03edf9;
      --ansi-bright-magenta: #ff7edb;
      --ansi-bright-cyan: #03edf9;
    }
    <!---->
  <!----></style><script async="async" type="text/javascript" src="./spam or ham_files/editor.main.js.download"></script><script async="" type="text/javascript" charset="UTF-8" src="./spam or ham_files/rs=AA2YrTtpRznzVJk75Y4TcT-zpGGUjebtAg" nonce=""></script><link type="text/css" rel="stylesheet" href="./spam or ham_files/rs=AA2YrTuhe2hCYlalU7rKCW-qT_-zMhVRaw"><link rel="stylesheet" type="text/css" data-name="vs/editor/editor.main" href="./spam or ham_files/editor.main.css"><script async="async" type="text/javascript" src="./spam or ham_files/editor.main.nls.js.download"></script><style type="text/css">.MathJax_Hover_Frame {border-radius: .25em; -webkit-border-radius: .25em; -moz-border-radius: .25em; -khtml-border-radius: .25em; box-shadow: 0px 0px 15px #83A; -webkit-box-shadow: 0px 0px 15px #83A; -moz-box-shadow: 0px 0px 15px #83A; -khtml-box-shadow: 0px 0px 15px #83A; border: 1px solid #A6D ! important; display: inline-block; position: absolute}
.MathJax_Menu_Button .MathJax_Hover_Arrow {position: absolute; cursor: pointer; display: inline-block; border: 2px solid #AAA; border-radius: 4px; -webkit-border-radius: 4px; -moz-border-radius: 4px; -khtml-border-radius: 4px; font-family: 'Courier New',Courier; font-size: 9px; color: #F0F0F0}
.MathJax_Menu_Button .MathJax_Hover_Arrow span {display: block; background-color: #AAA; border: 1px solid; border-radius: 3px; line-height: 0; padding: 4px}
.MathJax_Hover_Arrow:hover {color: white!important; border: 2px solid #CCC!important}
.MathJax_Hover_Arrow:hover span {background-color: #CCC!important}
</style><style type="text/css">#MathJax_About {position: fixed; left: 50%; width: auto; text-align: center; border: 3px outset; padding: 1em 2em; background-color: #DDDDDD; color: black; cursor: default; font-family: message-box; font-size: 120%; font-style: normal; text-indent: 0; text-transform: none; line-height: normal; letter-spacing: normal; word-spacing: normal; word-wrap: normal; white-space: nowrap; float: none; z-index: 201; border-radius: 15px; -webkit-border-radius: 15px; -moz-border-radius: 15px; -khtml-border-radius: 15px; box-shadow: 0px 10px 20px #808080; -webkit-box-shadow: 0px 10px 20px #808080; -moz-box-shadow: 0px 10px 20px #808080; -khtml-box-shadow: 0px 10px 20px #808080; filter: progid:DXImageTransform.Microsoft.dropshadow(OffX=2, OffY=2, Color='gray', Positive='true')}
#MathJax_About.MathJax_MousePost {outline: none}
.MathJax_Menu {position: absolute; background-color: white; color: black; width: auto; padding: 2px; border: 1px solid #CCCCCC; margin: 0; cursor: default; font: menu; text-align: left; text-indent: 0; text-transform: none; line-height: normal; letter-spacing: normal; word-spacing: normal; word-wrap: normal; white-space: nowrap; float: none; z-index: 201; box-shadow: 0px 10px 20px #808080; -webkit-box-shadow: 0px 10px 20px #808080; -moz-box-shadow: 0px 10px 20px #808080; -khtml-box-shadow: 0px 10px 20px #808080; filter: progid:DXImageTransform.Microsoft.dropshadow(OffX=2, OffY=2, Color='gray', Positive='true')}
.MathJax_MenuItem {padding: 2px 2em; background: transparent}
.MathJax_MenuArrow {position: absolute; right: .5em; padding-top: .25em; color: #666666; font-size: .75em}
.MathJax_MenuActive .MathJax_MenuArrow {color: white}
.MathJax_MenuArrow.RTL {left: .5em; right: auto}
.MathJax_MenuCheck {position: absolute; left: .7em}
.MathJax_MenuCheck.RTL {right: .7em; left: auto}
.MathJax_MenuRadioCheck {position: absolute; left: 1em}
.MathJax_MenuRadioCheck.RTL {right: 1em; left: auto}
.MathJax_MenuLabel {padding: 2px 2em 4px 1.33em; font-style: italic}
.MathJax_MenuRule {border-top: 1px solid #CCCCCC; margin: 4px 1px 0px}
.MathJax_MenuDisabled {color: GrayText}
.MathJax_MenuActive {background-color: Highlight; color: HighlightText}
.MathJax_MenuDisabled:focus, .MathJax_MenuLabel:focus {background-color: #E8E8E8}
.MathJax_ContextMenu:focus {outline: none}
.MathJax_ContextMenu .MathJax_MenuItem:focus {outline: none}
#MathJax_AboutClose {top: .2em; right: .2em}
.MathJax_Menu .MathJax_MenuClose {top: -10px; left: -10px}
.MathJax_MenuClose {position: absolute; cursor: pointer; display: inline-block; border: 2px solid #AAA; border-radius: 18px; -webkit-border-radius: 18px; -moz-border-radius: 18px; -khtml-border-radius: 18px; font-family: 'Courier New',Courier; font-size: 24px; color: #F0F0F0}
.MathJax_MenuClose span {display: block; background-color: #AAA; border: 1.5px solid; border-radius: 18px; -webkit-border-radius: 18px; -moz-border-radius: 18px; -khtml-border-radius: 18px; line-height: 0; padding: 8px 0 6px}
.MathJax_MenuClose:hover {color: white!important; border: 2px solid #CCC!important}
.MathJax_MenuClose:hover span {background-color: #CCC!important}
.MathJax_MenuClose:hover:focus {outline: none}
</style><style type="text/css">.MJX_Assistive_MathML {position: absolute!important; top: 0; left: 0; clip: rect(1px, 1px, 1px, 1px); padding: 1px 0 0 0!important; border: 0!important; height: 1px!important; width: 1px!important; overflow: hidden!important; display: block!important; -webkit-touch-callout: none; -webkit-user-select: none; -khtml-user-select: none; -moz-user-select: none; -ms-user-select: none; user-select: none}
.MJX_Assistive_MathML.MJX_Assistive_MathML_Block {width: 100%!important}
</style><style type="text/css">#MathJax_Zoom {position: absolute; background-color: #F0F0F0; overflow: auto; display: block; z-index: 301; padding: .5em; border: 1px solid black; margin: 0; font-weight: normal; font-style: normal; text-align: left; text-indent: 0; text-transform: none; line-height: normal; letter-spacing: normal; word-spacing: normal; word-wrap: normal; white-space: nowrap; float: none; -webkit-box-sizing: content-box; -moz-box-sizing: content-box; box-sizing: content-box; box-shadow: 5px 5px 15px #AAAAAA; -webkit-box-shadow: 5px 5px 15px #AAAAAA; -moz-box-shadow: 5px 5px 15px #AAAAAA; -khtml-box-shadow: 5px 5px 15px #AAAAAA; filter: progid:DXImageTransform.Microsoft.dropshadow(OffX=2, OffY=2, Color='gray', Positive='true')}
#MathJax_ZoomOverlay {position: absolute; left: 0; top: 0; z-index: 300; display: inline-block; width: 100%; height: 100%; border: 0; padding: 0; margin: 0; background-color: white; opacity: 0; filter: alpha(opacity=0)}
#MathJax_ZoomFrame {position: relative; display: inline-block; height: 0; width: 0}
#MathJax_ZoomEventTrap {position: absolute; left: 0; top: 0; z-index: 302; display: inline-block; border: 0; padding: 0; margin: 0; background-color: white; opacity: 0; filter: alpha(opacity=0)}
</style><style type="text/css">.MathJax_Preview {color: #888}
#MathJax_Message {position: fixed; left: 1em; bottom: 1.5em; background-color: #E6E6E6; border: 1px solid #959595; margin: 0px; padding: 2px 8px; z-index: 102; color: black; font-size: 80%; width: auto; white-space: nowrap}
#MathJax_MSIE_Frame {position: absolute; top: 0; left: 0; width: 0px; z-index: 101; border: 0px; margin: 0px; padding: 0px}
.MathJax_Error {color: #CC0000; font-style: italic}
</style><style type="text/css">.MJXp-script {font-size: .8em}
.MJXp-right {-webkit-transform-origin: right; -moz-transform-origin: right; -ms-transform-origin: right; -o-transform-origin: right; transform-origin: right}
.MJXp-bold {font-weight: bold}
.MJXp-italic {font-style: italic}
.MJXp-scr {font-family: MathJax_Script,'Times New Roman',Times,STIXGeneral,serif}
.MJXp-frak {font-family: MathJax_Fraktur,'Times New Roman',Times,STIXGeneral,serif}
.MJXp-sf {font-family: MathJax_SansSerif,'Times New Roman',Times,STIXGeneral,serif}
.MJXp-cal {font-family: MathJax_Caligraphic,'Times New Roman',Times,STIXGeneral,serif}
.MJXp-mono {font-family: MathJax_Typewriter,'Times New Roman',Times,STIXGeneral,serif}
.MJXp-largeop {font-size: 150%}
.MJXp-largeop.MJXp-int {vertical-align: -.2em}
.MJXp-math {display: inline-block; line-height: 1.2; text-indent: 0; font-family: 'Times New Roman',Times,STIXGeneral,serif; white-space: nowrap; border-collapse: collapse}
.MJXp-display {display: block; text-align: center; margin: 1em 0}
.MJXp-math span {display: inline-block}
.MJXp-box {display: block!important; text-align: center}
.MJXp-box:after {content: " "}
.MJXp-rule {display: block!important; margin-top: .1em}
.MJXp-char {display: block!important}
.MJXp-mo {margin: 0 .15em}
.MJXp-mfrac {margin: 0 .125em; vertical-align: .25em}
.MJXp-denom {display: inline-table!important; width: 100%}
.MJXp-denom > * {display: table-row!important}
.MJXp-surd {vertical-align: top}
.MJXp-surd > * {display: block!important}
.MJXp-script-box > *  {display: table!important; height: 50%}
.MJXp-script-box > * > * {display: table-cell!important; vertical-align: top}
.MJXp-script-box > *:last-child > * {vertical-align: bottom}
.MJXp-script-box > * > * > * {display: block!important}
.MJXp-mphantom {visibility: hidden}
.MJXp-munderover, .MJXp-munder {display: inline-table!important}
.MJXp-over {display: inline-block!important; text-align: center}
.MJXp-over > * {display: block!important}
.MJXp-munderover > *, .MJXp-munder > * {display: table-row!important}
.MJXp-mtable {vertical-align: .25em; margin: 0 .125em}
.MJXp-mtable > * {display: inline-table!important; vertical-align: middle}
.MJXp-mtr {display: table-row!important}
.MJXp-mtd {display: table-cell!important; text-align: center; padding: .5em 0 0 .5em}
.MJXp-mtr > .MJXp-mtd:first-child {padding-left: 0}
.MJXp-mtr:first-child > .MJXp-mtd {padding-top: 0}
.MJXp-mlabeledtr {display: table-row!important}
.MJXp-mlabeledtr > .MJXp-mtd:first-child {padding-left: 0}
.MJXp-mlabeledtr:first-child > .MJXp-mtd {padding-top: 0}
.MJXp-merror {background-color: #FFFF88; color: #CC0000; border: 1px solid #CC0000; padding: 1px 3px; font-style: normal; font-size: 90%}
.MJXp-scale0 {-webkit-transform: scaleX(.0); -moz-transform: scaleX(.0); -ms-transform: scaleX(.0); -o-transform: scaleX(.0); transform: scaleX(.0)}
.MJXp-scale1 {-webkit-transform: scaleX(.1); -moz-transform: scaleX(.1); -ms-transform: scaleX(.1); -o-transform: scaleX(.1); transform: scaleX(.1)}
.MJXp-scale2 {-webkit-transform: scaleX(.2); -moz-transform: scaleX(.2); -ms-transform: scaleX(.2); -o-transform: scaleX(.2); transform: scaleX(.2)}
.MJXp-scale3 {-webkit-transform: scaleX(.3); -moz-transform: scaleX(.3); -ms-transform: scaleX(.3); -o-transform: scaleX(.3); transform: scaleX(.3)}
.MJXp-scale4 {-webkit-transform: scaleX(.4); -moz-transform: scaleX(.4); -ms-transform: scaleX(.4); -o-transform: scaleX(.4); transform: scaleX(.4)}
.MJXp-scale5 {-webkit-transform: scaleX(.5); -moz-transform: scaleX(.5); -ms-transform: scaleX(.5); -o-transform: scaleX(.5); transform: scaleX(.5)}
.MJXp-scale6 {-webkit-transform: scaleX(.6); -moz-transform: scaleX(.6); -ms-transform: scaleX(.6); -o-transform: scaleX(.6); transform: scaleX(.6)}
.MJXp-scale7 {-webkit-transform: scaleX(.7); -moz-transform: scaleX(.7); -ms-transform: scaleX(.7); -o-transform: scaleX(.7); transform: scaleX(.7)}
.MJXp-scale8 {-webkit-transform: scaleX(.8); -moz-transform: scaleX(.8); -ms-transform: scaleX(.8); -o-transform: scaleX(.8); transform: scaleX(.8)}
.MJXp-scale9 {-webkit-transform: scaleX(.9); -moz-transform: scaleX(.9); -ms-transform: scaleX(.9); -o-transform: scaleX(.9); transform: scaleX(.9)}
.MathJax_PHTML .noError {vertical-align: ; font-size: 90%; text-align: left; color: black; padding: 1px 3px; border: 1px solid}
</style><script async="async" type="text/javascript" src="./spam or ham_files/markdown.js.download"></script><script src="./spam or ham_files/api.js.download" nonce=""></script><script src="./spam or ham_files/api(1).js.download" nonce=""></script><style type="text/css" media="screen" class="monaco-colors">.codicon-add:before { content: '\ea60'; }
.codicon-plus:before { content: '\ea60'; }
.codicon-gist-new:before { content: '\ea60'; }
.codicon-repo-create:before { content: '\ea60'; }
.codicon-lightbulb:before { content: '\ea61'; }
.codicon-light-bulb:before { content: '\ea61'; }
.codicon-repo:before { content: '\ea62'; }
.codicon-repo-delete:before { content: '\ea62'; }
.codicon-gist-fork:before { content: '\ea63'; }
.codicon-repo-forked:before { content: '\ea63'; }
.codicon-git-pull-request:before { content: '\ea64'; }
.codicon-git-pull-request-abandoned:before { content: '\ea64'; }
.codicon-record-keys:before { content: '\ea65'; }
.codicon-keyboard:before { content: '\ea65'; }
.codicon-tag:before { content: '\ea66'; }
.codicon-tag-add:before { content: '\ea66'; }
.codicon-tag-remove:before { content: '\ea66'; }
.codicon-person:before { content: '\ea67'; }
.codicon-person-follow:before { content: '\ea67'; }
.codicon-person-outline:before { content: '\ea67'; }
.codicon-person-filled:before { content: '\ea67'; }
.codicon-git-branch:before { content: '\ea68'; }
.codicon-git-branch-create:before { content: '\ea68'; }
.codicon-git-branch-delete:before { content: '\ea68'; }
.codicon-source-control:before { content: '\ea68'; }
.codicon-mirror:before { content: '\ea69'; }
.codicon-mirror-public:before { content: '\ea69'; }
.codicon-star:before { content: '\ea6a'; }
.codicon-star-add:before { content: '\ea6a'; }
.codicon-star-delete:before { content: '\ea6a'; }
.codicon-star-empty:before { content: '\ea6a'; }
.codicon-comment:before { content: '\ea6b'; }
.codicon-comment-add:before { content: '\ea6b'; }
.codicon-alert:before { content: '\ea6c'; }
.codicon-warning:before { content: '\ea6c'; }
.codicon-search:before { content: '\ea6d'; }
.codicon-search-save:before { content: '\ea6d'; }
.codicon-log-out:before { content: '\ea6e'; }
.codicon-sign-out:before { content: '\ea6e'; }
.codicon-log-in:before { content: '\ea6f'; }
.codicon-sign-in:before { content: '\ea6f'; }
.codicon-eye:before { content: '\ea70'; }
.codicon-eye-unwatch:before { content: '\ea70'; }
.codicon-eye-watch:before { content: '\ea70'; }
.codicon-circle-filled:before { content: '\ea71'; }
.codicon-primitive-dot:before { content: '\ea71'; }
.codicon-close-dirty:before { content: '\ea71'; }
.codicon-debug-breakpoint:before { content: '\ea71'; }
.codicon-debug-breakpoint-disabled:before { content: '\ea71'; }
.codicon-debug-hint:before { content: '\ea71'; }
.codicon-primitive-square:before { content: '\ea72'; }
.codicon-edit:before { content: '\ea73'; }
.codicon-pencil:before { content: '\ea73'; }
.codicon-info:before { content: '\ea74'; }
.codicon-issue-opened:before { content: '\ea74'; }
.codicon-gist-private:before { content: '\ea75'; }
.codicon-git-fork-private:before { content: '\ea75'; }
.codicon-lock:before { content: '\ea75'; }
.codicon-mirror-private:before { content: '\ea75'; }
.codicon-close:before { content: '\ea76'; }
.codicon-remove-close:before { content: '\ea76'; }
.codicon-x:before { content: '\ea76'; }
.codicon-repo-sync:before { content: '\ea77'; }
.codicon-sync:before { content: '\ea77'; }
.codicon-clone:before { content: '\ea78'; }
.codicon-desktop-download:before { content: '\ea78'; }
.codicon-beaker:before { content: '\ea79'; }
.codicon-microscope:before { content: '\ea79'; }
.codicon-vm:before { content: '\ea7a'; }
.codicon-device-desktop:before { content: '\ea7a'; }
.codicon-file:before { content: '\ea7b'; }
.codicon-file-text:before { content: '\ea7b'; }
.codicon-more:before { content: '\ea7c'; }
.codicon-ellipsis:before { content: '\ea7c'; }
.codicon-kebab-horizontal:before { content: '\ea7c'; }
.codicon-mail-reply:before { content: '\ea7d'; }
.codicon-reply:before { content: '\ea7d'; }
.codicon-organization:before { content: '\ea7e'; }
.codicon-organization-filled:before { content: '\ea7e'; }
.codicon-organization-outline:before { content: '\ea7e'; }
.codicon-new-file:before { content: '\ea7f'; }
.codicon-file-add:before { content: '\ea7f'; }
.codicon-new-folder:before { content: '\ea80'; }
.codicon-file-directory-create:before { content: '\ea80'; }
.codicon-trash:before { content: '\ea81'; }
.codicon-trashcan:before { content: '\ea81'; }
.codicon-history:before { content: '\ea82'; }
.codicon-clock:before { content: '\ea82'; }
.codicon-folder:before { content: '\ea83'; }
.codicon-file-directory:before { content: '\ea83'; }
.codicon-symbol-folder:before { content: '\ea83'; }
.codicon-logo-github:before { content: '\ea84'; }
.codicon-mark-github:before { content: '\ea84'; }
.codicon-github:before { content: '\ea84'; }
.codicon-terminal:before { content: '\ea85'; }
.codicon-console:before { content: '\ea85'; }
.codicon-repl:before { content: '\ea85'; }
.codicon-zap:before { content: '\ea86'; }
.codicon-symbol-event:before { content: '\ea86'; }
.codicon-error:before { content: '\ea87'; }
.codicon-stop:before { content: '\ea87'; }
.codicon-variable:before { content: '\ea88'; }
.codicon-symbol-variable:before { content: '\ea88'; }
.codicon-array:before { content: '\ea8a'; }
.codicon-symbol-array:before { content: '\ea8a'; }
.codicon-symbol-module:before { content: '\ea8b'; }
.codicon-symbol-package:before { content: '\ea8b'; }
.codicon-symbol-namespace:before { content: '\ea8b'; }
.codicon-symbol-object:before { content: '\ea8b'; }
.codicon-symbol-method:before { content: '\ea8c'; }
.codicon-symbol-function:before { content: '\ea8c'; }
.codicon-symbol-constructor:before { content: '\ea8c'; }
.codicon-symbol-boolean:before { content: '\ea8f'; }
.codicon-symbol-null:before { content: '\ea8f'; }
.codicon-symbol-numeric:before { content: '\ea90'; }
.codicon-symbol-number:before { content: '\ea90'; }
.codicon-symbol-structure:before { content: '\ea91'; }
.codicon-symbol-struct:before { content: '\ea91'; }
.codicon-symbol-parameter:before { content: '\ea92'; }
.codicon-symbol-type-parameter:before { content: '\ea92'; }
.codicon-symbol-key:before { content: '\ea93'; }
.codicon-symbol-text:before { content: '\ea93'; }
.codicon-symbol-reference:before { content: '\ea94'; }
.codicon-go-to-file:before { content: '\ea94'; }
.codicon-symbol-enum:before { content: '\ea95'; }
.codicon-symbol-value:before { content: '\ea95'; }
.codicon-symbol-ruler:before { content: '\ea96'; }
.codicon-symbol-unit:before { content: '\ea96'; }
.codicon-activate-breakpoints:before { content: '\ea97'; }
.codicon-archive:before { content: '\ea98'; }
.codicon-arrow-both:before { content: '\ea99'; }
.codicon-arrow-down:before { content: '\ea9a'; }
.codicon-arrow-left:before { content: '\ea9b'; }
.codicon-arrow-right:before { content: '\ea9c'; }
.codicon-arrow-small-down:before { content: '\ea9d'; }
.codicon-arrow-small-left:before { content: '\ea9e'; }
.codicon-arrow-small-right:before { content: '\ea9f'; }
.codicon-arrow-small-up:before { content: '\eaa0'; }
.codicon-arrow-up:before { content: '\eaa1'; }
.codicon-bell:before { content: '\eaa2'; }
.codicon-bold:before { content: '\eaa3'; }
.codicon-book:before { content: '\eaa4'; }
.codicon-bookmark:before { content: '\eaa5'; }
.codicon-debug-breakpoint-conditional-unverified:before { content: '\eaa6'; }
.codicon-debug-breakpoint-conditional:before { content: '\eaa7'; }
.codicon-debug-breakpoint-conditional-disabled:before { content: '\eaa7'; }
.codicon-debug-breakpoint-data-unverified:before { content: '\eaa8'; }
.codicon-debug-breakpoint-data:before { content: '\eaa9'; }
.codicon-debug-breakpoint-data-disabled:before { content: '\eaa9'; }
.codicon-debug-breakpoint-log-unverified:before { content: '\eaaa'; }
.codicon-debug-breakpoint-log:before { content: '\eaab'; }
.codicon-debug-breakpoint-log-disabled:before { content: '\eaab'; }
.codicon-briefcase:before { content: '\eaac'; }
.codicon-broadcast:before { content: '\eaad'; }
.codicon-browser:before { content: '\eaae'; }
.codicon-bug:before { content: '\eaaf'; }
.codicon-calendar:before { content: '\eab0'; }
.codicon-case-sensitive:before { content: '\eab1'; }
.codicon-check:before { content: '\eab2'; }
.codicon-checklist:before { content: '\eab3'; }
.codicon-chevron-down:before { content: '\eab4'; }
.codicon-drop-down-button:before { content: '\eab4'; }
.codicon-chevron-left:before { content: '\eab5'; }
.codicon-chevron-right:before { content: '\eab6'; }
.codicon-chevron-up:before { content: '\eab7'; }
.codicon-chrome-close:before { content: '\eab8'; }
.codicon-chrome-maximize:before { content: '\eab9'; }
.codicon-chrome-minimize:before { content: '\eaba'; }
.codicon-chrome-restore:before { content: '\eabb'; }
.codicon-circle:before { content: '\eabc'; }
.codicon-circle-outline:before { content: '\eabc'; }
.codicon-debug-breakpoint-unverified:before { content: '\eabc'; }
.codicon-circle-slash:before { content: '\eabd'; }
.codicon-circuit-board:before { content: '\eabe'; }
.codicon-clear-all:before { content: '\eabf'; }
.codicon-clippy:before { content: '\eac0'; }
.codicon-close-all:before { content: '\eac1'; }
.codicon-cloud-download:before { content: '\eac2'; }
.codicon-cloud-upload:before { content: '\eac3'; }
.codicon-code:before { content: '\eac4'; }
.codicon-collapse-all:before { content: '\eac5'; }
.codicon-color-mode:before { content: '\eac6'; }
.codicon-comment-discussion:before { content: '\eac7'; }
.codicon-compare-changes:before { content: '\eafd'; }
.codicon-credit-card:before { content: '\eac9'; }
.codicon-dash:before { content: '\eacc'; }
.codicon-dashboard:before { content: '\eacd'; }
.codicon-database:before { content: '\eace'; }
.codicon-debug-continue:before { content: '\eacf'; }
.codicon-debug-disconnect:before { content: '\ead0'; }
.codicon-debug-pause:before { content: '\ead1'; }
.codicon-debug-restart:before { content: '\ead2'; }
.codicon-debug-start:before { content: '\ead3'; }
.codicon-debug-step-into:before { content: '\ead4'; }
.codicon-debug-step-out:before { content: '\ead5'; }
.codicon-debug-step-over:before { content: '\ead6'; }
.codicon-debug-stop:before { content: '\ead7'; }
.codicon-debug:before { content: '\ead8'; }
.codicon-device-camera-video:before { content: '\ead9'; }
.codicon-device-camera:before { content: '\eada'; }
.codicon-device-mobile:before { content: '\eadb'; }
.codicon-diff-added:before { content: '\eadc'; }
.codicon-diff-ignored:before { content: '\eadd'; }
.codicon-diff-modified:before { content: '\eade'; }
.codicon-diff-removed:before { content: '\eadf'; }
.codicon-diff-renamed:before { content: '\eae0'; }
.codicon-diff:before { content: '\eae1'; }
.codicon-discard:before { content: '\eae2'; }
.codicon-editor-layout:before { content: '\eae3'; }
.codicon-empty-window:before { content: '\eae4'; }
.codicon-exclude:before { content: '\eae5'; }
.codicon-extensions:before { content: '\eae6'; }
.codicon-eye-closed:before { content: '\eae7'; }
.codicon-file-binary:before { content: '\eae8'; }
.codicon-file-code:before { content: '\eae9'; }
.codicon-file-media:before { content: '\eaea'; }
.codicon-file-pdf:before { content: '\eaeb'; }
.codicon-file-submodule:before { content: '\eaec'; }
.codicon-file-symlink-directory:before { content: '\eaed'; }
.codicon-file-symlink-file:before { content: '\eaee'; }
.codicon-file-zip:before { content: '\eaef'; }
.codicon-files:before { content: '\eaf0'; }
.codicon-filter:before { content: '\eaf1'; }
.codicon-flame:before { content: '\eaf2'; }
.codicon-fold-down:before { content: '\eaf3'; }
.codicon-fold-up:before { content: '\eaf4'; }
.codicon-fold:before { content: '\eaf5'; }
.codicon-folder-active:before { content: '\eaf6'; }
.codicon-folder-opened:before { content: '\eaf7'; }
.codicon-gear:before { content: '\eaf8'; }
.codicon-gift:before { content: '\eaf9'; }
.codicon-gist-secret:before { content: '\eafa'; }
.codicon-gist:before { content: '\eafb'; }
.codicon-git-commit:before { content: '\eafc'; }
.codicon-git-compare:before { content: '\eafd'; }
.codicon-git-merge:before { content: '\eafe'; }
.codicon-github-action:before { content: '\eaff'; }
.codicon-github-alt:before { content: '\eb00'; }
.codicon-globe:before { content: '\eb01'; }
.codicon-grabber:before { content: '\eb02'; }
.codicon-graph:before { content: '\eb03'; }
.codicon-gripper:before { content: '\eb04'; }
.codicon-heart:before { content: '\eb05'; }
.codicon-home:before { content: '\eb06'; }
.codicon-horizontal-rule:before { content: '\eb07'; }
.codicon-hubot:before { content: '\eb08'; }
.codicon-inbox:before { content: '\eb09'; }
.codicon-issue-closed:before { content: '\eba4'; }
.codicon-issue-reopened:before { content: '\eb0b'; }
.codicon-issues:before { content: '\eb0c'; }
.codicon-italic:before { content: '\eb0d'; }
.codicon-jersey:before { content: '\eb0e'; }
.codicon-json:before { content: '\eb0f'; }
.codicon-bracket:before { content: '\eb0f'; }
.codicon-kebab-vertical:before { content: '\eb10'; }
.codicon-key:before { content: '\eb11'; }
.codicon-law:before { content: '\eb12'; }
.codicon-lightbulb-autofix:before { content: '\eb13'; }
.codicon-link-external:before { content: '\eb14'; }
.codicon-link:before { content: '\eb15'; }
.codicon-list-ordered:before { content: '\eb16'; }
.codicon-list-unordered:before { content: '\eb17'; }
.codicon-live-share:before { content: '\eb18'; }
.codicon-loading:before { content: '\eb19'; }
.codicon-location:before { content: '\eb1a'; }
.codicon-mail-read:before { content: '\eb1b'; }
.codicon-mail:before { content: '\eb1c'; }
.codicon-markdown:before { content: '\eb1d'; }
.codicon-megaphone:before { content: '\eb1e'; }
.codicon-mention:before { content: '\eb1f'; }
.codicon-milestone:before { content: '\eb20'; }
.codicon-mortar-board:before { content: '\eb21'; }
.codicon-move:before { content: '\eb22'; }
.codicon-multiple-windows:before { content: '\eb23'; }
.codicon-mute:before { content: '\eb24'; }
.codicon-no-newline:before { content: '\eb25'; }
.codicon-note:before { content: '\eb26'; }
.codicon-octoface:before { content: '\eb27'; }
.codicon-open-preview:before { content: '\eb28'; }
.codicon-package:before { content: '\eb29'; }
.codicon-paintcan:before { content: '\eb2a'; }
.codicon-pin:before { content: '\eb2b'; }
.codicon-play:before { content: '\eb2c'; }
.codicon-run:before { content: '\eb2c'; }
.codicon-plug:before { content: '\eb2d'; }
.codicon-preserve-case:before { content: '\eb2e'; }
.codicon-preview:before { content: '\eb2f'; }
.codicon-project:before { content: '\eb30'; }
.codicon-pulse:before { content: '\eb31'; }
.codicon-question:before { content: '\eb32'; }
.codicon-quote:before { content: '\eb33'; }
.codicon-radio-tower:before { content: '\eb34'; }
.codicon-reactions:before { content: '\eb35'; }
.codicon-references:before { content: '\eb36'; }
.codicon-refresh:before { content: '\eb37'; }
.codicon-regex:before { content: '\eb38'; }
.codicon-remote-explorer:before { content: '\eb39'; }
.codicon-remote:before { content: '\eb3a'; }
.codicon-remove:before { content: '\eb3b'; }
.codicon-replace-all:before { content: '\eb3c'; }
.codicon-replace:before { content: '\eb3d'; }
.codicon-repo-clone:before { content: '\eb3e'; }
.codicon-repo-force-push:before { content: '\eb3f'; }
.codicon-repo-pull:before { content: '\eb40'; }
.codicon-repo-push:before { content: '\eb41'; }
.codicon-report:before { content: '\eb42'; }
.codicon-request-changes:before { content: '\eb43'; }
.codicon-rocket:before { content: '\eb44'; }
.codicon-root-folder-opened:before { content: '\eb45'; }
.codicon-root-folder:before { content: '\eb46'; }
.codicon-rss:before { content: '\eb47'; }
.codicon-ruby:before { content: '\eb48'; }
.codicon-save-all:before { content: '\eb49'; }
.codicon-save-as:before { content: '\eb4a'; }
.codicon-save:before { content: '\eb4b'; }
.codicon-screen-full:before { content: '\eb4c'; }
.codicon-screen-normal:before { content: '\eb4d'; }
.codicon-search-stop:before { content: '\eb4e'; }
.codicon-server:before { content: '\eb50'; }
.codicon-settings-gear:before { content: '\eb51'; }
.codicon-settings:before { content: '\eb52'; }
.codicon-shield:before { content: '\eb53'; }
.codicon-smiley:before { content: '\eb54'; }
.codicon-sort-precedence:before { content: '\eb55'; }
.codicon-split-horizontal:before { content: '\eb56'; }
.codicon-split-vertical:before { content: '\eb57'; }
.codicon-squirrel:before { content: '\eb58'; }
.codicon-star-full:before { content: '\eb59'; }
.codicon-star-half:before { content: '\eb5a'; }
.codicon-symbol-class:before { content: '\eb5b'; }
.codicon-symbol-color:before { content: '\eb5c'; }
.codicon-symbol-customcolor:before { content: '\eb5c'; }
.codicon-symbol-constant:before { content: '\eb5d'; }
.codicon-symbol-enum-member:before { content: '\eb5e'; }
.codicon-symbol-field:before { content: '\eb5f'; }
.codicon-symbol-file:before { content: '\eb60'; }
.codicon-symbol-interface:before { content: '\eb61'; }
.codicon-symbol-keyword:before { content: '\eb62'; }
.codicon-symbol-misc:before { content: '\eb63'; }
.codicon-symbol-operator:before { content: '\eb64'; }
.codicon-symbol-property:before { content: '\eb65'; }
.codicon-wrench:before { content: '\eb65'; }
.codicon-wrench-subaction:before { content: '\eb65'; }
.codicon-symbol-snippet:before { content: '\eb66'; }
.codicon-tasklist:before { content: '\eb67'; }
.codicon-telescope:before { content: '\eb68'; }
.codicon-text-size:before { content: '\eb69'; }
.codicon-three-bars:before { content: '\eb6a'; }
.codicon-thumbsdown:before { content: '\eb6b'; }
.codicon-thumbsup:before { content: '\eb6c'; }
.codicon-tools:before { content: '\eb6d'; }
.codicon-triangle-down:before { content: '\eb6e'; }
.codicon-triangle-left:before { content: '\eb6f'; }
.codicon-triangle-right:before { content: '\eb70'; }
.codicon-triangle-up:before { content: '\eb71'; }
.codicon-twitter:before { content: '\eb72'; }
.codicon-unfold:before { content: '\eb73'; }
.codicon-unlock:before { content: '\eb74'; }
.codicon-unmute:before { content: '\eb75'; }
.codicon-unverified:before { content: '\eb76'; }
.codicon-verified:before { content: '\eb77'; }
.codicon-versions:before { content: '\eb78'; }
.codicon-vm-active:before { content: '\eb79'; }
.codicon-vm-outline:before { content: '\eb7a'; }
.codicon-vm-running:before { content: '\eb7b'; }
.codicon-watch:before { content: '\eb7c'; }
.codicon-whitespace:before { content: '\eb7d'; }
.codicon-whole-word:before { content: '\eb7e'; }
.codicon-window:before { content: '\eb7f'; }
.codicon-word-wrap:before { content: '\eb80'; }
.codicon-zoom-in:before { content: '\eb81'; }
.codicon-zoom-out:before { content: '\eb82'; }
.codicon-list-filter:before { content: '\eb83'; }
.codicon-list-flat:before { content: '\eb84'; }
.codicon-list-selection:before { content: '\eb85'; }
.codicon-selection:before { content: '\eb85'; }
.codicon-list-tree:before { content: '\eb86'; }
.codicon-debug-breakpoint-function-unverified:before { content: '\eb87'; }
.codicon-debug-breakpoint-function:before { content: '\eb88'; }
.codicon-debug-breakpoint-function-disabled:before { content: '\eb88'; }
.codicon-debug-stackframe-active:before { content: '\eb89'; }
.codicon-circle-small-filled:before { content: '\eb8a'; }
.codicon-debug-stackframe-dot:before { content: '\eb8a'; }
.codicon-debug-stackframe:before { content: '\eb8b'; }
.codicon-debug-stackframe-focused:before { content: '\eb8b'; }
.codicon-debug-breakpoint-unsupported:before { content: '\eb8c'; }
.codicon-symbol-string:before { content: '\eb8d'; }
.codicon-debug-reverse-continue:before { content: '\eb8e'; }
.codicon-debug-step-back:before { content: '\eb8f'; }
.codicon-debug-restart-frame:before { content: '\eb90'; }
.codicon-call-incoming:before { content: '\eb92'; }
.codicon-call-outgoing:before { content: '\eb93'; }
.codicon-menu:before { content: '\eb94'; }
.codicon-expand-all:before { content: '\eb95'; }
.codicon-feedback:before { content: '\eb96'; }
.codicon-group-by-ref-type:before { content: '\eb97'; }
.codicon-ungroup-by-ref-type:before { content: '\eb98'; }
.codicon-account:before { content: '\eb99'; }
.codicon-bell-dot:before { content: '\eb9a'; }
.codicon-debug-console:before { content: '\eb9b'; }
.codicon-library:before { content: '\eb9c'; }
.codicon-output:before { content: '\eb9d'; }
.codicon-run-all:before { content: '\eb9e'; }
.codicon-sync-ignored:before { content: '\eb9f'; }
.codicon-pinned:before { content: '\eba0'; }
.codicon-github-inverted:before { content: '\eba1'; }
.codicon-debug-alt:before { content: '\eb91'; }
.codicon-server-process:before { content: '\eba2'; }
.codicon-server-environment:before { content: '\eba3'; }
.codicon-pass:before { content: '\eba4'; }
.codicon-stop-circle:before { content: '\eba5'; }
.codicon-play-circle:before { content: '\eba6'; }
.codicon-record:before { content: '\eba7'; }
.codicon-debug-alt-small:before { content: '\eba8'; }
.codicon-vm-connect:before { content: '\eba9'; }
.codicon-cloud:before { content: '\ebaa'; }
.codicon-merge:before { content: '\ebab'; }
.codicon-export:before { content: '\ebac'; }
.codicon-graph-left:before { content: '\ebad'; }
.codicon-magnet:before { content: '\ebae'; }
.codicon-notebook:before { content: '\ebaf'; }
.codicon-redo:before { content: '\ebb0'; }
.codicon-check-all:before { content: '\ebb1'; }
.codicon-pinned-dirty:before { content: '\ebb2'; }
.codicon-pass-filled:before { content: '\ebb3'; }
.codicon-circle-large-filled:before { content: '\ebb4'; }
.codicon-circle-large:before { content: '\ebb5'; }
.codicon-circle-large-outline:before { content: '\ebb5'; }
.codicon-combine:before { content: '\ebb6'; }
.codicon-gather:before { content: '\ebb6'; }
.codicon-table:before { content: '\ebb7'; }
.codicon-variable-group:before { content: '\ebb8'; }
.codicon-type-hierarchy:before { content: '\ebb9'; }
.codicon-type-hierarchy-sub:before { content: '\ebba'; }
.codicon-type-hierarchy-super:before { content: '\ebbb'; }
.codicon-git-pull-request-create:before { content: '\ebbc'; }
.codicon-run-above:before { content: '\ebbd'; }
.codicon-run-below:before { content: '\ebbe'; }
.codicon-notebook-template:before { content: '\ebbf'; }
.codicon-debug-rerun:before { content: '\ebc0'; }
.codicon-workspace-trusted:before { content: '\ebc1'; }
.codicon-workspace-untrusted:before { content: '\ebc2'; }
.codicon-workspace-unspecified:before { content: '\ebc3'; }
.codicon-terminal-cmd:before { content: '\ebc4'; }
.codicon-terminal-debian:before { content: '\ebc5'; }
.codicon-terminal-linux:before { content: '\ebc6'; }
.codicon-terminal-powershell:before { content: '\ebc7'; }
.codicon-terminal-tmux:before { content: '\ebc8'; }
.codicon-terminal-ubuntu:before { content: '\ebc9'; }
.codicon-terminal-bash:before { content: '\ebca'; }
.codicon-arrow-swap:before { content: '\ebcb'; }
.codicon-copy:before { content: '\ebcc'; }
.codicon-person-add:before { content: '\ebcd'; }
.codicon-filter-filled:before { content: '\ebce'; }
.codicon-wand:before { content: '\ebcf'; }
.codicon-debug-line-by-line:before { content: '\ebd0'; }
.codicon-inspect:before { content: '\ebd1'; }
.codicon-layers:before { content: '\ebd2'; }
.codicon-layers-dot:before { content: '\ebd3'; }
.codicon-layers-active:before { content: '\ebd4'; }
.codicon-compass:before { content: '\ebd5'; }
.codicon-compass-dot:before { content: '\ebd6'; }
.codicon-compass-active:before { content: '\ebd7'; }
.codicon-azure:before { content: '\ebd8'; }
.codicon-issue-draft:before { content: '\ebd9'; }
.codicon-git-pull-request-closed:before { content: '\ebda'; }
.codicon-git-pull-request-draft:before { content: '\ebdb'; }
.codicon-debug-all:before { content: '\ebdc'; }
.codicon-debug-coverage:before { content: '\ebdd'; }
.codicon-run-errors:before { content: '\ebde'; }
.codicon-folder-library:before { content: '\ebdf'; }
.codicon-debug-continue-small:before { content: '\ebe0'; }
.codicon-beaker-stop:before { content: '\ebe1'; }
.codicon-graph-line:before { content: '\ebe2'; }
.codicon-graph-scatter:before { content: '\ebe3'; }
.codicon-pie-chart:before { content: '\ebe4'; }
.codicon-bracket-dot:before { content: '\ebe5'; }
.codicon-bracket-error:before { content: '\ebe6'; }
.codicon-lock-small:before { content: '\ebe7'; }
.codicon-azure-devops:before { content: '\ebe8'; }
.codicon-verified-filled:before { content: '\ebe9'; }
.codicon-newline:before { content: '\ebea'; }
.codicon-layout:before { content: '\ebeb'; }
.codicon-layout-activitybar-left:before { content: '\ebec'; }
.codicon-layout-activitybar-right:before { content: '\ebed'; }
.codicon-layout-panel-left:before { content: '\ebee'; }
.codicon-layout-panel-center:before { content: '\ebef'; }
.codicon-layout-panel-justify:before { content: '\ebf0'; }
.codicon-layout-panel-right:before { content: '\ebf1'; }
.codicon-layout-panel:before { content: '\ebf2'; }
.codicon-layout-sidebar-left:before { content: '\ebf3'; }
.codicon-layout-sidebar-right:before { content: '\ebf4'; }
.codicon-layout-statusbar:before { content: '\ebf5'; }
.codicon-layout-menubar:before { content: '\ebf6'; }
.codicon-layout-centered:before { content: '\ebf7'; }
.codicon-layout-sidebar-right-off:before { content: '\ec00'; }
.codicon-layout-panel-off:before { content: '\ec01'; }
.codicon-layout-sidebar-left-off:before { content: '\ec02'; }
.codicon-target:before { content: '\ebf8'; }
.codicon-indent:before { content: '\ebf9'; }
.codicon-record-small:before { content: '\ebfa'; }
.codicon-error-small:before { content: '\ebfb'; }
.codicon-arrow-circle-down:before { content: '\ebfc'; }
.codicon-arrow-circle-left:before { content: '\ebfd'; }
.codicon-arrow-circle-right:before { content: '\ebfe'; }
.codicon-arrow-circle-up:before { content: '\ebff'; }
.codicon-heart-filled:before { content: '\ec04'; }
.codicon-map:before { content: '\ec05'; }
.codicon-map-filled:before { content: '\ec06'; }
.codicon-circle-small:before { content: '\ec07'; }
.codicon-bell-slash:before { content: '\ec08'; }
.codicon-bell-slash-dot:before { content: '\ec09'; }
.codicon-comment-unresolved:before { content: '\ec0a'; }
.codicon-git-pull-request-go-to-changes:before { content: '\ec0b'; }
.codicon-git-pull-request-new-changes:before { content: '\ec0c'; }
.codicon-search-fuzzy:before { content: '\ec0d'; }
.codicon-comment-draft:before { content: '\ec0e'; }
.codicon-send:before { content: '\ec0f'; }
.codicon-sparkle:before { content: '\ec10'; }
.codicon-insert:before { content: '\ec11'; }
.codicon-dialog-error:before { content: '\ea87'; }
.codicon-dialog-warning:before { content: '\ea6c'; }
.codicon-dialog-info:before { content: '\ea74'; }
.codicon-dialog-close:before { content: '\ea76'; }
.codicon-tree-item-expanded:before { content: '\eab4'; }
.codicon-tree-filter-on-type-on:before { content: '\eb83'; }
.codicon-tree-filter-on-type-off:before { content: '\eb85'; }
.codicon-tree-filter-clear:before { content: '\ea76'; }
.codicon-tree-item-loading:before { content: '\eb19'; }
.codicon-menu-selection:before { content: '\eab2'; }
.codicon-menu-submenu:before { content: '\eab6'; }
.codicon-menubar-more:before { content: '\ea7c'; }
.codicon-scrollbar-button-left:before { content: '\eb6f'; }
.codicon-scrollbar-button-right:before { content: '\eb70'; }
.codicon-scrollbar-button-up:before { content: '\eb71'; }
.codicon-scrollbar-button-down:before { content: '\eb6e'; }
.codicon-toolbar-more:before { content: '\ea7c'; }
.codicon-quick-input-back:before { content: '\ea9b'; }
.codicon-widget-close:before { content: '\ea76'; }
.codicon-goto-previous-location:before { content: '\eaa1'; }
.codicon-goto-next-location:before { content: '\ea9a'; }
.codicon-diff-insert:before { content: '\ea60'; }
.codicon-diff-remove:before { content: '\eb3b'; }
.codicon-folding-expanded:before { content: '\eab4'; }
.codicon-folding-collapsed:before { content: '\eab6'; }
.codicon-folding-manual-collapsed:before { content: '\eab6'; }
.codicon-folding-manual-expanded:before { content: '\eab4'; }
.codicon-diff-review-insert:before { content: '\ea60'; }
.codicon-diff-review-remove:before { content: '\eb3b'; }
.codicon-diff-review-close:before { content: '\ea76'; }
.codicon-find-selection:before { content: '\eb85'; }
.codicon-find-collapsed:before { content: '\eab6'; }
.codicon-find-expanded:before { content: '\eab4'; }
.codicon-find-replace:before { content: '\eb3d'; }
.codicon-find-replace-all:before { content: '\eb3c'; }
.codicon-find-previous-match:before { content: '\eaa1'; }
.codicon-find-next-match:before { content: '\ea9a'; }
.codicon-suggest-more-info:before { content: '\eab6'; }
.codicon-parameter-hints-next:before { content: '\eab4'; }
.codicon-parameter-hints-previous:before { content: '\eab7'; }
.codicon-inline-suggestion-hints-next:before { content: '\eab6'; }
.codicon-inline-suggestion-hints-previous:before { content: '\eab5'; }
.codicon-extensions-warning-message:before { content: '\ea6c'; }
.codicon-marker-navigation-next:before { content: '\ea9a'; }
.codicon-marker-navigation-previous:before { content: '\eaa1'; }
.monaco-editor .inputarea.ime-input { background-color: #1e1e1e; }
.monaco-editor .unexpected-closing-bracket { color: rgba(255, 18, 18, 0.8); }
.monaco-editor .bracket-highlighting-0 { color: #ffd700; }
.monaco-editor .bracket-highlighting-1 { color: #da70d6; }
.monaco-editor .bracket-highlighting-2 { color: #179fff; }
.monaco-editor .bracket-highlighting-3 { color: #ffd700; }
.monaco-editor .bracket-highlighting-4 { color: #da70d6; }
.monaco-editor .bracket-highlighting-5 { color: #179fff; }
.monaco-editor .bracket-highlighting-6 { color: #ffd700; }
.monaco-editor .bracket-highlighting-7 { color: #da70d6; }
.monaco-editor .bracket-highlighting-8 { color: #179fff; }
.monaco-editor .bracket-highlighting-9 { color: #ffd700; }
.monaco-editor .bracket-highlighting-10 { color: #da70d6; }
.monaco-editor .bracket-highlighting-11 { color: #179fff; }
.monaco-editor .bracket-highlighting-12 { color: #ffd700; }
.monaco-editor .bracket-highlighting-13 { color: #da70d6; }
.monaco-editor .bracket-highlighting-14 { color: #179fff; }
.monaco-editor .bracket-highlighting-15 { color: #ffd700; }
.monaco-editor .bracket-highlighting-16 { color: #da70d6; }
.monaco-editor .bracket-highlighting-17 { color: #179fff; }
.monaco-editor .bracket-highlighting-18 { color: #ffd700; }
.monaco-editor .bracket-highlighting-19 { color: #da70d6; }
.monaco-editor .bracket-highlighting-20 { color: #179fff; }
.monaco-editor .bracket-highlighting-21 { color: #ffd700; }
.monaco-editor .bracket-highlighting-22 { color: #da70d6; }
.monaco-editor .bracket-highlighting-23 { color: #179fff; }
.monaco-editor .bracket-highlighting-24 { color: #ffd700; }
.monaco-editor .bracket-highlighting-25 { color: #da70d6; }
.monaco-editor .bracket-highlighting-26 { color: #179fff; }
.monaco-editor .bracket-highlighting-27 { color: #ffd700; }
.monaco-editor .bracket-highlighting-28 { color: #da70d6; }
.monaco-editor .bracket-highlighting-29 { color: #179fff; }
.monaco-editor .view-overlays .current-line { border: 2px solid #282828; }
.monaco-editor .margin-view-overlays .current-line-margin { border: 2px solid #282828; }
.monaco-editor .bracket-indent-guide.lvl-0 { --guide-color: rgba(255, 215, 0, 0.3); --guide-color-active: #ffd700; }
.monaco-editor .bracket-indent-guide.lvl-1 { --guide-color: rgba(218, 112, 214, 0.3); --guide-color-active: #da70d6; }
.monaco-editor .bracket-indent-guide.lvl-2 { --guide-color: rgba(23, 159, 255, 0.3); --guide-color-active: #179fff; }
.monaco-editor .bracket-indent-guide.lvl-3 { --guide-color: rgba(255, 215, 0, 0.3); --guide-color-active: #ffd700; }
.monaco-editor .bracket-indent-guide.lvl-4 { --guide-color: rgba(218, 112, 214, 0.3); --guide-color-active: #da70d6; }
.monaco-editor .bracket-indent-guide.lvl-5 { --guide-color: rgba(23, 159, 255, 0.3); --guide-color-active: #179fff; }
.monaco-editor .bracket-indent-guide.lvl-6 { --guide-color: rgba(255, 215, 0, 0.3); --guide-color-active: #ffd700; }
.monaco-editor .bracket-indent-guide.lvl-7 { --guide-color: rgba(218, 112, 214, 0.3); --guide-color-active: #da70d6; }
.monaco-editor .bracket-indent-guide.lvl-8 { --guide-color: rgba(23, 159, 255, 0.3); --guide-color-active: #179fff; }
.monaco-editor .bracket-indent-guide.lvl-9 { --guide-color: rgba(255, 215, 0, 0.3); --guide-color-active: #ffd700; }
.monaco-editor .bracket-indent-guide.lvl-10 { --guide-color: rgba(218, 112, 214, 0.3); --guide-color-active: #da70d6; }
.monaco-editor .bracket-indent-guide.lvl-11 { --guide-color: rgba(23, 159, 255, 0.3); --guide-color-active: #179fff; }
.monaco-editor .bracket-indent-guide.lvl-12 { --guide-color: rgba(255, 215, 0, 0.3); --guide-color-active: #ffd700; }
.monaco-editor .bracket-indent-guide.lvl-13 { --guide-color: rgba(218, 112, 214, 0.3); --guide-color-active: #da70d6; }
.monaco-editor .bracket-indent-guide.lvl-14 { --guide-color: rgba(23, 159, 255, 0.3); --guide-color-active: #179fff; }
.monaco-editor .bracket-indent-guide.lvl-15 { --guide-color: rgba(255, 215, 0, 0.3); --guide-color-active: #ffd700; }
.monaco-editor .bracket-indent-guide.lvl-16 { --guide-color: rgba(218, 112, 214, 0.3); --guide-color-active: #da70d6; }
.monaco-editor .bracket-indent-guide.lvl-17 { --guide-color: rgba(23, 159, 255, 0.3); --guide-color-active: #179fff; }
.monaco-editor .bracket-indent-guide.lvl-18 { --guide-color: rgba(255, 215, 0, 0.3); --guide-color-active: #ffd700; }
.monaco-editor .bracket-indent-guide.lvl-19 { --guide-color: rgba(218, 112, 214, 0.3); --guide-color-active: #da70d6; }
.monaco-editor .bracket-indent-guide.lvl-20 { --guide-color: rgba(23, 159, 255, 0.3); --guide-color-active: #179fff; }
.monaco-editor .bracket-indent-guide.lvl-21 { --guide-color: rgba(255, 215, 0, 0.3); --guide-color-active: #ffd700; }
.monaco-editor .bracket-indent-guide.lvl-22 { --guide-color: rgba(218, 112, 214, 0.3); --guide-color-active: #da70d6; }
.monaco-editor .bracket-indent-guide.lvl-23 { --guide-color: rgba(23, 159, 255, 0.3); --guide-color-active: #179fff; }
.monaco-editor .bracket-indent-guide.lvl-24 { --guide-color: rgba(255, 215, 0, 0.3); --guide-color-active: #ffd700; }
.monaco-editor .bracket-indent-guide.lvl-25 { --guide-color: rgba(218, 112, 214, 0.3); --guide-color-active: #da70d6; }
.monaco-editor .bracket-indent-guide.lvl-26 { --guide-color: rgba(23, 159, 255, 0.3); --guide-color-active: #179fff; }
.monaco-editor .bracket-indent-guide.lvl-27 { --guide-color: rgba(255, 215, 0, 0.3); --guide-color-active: #ffd700; }
.monaco-editor .bracket-indent-guide.lvl-28 { --guide-color: rgba(218, 112, 214, 0.3); --guide-color-active: #da70d6; }
.monaco-editor .bracket-indent-guide.lvl-29 { --guide-color: rgba(23, 159, 255, 0.3); --guide-color-active: #179fff; }
.monaco-editor .vertical { box-shadow: 1px 0 0 0 var(--guide-color) inset; }
.monaco-editor .horizontal-top { border-top: 1px solid var(--guide-color); }
.monaco-editor .horizontal-bottom { border-bottom: 1px solid var(--guide-color); }
.monaco-editor .vertical.indent-active { box-shadow: 1px 0 0 0 var(--guide-color-active) inset; }
.monaco-editor .horizontal-top.indent-active { border-top: 1px solid var(--guide-color-active); }
.monaco-editor .horizontal-bottom.indent-active { border-bottom: 1px solid var(--guide-color-active); }
.monaco-editor .line-numbers.dimmed-line-number { color: rgba(133, 133, 133, 0.4); }
.monaco-editor .cursors-layer .cursor { background-color: #aeafad; border-color: #aeafad; color: #515052; }
.monaco-editor .squiggly-error { background: url("data:image/svg+xml,%3Csvg%20xmlns%3D'http%3A%2F%2Fwww.w3.org%2F2000%2Fsvg'%20viewBox%3D'0%200%206%203'%20enable-background%3D'new%200%200%206%203'%20height%3D'3'%20width%3D'6'%3E%3Cg%20fill%3D'%23f14c4c'%3E%3Cpolygon%20points%3D'5.5%2C0%202.5%2C3%201.1%2C3%204.1%2C0'%2F%3E%3Cpolygon%20points%3D'4%2C0%206%2C2%206%2C0.6%205.4%2C0'%2F%3E%3Cpolygon%20points%3D'0%2C2%201%2C3%202.4%2C3%200%2C0.6'%2F%3E%3C%2Fg%3E%3C%2Fsvg%3E") repeat-x bottom left; }
.monaco-editor .squiggly-warning { background: url("data:image/svg+xml,%3Csvg%20xmlns%3D'http%3A%2F%2Fwww.w3.org%2F2000%2Fsvg'%20viewBox%3D'0%200%206%203'%20enable-background%3D'new%200%200%206%203'%20height%3D'3'%20width%3D'6'%3E%3Cg%20fill%3D'%23cca700'%3E%3Cpolygon%20points%3D'5.5%2C0%202.5%2C3%201.1%2C3%204.1%2C0'%2F%3E%3Cpolygon%20points%3D'4%2C0%206%2C2%206%2C0.6%205.4%2C0'%2F%3E%3Cpolygon%20points%3D'0%2C2%201%2C3%202.4%2C3%200%2C0.6'%2F%3E%3C%2Fg%3E%3C%2Fsvg%3E") repeat-x bottom left; }
.monaco-editor .squiggly-info { background: url("data:image/svg+xml,%3Csvg%20xmlns%3D'http%3A%2F%2Fwww.w3.org%2F2000%2Fsvg'%20viewBox%3D'0%200%206%203'%20enable-background%3D'new%200%200%206%203'%20height%3D'3'%20width%3D'6'%3E%3Cg%20fill%3D'%233794ff'%3E%3Cpolygon%20points%3D'5.5%2C0%202.5%2C3%201.1%2C3%204.1%2C0'%2F%3E%3Cpolygon%20points%3D'4%2C0%206%2C2%206%2C0.6%205.4%2C0'%2F%3E%3Cpolygon%20points%3D'0%2C2%201%2C3%202.4%2C3%200%2C0.6'%2F%3E%3C%2Fg%3E%3C%2Fsvg%3E") repeat-x bottom left; }
.monaco-editor .squiggly-hint { background: url("data:image/svg+xml,%3Csvg%20xmlns%3D%22http%3A%2F%2Fwww.w3.org%2F2000%2Fsvg%22%20height%3D%223%22%20width%3D%2212%22%3E%3Cg%20fill%3D%22rgba(238%2C%20238%2C%20238%2C%200.7)%22%3E%3Ccircle%20cx%3D%221%22%20cy%3D%221%22%20r%3D%221%22%2F%3E%3Ccircle%20cx%3D%225%22%20cy%3D%221%22%20r%3D%221%22%2F%3E%3Ccircle%20cx%3D%229%22%20cy%3D%221%22%20r%3D%221%22%2F%3E%3C%2Fg%3E%3C%2Fsvg%3E") no-repeat bottom left; }
.monaco-editor.showUnused .squiggly-inline-unnecessary { opacity: 0.667; }

	.monaco-editor .diagonal-fill {
		background-image: linear-gradient(
			-45deg,
			rgba(204, 204, 204, 0.2) 12.5%,
			#0000 12.5%, #0000 50%,
			rgba(204, 204, 204, 0.2) 50%, rgba(204, 204, 204, 0.2) 62.5%,
			#0000 62.5%, #0000 100%
		);
		background-size: 8px 8px;
	}
	
.monaco-editor .findMatch { background-color: rgba(234, 92, 0, 0.33); }
.monaco-editor .currentFindMatch { background-color: #515c6a; }
.monaco-editor .findScope { background-color: rgba(58, 61, 65, 0.4); }
.monaco-editor .find-widget { background-color: #252526; }
.monaco-editor .find-widget { box-shadow: 0 0 8px 2px rgba(0, 0, 0, 0.36); }
.monaco-editor .find-widget { color: #cccccc; }
.monaco-editor .find-widget.no-results .matchesCount { color: #f48771; }
.monaco-editor .find-widget .monaco-sash { background-color: #454545; }

		.monaco-editor .find-widget .button:not(.disabled):hover,
		.monaco-editor .find-widget .codicon-find-selection:hover {
			background-color: rgba(90, 93, 94, 0.31) !important;
		}
	
.monaco-editor .find-widget .monaco-inputbox.synthetic-focus { outline-color: #007fd4; }
.monaco-editor .selectionHighlight { background-color: rgba(173, 214, 255, 0.07); }
.monaco-editor .monaco-hover .hover-row:not(:first-child):not(:empty) { border-top: 1px solid rgba(69, 69, 69, 0.5); }
.monaco-editor .monaco-hover hr { border-top: 1px solid rgba(69, 69, 69, 0.5); }
.monaco-editor .monaco-hover hr { border-bottom: 0px solid rgba(69, 69, 69, 0.5); }
.monaco-editor { --vscode-foreground: #cccccc;
--vscode-disabledForeground: rgba(204, 204, 204, 0.5);
--vscode-errorForeground: #f48771;
--vscode-descriptionForeground: rgba(204, 204, 204, 0.7);
--vscode-icon-foreground: #c5c5c5;
--vscode-focusBorder: #007fd4;
--vscode-textSeparator-foreground: rgba(255, 255, 255, 0.18);
--vscode-textLink-foreground: #3794ff;
--vscode-textLink-activeForeground: #3794ff;
--vscode-textPreformat-foreground: #d7ba7d;
--vscode-textBlockQuote-background: rgba(127, 127, 127, 0.1);
--vscode-textBlockQuote-border: rgba(0, 122, 204, 0.5);
--vscode-textCodeBlock-background: rgba(10, 10, 10, 0.4);
--vscode-widget-shadow: rgba(0, 0, 0, 0.36);
--vscode-input-background: #3c3c3c;
--vscode-input-foreground: #cccccc;
--vscode-inputOption-activeBorder: #007acc;
--vscode-inputOption-hoverBackground: rgba(90, 93, 94, 0.5);
--vscode-inputOption-activeBackground: rgba(0, 127, 212, 0.4);
--vscode-inputOption-activeForeground: #ffffff;
--vscode-input-placeholderForeground: rgba(204, 204, 204, 0.5);
--vscode-inputValidation-infoBackground: #063b49;
--vscode-inputValidation-infoBorder: #007acc;
--vscode-inputValidation-warningBackground: #352a05;
--vscode-inputValidation-warningBorder: #b89500;
--vscode-inputValidation-errorBackground: #5a1d1d;
--vscode-inputValidation-errorBorder: #be1100;
--vscode-dropdown-background: #3c3c3c;
--vscode-dropdown-foreground: #f0f0f0;
--vscode-dropdown-border: #3c3c3c;
--vscode-button-foreground: #ffffff;
--vscode-button-separator: rgba(255, 255, 255, 0.4);
--vscode-button-background: #0e639c;
--vscode-button-hoverBackground: #1177bb;
--vscode-button-secondaryForeground: #ffffff;
--vscode-button-secondaryBackground: #3a3d41;
--vscode-button-secondaryHoverBackground: #45494e;
--vscode-badge-background: #4d4d4d;
--vscode-badge-foreground: #ffffff;
--vscode-scrollbar-shadow: #000000;
--vscode-scrollbarSlider-background: rgba(121, 121, 121, 0.4);
--vscode-scrollbarSlider-hoverBackground: rgba(100, 100, 100, 0.7);
--vscode-scrollbarSlider-activeBackground: rgba(191, 191, 191, 0.4);
--vscode-progressBar-background: #0e70c0;
--vscode-editorError-foreground: #f14c4c;
--vscode-editorWarning-foreground: #cca700;
--vscode-editorInfo-foreground: #3794ff;
--vscode-editorHint-foreground: rgba(238, 238, 238, 0.7);
--vscode-sash-hoverBorder: #007fd4;
--vscode-editor-background: #1e1e1e;
--vscode-editor-foreground: #d4d4d4;
--vscode-editorStickyScroll-background: #1e1e1e;
--vscode-editorStickyScrollHover-background: #2a2d2e;
--vscode-editorWidget-background: #252526;
--vscode-editorWidget-foreground: #cccccc;
--vscode-editorWidget-border: #454545;
--vscode-quickInput-background: #252526;
--vscode-quickInput-foreground: #cccccc;
--vscode-quickInputTitle-background: rgba(255, 255, 255, 0.1);
--vscode-pickerGroup-foreground: #3794ff;
--vscode-pickerGroup-border: #3f3f46;
--vscode-keybindingLabel-background: rgba(128, 128, 128, 0.17);
--vscode-keybindingLabel-foreground: #cccccc;
--vscode-keybindingLabel-border: rgba(51, 51, 51, 0.6);
--vscode-keybindingLabel-bottomBorder: rgba(68, 68, 68, 0.6);
--vscode-editor-selectionBackground: #264f78;
--vscode-editor-inactiveSelectionBackground: #3a3d41;
--vscode-editor-selectionHighlightBackground: rgba(173, 214, 255, 0.15);
--vscode-editor-findMatchBackground: #515c6a;
--vscode-editor-findMatchHighlightBackground: rgba(234, 92, 0, 0.33);
--vscode-editor-findRangeHighlightBackground: rgba(58, 61, 65, 0.4);
--vscode-searchEditor-findMatchBackground: rgba(234, 92, 0, 0.22);
--vscode-search-resultsInfoForeground: rgba(204, 204, 204, 0.65);
--vscode-editor-hoverHighlightBackground: rgba(38, 79, 120, 0.25);
--vscode-editorHoverWidget-background: #252526;
--vscode-editorHoverWidget-foreground: #cccccc;
--vscode-editorHoverWidget-border: #454545;
--vscode-editorHoverWidget-statusBarBackground: #2c2c2d;
--vscode-editorLink-activeForeground: #4e94ce;
--vscode-editorInlayHint-foreground: #cccccc;
--vscode-editorInlayHint-background: rgba(77, 77, 77, 0.25);
--vscode-editorInlayHint-typeForeground: #cccccc;
--vscode-editorInlayHint-typeBackground: rgba(77, 77, 77, 0.25);
--vscode-editorInlayHint-parameterForeground: #cccccc;
--vscode-editorInlayHint-parameterBackground: rgba(77, 77, 77, 0.25);
--vscode-editorLightBulb-foreground: #ffcc00;
--vscode-editorLightBulbAutoFix-foreground: #75beff;
--vscode-diffEditor-insertedTextBackground: rgba(156, 204, 44, 0.13);
--vscode-diffEditor-removedTextBackground: rgba(255, 0, 0, 0.14);
--vscode-diffEditor-insertedLineBackground: rgba(156, 204, 44, 0.13);
--vscode-diffEditor-removedLineBackground: rgba(255, 0, 0, 0.14);
--vscode-diffEditor-diagonalFill: rgba(204, 204, 204, 0.2);
--vscode-diffEditor-unchangedRegionBackground: #3e3e3e;
--vscode-diffEditor-unchangedRegionForeground: #a3a2a2;
--vscode-diffEditor-unchangedCodeBackground: rgba(116, 116, 116, 0.16);
--vscode-list-focusOutline: #007fd4;
--vscode-list-activeSelectionBackground: #04395e;
--vscode-list-activeSelectionForeground: #ffffff;
--vscode-list-inactiveSelectionBackground: #37373d;
--vscode-list-hoverBackground: #2a2d2e;
--vscode-list-dropBackground: #062f4a;
--vscode-list-highlightForeground: #2aaaff;
--vscode-list-focusHighlightForeground: #2aaaff;
--vscode-list-invalidItemForeground: #b89500;
--vscode-list-errorForeground: #f88070;
--vscode-list-warningForeground: #cca700;
--vscode-listFilterWidget-background: #252526;
--vscode-listFilterWidget-outline: rgba(0, 0, 0, 0);
--vscode-listFilterWidget-noMatchesOutline: #be1100;
--vscode-listFilterWidget-shadow: rgba(0, 0, 0, 0.36);
--vscode-list-filterMatchBackground: rgba(234, 92, 0, 0.33);
--vscode-tree-indentGuidesStroke: #585858;
--vscode-tree-inactiveIndentGuidesStroke: rgba(88, 88, 88, 0.4);
--vscode-tree-tableColumnsBorder: rgba(204, 204, 204, 0.13);
--vscode-tree-tableOddRowsBackground: rgba(204, 204, 204, 0.04);
--vscode-list-deemphasizedForeground: #8c8c8c;
--vscode-checkbox-background: #3c3c3c;
--vscode-checkbox-selectBackground: #252526;
--vscode-checkbox-foreground: #f0f0f0;
--vscode-checkbox-border: #3c3c3c;
--vscode-checkbox-selectBorder: #c5c5c5;
--vscode-quickInputList-focusForeground: #ffffff;
--vscode-quickInputList-focusBackground: #04395e;
--vscode-menu-foreground: #f0f0f0;
--vscode-menu-background: #3c3c3c;
--vscode-menu-selectionForeground: #ffffff;
--vscode-menu-selectionBackground: #04395e;
--vscode-menu-separatorBackground: #606060;
--vscode-toolbar-hoverBackground: rgba(90, 93, 94, 0.31);
--vscode-toolbar-activeBackground: rgba(99, 102, 103, 0.31);
--vscode-editor-snippetTabstopHighlightBackground: rgba(124, 124, 124, 0.3);
--vscode-editor-snippetFinalTabstopHighlightBorder: #525252;
--vscode-breadcrumb-foreground: rgba(204, 204, 204, 0.8);
--vscode-breadcrumb-background: #1e1e1e;
--vscode-breadcrumb-focusForeground: #e0e0e0;
--vscode-breadcrumb-activeSelectionForeground: #e0e0e0;
--vscode-breadcrumbPicker-background: #252526;
--vscode-merge-currentHeaderBackground: rgba(64, 200, 174, 0.5);
--vscode-merge-currentContentBackground: rgba(64, 200, 174, 0.2);
--vscode-merge-incomingHeaderBackground: rgba(64, 166, 255, 0.5);
--vscode-merge-incomingContentBackground: rgba(64, 166, 255, 0.2);
--vscode-merge-commonHeaderBackground: rgba(96, 96, 96, 0.4);
--vscode-merge-commonContentBackground: rgba(96, 96, 96, 0.16);
--vscode-editorOverviewRuler-currentContentForeground: rgba(64, 200, 174, 0.5);
--vscode-editorOverviewRuler-incomingContentForeground: rgba(64, 166, 255, 0.5);
--vscode-editorOverviewRuler-commonContentForeground: rgba(96, 96, 96, 0.4);
--vscode-editorOverviewRuler-findMatchForeground: rgba(209, 134, 22, 0.49);
--vscode-editorOverviewRuler-selectionHighlightForeground: rgba(160, 160, 160, 0.8);
--vscode-minimap-findMatchHighlight: #d18616;
--vscode-minimap-selectionOccurrenceHighlight: #676767;
--vscode-minimap-selectionHighlight: #264f78;
--vscode-minimap-errorHighlight: rgba(255, 18, 18, 0.7);
--vscode-minimap-warningHighlight: #cca700;
--vscode-minimap-foregroundOpacity: #000000;
--vscode-minimapSlider-background: rgba(121, 121, 121, 0.2);
--vscode-minimapSlider-hoverBackground: rgba(100, 100, 100, 0.35);
--vscode-minimapSlider-activeBackground: rgba(191, 191, 191, 0.2);
--vscode-problemsErrorIcon-foreground: #f14c4c;
--vscode-problemsWarningIcon-foreground: #cca700;
--vscode-problemsInfoIcon-foreground: #3794ff;
--vscode-charts-foreground: #cccccc;
--vscode-charts-lines: rgba(204, 204, 204, 0.5);
--vscode-charts-red: #f14c4c;
--vscode-charts-blue: #3794ff;
--vscode-charts-yellow: #cca700;
--vscode-charts-orange: #d18616;
--vscode-charts-green: #89d185;
--vscode-charts-purple: #b180d7;
--vscode-editor-lineHighlightBorder: #282828;
--vscode-editor-rangeHighlightBackground: rgba(255, 255, 255, 0.04);
--vscode-editor-symbolHighlightBackground: rgba(234, 92, 0, 0.33);
--vscode-editorCursor-foreground: #aeafad;
--vscode-editorWhitespace-foreground: rgba(227, 228, 226, 0.16);
--vscode-editorIndentGuide-background: #404040;
--vscode-editorIndentGuide-activeBackground: #707070;
--vscode-editorLineNumber-foreground: #858585;
--vscode-editorActiveLineNumber-foreground: #c6c6c6;
--vscode-editorLineNumber-activeForeground: #c6c6c6;
--vscode-editorRuler-foreground: #5a5a5a;
--vscode-editorCodeLens-foreground: #999999;
--vscode-editorBracketMatch-background: rgba(0, 100, 0, 0.1);
--vscode-editorBracketMatch-border: #888888;
--vscode-editorOverviewRuler-border: rgba(127, 127, 127, 0.3);
--vscode-editorGutter-background: #1e1e1e;
--vscode-editorUnnecessaryCode-opacity: rgba(0, 0, 0, 0.67);
--vscode-editorGhostText-foreground: rgba(255, 255, 255, 0.34);
--vscode-editorOverviewRuler-rangeHighlightForeground: rgba(0, 122, 204, 0.6);
--vscode-editorOverviewRuler-errorForeground: rgba(255, 18, 18, 0.7);
--vscode-editorOverviewRuler-warningForeground: #cca700;
--vscode-editorOverviewRuler-infoForeground: #3794ff;
--vscode-editorBracketHighlight-foreground1: #ffd700;
--vscode-editorBracketHighlight-foreground2: #da70d6;
--vscode-editorBracketHighlight-foreground3: #179fff;
--vscode-editorBracketHighlight-foreground4: rgba(0, 0, 0, 0);
--vscode-editorBracketHighlight-foreground5: rgba(0, 0, 0, 0);
--vscode-editorBracketHighlight-foreground6: rgba(0, 0, 0, 0);
--vscode-editorBracketHighlight-unexpectedBracket-foreground: rgba(255, 18, 18, 0.8);
--vscode-editorBracketPairGuide-background1: rgba(0, 0, 0, 0);
--vscode-editorBracketPairGuide-background2: rgba(0, 0, 0, 0);
--vscode-editorBracketPairGuide-background3: rgba(0, 0, 0, 0);
--vscode-editorBracketPairGuide-background4: rgba(0, 0, 0, 0);
--vscode-editorBracketPairGuide-background5: rgba(0, 0, 0, 0);
--vscode-editorBracketPairGuide-background6: rgba(0, 0, 0, 0);
--vscode-editorBracketPairGuide-activeBackground1: rgba(0, 0, 0, 0);
--vscode-editorBracketPairGuide-activeBackground2: rgba(0, 0, 0, 0);
--vscode-editorBracketPairGuide-activeBackground3: rgba(0, 0, 0, 0);
--vscode-editorBracketPairGuide-activeBackground4: rgba(0, 0, 0, 0);
--vscode-editorBracketPairGuide-activeBackground5: rgba(0, 0, 0, 0);
--vscode-editorBracketPairGuide-activeBackground6: rgba(0, 0, 0, 0);
--vscode-editorUnicodeHighlight-border: #bd9b03;
--vscode-editorUnicodeHighlight-background: rgba(189, 155, 3, 0.15);
--vscode-editor-foldBackground: rgba(38, 79, 120, 0.3);
--vscode-editorGutter-foldingControlForeground: #c5c5c5;
--vscode-editorOverviewRuler-bracketMatchForeground: #a0a0a0;
--vscode-editor-linkedEditingBackground: rgba(255, 0, 0, 0.3);
--vscode-editorHoverWidget-highlightForeground: #2aaaff;
--vscode-symbolIcon-arrayForeground: #cccccc;
--vscode-symbolIcon-booleanForeground: #cccccc;
--vscode-symbolIcon-classForeground: #ee9d28;
--vscode-symbolIcon-colorForeground: #cccccc;
--vscode-symbolIcon-constantForeground: #cccccc;
--vscode-symbolIcon-constructorForeground: #b180d7;
--vscode-symbolIcon-enumeratorForeground: #ee9d28;
--vscode-symbolIcon-enumeratorMemberForeground: #75beff;
--vscode-symbolIcon-eventForeground: #ee9d28;
--vscode-symbolIcon-fieldForeground: #75beff;
--vscode-symbolIcon-fileForeground: #cccccc;
--vscode-symbolIcon-folderForeground: #cccccc;
--vscode-symbolIcon-functionForeground: #b180d7;
--vscode-symbolIcon-interfaceForeground: #75beff;
--vscode-symbolIcon-keyForeground: #cccccc;
--vscode-symbolIcon-keywordForeground: #cccccc;
--vscode-symbolIcon-methodForeground: #b180d7;
--vscode-symbolIcon-moduleForeground: #cccccc;
--vscode-symbolIcon-namespaceForeground: #cccccc;
--vscode-symbolIcon-nullForeground: #cccccc;
--vscode-symbolIcon-numberForeground: #cccccc;
--vscode-symbolIcon-objectForeground: #cccccc;
--vscode-symbolIcon-operatorForeground: #cccccc;
--vscode-symbolIcon-packageForeground: #cccccc;
--vscode-symbolIcon-propertyForeground: #cccccc;
--vscode-symbolIcon-referenceForeground: #cccccc;
--vscode-symbolIcon-snippetForeground: #cccccc;
--vscode-symbolIcon-stringForeground: #cccccc;
--vscode-symbolIcon-structForeground: #cccccc;
--vscode-symbolIcon-textForeground: #cccccc;
--vscode-symbolIcon-typeParameterForeground: #cccccc;
--vscode-symbolIcon-unitForeground: #cccccc;
--vscode-symbolIcon-variableForeground: #75beff;
--vscode-editor-wordHighlightBackground: rgba(87, 87, 87, 0.72);
--vscode-editor-wordHighlightStrongBackground: rgba(0, 73, 114, 0.72);
--vscode-editor-wordHighlightTextBackground: rgba(87, 87, 87, 0.72);
--vscode-editorOverviewRuler-wordHighlightForeground: rgba(160, 160, 160, 0.8);
--vscode-editorOverviewRuler-wordHighlightStrongForeground: rgba(192, 160, 192, 0.8);
--vscode-editorOverviewRuler-wordHighlightTextForeground: rgba(160, 160, 160, 0.8);
--vscode-editorSuggestWidget-background: #252526;
--vscode-editorSuggestWidget-border: #454545;
--vscode-editorSuggestWidget-foreground: #d4d4d4;
--vscode-editorSuggestWidget-selectedForeground: #ffffff;
--vscode-editorSuggestWidget-selectedBackground: #04395e;
--vscode-editorSuggestWidget-highlightForeground: #2aaaff;
--vscode-editorSuggestWidget-focusHighlightForeground: #2aaaff;
--vscode-editorSuggestWidgetStatus-foreground: rgba(212, 212, 212, 0.5);
--vscode-peekViewTitle-background: #252526;
--vscode-peekViewTitleLabel-foreground: #ffffff;
--vscode-peekViewTitleDescription-foreground: rgba(204, 204, 204, 0.7);
--vscode-peekView-border: #3794ff;
--vscode-peekViewResult-background: #252526;
--vscode-peekViewResult-lineForeground: #bbbbbb;
--vscode-peekViewResult-fileForeground: #ffffff;
--vscode-peekViewResult-selectionBackground: rgba(51, 153, 255, 0.2);
--vscode-peekViewResult-selectionForeground: #ffffff;
--vscode-peekViewEditor-background: #001f33;
--vscode-peekViewEditorGutter-background: #001f33;
--vscode-peekViewEditorStickyScroll-background: #001f33;
--vscode-peekViewResult-matchHighlightBackground: rgba(234, 92, 0, 0.3);
--vscode-peekViewEditor-matchHighlightBackground: rgba(255, 143, 0, 0.6);
--vscode-editorMarkerNavigationError-background: #f14c4c;
--vscode-editorMarkerNavigationError-headerBackground: rgba(241, 76, 76, 0.1);
--vscode-editorMarkerNavigationWarning-background: #cca700;
--vscode-editorMarkerNavigationWarning-headerBackground: rgba(204, 167, 0, 0.1);
--vscode-editorMarkerNavigationInfo-background: #3794ff;
--vscode-editorMarkerNavigationInfo-headerBackground: rgba(55, 148, 255, 0.1);
--vscode-editorMarkerNavigation-background: #1e1e1e; }

.mtk1 { color: #d4d4d4; }
.mtk2 { color: #1e1e1e; }
.mtk3 { color: #cc6666; }
.mtk4 { color: #9cdcfe; }
.mtk5 { color: #ce9178; }
.mtk6 { color: #b5cea8; }
.mtk7 { color: #608b4e; }
.mtk8 { color: #6aa94f; }
.mtk9 { color: #569cd6; }
.mtk10 { color: #f28b82; }
.mtk11 { color: #d7ba7d; }
.mtk12 { color: #dcdcdc; }
.mtk13 { color: #808080; }
.mtk14 { color: #4ec9b0; }
.mtk15 { color: #dcdcaa; }
.mtk16 { color: #f44747; }
.mtk17 { color: #82c6ff; }
.mtk18 { color: #c586c0; }
.mtk19 { color: #a79873; }
.mtk20 { color: #dd6a6f; }
.mtk21 { color: #5bb498; }
.mtk22 { color: #909090; }
.mtk23 { color: #778899; }
.mtk24 { color: #ff00ff; }
.mtk25 { color: #b46695; }
.mtk26 { color: #ff0000; }
.mtk27 { color: #4f76ac; }
.mtk28 { color: #3dc9b0; }
.mtk29 { color: #74b0df; }
.mtk30 { color: #4864aa; }
.mtki { font-style: italic; }
.mtkb { font-weight: bold; }
.mtku { text-decoration: underline; text-underline-position: under; }
.mtks { text-decoration: line-through; }
.mtks.mtku { text-decoration: underline line-through; text-underline-position: under; }</style><style type="text/css">.MathJax_Display {text-align: center; margin: 0; position: relative; display: block!important; text-indent: 0; max-width: none; max-height: none; min-width: 0; min-height: 0; width: 100%}
.MathJax .merror {background-color: #FFFF88; color: #CC0000; border: 1px solid #CC0000; padding: 1px 3px; font-style: normal; font-size: 90%}
.MathJax .MJX-monospace {font-family: monospace}
.MathJax .MJX-sans-serif {font-family: sans-serif}
#MathJax_Tooltip {background-color: InfoBackground; color: InfoText; border: 1px solid black; box-shadow: 2px 2px 5px #AAAAAA; -webkit-box-shadow: 2px 2px 5px #AAAAAA; -moz-box-shadow: 2px 2px 5px #AAAAAA; -khtml-box-shadow: 2px 2px 5px #AAAAAA; filter: progid:DXImageTransform.Microsoft.dropshadow(OffX=2, OffY=2, Color='gray', Positive='true'); padding: 3px 4px; z-index: 401; position: absolute; left: 0; top: 0; width: auto; height: auto; display: none}
.MathJax {display: inline; font-style: normal; font-weight: normal; line-height: normal; font-size: 100%; font-size-adjust: none; text-indent: 0; text-align: left; text-transform: none; letter-spacing: normal; word-spacing: normal; word-wrap: normal; white-space: nowrap; float: none; direction: ltr; max-width: none; max-height: none; min-width: 0; min-height: 0; border: 0; padding: 0; margin: 0}
.MathJax:focus, body :focus .MathJax {display: inline-table}
.MathJax.MathJax_FullWidth {text-align: center; display: table-cell!important; width: 10000em!important}
.MathJax img, .MathJax nobr, .MathJax a {border: 0; padding: 0; margin: 0; max-width: none; max-height: none; min-width: 0; min-height: 0; vertical-align: 0; line-height: normal; text-decoration: none}
img.MathJax_strut {border: 0!important; padding: 0!important; margin: 0!important; vertical-align: 0!important}
.MathJax span {display: inline; position: static; border: 0; padding: 0; margin: 0; vertical-align: 0; line-height: normal; text-decoration: none; box-sizing: content-box}
.MathJax nobr {white-space: nowrap!important}
.MathJax img {display: inline!important; float: none!important}
.MathJax * {transition: none; -webkit-transition: none; -moz-transition: none; -ms-transition: none; -o-transition: none}
.MathJax_Processing {visibility: hidden; position: fixed; width: 0; height: 0; overflow: hidden}
.MathJax_Processed {display: none!important}
.MathJax_test {font-style: normal; font-weight: normal; font-size: 100%; font-size-adjust: none; text-indent: 0; text-transform: none; letter-spacing: normal; word-spacing: normal; overflow: hidden; height: 1px}
.MathJax_test.mjx-test-display {display: table!important}
.MathJax_test.mjx-test-inline {display: inline!important; margin-right: -1px}
.MathJax_test.mjx-test-default {display: block!important; clear: both}
.MathJax_ex_box {display: inline-block!important; position: absolute; overflow: hidden; min-height: 0; max-height: none; padding: 0; border: 0; margin: 0; width: 1px; height: 60ex}
.MathJax_em_box {display: inline-block!important; position: absolute; overflow: hidden; min-height: 0; max-height: none; padding: 0; border: 0; margin: 0; width: 1px; height: 60em}
.mjx-test-inline .MathJax_left_box {display: inline-block; width: 0; float: left}
.mjx-test-inline .MathJax_right_box {display: inline-block; width: 0; float: right}
.mjx-test-display .MathJax_right_box {display: table-cell!important; width: 10000em!important; min-width: 0; max-width: none; padding: 0; border: 0; margin: 0}
.MathJax .MathJax_HitBox {cursor: text; background: white; opacity: 0; filter: alpha(opacity=0)}
.MathJax .MathJax_HitBox * {filter: none; opacity: 1; background: transparent}
#MathJax_Tooltip * {filter: none; opacity: 1; background: transparent}
@font-face {font-family: MathJax_Main; src: url('https://colab.research.google.com/static/mathjax/fonts/HTML-CSS/TeX/woff/MathJax_Main-Regular.woff?V=2.7.5') format('woff'), url('https://colab.research.google.com/static/mathjax/fonts/HTML-CSS/TeX/otf/MathJax_Main-Regular.otf?V=2.7.5') format('opentype')}
@font-face {font-family: MathJax_Main-bold; src: url('https://colab.research.google.com/static/mathjax/fonts/HTML-CSS/TeX/woff/MathJax_Main-Bold.woff?V=2.7.5') format('woff'), url('https://colab.research.google.com/static/mathjax/fonts/HTML-CSS/TeX/otf/MathJax_Main-Bold.otf?V=2.7.5') format('opentype')}
@font-face {font-family: MathJax_Main-italic; src: url('https://colab.research.google.com/static/mathjax/fonts/HTML-CSS/TeX/woff/MathJax_Main-Italic.woff?V=2.7.5') format('woff'), url('https://colab.research.google.com/static/mathjax/fonts/HTML-CSS/TeX/otf/MathJax_Main-Italic.otf?V=2.7.5') format('opentype')}
@font-face {font-family: MathJax_Math-italic; src: url('https://colab.research.google.com/static/mathjax/fonts/HTML-CSS/TeX/woff/MathJax_Math-Italic.woff?V=2.7.5') format('woff'), url('https://colab.research.google.com/static/mathjax/fonts/HTML-CSS/TeX/otf/MathJax_Math-Italic.otf?V=2.7.5') format('opentype')}
@font-face {font-family: MathJax_Caligraphic; src: url('https://colab.research.google.com/static/mathjax/fonts/HTML-CSS/TeX/woff/MathJax_Caligraphic-Regular.woff?V=2.7.5') format('woff'), url('https://colab.research.google.com/static/mathjax/fonts/HTML-CSS/TeX/otf/MathJax_Caligraphic-Regular.otf?V=2.7.5') format('opentype')}
@font-face {font-family: MathJax_Size1; src: url('https://colab.research.google.com/static/mathjax/fonts/HTML-CSS/TeX/woff/MathJax_Size1-Regular.woff?V=2.7.5') format('woff'), url('https://colab.research.google.com/static/mathjax/fonts/HTML-CSS/TeX/otf/MathJax_Size1-Regular.otf?V=2.7.5') format('opentype')}
@font-face {font-family: MathJax_Size2; src: url('https://colab.research.google.com/static/mathjax/fonts/HTML-CSS/TeX/woff/MathJax_Size2-Regular.woff?V=2.7.5') format('woff'), url('https://colab.research.google.com/static/mathjax/fonts/HTML-CSS/TeX/otf/MathJax_Size2-Regular.otf?V=2.7.5') format('opentype')}
@font-face {font-family: MathJax_Size3; src: url('https://colab.research.google.com/static/mathjax/fonts/HTML-CSS/TeX/woff/MathJax_Size3-Regular.woff?V=2.7.5') format('woff'), url('https://colab.research.google.com/static/mathjax/fonts/HTML-CSS/TeX/otf/MathJax_Size3-Regular.otf?V=2.7.5') format('opentype')}
@font-face {font-family: MathJax_Size4; src: url('https://colab.research.google.com/static/mathjax/fonts/HTML-CSS/TeX/woff/MathJax_Size4-Regular.woff?V=2.7.5') format('woff'), url('https://colab.research.google.com/static/mathjax/fonts/HTML-CSS/TeX/otf/MathJax_Size4-Regular.otf?V=2.7.5') format('opentype')}
.MathJax .noError {vertical-align: ; font-size: 90%; text-align: left; color: black; padding: 1px 3px; border: 1px solid}
</style></head><body class="" style="overscroll-behavior: contain;"><div style="visibility: hidden; overflow: hidden; position: absolute; top: 0px; height: 1px; width: auto; padding: 0px; border: 0px; margin: 0px; text-align: left; text-indent: 0px; text-transform: none; line-height: normal; letter-spacing: normal; word-spacing: normal;"><div id="MathJax_Hidden"></div></div><div id="MathJax_Message" style="display: none;"></div><div class="scripts"><script nonce="">window.performance.mark('external_scripts_start');</script><script src="./spam or ham_files/gapi_loader.js.download" nonce=""></script><script src="./spam or ham_files/socketio_binary.js.download" nonce=""></script><script src="./spam or ham_files/analytics_binary.js.download" nonce=""></script><script src="./spam or ham_files/MathJax.js.download" nonce=""></script><script src="./spam or ham_files/js_monaco_editor_vs_loader.js.download" nonce=""></script><script nonce="">window.performance.mark('external_scripts_end'); window.performance.measure('external_scripts', 'external_scripts_start', 'external_scripts_end'); window.performance.mark('colab_load_start');</script><script src="./spam or ham_files/external_polymer_binary.js.download" nonce=""></script><script nonce="">
          window.performance.mark('colab_load_end');
          window.performance.measure('colab_load', 'colab_load_start', 'colab_load_end');
        </script></div><colab-snackbar leading="" labeltext="" id="message-area" class="message-area"><template shadowrootmode="open"><!----><style>
        :host .mdc-snackbar__surface {
          background-color: var(--colab-snackbar-surface-color);
        }
      </style>
      <!--?lit$291671447$-->
      <div class="mdc-snackbar  mdc-snackbar--leading ">
        <div class="mdc-snackbar__surface">
          <!--?lit$291671447$-->
          <div class="mdc-snackbar__actions">
            <slot name="action"></slot>
            <slot name="dismiss"></slot>
          </div>
        </div>
      </div><!--?--></template>
      <md-icon-button class="close" slot="dismiss" title="Close" aria-label="Close" role="presentation" value=""><template shadowrootmode="open" shadowrootdelegatesfocus><!----><button id="button" class="icon-button  standard " aria-label="Close">
        <!--?lit$291671447$--><md-focus-ring part="focus-ring" for="button" aria-hidden="true"><template shadowrootmode="open"><!----></template></md-focus-ring>
        <!--?lit$291671447$--><md-ripple aria-hidden="true"><template shadowrootmode="open"><!----><div class="surface   "></div></template></md-ripple>
        <!--?lit$291671447$--><span class="icon"><slot></slot></span>
        <!--?lit$291671447$-->
        <!--?lit$291671447$--><span class="touch"></span>
        <!--?lit$291671447$-->
  </button></template>
        <md-icon aria-hidden="true"><template shadowrootmode="open"><!----><slot></slot></template>close</md-icon>
      </md-icon-button>
    </colab-snackbar><colab-snackbar leading="" labeltext="" id="message-area-secondary" class="message-area startup"><template shadowrootmode="open"><!----><style>
        :host .mdc-snackbar__surface {
          background-color: var(--colab-snackbar-surface-color);
        }
      </style>
      <!--?lit$291671447$-->
      <div class="mdc-snackbar mdc-snackbar--leading">
        <div class="mdc-snackbar__surface">
          <!--?lit$291671447$-->
          <div class="mdc-snackbar__actions">
            <slot name="action"></slot>
            <slot name="dismiss"></slot>
          </div>
        </div>
      </div><!--?--></template>
      <md-icon-button class="close" slot="dismiss" title="Close" aria-label="Close" role="presentation" value=""><template shadowrootmode="open" shadowrootdelegatesfocus><!----><button id="button" class="icon-button  standard " aria-label="Close">
        <!--?lit$291671447$--><md-focus-ring part="focus-ring" for="button" aria-hidden="true"><template shadowrootmode="open"><!----></template></md-focus-ring>
        <!--?lit$291671447$--><md-ripple aria-hidden="true"><template shadowrootmode="open"><!----><div class="surface   "></div></template></md-ripple>
        <!--?lit$291671447$--><span class="icon"><slot></slot></span>
        <!--?lit$291671447$-->
        <!--?lit$291671447$--><span class="touch"></span>
        <!--?lit$291671447$-->
  </button></template>
        <md-icon aria-hidden="true"><template shadowrootmode="open"><!----><slot></slot></template>close</md-icon>
      </md-icon-button>
    </colab-snackbar><div ng-non-bindable=""></div><div class="gb_r" ng-non-bindable=""><div class="gb_Fc"><div>Google Account</div><div class="gb_Fb">Karthikaa Ravikumar</div><div>karunimi21@gmail.com</div></div></div><script nonce="">this.gbar_=this.gbar_||{};(function(_){var window=this;
try{
var od;_.ld=function(a){var b=typeof a;return"object"==b&&null!=a||"function"==b};_.md=function(a,b){if(void 0!==a.i||void 0!==a.j)throw Error("B");a.j=b;_.Jc(a)};_.nd=class extends _.O{constructor(a){super(a)}};od=class extends _.Wc{};_.pd=function(a,b){if(b in a.i)return a.i[b];throw new od;};_.qd=function(a){return _.pd(_.Tc.i(),a)};
}catch(e){_._DumpException(e)}
try{
/*

 SPDX-License-Identifier: Apache-2.0
*/
var wd,Fd,Hd;_.rd=function(a){if(null==a)return a;if("string"===typeof a){if(!a)return;a=+a}if("number"===typeof a)return Number.isFinite(a)?a|0:void 0};_.sd=function(a){const b=a.length;if(0<b){const c=Array(b);for(let d=0;d<b;d++)c[d]=a[d];return c}return[]};_.ud=function(a){if(a instanceof _.td)return a.i;throw Error("D");};wd=function(a){return new vd(b=>b.substr(0,a.length+1).toLowerCase()===a+":")};
_.yd=function(a,b=_.xd){if(a instanceof _.td)return a;for(let c=0;c<b.length;++c){const d=b[c];if(d instanceof vd&&d.Ug(a))return new _.td(a)}};_.Ad=function(a){if(zd.test(a))return a};_.Bd=function(a){return a instanceof _.td?_.ud(a):_.Ad(a)};_.Cd=function(a,b){var c=Array.prototype.slice.call(arguments,1);return function(){var d=c.slice();d.push.apply(d,arguments);return a.apply(this,d)}};_.Dd=function(a,b,c){return void 0!==_.kb(a,b,c,!1)};_.Ed=function(a,b){return _.rd(_.qc(a,b))};
_.R=function(a,b){a=_.qc(a,b);return null==a?a:Number.isFinite(a)?a|0:void 0};_.S=function(a,b,c=0){return _.lb(_.Ed(a,b),c)};Fd=0;_.Gd=function(a){return Object.prototype.hasOwnProperty.call(a,_.xb)&&a[_.xb]||(a[_.xb]=++Fd)};Hd=function(a){return a};_.Id=function(a){var b=null,c=_.q.trustedTypes;if(!c||!c.createPolicy)return b;try{b=c.createPolicy(a,{createHTML:Hd,createScript:Hd,createScriptURL:Hd})}catch(d){_.q.console&&_.q.console.error(d.message)}return b};
_.Jd=function(a,b){return 0==a.lastIndexOf(b,0)};_.Kd=function(a,b){return Array.prototype.some.call(a,b,void 0)};try{(new self.OffscreenCanvas(0,0)).getContext("2d")}catch(a){};var Ld;_.Md=function(){void 0===Ld&&(Ld=_.Id("ogb-qtm#html"));return Ld};var Pd;_.Nd=class{constructor(a){this.i=a}toString(){return this.i+""}};_.Od=function(a){return a instanceof _.Nd&&a.constructor===_.Nd?a.i:"type_error:TrustedResourceUrl"};Pd={};_.Qd=function(a){const b=_.Md();a=b?b.createScriptURL(a):a;return new _.Nd(a,Pd)};_.td=class{constructor(a){this.i=a}toString(){return this.i}};_.Rd=new _.td("about:invalid#zClosurez");var vd,zd;vd=class{constructor(a){this.Ug=a}};_.xd=[wd("data"),wd("http"),wd("https"),wd("mailto"),wd("ftp"),new vd(a=>/^[^:]*([/?#]|$)/.test(a))];zd=/^\s*(?!javascript:)(?:[\w+.-]+:|[^:/?#]*(?:[/?#]|$))/i;_.Sd={};_.Td=class{constructor(a){this.i=a}toString(){return this.i.toString()}};_.Ud=new _.Td("",_.Sd);_.Vd=RegExp("^[-+,.\"'%_!#/ a-zA-Z0-9\\[\\]]+$");_.Wd=RegExp("\\b(url\\([ \t\n]*)('[ -&(-\\[\\]-~]*'|\"[ !#-\\[\\]-~]*\"|[!#-&*-\\[\\]-~]*)([ \t\n]*\\))","g");_.Xd=RegExp("\\b(calc|cubic-bezier|fit-content|hsl|hsla|linear-gradient|matrix|minmax|radial-gradient|repeat|rgb|rgba|(rotate|scale|translate)(X|Y|Z|3d)?|steps|var)\\([-+*/0-9a-zA-Z.%#\\[\\], ]+\\)","g");_.Yd={};_.$d=function(a){return a instanceof _.Zd&&a.constructor===_.Zd?a.i:"type_error:SafeHtml"};_.Zd=class{constructor(a){this.i=a}toString(){return this.i.toString()}};_.ae=new _.Zd(_.q.trustedTypes&&_.q.trustedTypes.emptyHTML||"",_.Yd);var ce;_.be=function(a){let b=!1,c;return function(){b||(c=a(),b=!0);return c}}(function(){var a=document.createElement("div"),b=document.createElement("div");b.appendChild(document.createElement("div"));a.appendChild(b);b=a.firstChild.firstChild;a.innerHTML=_.$d(_.ae);return!b.parentElement});ce=/^[\w+/_-]+[=]{0,2}$/;
_.de=function(a){a=(a||_.q).document;return a.querySelector?(a=a.querySelector('style[nonce],link[rel="stylesheet"][nonce]'))&&(a=a.nonce||a.getAttribute("nonce"))&&ce.test(a)?a:"":""};_.ee=function(a,b){this.width=a;this.height=b};_.m=_.ee.prototype;_.m.aspectRatio=function(){return this.width/this.height};_.m.Cb=function(){return!(this.width*this.height)};_.m.ceil=function(){this.width=Math.ceil(this.width);this.height=Math.ceil(this.height);return this};_.m.floor=function(){this.width=Math.floor(this.width);this.height=Math.floor(this.height);return this};_.m.round=function(){this.width=Math.round(this.width);this.height=Math.round(this.height);return this};_.T=function(a,b){var c=b||document;if(c.getElementsByClassName)a=c.getElementsByClassName(a)[0];else{c=document;var d=b||c;a=d.querySelectorAll&&d.querySelector&&a?d.querySelector(a?"."+a:""):_.fe(c,a,b)[0]||null}return a||null};
_.fe=function(a,b,c){var d;a=c||a;if(a.querySelectorAll&&a.querySelector&&b)return a.querySelectorAll(b?"."+b:"");if(b&&a.getElementsByClassName){var e=a.getElementsByClassName(b);return e}e=a.getElementsByTagName("*");if(b){var f={};for(c=d=0;a=e[c];c++){var g=a.className;"function"==typeof g.split&&_.ua(g.split(/\s+/),b)&&(f[d++]=a)}f.length=d;return f}return e};_.he=function(a){return _.ge(document,a)};
_.ge=function(a,b){b=String(b);"application/xhtml+xml"===a.contentType&&(b=b.toLowerCase());return a.createElement(b)};_.ie=function(a){for(var b;b=a.firstChild;)a.removeChild(b)};_.je=function(a){return 9==a.nodeType?a:a.ownerDocument||a.document};
}catch(e){_._DumpException(e)}
try{
_.Li=function(a){var b;let c;const d=null==(c=(b=(a.ownerDocument&&a.ownerDocument.defaultView||window).document).querySelector)?void 0:c.call(b,"script[nonce]");(b=d?d.nonce||d.getAttribute("nonce")||"":"")&&a.setAttribute("nonce",b)};_.Mi=function(a){if(!a)return null;a=_.G(a,4);var b;null===a||void 0===a?b=null:b=_.Qd(a);return b};_.Ni=class extends _.O{constructor(a){super(a)}};_.Oi=function(a,b){return(b||document).getElementsByTagName(String(a))};
}catch(e){_._DumpException(e)}
try{
var Qi=function(a,b,c){a<b?Pi(a+1,b):_.Cc.log(Error("ca`"+a+"`"+b),{url:c})},Pi=function(a,b){if(Ri){const c=_.he("SCRIPT");c.async=!0;c.type="text/javascript";c.charset="UTF-8";c.src=_.Od(Ri);_.Li(c);c.onerror=_.Cd(Qi,a,b,c.src);_.Oi("HEAD")[0].appendChild(c)}},Si=class extends _.O{constructor(a){super(a)}};var Ti=_.D(_.Nc,Si,17)||new Si,Ui,Ri=(Ui=_.D(Ti,_.Ni,1))?_.Mi(Ui):null,Vi,Wi=(Vi=_.D(Ti,_.Ni,2))?_.Mi(Vi):null,Xi=function(){Pi(1,2);if(Wi){const b=_.he("LINK");b.setAttribute("type","text/css");b.rel="stylesheet";b.href=_.Od(Wi).toString();var a=_.de(b.ownerDocument&&b.ownerDocument.defaultView);a&&b.setAttribute("nonce",a);(a=_.de())&&b.setAttribute("nonce",a);_.Oi("HEAD")[0].appendChild(b)}};(function(){const a=_.Oc();if(_.C(a,18))Xi();else{const b=_.Ed(a,19)||0;window.addEventListener("load",()=>{window.setTimeout(Xi,b)})}})();
}catch(e){_._DumpException(e)}
})(this.gbar_);
// Google Inc.
</script><div style="position: absolute; width: 0px; height: 0px; overflow: hidden; padding: 0px; border: 0px; margin: 0px;"><div id="MathJax_Font_Test" style="position: absolute; visibility: hidden; top: 0px; left: 0px; width: auto; min-width: 0px; max-width: none; padding: 0px; border: 0px; margin: 0px; white-space: nowrap; text-align: left; text-indent: 0px; text-transform: none; line-height: normal; letter-spacing: normal; word-spacing: normal; font-size: 40px; font-weight: normal; font-style: normal; font-family: MathJax_Size1, monospace;"></div></div><div class="notebook-vertical" style="position: relative;">
      <div class="top-floater"><div role="banner">
    <colab-header-skip-button><template shadowrootmode="open"><!----><a id="skiplink" class="skip-link" href="https://colab.research.google.com/drive/1ISj7UevJE_zZTs3S0MSeka2jX5iyG5Ym#top-toolbar"><!--?lit$291671447$-->Skip to main content</a></template></colab-header-skip-button>
    <!--?lit$291671447$-->
    <!--?lit$291671447$-->
    <!--?lit$291671447$-->
          <div id="private-outputs-warning" class="header-warning private-outputs-warning hidden">
            <!--?lit$291671447$-->This notebook is open with private outputs. Outputs will not be saved. You can disable this in <a href="https://colab.research.google.com/drive/1ISj7UevJE_zZTs3S0MSeka2jX5iyG5Ym#" id="private-outputs-notebook-info-link" command="notebook-settings" aria-describedby="private-outputs-notebook-info-link-tooltip">Notebook settings</a><colab-tooltip-trigger aria-hidden="true" for="private-outputs-notebook-info-link" id="private-outputs-notebook-info-link-tooltip"><template shadowrootmode="open"><!----><!--?lit$291671447$--><!----><div><!--?lit$291671447$-->Open notebook settings</div><!----><!--?--></template>
        </colab-tooltip-trigger>.
          <mwc-icon-button class="close" icon="close" title="Close"><template shadowrootmode="open"><!----><button class="mdc-icon-button mdc-icon-button--display-flex" aria-label="Close"><!--?lit$291671447$-->
    <!--?lit$291671447$--><i class="material-icons"><!--?lit$291671447$-->close</i>
    <span><slot></slot></span>
  </button></template></mwc-icon-button></div>
        

    <div id="header" class="horizontal layout">
      <div id="header-background"><div></div></div>
      <div id="header-content">
        <!--?lit$291671447$-->
        <!--?lit$291671447$--><div id="header-logo">
              <!--?lit$291671447$--> <!--?lit$291671447$--><a href="https://drive.google.com/drive/search?q=owner%3Ame%20(type%3Aapplication%2Fvnd.google.colaboratory%20%7C%7C%20type%3Aapplication%2Fvnd.google.colab)&amp;authuser=0" aria-label="View in Google Drive">
        <!--?lit$291671447$--><md-icon class="colab-large-icon" aria-hidden="true"><template shadowrootmode="open"><!----><slot></slot></template><!--?lit$291671447$--><svg viewBox="0 0 24 24"><!--?lit$291671447$-->
      <g id="colab-logo">
        <path d="M4.54,9.46,2.19,7.1a6.93,6.93,0,0,0,0,9.79l2.36-2.36A3.59,3.59,0,0,1,4.54,9.46Z" style="fill:var(--colab-logo-dark)"></path>
        <path d="M2.19,7.1,4.54,9.46a3.59,3.59,0,0,1,5.08,0l1.71-2.93h0l-.1-.08h0A6.93,6.93,0,0,0,2.19,7.1Z" style="fill:var(--colab-logo-light)"></path>
        <path d="M11.34,17.46h0L9.62,14.54a3.59,3.59,0,0,1-5.08,0L2.19,16.9a6.93,6.93,0,0,0,9,.65l.11-.09" style="fill:var(--colab-logo-light)"></path>
        <path d="M12,7.1a6.93,6.93,0,0,0,0,9.79l2.36-2.36a3.59,3.59,0,1,1,5.08-5.08L21.81,7.1A6.93,6.93,0,0,0,12,7.1Z" style="fill:var(--colab-logo-light)"></path>
        <path d="M21.81,7.1,19.46,9.46a3.59,3.59,0,0,1-5.08,5.08L12,16.9A6.93,6.93,0,0,0,21.81,7.1Z" style="fill:var(--colab-logo-dark)"></path>
      </g></svg></md-icon>
      </a><!--?-->
            </div>
        <div id="header-doc-toolbar" class="flex">
          <div id="document-info">
            <!--?lit$291671447$--> <!--?lit$291671447$--><md-icon class="file-location-icon" id="file-type" aria-hidden="true" title="Notebook stored in Google Drive"><template shadowrootmode="open"><!----><slot></slot></template><!--?lit$291671447$-->
      <svg viewBox="0 0 192 192">
        <path d="M128.33,122l7.59,26.17l19.89,21.42c0,0,0,0,0,0v0c2.69-1.55,4.98-3.8,6.59-6.59l18.48-32 c1.61-2.78,2.41-5.89,2.41-9l-28.38-5.5L128.33,122z" fill="#EA4335"></path>
        <path d="M123.48,18.41c-2.69-1.55-5.78-2.41-9-2.41H77.53c-3.2,0-6.32,0.88-9,2.41l0,0l7.96,26.81l19.44,20.64 L96,66l0,0l19.58-20.89L123.48,18.41C123.48,18.41,123.48,18.41,123.48,18.41C123.48,18.41,123.48,18.41,123.48,18.41z" fill="#188038"></path>
        <path d="M63.67,122l-28.33-6.5L8.72,122c0,3.1,0.8,6.2,2.4,8.99L29.6,163c1.61,2.78,3.9,5.03,6.59,6.59 l19.59-20.18L63.67,122L63.67,122z" fill="#1967D2"></path>
        <path d="M155.47,69l-25.4-44c-1.61-2.79-3.9-5.04-6.59-6.59L96,66l32.33,56h54.95c0-3.11-0.8-6.21-2.41-9 L155.47,69z" fill="#FBBC04"></path><path d="M128.33,122H63.67l-27.48,47.59c2.69,1.55,5.78,2.41,9,2.41h101.61c3.22,0,6.31-0.86,9-2.41L128.33,122z" fill="#4285F4"></path>
        <path d="M96,66L68.53,18.41c-2.69,1.55-4.97,3.79-6.58,6.57l-50.83,88.05c-1.6,2.78-2.4,5.88-2.4,8.97h54.95L96,66 z" fill="#34A853"></path>
      </svg></md-icon>
    <input id="doc-name" class="doc-name" maxlength="259" autocomplete="off" aria-label="Notebook name" command="rename" aria-describedby="doc-name-tooltip" style="width: 162.975px;"><colab-dom-lifecycle-events style="display: none;"></colab-dom-lifecycle-events></input><colab-tooltip-trigger aria-hidden="true" for="doc-name" id="doc-name-tooltip"><template shadowrootmode="open"><!----><!--?lit$291671447$--><!----><div><!--?lit$291671447$-->Rename notebook</div><!----><!--?--></template>
        </colab-tooltip-trigger><colab-input-sizer aria-hidden="true" style="left: -1000%; position: absolute; font-family: &quot;Google Sans&quot;, Roboto, Noto, sans-serif; font-size: 18px; font-weight: 400; letter-spacing: normal; padding-left: 3px; padding-right: 4px; white-space: pre;">spam or ham.ipynb_</colab-input-sizer>
            <!--?lit$291671447$-->
                  <div class="screenreader-only" id="star-status" aria-live="polite">Notebook unstarred</div>
                  <md-icon-button id="star-icon" command="toggle-star" aria-label="Star" role="presentation" aria-describedby="star-icon-tooltip" value=""><template shadowrootmode="open" shadowrootdelegatesfocus><!----><button id="button" class="icon-button  standard " aria-label="Star">
        <!--?lit$291671447$--><md-focus-ring part="focus-ring" for="button" aria-hidden="true"><template shadowrootmode="open"><!----></template></md-focus-ring>
        <!--?lit$291671447$--><md-ripple aria-hidden="true"><template shadowrootmode="open"><!----><div class="surface"></div></template></md-ripple>
        <!--?lit$291671447$--><span class="icon"><slot></slot></span>
        <!--?lit$291671447$-->
        <!--?lit$291671447$--><span class="touch"></span>
        <!--?lit$291671447$-->
  </button></template>
                    <md-icon aria-hidden="true"><template shadowrootmode="open"><!----><slot></slot></template>star</md-icon>
                  </md-icon-button><colab-tooltip-trigger aria-hidden="true" for="star-icon" id="star-icon-tooltip"><template shadowrootmode="open"><!----><!--?lit$291671447$--><!----><div><!--?lit$291671447$-->Star notebook in Google Drive</div><!----><!--?--></template>
        </colab-tooltip-trigger>
                
          </div>
        <div class="menubar-wrapper"><div><!----><div id="top-menubar" class="goog-menubar format-lightborder" role="menubar" tabindex="0" style="user-select: none;"><!--?lit$291671447$--><div class="goog-menu-button goog-inline-block" id="file-menu-button" role="button" aria-expanded="false" aria-haspopup="true" style="user-select: none;"><div class="goog-inline-block goog-menu-button-outer-box" style="user-select: none;"><div class="goog-inline-block goog-menu-button-inner-box" style="user-select: none;"><div class="goog-inline-block goog-menu-button-caption" style="user-select: none;"><!--?lit$291671447$-->File</div><div class="goog-inline-block goog-menu-button-dropdown" style="user-select: none;">&nbsp;</div></div></div></div><div class="goog-menu-button goog-inline-block" id="edit-menu-button" role="button" aria-expanded="false" aria-haspopup="true" style="user-select: none;"><div class="goog-inline-block goog-menu-button-outer-box" style="user-select: none;"><div class="goog-inline-block goog-menu-button-inner-box" style="user-select: none;"><div class="goog-inline-block goog-menu-button-caption" style="user-select: none;"><!--?lit$291671447$-->Edit</div><div class="goog-inline-block goog-menu-button-dropdown" style="user-select: none;">&nbsp;</div></div></div></div><div class="goog-menu-button goog-inline-block" id="view-menu-button" role="button" aria-expanded="false" aria-haspopup="true" style="user-select: none;"><div class="goog-inline-block goog-menu-button-outer-box" style="user-select: none;"><div class="goog-inline-block goog-menu-button-inner-box" style="user-select: none;"><div class="goog-inline-block goog-menu-button-caption" style="user-select: none;"><!--?lit$291671447$-->View</div><div class="goog-inline-block goog-menu-button-dropdown" style="user-select: none;">&nbsp;</div></div></div></div><div class="goog-menu-button goog-inline-block" id="insert-menu-button" role="button" aria-expanded="false" aria-haspopup="true" style="user-select: none;"><div class="goog-inline-block goog-menu-button-outer-box" style="user-select: none;"><div class="goog-inline-block goog-menu-button-inner-box" style="user-select: none;"><div class="goog-inline-block goog-menu-button-caption" style="user-select: none;"><!--?lit$291671447$-->Insert</div><div class="goog-inline-block goog-menu-button-dropdown" style="user-select: none;">&nbsp;</div></div></div></div><div class="goog-menu-button goog-inline-block" id="runtime-menu-button" role="button" aria-expanded="false" aria-haspopup="true" style="user-select: none;"><div class="goog-inline-block goog-menu-button-outer-box" style="user-select: none;"><div class="goog-inline-block goog-menu-button-inner-box" style="user-select: none;"><div class="goog-inline-block goog-menu-button-caption" style="user-select: none;"><!--?lit$291671447$-->Runtime</div><div class="goog-inline-block goog-menu-button-dropdown" style="user-select: none;">&nbsp;</div></div></div></div><div class="goog-menu-button goog-inline-block" id="tools-menu-button" role="button" aria-expanded="false" aria-haspopup="true" style="user-select: none;"><div class="goog-inline-block goog-menu-button-outer-box" style="user-select: none;"><div class="goog-inline-block goog-menu-button-inner-box" style="user-select: none;"><div class="goog-inline-block goog-menu-button-caption" style="user-select: none;"><!--?lit$291671447$-->Tools</div><div class="goog-inline-block goog-menu-button-dropdown" style="user-select: none;">&nbsp;</div></div></div></div><div class="goog-menu-button goog-inline-block" id="help-menu-button" role="button" aria-expanded="false" aria-haspopup="true" style="user-select: none;"><div class="goog-inline-block goog-menu-button-outer-box" style="user-select: none;"><div class="goog-inline-block goog-menu-button-inner-box" style="user-select: none;"><div class="goog-inline-block goog-menu-button-caption" style="user-select: none;"><!--?lit$291671447$-->Help</div><div class="goog-inline-block goog-menu-button-dropdown" style="user-select: none;">&nbsp;</div></div></div></div></div>
    <div id="colab-menu-cover" style="display: none;"> </div></div><!----><colab-last-saved-indicator aria-live="polite" aria-atomic="true" title=""><template shadowrootmode="open"><!----><button class=" save-message "><!--?lit$291671447$-->Saving...</button></template></colab-last-saved-indicator></div></div>
        <div id="header-right">
          <!--?lit$291671447$-->
    <colab-collaborator-bar id="collaborator-bar"><template shadowrootmode="open"><!----> <div class="collaborator-bar">
      <!--?lit$291671447$-->
      <!--?lit$291671447$-->
    </div></template></colab-collaborator-bar>
  
          <!--?lit$291671447$--> <md-text-button id="comments" command="open-comments-thread" role="presentation" aria-describedby="comments-tooltip" value="" has-icon=""><template shadowrootmode="open" shadowrootdelegatesfocus><!---->
      <!--?lit$291671447$-->
      <div class="background"></div>
      <md-focus-ring part="focus-ring" for="button" aria-hidden="true"><template shadowrootmode="open"><!----></template></md-focus-ring>
      <md-ripple for="button" aria-hidden="true"><template shadowrootmode="open"><!----><div class="surface   "></div></template></md-ripple>
      <!--?lit$291671447$--><button id="button" class="button">
      <!--?lit$291671447$-->
      <span class="touch"></span>
      <!--?lit$291671447$--><slot name="icon"></slot>
      <span class="label"><slot></slot></span>
      <!--?lit$291671447$-->
    
    </button>
    </template>
                <md-icon slot="icon" aria-hidden="true"><template shadowrootmode="open"><!----><slot></slot></template>comment</md-icon>
                <!--?lit$291671447$-->Comment
              </md-text-button><colab-tooltip-trigger aria-hidden="true" for="comments" id="comments-tooltip"><template shadowrootmode="open"><!----><!--?lit$291671447$--><!----><div><!--?lit$291671447$-->Open comments pane</div><!----><!--?--></template>
        </colab-tooltip-trigger>
          <!--?lit$291671447$--> <md-text-button id="share-toolbar-button" command="share" role="presentation" aria-describedby="share-toolbar-button-tooltip" value="" has-icon=""><template shadowrootmode="open" shadowrootdelegatesfocus><!---->
      <!--?lit$291671447$-->
      <div class="background"></div>
      <md-focus-ring part="focus-ring" for="button" aria-hidden="true"><template shadowrootmode="open"><!----></template></md-focus-ring>
      <md-ripple for="button" aria-hidden="true"><template shadowrootmode="open"><!----><div class="surface"></div></template></md-ripple>
      <!--?lit$291671447$--><button id="button" class="button">
      <!--?lit$291671447$-->
      <span class="touch"></span>
      <!--?lit$291671447$--><slot name="icon"></slot>
      <span class="label"><slot></slot></span>
      <!--?lit$291671447$-->
    
    </button>
    </template>
                <md-icon slot="icon" aria-hidden="true"><template shadowrootmode="open"><!----><slot></slot></template><!--?lit$291671447$-->people</md-icon>
                <!--?lit$291671447$-->Share
              </md-text-button><colab-tooltip-trigger aria-hidden="true" for="share-toolbar-button" id="share-toolbar-button-tooltip"><template shadowrootmode="open"><!----><!--?lit$291671447$--><!----><div><!--?lit$291671447$-->Share notebook</div><!----><!--?--></template>
        </colab-tooltip-trigger>
          <!--?lit$291671447$--> <md-icon-button id="settings-cog" command="preferences" title="Open settings" aria-label="Open settings" role="presentation" value=""><template shadowrootmode="open" shadowrootdelegatesfocus><!----><button id="button" class="icon-button  standard " aria-label="Open settings">
        <!--?lit$291671447$--><md-focus-ring part="focus-ring" for="button" aria-hidden="true"><template shadowrootmode="open"><!----></template></md-focus-ring>
        <!--?lit$291671447$--><md-ripple aria-hidden="true"><template shadowrootmode="open"><!----><div class="surface"></div></template></md-ripple>
        <!--?lit$291671447$--><span class="icon"><slot></slot></span>
        <!--?lit$291671447$-->
        <!--?lit$291671447$--><span class="touch"></span>
        <!--?lit$291671447$-->
  </button></template>
                <md-icon aria-hidden="true"><template shadowrootmode="open"><!----><slot></slot></template>settings</md-icon>
              </md-icon-button>
          <div class="header-onegoogle-container"><div class="onegoogle"><div class="gb_Qa gb_ld gb_hb gb_Ra" id="gb"><div class="gb_Bd gb_fb gb_qd" ng-non-bindable="" data-ogsr-up="" style="padding:0;height:auto;display:block"><div class="gb_Ud" style="display:block"><div class="gb_7c"></div><div class="gb_b gb_x gb_3f gb_K"><div class="gb_f gb_eb gb_3f gb_K"><a class="gb_d gb_Ha gb_K" aria-label="Google Account: Karthikaa Ravikumar  
(karunimi21@gmail.com)" href="https://accounts.google.com/SignOutOptions?hl=en&amp;continue=https://colab.research.google.com/drive/1ISj7UevJE_zZTs3S0MSeka2jX5iyG5Ym&amp;ec=GBRAqQM" tabindex="0" role="button" aria-expanded="false"><img class="gb_o gbii" src="./spam or ham_files/unnamed.png" srcset="https://lh3.googleusercontent.com/ogw/AF2bZyjgBcVDbOqMkv4puvm0Q8c9DMmm2t9yWbCO-iqBlb6ltA=s32-c-mo 1x, https://lh3.googleusercontent.com/ogw/AF2bZyjgBcVDbOqMkv4puvm0Q8c9DMmm2t9yWbCO-iqBlb6ltA=s64-c-mo 2x " alt="" aria-hidden="true" data-noaft=""></a></div></div></div><div style="overflow: hidden; position: absolute; top: 0px; visibility: hidden; width: 436px; z-index: 991; height: 0px; margin-top: 57px; right: 0px; margin-right: 4px;"><iframe role="presentation" frameborder="0" scrolling="no" name="account" src="./spam or ham_files/saved_resource.html" style="height: 100%; width: 100%; color-scheme: light; visibility: hidden;" aria-modal="false" aria-hidden="true"></iframe></div></div></div><script nonce="">this.gbar_=this.gbar_||{};(function(_){var window=this;
try{
_.hd=function(a,b,c){if(!a.j)if(c instanceof Array)for(var d of c)_.hd(a,b,d);else{d=(0,_.y)(a.C,a,b);const e=a.v+c;a.v++;b.dataset.eqid=e;a.B[e]=d;b&&b.addEventListener?b.addEventListener(c,d,!1):b&&b.attachEvent?b.attachEvent("on"+c,d):a.o.log(Error("z`"+b))}};
}catch(e){_._DumpException(e)}
try{
_.id=function(){if(!_.q.addEventListener||!Object.defineProperty)return!1;var a=!1,b=Object.defineProperty({},"passive",{get:function(){a=!0}});try{const c=()=>{};_.q.addEventListener("test",c,b);_.q.removeEventListener("test",c,b)}catch(c){}return a}();
}catch(e){_._DumpException(e)}
try{
var jd=document.querySelector(".gb_k .gb_d"),kd=document.querySelector("#gb.gb_Xc");jd&&!kd&&_.hd(_.Sc,jd,"click");
}catch(e){_._DumpException(e)}
try{
_.jh=function(a){const b=[];let c=0;for(const d in a)b[c++]=a[d];return b};_.kh=function(a){if(a.o)return a.o;for(const b in a.i)if(a.i[b].na()&&a.i[b].B())return a.i[b];return null};_.lh=function(a,b){a.i[b.K()]=b};var mh=new class extends _.P{constructor(){var a=_.Cc;super();this.B=a;this.o=null;this.j={};this.C={};this.i={};this.v=null}A(a){this.i[a]&&(_.kh(this)&&_.kh(this).K()==a||this.i[a].P(!0))}Wa(a){this.v=a;for(const b in this.i)this.i[b].na()&&this.i[b].Wa(a)}qc(a){return a in this.i?this.i[a]:null}};_.Vc("dd",mh);
}catch(e){_._DumpException(e)}
try{
_.Ei=function(a,b){return _.J(a,36,b)};
}catch(e){_._DumpException(e)}
try{
var Fi=document.querySelector(".gb_b .gb_d"),Gi=document.querySelector("#gb.gb_Xc");Fi&&!Gi&&_.hd(_.Sc,Fi,"click");
}catch(e){_._DumpException(e)}
})(this.gbar_);
// Google Inc.
</script></div></div>
        </div>
      </div>
    </div>
  </div></div><div class="notebook-horizontal">
        <!--?lit$291671447$--><colab-left-pane role="complementary" aria-label="left pane"><!----><div class="colab-left-pane-nib layout vertical" role="toolbar" aria-orientation="vertical">
        <div class="left-pane-top"><!----><div class="left-pane-button">
        <!--?lit$291671447$--><md-icon-button toggle="" command="show-toc-pane" aria-label="Table of contents" title="Table of contents" role="presentation" value=""><template shadowrootmode="open" shadowrootdelegatesfocus><!----><button id="button" class="icon-button  standard " aria-label="Table of contents" aria-pressed="false">
        <!--?lit$291671447$--><md-focus-ring part="focus-ring" for="button" aria-hidden="true"><template shadowrootmode="open"><!----></template></md-focus-ring>
        <!--?lit$291671447$--><md-ripple aria-hidden="true"><template shadowrootmode="open"><!----><div class="surface"></div></template></md-ripple>
        <!--?lit$291671447$--><span class="icon"><slot></slot></span>
        <!--?lit$291671447$-->
        <!--?lit$291671447$--><span class="touch"></span>
        <!--?lit$291671447$-->
  </button></template>
          <md-icon aria-hidden="true"><template shadowrootmode="open"><!----><slot></slot></template><!--?lit$291671447$-->format_list_bulleted</md-icon>
        </md-icon-button> <!--?lit$291671447$-->
      </div><!----><div class="left-pane-button">
        <!--?lit$291671447$--><md-icon-button toggle="" command="find" aria-label="Find and replace" title="Find and replace" role="presentation" value=""><template shadowrootmode="open" shadowrootdelegatesfocus><!----><button id="button" class="icon-button  standard " aria-label="Find and replace" aria-pressed="false">
        <!--?lit$291671447$--><md-focus-ring part="focus-ring" for="button" aria-hidden="true"><template shadowrootmode="open"><!----></template></md-focus-ring>
        <!--?lit$291671447$--><md-ripple aria-hidden="true"><template shadowrootmode="open"><!----><div class="surface   "></div></template></md-ripple>
        <!--?lit$291671447$--><span class="icon"><slot></slot></span>
        <!--?lit$291671447$-->
        <!--?lit$291671447$--><span class="touch"></span>
        <!--?lit$291671447$-->
  </button></template>
          <md-icon aria-hidden="true"><template shadowrootmode="open"><!----><slot></slot></template><!--?lit$291671447$-->search</md-icon>
        </md-icon-button> <!--?lit$291671447$-->
      </div><!----><div class="left-pane-button">
        <!--?lit$291671447$--><md-icon-button toggle="" command="show-variables" aria-label="Variables" title="Variables" role="presentation" value=""><template shadowrootmode="open" shadowrootdelegatesfocus><!----><button id="button" class="icon-button  standard " aria-label="Variables" aria-pressed="false">
        <!--?lit$291671447$--><md-focus-ring part="focus-ring" for="button" aria-hidden="true"><template shadowrootmode="open"><!----></template></md-focus-ring>
        <!--?lit$291671447$--><md-ripple aria-hidden="true"><template shadowrootmode="open"><!----><div class="surface   "></div></template></md-ripple>
        <!--?lit$291671447$--><span class="icon"><slot></slot></span>
        <!--?lit$291671447$-->
        <!--?lit$291671447$--><span class="touch"></span>
        <!--?lit$291671447$-->
  </button></template>
          <md-icon aria-hidden="true"><template shadowrootmode="open"><!----><slot></slot></template><!--?lit$291671447$--><svg viewBox="0 0 24 24"><!--?lit$291671447$-->
      <path d="M4.51,9.44V6.08c0-1.34.37-1.85,1.6-2.17l.22-.06V3.13l-.27,0-.44,0a4.46,4.46,0,0,0-2.2.59,2.78,2.78,0,0,0-1,2.51V9.74c0,1.26-.26,1.61-1.49,2L0,12l.94.29c1.21.38,1.49.75,1.49,2v3.5a2.94,2.94,0,0,0,1,2.6,4.39,4.39,0,0,0,2.14.56l.46,0,.27,0v-.72l-.22-.06c-1.24-.32-1.6-.81-1.6-2.17V14.58c0-1.43-.3-2.13-1.25-2.57C4.2,11.57,4.51,10.87,4.51,9.44Z"></path>
      <path d="M23.06,11.71c-1.22-.36-1.49-.71-1.49-2l0-3.5a3,3,0,0,0-1-2.6,4.38,4.38,0,0,0-2.14-.56l-.46,0-.27,0v.72l.22.06c1.24.32,1.6.81,1.6,2.17V9.44c0,1.44.3,2.13,1.25,2.57-1,.44-1.25,1.14-1.25,2.57v3.36c0,1.34-.37,1.85-1.6,2.17l-.22.06v.72l.27,0,.44,0a4.47,4.47,0,0,0,2.2-.59,2.82,2.82,0,0,0,1-2.51V14.28c0-1.26.26-1.61,1.49-2L24,12Z"></path>
      <path d="M15.16,8.22a.88.88,0,0,1,.46.16,1.25,1.25,0,0,0,.69.2h0A1,1,0,0,0,17,8.23a1.06,1.06,0,0,0,.24-.8,1.1,1.1,0,0,0-1.15-1h0c-1,0-1.73.64-3,2.57l-.12-.51c-.28-1.36-.56-2-1.39-2h0A8,8,0,0,0,9,7.08l-.47.16.16.91L9.41,8a3.22,3.22,0,0,1,.73-.14c.34,0,.43,0,.71,1.2l.56,2.47L9.76,13.82a3.6,3.6,0,0,1-.8.88.9.9,0,0,1-.38-.13,1.83,1.83,0,0,0-.88-.28,1,1,0,0,0-1,1.06A1.15,1.15,0,0,0,8,16.53c.85,0,1.35-.35,2.24-1.55l1.49-2,.46,1.88c.23,1,.46,1.66,1.53,1.66s1.66-.75,2.81-2.53l.17-.26-.81-.48-.16.2-.25.34-.19.25c-.45.57-.62.73-.76.73s-.28-.4-.34-.63l-.67-2.83a4.2,4.2,0,0,1-.15-.79C13.84,9.78,14.74,8.22,15.16,8.22Z"></path></svg></md-icon>
        </md-icon-button> <!--?lit$291671447$-->
      </div><!----><div class="left-pane-button">
        <!--?lit$291671447$--><md-icon-button toggle="" command="open-user-secrets" aria-label="Secrets" title="Secrets" role="presentation" value=""><template shadowrootmode="open" shadowrootdelegatesfocus><!----><button id="button" class="icon-button  standard " aria-label="Secrets" aria-pressed="false">
        <!--?lit$291671447$--><md-focus-ring part="focus-ring" for="button" aria-hidden="true"><template shadowrootmode="open"><!----></template></md-focus-ring>
        <!--?lit$291671447$--><md-ripple aria-hidden="true"><template shadowrootmode="open"><!----><div class="surface   "></div></template></md-ripple>
        <!--?lit$291671447$--><span class="icon"><slot></slot></span>
        <!--?lit$291671447$-->
        <!--?lit$291671447$--><span class="touch"></span>
        <!--?lit$291671447$-->
  </button></template>
          <md-icon aria-hidden="true"><template shadowrootmode="open"><!----><slot></slot></template><!--?lit$291671447$-->vpn_key</md-icon>
        </md-icon-button> <!--?lit$291671447$-->
      </div><!----><div class="left-pane-button">
        <!--?lit$291671447$--><md-icon-button toggle="" command="show-files" aria-label="Files" title="Files" role="presentation" value=""><template shadowrootmode="open" shadowrootdelegatesfocus><!----><button id="button" class="icon-button  standard " aria-label="Files" aria-pressed="false">
        <!--?lit$291671447$--><md-focus-ring part="focus-ring" for="button" aria-hidden="true"><template shadowrootmode="open"><!----></template></md-focus-ring>
        <!--?lit$291671447$--><md-ripple aria-hidden="true"><template shadowrootmode="open"><!----><div class="surface   "></div></template></md-ripple>
        <!--?lit$291671447$--><span class="icon"><slot></slot></span>
        <!--?lit$291671447$-->
        <!--?lit$291671447$--><span class="touch"></span>
        <!--?lit$291671447$-->
  </button></template>
          <md-icon aria-hidden="true"><template shadowrootmode="open"><!----><slot></slot></template><!--?lit$291671447$-->folder</md-icon>
        </md-icon-button> <!--?lit$291671447$-->
      </div></div>
        <div class="left-pane-bottom"><!----><div class="left-pane-button">
        <!--?lit$291671447$--><md-icon-button command="snippets" aria-label="Code snippets" title="Code snippets" role="presentation" value=""><template shadowrootmode="open" shadowrootdelegatesfocus><!----><button id="button" class="icon-button  standard " aria-label="Code snippets">
        <!--?lit$291671447$--><md-focus-ring part="focus-ring" for="button" aria-hidden="true"><template shadowrootmode="open"><!----></template></md-focus-ring>
        <!--?lit$291671447$--><md-ripple aria-hidden="true"><template shadowrootmode="open"><!----><div class="surface   "></div></template></md-ripple>
        <!--?lit$291671447$--><span class="icon"><slot></slot></span>
        <!--?lit$291671447$-->
        <!--?lit$291671447$--><span class="touch"></span>
        <!--?lit$291671447$-->
  </button></template>
          <md-icon aria-hidden="true"><template shadowrootmode="open"><!----><slot></slot></template><!--?lit$291671447$-->code</md-icon>
        </md-icon-button> <!--?lit$291671447$-->
      </div><!----><div class="left-pane-button">
        <!--?lit$291671447$--><md-icon-button command="show-command-palette" aria-label="Command palette" title="Command palette" role="presentation" value=""><template shadowrootmode="open" shadowrootdelegatesfocus><!----><button id="button" class="icon-button  standard " aria-label="Command palette">
        <!--?lit$291671447$--><md-focus-ring part="focus-ring" for="button" aria-hidden="true"><template shadowrootmode="open"><!----></template></md-focus-ring>
        <!--?lit$291671447$--><md-ripple aria-hidden="true"><template shadowrootmode="open"><!----><div class="surface   "></div></template></md-ripple>
        <!--?lit$291671447$--><span class="icon"><slot></slot></span>
        <!--?lit$291671447$-->
        <!--?lit$291671447$--><span class="touch"></span>
        <!--?lit$291671447$-->
  </button></template>
          <md-icon aria-hidden="true"><template shadowrootmode="open"><!----><slot></slot></template><!--?lit$291671447$--><svg viewBox="0 0 24 24"><!--?lit$291671447$-->
      <path d="M21,3H3A2,2,0,0,0,1,5V17a2,2,0,0,0,2,2H21a2,2,0,0,0,2-2V5A2,2,0,0,0,21,3Zm0,2V17H3V5"></path>
      <rect x="5" y="12" width="11" height="2"></rect>
      <rect x="5" y="8" width="11" height="2"></rect>
      <rect x="17" y="8" width="2" height="2"></rect>
      <rect x="17" y="12" width="2" height="2"></rect></svg></md-icon>
        </md-icon-button> <!--?lit$291671447$-->
      </div><!----><div class="left-pane-button">
        <!--?lit$291671447$--><md-icon-button command="show-terminal" aria-label="Terminal" title="Terminal" role="presentation" value=""><template shadowrootmode="open" shadowrootdelegatesfocus><!----><button id="button" class="icon-button  standard " aria-label="Terminal">
        <!--?lit$291671447$--><md-focus-ring part="focus-ring" for="button" aria-hidden="true"><template shadowrootmode="open"><!----></template></md-focus-ring>
        <!--?lit$291671447$--><md-ripple aria-hidden="true"><template shadowrootmode="open"><!----><div class="surface   "></div></template></md-ripple>
        <!--?lit$291671447$--><span class="icon"><slot></slot></span>
        <!--?lit$291671447$-->
        <!--?lit$291671447$--><span class="touch"></span>
        <!--?lit$291671447$-->
  </button></template>
          <md-icon aria-hidden="true"><template shadowrootmode="open"><!----><slot></slot></template><!--?lit$291671447$-->terminal</md-icon>
        </md-icon-button> <!--?lit$291671447$-->
      </div></div>
      </div></colab-left-pane>
        <div class="layout vertical grow">
          <colab-notebook-toolbar id="top-toolbar" class="horizontal layout center noshrink"><!----> <!--?lit$291671447$-->
          <colab-toolbar-button command="insert-cell-below" icon="add" id="toolbar-add-code"><template shadowrootmode="open"><!----><md-text-button id="button" aria-disabled="false" role="presentation" value="" has-icon=""><template shadowrootmode="open" shadowrootdelegatesfocus><!---->
      <!--?lit$291671447$-->
      <div class="background"></div>
      <md-focus-ring part="focus-ring" for="button" aria-hidden="true"><template shadowrootmode="open"><!----></template></md-focus-ring>
      <md-ripple for="button" aria-hidden="true"><template shadowrootmode="open"><!----><div class="surface"></div></template></md-ripple>
      <!--?lit$291671447$--><button id="button" class="button">
      <!--?lit$291671447$-->
      <span class="touch"></span>
      <!--?lit$291671447$--><slot name="icon"></slot>
      <span class="label"><slot></slot></span>
      <!--?lit$291671447$-->
    
    </button>
    </template>
        <!--?lit$291671447$--><md-icon slot="icon" aria-hidden="true"><template shadowrootmode="open"><!----><slot></slot></template><!--?lit$291671447$-->add</md-icon>
        <span class="button-content"><slot></slot></span>
        <!--?lit$291671447$--><span class="screenreader-only"><!--?lit$291671447$-->Insert code cell below <!--?lit$291671447$-->Ctrl+M B</span>
      </md-text-button>
      <!--?lit$291671447$--> <colab-tooltip-trigger for="button" aria-hidden="true" id="tooltip" message="Insert code cell below" shortcut="Ctrl+M B"><template shadowrootmode="open"><!----><!--?lit$291671447$--><!----><div><!--?lit$291671447$-->Insert code cell below</div><!----><!--?--></template>
          </colab-tooltip-trigger><!--?--></template>
            <!--?lit$291671447$-->Code
          </colab-toolbar-button>
          <colab-toolbar-button command="add-text" icon="add" id="toolbar-add-text"><template shadowrootmode="open"><!----><md-text-button id="button" aria-disabled="false" role="presentation" value="" has-icon=""><template shadowrootmode="open" shadowrootdelegatesfocus><!---->
      <!--?lit$291671447$-->
      <div class="background"></div>
      <md-focus-ring part="focus-ring" for="button" aria-hidden="true"><template shadowrootmode="open"><!----></template></md-focus-ring>
      <md-ripple for="button" aria-hidden="true"><template shadowrootmode="open"><!----><div class="surface"></div></template></md-ripple>
      <!--?lit$291671447$--><button id="button" class="button">
      <!--?lit$291671447$-->
      <span class="touch"></span>
      <!--?lit$291671447$--><slot name="icon"></slot>
      <span class="label"><slot></slot></span>
      <!--?lit$291671447$-->
    
    </button>
    </template>
        <!--?lit$291671447$--><md-icon slot="icon" aria-hidden="true"><template shadowrootmode="open"><!----><slot></slot></template><!--?lit$291671447$-->add</md-icon>
        <span class="button-content"><slot></slot></span>
        <!--?lit$291671447$--><span class="screenreader-only"><!--?lit$291671447$-->Add text cell <!--?lit$291671447$--></span>
      </md-text-button>
      <!--?lit$291671447$--> <colab-tooltip-trigger for="button" aria-hidden="true" id="tooltip" message="Add text cell" shortcut=""><template shadowrootmode="open"><!----><!--?lit$291671447$--><!----><div><!--?lit$291671447$-->Add text cell</div><!----><!--?--></template>
          </colab-tooltip-trigger><!--?--></template>
            <!--?lit$291671447$-->Text
          </colab-toolbar-button>
          <!--?lit$291671447$-->
        
    <!--?lit$291671447$-->
    <!--?lit$291671447$-->
    <!--?lit$291671447$-->
    <!--?lit$291671447$--> <span class="collapsed-options">
          <colab-last-saved-indicator aria-live="polite" aria-atomic="true" title=""><template shadowrootmode="open"><!----><button class=" save-message "><!--?lit$291671447$-->Saving...</button></template></colab-last-saved-indicator>
        </span>

    <span class="flex"></span>
    <!--?lit$291671447$--><colab-connect-warning-button><template shadowrootmode="open"><!----><!--?lit$291671447$--><!--?--><!--?--></template></colab-connect-warning-button>
    <!--?lit$291671447$--><!--?lit$291671447$--><colab-connect-button><template shadowrootmode="open"><!----> <!--?lit$291671447$--><!--?-->
      <colab-toolbar-button id="connect" tooltipid="colab-connect-tooltip" tooltiptext="Connect to a new runtime

          "><template shadowrootmode="open"><!----><md-text-button id="button" aria-disabled="false" role="presentation" value=""><template shadowrootmode="open" shadowrootdelegatesfocus><!---->
      <!--?lit$291671447$-->
      <div class="background"></div>
      <md-focus-ring part="focus-ring" for="button" aria-hidden="true"><template shadowrootmode="open"><!----></template></md-focus-ring>
      <md-ripple for="button" aria-hidden="true"><template shadowrootmode="open"><!----><div class="surface"></div></template></md-ripple>
      <!--?lit$291671447$--><button id="button" class="button">
      <!--?lit$291671447$-->
      <span class="touch"></span>
      <!--?lit$291671447$--><slot name="icon"></slot>
      <span class="label"><slot></slot></span>
      <!--?lit$291671447$-->
    
    </button>
    </template>
        <!--?lit$291671447$-->
        <span class="button-content"><slot></slot></span>
        <!--?lit$291671447$--><span class="screenreader-only"><!--?lit$291671447$-->Connect to a new runtime

           <!--?lit$291671447$--></span>
      </md-text-button>
      <!--?lit$291671447$--> <colab-tooltip-trigger for="button" aria-hidden="true" id="colab-connect-tooltip" message="Connect to a new runtime

          " shortcut=""><template shadowrootmode="open"><!----><!--?lit$291671447$--><!----><div><!--?lit$291671447$-->Connect to a new runtime</div><!----><!----><div><!--?lit$291671447$--></div><!----><!----><div><!--?lit$291671447$-->          </div><!----><!--?--></template>
          </colab-tooltip-trigger><!--?--></template>
        <!--?lit$291671447$-->Connect
      </colab-toolbar-button>
      <!--?lit$291671447$--> <md-icon-button id="connect-dropdown" aria-label="Additional connection options" role="presentation" value=""><template shadowrootmode="open" shadowrootdelegatesfocus><!----><button id="button" class="icon-button  standard " aria-label="Additional connection options">
        <!--?lit$291671447$--><md-focus-ring part="focus-ring" for="button" aria-hidden="true"><template shadowrootmode="open"><!----></template></md-focus-ring>
        <!--?lit$291671447$--><md-ripple aria-hidden="true"><template shadowrootmode="open"><!----><div class="surface"></div></template></md-ripple>
        <!--?lit$291671447$--><span class="icon"><slot></slot></span>
        <!--?lit$291671447$-->
        <!--?lit$291671447$--><span class="touch"></span>
        <!--?lit$291671447$-->
  </button></template>
        <md-icon aria-hidden="true"><template shadowrootmode="open"><!----><slot></slot></template>arrow_drop_down</md-icon>
      </md-icon-button>
      <colab-tooltip-trigger for="connect-dropdown" id="connect-dropdown-tooltip" aria-hidden="true" message="Additional connection options"><template shadowrootmode="open"><!----><!--?lit$291671447$--><!----><div><!--?lit$291671447$-->Additional connection options</div><!----><!--?--></template>
      </colab-tooltip-trigger><!--?--></template></colab-connect-button><!--?-->
    <!--?lit$291671447$--> <span class="colab-separator"></span>
          <colab-toolbar-button icon="supervised_user_circle" command="show-chat"><template shadowrootmode="open"><!----><md-text-button id="button" aria-disabled="false" role="presentation" value="" has-icon=""><template shadowrootmode="open" shadowrootdelegatesfocus><!---->
      <!--?lit$291671447$-->
      <div class="background"></div>
      <md-focus-ring part="focus-ring" for="button" aria-hidden="true"><template shadowrootmode="open"><!----></template></md-focus-ring>
      <md-ripple for="button" aria-hidden="true"><template shadowrootmode="open"><!----><div class="surface"></div></template></md-ripple>
      <!--?lit$291671447$--><button id="button" class="button">
      <!--?lit$291671447$-->
      <span class="touch"></span>
      <!--?lit$291671447$--><slot name="icon"></slot>
      <span class="label"><slot></slot></span>
      <!--?lit$291671447$-->
    
    </button>
    </template>
        <!--?lit$291671447$--><md-icon slot="icon" aria-hidden="true"><template shadowrootmode="open"><!----><slot></slot></template><!--?lit$291671447$-->supervised_user_circle</md-icon>
        <span class="button-content"><slot></slot></span>
        <!--?lit$291671447$--><span class="screenreader-only"><!--?lit$291671447$--> <!--?lit$291671447$--></span>
      </md-text-button>
      <!--?lit$291671447$--><!--?--></template>
            <!--?lit$291671447$-->Colab AI
          </colab-toolbar-button>
    <!--?lit$291671447$-->
    <span class="collapsed-options">
      <!--?lit$291671447$--><span class="colab-separator"></span>
      <!--?lit$291671447$--> <md-icon-button command="share" title="Share notebook" aria-label="Share notebook" role="presentation" value=""><template shadowrootmode="open" shadowrootdelegatesfocus><!----><button id="button" class="icon-button  standard " aria-label="Share notebook">
        <!--?lit$291671447$--><md-focus-ring part="focus-ring" for="button" aria-hidden="true"><template shadowrootmode="open"><!----></template></md-focus-ring>
        <!--?lit$291671447$--><md-ripple aria-hidden="true"><template shadowrootmode="open"><!----><div class="surface   "></div></template></md-ripple>
        <!--?lit$291671447$--><span class="icon"><slot></slot></span>
        <!--?lit$291671447$-->
        <!--?lit$291671447$--><span class="touch"></span>
        <!--?lit$291671447$-->
  </button></template>
            <md-icon filled="" aria-hidden="true"><template shadowrootmode="open"><!----><slot></slot></template><!--?lit$291671447$-->people</md-icon>
          </md-icon-button><md-icon-button command="preferences" aria-label="Open settings" title="Open settings" role="presentation" value=""><template shadowrootmode="open" shadowrootdelegatesfocus><!----><button id="button" class="icon-button  standard " aria-label="Open settings">
        <!--?lit$291671447$--><md-focus-ring part="focus-ring" for="button" aria-hidden="true"><template shadowrootmode="open"><!----></template></md-focus-ring>
        <!--?lit$291671447$--><md-ripple aria-hidden="true"><template shadowrootmode="open"><!----><div class="surface   "></div></template></md-ripple>
        <!--?lit$291671447$--><span class="icon"><slot></slot></span>
        <!--?lit$291671447$-->
        <!--?lit$291671447$--><span class="touch"></span>
        <!--?lit$291671447$-->
  </button></template>
        <md-icon filled="" aria-hidden="true"><template shadowrootmode="open"><!----><slot></slot></template>settings</md-icon>
      </md-icon-button>
    </span>
    <span class="colab-separator"></span>
    <!--?lit$291671447$--><md-icon-button toggle="" command="toggle-header" id="toggle-header-button" aria-label="Toggle header visibility" role="presentation" aria-describedby="toggle-header-button-tooltip" value=""><template shadowrootmode="open" shadowrootdelegatesfocus><!----><button id="button" class="icon-button  standard " aria-label="Toggle header visibility" aria-pressed="false">
        <!--?lit$291671447$--><md-focus-ring part="focus-ring" for="button" aria-hidden="true"><template shadowrootmode="open"><!----></template></md-focus-ring>
        <!--?lit$291671447$--><md-ripple aria-hidden="true"><template shadowrootmode="open"><!----><div class="surface   "></div></template></md-ripple>
        <!--?lit$291671447$--><span class="icon"><slot></slot></span>
        <!--?lit$291671447$-->
        <!--?lit$291671447$--><span class="touch"></span>
        <!--?lit$291671447$-->
  </button></template>
    <md-icon aria-hidden="true"><template shadowrootmode="open"><!----><slot></slot></template>expand_less</md-icon>
    <md-icon slot="selected" aria-hidden="true"><template shadowrootmode="open"><!----><slot></slot></template>expand_more</md-icon>
  </md-icon-button><colab-tooltip-trigger aria-hidden="true" for="toggle-header-button" id="toggle-header-button-tooltip"><template shadowrootmode="open"><!----><!--?lit$291671447$--><!----><div><!--?lit$291671447$-->Toggle header visibility</div><!----><!--?--></template>
        </colab-tooltip-trigger><!--?--></colab-notebook-toolbar><colab-tab-layout-container class="layout horizontal grow flexible-tabs"><!----> <div class="layout horizontal tab-pane-parent">
      <!--?lit$291671447$--> <div class="layout vertical tab-pane-parent">
      <!--?lit$291671447$--><colab-tab-pane class="layout vertical grow no-header focused" align="horizontal"><!----> <div class="layout vertical grow">
    <div class="tab-pane-header layout horizontal noshrink">
      <md-tabs><template shadowrootmode="open"><!---->
      <div class="tabs">
        <slot></slot>
      </div>
      <md-divider part="divider"><template shadowrootmode="open"><!----></template></md-divider>
    </template><md-primary-tab noink="" title="" aria-labelledby="tab-title-vbYk52ECHqZH" class="selected-tab" tabindex="0" md-tab="" active=""><template shadowrootmode="open"><!----><div class="button" role="presentation">
      <md-focus-ring part="focus-ring" inward="" aria-hidden="true"><template shadowrootmode="open"><!----></template></md-focus-ring>
      <md-elevation part="elevation" aria-hidden="true"><template shadowrootmode="open"><!----><span class="shadow"></span></template></md-elevation>
      <md-ripple aria-hidden="true"><template shadowrootmode="open"><!----><div class="surface   "></div></template></md-ripple>
      <div role="presentation" class="content  has-label stacked ">
        <slot name="icon"></slot>
        <slot></slot>
        <!--?lit$291671447$--><div class="indicator"></div>
      </div>
      <!--?lit$291671447$-->
    </div></template>
          <div class="colab-tab-header">
            <span class="colab-tab-title" id="tab-title-vbYk52ECHqZH"><!--?lit$291671447$--><!--?lit$291671447$-->Notebook<!--?--></span>
            <!--?lit$291671447$-->
          </div>
        </md-primary-tab></md-tabs>
      <div class="layout grow"></div>
      <!--?lit$291671447$--> <md-icon-button title="Show more" aria-label="Show more" role="presentation" value=""><template shadowrootmode="open" shadowrootdelegatesfocus><!----><button id="button" class="icon-button  standard " aria-label="Show more">
        <!--?lit$291671447$--><md-focus-ring part="focus-ring" for="button" aria-hidden="true"><template shadowrootmode="open"><!----></template></md-focus-ring>
        <!--?lit$291671447$--><md-ripple aria-hidden="true"><template shadowrootmode="open"><!----><div class="surface   "></div></template></md-ripple>
        <!--?lit$291671447$--><span class="icon"><slot></slot></span>
        <!--?lit$291671447$-->
        <!--?lit$291671447$--><span class="touch"></span>
        <!--?lit$291671447$-->
  </button></template>
    <md-icon aria-hidden="true"><template shadowrootmode="open"><!----><slot></slot></template>more_horiz</md-icon>
  </md-icon-button>
    </div>
    <div class="layout vertical grow tab-pane-container"> <colab-tab class="layout vertical grow notebook-tab-content selected-tab"><!----> <div class="overflow-flexbox-workaround">
      <colab-shaded-scroller ignore-dom-changes="" tabindex="-1" role="main" class="notebook-container" aria-label="Notebook">
        <div class="notebook-scrolling-horizontal-container">
          <div class="notebook-scrolling-horizontal">
            <div class="notebook-content-background">
              <!--?lit$291671447$-->
              <div class="notebook-content ">
                <!--?lit$291671447$--><div class="add-cell">
      <hr>
    </div>
                <div class="notebook-cell-list"><div class="cell code icon-scrolling" id="cell-xFIJXL5WuYv3" tabindex="-1" role="region" aria-label="Cell 0: Code cell: " style=""><div class="cell-tag-editor sticky"></div><div class="cell-toolbar sticky"></div><div class="main-content" elevation="0"><div class="cell-contents"><div class="cell-mask"></div><span class="imported-info-area"></span><div class="codecell-input-output">
      <div class="inputarea horizontal layout code">
        <div class="cell-gutter">
          <!-- Bounding range for vertical scrolling of icons -->
          <div class="cell-execution-container">
            <colab-run-button title="Run cell (Ctrl+Enter)
cell has not been executed in this session" role="button" aria-label="Run cell"><template shadowrootmode="open"><!----> <div class="cell-execution stale">
      <div class="execution-count"><!--?lit$291671447$-->[ ]</div>
      <div class="cell-execution-indicator"> <!--?lit$291671447$-->
<svg xmlns="http://www.w3.org/2000/svg" viewBox="0 0 24 24">
  <!--?lit$291671447$-->
  <mask id="playSymbolMask">
    <rect width="100%" height="100%" fill="white"></rect>
    <polygon points="10,8 17,12 10,16" fill="black"></polygon>
  </mask>
  <circle cx="12" cy="12" r="7.8" mask="url(#playSymbolMask)" id="filledCircle"></circle>
</svg> </div>
      <!--?lit$291671447$--><!--?-->
    </div></template></colab-run-button>
          </div>
        </div>
      <div class="editor flex lazy-editor" style=""><div class="editor flex monaco" data-keybinding-context="1" data-mode-id="notebook-python" style="height: 105px; --vscode-editorCodeLens-lineHeight: 16px; --vscode-editorCodeLens-fontSize: 12px; --vscode-editorCodeLens-fontFeatureSettings: &quot;liga&quot; off, &quot;calt&quot; off;"><div class="monaco-editor no-user-select  showUnused showDeprecated vs-dark" role="code" data-uri="inmemory://model/3" style="width: 627px; height: 105px;"><div data-mprt="3" class="overflow-guard" style="width: 627px; height: 105px;"><div class="margin" role="presentation" aria-hidden="true" style="position: absolute; contain: strict; will-change: unset; top: 0px; height: 105px; width: 6px;"><div class="glyph-margin" style="left: 0px; width: 0px; height: 105px;"></div><div class="margin-view-zones" role="presentation" aria-hidden="true" style="position: absolute;"></div><div class="margin-view-overlays" role="presentation" aria-hidden="true" style="position: absolute; font-family: monospace, Consolas, &quot;Courier New&quot;, monospace; font-weight: normal; font-size: 14px; font-feature-settings: &quot;liga&quot; 0, &quot;calt&quot; 0; font-variation-settings: normal; line-height: 19px; letter-spacing: 0px; width: 6px; height: 105px;"><div style="position:absolute;top:0px;width:100%;height:19px;"><div class="current-line current-line-margin-both" style="width:6px; height:19px;"></div></div><div style="position:absolute;top:19px;width:100%;height:19px;"></div><div style="position:absolute;top:38px;width:100%;height:19px;"></div><div style="position:absolute;top:57px;width:100%;height:19px;"></div><div style="position:absolute;top:76px;width:100%;height:19px;"></div></div><div class="glyph-margin-widgets" style="position: absolute; top: 0px;"></div></div><div class="monaco-scrollable-element editor-scrollable vs-dark" role="presentation" data-mprt="5" style="position: absolute; overflow: hidden; left: 6px; width: 621px; height: 105px;"><div class="lines-content monaco-editor-background" style="position: absolute; overflow: hidden; width: 1e+06px; height: 105px; contain: strict; will-change: unset; top: 0px; left: 0px;"><div class="view-overlays" role="presentation" aria-hidden="true" style="position: absolute; font-family: monospace, Consolas, &quot;Courier New&quot;, monospace; font-weight: normal; font-size: 14px; font-feature-settings: &quot;liga&quot; 0, &quot;calt&quot; 0; font-variation-settings: normal; line-height: 19px; letter-spacing: 0px; height: 0px; width: 621px;"><div style="position:absolute;top:0px;width:100%;height:19px;"><div class="current-line" style="width:621px; height:19px;"></div></div><div style="position:absolute;top:19px;width:100%;height:19px;"></div><div style="position:absolute;top:38px;width:100%;height:19px;"></div><div style="position:absolute;top:57px;width:100%;height:19px;"></div><div style="position:absolute;top:76px;width:100%;height:19px;"></div></div><div role="presentation" aria-hidden="true" class="view-rulers"></div><div class="view-zones" role="presentation" aria-hidden="true" style="position: absolute;"></div><div class="view-lines monaco-mouse-cursor-text" role="presentation" aria-hidden="true" data-mprt="7" style="position: absolute; font-family: monospace, Consolas, &quot;Courier New&quot;, monospace; font-weight: normal; font-size: 14px; font-feature-settings: &quot;liga&quot; 0, &quot;calt&quot; 0; font-variation-settings: normal; line-height: 19px; letter-spacing: 0px; width: 621px; height: 105px;"><div style="top:0px;height:19px;" class="view-line"><span><span class="mtk18">import</span><span class="mtk1">&nbsp;numpy&nbsp;</span><span class="mtk18">as</span><span class="mtk1">&nbsp;np</span></span></div><div style="top:19px;height:19px;" class="view-line"><span><span class="mtk18">import</span><span class="mtk1">&nbsp;pandas&nbsp;</span><span class="mtk18">as</span><span class="mtk1">&nbsp;pd</span></span></div><div style="top:38px;height:19px;" class="view-line"><span><span class="mtk18">import</span><span class="mtk1">&nbsp;matplotlib.pyplot&nbsp;</span><span class="mtk18">as</span><span class="mtk1">&nbsp;plt</span></span></div><div style="top:57px;height:19px;" class="view-line"><span><span class="mtk18">import</span><span class="mtk1">&nbsp;seaborn&nbsp;</span><span class="mtk18">as</span><span class="mtk1">&nbsp;sns</span></span></div><div style="top:76px;height:19px;" class="view-line"><span><span class="mtk18">from</span><span class="mtk1">&nbsp;sklearn.feature_extraction.text&nbsp;</span><span class="mtk18">import</span><span class="mtk1">&nbsp;TfidfVectorizer</span></span></div></div><div data-mprt="1" class="contentWidgets" style="position: absolute; top: 0px;"></div><div role="presentation" aria-hidden="true" class="cursors-layer cursor-line-style cursor-solid"><div class="cursor monaco-mouse-cursor-text " style="height: 19px; top: 0px; left: 0px; font-family: monospace, Consolas, &quot;Courier New&quot;, monospace; font-weight: normal; font-size: 14px; font-feature-settings: &quot;liga&quot; 0, &quot;calt&quot; 0; font-variation-settings: normal; line-height: 19px; letter-spacing: 0px; display: block; visibility: hidden; padding-left: 0px; width: 2px;"></div></div></div><div role="presentation" aria-hidden="true" class="invisible scrollbar horizontal" style="position: absolute; width: 607px; height: 10px; left: 0px; bottom: 0px;"><div class="slider" style="position: absolute; top: 0px; left: 0px; height: 10px; transform: translate3d(0px, 0px, 0px); contain: strict; will-change: unset; width: 607px;"></div></div><canvas class="decorationsOverviewRuler" aria-hidden="true" width="35" height="262" style="position: absolute; transform: translate3d(0px, 0px, 0px); contain: strict; top: 0px; right: 0px; width: 14px; height: 105px; will-change: unset; display: block;"></canvas><div role="presentation" aria-hidden="true" class="invisible scrollbar vertical" style="position: absolute; width: 14px; height: 105px; right: 0px; top: 0px;"><div class="slider" style="position: absolute; top: 0px; left: 0px; width: 14px; transform: translate3d(0px, 0px, 0px); contain: strict; will-change: unset; height: 105px;"></div></div></div><div role="presentation" aria-hidden="true" style="width: 627px;"></div><textarea data-mprt="6" class="inputarea monaco-mouse-cursor-text" wrap="on" autocorrect="off" autocapitalize="off" autocomplete="off" spellcheck="false" aria-label="Editor content;Press Alt+F1 for Accessibility Options." tabindex="0" role="textbox" aria-roledescription="editor" aria-multiline="true" aria-haspopup="false" aria-autocomplete="both" style="tab-size: 15.3984px; font-family: monospace, Consolas, &quot;Courier New&quot;, monospace; font-weight: normal; font-size: 14px; font-feature-settings: &quot;liga&quot; 0, &quot;calt&quot; 0; font-variation-settings: normal; line-height: 19px; letter-spacing: 0px; top: 0px; left: 6px; width: 627px; height: 1px;"></textarea><div class="monaco-editor-background textAreaCover" style="position: absolute; top: 0px; left: 0px; width: 0px; height: 0px;"></div><div data-mprt="4" class="overlayWidgets" style="width: 627px;"></div><div data-mprt="8" class="minimap slider-mouseover" role="presentation" aria-hidden="true" style="position: absolute; left: 0px; width: 0px; height: 105px;"><div class="minimap-shadow-hidden" style="height: 105px;"></div><canvas width="0" height="262" style="position: absolute; left: 0px; width: 0px; height: 105px;"></canvas><canvas class="minimap-decorations-layer" width="0" height="262" style="position: absolute; left: 0px; width: 0px; height: 105px;"></canvas><div class="minimap-slider" style="position: absolute; transform: translate3d(0px, 0px, 0px); contain: strict; width: 0px; will-change: unset;"><div class="minimap-slider-horizontal" style="position: absolute; width: 0px; height: 0px;"></div></div></div><div role="presentation" aria-hidden="true" class="blockDecorations-container"></div></div><div data-mprt="2" class="overflowingContentWidgets" style="display: none;"></div><div class=".in-cell-overflowing"><div widgetid="editor.contrib.quickInputWidget" style="position: absolute; top: 0px; right: 50%;"></div></div></div></div></div><colab-form class="formview vertical layout flex"><div class="widget-area vertical layout"></div></colab-form></div>
    <div class="output" aria-label="Cell 0 output" role="region"><!----> <div class="output-header"> </div>
        <div class="output-content" style="display: none;">
          <div class="output-info"> </div>
          <div class="output-iframe-container">
            <div class="output-iframe-sizer"> <div><div></div></div></div>
          </div>
        </div></div></div><colab-cell-next-steps><template shadowrootmode="open"><!----></template></colab-cell-next-steps></div></div><div class="add-cell">
      <hr>
    </div></div><div class="cell code icon-scrolling" id="cell-rHVJiieNur3e" tabindex="-1" role="region" aria-label="Cell 1: Code cell: " style=""><div class="cell-tag-editor sticky"></div><div class="cell-toolbar sticky"></div><div class="main-content" elevation="0"><div class="cell-contents"><div class="cell-mask"></div><span class="imported-info-area"></span><div class="codecell-input-output">
      <div class="inputarea horizontal layout code">
        <div class="cell-gutter">
          <!-- Bounding range for vertical scrolling of icons -->
          <div class="cell-execution-container">
            <colab-run-button title="Run cell (Ctrl+Enter)
cell has not been executed in this session" role="button" aria-label="Run cell"><template shadowrootmode="open"><!----> <div class="cell-execution  stale ">
      <div class="execution-count"><!--?lit$291671447$-->[ ]</div>
      <div class="cell-execution-indicator"> <!--?lit$291671447$-->
<svg xmlns="http://www.w3.org/2000/svg" viewBox="0 0 24 24">
  <!--?lit$291671447$-->
  <mask id="playSymbolMask">
    <rect width="100%" height="100%" fill="white"></rect>
    <polygon points="10,8 17,12 10,16" fill="black"></polygon>
  </mask>
  <circle cx="12" cy="12" r="7.8" mask="url(#playSymbolMask)" id="filledCircle"></circle>
</svg> </div>
      <!--?lit$291671447$--><!--?-->
    </div></template></colab-run-button>
          </div>
        </div>
      <div class="editor flex lazy-editor" style=""><pre class="lazy-virtualized" style="font-size: 14px; line-height: 19px;"><pre class="lazy-gutter"></pre><pre class="monaco-colorized colab-dark colab-dark colab-dark" data-lang="notebook-python"><span><span class="mtk1">data&nbsp;=&nbsp;pd.read_csv</span><span class="mtk12">(</span><span class="mtk5">'/content/sample_data/spam.csv'</span><span class="mtk12">)</span></span><br></pre><colab-read-only-cell-placeholder style="display: none;"><template shadowrootmode="open"><!----><div><!--?lit$291671447$-->Start coding or <span tabindex="0" role="button" class="link">generate</span> with AI.</div></template></colab-read-only-cell-placeholder></pre></div><colab-form class="formview vertical layout flex"><div class="widget-area vertical layout"></div></colab-form></div>
    <div class="output" aria-label="Cell 1 output" role="region"><!----> <div class="output-header"> </div>
        <div class="output-content" style="display: none;">
          <div class="output-info"> </div>
          <div class="output-iframe-container">
            <div class="output-iframe-sizer"> </div>
          </div>
        </div></div></div><colab-cell-next-steps><template shadowrootmode="open"><!----></template></colab-cell-next-steps></div></div><div class="add-cell">
      <hr>
    </div></div><div class="cell code code-has-output icon-scrolling" id="cell-Cm5PokKru0ox" tabindex="-1" role="region" aria-label="Cell 2: Code cell: " style=""><div class="cell-tag-editor sticky"></div><div class="cell-toolbar sticky"></div><div class="main-content" elevation="0"><div class="cell-contents"><div class="cell-mask"></div><span class="imported-info-area"></span><div class="codecell-input-output">
      <div class="inputarea horizontal layout code">
        <div class="cell-gutter">
          <!-- Bounding range for vertical scrolling of icons -->
          <div class="cell-execution-container">
            <colab-run-button title="Run cell (Ctrl+Enter)
cell has not been executed in this session

executed by Karthikaa Ravikumar
Friday, November 24, 2023
executed in 0.007s" role="button" aria-label="Run cell"><template shadowrootmode="open"><!----> <div class="cell-execution stale">
      <div class="execution-count"><!--?lit$291671447$-->[ ]</div>
      <div class="cell-execution-indicator"> <!--?lit$291671447$-->
<svg xmlns="http://www.w3.org/2000/svg" viewBox="0 0 24 24">
  <!--?lit$291671447$-->
  <mask id="playSymbolMask">
    <rect width="100%" height="100%" fill="white"></rect>
    <polygon points="10,8 17,12 10,16" fill="black"></polygon>
  </mask>
  <circle cx="12" cy="12" r="7.8" mask="url(#playSymbolMask)" id="filledCircle"></circle>
</svg> </div>
      <!--?lit$291671447$--><!--?-->
    </div></template></colab-run-button>
          </div>
        </div>
      <div class="editor flex lazy-editor" style=""><pre class="lazy-virtualized" style="font-size: 14px; line-height: 19px;"><pre class="lazy-gutter"></pre><pre class="monaco-colorized colab-dark colab-dark colab-dark" data-lang="notebook-python"><span><span class="mtk1">data</span></span><br></pre><colab-read-only-cell-placeholder style="display: none;"><template shadowrootmode="open"><!----><div><!--?lit$291671447$-->Start coding or <span tabindex="0" role="button" class="link">generate</span> with AI.</div></template></colab-read-only-cell-placeholder></pre></div><colab-form class="formview vertical layout flex"><div class="widget-area vertical layout"></div></colab-form></div>
    <div class="output" aria-label="Cell 2 output" role="region"><!----> <div class="output-header"> </div>
        <div class="output-content">
          <div class="output-info"><colab-output-info title="Clear output

executed by Karthikaa Ravikumar
Friday, November 24, 2023
executed in 0.007s" hovering=""><template shadowrootmode="open"><!----> <md-icon class="collaborator output" alt="Execution output" aria-hidden="true"><template shadowrootmode="open"><!----><slot></slot></template><!--?lit$291671447$-->output</md-icon>
      <!--?lit$291671447$--> <mwc-icon-button icon="cancel" command="clear-focused-or-selected-outputs" alt="Clear output"><template shadowrootmode="open"><!----><button class="mdc-icon-button mdc-icon-button--display-flex" aria-label="cancel"><!--?lit$291671447$-->
    <!--?lit$291671447$--><i class="material-icons"><!--?lit$291671447$-->cancel</i>
    <span><slot></slot></span>
  </button></template>
          </mwc-icon-button><!--?--></template></colab-output-info></div>
          <div class="output-iframe-container">
            <div class="output-iframe-sizer"> <div style=""><div class="outputview" style="height: 423px;"><colab-dom-lifecycle-events style="display: none;"></colab-dom-lifecycle-events><iframe allow="" sandbox="allow-downloads allow-forms allow-pointer-lock allow-popups allow-same-origin allow-scripts allow-storage-access-by-user-activation allow-popups-to-escape-sandbox" src="./spam or ham_files/outputframe.html" class="" style="height: 423px;"></iframe></div></div></div>
          </div>
        </div></div></div><colab-cell-next-steps><template shadowrootmode="open"><!----></template></colab-cell-next-steps></div></div><div class="add-cell">
      <hr>
    </div></div><div class="cell code code-has-output icon-scrolling" id="cell-NiVq2myFwAaR" tabindex="-1" role="region" aria-label="Cell 3: Code cell: " style=""><div class="cell-tag-editor sticky"></div><div class="cell-toolbar sticky"></div><div class="main-content" elevation="0"><div class="cell-contents"><div class="cell-mask"></div><span class="imported-info-area"></span><div class="codecell-input-output">
      <div class="inputarea horizontal layout code">
        <div class="cell-gutter">
          <!-- Bounding range for vertical scrolling of icons -->
          <div class="cell-execution-container">
            <colab-run-button title="Run cell (Ctrl+Enter)
cell has not been executed in this session

executed by Karthikaa Ravikumar
Friday, November 24, 2023
executed in 0.005s" role="button" aria-label="Run cell"><template shadowrootmode="open"><!----> <div class="cell-execution stale">
      <div class="execution-count"><!--?lit$291671447$-->[ ]</div>
      <div class="cell-execution-indicator"> <!--?lit$291671447$-->
<svg xmlns="http://www.w3.org/2000/svg" viewBox="0 0 24 24">
  <!--?lit$291671447$-->
  <mask id="playSymbolMask">
    <rect width="100%" height="100%" fill="white"></rect>
    <polygon points="10,8 17,12 10,16" fill="black"></polygon>
  </mask>
  <circle cx="12" cy="12" r="7.8" mask="url(#playSymbolMask)" id="filledCircle"></circle>
</svg> </div>
      <!--?lit$291671447$--><!--?-->
    </div></template></colab-run-button>
          </div>
        </div>
      <div class="editor flex lazy-editor" style=""><pre class="lazy-virtualized" style="font-size: 14px; line-height: 19px;"><pre class="lazy-gutter"></pre><pre class="monaco-colorized colab-dark colab-dark colab-dark colab-dark" data-lang="notebook-python"><span><span class="mtk1">data.info</span><span class="mtk12">()</span></span><br></pre><colab-read-only-cell-placeholder style="display: none;"><template shadowrootmode="open"><!----><div><!--?lit$291671447$-->Start coding or <span tabindex="0" role="button" class="link">generate</span> with AI.</div></template></colab-read-only-cell-placeholder></pre></div><colab-form class="formview vertical layout flex"><div class="widget-area vertical layout"></div></colab-form></div>
    <div class="output" aria-label="Cell 3 output" role="region"><!----> <div class="output-header"> </div>
        <div class="output-content">
          <div class="output-info"><colab-output-info title="Clear output

executed by Karthikaa Ravikumar
Friday, November 24, 2023
executed in 0.005s" hovering=""><template shadowrootmode="open"><!----> <md-icon class="collaborator output" alt="Execution output" aria-hidden="true"><template shadowrootmode="open"><!----><slot></slot></template><!--?lit$291671447$-->output</md-icon>
      <!--?lit$291671447$--> <mwc-icon-button icon="cancel" command="clear-focused-or-selected-outputs" alt="Clear output"><template shadowrootmode="open"><!----><button class="mdc-icon-button mdc-icon-button--display-flex" aria-label="cancel"><!--?lit$291671447$-->
    <!--?lit$291671447$--><i class="material-icons"><!--?lit$291671447$-->cancel</i>
    <span><slot></slot></span>
  </button></template>
          </mwc-icon-button><!--?--></template></colab-output-info></div>
          <div class="output-iframe-container">
            <div class="output-iframe-sizer"> <div><div><colab-static-output-renderer tabindex="0" role="group"><div><div class="stream output_text"><pre>&lt;class 'pandas.core.frame.DataFrame'&gt;
RangeIndex: 5171 entries, 0 to 5170
Data columns (total 4 columns):
 #   Column      Non-Null Count  Dtype 
---  ------      --------------  ----- 
 0   Unnamed: 0  5171 non-null   int64 
 1   label       5171 non-null   object
 2   text        5171 non-null   object
 3   label_num   5171 non-null   int64 
dtypes: int64(2), object(2)
memory usage: 161.7+ KB
</pre></div></div><div></div></colab-static-output-renderer></div></div></div>
          </div>
        </div></div></div><colab-cell-next-steps><template shadowrootmode="open"><!----></template></colab-cell-next-steps></div></div><div class="add-cell">
      <hr>
    </div></div><div class="cell code code-has-output icon-scrolling" id="cell-l0imsVyIwU5b" tabindex="-1" role="region" aria-label="Cell 4: Code cell: " style=""><div class="cell-tag-editor sticky"></div><div class="cell-toolbar sticky"></div><div class="main-content" elevation="0"><div class="cell-contents"><div class="cell-mask"></div><span class="imported-info-area"></span><div class="codecell-input-output">
      <div class="inputarea horizontal layout code">
        <div class="cell-gutter">
          <!-- Bounding range for vertical scrolling of icons -->
          <div class="cell-execution-container">
            <colab-run-button title="Run cell (Ctrl+Enter)
cell has not been executed in this session

executed by Karthikaa Ravikumar
Friday, November 24, 2023
executed in 0.007s" role="button" aria-label="Run cell"><template shadowrootmode="open"><!----> <div class="cell-execution stale">
      <div class="execution-count"><!--?lit$291671447$-->[ ]</div>
      <div class="cell-execution-indicator"> <!--?lit$291671447$-->
<svg xmlns="http://www.w3.org/2000/svg" viewBox="0 0 24 24">
  <!--?lit$291671447$-->
  <mask id="playSymbolMask">
    <rect width="100%" height="100%" fill="white"></rect>
    <polygon points="10,8 17,12 10,16" fill="black"></polygon>
  </mask>
  <circle cx="12" cy="12" r="7.8" mask="url(#playSymbolMask)" id="filledCircle"></circle>
</svg> </div>
      <!--?lit$291671447$--><!--?-->
    </div></template></colab-run-button>
          </div>
        </div>
      <div class="editor flex lazy-editor" style=""><pre class="lazy-virtualized" style="font-size: 14px; line-height: 19px;"><pre class="lazy-gutter"></pre><pre class="monaco-colorized colab-dark colab-dark colab-dark" data-lang="notebook-python"><span><span class="mtk1">data.dtypes</span></span><br></pre><colab-read-only-cell-placeholder style="display: none;"><template shadowrootmode="open"><!----><div><!--?lit$291671447$-->Start coding or <span tabindex="0" role="button" class="link">generate</span> with AI.</div></template></colab-read-only-cell-placeholder></pre></div><colab-form class="formview vertical layout flex"><div class="widget-area vertical layout"></div></colab-form></div>
    <div class="output" aria-label="Cell 4 output" role="region"><!----> <div class="output-header"> </div>
        <div class="output-content">
          <div class="output-info"><colab-output-info title="Clear output

executed by Karthikaa Ravikumar
Friday, November 24, 2023
executed in 0.007s" hovering=""><template shadowrootmode="open"><!----> <md-icon class="collaborator output" alt="Execution output" aria-hidden="true"><template shadowrootmode="open"><!----><slot></slot></template><!--?lit$291671447$-->output</md-icon>
      <!--?lit$291671447$--> <mwc-icon-button icon="cancel" command="clear-focused-or-selected-outputs" alt="Clear output"><template shadowrootmode="open"><!----><button class="mdc-icon-button mdc-icon-button--display-flex" aria-label="cancel"><!--?lit$291671447$-->
    <!--?lit$291671447$--><i class="material-icons"><!--?lit$291671447$-->cancel</i>
    <span><slot></slot></span>
  </button></template>
          </mwc-icon-button><!--?--></template></colab-output-info></div>
          <div class="output-iframe-container">
            <div class="output-iframe-sizer"> <div><div><colab-static-output-renderer tabindex="0" role="group"><div><div class="execute_result output_text"><pre>Unnamed: 0     int64
label         object
text          object
label_num      int64
dtype: object</pre></div></div><div></div></colab-static-output-renderer></div></div></div>
          </div>
        </div></div></div><colab-cell-next-steps><template shadowrootmode="open"><!----></template></colab-cell-next-steps></div></div><div class="add-cell">
      <hr>
    </div></div><div class="cell code code-has-output icon-scrolling" id="cell-8YU0mq6awW9c" tabindex="-1" role="region" aria-label="Cell 5: Code cell: " style=""><div class="cell-tag-editor sticky"></div><div class="cell-toolbar sticky"></div><div class="main-content" elevation="0"><div class="cell-contents"><div class="cell-mask"></div><span class="imported-info-area"></span><div class="codecell-input-output">
      <div class="inputarea horizontal layout code">
        <div class="cell-gutter">
          <!-- Bounding range for vertical scrolling of icons -->
          <div class="cell-execution-container">
            <colab-run-button title="Run cell (Ctrl+Enter)
cell has not been executed in this session

executed by Karthikaa Ravikumar
Friday, November 24, 2023
executed in 0.593s" role="button" aria-label="Run cell"><template shadowrootmode="open"><!----> <div class="cell-execution stale">
      <div class="execution-count"><!--?lit$291671447$-->[ ]</div>
      <div class="cell-execution-indicator"> <!--?lit$291671447$-->
<svg xmlns="http://www.w3.org/2000/svg" viewBox="0 0 24 24">
  <!--?lit$291671447$-->
  <mask id="playSymbolMask">
    <rect width="100%" height="100%" fill="white"></rect>
    <polygon points="10,8 17,12 10,16" fill="black"></polygon>
  </mask>
  <circle cx="12" cy="12" r="7.8" mask="url(#playSymbolMask)" id="filledCircle"></circle>
</svg> </div>
      <!--?lit$291671447$--><!--?-->
    </div></template></colab-run-button>
          </div>
        </div>
      <div class="editor flex lazy-editor" style=""><pre class="lazy-virtualized" style="font-size: 14px; line-height: 19px;"><pre class="lazy-gutter"></pre><pre class="monaco-colorized colab-dark colab-dark colab-dark" data-lang="notebook-python"><span><span class="mtk1">data.describe</span><span class="mtk12">()</span></span><br></pre><colab-read-only-cell-placeholder style="display: none;"><template shadowrootmode="open"><!----><div><!--?lit$291671447$-->Start coding or <span tabindex="0" role="button" class="link">generate</span> with AI.</div></template></colab-read-only-cell-placeholder></pre></div><colab-form class="formview vertical layout flex"><div class="widget-area vertical layout"></div></colab-form></div>
    <div class="output" aria-label="Cell 5 output" role="region"><!----> <div class="output-header"> </div>
        <div class="output-content">
          <div class="output-info"><colab-output-info title="Clear output

executed by Karthikaa Ravikumar
Friday, November 24, 2023
executed in 0.593s" hovering=""><template shadowrootmode="open"><!----> <md-icon class="collaborator output" alt="Execution output" aria-hidden="true"><template shadowrootmode="open"><!----><slot></slot></template><!--?lit$291671447$-->output</md-icon>
      <!--?lit$291671447$--> <mwc-icon-button icon="cancel" command="clear-focused-or-selected-outputs" alt="Clear output"><template shadowrootmode="open"><!----><button class="mdc-icon-button mdc-icon-button--display-flex" aria-label="cancel"><!--?lit$291671447$-->
    <!--?lit$291671447$--><i class="material-icons"><!--?lit$291671447$-->cancel</i>
    <span><slot></slot></span>
  </button></template>
          </mwc-icon-button><!--?--></template></colab-output-info></div>
          <div class="output-iframe-container">
            <div class="output-iframe-sizer"> <div style=""><div class="outputview" style="height: 300px;"><colab-dom-lifecycle-events style="display: none;"></colab-dom-lifecycle-events><iframe allow="" sandbox="allow-downloads allow-forms allow-pointer-lock allow-popups allow-same-origin allow-scripts allow-storage-access-by-user-activation allow-popups-to-escape-sandbox" src="./spam or ham_files/outputframe(1).html" class="" style="height: 300px;"></iframe></div></div></div>
          </div>
        </div></div></div><colab-cell-next-steps><template shadowrootmode="open"><!----></template></colab-cell-next-steps></div></div><div class="add-cell">
      <hr>
    </div></div><div class="cell code code-has-output icon-scrolling" id="cell-9KoPnyEiwYwb" tabindex="-1" role="region" aria-label="Cell 6: Code cell: " style=""><div class="cell-tag-editor sticky"></div><div class="cell-toolbar sticky"></div><div class="main-content" elevation="0"><div class="cell-contents"><div class="cell-mask"></div><span class="imported-info-area"></span><div class="codecell-input-output">
      <div class="inputarea horizontal layout code">
        <div class="cell-gutter">
          <!-- Bounding range for vertical scrolling of icons -->
          <div class="cell-execution-container">
            <colab-run-button title="Run cell (Ctrl+Enter)
cell has not been executed in this session

executed by Karthikaa Ravikumar
Friday, November 24, 2023
executed in 0.648s" role="button" aria-label="Run cell"><template shadowrootmode="open"><!----> <div class="cell-execution stale">
      <div class="execution-count"><!--?lit$291671447$-->[ ]</div>
      <div class="cell-execution-indicator"> <!--?lit$291671447$-->
<svg xmlns="http://www.w3.org/2000/svg" viewBox="0 0 24 24">
  <!--?lit$291671447$-->
  <mask id="playSymbolMask">
    <rect width="100%" height="100%" fill="white"></rect>
    <polygon points="10,8 17,12 10,16" fill="black"></polygon>
  </mask>
  <circle cx="12" cy="12" r="7.8" mask="url(#playSymbolMask)" id="filledCircle"></circle>
</svg> </div>
      <!--?lit$291671447$--><!--?-->
    </div></template></colab-run-button>
          </div>
        </div>
      <div class="editor flex lazy-editor" style=""><pre class="lazy-virtualized" style="font-size: 14px; line-height: 19px;"><pre class="lazy-gutter"></pre><pre class="monaco-colorized colab-dark colab-dark colab-dark" data-lang="notebook-python"><span><span class="mtk1">data.isnull</span><span class="mtk12">()</span><span class="mtk1">.</span><span class="mtk15">sum</span><span class="mtk12">()</span></span><br></pre><colab-read-only-cell-placeholder style="display: none;"><template shadowrootmode="open"><!----><div><!--?lit$291671447$-->Start coding or <span tabindex="0" role="button" class="link">generate</span> with AI.</div></template></colab-read-only-cell-placeholder></pre></div><colab-form class="formview vertical layout flex"><div class="widget-area vertical layout"></div></colab-form></div>
    <div class="output" aria-label="Cell 6 output" role="region"><!----> <div class="output-header"> </div>
        <div class="output-content">
          <div class="output-info"><colab-output-info title="Clear output

executed by Karthikaa Ravikumar
Friday, November 24, 2023
executed in 0.648s" hovering=""><template shadowrootmode="open"><!----> <md-icon class="collaborator output" alt="Execution output" aria-hidden="true"><template shadowrootmode="open"><!----><slot></slot></template><!--?lit$291671447$-->output</md-icon>
      <!--?lit$291671447$--> <mwc-icon-button icon="cancel" command="clear-focused-or-selected-outputs" alt="Clear output"><template shadowrootmode="open"><!----><button class="mdc-icon-button mdc-icon-button--display-flex" aria-label="cancel"><!--?lit$291671447$-->
    <!--?lit$291671447$--><i class="material-icons"><!--?lit$291671447$-->cancel</i>
    <span><slot></slot></span>
  </button></template>
          </mwc-icon-button><!--?--></template></colab-output-info></div>
          <div class="output-iframe-container">
            <div class="output-iframe-sizer"> <div><div><colab-static-output-renderer tabindex="0" role="group"><div><div class="execute_result output_text"><pre>Unnamed: 0    0
label         0
text          0
label_num     0
dtype: int64</pre></div></div><div></div></colab-static-output-renderer></div></div></div>
          </div>
        </div></div></div><colab-cell-next-steps><template shadowrootmode="open"><!----></template></colab-cell-next-steps></div></div><div class="add-cell">
      <hr>
    </div></div><div class="cell text" id="cell-DYkPBtxowdWr" tabindex="-1" role="region" aria-label="Cell 7: Text cell: " style=""><div class="cell-tag-editor sticky"></div><div class="cell-toolbar sticky"></div><div class="main-content" elevation="0"><div class="cell-contents"><div class="cell-mask"></div><span class="imported-info-area"></span><!----> <div class="toolbar-root"></div>
      <div class="editor-container horizontal">
        <div class="editor-root"></div>
        <div class="text-top-div">
          <div class="markdown"><span><p>Label Encoding</p>
</span></div>
        </div>
      </div>

      <div class="section-header" style="display: none;">
        <colab-run-button role="button" aria-label="Run cell"><template shadowrootmode="open"><!----> <div class="cell-execution   ">
      <div class="execution-count"><!--?lit$291671447$-->[ ]</div>
      <div class="cell-execution-indicator"> <!--?lit$291671447$-->
<svg xmlns="http://www.w3.org/2000/svg" viewBox="0 0 24 24">
  <!--?lit$291671447$-->
  <mask id="playSymbolMask">
    <rect width="100%" height="100%" fill="white"></rect>
    <polygon points="10,8 17,12 10,16" fill="black"></polygon>
  </mask>
  <circle cx="12" cy="12" r="7.8" mask="url(#playSymbolMask)" id="filledCircle"></circle>
</svg> </div>
      <!--?lit$291671447$--><!--?-->
    </div></template></colab-run-button>
        <div class="section-header-container" title="click to expand">↳ 0 cells hidden</div>
      </div></div></div><div class="add-cell">
      <hr>
    </div></div><div class="cell code code-has-output icon-scrolling" id="cell-z3QKe7C-wa3A" tabindex="-1" role="region" aria-label="Cell 8: Code cell: " style=""><div class="cell-tag-editor sticky"></div><div class="cell-toolbar sticky"></div><div class="main-content" elevation="0"><div class="cell-contents"><div class="cell-mask"></div><span class="imported-info-area"></span><div class="codecell-input-output">
      <div class="inputarea horizontal layout code">
        <div class="cell-gutter">
          <!-- Bounding range for vertical scrolling of icons -->
          <div class="cell-execution-container">
            <colab-run-button title="Run cell (Ctrl+Enter)
cell has not been executed in this session

executed by Karthikaa Ravikumar
Friday, November 24, 2023
executed in 0.007s" role="button" aria-label="Run cell"><template shadowrootmode="open"><!----> <div class="cell-execution stale">
      <div class="execution-count"><!--?lit$291671447$-->[ ]</div>
      <div class="cell-execution-indicator"> <!--?lit$291671447$-->
<svg xmlns="http://www.w3.org/2000/svg" viewBox="0 0 24 24">
  <!--?lit$291671447$-->
  <mask id="playSymbolMask">
    <rect width="100%" height="100%" fill="white"></rect>
    <polygon points="10,8 17,12 10,16" fill="black"></polygon>
  </mask>
  <circle cx="12" cy="12" r="7.8" mask="url(#playSymbolMask)" id="filledCircle"></circle>
</svg> </div>
      <!--?lit$291671447$--><!--?-->
    </div></template></colab-run-button>
          </div>
        </div>
      <div class="editor flex lazy-editor" style=""><pre class="lazy-virtualized" style="font-size: 14px; line-height: 19px;"><pre class="lazy-gutter"></pre><pre class="monaco-colorized colab-dark colab-dark colab-dark" data-lang="notebook-python"><span><span class="mtk1">data</span><span class="mtk12">[</span><span class="mtk5">'label'</span><span class="mtk12">]</span><span class="mtk1">&nbsp;=&nbsp;pd.Categorical</span><span class="mtk12">(</span><span class="mtk1">data</span><span class="mtk12">[</span><span class="mtk5">'label'</span><span class="mtk12">])</span><span class="mtk1">.codes</span></span><br><span><span class="mtk1">data</span></span><br></pre><colab-read-only-cell-placeholder style="display: none;"><template shadowrootmode="open"><!----><div><!--?lit$291671447$-->Start coding or <span tabindex="0" role="button" class="link">generate</span> with AI.</div></template></colab-read-only-cell-placeholder></pre></div><colab-form class="formview vertical layout flex"><div class="widget-area vertical layout"></div></colab-form></div>
    <div class="output" aria-label="Cell 8 output" role="region"><!----> <div class="output-header"> </div>
        <div class="output-content">
          <div class="output-info"><colab-output-info title="Clear output

executed by Karthikaa Ravikumar
Friday, November 24, 2023
executed in 0.007s" hovering=""><template shadowrootmode="open"><!----> <md-icon class="collaborator output" alt="Execution output" aria-hidden="true"><template shadowrootmode="open"><!----><slot></slot></template><!--?lit$291671447$-->output</md-icon>
      <!--?lit$291671447$--> <mwc-icon-button icon="cancel" command="clear-focused-or-selected-outputs" alt="Clear output"><template shadowrootmode="open"><!----><button class="mdc-icon-button mdc-icon-button--display-flex" aria-label="cancel"><!--?lit$291671447$-->
    <!--?lit$291671447$--><i class="material-icons"><!--?lit$291671447$-->cancel</i>
    <span><slot></slot></span>
  </button></template>
          </mwc-icon-button><!--?--></template></colab-output-info></div>
          <div class="output-iframe-container">
            <div class="output-iframe-sizer"> <div style=""><div class="outputview" style="height: 423px;"><colab-dom-lifecycle-events style="display: none;"></colab-dom-lifecycle-events><iframe allow="" sandbox="allow-downloads allow-forms allow-pointer-lock allow-popups allow-same-origin allow-scripts allow-storage-access-by-user-activation allow-popups-to-escape-sandbox" src="./spam or ham_files/outputframe(2).html" class="" style="height: 423px;"></iframe></div></div></div>
          </div>
        </div></div></div><colab-cell-next-steps><template shadowrootmode="open"><!----></template></colab-cell-next-steps></div></div><div class="add-cell">
      <hr>
    </div></div><div class="cell text" id="cell-yC5qaClrwwl4" tabindex="-1" role="region" aria-label="Cell 9: Text cell: " style=""><div class="cell-tag-editor sticky"></div><div class="cell-toolbar sticky"></div><div class="main-content" elevation="0"><div class="cell-contents"><div class="cell-mask"></div><span class="imported-info-area"></span><!----> <div class="toolbar-root"></div>
      <div class="editor-container horizontal">
        <div class="editor-root"></div>
        <div class="text-top-div">
          <div class="markdown"><span><p>Splitting the independent and dependent variablese</p>
</span></div>
        </div>
      </div>

      <div class="section-header" style="display: none;">
        <colab-run-button role="button" aria-label="Run cell"><template shadowrootmode="open"><!----> <div class="cell-execution   ">
      <div class="execution-count"><!--?lit$291671447$-->[ ]</div>
      <div class="cell-execution-indicator"> <!--?lit$291671447$-->
<svg xmlns="http://www.w3.org/2000/svg" viewBox="0 0 24 24">
  <!--?lit$291671447$-->
  <mask id="playSymbolMask">
    <rect width="100%" height="100%" fill="white"></rect>
    <polygon points="10,8 17,12 10,16" fill="black"></polygon>
  </mask>
  <circle cx="12" cy="12" r="7.8" mask="url(#playSymbolMask)" id="filledCircle"></circle>
</svg> </div>
      <!--?lit$291671447$--><!--?-->
    </div></template></colab-run-button>
        <div class="section-header-container" title="click to expand">↳ 0 cells hidden</div>
      </div></div></div><div class="add-cell">
      <hr>
    </div></div><div class="cell code code-has-output icon-scrolling" id="cell-Hg8YE-ZcwgWL" tabindex="-1" role="region" aria-label="Cell 10: Code cell: " style=""><div class="cell-tag-editor sticky"></div><div class="cell-toolbar sticky"></div><div class="main-content" elevation="0"><div class="cell-contents"><div class="cell-mask"></div><span class="imported-info-area"></span><div class="codecell-input-output">
      <div class="inputarea horizontal layout code">
        <div class="cell-gutter">
          <!-- Bounding range for vertical scrolling of icons -->
          <div class="cell-execution-container">
            <colab-run-button title="Run cell (Ctrl+Enter)
cell has not been executed in this session

executed by Karthikaa Ravikumar
Friday, November 24, 2023
executed in 0.527s" role="button" aria-label="Run cell"><template shadowrootmode="open"><!----> <div class="cell-execution stale">
      <div class="execution-count"><!--?lit$291671447$-->[ ]</div>
      <div class="cell-execution-indicator"> <!--?lit$291671447$-->
<svg xmlns="http://www.w3.org/2000/svg" viewBox="0 0 24 24">
  <!--?lit$291671447$-->
  <mask id="playSymbolMask">
    <rect width="100%" height="100%" fill="white"></rect>
    <polygon points="10,8 17,12 10,16" fill="black"></polygon>
  </mask>
  <circle cx="12" cy="12" r="7.8" mask="url(#playSymbolMask)" id="filledCircle"></circle>
</svg> </div>
      <!--?lit$291671447$--><!--?-->
    </div></template></colab-run-button>
          </div>
        </div>
      <div class="editor flex lazy-editor" style=""><pre class="lazy-virtualized" style="font-size: 14px; line-height: 19px;"><pre class="lazy-gutter"></pre><pre class="monaco-colorized colab-dark colab-dark colab-dark" data-lang="notebook-python"><span><span class="mtk1">x&nbsp;=&nbsp;data</span><span class="mtk12">[</span><span class="mtk5">'text'</span><span class="mtk12">]</span><span class="mtk1">&nbsp;</span><span class="mtk8">#Independent&nbsp;variable</span></span><br><span><span class="mtk1">x.head</span><span class="mtk12">(</span><span class="mtk6">2</span><span class="mtk12">)</span></span><br></pre><colab-read-only-cell-placeholder style="display: none;"><template shadowrootmode="open"><!----><div><!--?lit$291671447$-->Start coding or <span tabindex="0" role="button" class="link">generate</span> with AI.</div></template></colab-read-only-cell-placeholder></pre></div><colab-form class="formview vertical layout flex"><div class="widget-area vertical layout"></div></colab-form></div>
    <div class="output" aria-label="Cell 10 output" role="region"><!----> <div class="output-header"> </div>
        <div class="output-content">
          <div class="output-info"><colab-output-info title="Clear output

executed by Karthikaa Ravikumar
Friday, November 24, 2023
executed in 0.527s" hovering=""><template shadowrootmode="open"><!----> <md-icon class="collaborator output" alt="Execution output" aria-hidden="true"><template shadowrootmode="open"><!----><slot></slot></template><!--?lit$291671447$-->output</md-icon>
      <!--?lit$291671447$--> <mwc-icon-button icon="cancel" command="clear-focused-or-selected-outputs" alt="Clear output"><template shadowrootmode="open"><!----><button class="mdc-icon-button mdc-icon-button--display-flex" aria-label="cancel"><!--?lit$291671447$-->
    <!--?lit$291671447$--><i class="material-icons"><!--?lit$291671447$-->cancel</i>
    <span><slot></slot></span>
  </button></template>
          </mwc-icon-button><!--?--></template></colab-output-info></div>
          <div class="output-iframe-container">
            <div class="output-iframe-sizer"> <div><div><colab-static-output-renderer tabindex="0" role="group"><div><div class="execute_result output_text"><pre>0    Subject: enron methanol ; meter # : 988291\r\n...
1    Subject: hpl nom for january 9 , 2001\r\n( see...
Name: text, dtype: object</pre></div></div><div></div></colab-static-output-renderer></div></div></div>
          </div>
        </div></div></div><colab-cell-next-steps><template shadowrootmode="open"><!----></template></colab-cell-next-steps></div></div><div class="add-cell">
      <hr>
    </div></div><div class="cell code code-has-output icon-scrolling" id="cell-KIriIb6jwxB2" tabindex="-1" role="region" aria-label="Cell 11: Code cell: " style=""><div class="cell-tag-editor sticky"></div><div class="cell-toolbar sticky"></div><div class="main-content" elevation="0"><div class="cell-contents"><div class="cell-mask"></div><span class="imported-info-area"></span><div class="codecell-input-output">
      <div class="inputarea horizontal layout code">
        <div class="cell-gutter">
          <!-- Bounding range for vertical scrolling of icons -->
          <div class="cell-execution-container">
            <colab-run-button title="Run cell (Ctrl+Enter)
cell has not been executed in this session

executed by Karthikaa Ravikumar
Friday, November 24, 2023
executed in 0.004s" role="button" aria-label="Run cell"><template shadowrootmode="open"><!----> <div class="cell-execution stale">
      <div class="execution-count"><!--?lit$291671447$-->[ ]</div>
      <div class="cell-execution-indicator"> <!--?lit$291671447$-->
<svg xmlns="http://www.w3.org/2000/svg" viewBox="0 0 24 24">
  <!--?lit$291671447$-->
  <mask id="playSymbolMask">
    <rect width="100%" height="100%" fill="white"></rect>
    <polygon points="10,8 17,12 10,16" fill="black"></polygon>
  </mask>
  <circle cx="12" cy="12" r="7.8" mask="url(#playSymbolMask)" id="filledCircle"></circle>
</svg> </div>
      <!--?lit$291671447$--><!--?-->
    </div></template></colab-run-button>
          </div>
        </div>
      <div class="editor flex lazy-editor" style=""><pre class="lazy-virtualized" style="font-size: 14px; line-height: 19px;"><pre class="lazy-gutter"></pre><pre class="monaco-colorized colab-dark colab-dark colab-dark" data-lang="notebook-python"><span><span class="mtk1">y&nbsp;=&nbsp;data</span><span class="mtk12">[</span><span class="mtk5">'label'</span><span class="mtk12">]</span><span class="mtk1">&nbsp;</span><span class="mtk8">#Dependent&nbsp;variable</span></span><br><span><span class="mtk1">y.head</span><span class="mtk12">(</span><span class="mtk6">2</span><span class="mtk12">)</span></span><br></pre><colab-read-only-cell-placeholder style="display: none;"><template shadowrootmode="open"><!----><div><!--?lit$291671447$-->Start coding or <span tabindex="0" role="button" class="link">generate</span> with AI.</div></template></colab-read-only-cell-placeholder></pre></div><colab-form class="formview vertical layout flex"><div class="widget-area vertical layout"></div></colab-form></div>
    <div class="output" aria-label="Cell 11 output" role="region"><!----> <div class="output-header"> </div>
        <div class="output-content">
          <div class="output-info"><colab-output-info title="Clear output

executed by Karthikaa Ravikumar
Friday, November 24, 2023
executed in 0.004s" hovering=""><template shadowrootmode="open"><!----> <md-icon class="collaborator output" alt="Execution output" aria-hidden="true"><template shadowrootmode="open"><!----><slot></slot></template><!--?lit$291671447$-->output</md-icon>
      <!--?lit$291671447$--> <mwc-icon-button icon="cancel" command="clear-focused-or-selected-outputs" alt="Clear output"><template shadowrootmode="open"><!----><button class="mdc-icon-button mdc-icon-button--display-flex" aria-label="cancel"><!--?lit$291671447$-->
    <!--?lit$291671447$--><i class="material-icons"><!--?lit$291671447$-->cancel</i>
    <span><slot></slot></span>
  </button></template>
          </mwc-icon-button><!--?--></template></colab-output-info></div>
          <div class="output-iframe-container">
            <div class="output-iframe-sizer"> <div><div><colab-static-output-renderer tabindex="0" role="group"><div><div class="execute_result output_text"><pre>0    0
1    0
Name: label, dtype: int8</pre></div></div><div></div></colab-static-output-renderer></div></div></div>
          </div>
        </div></div></div><colab-cell-next-steps><template shadowrootmode="open"><!----></template></colab-cell-next-steps></div></div><div class="add-cell">
      <hr>
    </div></div><div class="cell text" id="cell-92g7tvjAw5rV" tabindex="-1" role="region" aria-label="Cell 12: Text cell: " style=""><div class="cell-tag-editor sticky"></div><div class="cell-toolbar sticky"></div><div class="main-content" elevation="0"><div class="cell-contents"><div class="cell-mask"></div><span class="imported-info-area"></span><!----> <div class="toolbar-root"></div>
      <div class="editor-container horizontal">
        <div class="editor-root"></div>
        <div class="text-top-div">
          <div class="markdown"><span><p>Splitting the training and testing data¶</p>
</span></div>
        </div>
      </div>

      <div class="section-header" style="display: none;">
        <colab-run-button role="button" aria-label="Run cell"><template shadowrootmode="open"><!----> <div class="cell-execution   ">
      <div class="execution-count"><!--?lit$291671447$-->[ ]</div>
      <div class="cell-execution-indicator"> <!--?lit$291671447$-->
<svg xmlns="http://www.w3.org/2000/svg" viewBox="0 0 24 24">
  <!--?lit$291671447$-->
  <mask id="playSymbolMask">
    <rect width="100%" height="100%" fill="white"></rect>
    <polygon points="10,8 17,12 10,16" fill="black"></polygon>
  </mask>
  <circle cx="12" cy="12" r="7.8" mask="url(#playSymbolMask)" id="filledCircle"></circle>
</svg> </div>
      <!--?lit$291671447$--><!--?-->
    </div></template></colab-run-button>
        <div class="section-header-container" title="click to expand">↳ 0 cells hidden</div>
      </div></div></div><div class="add-cell">
      <div class="add-cell-buttons">
        <md-outlined-button class="add-code add-button" aria-label="Add code cell
Ctrl+M B" title="Add code cell
Ctrl+M B" role="presentation" value="" has-icon=""><template shadowrootmode="open" shadowrootdelegatesfocus><!---->
      <!--?lit$291671447$--><div class="outline"></div>
      <div class="background"></div>
      <md-focus-ring part="focus-ring" for="button" aria-hidden="true"><template shadowrootmode="open"><!----></template></md-focus-ring>
      <md-ripple for="button" aria-hidden="true"><template shadowrootmode="open"><!----><div class="surface   "></div></template></md-ripple>
      <!--?lit$291671447$--><button id="button" class="button" aria-label="Add code cell
Ctrl+M B">
      <!--?lit$291671447$-->
      <span class="touch"></span>
      <!--?lit$291671447$--><slot name="icon"></slot>
      <span class="label"><slot></slot></span>
      <!--?lit$291671447$-->
    
    </button>
    </template>
          <md-icon slot="icon" aria-hidden="true"><template shadowrootmode="open"><!----><slot></slot></template>add</md-icon>
          <!--?lit$291671447$-->Code
        </md-outlined-button>
        <md-outlined-button class="add-text add-button" aria-label="Add text cell" title="Add text cell" role="presentation" value="" has-icon=""><template shadowrootmode="open" shadowrootdelegatesfocus><!---->
      <!--?lit$291671447$--><div class="outline"></div>
      <div class="background"></div>
      <md-focus-ring part="focus-ring" for="button" aria-hidden="true"><template shadowrootmode="open"><!----></template></md-focus-ring>
      <md-ripple for="button" aria-hidden="true"><template shadowrootmode="open"><!----><div class="surface   "></div></template></md-ripple>
      <!--?lit$291671447$--><button id="button" class="button" aria-label="Add text cell">
      <!--?lit$291671447$-->
      <span class="touch"></span>
      <!--?lit$291671447$--><slot name="icon"></slot>
      <span class="label"><slot></slot></span>
      <!--?lit$291671447$-->
    
    </button>
    </template>
          <md-icon slot="icon" aria-hidden="true"><template shadowrootmode="open"><!----><slot></slot></template>add</md-icon>
          <!--?lit$291671447$-->Text
        </md-outlined-button>
        <!--?lit$291671447$-->
      </div><hr>
    </div></div><div class="cell code icon-scrolling" id="cell-WmtIbDuew2Mn" tabindex="-1" role="region" aria-label="Cell 13: Code cell: " style=""><div class="cell-tag-editor sticky"></div><div class="cell-toolbar sticky"></div><div class="main-content" elevation="0"><div class="cell-contents"><div class="cell-mask"></div><span class="imported-info-area"></span><div class="codecell-input-output">
      <div class="inputarea horizontal layout code">
        <div class="cell-gutter">
          <!-- Bounding range for vertical scrolling of icons -->
          <div class="cell-execution-container">
            <colab-run-button title="Run cell (Ctrl+Enter)
cell has not been executed in this session" role="button" aria-label="Run cell"><template shadowrootmode="open"><!----> <div class="cell-execution stale">
      <div class="execution-count"><!--?lit$291671447$-->[ ]</div>
      <div class="cell-execution-indicator"> <!--?lit$291671447$-->
<svg xmlns="http://www.w3.org/2000/svg" viewBox="0 0 24 24">
  <!--?lit$291671447$-->
  <mask id="playSymbolMask">
    <rect width="100%" height="100%" fill="white"></rect>
    <polygon points="10,8 17,12 10,16" fill="black"></polygon>
  </mask>
  <circle cx="12" cy="12" r="7.8" mask="url(#playSymbolMask)" id="filledCircle"></circle>
</svg> </div>
      <!--?lit$291671447$--><!--?-->
    </div></template></colab-run-button>
          </div>
        </div>
      <div class="editor flex lazy-editor" style=""><pre class="lazy-virtualized" style="font-size: 14px; line-height: 19px;"><pre class="lazy-gutter"></pre><pre class="monaco-colorized colab-dark colab-dark colab-dark" data-lang="notebook-python"><span><span class="mtk18">from</span><span class="mtk1">&nbsp;sklearn.model_selection&nbsp;</span><span class="mtk18">import</span><span class="mtk1">&nbsp;train_test_split</span></span><br></pre><colab-read-only-cell-placeholder style="display: none;"><template shadowrootmode="open"><!----><div><!--?lit$291671447$-->Start coding or <span tabindex="0" role="button" class="link">generate</span> with AI.</div></template></colab-read-only-cell-placeholder></pre></div><colab-form class="formview vertical layout flex"><div class="widget-area vertical layout"></div></colab-form></div>
    <div class="output" aria-label="Cell 13 output" role="region"><!----> <div class="output-header"> </div>
        <div class="output-content" style="display: none;">
          <div class="output-info"> </div>
          <div class="output-iframe-container">
            <div class="output-iframe-sizer"> </div>
          </div>
        </div></div></div><colab-cell-next-steps><template shadowrootmode="open"><!----></template></colab-cell-next-steps></div></div><div class="add-cell">
      <div class="add-cell-buttons">
        <md-outlined-button class="add-code add-button" aria-label="Add code cell
Ctrl+M B" title="Add code cell
Ctrl+M B" role="presentation" value="" has-icon=""><template shadowrootmode="open" shadowrootdelegatesfocus><!---->
      <!--?lit$291671447$--><div class="outline"></div>
      <div class="background"></div>
      <md-focus-ring part="focus-ring" for="button" aria-hidden="true"><template shadowrootmode="open"><!----></template></md-focus-ring>
      <md-ripple for="button" aria-hidden="true"><template shadowrootmode="open"><!----><div class="surface   "></div></template></md-ripple>
      <!--?lit$291671447$--><button id="button" class="button" aria-label="Add code cell
Ctrl+M B">
      <!--?lit$291671447$-->
      <span class="touch"></span>
      <!--?lit$291671447$--><slot name="icon"></slot>
      <span class="label"><slot></slot></span>
      <!--?lit$291671447$-->
    
    </button>
    </template>
          <md-icon slot="icon" aria-hidden="true"><template shadowrootmode="open"><!----><slot></slot></template>add</md-icon>
          <!--?lit$291671447$-->Code
        </md-outlined-button>
        <md-outlined-button class="add-text add-button" aria-label="Add text cell" title="Add text cell" role="presentation" value="" has-icon=""><template shadowrootmode="open" shadowrootdelegatesfocus><!---->
      <!--?lit$291671447$--><div class="outline"></div>
      <div class="background"></div>
      <md-focus-ring part="focus-ring" for="button" aria-hidden="true"><template shadowrootmode="open"><!----></template></md-focus-ring>
      <md-ripple for="button" aria-hidden="true"><template shadowrootmode="open"><!----><div class="surface   "></div></template></md-ripple>
      <!--?lit$291671447$--><button id="button" class="button" aria-label="Add text cell">
      <!--?lit$291671447$-->
      <span class="touch"></span>
      <!--?lit$291671447$--><slot name="icon"></slot>
      <span class="label"><slot></slot></span>
      <!--?lit$291671447$-->
    
    </button>
    </template>
          <md-icon slot="icon" aria-hidden="true"><template shadowrootmode="open"><!----><slot></slot></template>add</md-icon>
          <!--?lit$291671447$-->Text
        </md-outlined-button>
        <!--?lit$291671447$-->
      </div><hr>
    </div></div><div class="cell code icon-scrolling" id="cell-sLovdDDXw8bp" tabindex="-1" role="region" aria-label="Cell 14: Code cell: " style=""><div class="cell-tag-editor sticky"></div><div class="cell-toolbar sticky"></div><div class="main-content" elevation="0"><div class="cell-contents"><div class="cell-mask"></div><span class="imported-info-area"></span><div class="codecell-input-output">
      <div class="inputarea horizontal layout code">
        <div class="cell-gutter">
          <!-- Bounding range for vertical scrolling of icons -->
          <div class="cell-execution-container">
            <colab-run-button title="Run cell (Ctrl+Enter)
cell has not been executed in this session" role="button" aria-label="Run cell"><template shadowrootmode="open"><!----> <div class="cell-execution stale">
      <div class="execution-count"><!--?lit$291671447$-->[ ]</div>
      <div class="cell-execution-indicator"> <!--?lit$291671447$-->
<svg xmlns="http://www.w3.org/2000/svg" viewBox="0 0 24 24">
  <!--?lit$291671447$-->
  <mask id="playSymbolMask">
    <rect width="100%" height="100%" fill="white"></rect>
    <polygon points="10,8 17,12 10,16" fill="black"></polygon>
  </mask>
  <circle cx="12" cy="12" r="7.8" mask="url(#playSymbolMask)" id="filledCircle"></circle>
</svg> </div>
      <!--?lit$291671447$--><!--?-->
    </div></template></colab-run-button>
          </div>
        </div>
      <div class="editor flex lazy-editor" style=""><pre class="lazy-virtualized" style="font-size: 14px; line-height: 19px;"><pre class="lazy-gutter"></pre><pre class="monaco-colorized colab-dark colab-dark colab-dark" data-lang="notebook-python"><span><span class="mtk1">xtrain</span><span class="mtk12">,</span><span class="mtk1">&nbsp;xtest</span><span class="mtk12">,</span><span class="mtk1">&nbsp;ytrain</span><span class="mtk12">,</span><span class="mtk1">&nbsp;ytest&nbsp;=&nbsp;train_test_split</span><span class="mtk12">(</span><span class="mtk1">x</span><span class="mtk12">,</span><span class="mtk1">&nbsp;y</span><span class="mtk12">,</span><span class="mtk1">&nbsp;test_size=</span><span class="mtk6">0.2</span><span class="mtk12">)</span></span><br></pre><colab-read-only-cell-placeholder style="display: none;"><template shadowrootmode="open"><!----><div><!--?lit$291671447$-->Start coding or <span tabindex="0" role="button" class="link">generate</span> with AI.</div></template></colab-read-only-cell-placeholder></pre></div><colab-form class="formview vertical layout flex"><div class="widget-area vertical layout"></div></colab-form></div>
    <div class="output" aria-label="Cell 14 output" role="region"><!----> <div class="output-header"> </div>
        <div class="output-content" style="display: none;">
          <div class="output-info"> </div>
          <div class="output-iframe-container">
            <div class="output-iframe-sizer"> </div>
          </div>
        </div></div></div><colab-cell-next-steps><template shadowrootmode="open"><!----></template></colab-cell-next-steps></div></div><div class="add-cell">
      <hr>
    </div></div><div class="cell code code-has-output icon-scrolling" id="cell-_7m0t-F4w-tB" tabindex="-1" role="region" aria-label="Cell 15: Code cell: " style=""><div class="cell-tag-editor sticky"></div><div class="cell-toolbar sticky"></div><div class="main-content" elevation="0"><div class="cell-contents"><div class="cell-mask"></div><span class="imported-info-area"></span><div class="codecell-input-output">
      <div class="inputarea horizontal layout code">
        <div class="cell-gutter">
          <!-- Bounding range for vertical scrolling of icons -->
          <div class="cell-execution-container">
            <colab-run-button title="Run cell (Ctrl+Enter)
cell has not been executed in this session

executed by Karthikaa Ravikumar
Friday, November 24, 2023
executed in 0.003s" role="button" aria-label="Run cell"><template shadowrootmode="open"><!----> <div class="cell-execution stale">
      <div class="execution-count"><!--?lit$291671447$-->[ ]</div>
      <div class="cell-execution-indicator"> <!--?lit$291671447$-->
<svg xmlns="http://www.w3.org/2000/svg" viewBox="0 0 24 24">
  <!--?lit$291671447$-->
  <mask id="playSymbolMask">
    <rect width="100%" height="100%" fill="white"></rect>
    <polygon points="10,8 17,12 10,16" fill="black"></polygon>
  </mask>
  <circle cx="12" cy="12" r="7.8" mask="url(#playSymbolMask)" id="filledCircle"></circle>
</svg> </div>
      <!--?lit$291671447$--><!--?-->
    </div></template></colab-run-button>
          </div>
        </div>
      <div class="editor flex lazy-editor" style=""><pre class="lazy-virtualized" style="font-size: 14px; line-height: 19px;"><pre class="lazy-gutter"></pre><pre class="monaco-colorized colab-dark colab-dark colab-dark" data-lang="notebook-python"><span><span class="mtk1">xtrain.shape</span><span class="mtk12">,</span><span class="mtk1">&nbsp;xtest.shape</span><span class="mtk12">,</span><span class="mtk1">&nbsp;ytrain.shape</span><span class="mtk12">,</span><span class="mtk1">&nbsp;ytest.shape</span></span><br></pre><colab-read-only-cell-placeholder style="display: none;"><template shadowrootmode="open"><!----><div><!--?lit$291671447$-->Start coding or <span tabindex="0" role="button" class="link">generate</span> with AI.</div></template></colab-read-only-cell-placeholder></pre></div><colab-form class="formview vertical layout flex"><div class="widget-area vertical layout"></div></colab-form></div>
    <div class="output" aria-label="Cell 15 output" role="region"><!----> <div class="output-header"> </div>
        <div class="output-content">
          <div class="output-info"><colab-output-info title="Clear output

executed by Karthikaa Ravikumar
Friday, November 24, 2023
executed in 0.003s" hovering=""><template shadowrootmode="open"><!----> <md-icon class="collaborator output" alt="Execution output" aria-hidden="true"><template shadowrootmode="open"><!----><slot></slot></template><!--?lit$291671447$-->output</md-icon>
      <!--?lit$291671447$--> <mwc-icon-button icon="cancel" command="clear-focused-or-selected-outputs" alt="Clear output"><template shadowrootmode="open"><!----><button class="mdc-icon-button mdc-icon-button--display-flex" aria-label="cancel"><!--?lit$291671447$-->
    <!--?lit$291671447$--><i class="material-icons"><!--?lit$291671447$-->cancel</i>
    <span><slot></slot></span>
  </button></template>
          </mwc-icon-button><!--?--></template></colab-output-info></div>
          <div class="output-iframe-container">
            <div class="output-iframe-sizer"> <div><div><colab-static-output-renderer tabindex="0" role="group"><div><div class="execute_result output_text"><pre>((4136,), (1035,), (4136,), (1035,))</pre></div></div><div></div></colab-static-output-renderer></div></div></div>
          </div>
        </div></div></div><colab-cell-next-steps><template shadowrootmode="open"><!----></template></colab-cell-next-steps></div></div><div class="add-cell">
      <hr>
    </div></div><div class="cell text" id="cell-MdqsWTJrxEvS" tabindex="-1" role="region" aria-label="Cell 16: Text cell: " style=""><div class="cell-tag-editor sticky"></div><div class="cell-toolbar sticky"></div><div class="main-content" elevation="0"><div class="cell-contents"><div class="cell-mask"></div><span class="imported-info-area"></span><!----> <div class="toolbar-root"></div>
      <div class="editor-container horizontal">
        <div class="editor-root"></div>
        <div class="text-top-div">
          <div class="markdown"><span><p>Feature Extraction</p>
</span></div>
        </div>
      </div>

      <div class="section-header" style="display: none;">
        <colab-run-button role="button" aria-label="Run cell"><template shadowrootmode="open"><!----> <div class="cell-execution">
      <div class="execution-count"><!--?lit$291671447$-->[ ]</div>
      <div class="cell-execution-indicator"> <!--?lit$291671447$-->
<svg xmlns="http://www.w3.org/2000/svg" viewBox="0 0 24 24">
  <!--?lit$291671447$-->
  <mask id="playSymbolMask">
    <rect width="100%" height="100%" fill="white"></rect>
    <polygon points="10,8 17,12 10,16" fill="black"></polygon>
  </mask>
  <circle cx="12" cy="12" r="7.8" mask="url(#playSymbolMask)" id="filledCircle"></circle>
</svg> </div>
      <!--?lit$291671447$--><!--?-->
    </div></template></colab-run-button>
        <div class="section-header-container" title="click to expand">↳ 0 cells hidden</div>
      </div></div></div><div class="add-cell">
      <hr>
    </div></div><div class="cell code icon-scrolling" id="cell-NJ3Ld175xBVo" tabindex="-1" role="region" aria-label="Cell 17: Code cell: " style=""><div class="cell-tag-editor sticky"></div><div class="cell-toolbar sticky"></div><div class="main-content" elevation="0"><div class="cell-contents"><div class="cell-mask"></div><span class="imported-info-area"></span><div class="codecell-input-output">
      <div class="inputarea horizontal layout code">
        <div class="cell-gutter">
          <!-- Bounding range for vertical scrolling of icons -->
          <div class="cell-execution-container">
            <colab-run-button title="Run cell (Ctrl+Enter)
cell has not been executed in this session" role="button" aria-label="Run cell"><template shadowrootmode="open"><!----> <div class="cell-execution  stale ">
      <div class="execution-count"><!--?lit$291671447$-->[ ]</div>
      <div class="cell-execution-indicator"> <!--?lit$291671447$-->
<svg xmlns="http://www.w3.org/2000/svg" viewBox="0 0 24 24">
  <!--?lit$291671447$-->
  <mask id="playSymbolMask">
    <rect width="100%" height="100%" fill="white"></rect>
    <polygon points="10,8 17,12 10,16" fill="black"></polygon>
  </mask>
  <circle cx="12" cy="12" r="7.8" mask="url(#playSymbolMask)" id="filledCircle"></circle>
</svg> </div>
      <!--?lit$291671447$--><!--?-->
    </div></template></colab-run-button>
          </div>
        </div>
      <div class="editor flex lazy-editor" style=""><pre class="lazy-virtualized" style="font-size: 14px; line-height: 19px;"><pre class="lazy-gutter"></pre><pre class="monaco-colorized colab-dark colab-dark colab-dark" data-lang="notebook-python"><span><span class="mtk18">from</span><span class="mtk1">&nbsp;sklearn.feature_extraction.text&nbsp;</span><span class="mtk18">import</span><span class="mtk1">&nbsp;CountVectorizer</span></span><br></pre><colab-read-only-cell-placeholder style="display: none;"><template shadowrootmode="open"><!----><div><!--?lit$291671447$-->Start coding or <span tabindex="0" role="button" class="link">generate</span> with AI.</div></template></colab-read-only-cell-placeholder></pre></div><colab-form class="formview vertical layout flex"><div class="widget-area vertical layout"></div></colab-form></div>
    <div class="output" aria-label="Cell 17 output" role="region"><!----> <div class="output-header"> </div>
        <div class="output-content" style="display: none;">
          <div class="output-info"> </div>
          <div class="output-iframe-container">
            <div class="output-iframe-sizer"> </div>
          </div>
        </div></div></div><colab-cell-next-steps><template shadowrootmode="open"><!----></template></colab-cell-next-steps></div></div><div class="add-cell">
      <hr>
    </div></div><div class="cell code icon-scrolling" id="cell-1Uk0lTUyxHTl" tabindex="-1" role="region" aria-label="Cell 18: Code cell: " style=""><div class="cell-tag-editor sticky"></div><div class="cell-toolbar sticky"></div><div class="main-content" elevation="0"><div class="cell-contents"><div class="cell-mask"></div><span class="imported-info-area"></span><div class="codecell-input-output">
      <div class="inputarea horizontal layout code">
        <div class="cell-gutter">
          <!-- Bounding range for vertical scrolling of icons -->
          <div class="cell-execution-container">
            <colab-run-button title="Run cell (Ctrl+Enter)
cell has not been executed in this session" role="button" aria-label="Run cell"><template shadowrootmode="open"><!----> <div class="cell-execution  stale ">
      <div class="execution-count"><!--?lit$291671447$-->[ ]</div>
      <div class="cell-execution-indicator"> <!--?lit$291671447$-->
<svg xmlns="http://www.w3.org/2000/svg" viewBox="0 0 24 24">
  <!--?lit$291671447$-->
  <mask id="playSymbolMask">
    <rect width="100%" height="100%" fill="white"></rect>
    <polygon points="10,8 17,12 10,16" fill="black"></polygon>
  </mask>
  <circle cx="12" cy="12" r="7.8" mask="url(#playSymbolMask)" id="filledCircle"></circle>
</svg> </div>
      <!--?lit$291671447$--><!--?-->
    </div></template></colab-run-button>
          </div>
        </div>
      <div class="editor flex lazy-editor" style=""><pre class="lazy-virtualized" style="font-size: 14px; line-height: 19px;"><pre class="lazy-gutter"></pre><pre class="monaco-colorized colab-dark colab-dark colab-dark" data-lang="notebook-python"><span><span class="mtk1">cv&nbsp;=&nbsp;CountVectorizer</span><span class="mtk12">()</span></span><br></pre><colab-read-only-cell-placeholder style="display: none;"><template shadowrootmode="open"><!----><div><!--?lit$291671447$-->Start coding or <span tabindex="0" role="button" class="link">generate</span> with AI.</div></template></colab-read-only-cell-placeholder></pre></div><colab-form class="formview vertical layout flex"><div class="widget-area vertical layout"></div></colab-form></div>
    <div class="output" aria-label="Cell 18 output" role="region"><!----> <div class="output-header"> </div>
        <div class="output-content" style="display: none;">
          <div class="output-info"> </div>
          <div class="output-iframe-container">
            <div class="output-iframe-sizer"> </div>
          </div>
        </div></div></div><colab-cell-next-steps><template shadowrootmode="open"><!----></template></colab-cell-next-steps></div></div><div class="add-cell">
      <hr>
    </div></div><div class="cell code icon-scrolling" id="cell-7CEfwQ0AxJop" tabindex="-1" role="region" aria-label="Cell 19: Code cell: " style=""><div class="cell-tag-editor sticky"></div><div class="cell-toolbar sticky"></div><div class="main-content" elevation="0"><div class="cell-contents"><div class="cell-mask"></div><span class="imported-info-area"></span><div class="codecell-input-output">
      <div class="inputarea horizontal layout code">
        <div class="cell-gutter">
          <!-- Bounding range for vertical scrolling of icons -->
          <div class="cell-execution-container">
            <colab-run-button title="Run cell (Ctrl+Enter)
cell has not been executed in this session" role="button" aria-label="Run cell"><template shadowrootmode="open"><!----> <div class="cell-execution stale">
      <div class="execution-count"><!--?lit$291671447$-->[ ]</div>
      <div class="cell-execution-indicator"> <!--?lit$291671447$-->
<svg xmlns="http://www.w3.org/2000/svg" viewBox="0 0 24 24">
  <!--?lit$291671447$-->
  <mask id="playSymbolMask">
    <rect width="100%" height="100%" fill="white"></rect>
    <polygon points="10,8 17,12 10,16" fill="black"></polygon>
  </mask>
  <circle cx="12" cy="12" r="7.8" mask="url(#playSymbolMask)" id="filledCircle"></circle>
</svg> </div>
      <!--?lit$291671447$--><!--?-->
    </div></template></colab-run-button>
          </div>
        </div>
      <div class="editor flex lazy-editor" style=""><pre class="lazy-virtualized" style="font-size: 14px; line-height: 19px;"><pre class="lazy-gutter"></pre><pre class="monaco-colorized colab-dark colab-dark colab-dark" data-lang="notebook-python"><span><span class="mtk1">xtrain&nbsp;=&nbsp;cv.fit_transform</span><span class="mtk12">(</span><span class="mtk1">xtrain</span><span class="mtk12">)</span></span><br><span><span class="mtk1">xtest&nbsp;=&nbsp;cv.transform</span><span class="mtk12">(</span><span class="mtk1">xtest</span><span class="mtk12">)</span></span><br></pre><colab-read-only-cell-placeholder style="display: none;"><template shadowrootmode="open"><!----><div><!--?lit$291671447$-->Start coding or <span tabindex="0" role="button" class="link">generate</span> with AI.</div></template></colab-read-only-cell-placeholder></pre></div><colab-form class="formview vertical layout flex"><div class="widget-area vertical layout"></div></colab-form></div>
    <div class="output" aria-label="Cell 19 output" role="region"><!----> <div class="output-header"> </div>
        <div class="output-content" style="display: none;">
          <div class="output-info"> </div>
          <div class="output-iframe-container">
            <div class="output-iframe-sizer"> </div>
          </div>
        </div></div></div><colab-cell-next-steps><template shadowrootmode="open"><!----></template></colab-cell-next-steps></div></div><div class="add-cell">
      <hr>
    </div></div><div class="cell code icon-scrolling" id="cell-FWNvrnZl0fa8" tabindex="-1" role="region" aria-label="Cell 20: Code cell: " style=""><div class="cell-tag-editor sticky"></div><div class="cell-toolbar sticky"></div><div class="main-content" elevation="0"><div class="cell-contents"><div class="cell-mask"></div><span class="imported-info-area"></span><div class="codecell-input-output">
      <div class="inputarea horizontal layout code">
        <div class="cell-gutter">
          <!-- Bounding range for vertical scrolling of icons -->
          <div class="cell-execution-container">
            <colab-run-button title="Run cell (Ctrl+Enter)
cell has not been executed in this session" role="button" aria-label="Run cell"><template shadowrootmode="open"><!----> <div class="cell-execution  stale ">
      <div class="execution-count"><!--?lit$291671447$-->[ ]</div>
      <div class="cell-execution-indicator"> <!--?lit$291671447$-->
<svg xmlns="http://www.w3.org/2000/svg" viewBox="0 0 24 24">
  <!--?lit$291671447$-->
  <mask id="playSymbolMask">
    <rect width="100%" height="100%" fill="white"></rect>
    <polygon points="10,8 17,12 10,16" fill="black"></polygon>
  </mask>
  <circle cx="12" cy="12" r="7.8" mask="url(#playSymbolMask)" id="filledCircle"></circle>
</svg> </div>
      <!--?lit$291671447$--><!--?-->
    </div></template></colab-run-button>
          </div>
        </div>
      <div class="editor flex lazy-editor" style=""><pre class="lazy-virtualized" style="font-size: 14px; line-height: 19px;"><pre class="lazy-gutter"></pre><pre class="monaco-colorized colab-dark colab-dark colab-dark" data-lang="notebook-python"><span><span class="mtk15">print</span><span class="mtk12">(</span><span class="mtk5">"Feature&nbsp;names:"</span><span class="mtk12">,</span><span class="mtk1">&nbsp;cv.get_feature_names</span><span class="mtk12">())</span></span><br></pre><colab-read-only-cell-placeholder style="display: none;"><template shadowrootmode="open"><!----><div><!--?lit$291671447$-->Start coding or <span tabindex="0" role="button" class="link">generate</span> with AI.</div></template></colab-read-only-cell-placeholder></pre></div><colab-form class="formview vertical layout flex"><div class="widget-area vertical layout"></div></colab-form></div>
    <div class="output" aria-label="Cell 20 output" role="region"><!----> <div class="output-header"> </div>
        <div class="output-content" style="display: none;">
          <div class="output-info"> </div>
          <div class="output-iframe-container">
            <div class="output-iframe-sizer"> </div>
          </div>
        </div></div></div><colab-cell-next-steps><template shadowrootmode="open"><!----></template></colab-cell-next-steps></div></div><div class="add-cell">
      <hr>
    </div></div><div class="cell text" id="cell-2gjv9QkzxonU" tabindex="-1" role="region" aria-label="Cell 21: Text cell: " style=""><div class="cell-tag-editor sticky"></div><div class="cell-toolbar sticky"></div><div class="main-content" elevation="0"><div class="cell-contents"><div class="cell-mask"></div><span class="imported-info-area"></span><!----> <div class="toolbar-root"></div>
      <div class="editor-container horizontal">
        <div class="editor-root"></div>
        <div class="text-top-div">
          <div class="markdown"><span><p>1.2 Logical Regression as Classifier</p>
</span></div>
        </div>
      </div>

      <div class="section-header" style="display: none;">
        <colab-run-button role="button" aria-label="Run cell"><template shadowrootmode="open"><!----> <div class="cell-execution   ">
      <div class="execution-count"><!--?lit$291671447$-->[ ]</div>
      <div class="cell-execution-indicator"> <!--?lit$291671447$-->
<svg xmlns="http://www.w3.org/2000/svg" viewBox="0 0 24 24">
  <!--?lit$291671447$-->
  <mask id="playSymbolMask">
    <rect width="100%" height="100%" fill="white"></rect>
    <polygon points="10,8 17,12 10,16" fill="black"></polygon>
  </mask>
  <circle cx="12" cy="12" r="7.8" mask="url(#playSymbolMask)" id="filledCircle"></circle>
</svg> </div>
      <!--?lit$291671447$--><!--?-->
    </div></template></colab-run-button>
        <div class="section-header-container" title="click to expand">↳ 0 cells hidden</div>
      </div></div></div><div class="add-cell">
      <hr>
    </div></div><div class="cell code icon-scrolling" id="cell-wOcmshrLxMqq" tabindex="-1" role="region" aria-label="Cell 22: Code cell: " style=""><div class="cell-tag-editor sticky"></div><div class="cell-toolbar sticky"></div><div class="main-content" elevation="0"><div class="cell-contents"><div class="cell-mask"></div><span class="imported-info-area"></span><div class="codecell-input-output">
      <div class="inputarea horizontal layout code">
        <div class="cell-gutter">
          <!-- Bounding range for vertical scrolling of icons -->
          <div class="cell-execution-container">
            <colab-run-button title="Run cell (Ctrl+Enter)
cell has not been executed in this session" role="button" aria-label="Run cell"><template shadowrootmode="open"><!----> <div class="cell-execution stale">
      <div class="execution-count"><!--?lit$291671447$-->[ ]</div>
      <div class="cell-execution-indicator"> <!--?lit$291671447$-->
<svg xmlns="http://www.w3.org/2000/svg" viewBox="0 0 24 24">
  <!--?lit$291671447$-->
  <mask id="playSymbolMask">
    <rect width="100%" height="100%" fill="white"></rect>
    <polygon points="10,8 17,12 10,16" fill="black"></polygon>
  </mask>
  <circle cx="12" cy="12" r="7.8" mask="url(#playSymbolMask)" id="filledCircle"></circle>
</svg> </div>
      <!--?lit$291671447$--><!--?-->
    </div></template></colab-run-button>
          </div>
        </div>
      <div class="editor flex lazy-editor" style=""><pre class="lazy-virtualized" style="font-size: 14px; line-height: 19px;"><pre class="lazy-gutter"></pre><pre class="monaco-colorized colab-dark colab-dark colab-dark" data-lang="notebook-python"><span><span class="mtk18">from</span><span class="mtk1">&nbsp;sklearn.linear_model&nbsp;</span><span class="mtk18">import</span><span class="mtk1">&nbsp;LogisticRegression</span></span><br></pre><colab-read-only-cell-placeholder style="display: none;"><template shadowrootmode="open"><!----><div><!--?lit$291671447$-->Start coding or <span tabindex="0" role="button" class="link">generate</span> with AI.</div></template></colab-read-only-cell-placeholder></pre></div><colab-form class="formview vertical layout flex"><div class="widget-area vertical layout"></div></colab-form></div>
    <div class="output" aria-label="Cell 22 output" role="region"><!----> <div class="output-header"> </div>
        <div class="output-content" style="display: none;">
          <div class="output-info"> </div>
          <div class="output-iframe-container">
            <div class="output-iframe-sizer"> </div>
          </div>
        </div></div></div><colab-cell-next-steps><template shadowrootmode="open"><!----></template></colab-cell-next-steps></div></div><div class="add-cell">
      <hr>
    </div></div><div class="cell code icon-scrolling" id="cell-EiQAod5Nxsvs" tabindex="-1" role="region" aria-label="Cell 23: Code cell: " style=""><div class="cell-tag-editor sticky"></div><div class="cell-toolbar sticky"></div><div class="main-content" elevation="0"><div class="cell-contents"><div class="cell-mask"></div><span class="imported-info-area"></span><div class="codecell-input-output">
      <div class="inputarea horizontal layout code">
        <div class="cell-gutter">
          <!-- Bounding range for vertical scrolling of icons -->
          <div class="cell-execution-container">
            <colab-run-button title="Run cell (Ctrl+Enter)
cell has not been executed in this session" role="button" aria-label="Run cell"><template shadowrootmode="open"><!----> <div class="cell-execution  stale ">
      <div class="execution-count"><!--?lit$291671447$-->[ ]</div>
      <div class="cell-execution-indicator"> <!--?lit$291671447$-->
<svg xmlns="http://www.w3.org/2000/svg" viewBox="0 0 24 24">
  <!--?lit$291671447$-->
  <mask id="playSymbolMask">
    <rect width="100%" height="100%" fill="white"></rect>
    <polygon points="10,8 17,12 10,16" fill="black"></polygon>
  </mask>
  <circle cx="12" cy="12" r="7.8" mask="url(#playSymbolMask)" id="filledCircle"></circle>
</svg> </div>
      <!--?lit$291671447$--><!--?-->
    </div></template></colab-run-button>
          </div>
        </div>
      <div class="editor flex lazy-editor" style=""><pre class="lazy-virtualized" style="font-size: 14px; line-height: 19px;"><pre class="lazy-gutter"></pre><pre class="monaco-colorized colab-dark colab-dark colab-dark" data-lang="notebook-python"><span><span class="mtk1">log&nbsp;=&nbsp;LogisticRegression</span><span class="mtk12">()</span></span><br></pre><colab-read-only-cell-placeholder style="display: none;"><template shadowrootmode="open"><!----><div><!--?lit$291671447$-->Start coding or <span tabindex="0" role="button" class="link">generate</span> with AI.</div></template></colab-read-only-cell-placeholder></pre></div><colab-form class="formview vertical layout flex"><div class="widget-area vertical layout"></div></colab-form></div>
    <div class="output" aria-label="Cell 23 output" role="region"><!----> <div class="output-header"> </div>
        <div class="output-content" style="display: none;">
          <div class="output-info"> </div>
          <div class="output-iframe-container">
            <div class="output-iframe-sizer"> </div>
          </div>
        </div></div></div><colab-cell-next-steps><template shadowrootmode="open"><!----></template></colab-cell-next-steps></div></div><div class="add-cell">
      <hr>
    </div></div><div class="cell code code-has-output icon-scrolling" id="cell-oDdP5WF0x-jb" tabindex="-1" role="region" aria-label="Cell 24: Code cell: " style=""><div class="cell-tag-editor sticky"></div><div class="cell-toolbar sticky"></div><div class="main-content" elevation="0"><div class="cell-contents"><div class="cell-mask"></div><span class="imported-info-area"></span><div class="codecell-input-output">
      <div class="inputarea horizontal layout code">
        <div class="cell-gutter">
          <!-- Bounding range for vertical scrolling of icons -->
          <div class="cell-execution-container">
            <colab-run-button title="Run cell (Ctrl+Enter)
cell has not been executed in this session

executed by Karthikaa Ravikumar
Friday, November 24, 2023
executed in 1.517s" role="button" aria-label="Run cell"><template shadowrootmode="open"><!----> <div class="cell-execution  stale ">
      <div class="execution-count"><!--?lit$291671447$-->[ ]</div>
      <div class="cell-execution-indicator"> <!--?lit$291671447$-->
<svg xmlns="http://www.w3.org/2000/svg" viewBox="0 0 24 24">
  <!--?lit$291671447$-->
  <mask id="playSymbolMask">
    <rect width="100%" height="100%" fill="white"></rect>
    <polygon points="10,8 17,12 10,16" fill="black"></polygon>
  </mask>
  <circle cx="12" cy="12" r="7.8" mask="url(#playSymbolMask)" id="filledCircle"></circle>
</svg> </div>
      <!--?lit$291671447$--><!--?-->
    </div></template></colab-run-button>
          </div>
        </div>
      <div class="editor flex lazy-editor" style=""><pre class="lazy-virtualized" style="font-size: 14px; line-height: 19px;"><pre class="lazy-gutter"></pre><pre class="monaco-colorized colab-dark colab-dark colab-dark" data-lang="notebook-python"><span><span class="mtk1">model&nbsp;=&nbsp;log.fit</span><span class="mtk12">(</span><span class="mtk1">xtrain</span><span class="mtk12">,</span><span class="mtk1">&nbsp;ytrain</span><span class="mtk12">)</span></span><br></pre><colab-read-only-cell-placeholder style="display: none;"><template shadowrootmode="open"><!----><div><!--?lit$291671447$-->Start coding or <span tabindex="0" role="button" class="link">generate</span> with AI.</div></template></colab-read-only-cell-placeholder></pre></div><colab-form class="formview vertical layout flex"><div class="widget-area vertical layout"></div></colab-form></div>
    <div class="output" aria-label="Cell 24 output" role="region"><!----> <div class="output-header"> </div>
        <div class="output-content">
          <div class="output-info"><colab-output-info title="Clear output

executed by Karthikaa Ravikumar
Friday, November 24, 2023
executed in 1.517s" hovering=""><template shadowrootmode="open"><!----> <md-icon class="collaborator output" alt="Execution output" aria-hidden="true"><template shadowrootmode="open"><!----><slot></slot></template><!--?lit$291671447$-->output</md-icon>
      <!--?lit$291671447$--> <mwc-icon-button icon="cancel" command="clear-focused-or-selected-outputs" alt="Clear output"><template shadowrootmode="open"><!----><button class="mdc-icon-button mdc-icon-button--display-flex" aria-label="cancel"><!--?lit$291671447$-->
    <!--?lit$291671447$--><i class="material-icons"><!--?lit$291671447$-->cancel</i>
    <span><slot></slot></span>
  </button></template>
          </mwc-icon-button><!--?--></template></colab-output-info></div>
          <div class="output-iframe-container">
            <div class="output-iframe-sizer"> <div><div><colab-static-output-renderer tabindex="0" role="group"><div><div class="stream output_text"><pre>/usr/local/lib/python3.10/dist-packages/sklearn/linear_model/_logistic.py:458: ConvergenceWarning: lbfgs failed to converge (status=1):
STOP: TOTAL NO. of ITERATIONS REACHED LIMIT.

Increase the number of iterations (max_iter) or scale the data as shown in:
    <a rel="nofollow" target="_blank" href="https://scikit-learn.org/stable/modules/preprocessing.html">https://scikit-learn.org/stable/modules/preprocessing.html</a>
Please also refer to the documentation for alternative solver options:
    <a rel="nofollow" target="_blank" href="https://scikit-learn.org/stable/modules/linear_model.html#logistic-regression">https://scikit-learn.org/stable/modules/linear_model.html#logistic-regression</a>
  n_iter_i = _check_optimize_result(
</pre></div></div><div></div></colab-static-output-renderer></div></div></div>
          </div>
        </div></div></div><colab-cell-next-steps><template shadowrootmode="open"><!----></template></colab-cell-next-steps></div></div><div class="add-cell">
      <hr>
    </div></div><div class="cell code code-has-output icon-scrolling" id="cell-9o8Vya51yDZQ" tabindex="-1" role="region" aria-label="Cell 25: Code cell: " style=""><div class="cell-tag-editor sticky"></div><div class="cell-toolbar sticky"></div><div class="main-content" elevation="0"><div class="cell-contents"><div class="cell-mask"></div><span class="imported-info-area"></span><div class="codecell-input-output">
      <div class="inputarea horizontal layout code">
        <div class="cell-gutter">
          <!-- Bounding range for vertical scrolling of icons -->
          <div class="cell-execution-container">
            <colab-run-button title="Run cell (Ctrl+Enter)
cell has not been executed in this session

executed by Karthikaa Ravikumar
Friday, November 24, 2023
executed in 0.012s" role="button" aria-label="Run cell"><template shadowrootmode="open"><!----> <div class="cell-execution stale">
      <div class="execution-count"><!--?lit$291671447$-->[ ]</div>
      <div class="cell-execution-indicator"> <!--?lit$291671447$-->
<svg xmlns="http://www.w3.org/2000/svg" viewBox="0 0 24 24">
  <!--?lit$291671447$-->
  <mask id="playSymbolMask">
    <rect width="100%" height="100%" fill="white"></rect>
    <polygon points="10,8 17,12 10,16" fill="black"></polygon>
  </mask>
  <circle cx="12" cy="12" r="7.8" mask="url(#playSymbolMask)" id="filledCircle"></circle>
</svg> </div>
      <!--?lit$291671447$--><!--?-->
    </div></template></colab-run-button>
          </div>
        </div>
      <div class="editor flex lazy-editor" style=""><pre class="lazy-virtualized" style="font-size: 14px; line-height: 19px;"><pre class="lazy-gutter"></pre><pre class="monaco-colorized colab-dark colab-dark colab-dark" data-lang="notebook-python"><span><span class="mtk1">log_train_pred&nbsp;=&nbsp;model.predict</span><span class="mtk12">(</span><span class="mtk1">xtrain</span><span class="mtk12">)</span></span><br><span><span class="mtk1">log_train_pred</span></span><br></pre><colab-read-only-cell-placeholder style="display: none;"><template shadowrootmode="open"><!----><div><!--?lit$291671447$-->Start coding or <span tabindex="0" role="button" class="link">generate</span> with AI.</div></template></colab-read-only-cell-placeholder></pre></div><colab-form class="formview vertical layout flex"><div class="widget-area vertical layout"></div></colab-form></div>
    <div class="output" aria-label="Cell 25 output" role="region"><!----> <div class="output-header"> </div>
        <div class="output-content">
          <div class="output-info"><colab-output-info title="Clear output

executed by Karthikaa Ravikumar
Friday, November 24, 2023
executed in 0.012s" hovering=""><template shadowrootmode="open"><!----> <md-icon class="collaborator output" alt="Execution output" aria-hidden="true"><template shadowrootmode="open"><!----><slot></slot></template><!--?lit$291671447$-->output</md-icon>
      <!--?lit$291671447$--> <mwc-icon-button icon="cancel" command="clear-focused-or-selected-outputs" alt="Clear output"><template shadowrootmode="open"><!----><button class="mdc-icon-button mdc-icon-button--display-flex" aria-label="cancel"><!--?lit$291671447$-->
    <!--?lit$291671447$--><i class="material-icons"><!--?lit$291671447$-->cancel</i>
    <span><slot></slot></span>
  </button></template>
          </mwc-icon-button><!--?--></template></colab-output-info></div>
          <div class="output-iframe-container">
            <div class="output-iframe-sizer"> <div><div><colab-static-output-renderer tabindex="0" role="group"><div><div class="execute_result output_text"><pre>array([0, 0, 1, ..., 0, 0, 1], dtype=int8)</pre></div></div><div></div></colab-static-output-renderer></div></div></div>
          </div>
        </div></div></div><colab-cell-next-steps><template shadowrootmode="open"><!----></template></colab-cell-next-steps></div></div><div class="add-cell">
      <hr>
    </div></div><div class="cell code icon-scrolling" id="cell-eQJcvHzNyN1C" tabindex="-1" role="region" aria-label="Cell 26: Code cell: " style=""><div class="cell-tag-editor sticky"></div><div class="cell-toolbar sticky"></div><div class="main-content" elevation="0"><div class="cell-contents"><div class="cell-mask"></div><span class="imported-info-area"></span><div class="codecell-input-output">
      <div class="inputarea horizontal layout code">
        <div class="cell-gutter">
          <!-- Bounding range for vertical scrolling of icons -->
          <div class="cell-execution-container">
            <colab-run-button title="Run cell (Ctrl+Enter)
cell has not been executed in this session" role="button" aria-label="Run cell"><template shadowrootmode="open"><!----> <div class="cell-execution  stale ">
      <div class="execution-count"><!--?lit$291671447$-->[ ]</div>
      <div class="cell-execution-indicator"> <!--?lit$291671447$-->
<svg xmlns="http://www.w3.org/2000/svg" viewBox="0 0 24 24">
  <!--?lit$291671447$-->
  <mask id="playSymbolMask">
    <rect width="100%" height="100%" fill="white"></rect>
    <polygon points="10,8 17,12 10,16" fill="black"></polygon>
  </mask>
  <circle cx="12" cy="12" r="7.8" mask="url(#playSymbolMask)" id="filledCircle"></circle>
</svg> </div>
      <!--?lit$291671447$--><!--?-->
    </div></template></colab-run-button>
          </div>
        </div>
      <div class="editor flex lazy-editor" style=""><pre class="lazy-virtualized" style="font-size: 14px; line-height: 19px;"><pre class="lazy-gutter"></pre><pre class="monaco-colorized colab-dark colab-dark colab-dark" data-lang="notebook-python"><span><span class="mtk1">log_test_pred&nbsp;=&nbsp;model.predict</span><span class="mtk12">(</span><span class="mtk1">xtest</span><span class="mtk12">)</span></span><br></pre><colab-read-only-cell-placeholder style="display: none;"><template shadowrootmode="open"><!----><div><!--?lit$291671447$-->Start coding or <span tabindex="0" role="button" class="link">generate</span> with AI.</div></template></colab-read-only-cell-placeholder></pre></div><colab-form class="formview vertical layout flex"><div class="widget-area vertical layout"></div></colab-form></div>
    <div class="output" aria-label="Cell 26 output" role="region"><!----> <div class="output-header"> </div>
        <div class="output-content" style="display: none;">
          <div class="output-info"> </div>
          <div class="output-iframe-container">
            <div class="output-iframe-sizer"> </div>
          </div>
        </div></div></div><colab-cell-next-steps><template shadowrootmode="open"><!----></template></colab-cell-next-steps></div></div><div class="add-cell">
      <hr>
    </div></div><div class="cell code code-has-output icon-scrolling" id="cell-xTRk7597yfkx" tabindex="-1" role="region" aria-label="Cell 27: Code cell: " style=""><div class="cell-tag-editor sticky"></div><div class="cell-toolbar sticky"></div><div class="main-content" elevation="0"><div class="cell-contents"><div class="cell-mask"></div><span class="imported-info-area"></span><div class="codecell-input-output">
      <div class="inputarea horizontal layout code">
        <div class="cell-gutter">
          <!-- Bounding range for vertical scrolling of icons -->
          <div class="cell-execution-container">
            <colab-run-button title="Run cell (Ctrl+Enter)
cell has not been executed in this session

executed by Karthikaa Ravikumar
Friday, November 24, 2023
executed in 0.008s" role="button" aria-label="Run cell"><template shadowrootmode="open"><!----> <div class="cell-execution  stale ">
      <div class="execution-count"><!--?lit$291671447$-->[ ]</div>
      <div class="cell-execution-indicator"> <!--?lit$291671447$-->
<svg xmlns="http://www.w3.org/2000/svg" viewBox="0 0 24 24">
  <!--?lit$291671447$-->
  <mask id="playSymbolMask">
    <rect width="100%" height="100%" fill="white"></rect>
    <polygon points="10,8 17,12 10,16" fill="black"></polygon>
  </mask>
  <circle cx="12" cy="12" r="7.8" mask="url(#playSymbolMask)" id="filledCircle"></circle>
</svg> </div>
      <!--?lit$291671447$--><!--?-->
    </div></template></colab-run-button>
          </div>
        </div>
      <div class="editor flex lazy-editor" style=""><pre class="lazy-virtualized" style="font-size: 14px; line-height: 19px;"><pre class="lazy-gutter"></pre><pre class="monaco-colorized colab-dark colab-dark colab-dark" data-lang="notebook-python"><span><span class="mtk1">log_test_pred</span></span><br></pre><colab-read-only-cell-placeholder style="display: none;"><template shadowrootmode="open"><!----><div><!--?lit$291671447$-->Start coding or <span tabindex="0" role="button" class="link">generate</span> with AI.</div></template></colab-read-only-cell-placeholder></pre></div><colab-form class="formview vertical layout flex"><div class="widget-area vertical layout"></div></colab-form></div>
    <div class="output" aria-label="Cell 27 output" role="region"><!----> <div class="output-header"> </div>
        <div class="output-content">
          <div class="output-info"><colab-output-info title="Clear output

executed by Karthikaa Ravikumar
Friday, November 24, 2023
executed in 0.008s" hovering=""><template shadowrootmode="open"><!----> <md-icon class="collaborator output" alt="Execution output" aria-hidden="true"><template shadowrootmode="open"><!----><slot></slot></template><!--?lit$291671447$-->output</md-icon>
      <!--?lit$291671447$--> <mwc-icon-button icon="cancel" command="clear-focused-or-selected-outputs" alt="Clear output"><template shadowrootmode="open"><!----><button class="mdc-icon-button mdc-icon-button--display-flex" aria-label="cancel"><!--?lit$291671447$-->
    <!--?lit$291671447$--><i class="material-icons"><!--?lit$291671447$-->cancel</i>
    <span><slot></slot></span>
  </button></template>
          </mwc-icon-button><!--?--></template></colab-output-info></div>
          <div class="output-iframe-container">
            <div class="output-iframe-sizer"> <div><div><colab-static-output-renderer tabindex="0" role="group"><div><div class="execute_result output_text"><pre>array([0, 0, 1, ..., 0, 0, 1], dtype=int8)</pre></div></div><div></div></colab-static-output-renderer></div></div></div>
          </div>
        </div></div></div><colab-cell-next-steps><template shadowrootmode="open"><!----></template></colab-cell-next-steps></div></div><div class="add-cell">
      <hr>
    </div></div><div class="cell text" id="cell-qdN1X2RyylCH" tabindex="-1" role="region" aria-label="Cell 28: Text cell: " style=""><div class="cell-tag-editor sticky"></div><div class="cell-toolbar sticky"></div><div class="main-content" elevation="0"><div class="cell-contents"><div class="cell-mask"></div><span class="imported-info-area"></span><!----> <div class="toolbar-root"></div>
      <div class="editor-container horizontal">
        <div class="editor-root"></div>
        <div class="text-top-div">
          <div class="markdown"><span><p>Performance Metrics</p>
</span></div>
        </div>
      </div>

      <div class="section-header" style="display: none;">
        <colab-run-button role="button" aria-label="Run cell"><template shadowrootmode="open"><!----> <div class="cell-execution   ">
      <div class="execution-count"><!--?lit$291671447$-->[ ]</div>
      <div class="cell-execution-indicator"> <!--?lit$291671447$-->
<svg xmlns="http://www.w3.org/2000/svg" viewBox="0 0 24 24">
  <!--?lit$291671447$-->
  <mask id="playSymbolMask">
    <rect width="100%" height="100%" fill="white"></rect>
    <polygon points="10,8 17,12 10,16" fill="black"></polygon>
  </mask>
  <circle cx="12" cy="12" r="7.8" mask="url(#playSymbolMask)" id="filledCircle"></circle>
</svg> </div>
      <!--?lit$291671447$--><!--?-->
    </div></template></colab-run-button>
        <div class="section-header-container" title="click to expand">↳ 0 cells hidden</div>
      </div></div></div><div class="add-cell">
      <hr>
    </div></div><div class="cell code icon-scrolling" id="cell-nA-USwE7yiCk" tabindex="-1" role="region" aria-label="Cell 29: Code cell: " style=""><div class="cell-tag-editor sticky"></div><div class="cell-toolbar sticky"></div><div class="main-content" elevation="0"><div class="cell-contents"><div class="cell-mask"></div><span class="imported-info-area"></span><div class="codecell-input-output">
      <div class="inputarea horizontal layout code">
        <div class="cell-gutter">
          <!-- Bounding range for vertical scrolling of icons -->
          <div class="cell-execution-container">
            <colab-run-button title="Run cell (Ctrl+Enter)
cell has not been executed in this session" role="button" aria-label="Run cell"><template shadowrootmode="open"><!----> <div class="cell-execution stale">
      <div class="execution-count"><!--?lit$291671447$-->[ ]</div>
      <div class="cell-execution-indicator"> <!--?lit$291671447$-->
<svg xmlns="http://www.w3.org/2000/svg" viewBox="0 0 24 24">
  <!--?lit$291671447$-->
  <mask id="playSymbolMask">
    <rect width="100%" height="100%" fill="white"></rect>
    <polygon points="10,8 17,12 10,16" fill="black"></polygon>
  </mask>
  <circle cx="12" cy="12" r="7.8" mask="url(#playSymbolMask)" id="filledCircle"></circle>
</svg> </div>
      <!--?lit$291671447$--><!--?-->
    </div></template></colab-run-button>
          </div>
        </div>
      <div class="editor flex lazy-editor" style=""><pre class="lazy-virtualized" style="font-size: 14px; line-height: 19px;"><pre class="lazy-gutter"></pre><pre class="monaco-colorized colab-dark colab-dark colab-dark" data-lang="notebook-python"><span><span class="mtk18">from</span><span class="mtk1">&nbsp;sklearn.metrics&nbsp;</span><span class="mtk18">import</span><span class="mtk1">&nbsp;accuracy_score</span><span class="mtk12">,</span><span class="mtk1">&nbsp;classification_report</span><span class="mtk12">,</span><span class="mtk1">&nbsp;confusion_matrix</span></span><br></pre><colab-read-only-cell-placeholder style="display: none;"><template shadowrootmode="open"><!----><div><!--?lit$291671447$-->Start coding or <span tabindex="0" role="button" class="link">generate</span> with AI.</div></template></colab-read-only-cell-placeholder></pre></div><colab-form class="formview vertical layout flex"><div class="widget-area vertical layout"></div></colab-form></div>
    <div class="output" aria-label="Cell 29 output" role="region"><!----> <div class="output-header"> </div>
        <div class="output-content" style="display: none;">
          <div class="output-info"> </div>
          <div class="output-iframe-container">
            <div class="output-iframe-sizer"> </div>
          </div>
        </div></div></div><colab-cell-next-steps><template shadowrootmode="open"><!----></template></colab-cell-next-steps></div></div><div class="add-cell">
      <hr>
    </div></div><div class="cell text" id="cell-6OMC5WEIyk72" tabindex="-1" role="region" aria-label="Cell 30: Text cell: " style=""><div class="cell-tag-editor sticky"></div><div class="cell-toolbar sticky"></div><div class="main-content" elevation="0"><div class="cell-contents"><div class="cell-mask"></div><span class="imported-info-area"></span><!----> <div class="toolbar-root"></div>
      <div class="editor-container horizontal">
        <div class="editor-root"></div>
        <div class="text-top-div">
          <div class="markdown"><span><p>Accuracy Score</p>
</span></div>
        </div>
      </div>

      <div class="section-header" style="display: none;">
        <colab-run-button role="button" aria-label="Run cell"><template shadowrootmode="open"><!----> <div class="cell-execution   ">
      <div class="execution-count"><!--?lit$291671447$-->[ ]</div>
      <div class="cell-execution-indicator"> <!--?lit$291671447$-->
<svg xmlns="http://www.w3.org/2000/svg" viewBox="0 0 24 24">
  <!--?lit$291671447$-->
  <mask id="playSymbolMask">
    <rect width="100%" height="100%" fill="white"></rect>
    <polygon points="10,8 17,12 10,16" fill="black"></polygon>
  </mask>
  <circle cx="12" cy="12" r="7.8" mask="url(#playSymbolMask)" id="filledCircle"></circle>
</svg> </div>
      <!--?lit$291671447$--><!--?-->
    </div></template></colab-run-button>
        <div class="section-header-container" title="click to expand">↳ 0 cells hidden</div>
      </div></div></div><div class="add-cell">
      <hr>
    </div></div><div class="cell code code-has-output icon-scrolling" id="cell-52rVJgONy4GV" tabindex="-1" role="region" aria-label="Cell 31: Code cell: " style=""><div class="cell-tag-editor sticky"></div><div class="cell-toolbar sticky"></div><div class="main-content" elevation="0"><div class="cell-contents"><div class="cell-mask"></div><span class="imported-info-area"></span><div class="codecell-input-output">
      <div class="inputarea horizontal layout code">
        <div class="cell-gutter">
          <!-- Bounding range for vertical scrolling of icons -->
          <div class="cell-execution-container">
            <colab-run-button title="Run cell (Ctrl+Enter)
cell has not been executed in this session

executed by Karthikaa Ravikumar
Friday, November 24, 2023
executed in 0.636s" role="button" aria-label="Run cell"><template shadowrootmode="open"><!----> <div class="cell-execution  stale ">
      <div class="execution-count"><!--?lit$291671447$-->[ ]</div>
      <div class="cell-execution-indicator"> <!--?lit$291671447$-->
<svg xmlns="http://www.w3.org/2000/svg" viewBox="0 0 24 24">
  <!--?lit$291671447$-->
  <mask id="playSymbolMask">
    <rect width="100%" height="100%" fill="white"></rect>
    <polygon points="10,8 17,12 10,16" fill="black"></polygon>
  </mask>
  <circle cx="12" cy="12" r="7.8" mask="url(#playSymbolMask)" id="filledCircle"></circle>
</svg> </div>
      <!--?lit$291671447$--><!--?-->
    </div></template></colab-run-button>
          </div>
        </div>
      <div class="editor flex lazy-editor" style=""><pre class="lazy-virtualized" style="font-size: 14px; line-height: 19px;"><pre class="lazy-gutter"></pre><pre class="monaco-colorized colab-dark colab-dark colab-dark" data-lang="notebook-python"><span><span class="mtk15">print</span><span class="mtk12">(</span><span class="mtk5">"Logistic&nbsp;Regression&nbsp;Training&nbsp;-&nbsp;Accuracy&nbsp;Score:&nbsp;"</span><span class="mtk12">,</span><span class="mtk1">accuracy_score</span><span class="mtk12">(</span><span class="mtk1">ytrain</span><span class="mtk12">,</span><span class="mtk1">&nbsp;log_train_pred</span><span class="mtk12">))</span></span><br></pre><colab-read-only-cell-placeholder style="display: none;"><template shadowrootmode="open"><!----><div><!--?lit$291671447$-->Start coding or <span tabindex="0" role="button" class="link">generate</span> with AI.</div></template></colab-read-only-cell-placeholder></pre></div><colab-form class="formview vertical layout flex"><div class="widget-area vertical layout"></div></colab-form></div>
    <div class="output" aria-label="Cell 31 output" role="region"><!----> <div class="output-header"> </div>
        <div class="output-content">
          <div class="output-info"><colab-output-info title="Clear output

executed by Karthikaa Ravikumar
Friday, November 24, 2023
executed in 0.636s" hovering=""><template shadowrootmode="open"><!----> <md-icon class="collaborator output" alt="Execution output" aria-hidden="true"><template shadowrootmode="open"><!----><slot></slot></template><!--?lit$291671447$-->output</md-icon>
      <!--?lit$291671447$--> <mwc-icon-button icon="cancel" command="clear-focused-or-selected-outputs" alt="Clear output"><template shadowrootmode="open"><!----><button class="mdc-icon-button mdc-icon-button--display-flex" aria-label="cancel"><!--?lit$291671447$-->
    <!--?lit$291671447$--><i class="material-icons"><!--?lit$291671447$-->cancel</i>
    <span><slot></slot></span>
  </button></template>
          </mwc-icon-button><!--?--></template></colab-output-info></div>
          <div class="output-iframe-container">
            <div class="output-iframe-sizer"> <div><div><colab-static-output-renderer tabindex="0" role="group"><div><div class="stream output_text"><pre>Logistic Regression Training - Accuracy Score:  0.9997582205029013
</pre></div></div><div></div></colab-static-output-renderer></div></div></div>
          </div>
        </div></div></div><colab-cell-next-steps><template shadowrootmode="open"><!----></template></colab-cell-next-steps></div></div><div class="add-cell">
      <hr>
    </div></div><div class="cell code code-has-output icon-scrolling" id="cell--Kf-Aw7oy9ql" tabindex="-1" role="region" aria-label="Cell 32: Code cell: " style=""><div class="cell-tag-editor sticky"></div><div class="cell-toolbar sticky"></div><div class="main-content" elevation="0"><div class="cell-contents"><div class="cell-mask"></div><span class="imported-info-area"></span><div class="codecell-input-output">
      <div class="inputarea horizontal layout code">
        <div class="cell-gutter">
          <!-- Bounding range for vertical scrolling of icons -->
          <div class="cell-execution-container">
            <colab-run-button title="Run cell (Ctrl+Enter)
cell has not been executed in this session

executed by Karthikaa Ravikumar
Friday, November 24, 2023
executed in 0.005s" role="button" aria-label="Run cell"><template shadowrootmode="open"><!----> <div class="cell-execution  stale ">
      <div class="execution-count"><!--?lit$291671447$-->[ ]</div>
      <div class="cell-execution-indicator"> <!--?lit$291671447$-->
<svg xmlns="http://www.w3.org/2000/svg" viewBox="0 0 24 24">
  <!--?lit$291671447$-->
  <mask id="playSymbolMask">
    <rect width="100%" height="100%" fill="white"></rect>
    <polygon points="10,8 17,12 10,16" fill="black"></polygon>
  </mask>
  <circle cx="12" cy="12" r="7.8" mask="url(#playSymbolMask)" id="filledCircle"></circle>
</svg> </div>
      <!--?lit$291671447$--><!--?-->
    </div></template></colab-run-button>
          </div>
        </div>
      <div class="editor flex lazy-editor" style=""><pre class="lazy-virtualized" style="font-size: 14px; line-height: 19px;"><pre class="lazy-gutter"></pre><pre class="monaco-colorized colab-dark colab-dark colab-dark" data-lang="notebook-python"><span><span class="mtk15">print</span><span class="mtk12">(</span><span class="mtk5">"Logistic&nbsp;Regression&nbsp;Testing&nbsp;-&nbsp;Accuracy&nbsp;Score:&nbsp;"</span><span class="mtk12">,</span><span class="mtk1">accuracy_score</span><span class="mtk12">(</span><span class="mtk1">ytest</span><span class="mtk12">,</span><span class="mtk1">&nbsp;log_test_pred</span><span class="mtk12">))</span></span><br></pre><colab-read-only-cell-placeholder style="display: none;"><template shadowrootmode="open"><!----><div><!--?lit$291671447$-->Start coding or <span tabindex="0" role="button" class="link">generate</span> with AI.</div></template></colab-read-only-cell-placeholder></pre></div><colab-form class="formview vertical layout flex"><div class="widget-area vertical layout"></div></colab-form></div>
    <div class="output" aria-label="Cell 32 output" role="region"><!----> <div class="output-header"> </div>
        <div class="output-content">
          <div class="output-info"><colab-output-info title="Clear output

executed by Karthikaa Ravikumar
Friday, November 24, 2023
executed in 0.005s" hovering=""><template shadowrootmode="open"><!----> <md-icon class="collaborator output" alt="Execution output" aria-hidden="true"><template shadowrootmode="open"><!----><slot></slot></template><!--?lit$291671447$-->output</md-icon>
      <!--?lit$291671447$--> <mwc-icon-button icon="cancel" command="clear-focused-or-selected-outputs" alt="Clear output"><template shadowrootmode="open"><!----><button class="mdc-icon-button mdc-icon-button--display-flex" aria-label="cancel"><!--?lit$291671447$-->
    <!--?lit$291671447$--><i class="material-icons"><!--?lit$291671447$-->cancel</i>
    <span><slot></slot></span>
  </button></template>
          </mwc-icon-button><!--?--></template></colab-output-info></div>
          <div class="output-iframe-container">
            <div class="output-iframe-sizer"> <div><div><colab-static-output-renderer tabindex="0" role="group"><div><div class="stream output_text"><pre>Logistic Regression Testing - Accuracy Score:  0.9758454106280193
</pre></div></div><div></div></colab-static-output-renderer></div></div></div>
          </div>
        </div></div></div><colab-cell-next-steps><template shadowrootmode="open"><!----></template></colab-cell-next-steps></div></div><div class="add-cell">
      <hr>
    </div></div><div class="cell text" id="cell-LQJzqff9zHSv" tabindex="-1" role="region" aria-label="Cell 33: Text cell: " style=""><div class="cell-tag-editor sticky"></div><div class="cell-toolbar sticky"></div><div class="main-content" elevation="0"><div class="cell-contents"><div class="cell-mask"></div><span class="imported-info-area"></span><!----> <div class="toolbar-root"></div>
      <div class="editor-container horizontal">
        <div class="editor-root"></div>
        <div class="text-top-div">
          <div class="markdown"><span><p>Classification Report</p>
</span></div>
        </div>
      </div>

      <div class="section-header" style="display: none;">
        <colab-run-button role="button" aria-label="Run cell"><template shadowrootmode="open"><!----> <div class="cell-execution   ">
      <div class="execution-count"><!--?lit$291671447$-->[ ]</div>
      <div class="cell-execution-indicator"> <!--?lit$291671447$-->
<svg xmlns="http://www.w3.org/2000/svg" viewBox="0 0 24 24">
  <!--?lit$291671447$-->
  <mask id="playSymbolMask">
    <rect width="100%" height="100%" fill="white"></rect>
    <polygon points="10,8 17,12 10,16" fill="black"></polygon>
  </mask>
  <circle cx="12" cy="12" r="7.8" mask="url(#playSymbolMask)" id="filledCircle"></circle>
</svg> </div>
      <!--?lit$291671447$--><!--?-->
    </div></template></colab-run-button>
        <div class="section-header-container" title="click to expand">↳ 0 cells hidden</div>
      </div></div></div><div class="add-cell">
      <hr>
    </div></div><div class="cell code icon-scrolling" id="cell-gq9OPsZfzBoB" tabindex="-1" role="region" aria-label="Cell 34: Code cell: " style=""><div class="cell-tag-editor sticky"></div><div class="cell-toolbar sticky"></div><div class="main-content" elevation="0"><div class="cell-contents"><div class="cell-mask"></div><span class="imported-info-area"></span><div class="codecell-input-output">
      <div class="inputarea horizontal layout code">
        <div class="cell-gutter">
          <!-- Bounding range for vertical scrolling of icons -->
          <div class="cell-execution-container">
            <colab-run-button title="Run cell (Ctrl+Enter)
cell has not been executed in this session" role="button" aria-label="Run cell"><template shadowrootmode="open"><!----> <div class="cell-execution  stale ">
      <div class="execution-count"><!--?lit$291671447$-->[ ]</div>
      <div class="cell-execution-indicator"> <!--?lit$291671447$-->
<svg xmlns="http://www.w3.org/2000/svg" viewBox="0 0 24 24">
  <!--?lit$291671447$-->
  <mask id="playSymbolMask">
    <rect width="100%" height="100%" fill="white"></rect>
    <polygon points="10,8 17,12 10,16" fill="black"></polygon>
  </mask>
  <circle cx="12" cy="12" r="7.8" mask="url(#playSymbolMask)" id="filledCircle"></circle>
</svg> </div>
      <!--?lit$291671447$--><!--?-->
    </div></template></colab-run-button>
          </div>
        </div>
      <div class="editor flex lazy-editor" style=""><pre class="lazy-virtualized" style="font-size: 14px; line-height: 19px;"><pre class="lazy-gutter"></pre><pre class="monaco-colorized colab-dark colab-dark colab-dark" data-lang="notebook-python"><span><span class="mtk1">log_train_cr&nbsp;=&nbsp;classification_report</span><span class="mtk12">(</span><span class="mtk1">ytrain</span><span class="mtk12">,</span><span class="mtk1">&nbsp;log_train_pred</span><span class="mtk12">)</span></span><br></pre><colab-read-only-cell-placeholder style="display: none;"><template shadowrootmode="open"><!----><div><!--?lit$291671447$-->Start coding or <span tabindex="0" role="button" class="link">generate</span> with AI.</div></template></colab-read-only-cell-placeholder></pre></div><colab-form class="formview vertical layout flex"><div class="widget-area vertical layout"></div></colab-form></div>
    <div class="output" aria-label="Cell 34 output" role="region"><!----> <div class="output-header"> </div>
        <div class="output-content" style="display: none;">
          <div class="output-info"> </div>
          <div class="output-iframe-container">
            <div class="output-iframe-sizer"> </div>
          </div>
        </div></div></div><colab-cell-next-steps><template shadowrootmode="open"><!----></template></colab-cell-next-steps></div></div><div class="add-cell">
      <hr>
    </div></div><div class="cell code code-has-output icon-scrolling" id="cell-xFO6uceczLTq" tabindex="-1" role="region" aria-label="Cell 35: Code cell: " style=""><div class="cell-tag-editor sticky"></div><div class="cell-toolbar sticky"></div><div class="main-content" elevation="0"><div class="cell-contents"><div class="cell-mask"></div><span class="imported-info-area"></span><div class="codecell-input-output">
      <div class="inputarea horizontal layout code">
        <div class="cell-gutter">
          <!-- Bounding range for vertical scrolling of icons -->
          <div class="cell-execution-container">
            <colab-run-button title="Run cell (Ctrl+Enter)
cell has not been executed in this session

executed by Karthikaa Ravikumar
Friday, November 24, 2023
executed in 0.005s" role="button" aria-label="Run cell"><template shadowrootmode="open"><!----> <div class="cell-execution stale">
      <div class="execution-count"><!--?lit$291671447$-->[ ]</div>
      <div class="cell-execution-indicator"> <!--?lit$291671447$-->
<svg xmlns="http://www.w3.org/2000/svg" viewBox="0 0 24 24">
  <!--?lit$291671447$-->
  <mask id="playSymbolMask">
    <rect width="100%" height="100%" fill="white"></rect>
    <polygon points="10,8 17,12 10,16" fill="black"></polygon>
  </mask>
  <circle cx="12" cy="12" r="7.8" mask="url(#playSymbolMask)" id="filledCircle"></circle>
</svg> </div>
      <!--?lit$291671447$--><!--?-->
    </div></template></colab-run-button>
          </div>
        </div>
      <div class="editor flex lazy-editor" style=""><pre class="lazy-virtualized" style="font-size: 14px; line-height: 19px;"><pre class="lazy-gutter"></pre><pre class="monaco-colorized colab-dark colab-dark colab-dark" data-lang="notebook-python"><span><span class="mtk15">print</span><span class="mtk12">(</span><span class="mtk5">"Logistic&nbsp;Regression&nbsp;Training&nbsp;-&nbsp;Classification&nbsp;Rep</span><span class="mtk5">ort&nbsp;\n\n"</span><span class="mtk12">,</span><span class="mtk1">&nbsp;log_train_cr</span><span class="mtk12">)</span></span><br></pre><colab-read-only-cell-placeholder style="display: none;"><template shadowrootmode="open"><!----><div><!--?lit$291671447$-->Start coding or <span tabindex="0" role="button" class="link">generate</span> with AI.</div></template></colab-read-only-cell-placeholder></pre></div><colab-form class="formview vertical layout flex"><div class="widget-area vertical layout"></div></colab-form></div>
    <div class="output" aria-label="Cell 35 output" role="region"><!----> <div class="output-header"> </div>
        <div class="output-content">
          <div class="output-info"><colab-output-info title="Clear output

executed by Karthikaa Ravikumar
Friday, November 24, 2023
executed in 0.005s" hovering=""><template shadowrootmode="open"><!----> <md-icon class="collaborator output" alt="Execution output" aria-hidden="true"><template shadowrootmode="open"><!----><slot></slot></template><!--?lit$291671447$-->output</md-icon>
      <!--?lit$291671447$--> <mwc-icon-button icon="cancel" command="clear-focused-or-selected-outputs" alt="Clear output"><template shadowrootmode="open"><!----><button class="mdc-icon-button mdc-icon-button--display-flex" aria-label="cancel"><!--?lit$291671447$-->
    <!--?lit$291671447$--><i class="material-icons"><!--?lit$291671447$-->cancel</i>
    <span><slot></slot></span>
  </button></template>
          </mwc-icon-button><!--?--></template></colab-output-info></div>
          <div class="output-iframe-container">
            <div class="output-iframe-sizer"> <div><div><colab-static-output-renderer tabindex="0" role="group"><div><div class="stream output_text"><pre>Logistic Regression Training - Classification Report 

               precision    recall  f1-score   support

           0       1.00      1.00      1.00      2923
           1       1.00      1.00      1.00      1213

    accuracy                           1.00      4136
   macro avg       1.00      1.00      1.00      4136
weighted avg       1.00      1.00      1.00      4136

</pre></div></div><div></div></colab-static-output-renderer></div></div></div>
          </div>
        </div></div></div><colab-cell-next-steps><template shadowrootmode="open"><!----></template></colab-cell-next-steps></div></div><div class="add-cell">
      <hr>
    </div></div><div class="cell code icon-scrolling" id="cell-_CURv7PKzNoQ" tabindex="-1" role="region" aria-label="Cell 36: Code cell: " style=""><div class="cell-tag-editor sticky"></div><div class="cell-toolbar sticky"></div><div class="main-content" elevation="0"><div class="cell-contents"><div class="cell-mask"></div><span class="imported-info-area"></span><div class="codecell-input-output">
      <div class="inputarea horizontal layout code">
        <div class="cell-gutter">
          <!-- Bounding range for vertical scrolling of icons -->
          <div class="cell-execution-container">
            <colab-run-button title="Run cell (Ctrl+Enter)
cell has not been executed in this session" role="button" aria-label="Run cell"><template shadowrootmode="open"><!----> <div class="cell-execution stale">
      <div class="execution-count"><!--?lit$291671447$-->[ ]</div>
      <div class="cell-execution-indicator"> <!--?lit$291671447$-->
<svg xmlns="http://www.w3.org/2000/svg" viewBox="0 0 24 24">
  <!--?lit$291671447$-->
  <mask id="playSymbolMask">
    <rect width="100%" height="100%" fill="white"></rect>
    <polygon points="10,8 17,12 10,16" fill="black"></polygon>
  </mask>
  <circle cx="12" cy="12" r="7.8" mask="url(#playSymbolMask)" id="filledCircle"></circle>
</svg> </div>
      <!--?lit$291671447$--><!--?-->
    </div></template></colab-run-button>
          </div>
        </div>
      <div class="editor flex lazy-editor" style=""><div class="editor flex monaco" data-keybinding-context="48" data-mode-id="notebook-python" style="height: 29px; --vscode-editorCodeLens-lineHeight: 16px; --vscode-editorCodeLens-fontSize: 12px; --vscode-editorCodeLens-fontFeatureSettings: &quot;liga&quot; off, &quot;calt&quot; off;"><div class="monaco-editor no-user-select  showUnused showDeprecated vs-dark" role="code" data-uri="inmemory://model/39" style="width: 627px; height: 29px;"><div data-mprt="3" class="overflow-guard" style="width: 627px; height: 29px;"><div class="margin" role="presentation" aria-hidden="true" style="position: absolute; contain: strict; will-change: unset; top: 0px; height: 29px; width: 6px;"><div class="glyph-margin" style="left: 0px; width: 0px; height: 29px;"></div><div class="margin-view-zones" role="presentation" aria-hidden="true" style="position: absolute;"></div><div class="margin-view-overlays" role="presentation" aria-hidden="true" style="position: absolute; font-family: monospace, Consolas, &quot;Courier New&quot;, monospace; font-weight: normal; font-size: 14px; font-feature-settings: &quot;liga&quot; 0, &quot;calt&quot; 0; font-variation-settings: normal; line-height: 19px; letter-spacing: 0px; width: 6px; height: 29px;"><div style="position:absolute;top:0px;width:100%;height:19px;"><div class="current-line current-line-margin-both" style="width:6px; height:19px;"></div></div></div><div class="glyph-margin-widgets" style="position: absolute; top: 0px;"></div></div><div class="monaco-scrollable-element editor-scrollable vs-dark" role="presentation" data-mprt="5" style="position: absolute; overflow: hidden; left: 6px; width: 621px; height: 29px;"><div class="lines-content monaco-editor-background" style="position: absolute; overflow: hidden; width: 1e+06px; height: 29px; contain: strict; will-change: unset; top: 0px; left: 0px;"><div class="view-overlays" role="presentation" aria-hidden="true" style="position: absolute; font-family: monospace, Consolas, &quot;Courier New&quot;, monospace; font-weight: normal; font-size: 14px; font-feature-settings: &quot;liga&quot; 0, &quot;calt&quot; 0; font-variation-settings: normal; line-height: 19px; letter-spacing: 0px; height: 0px; width: 621px;"><div style="position:absolute;top:0px;width:100%;height:19px;"><div class="current-line" style="width:621px; height:19px;"></div></div></div><div role="presentation" aria-hidden="true" class="view-rulers"></div><div class="view-zones" role="presentation" aria-hidden="true" style="position: absolute;"></div><div class="view-lines monaco-mouse-cursor-text" role="presentation" aria-hidden="true" data-mprt="7" style="position: absolute; font-family: monospace, Consolas, &quot;Courier New&quot;, monospace; font-weight: normal; font-size: 14px; font-feature-settings: &quot;liga&quot; 0, &quot;calt&quot; 0; font-variation-settings: normal; line-height: 19px; letter-spacing: 0px; width: 621px; height: 29px;"><div style="top:0px;height:19px;" class="view-line"><span><span class="mtk1">log_test_cr&nbsp;=&nbsp;classification_report</span><span class="mtk12 bracket-highlighting-0">(</span><span class="mtk1">ytest</span><span class="mtk12">,</span><span class="mtk1">&nbsp;log_test_pred</span><span class="mtk12 bracket-highlighting-0">)</span></span></div></div><div data-mprt="1" class="contentWidgets" style="position: absolute; top: 0px;"></div><div role="presentation" aria-hidden="true" class="cursors-layer cursor-line-style cursor-solid"><div class="cursor monaco-mouse-cursor-text " style="height: 19px; top: 0px; left: 0px; font-family: monospace, Consolas, &quot;Courier New&quot;, monospace; font-weight: normal; font-size: 14px; font-feature-settings: &quot;liga&quot; 0, &quot;calt&quot; 0; font-variation-settings: normal; line-height: 19px; letter-spacing: 0px; display: block; visibility: hidden; padding-left: 0px; width: 2px;"></div></div></div><div role="presentation" aria-hidden="true" class="invisible scrollbar horizontal" style="position: absolute; width: 607px; height: 10px; left: 0px; bottom: 0px;"><div class="slider" style="position: absolute; top: 0px; left: 0px; height: 10px; transform: translate3d(0px, 0px, 0px); contain: strict; will-change: unset; width: 607px;"></div></div><canvas class="decorationsOverviewRuler" aria-hidden="true" width="35" height="72" style="position: absolute; transform: translate3d(0px, 0px, 0px); contain: strict; top: 0px; right: 0px; width: 14px; height: 29px; will-change: unset; display: block;"></canvas><div role="presentation" aria-hidden="true" class="invisible scrollbar vertical" style="position: absolute; width: 14px; height: 29px; right: 0px; top: 0px;"><div class="slider" style="position: absolute; top: 0px; left: 0px; width: 14px; transform: translate3d(0px, 0px, 0px); contain: strict; will-change: unset; height: 29px;"></div></div></div><div role="presentation" aria-hidden="true" style="width: 627px;"></div><textarea data-mprt="6" class="inputarea monaco-mouse-cursor-text" wrap="on" autocorrect="off" autocapitalize="off" autocomplete="off" spellcheck="false" aria-label="Editor content;Press Alt+F1 for Accessibility Options." tabindex="0" role="textbox" aria-roledescription="editor" aria-multiline="true" aria-haspopup="false" aria-autocomplete="both" style="tab-size: 15.3984px; font-family: monospace, Consolas, &quot;Courier New&quot;, monospace; font-weight: normal; font-size: 14px; font-feature-settings: &quot;liga&quot; 0, &quot;calt&quot; 0; font-variation-settings: normal; line-height: 19px; letter-spacing: 0px; top: 0px; left: 6px; width: 627px; height: 1px;"></textarea><div class="monaco-editor-background textAreaCover" style="position: absolute; top: 0px; left: 0px; width: 0px; height: 0px;"></div><div data-mprt="4" class="overlayWidgets" style="width: 627px;"><div widgetid="editor.contrib.quickInputWidget" style="position: absolute; top: 0px; right: 50%;"></div></div><div data-mprt="8" class="minimap slider-mouseover" role="presentation" aria-hidden="true" style="position: absolute; left: 0px; width: 0px; height: 29px;"><div class="minimap-shadow-hidden" style="height: 29px;"></div><canvas width="0" height="72" style="position: absolute; left: 0px; width: 0px; height: 29px;"></canvas><canvas class="minimap-decorations-layer" width="0" height="72" style="position: absolute; left: 0px; width: 0px; height: 29px;"></canvas><div class="minimap-slider" style="position: absolute; transform: translate3d(0px, 0px, 0px); contain: strict; width: 0px; will-change: unset;"><div class="minimap-slider-horizontal" style="position: absolute; width: 0px; height: 0px;"></div></div></div><div role="presentation" aria-hidden="true" class="blockDecorations-container"></div></div><div data-mprt="2" class="overflowingContentWidgets"><div widgetid="editor.contrib.resizableContentHoverWidget" style="position: fixed; height: 10px; width: 10px; z-index: 50; display: none; visibility: hidden; max-width: 1152px;"><div class="monaco-sash vertical" style="left: 8px;"></div><div class="monaco-sash vertical" style="left: -2px;"></div><div class="monaco-sash orthogonal-edge-north horizontal" style="top: -2px;"><div class="orthogonal-drag-handle start"></div><div class="orthogonal-drag-handle end"></div></div><div class="monaco-sash orthogonal-edge-south horizontal" style="top: 8px;"><div class="orthogonal-drag-handle start"></div><div class="orthogonal-drag-handle end"></div></div><div class="monaco-hover hidden" tabindex="0" role="tooltip"><div class="monaco-scrollable-element " role="presentation" style="position: relative; overflow: hidden;"><div class="monaco-hover-content" style="overflow: hidden; font-size: 14px; line-height: 1.35714; max-width: 500px; max-height: 250px;"></div><div role="presentation" aria-hidden="true" class="invisible scrollbar horizontal" style="position: absolute;"><div class="slider" style="position: absolute; top: 0px; left: 0px; height: 10px; transform: translate3d(0px, 0px, 0px); contain: strict;"></div></div><div role="presentation" aria-hidden="true" class="invisible scrollbar vertical" style="position: absolute;"><div class="slider" style="position: absolute; top: 0px; left: 0px; width: 10px; transform: translate3d(0px, 0px, 0px); contain: strict;"></div></div><div class="shadow"></div><div class="shadow"></div><div class="shadow"></div></div></div></div></div><div class=".in-cell-overflowing"></div></div></div></div><colab-form class="formview vertical layout flex"><div class="widget-area vertical layout"></div></colab-form></div>
    <div class="output" aria-label="Cell 36 output" role="region"><!----> <div class="output-header"> </div>
        <div class="output-content" style="display: none;">
          <div class="output-info"> </div>
          <div class="output-iframe-container">
            <div class="output-iframe-sizer"> </div>
          </div>
        </div></div></div><colab-cell-next-steps><template shadowrootmode="open"><!----></template></colab-cell-next-steps></div></div><div class="add-cell">
      <div class="add-cell-buttons">
        <md-outlined-button class="add-code add-button" aria-label="Add code cell
Ctrl+M B" title="Add code cell
Ctrl+M B" role="presentation" value="" has-icon=""><template shadowrootmode="open" shadowrootdelegatesfocus><!---->
      <!--?lit$291671447$--><div class="outline"></div>
      <div class="background"></div>
      <md-focus-ring part="focus-ring" for="button" aria-hidden="true"><template shadowrootmode="open"><!----></template></md-focus-ring>
      <md-ripple for="button" aria-hidden="true"><template shadowrootmode="open"><!----><div class="surface"></div></template></md-ripple>
      <!--?lit$291671447$--><button id="button" class="button" aria-label="Add code cell
Ctrl+M B">
      <!--?lit$291671447$-->
      <span class="touch"></span>
      <!--?lit$291671447$--><slot name="icon"></slot>
      <span class="label"><slot></slot></span>
      <!--?lit$291671447$-->
    
    </button>
    </template>
          <md-icon slot="icon" aria-hidden="true"><template shadowrootmode="open"><!----><slot></slot></template>add</md-icon>
          <!--?lit$291671447$-->Code
        </md-outlined-button>
        <md-outlined-button class="add-text add-button" aria-label="Add text cell" title="Add text cell" role="presentation" value="" has-icon=""><template shadowrootmode="open" shadowrootdelegatesfocus><!---->
      <!--?lit$291671447$--><div class="outline"></div>
      <div class="background"></div>
      <md-focus-ring part="focus-ring" for="button" aria-hidden="true"><template shadowrootmode="open"><!----></template></md-focus-ring>
      <md-ripple for="button" aria-hidden="true"><template shadowrootmode="open"><!----><div class="surface   "></div></template></md-ripple>
      <!--?lit$291671447$--><button id="button" class="button" aria-label="Add text cell">
      <!--?lit$291671447$-->
      <span class="touch"></span>
      <!--?lit$291671447$--><slot name="icon"></slot>
      <span class="label"><slot></slot></span>
      <!--?lit$291671447$-->
    
    </button>
    </template>
          <md-icon slot="icon" aria-hidden="true"><template shadowrootmode="open"><!----><slot></slot></template>add</md-icon>
          <!--?lit$291671447$-->Text
        </md-outlined-button>
        <!--?lit$291671447$-->
      </div><hr>
    </div></div><div class="cell code code-has-output icon-scrolling focused" id="cell-WvK4eJRQzQFF" tabindex="-1" role="region" aria-label="Cell 37: Code cell: " style=""><div class="cell-tag-editor sticky"></div><div class="cell-toolbar sticky"><colab-cell-toolbar><template shadowrootmode="open"><!----><!--?lit$291671447$--><!----> <md-icon-button class="colab-icon" title="Move cell up
Ctrl+M K" aria-label="Move cell up
Ctrl+M K" command="move-cell-up" role="presentation" value=""><template shadowrootmode="open" shadowrootdelegatesfocus><!----><button id="button" class="icon-button  standard " aria-label="Move cell up
Ctrl+M K">
        <!--?lit$291671447$--><md-focus-ring part="focus-ring" for="button" aria-hidden="true"><template shadowrootmode="open"><!----></template></md-focus-ring>
        <!--?lit$291671447$--><md-ripple aria-hidden="true"><template shadowrootmode="open"><!----><div class="surface   "></div></template></md-ripple>
        <!--?lit$291671447$--><span class="icon"><slot></slot></span>
        <!--?lit$291671447$-->
        <!--?lit$291671447$--><span class="touch"></span>
        <!--?lit$291671447$-->
  </button></template>
          <md-icon aria-hidden="true"><template shadowrootmode="open"><!----><slot></slot></template><!--?lit$291671447$-->arrow_upward</md-icon>
          <!--?lit$291671447$-->
        </md-icon-button><!----><!----> <md-icon-button class="colab-icon" title="Move cell down
Ctrl+M J" aria-label="Move cell down
Ctrl+M J" command="move-cell-down" role="presentation" value=""><template shadowrootmode="open" shadowrootdelegatesfocus><!----><button id="button" class="icon-button  standard " aria-label="Move cell down
Ctrl+M J">
        <!--?lit$291671447$--><md-focus-ring part="focus-ring" for="button" aria-hidden="true"><template shadowrootmode="open"><!----></template></md-focus-ring>
        <!--?lit$291671447$--><md-ripple aria-hidden="true"><template shadowrootmode="open"><!----><div class="surface   "></div></template></md-ripple>
        <!--?lit$291671447$--><span class="icon"><slot></slot></span>
        <!--?lit$291671447$-->
        <!--?lit$291671447$--><span class="touch"></span>
        <!--?lit$291671447$-->
  </button></template>
          <md-icon aria-hidden="true"><template shadowrootmode="open"><!----><slot></slot></template><!--?lit$291671447$-->arrow_downward</md-icon>
          <!--?lit$291671447$-->
        </md-icon-button><!----><!----> <md-icon-button class="colab-icon" title="Copy link to cell" aria-label="Copy link to cell" command="copy-link-to-cell" role="presentation" value=""><template shadowrootmode="open" shadowrootdelegatesfocus><!----><button id="button" class="icon-button  standard " aria-label="Copy link to cell">
        <!--?lit$291671447$--><md-focus-ring part="focus-ring" for="button" aria-hidden="true"><template shadowrootmode="open"><!----></template></md-focus-ring>
        <!--?lit$291671447$--><md-ripple aria-hidden="true"><template shadowrootmode="open"><!----><div class="surface   "></div></template></md-ripple>
        <!--?lit$291671447$--><span class="icon"><slot></slot></span>
        <!--?lit$291671447$-->
        <!--?lit$291671447$--><span class="touch"></span>
        <!--?lit$291671447$-->
  </button></template>
          <md-icon aria-hidden="true"><template shadowrootmode="open"><!----><slot></slot></template><!--?lit$291671447$-->link</md-icon>
          <!--?lit$291671447$-->
        </md-icon-button><!----><!----> <md-icon-button class="colab-icon" title="Add a comment
Ctrl+Alt+M" aria-label="Add a comment
Ctrl+Alt+M" command="add-comment" role="presentation" value=""><template shadowrootmode="open" shadowrootdelegatesfocus><!----><button id="button" class="icon-button  standard " aria-label="Add a comment
Ctrl+Alt+M">
        <!--?lit$291671447$--><md-focus-ring part="focus-ring" for="button" aria-hidden="true"><template shadowrootmode="open"><!----></template></md-focus-ring>
        <!--?lit$291671447$--><md-ripple aria-hidden="true"><template shadowrootmode="open"><!----><div class="surface   "></div></template></md-ripple>
        <!--?lit$291671447$--><span class="icon"><slot></slot></span>
        <!--?lit$291671447$-->
        <!--?lit$291671447$--><span class="touch"></span>
        <!--?lit$291671447$-->
  </button></template>
          <md-icon aria-hidden="true"><template shadowrootmode="open"><!----><slot></slot></template><!--?lit$291671447$-->comment</md-icon>
          <!--?lit$291671447$-->
        </md-icon-button><!----><!----> <md-icon-button class="colab-icon" title="Open editor settings" aria-label="Open editor settings" command="editor-preferences" role="presentation" value=""><template shadowrootmode="open" shadowrootdelegatesfocus><!----><button id="button" class="icon-button  standard " aria-label="Open editor settings">
        <!--?lit$291671447$--><md-focus-ring part="focus-ring" for="button" aria-hidden="true"><template shadowrootmode="open"><!----></template></md-focus-ring>
        <!--?lit$291671447$--><md-ripple aria-hidden="true"><template shadowrootmode="open"><!----><div class="surface   "></div></template></md-ripple>
        <!--?lit$291671447$--><span class="icon"><slot></slot></span>
        <!--?lit$291671447$-->
        <!--?lit$291671447$--><span class="touch"></span>
        <!--?lit$291671447$-->
  </button></template>
          <md-icon filled="" aria-hidden="true"><template shadowrootmode="open"><!----><slot></slot></template><!--?lit$291671447$-->settings</md-icon>
          <!--?lit$291671447$-->
        </md-icon-button><!----><!----> <md-icon-button class="colab-icon" title="Edit" aria-label="Edit" command="toggle-edit-markdown" toggle="" role="presentation" value="" style="display: none;"><template shadowrootmode="open" shadowrootdelegatesfocus><!----><button id="button" class="icon-button  standard " aria-label="Edit" aria-pressed="false">
        <!--?lit$291671447$--><md-focus-ring part="focus-ring" for="button" aria-hidden="true"><template shadowrootmode="open"><!----></template></md-focus-ring>
        <!--?lit$291671447$--><md-ripple aria-hidden="true"><template shadowrootmode="open"><!----><div class="surface   "></div></template></md-ripple>
        <!--?lit$291671447$--><span class="icon"><slot></slot></span>
        <!--?lit$291671447$-->
        <!--?lit$291671447$--><span class="touch"></span>
        <!--?lit$291671447$-->
  </button></template>
          <md-icon aria-hidden="true"><template shadowrootmode="open"><!----><slot></slot></template><!--?lit$291671447$-->edit</md-icon>
          <!--?lit$291671447$--><md-icon slot="selected" aria-hidden="true"><template shadowrootmode="open"><!----><slot></slot></template><!--?lit$291671447$-->edit_off</md-icon>
        </md-icon-button><!----><!----> <md-icon-button class="colab-icon" title="Mirror cell in tab" aria-label="Mirror cell in tab" command="mirror-cell-in-tab" role="presentation" value=""><template shadowrootmode="open" shadowrootdelegatesfocus><!----><button id="button" class="icon-button  standard " aria-label="Mirror cell in tab">
        <!--?lit$291671447$--><md-focus-ring part="focus-ring" for="button" aria-hidden="true"><template shadowrootmode="open"><!----></template></md-focus-ring>
        <!--?lit$291671447$--><md-ripple aria-hidden="true"><template shadowrootmode="open"><!----><div class="surface   "></div></template></md-ripple>
        <!--?lit$291671447$--><span class="icon"><slot></slot></span>
        <!--?lit$291671447$-->
        <!--?lit$291671447$--><span class="touch"></span>
        <!--?lit$291671447$-->
  </button></template>
          <md-icon aria-hidden="true"><template shadowrootmode="open"><!----><slot></slot></template><!--?lit$291671447$--><svg viewBox="0 0 24 24"><!--?lit$291671447$-->
      <g id="mirror-cell">
        <path d="M4,21V7H2V21a2,2,0,0,0,2,2H18V21Z"></path>
        <path d="M6,13v2H8.6L5,18.6,6.4,20,10,16.4V19h2V13Z"></path>
        <path d="M19,1H8A2,2,0,0,0,6,3v8H8V3H19V17H14v2h5a2,2,0,0,0,2-2V3A2,2,0,0,0,19,1Z"></path>
      </g></svg></md-icon>
          <!--?lit$291671447$-->
        </md-icon-button><!----><!----> <md-icon-button class="colab-icon" title="Delete cell
Ctrl+M D" aria-label="Delete cell
Ctrl+M D" command="delete-cell-or-selection" role="presentation" value=""><template shadowrootmode="open" shadowrootdelegatesfocus><!----><button id="button" class="icon-button  standard " aria-label="Delete cell
Ctrl+M D">
        <!--?lit$291671447$--><md-focus-ring part="focus-ring" for="button" aria-hidden="true"><template shadowrootmode="open"><!----></template></md-focus-ring>
        <!--?lit$291671447$--><md-ripple aria-hidden="true"><template shadowrootmode="open"><!----><div class="surface   "></div></template></md-ripple>
        <!--?lit$291671447$--><span class="icon"><slot></slot></span>
        <!--?lit$291671447$-->
        <!--?lit$291671447$--><span class="touch"></span>
        <!--?lit$291671447$-->
  </button></template>
          <md-icon aria-hidden="true"><template shadowrootmode="open"><!----><slot></slot></template><!--?lit$291671447$-->delete</md-icon>
          <!--?lit$291671447$-->
        </md-icon-button><!----><!--?lit$291671447$--><md-icon-button title="More cell actions" aria-label="More cell actions" class="colab-icon cell-toolbar-more" role="presentation" value=""><template shadowrootmode="open" shadowrootdelegatesfocus><!----><button id="button" class="icon-button  standard " aria-label="More cell actions">
        <!--?lit$291671447$--><md-focus-ring part="focus-ring" for="button" aria-hidden="true"><template shadowrootmode="open"><!----></template></md-focus-ring>
        <!--?lit$291671447$--><md-ripple aria-hidden="true"><template shadowrootmode="open"><!----><div class="surface   "></div></template></md-ripple>
        <!--?lit$291671447$--><span class="icon"><slot></slot></span>
        <!--?lit$291671447$-->
        <!--?lit$291671447$--><span class="touch"></span>
        <!--?lit$291671447$-->
  </button></template><md-icon aria-hidden="true"><template shadowrootmode="open"><!----><slot></slot></template>more_vert</md-icon>
    </md-icon-button><!--?--></template></colab-cell-toolbar></div><div class="main-content" elevation="2"><div class="cell-contents"><div class="cell-mask"></div><span class="imported-info-area"></span><div class="codecell-input-output">
      <div class="inputarea horizontal layout code">
        <div class="cell-gutter">
          <!-- Bounding range for vertical scrolling of icons -->
          <div class="cell-execution-container">
            <colab-run-button title="Run cell (Ctrl+Enter)
cell has not been executed in this session

executed by Karthikaa Ravikumar
Friday, November 24, 2023
executed in 0.002s" role="button" aria-label="Run cell"><template shadowrootmode="open"><!----> <div class="cell-execution stale focused">
      <div class="execution-count"><!--?lit$291671447$-->[ ]</div>
      <div class="cell-execution-indicator"> <!--?lit$291671447$-->
<svg xmlns="http://www.w3.org/2000/svg" viewBox="0 0 24 24">
  <!--?lit$291671447$-->
  <mask id="playSymbolMask">
    <rect width="100%" height="100%" fill="white"></rect>
    <polygon points="10,8 17,12 10,16" fill="black"></polygon>
  </mask>
  <circle cx="12" cy="12" r="7.8" mask="url(#playSymbolMask)" id="filledCircle"></circle>
</svg> </div>
      <!--?lit$291671447$--><!--?-->
    </div></template></colab-run-button>
          </div>
        </div>
      <div class="editor flex lazy-editor" style=""><div class="editor flex monaco" data-keybinding-context="47" data-mode-id="notebook-python" style="height: 29px; --vscode-editorCodeLens-lineHeight: 16px; --vscode-editorCodeLens-fontSize: 12px; --vscode-editorCodeLens-fontFeatureSettings: &quot;liga&quot; off, &quot;calt&quot; off;"><div class="monaco-editor no-user-select  showUnused showDeprecated vs-dark" role="code" data-uri="inmemory://model/40" style="width: 627px; height: 29px;"><div data-mprt="3" class="overflow-guard" style="width: 627px; height: 29px;"><div class="margin" role="presentation" aria-hidden="true" style="position: absolute; contain: strict; will-change: unset; top: 0px; height: 29px; width: 6px;"><div class="glyph-margin" style="left: 0px; width: 0px; height: 29px;"></div><div class="margin-view-zones" role="presentation" aria-hidden="true" style="position: absolute;"></div><div class="margin-view-overlays" role="presentation" aria-hidden="true" style="position: absolute; font-family: monospace, Consolas, &quot;Courier New&quot;, monospace; font-weight: normal; font-size: 14px; font-feature-settings: &quot;liga&quot; 0, &quot;calt&quot; 0; font-variation-settings: normal; line-height: 19px; letter-spacing: 0px; width: 6px; height: 29px;"><div style="position:absolute;top:0px;width:100%;height:19px;"><div class="current-line current-line-margin-both" style="width:6px; height:19px;"></div></div></div><div class="glyph-margin-widgets" style="position: absolute; top: 0px;"></div></div><div class="monaco-scrollable-element editor-scrollable vs-dark" role="presentation" data-mprt="5" style="position: absolute; overflow: hidden; left: 6px; width: 621px; height: 29px;"><div class="lines-content monaco-editor-background" style="position: absolute; overflow: hidden; width: 1e+06px; height: 29px; contain: strict; will-change: unset; top: 0px; left: 0px;"><div class="view-overlays" role="presentation" aria-hidden="true" style="position: absolute; font-family: monospace, Consolas, &quot;Courier New&quot;, monospace; font-weight: normal; font-size: 14px; font-feature-settings: &quot;liga&quot; 0, &quot;calt&quot; 0; font-variation-settings: normal; line-height: 19px; letter-spacing: 0px; height: 0px; width: 645px;"><div style="position:absolute;top:0px;width:100%;height:19px;"><div class="current-line" style="width:645px; height:19px;"></div></div></div><div role="presentation" aria-hidden="true" class="view-rulers"><div class="view-ruler" style="width: 2px; height: 29px; left: 615.938px;"></div></div><div class="view-zones" role="presentation" aria-hidden="true" style="position: absolute;"></div><div class="view-lines monaco-mouse-cursor-text" role="presentation" aria-hidden="true" data-mprt="7" style="position: absolute; font-family: monospace, Consolas, &quot;Courier New&quot;, monospace; font-weight: normal; font-size: 14px; font-feature-settings: &quot;liga&quot; 0, &quot;calt&quot; 0; font-variation-settings: normal; line-height: 19px; letter-spacing: 0px; width: 645px; height: 29px;"><div style="top:0px;height:19px;" class="view-line"><span><span class="mtk15">print</span><span class="mtk12 bracket-highlighting-0">(</span><span class="mtk5">"Logistic&nbsp;Regression&nbsp;Testing&nbsp;-&nbsp;Classification&nbsp;Repo</span><span class="mtk5">rt&nbsp;\n\n"</span><span class="mtk12">,</span><span class="mtk1">&nbsp;log_test_cr</span><span class="mtk12 bracket-highlighting-0">)</span></span></div></div><div data-mprt="1" class="contentWidgets" style="position: absolute; top: 0px;"></div><div role="presentation" aria-hidden="true" class="cursors-layer cursor-line-style cursor-solid"><div class="cursor monaco-mouse-cursor-text " style="height: 19px; top: 0px; left: 0px; font-family: monospace, Consolas, &quot;Courier New&quot;, monospace; font-weight: normal; font-size: 14px; font-feature-settings: &quot;liga&quot; 0, &quot;calt&quot; 0; font-variation-settings: normal; line-height: 19px; letter-spacing: 0px; display: block; visibility: hidden; padding-left: 0px; width: 2px;"></div></div></div><div role="presentation" aria-hidden="true" class="visible scrollbar horizontal" style="position: absolute; width: 607px; height: 10px; left: 0px; bottom: 0px;"><div class="slider" style="position: absolute; top: 0px; left: 0px; height: 10px; transform: translate3d(0px, 0px, 0px); contain: strict; will-change: unset; width: 584px;"></div></div><canvas class="decorationsOverviewRuler" aria-hidden="true" width="35" height="72" style="position: absolute; transform: translate3d(0px, 0px, 0px); contain: strict; top: 0px; right: 0px; width: 14px; height: 29px; will-change: unset; display: block;"></canvas><div role="presentation" aria-hidden="true" class="invisible scrollbar vertical" style="position: absolute; width: 14px; height: 29px; right: 0px; top: 0px;"><div class="slider" style="position: absolute; top: 0px; left: 0px; width: 14px; transform: translate3d(0px, 0px, 0px); contain: strict; will-change: unset; height: 29px;"></div></div></div><div role="presentation" aria-hidden="true" style="width: 627px;"></div><textarea data-mprt="6" class="inputarea monaco-mouse-cursor-text" wrap="on" autocorrect="off" autocapitalize="off" autocomplete="off" spellcheck="false" aria-label="Editor content;Press Alt+F1 for Accessibility Options." tabindex="0" role="textbox" aria-roledescription="editor" aria-multiline="true" aria-haspopup="false" aria-autocomplete="both" style="tab-size: 15.3984px; font-family: monospace, Consolas, &quot;Courier New&quot;, monospace; font-weight: normal; font-size: 14px; font-feature-settings: &quot;liga&quot; 0, &quot;calt&quot; 0; font-variation-settings: normal; line-height: 19px; letter-spacing: 0px; top: 0px; left: 6px; width: 627px; height: 1px;"></textarea><div class="monaco-editor-background textAreaCover" style="position: absolute; top: 0px; left: 0px; width: 0px; height: 0px;"></div><div data-mprt="4" class="overlayWidgets" style="width: 627px;"><div widgetid="editor.contrib.quickInputWidget" style="position: absolute; top: 0px; right: 50%;"></div></div><div data-mprt="8" class="minimap slider-mouseover" role="presentation" aria-hidden="true" style="position: absolute; left: 0px; width: 0px; height: 29px;"><div class="minimap-shadow-hidden" style="height: 29px;"></div><canvas width="0" height="72" style="position: absolute; left: 0px; width: 0px; height: 29px;"></canvas><canvas class="minimap-decorations-layer" width="0" height="72" style="position: absolute; left: 0px; width: 0px; height: 29px;"></canvas><div class="minimap-slider" style="position: absolute; transform: translate3d(0px, 0px, 0px); contain: strict; width: 0px; will-change: unset;"><div class="minimap-slider-horizontal" style="position: absolute; width: 0px; height: 0px;"></div></div></div><div role="presentation" aria-hidden="true" class="blockDecorations-container"></div></div><div data-mprt="2" class="overflowingContentWidgets"><div widgetid="editor.contrib.resizableContentHoverWidget" style="position: fixed; height: 10px; width: 10px; z-index: 50; display: none; visibility: hidden; max-width: 1152px;"><div class="monaco-sash vertical" style="left: 8px;"></div><div class="monaco-sash vertical" style="left: -2px;"></div><div class="monaco-sash orthogonal-edge-north horizontal" style="top: -2px;"><div class="orthogonal-drag-handle start"></div><div class="orthogonal-drag-handle end"></div></div><div class="monaco-sash orthogonal-edge-south horizontal" style="top: 8px;"><div class="orthogonal-drag-handle start"></div><div class="orthogonal-drag-handle end"></div></div><div class="monaco-hover hidden" tabindex="0" role="tooltip"><div class="monaco-scrollable-element " role="presentation" style="position: relative; overflow: hidden;"><div class="monaco-hover-content" style="overflow: hidden; font-size: 14px; line-height: 1.35714; max-width: 500px; max-height: 250px;"></div><div role="presentation" aria-hidden="true" class="invisible scrollbar horizontal" style="position: absolute;"><div class="slider" style="position: absolute; top: 0px; left: 0px; height: 10px; transform: translate3d(0px, 0px, 0px); contain: strict;"></div></div><div role="presentation" aria-hidden="true" class="invisible scrollbar vertical" style="position: absolute;"><div class="slider" style="position: absolute; top: 0px; left: 0px; width: 10px; transform: translate3d(0px, 0px, 0px); contain: strict;"></div></div><div class="shadow"></div><div class="shadow"></div><div class="shadow"></div></div></div></div></div><div class=".in-cell-overflowing"></div></div></div></div><colab-form class="formview vertical layout flex"><div class="widget-area vertical layout"></div></colab-form></div>
    <div class="output" aria-label="Cell 37 output" role="region"><!----> <div class="output-header"> </div>
        <div class="output-content">
          <div class="output-info"><colab-output-info title="Clear output

executed by Karthikaa Ravikumar
Friday, November 24, 2023
executed in 0.002s" hovering=""><template shadowrootmode="open"><!----> <md-icon class="collaborator output" alt="Execution output" aria-hidden="true"><template shadowrootmode="open"><!----><slot></slot></template><!--?lit$291671447$-->output</md-icon>
      <!--?lit$291671447$--> <mwc-icon-button icon="cancel" command="clear-focused-or-selected-outputs" alt="Clear output"><template shadowrootmode="open"><!----><button class="mdc-icon-button mdc-icon-button--display-flex" aria-label="cancel"><!--?lit$291671447$-->
    <!--?lit$291671447$--><i class="material-icons"><!--?lit$291671447$-->cancel</i>
    <span><slot></slot></span>
  </button></template>
          </mwc-icon-button><!--?--></template></colab-output-info></div>
          <div class="output-iframe-container">
            <div class="output-iframe-sizer"> <div><div><colab-static-output-renderer tabindex="0" role="group"><div><div class="stream output_text"><pre>Logistic Regression Testing - Classification Report 

               precision    recall  f1-score   support

           0       0.99      0.97      0.98       749
           1       0.93      0.98      0.96       286

    accuracy                           0.98      1035
   macro avg       0.96      0.98      0.97      1035
weighted avg       0.98      0.98      0.98      1035

</pre></div></div><div></div></colab-static-output-renderer></div></div><div><div></div></div></div>
          </div>
        </div></div></div><colab-cell-next-steps><template shadowrootmode="open"><!----></template></colab-cell-next-steps></div></div><div class="add-cell">
      <div class="add-cell-buttons">
        <md-outlined-button class="add-code add-button" aria-label="Add code cell
Ctrl+M B" title="Add code cell
Ctrl+M B" role="presentation" value="" has-icon=""><template shadowrootmode="open" shadowrootdelegatesfocus><!---->
      <!--?lit$291671447$--><div class="outline"></div>
      <div class="background"></div>
      <md-focus-ring part="focus-ring" for="button" aria-hidden="true"><template shadowrootmode="open"><!----></template></md-focus-ring>
      <md-ripple for="button" aria-hidden="true"><template shadowrootmode="open"><!----><div class="surface   "></div></template></md-ripple>
      <!--?lit$291671447$--><button id="button" class="button" aria-label="Add code cell
Ctrl+M B">
      <!--?lit$291671447$-->
      <span class="touch"></span>
      <!--?lit$291671447$--><slot name="icon"></slot>
      <span class="label"><slot></slot></span>
      <!--?lit$291671447$-->
    
    </button>
    </template>
          <md-icon slot="icon" aria-hidden="true"><template shadowrootmode="open"><!----><slot></slot></template>add</md-icon>
          <!--?lit$291671447$-->Code
        </md-outlined-button>
        <md-outlined-button class="add-text add-button" aria-label="Add text cell" title="Add text cell" role="presentation" value="" has-icon=""><template shadowrootmode="open" shadowrootdelegatesfocus><!---->
      <!--?lit$291671447$--><div class="outline"></div>
      <div class="background"></div>
      <md-focus-ring part="focus-ring" for="button" aria-hidden="true"><template shadowrootmode="open"><!----></template></md-focus-ring>
      <md-ripple for="button" aria-hidden="true"><template shadowrootmode="open"><!----><div class="surface   "></div></template></md-ripple>
      <!--?lit$291671447$--><button id="button" class="button" aria-label="Add text cell">
      <!--?lit$291671447$-->
      <span class="touch"></span>
      <!--?lit$291671447$--><slot name="icon"></slot>
      <span class="label"><slot></slot></span>
      <!--?lit$291671447$-->
    
    </button>
    </template>
          <md-icon slot="icon" aria-hidden="true"><template shadowrootmode="open"><!----><slot></slot></template>add</md-icon>
          <!--?lit$291671447$-->Text
        </md-outlined-button>
        <!--?lit$291671447$-->
      </div><hr>
    </div></div><div class="cell text" id="cell-AZsmMYjRzXq-" tabindex="-1" role="region" aria-label="Cell 38: Text cell: " style=""><div class="cell-tag-editor sticky"></div><div class="cell-toolbar sticky"></div><div class="main-content" elevation="0"><div class="cell-contents"><div class="cell-mask"></div><span class="imported-info-area"></span><!----> <div class="toolbar-root"></div>
      <div class="editor-container horizontal">
        <div class="editor-root"></div>
        <div class="text-top-div">
          <div class="markdown"><span><p>Confusion Matrix</p>
</span></div>
        </div>
      </div>

      <div class="section-header" style="display: none;">
        <colab-run-button role="button" aria-label="Run cell"><template shadowrootmode="open"><!----> <div class="cell-execution">
      <div class="execution-count"><!--?lit$291671447$-->[ ]</div>
      <div class="cell-execution-indicator"> <!--?lit$291671447$-->
<svg xmlns="http://www.w3.org/2000/svg" viewBox="0 0 24 24">
  <!--?lit$291671447$-->
  <mask id="playSymbolMask">
    <rect width="100%" height="100%" fill="white"></rect>
    <polygon points="10,8 17,12 10,16" fill="black"></polygon>
  </mask>
  <circle cx="12" cy="12" r="7.8" mask="url(#playSymbolMask)" id="filledCircle"></circle>
</svg> </div>
      <!--?lit$291671447$--><!--?-->
    </div></template></colab-run-button>
        <div class="section-header-container" title="click to expand">↳ 0 cells hidden</div>
      </div></div></div><div class="add-cell">
      <hr>
    </div></div><div class="cell code icon-scrolling" id="cell-p6K_cwVgzSSW" tabindex="-1" role="region" aria-label="Cell 39: Code cell: " style=""><div class="cell-tag-editor sticky"></div><div class="cell-toolbar sticky"></div><div class="main-content" elevation="0"><div class="cell-contents"><div class="cell-mask"></div><span class="imported-info-area"></span><div class="codecell-input-output">
      <div class="inputarea horizontal layout code">
        <div class="cell-gutter">
          <!-- Bounding range for vertical scrolling of icons -->
          <div class="cell-execution-container">
            <colab-run-button title="Run cell (Ctrl+Enter)
cell has not been executed in this session" role="button" aria-label="Run cell"><template shadowrootmode="open"><!----> <div class="cell-execution  stale ">
      <div class="execution-count"><!--?lit$291671447$-->[ ]</div>
      <div class="cell-execution-indicator"> <!--?lit$291671447$-->
<svg xmlns="http://www.w3.org/2000/svg" viewBox="0 0 24 24">
  <!--?lit$291671447$-->
  <mask id="playSymbolMask">
    <rect width="100%" height="100%" fill="white"></rect>
    <polygon points="10,8 17,12 10,16" fill="black"></polygon>
  </mask>
  <circle cx="12" cy="12" r="7.8" mask="url(#playSymbolMask)" id="filledCircle"></circle>
</svg> </div>
      <!--?lit$291671447$--><!--?-->
    </div></template></colab-run-button>
          </div>
        </div>
      <div class="editor flex lazy-editor" style=""><div class="editor flex monaco" data-keybinding-context="46" data-mode-id="notebook-python" style="height: 29px; --vscode-editorCodeLens-lineHeight: 16px; --vscode-editorCodeLens-fontSize: 12px; --vscode-editorCodeLens-fontFeatureSettings: &quot;liga&quot; off, &quot;calt&quot; off;"><div class="monaco-editor no-user-select  showUnused showDeprecated vs-dark" role="code" data-uri="inmemory://model/42" style="width: 627px; height: 29px;"><div data-mprt="3" class="overflow-guard" style="width: 627px; height: 29px;"><div class="margin" role="presentation" aria-hidden="true" style="position: absolute; contain: strict; will-change: unset; top: 0px; height: 29px; width: 6px;"><div class="glyph-margin" style="left: 0px; width: 0px; height: 29px;"></div><div class="margin-view-zones" role="presentation" aria-hidden="true" style="position: absolute;"></div><div class="margin-view-overlays" role="presentation" aria-hidden="true" style="position: absolute; font-family: monospace, Consolas, &quot;Courier New&quot;, monospace; font-weight: normal; font-size: 14px; font-feature-settings: &quot;liga&quot; 0, &quot;calt&quot; 0; font-variation-settings: normal; line-height: 19px; letter-spacing: 0px; width: 6px; height: 29px;"><div style="position:absolute;top:0px;width:100%;height:19px;"><div class="current-line current-line-margin-both" style="width:6px; height:19px;"></div></div></div><div class="glyph-margin-widgets" style="position: absolute; top: 0px;"></div></div><div class="monaco-scrollable-element editor-scrollable vs-dark" role="presentation" data-mprt="5" style="position: absolute; overflow: hidden; left: 6px; width: 621px; height: 29px;"><div class="lines-content monaco-editor-background" style="position: absolute; overflow: hidden; width: 1e+06px; height: 29px; contain: strict; will-change: unset; top: 0px; left: 0px;"><div class="view-overlays" role="presentation" aria-hidden="true" style="position: absolute; font-family: monospace, Consolas, &quot;Courier New&quot;, monospace; font-weight: normal; font-size: 14px; font-feature-settings: &quot;liga&quot; 0, &quot;calt&quot; 0; font-variation-settings: normal; line-height: 19px; letter-spacing: 0px; height: 0px; width: 621px;"><div style="position:absolute;top:0px;width:100%;height:19px;"><div class="current-line" style="width:621px; height:19px;"></div></div></div><div role="presentation" aria-hidden="true" class="view-rulers"></div><div class="view-zones" role="presentation" aria-hidden="true" style="position: absolute;"></div><div class="view-lines monaco-mouse-cursor-text" role="presentation" aria-hidden="true" data-mprt="7" style="position: absolute; font-family: monospace, Consolas, &quot;Courier New&quot;, monospace; font-weight: normal; font-size: 14px; font-feature-settings: &quot;liga&quot; 0, &quot;calt&quot; 0; font-variation-settings: normal; line-height: 19px; letter-spacing: 0px; width: 621px; height: 29px;"><div style="top:0px;height:19px;" class="view-line"><span><span class="mtk1">log_train_cm&nbsp;=&nbsp;confusion_matrix</span><span class="mtk12 bracket-highlighting-0">(</span><span class="mtk1">ytrain</span><span class="mtk12">,</span><span class="mtk1">&nbsp;log_train_pred</span><span class="mtk12 bracket-highlighting-0">)</span></span></div></div><div data-mprt="1" class="contentWidgets" style="position: absolute; top: 0px;"></div><div role="presentation" aria-hidden="true" class="cursors-layer cursor-line-style cursor-solid"><div class="cursor monaco-mouse-cursor-text " style="height: 19px; top: 0px; left: 0px; font-family: monospace, Consolas, &quot;Courier New&quot;, monospace; font-weight: normal; font-size: 14px; font-feature-settings: &quot;liga&quot; 0, &quot;calt&quot; 0; font-variation-settings: normal; line-height: 19px; letter-spacing: 0px; display: block; visibility: hidden; padding-left: 0px; width: 2px;"></div></div></div><div role="presentation" aria-hidden="true" class="invisible scrollbar horizontal" style="position: absolute; width: 607px; height: 10px; left: 0px; bottom: 0px;"><div class="slider" style="position: absolute; top: 0px; left: 0px; height: 10px; transform: translate3d(0px, 0px, 0px); contain: strict; will-change: unset; width: 607px;"></div></div><canvas class="decorationsOverviewRuler" aria-hidden="true" width="35" height="72" style="position: absolute; transform: translate3d(0px, 0px, 0px); contain: strict; top: 0px; right: 0px; width: 14px; height: 29px; will-change: unset; display: block;"></canvas><div role="presentation" aria-hidden="true" class="invisible scrollbar vertical" style="position: absolute; width: 14px; height: 29px; right: 0px; top: 0px;"><div class="slider" style="position: absolute; top: 0px; left: 0px; width: 14px; transform: translate3d(0px, 0px, 0px); contain: strict; will-change: unset; height: 29px;"></div></div></div><div role="presentation" aria-hidden="true" style="width: 627px;"></div><textarea data-mprt="6" class="inputarea monaco-mouse-cursor-text" wrap="on" autocorrect="off" autocapitalize="off" autocomplete="off" spellcheck="false" aria-label="Editor content;Press Alt+F1 for Accessibility Options." tabindex="0" role="textbox" aria-roledescription="editor" aria-multiline="true" aria-haspopup="false" aria-autocomplete="both" style="tab-size: 15.3984px; font-family: monospace, Consolas, &quot;Courier New&quot;, monospace; font-weight: normal; font-size: 14px; font-feature-settings: &quot;liga&quot; 0, &quot;calt&quot; 0; font-variation-settings: normal; line-height: 19px; letter-spacing: 0px; top: 0px; left: 6px; width: 627px; height: 1px;"></textarea><div class="monaco-editor-background textAreaCover" style="position: absolute; top: 0px; left: 0px; width: 0px; height: 0px;"></div><div data-mprt="4" class="overlayWidgets" style="width: 627px;"><div widgetid="editor.contrib.quickInputWidget" style="position: absolute; top: 0px; right: 50%;"></div></div><div data-mprt="8" class="minimap slider-mouseover" role="presentation" aria-hidden="true" style="position: absolute; left: 0px; width: 0px; height: 29px;"><div class="minimap-shadow-hidden" style="height: 29px;"></div><canvas width="0" height="72" style="position: absolute; left: 0px; width: 0px; height: 29px;"></canvas><canvas class="minimap-decorations-layer" width="0" height="72" style="position: absolute; left: 0px; width: 0px; height: 29px;"></canvas><div class="minimap-slider" style="position: absolute; transform: translate3d(0px, 0px, 0px); contain: strict; width: 0px; will-change: unset;"><div class="minimap-slider-horizontal" style="position: absolute; width: 0px; height: 0px;"></div></div></div><div role="presentation" aria-hidden="true" class="blockDecorations-container"></div></div><div data-mprt="2" class="overflowingContentWidgets"></div><div class=".in-cell-overflowing"></div></div></div></div><colab-form class="formview vertical layout flex"><div class="widget-area vertical layout"></div></colab-form></div>
    <div class="output" aria-label="Cell 39 output" role="region"><!----> <div class="output-header"> </div>
        <div class="output-content" style="display: none;">
          <div class="output-info"> </div>
          <div class="output-iframe-container">
            <div class="output-iframe-sizer"> </div>
          </div>
        </div></div></div><colab-cell-next-steps><template shadowrootmode="open"><!----></template></colab-cell-next-steps></div></div><div class="add-cell">
      <hr>
    </div></div><div class="cell code code-has-output icon-scrolling" id="cell-O2g7UpNwzYF6" tabindex="-1" role="region" aria-label="Cell 40: Code cell: " style=""><div class="cell-tag-editor sticky"></div><div class="cell-toolbar sticky"></div><div class="main-content" elevation="0"><div class="cell-contents"><div class="cell-mask"></div><span class="imported-info-area"></span><div class="codecell-input-output">
      <div class="inputarea horizontal layout code">
        <div class="cell-gutter">
          <!-- Bounding range for vertical scrolling of icons -->
          <div class="cell-execution-container">
            <colab-run-button title="Run cell (Ctrl+Enter)
cell has not been executed in this session

executed by Karthikaa Ravikumar
Friday, November 24, 2023
executed in 0.413s" role="button" aria-label="Run cell"><template shadowrootmode="open"><!----> <div class="cell-execution stale">
      <div class="execution-count"><!--?lit$291671447$-->[ ]</div>
      <div class="cell-execution-indicator"> <!--?lit$291671447$-->
<svg xmlns="http://www.w3.org/2000/svg" viewBox="0 0 24 24">
  <!--?lit$291671447$-->
  <mask id="playSymbolMask">
    <rect width="100%" height="100%" fill="white"></rect>
    <polygon points="10,8 17,12 10,16" fill="black"></polygon>
  </mask>
  <circle cx="12" cy="12" r="7.8" mask="url(#playSymbolMask)" id="filledCircle"></circle>
</svg> </div>
      <!--?lit$291671447$--><!--?-->
    </div></template></colab-run-button>
          </div>
        </div>
      <div class="editor flex lazy-editor" style=""><div class="editor flex monaco" data-keybinding-context="45" data-mode-id="notebook-python" style="height: 29px; --vscode-editorCodeLens-lineHeight: 16px; --vscode-editorCodeLens-fontSize: 12px; --vscode-editorCodeLens-fontFeatureSettings: &quot;liga&quot; off, &quot;calt&quot; off;"><div class="monaco-editor no-user-select  showUnused showDeprecated vs-dark" role="code" data-uri="inmemory://model/43" style="width: 627px; height: 29px;"><div data-mprt="3" class="overflow-guard" style="width: 627px; height: 29px;"><div class="margin" role="presentation" aria-hidden="true" style="position: absolute; contain: strict; will-change: unset; top: 0px; height: 29px; width: 6px;"><div class="glyph-margin" style="left: 0px; width: 0px; height: 29px;"></div><div class="margin-view-zones" role="presentation" aria-hidden="true" style="position: absolute;"></div><div class="margin-view-overlays" role="presentation" aria-hidden="true" style="position: absolute; font-family: monospace, Consolas, &quot;Courier New&quot;, monospace; font-weight: normal; font-size: 14px; font-feature-settings: &quot;liga&quot; 0, &quot;calt&quot; 0; font-variation-settings: normal; line-height: 19px; letter-spacing: 0px; width: 6px; height: 29px;"><div style="position:absolute;top:0px;width:100%;height:19px;"><div class="current-line current-line-margin-both" style="width:6px; height:19px;"></div></div></div><div class="glyph-margin-widgets" style="position: absolute; top: 0px;"></div></div><div class="monaco-scrollable-element editor-scrollable vs-dark" role="presentation" data-mprt="5" style="position: absolute; overflow: hidden; left: 6px; width: 621px; height: 29px;"><div class="lines-content monaco-editor-background" style="position: absolute; overflow: hidden; width: 1e+06px; height: 29px; contain: strict; will-change: unset; top: 0px; left: 0px;"><div class="view-overlays" role="presentation" aria-hidden="true" style="position: absolute; font-family: monospace, Consolas, &quot;Courier New&quot;, monospace; font-weight: normal; font-size: 14px; font-feature-settings: &quot;liga&quot; 0, &quot;calt&quot; 0; font-variation-settings: normal; line-height: 19px; letter-spacing: 0px; height: 0px; width: 621px;"><div style="position:absolute;top:0px;width:100%;height:19px;"><div class="current-line" style="width:621px; height:19px;"></div></div></div><div role="presentation" aria-hidden="true" class="view-rulers"></div><div class="view-zones" role="presentation" aria-hidden="true" style="position: absolute;"></div><div class="view-lines monaco-mouse-cursor-text" role="presentation" aria-hidden="true" data-mprt="7" style="position: absolute; font-family: monospace, Consolas, &quot;Courier New&quot;, monospace; font-weight: normal; font-size: 14px; font-feature-settings: &quot;liga&quot; 0, &quot;calt&quot; 0; font-variation-settings: normal; line-height: 19px; letter-spacing: 0px; width: 621px; height: 29px;"><div style="top:0px;height:19px;" class="view-line"><span><span class="mtk15">print</span><span class="mtk12 bracket-highlighting-0">(</span><span class="mtk5">"Logistic&nbsp;Regression&nbsp;Training&nbsp;-&nbsp;Confusion&nbsp;Matrix&nbsp;\</span><span class="mtk5">n"</span><span class="mtk12">,</span><span class="mtk1">&nbsp;log_train_cm</span><span class="mtk12 bracket-highlighting-0">)</span></span></div></div><div data-mprt="1" class="contentWidgets" style="position: absolute; top: 0px;"></div><div role="presentation" aria-hidden="true" class="cursors-layer cursor-line-style cursor-solid"><div class="cursor monaco-mouse-cursor-text " style="height: 19px; top: 0px; left: 0px; font-family: monospace, Consolas, &quot;Courier New&quot;, monospace; font-weight: normal; font-size: 14px; font-feature-settings: &quot;liga&quot; 0, &quot;calt&quot; 0; font-variation-settings: normal; line-height: 19px; letter-spacing: 0px; display: block; visibility: hidden; padding-left: 0px; width: 2px;"></div></div></div><div role="presentation" aria-hidden="true" class="invisible scrollbar horizontal" style="position: absolute; width: 607px; height: 10px; left: 0px; bottom: 0px;"><div class="slider" style="position: absolute; top: 0px; left: 0px; height: 10px; transform: translate3d(0px, 0px, 0px); contain: strict; will-change: unset; width: 607px;"></div></div><canvas class="decorationsOverviewRuler" aria-hidden="true" width="35" height="72" style="position: absolute; transform: translate3d(0px, 0px, 0px); contain: strict; top: 0px; right: 0px; width: 14px; height: 29px; will-change: unset; display: block;"></canvas><div role="presentation" aria-hidden="true" class="invisible scrollbar vertical" style="position: absolute; width: 14px; height: 29px; right: 0px; top: 0px;"><div class="slider" style="position: absolute; top: 0px; left: 0px; width: 14px; transform: translate3d(0px, 0px, 0px); contain: strict; will-change: unset; height: 29px;"></div></div></div><div role="presentation" aria-hidden="true" style="width: 627px;"></div><textarea data-mprt="6" class="inputarea monaco-mouse-cursor-text" wrap="on" autocorrect="off" autocapitalize="off" autocomplete="off" spellcheck="false" aria-label="Editor content;Press Alt+F1 for Accessibility Options." tabindex="0" role="textbox" aria-roledescription="editor" aria-multiline="true" aria-haspopup="false" aria-autocomplete="both" style="tab-size: 15.3984px; font-family: monospace, Consolas, &quot;Courier New&quot;, monospace; font-weight: normal; font-size: 14px; font-feature-settings: &quot;liga&quot; 0, &quot;calt&quot; 0; font-variation-settings: normal; line-height: 19px; letter-spacing: 0px; top: 0px; left: 6px; width: 627px; height: 1px;"></textarea><div class="monaco-editor-background textAreaCover" style="position: absolute; top: 0px; left: 0px; width: 0px; height: 0px;"></div><div data-mprt="4" class="overlayWidgets" style="width: 627px;"><div widgetid="editor.contrib.quickInputWidget" style="position: absolute; top: 0px; right: 50%;"></div></div><div data-mprt="8" class="minimap slider-mouseover" role="presentation" aria-hidden="true" style="position: absolute; left: 0px; width: 0px; height: 29px;"><div class="minimap-shadow-hidden" style="height: 29px;"></div><canvas width="0" height="72" style="position: absolute; left: 0px; width: 0px; height: 29px;"></canvas><canvas class="minimap-decorations-layer" width="0" height="72" style="position: absolute; left: 0px; width: 0px; height: 29px;"></canvas><div class="minimap-slider" style="position: absolute; transform: translate3d(0px, 0px, 0px); contain: strict; width: 0px; will-change: unset;"><div class="minimap-slider-horizontal" style="position: absolute; width: 0px; height: 0px;"></div></div></div><div role="presentation" aria-hidden="true" class="blockDecorations-container"></div></div><div data-mprt="2" class="overflowingContentWidgets"></div><div class=".in-cell-overflowing"></div></div></div></div><colab-form class="formview vertical layout flex"><div class="widget-area vertical layout"></div></colab-form></div>
    <div class="output" aria-label="Cell 40 output" role="region"><!----> <div class="output-header"> </div>
        <div class="output-content">
          <div class="output-info"><colab-output-info title="Clear output

executed by Karthikaa Ravikumar
Friday, November 24, 2023
executed in 0.413s" hovering=""><template shadowrootmode="open"><!----> <md-icon class="collaborator output" alt="Execution output" aria-hidden="true"><template shadowrootmode="open"><!----><slot></slot></template><!--?lit$291671447$-->output</md-icon>
      <!--?lit$291671447$--> <mwc-icon-button icon="cancel" command="clear-focused-or-selected-outputs" alt="Clear output"><template shadowrootmode="open"><!----><button class="mdc-icon-button mdc-icon-button--display-flex" aria-label="cancel"><!--?lit$291671447$-->
    <!--?lit$291671447$--><i class="material-icons"><!--?lit$291671447$-->cancel</i>
    <span><slot></slot></span>
  </button></template>
          </mwc-icon-button><!--?--></template></colab-output-info></div>
          <div class="output-iframe-container">
            <div class="output-iframe-sizer"> <div><div><colab-static-output-renderer tabindex="0" role="group"><div><div class="stream output_text"><pre>Logistic Regression Training - Confusion Matrix 
 [[2940    1]
 [   0 1195]]
</pre></div></div><div></div></colab-static-output-renderer></div></div></div>
          </div>
        </div></div></div><colab-cell-next-steps><template shadowrootmode="open"><!----></template></colab-cell-next-steps></div></div><div class="add-cell">
      <hr>
    </div></div><div class="cell code code-has-output icon-scrolling" id="cell-6zt5C7WQzcpX" tabindex="-1" role="region" aria-label="Cell 41: Code cell: " style=""><div class="cell-tag-editor sticky"></div><div class="cell-toolbar sticky"></div><div class="main-content" elevation="0"><div class="cell-contents"><div class="cell-mask"></div><span class="imported-info-area"></span><div class="codecell-input-output">
      <div class="inputarea horizontal layout code">
        <div class="cell-gutter">
          <!-- Bounding range for vertical scrolling of icons -->
          <div class="cell-execution-container">
            <colab-run-button title="Run cell (Ctrl+Enter)
cell has not been executed in this session

executed by Karthikaa Ravikumar
Friday, November 24, 2023
executed in 0.736s" role="button" aria-label="Run cell"><template shadowrootmode="open"><!----> <div class="cell-execution stale">
      <div class="execution-count"><!--?lit$291671447$-->[ ]</div>
      <div class="cell-execution-indicator"> <!--?lit$291671447$-->
<svg xmlns="http://www.w3.org/2000/svg" viewBox="0 0 24 24">
  <!--?lit$291671447$-->
  <mask id="playSymbolMask">
    <rect width="100%" height="100%" fill="white"></rect>
    <polygon points="10,8 17,12 10,16" fill="black"></polygon>
  </mask>
  <circle cx="12" cy="12" r="7.8" mask="url(#playSymbolMask)" id="filledCircle"></circle>
</svg> </div>
      <!--?lit$291671447$--><!--?-->
    </div></template></colab-run-button>
          </div>
        </div>
      <div class="editor flex lazy-editor" style=""><pre class="lazy-virtualized" style="font-size: 14px; line-height: 19px;"><pre class="lazy-gutter"></pre><pre class="monaco-colorized colab-dark colab-dark colab-dark colab-dark" data-lang="notebook-python"><span><span class="mtk1">sns.heatmap</span><span class="mtk12">(</span><span class="mtk1">log_train_cm</span><span class="mtk12">,</span><span class="mtk1">&nbsp;annot=</span><span class="mtk9">True</span><span class="mtk12">,</span><span class="mtk1">&nbsp;cmap&nbsp;=&nbsp;</span><span class="mtk5">'Spectral'</span><span class="mtk12">)</span></span><br><span><span class="mtk1">plt.xlabel</span><span class="mtk12">(</span><span class="mtk5">'Prediction'</span><span class="mtk12">)</span></span><br><span><span class="mtk1">plt.ylabel</span><span class="mtk12">(</span><span class="mtk5">'Target'</span><span class="mtk12">)</span></span><br><span><span class="mtk1">plt.title</span><span class="mtk12">(</span><span class="mtk5">'Logistic&nbsp;Regression&nbsp;Training&nbsp;-&nbsp;Confusion&nbsp;Matrix'</span><span class="mtk12">)</span></span><br><span><span class="mtk1">plt.show</span><span class="mtk12">()</span></span><br></pre><colab-read-only-cell-placeholder style="display: none;"><template shadowrootmode="open"><!----><div><!--?lit$291671447$-->Start coding or <span tabindex="0" role="button" class="link">generate</span> with AI.</div></template></colab-read-only-cell-placeholder></pre></div><colab-form class="formview vertical layout flex"><div class="widget-area vertical layout"></div></colab-form></div>
    <div class="output" aria-label="Cell 41 output" role="region"><!----> <div class="output-header"> </div>
        <div class="output-content">
          <div class="output-info"><colab-output-info title="Clear output

executed by Karthikaa Ravikumar
Friday, November 24, 2023
executed in 0.736s" hovering=""><template shadowrootmode="open"><!----> <md-icon class="collaborator output" alt="Execution output" aria-hidden="true"><template shadowrootmode="open"><!----><slot></slot></template><!--?lit$291671447$-->output</md-icon>
      <!--?lit$291671447$--> <mwc-icon-button icon="cancel" command="clear-focused-or-selected-outputs" alt="Clear output"><template shadowrootmode="open"><!----><button class="mdc-icon-button mdc-icon-button--display-flex" aria-label="cancel"><!--?lit$291671447$-->
    <!--?lit$291671447$--><i class="material-icons"><!--?lit$291671447$-->cancel</i>
    <span><slot></slot></span>
  </button></template>
          </mwc-icon-button><!--?--></template></colab-output-info></div>
          <div class="output-iframe-container">
            <div class="output-iframe-sizer"> <div style=""><div class="outputview" style="height: 472px;"><colab-dom-lifecycle-events style="display: none;"></colab-dom-lifecycle-events><iframe allow="" sandbox="allow-downloads allow-forms allow-pointer-lock allow-popups allow-same-origin allow-scripts allow-storage-access-by-user-activation allow-popups-to-escape-sandbox" src="./spam or ham_files/outputframe(3).html" class="" style="height: 472px;"></iframe></div></div></div>
          </div>
        </div></div></div><colab-cell-next-steps><template shadowrootmode="open"><!----></template></colab-cell-next-steps></div></div><div class="add-cell">
      <hr>
    </div></div><div class="cell code icon-scrolling" id="cell-guJs1CHEzexC" tabindex="-1" role="region" aria-label="Cell 42: Code cell: " style=""><div class="cell-tag-editor sticky"></div><div class="cell-toolbar sticky"></div><div class="main-content" elevation="0"><div class="cell-contents"><div class="cell-mask"></div><span class="imported-info-area"></span><div class="codecell-input-output">
      <div class="inputarea horizontal layout code">
        <div class="cell-gutter">
          <!-- Bounding range for vertical scrolling of icons -->
          <div class="cell-execution-container">
            <colab-run-button title="Run cell (Ctrl+Enter)
cell has not been executed in this session" role="button" aria-label="Run cell"><template shadowrootmode="open"><!----> <div class="cell-execution stale">
      <div class="execution-count"><!--?lit$291671447$-->[ ]</div>
      <div class="cell-execution-indicator"> <!--?lit$291671447$-->
<svg xmlns="http://www.w3.org/2000/svg" viewBox="0 0 24 24">
  <!--?lit$291671447$-->
  <mask id="playSymbolMask">
    <rect width="100%" height="100%" fill="white"></rect>
    <polygon points="10,8 17,12 10,16" fill="black"></polygon>
  </mask>
  <circle cx="12" cy="12" r="7.8" mask="url(#playSymbolMask)" id="filledCircle"></circle>
</svg> </div>
      <!--?lit$291671447$--><!--?-->
    </div></template></colab-run-button>
          </div>
        </div>
      <div class="editor flex lazy-editor" style=""><pre class="lazy-virtualized" style="font-size: 14px; line-height: 19px;"><pre class="lazy-gutter"></pre><pre class="monaco-colorized colab-dark colab-dark colab-dark colab-dark" data-lang="notebook-python"><span><span class="mtk1">log_test_cm&nbsp;=&nbsp;confusion_matrix</span><span class="mtk12">(</span><span class="mtk1">ytest</span><span class="mtk12">,</span><span class="mtk1">&nbsp;log_test_pred</span><span class="mtk12">)</span></span><br></pre><colab-read-only-cell-placeholder style="display: none;"><template shadowrootmode="open"><!----><div><!--?lit$291671447$-->Start coding or <span tabindex="0" role="button" class="link">generate</span> with AI.</div></template></colab-read-only-cell-placeholder></pre></div><colab-form class="formview vertical layout flex"><div class="widget-area vertical layout"></div></colab-form></div>
    <div class="output" aria-label="Cell 42 output" role="region"><!----> <div class="output-header"> </div>
        <div class="output-content" style="display: none;">
          <div class="output-info"> </div>
          <div class="output-iframe-container">
            <div class="output-iframe-sizer"> </div>
          </div>
        </div></div></div><colab-cell-next-steps><template shadowrootmode="open"><!----></template></colab-cell-next-steps></div></div><div class="add-cell">
      <hr>
    </div></div><div class="cell code code-has-output icon-scrolling" id="cell-q4i2a33nzguW" tabindex="-1" role="region" aria-label="Cell 43: Code cell: " style=""><div class="cell-tag-editor sticky"></div><div class="cell-toolbar sticky"></div><div class="main-content" elevation="0"><div class="cell-contents"><div class="cell-mask"></div><span class="imported-info-area"></span><div class="codecell-input-output">
      <div class="inputarea horizontal layout code">
        <div class="cell-gutter">
          <!-- Bounding range for vertical scrolling of icons -->
          <div class="cell-execution-container">
            <colab-run-button title="Run cell (Ctrl+Enter)
cell has not been executed in this session

executed by Karthikaa Ravikumar
Friday, November 24, 2023
executed in 0.402s" role="button" aria-label="Run cell"><template shadowrootmode="open"><!----> <div class="cell-execution stale">
      <div class="execution-count"><!--?lit$291671447$-->[ ]</div>
      <div class="cell-execution-indicator"> <!--?lit$291671447$-->
<svg xmlns="http://www.w3.org/2000/svg" viewBox="0 0 24 24">
  <!--?lit$291671447$-->
  <mask id="playSymbolMask">
    <rect width="100%" height="100%" fill="white"></rect>
    <polygon points="10,8 17,12 10,16" fill="black"></polygon>
  </mask>
  <circle cx="12" cy="12" r="7.8" mask="url(#playSymbolMask)" id="filledCircle"></circle>
</svg> </div>
      <!--?lit$291671447$--><!--?-->
    </div></template></colab-run-button>
          </div>
        </div>
      <div class="editor flex lazy-editor" style=""><pre class="lazy-virtualized" style="font-size: 14px; line-height: 19px;"><pre class="lazy-gutter"></pre><pre class="monaco-colorized colab-dark colab-dark colab-dark colab-dark" data-lang="notebook-python"><span><span class="mtk15">print</span><span class="mtk12">(</span><span class="mtk5">"Logistic&nbsp;Regression&nbsp;Testing&nbsp;-&nbsp;Confusion&nbsp;Matrix&nbsp;\n</span><span class="mtk5">"</span><span class="mtk12">,</span><span class="mtk1">&nbsp;log_test_cm</span><span class="mtk12">)</span></span><br></pre><colab-read-only-cell-placeholder style="display: none;"><template shadowrootmode="open"><!----><div><!--?lit$291671447$-->Start coding or <span tabindex="0" role="button" class="link">generate</span> with AI.</div></template></colab-read-only-cell-placeholder></pre></div><colab-form class="formview vertical layout flex"><div class="widget-area vertical layout"></div></colab-form></div>
    <div class="output" aria-label="Cell 43 output" role="region"><!----> <div class="output-header"> </div>
        <div class="output-content">
          <div class="output-info"><colab-output-info title="Clear output

executed by Karthikaa Ravikumar
Friday, November 24, 2023
executed in 0.402s" hovering=""><template shadowrootmode="open"><!----> <md-icon class="collaborator output" alt="Execution output" aria-hidden="true"><template shadowrootmode="open"><!----><slot></slot></template><!--?lit$291671447$-->output</md-icon>
      <!--?lit$291671447$--> <mwc-icon-button icon="cancel" command="clear-focused-or-selected-outputs" alt="Clear output"><template shadowrootmode="open"><!----><button class="mdc-icon-button mdc-icon-button--display-flex" aria-label="cancel"><!--?lit$291671447$-->
    <!--?lit$291671447$--><i class="material-icons"><!--?lit$291671447$-->cancel</i>
    <span><slot></slot></span>
  </button></template>
          </mwc-icon-button><!--?--></template></colab-output-info></div>
          <div class="output-iframe-container">
            <div class="output-iframe-sizer"> <div><div><colab-static-output-renderer tabindex="0" role="group"><div><div class="stream output_text"><pre>Logistic Regression Testing - Confusion Matrix 
 [[703  28]
 [  6 298]]
</pre></div></div><div></div></colab-static-output-renderer></div></div></div>
          </div>
        </div></div></div><colab-cell-next-steps><template shadowrootmode="open"><!----></template></colab-cell-next-steps></div></div><div class="add-cell">
      <hr>
    </div></div><div class="cell code code-has-output icon-scrolling" id="cell-4ZmdQP7szibP" tabindex="-1" role="region" aria-label="Cell 44: Code cell: " style=""><div class="cell-tag-editor sticky"></div><div class="cell-toolbar sticky"></div><div class="main-content" elevation="0"><div class="cell-contents"><div class="cell-mask"></div><span class="imported-info-area"></span><div class="codecell-input-output">
      <div class="inputarea horizontal layout code">
        <div class="cell-gutter">
          <!-- Bounding range for vertical scrolling of icons -->
          <div class="cell-execution-container">
            <colab-run-button title="Run cell (Ctrl+Enter)
cell has not been executed in this session

executed by Karthikaa Ravikumar
Friday, November 24, 2023
executed in 0.528s" role="button" aria-label="Run cell"><template shadowrootmode="open"><!----> <div class="cell-execution stale">
      <div class="execution-count"><!--?lit$291671447$-->[ ]</div>
      <div class="cell-execution-indicator"> <!--?lit$291671447$-->
<svg xmlns="http://www.w3.org/2000/svg" viewBox="0 0 24 24">
  <!--?lit$291671447$-->
  <mask id="playSymbolMask">
    <rect width="100%" height="100%" fill="white"></rect>
    <polygon points="10,8 17,12 10,16" fill="black"></polygon>
  </mask>
  <circle cx="12" cy="12" r="7.8" mask="url(#playSymbolMask)" id="filledCircle"></circle>
</svg> </div>
      <!--?lit$291671447$--><!--?-->
    </div></template></colab-run-button>
          </div>
        </div>
      <div class="editor flex lazy-editor" style=""><pre class="lazy-virtualized" style="font-size: 14px; line-height: 19px;"><pre class="lazy-gutter"></pre><pre class="monaco-colorized colab-dark colab-dark colab-dark colab-dark" data-lang="notebook-python"><span><span class="mtk1">sns.heatmap</span><span class="mtk12">(</span><span class="mtk1">log_test_cm</span><span class="mtk12">,</span><span class="mtk1">&nbsp;annot=</span><span class="mtk9">True</span><span class="mtk12">,</span><span class="mtk1">&nbsp;cmap&nbsp;=&nbsp;</span><span class="mtk5">'Spectral'</span><span class="mtk12">)</span></span><br><span><span class="mtk1">plt.xlabel</span><span class="mtk12">(</span><span class="mtk5">'Prediction'</span><span class="mtk12">)</span></span><br><span><span class="mtk1">plt.ylabel</span><span class="mtk12">(</span><span class="mtk5">'Target'</span><span class="mtk12">)</span></span><br><span><span class="mtk1">plt.title</span><span class="mtk12">(</span><span class="mtk5">'Logistic&nbsp;Regression&nbsp;Testing&nbsp;-&nbsp;Confusion&nbsp;Matrix'</span><span class="mtk12">)</span></span><br><span><span class="mtk1">plt.show</span><span class="mtk12">()</span></span><br></pre><colab-read-only-cell-placeholder style="display: none;"><template shadowrootmode="open"><!----><div><!--?lit$291671447$-->Start coding or <span tabindex="0" role="button" class="link">generate</span> with AI.</div></template></colab-read-only-cell-placeholder></pre></div><colab-form class="formview vertical layout flex"><div class="widget-area vertical layout"></div></colab-form></div>
    <div class="output" aria-label="Cell 44 output" role="region"><!----> <div class="output-header"> </div>
        <div class="output-content">
          <div class="output-info"><colab-output-info title="Clear output

executed by Karthikaa Ravikumar
Friday, November 24, 2023
executed in 0.528s" hovering=""><template shadowrootmode="open"><!----> <md-icon class="collaborator output" alt="Execution output" aria-hidden="true"><template shadowrootmode="open"><!----><slot></slot></template><!--?lit$291671447$-->output</md-icon>
      <!--?lit$291671447$--> <mwc-icon-button icon="cancel" command="clear-focused-or-selected-outputs" alt="Clear output"><template shadowrootmode="open"><!----><button class="mdc-icon-button mdc-icon-button--display-flex" aria-label="cancel"><!--?lit$291671447$-->
    <!--?lit$291671447$--><i class="material-icons"><!--?lit$291671447$-->cancel</i>
    <span><slot></slot></span>
  </button></template>
          </mwc-icon-button><!--?--></template></colab-output-info></div>
          <div class="output-iframe-container">
            <div class="output-iframe-sizer"> <div style=""><div class="outputview" style="height: 472px;"><colab-dom-lifecycle-events style="display: none;"></colab-dom-lifecycle-events><iframe allow="" sandbox="allow-downloads allow-forms allow-pointer-lock allow-popups allow-same-origin allow-scripts allow-storage-access-by-user-activation allow-popups-to-escape-sandbox" src="./spam or ham_files/outputframe(4).html" class="" style="height: 472px;"></iframe></div></div></div>
          </div>
        </div></div></div><colab-cell-next-steps><template shadowrootmode="open"><!----></template></colab-cell-next-steps></div></div><div class="add-cell">
      <hr>
    </div></div><div class="cell code icon-scrolling" id="cell-Jd-awr8wzkFi" tabindex="-1" role="region" aria-label="Cell 45: Code cell: " style=""><div class="cell-tag-editor sticky"></div><div class="cell-toolbar sticky"></div><div class="main-content" elevation="0"><div class="cell-contents"><div class="cell-mask"></div><span class="imported-info-area"></span><div class="codecell-input-output">
      <div class="inputarea horizontal layout code">
        <div class="cell-gutter">
          <!-- Bounding range for vertical scrolling of icons -->
          <div class="cell-execution-container">
            <colab-run-button title="Run cell (Ctrl+Enter)
cell has not been executed in this session" role="button" aria-label="Run cell"><template shadowrootmode="open"><!----> <div class="cell-execution  stale ">
      <div class="execution-count"><!--?lit$291671447$-->[ ]</div>
      <div class="cell-execution-indicator"> <!--?lit$291671447$-->
<svg xmlns="http://www.w3.org/2000/svg" viewBox="0 0 24 24">
  <!--?lit$291671447$-->
  <mask id="playSymbolMask">
    <rect width="100%" height="100%" fill="white"></rect>
    <polygon points="10,8 17,12 10,16" fill="black"></polygon>
  </mask>
  <circle cx="12" cy="12" r="7.8" mask="url(#playSymbolMask)" id="filledCircle"></circle>
</svg> </div>
      <!--?lit$291671447$--><!--?-->
    </div></template></colab-run-button>
          </div>
        </div>
      <div class="editor flex lazy-editor" style=""><pre class="lazy-virtualized" style="font-size: 14px; line-height: 19px;"><pre class="lazy-gutter"></pre><pre class="monaco-colorized colab-dark colab-dark colab-dark" data-lang="notebook-python"><span><span></span></span><br></pre><colab-read-only-cell-placeholder style="display: block;"><template shadowrootmode="open"><!----><div><!--?lit$291671447$-->Start coding or <span tabindex="0" role="button" class="link">generate</span> with AI.</div></template></colab-read-only-cell-placeholder></pre></div><colab-form class="formview vertical layout flex"><div class="widget-area vertical layout"></div></colab-form></div>
    <div class="output" aria-label="Cell 45 output" role="region"><!----> <div class="output-header"> </div>
        <div class="output-content" style="display: none;">
          <div class="output-info"> </div>
          <div class="output-iframe-container">
            <div class="output-iframe-sizer"> </div>
          </div>
        </div></div></div><colab-cell-next-steps><template shadowrootmode="open"><!----></template></colab-cell-next-steps></div></div><div class="add-cell">
      <hr>
    </div></div></div>
              </div>
            </div>
          <div class="sidebar" style="display: none;"></div></div>
          <!--?lit$291671447$--> <div class="footer-links">
      <a target="_blank" href="https://colab.research.google.com/signup?utm_source=footer&amp;utm_medium=link&amp;utm_campaign=footer_links">
        <!--?lit$291671447$-->Colab paid products
      </a>
      -
      <a href="https://colab.research.google.com/cancel-subscription" target="_blank">
        <!--?lit$291671447$-->Cancel contracts here
      </a>
    </div>
        </div>
      </colab-shaded-scroller>
      <div class="notebook-scroll-shadow" style="box-shadow: rgba(0, 0, 0, 0.15) 0px 4px 4px -2px inset;"></div>
    </div></colab-tab></div>
  </div></colab-tab-pane>
      <colab-resizer style="height: 33.3%" class="sn-resize no-tabs"><div class="resizer-thumb"></div>
        <!--?lit$291671447$--><colab-tab-pane class="layout vertical grow no-tabs" align="horizontal"><!----> <div class="layout vertical grow">
    <div class="tab-pane-header layout horizontal noshrink">
      <md-tabs><template shadowrootmode="open"><!---->
      <div class="tabs">
        <slot></slot>
      </div>
      <md-divider part="divider"><template shadowrootmode="open"><!----></template></md-divider>
    </template></md-tabs>
      <div class="layout grow"></div>
      <!--?lit$291671447$--> <md-icon-button title="Show more" aria-label="Show more" role="presentation" value=""><template shadowrootmode="open" shadowrootdelegatesfocus><!----><button id="button" class="icon-button  standard " aria-label="Show more">
        <!--?lit$291671447$--><md-focus-ring part="focus-ring" for="button" aria-hidden="true"><template shadowrootmode="open"><!----></template></md-focus-ring>
        <!--?lit$291671447$--><md-ripple aria-hidden="true"><template shadowrootmode="open"><!----><div class="surface   "></div></template></md-ripple>
        <!--?lit$291671447$--><span class="icon"><slot></slot></span>
        <!--?lit$291671447$-->
        <!--?lit$291671447$--><span class="touch"></span>
        <!--?lit$291671447$-->
  </button></template>
    <md-icon aria-hidden="true"><template shadowrootmode="open"><!----><slot></slot></template>more_horiz</md-icon>
  </md-icon-button>
    </div>
    <div class="layout vertical grow tab-pane-container"> </div>
  </div></colab-tab-pane>
      </colab-resizer>
    </div>
      <colab-resizer style="width: 37%" class="we-resize"><div class="resizer-thumb"></div>
        <!--?lit$291671447$--> <div class="layout vertical tab-pane-parent">
      <!--?lit$291671447$--><colab-tab-pane class="layout vertical grow" align="horizontal"><!----> <div class="layout vertical grow">
    <div class="tab-pane-header layout horizontal noshrink">
      <md-tabs><template shadowrootmode="open"><!---->
      <div class="tabs">
        <slot></slot>
      </div>
      <md-divider part="divider"><template shadowrootmode="open"><!----></template></md-divider>
    </template><md-primary-tab noink="" aria-labelledby="tab-title-ROKRG_76HrGi" draggable="true" tabindex="0" class="selected-tab" md-tab="" active=""><template shadowrootmode="open"><!----><div class="button" role="presentation">
      <md-focus-ring part="focus-ring" inward="" aria-hidden="true"><template shadowrootmode="open"><!----></template></md-focus-ring>
      <md-elevation part="elevation" aria-hidden="true"><template shadowrootmode="open"><!----><span class="shadow"></span></template></md-elevation>
      <md-ripple aria-hidden="true"><template shadowrootmode="open"><!----><div class="surface"></div></template></md-ripple>
      <div role="presentation" class="content  has-label stacked ">
        <slot name="icon"></slot>
        <slot></slot>
        <!--?lit$291671447$--><div class="indicator"></div>
      </div>
      <!--?lit$291671447$-->
    </div></template>
          <div class="colab-tab-header">
            <span class="colab-tab-title" id="tab-title-ROKRG_76HrGi"><!--?lit$291671447$--><!--?lit$291671447$-->Release notes<!--?--></span>
            <!--?lit$291671447$--><md-icon-button class="tab-close" aria-label="Close" title="Close" role="presentation" value=""><template shadowrootmode="open" shadowrootdelegatesfocus><!----><button id="button" class="icon-button  standard " aria-label="Close">
        <!--?lit$291671447$--><md-focus-ring part="focus-ring" for="button" aria-hidden="true"><template shadowrootmode="open"><!----></template></md-focus-ring>
        <!--?lit$291671447$--><md-ripple aria-hidden="true"><template shadowrootmode="open"><!----><div class="surface   "></div></template></md-ripple>
        <!--?lit$291671447$--><span class="icon"><slot></slot></span>
        <!--?lit$291671447$-->
        <!--?lit$291671447$--><span class="touch"></span>
        <!--?lit$291671447$-->
  </button></template><md-icon aria-hidden="true"><template shadowrootmode="open"><!----><slot></slot></template>close</md-icon></md-icon-button>
          </div>
        </md-primary-tab></md-tabs>
      <div class="layout grow"></div>
      <!--?lit$291671447$--> <md-icon-button title="Show more" aria-label="Show more" role="presentation" value=""><template shadowrootmode="open" shadowrootdelegatesfocus><!----><button id="button" class="icon-button  standard " aria-label="Show more">
        <!--?lit$291671447$--><md-focus-ring part="focus-ring" for="button" aria-hidden="true"><template shadowrootmode="open"><!----></template></md-focus-ring>
        <!--?lit$291671447$--><md-ripple aria-hidden="true"><template shadowrootmode="open"><!----><div class="surface   "></div></template></md-ripple>
        <!--?lit$291671447$--><span class="icon"><slot></slot></span>
        <!--?lit$291671447$-->
        <!--?lit$291671447$--><span class="touch"></span>
        <!--?lit$291671447$-->
  </button></template>
    <md-icon aria-hidden="true"><template shadowrootmode="open"><!----><slot></slot></template>more_horiz</md-icon>
  </md-icon-button>
    </div>
    <div class="layout vertical grow tab-pane-container"> <colab-tab class="layout vertical grow selected-tab relnotes-tab"><colab-shaded-scroller shade-bottom="" class="layout vertical grow" style="box-shadow: rgba(0, 0, 0, 0.15) 0px 4px 4px -7px inset, rgba(0, 0, 0, 0.15) 0px -4px 4px -2px inset;">
        <div><span><p>Please follow our <a href="https://colab.research.google.com/corgiredirector?site=https%3A%2F%2Fmedium.com%2Fgoogle-colab" target="_blank" rel="nofollow" aria-label="blog Link will open in a new tab">blog</a> to see more
information about new features, tips and tricks, and featured notebooks such as
<a href="https://colab.research.google.com/corgiredirector?site=https%3A%2F%2Fmedium.com%2Fgoogle-colab%2Fnoteworthy-notebooks-3-analyzing-a-bank-failure-with-colab-d23b372de313" target="_blank" rel="nofollow" aria-label="Analyzing a Bank Failure with Colab Link will open in a new tab">Analyzing a Bank Failure with Colab</a>.</p>
<h3>2024-04-15</h3>
<ul>
<li><p>TPU v2 runtime is now available</p>
</li>
<li><p>L4 runtime is now available for paid users</p>
</li>
<li><p>New distributed fine-tuning Gemma tutorial on TPUs
(<a href="https://github.com/googlecolab/colabtools/blob/main/notebooks/Gemma_Distributed_Fine_tuning_on_TPU.ipynb" target="_blank" rel="nofollow" aria-label="GitHub Link will open in a new tab">GitHub</a>)</p>
</li>
<li><p>Symbol rename is now supported with keyboard shortcut F2</p>
</li>
<li><p>Fixed bug causing inability to re-upload deleted files</p>
</li>
<li><p>Fixed breaking bug in colabtools %upload_files_async</p>
</li>
<li><p>Added syntax highlighting to %%writefile cells</p>
</li>
<li><p>Cuda dependencies that come with Torch are cached for faster 
downloads for packages that require Torch and its dependencies (<a href="https://github.com/googlecolab/colabtools/issues/4491" target="_blank" rel="nofollow" aria-label="GitHub issue Link will open in a new tab">GitHub issue</a>)</p>
</li>
<li><p>Python package upgrades</p>
<ul>
<li>bigframes 0.24.0 -&gt; 1.0.0</li>
<li>duckdb 0.9.2 -&gt; 0.10.1</li>
<li>google-cloud-aiplatform 1.43.0 -&gt; 1.47.0</li>
<li>jax 0.4.23 -&gt; 0.4.26</li>
</ul>
</li>
</ul>
<h3>2024-03-13</h3>
<ul>
<li><p>Fixed bug that sometimes caused UserSecrets to move / disappear</p>
</li>
<li><p>Improved messaging for mounting drive in an unsupported environment
(<a href="https://github.com/googlecolab/colabtools/issues/4375" target="_blank" rel="nofollow" aria-label="GitHub issue Link will open in a new tab">GitHub issue</a>)</p>
</li>
<li><p>Python package upgrades</p>
<ul>
<li>torch 2.1.0 -&gt; 2.2.1</li>
<li>torchaudio 2.1.0 -&gt; 2.2.1</li>
<li>torchvision 0.16.0 -&gt; 0.17.1</li>
<li>torchtext 0.16.0 -&gt; 0.17.1</li>
<li>PyMC 5.7.2 -&gt; 5.10.4</li>
<li>BigFrames 0.21.0 -&gt; 0.24.0</li>
<li>google-cloud-aiplatform 1.42.1 -&gt; 1.43.0</li>
<li>tornado 6.3.2 -&gt; 6.3.3</li>
</ul>
</li>
</ul>
<h3>2024-02-21</h3>
<ul>
<li><p>Try out Gemma on
<a href="https://colab.research.google.com/github/google/generative-ai-docs/blob/main/site/en/gemma/docs/lora_tuning.ipynb" target="_blank" rel="nofollow" aria-label="Colab Link will open in a new tab">Colab</a>!</p>
</li>
<li><p>Allow unicode in form text inputs</p>
</li>
<li><p>Display documentation and link to source when displaying functions</p>
</li>
<li><p>Display image-like ndarrays as images</p>
</li>
<li><p>Improved UX around quick charts and execution error suggestions</p>
</li>
<li><p>Released Marketplace image for the month of February
(<a href="https://github.com/googlecolab/colabtools/issues/4254" target="_blank" rel="nofollow" aria-label="GitHub issue Link will open in a new tab">GitHub issue</a>)</p>
</li>
<li><p>Python package upgrades</p>
<ul>
<li>bigframes 0.19.2 -&gt; 0.21.0</li>
<li>regex 2023.6.3 -&gt; 2023.12.25</li>
<li>spacy 3.6.1 -&gt; 3.7.4</li>
<li>beautifulsoup4 4.11.2 -&gt; 4.12.3</li>
<li>tensorflow-probability 0.22.0 -&gt; 0.23.0</li>
<li>google-cloud-language 2.9.1 -&gt; 2.13.1</li>
<li>google-cloud-aiplatform 1.39.0 -&gt; 1.42.1</li>
<li>transformers 4.35.2 -&gt; 4..37.2</li>
<li>pyarrow 10.0.1 -&gt; 14.0.2</li>
</ul>
</li>
</ul>
<h3>2024-01-29</h3>
<ul>
<li><p>New
<a href="https://colab.research.google.com/corgiredirector?site=https%3A%2F%2Fwww.kaggle.com%2Fdiscussions%2Fproduct-feedback%2F470030" target="_blank" rel="nofollow" aria-label="Kaggle Notebooks &lt;&gt; Colab updates Link will open in a new tab">Kaggle Notebooks &lt;&gt; Colab updates</a>!
Now you can:</p>
<ul>
<li>Import directly from Colab without having to download/re-upload</li>
<li>Upload via link, by pasting Google Drive or Colab URLs</li>
<li>Export &amp; run Kaggle Notebooks on Colab with 1 click</li>
</ul>
</li>
<li><p>Try these notebooks that talk to Gemini:</p>
<ul>
<li><a href="https://colab.research.google.com/corgiredirector?site=https%3A%2F%2Fcolab.sandbox.google.com%2Fgithub%2Fgooglecolab%2Fcolabtools%2Fblob%2Fmain%2Fnotebooks%2FGemini_and_Stable_Diffusion.ipynb" target="_blank" rel="nofollow" aria-label="Gemini and Stable Diffusion Link will open in a new tab">Gemini and Stable Diffusion</a></li>
<li><a href="https://colab.research.google.com/corgiredirector?site=https%3A%2F%2Fcolab.sandbox.google.com%2Fgithub%2Fgooglecolab%2Fcolabtools%2Fblob%2Fmain%2Fnotebooks%2FLearning_with_Gemini_and_ChatGPT.ipynb" target="_blank" rel="nofollow" aria-label="Learning with Gemini and ChatGPT Link will open in a new tab">Learning with Gemini and ChatGPT</a></li>
<li><a href="https://colab.research.google.com/corgiredirector?site=https%3A%2F%2Fcolab.sandbox.google.com%2Fgithub%2Fgooglecolab%2Fcolabtools%2Fblob%2Fmain%2Fnotebooks%2FTalk_to_Gemini_with_Google%2527s_Speech_to_Text_API.ipynb" target="_blank" rel="nofollow" aria-label="Talk to Gemini with Google&#39;s Speech to Text API Link will open in a new tab">Talk to Gemini with Google's Speech to Text API</a></li>
<li><a href="https://colab.research.google.com/corgiredirector?site=https%3A%2F%2Fcolab.sandbox.google.com%2Fgithub%2Fgooglecolab%2Fcolabtools%2Fblob%2Fmain%2Fnotebooks%2FSell_lemonade_with_Gemini_and_Sheets.ipynb" target="_blank" rel="nofollow" aria-label="Sell lemonade with Gemini and Sheets Link will open in a new tab">Sell lemonade with Gemini and Sheets</a></li>
<li><a href="https://colab.research.google.com/corgiredirector?site=https%3A%2F%2Fcolab.sandbox.google.com%2Fgithub%2Fgooglecolab%2Fcolabtools%2Fblob%2Fmain%2Fnotebooks%2FGenerate_images_with_Gemini_and_Vertex.ipynb" target="_blank" rel="nofollow" aria-label="Generate images with Gemini and Vertex Link will open in a new tab">Generate images with Gemini and Vertex</a></li>
</ul>
</li>
<li><p>Python package upgrades</p>
<ul>
<li>google-cloud-aiplatform 1.38.1 -&gt; 1.39.0</li>
<li>bigframes 0.18.0 -&gt; 0.19.2</li>
<li>polars 0.17.3 -&gt; 0.20.2</li>
<li>gdown 4.6.6 -&gt; 4.7.3
(<a href="https://github.com/googlecolab/colabtools/issues/4298" target="_blank" rel="nofollow" aria-label="GitHub issue Link will open in a new tab">GitHub issue</a>)</li>
<li>tensorflow-hub 0.15.0 -&gt; 0.16.0</li>
<li>flax 0.7.5 -&gt; 0.8.0</li>
</ul>
</li>
<li><p>Python package inclusions</p>
<ul>
<li>sentencepiece 0.1.99</li>
</ul>
</li>
</ul>
<h3>2024-01-08</h3>
<ul>
<li><p>Avoid nested scrollbars for large outputs by using
<code>google.colab.output.no_vertical_scroll()</code>
<a href="https://colab.research.google.com/gist/blois/635d82605b163fc8fbb8ae1128c7f388/no_vertical_scroll.ipynb" target="_blank" rel="nofollow" aria-label="Example notebook Link will open in a new tab">Example notebook</a></p>
</li>
<li><p>Fix <a href="https://github.com/googlecolab/colabtools/issues/4272" target="_blank" rel="nofollow" aria-label="bug Link will open in a new tab">bug</a> where
downloading models from Hugging Face could freeze</p>
</li>
<li><p>Python package upgrades</p>
<ul>
<li>huggingface-hub 0.19.4 -&gt; 0.20.2</li>
<li>bigframes 0.17.0 -&gt; 0.18.0</li>
</ul>
</li>
</ul>
<h3>2023-12-18</h3>
<ul>
<li><p>Expanded access to AI coding has arrived in Colab across 175 locales for all
tiers of Colab users</p>
</li>
<li><p>Improvements to display of ML-based inline completions (for eligible
Pro/Pro+ users)</p>
</li>
<li><p>Started a series of
<a href="https://github.com/googlecolab/colabtools/tree/main/notebooks" target="_blank" rel="nofollow" aria-label="notebooks Link will open in a new tab">notebooks</a>
highlighting Gemini API capabilities</p>
</li>
<li><p>Enable ⌘/Ctrl+L to select the full line in an editor</p>
</li>
<li><p>Fixed <a href="https://github.com/googlecolab/colabtools/issues/4174" target="_blank" rel="nofollow" aria-label="bug Link will open in a new tab">bug</a> where we
weren't correctly formatting output from multiple execution results</p>
</li>
<li><p>Python package upgrades</p>
<ul>
<li>CUDA 11.8 to CUDA 12.2</li>
<li>tensorflow 2.14.0 -&gt; 2.15.0</li>
<li>tensorboard 2.14.0 -&gt; 2.15.0</li>
<li>keras 2.14.0 -&gt; 2.15.0</li>
<li>Nvidia drivers 525.105.17 -&gt; 535.104.05</li>
<li>tensorflow-gcs-config 2.14.0 -&gt; 2.15.0</li>
<li>bigframes 0.13.0 -&gt; 0.17.0</li>
<li>geemap 0.28.2 -&gt; 0.29.6</li>
<li>pyarrow 9.0.0 -&gt; 10.0.1</li>
<li>google-generativeai 0.2.2 -&gt; 0.3.1</li>
<li>jax 0.4.20 —&gt; 0.4.23</li>
<li>jaxlib 0.4.20 —&gt; 0.4.23</li>
</ul>
</li>
<li><p>Python package inclusions</p>
<ul>
<li>kagglehub 0.1.4</li>
<li>google-cloud-aiplatform 1.38.1</li>
</ul>
</li>
</ul>
<h3>2023-11-27</h3>
<ul>
<li><p>Removed warning when calling <code>await</code> to make it render as code</p>
</li>
<li><p>Added "Run selection" to the cell context menu</p>
</li>
<li><p>Added highlighting for the <code>%%python</code> cell magic</p>
</li>
<li><p>Launched AI coding features for Pro/Pro+ users in more locales</p>
</li>
<li><p>Python package upgrades</p>
<ul>
<li>bigframes 0.12.0 -&gt; 0.13.0</li>
</ul>
</li>
<li><p>Python package inclusions</p>
<ul>
<li>transformers 4.35.2</li>
<li>google-generativeai 0.2.2</li>
</ul>
</li>
</ul>
<h3>2023-11-08</h3>
<ul>
<li><p>Launched Secrets, for safe storage of private keys on Colab
(<a href="https://colab.research.google.com/corgiredirector?site=https%3A%2F%2Ftwitter.com%2FGoogleColab%2Fstatus%2F1719798406195867814" target="_blank" rel="nofollow" aria-label="tweet Link will open in a new tab">tweet</a>)</p>
</li>
<li><p>Fixed issue where TensorBoard would not load
(<a href="https://github.com/googlecolab/colabtools/issues/3990" target="_blank" rel="nofollow" aria-label="#3990 Link will open in a new tab">#3990</a>)</p>
</li>
<li><p>Python package upgrades</p>
<ul>
<li>lightgbm 4.0.0 -&gt; 4.1.0</li>
<li>bigframes 0.10.0 -&gt; 0.12.0</li>
<li>bokeh 3.2.2 -&gt; 3.3.0</li>
<li>duckdb 0.8.1 -&gt; 0.9.1</li>
<li>numba 0.56.4 -&gt; 0.58.1</li>
<li>tweepy 4.13.0 -&gt; 4.14.0</li>
<li>jax 0.4.16 -&gt; 0.4.20</li>
<li>jaxlib 0.4.16 -&gt; 0.4.20</li>
</ul>
</li>
</ul>
<h3>2023-10-23</h3>
<ul>
<li><p>Updated the <strong>Open notebook</strong> dialog for better usability and support for
smaller screen sizes</p>
</li>
<li><p>Added smart paste support for data from Google Sheets for R notebooks</p>
</li>
<li><p>Enabled showing release notes in a tab</p>
</li>
<li><p>Launched AI coding features for Pro/Pro+ users in Australia 🇦🇺 Canada 🇨🇦
India 🇮🇳 and Japan 🇯🇵
(<a href="https://colab.research.google.com/corgiredirector?site=https%3A%2F%2Ftwitter.com%2FGoogleColab%2Fstatus%2F1714322243659108376" target="_blank" rel="nofollow" aria-label="tweet Link will open in a new tab">tweet</a>)</p>
</li>
<li><p>Python package upgrades</p>
<ul>
<li>earthengine-api 0.1.357 -&gt; 0.1.375</li>
<li>flax 0.7.2 -&gt; 0.7.4</li>
<li>geemap 0.27.4 -&gt; 0.28.2</li>
<li>jax 0.4.14 -&gt; 0.4.16</li>
<li>jaxlib 0.4.14 -&gt; 0.4.16</li>
<li>keras 2.13.1 -&gt; 2.14.0</li>
<li>tensorboard 2.13.0 -&gt; 2.14.1</li>
<li>tensorflow 2.13.0 -&gt; 2.14.0</li>
<li>tensorflow-gcs-config 2.13.0 -&gt; 2.14.0</li>
<li>tensorflow-hub 0.14.0 -&gt; 0.15.0</li>
<li>tensorflow-probability 0.20.1 -&gt; 0.22.0</li>
<li>torch 2.0.1 -&gt; 2.1.0</li>
<li>torchaudio 2.0.2 -&gt; 2.1.0</li>
<li>torchtext 0.15.2 -&gt; 0.16.0</li>
<li>torchvision 0.15.2 -&gt; 0.16.0</li>
<li>xgboost 1.7.6 -&gt; 2.0.0</li>
</ul>
</li>
<li><p>Python package inclusions</p>
<ul>
<li>bigframes 0.10.0</li>
<li>malloy 2023.1056</li>
</ul>
</li>
</ul>
<h3>2023-09-22</h3>
<ul>
<li>Added the ability to scope an AI generated suggestion to a specific Pandas
dataframe
(<a href="https://colab.research.google.com/corgiredirector?site=https%3A%2F%2Ftwitter.com%2FGoogleColab%2Fstatus%2F1699880260056322462" target="_blank" rel="nofollow" aria-label="tweet Link will open in a new tab">tweet</a>)</li>
<li>Added Colab link previews to Docs
(<a href="https://colab.research.google.com/corgiredirector?site=https%3A%2F%2Ftwitter.com%2FGoogleColab%2Fstatus%2F1701684666972205243" target="_blank" rel="nofollow" aria-label="tweet Link will open in a new tab">tweet</a>)</li>
<li>Added smart paste support for data from Google Sheets</li>
<li>Increased font size of dropdowns in interactive forms</li>
<li>Improved rendering of the notebook when printing</li>
<li>Python package upgrades<ul>
<li>tensorflow 2.12.0 -&gt; 2.13.0</li>
<li>tensorboard 2.12.3 -&gt; 2.13.0</li>
<li>keras 2.12.0 -&gt; 2.13.1</li>
<li>tensorflow-gcs-config 2.12.0 -&gt; 2.13.</li>
<li>scipy 1.10.1-&gt; 1.11.2</li>
<li>cython 0.29.6 -&gt; 3.0.2</li>
</ul>
</li>
<li>Python package inclusions<ul>
<li>geemap 0.26.0</li>
</ul>
</li>
</ul>
<h3>2023-08-18</h3>
<ul>
<li>Added "Change runtime type" to the menu in the connection button</li>
<li>Improved auto-reconnection to an already running notebook
(<a href="https://github.com/googlecolab/colabtools/issues/3764" target="_blank" rel="nofollow" aria-label="#3764 Link will open in a new tab">#3764</a>)</li>
<li>Increased the specs of our highmem machines for Pro users</li>
<li>Fixed <code>add-apt-repository</code> command on Ubuntu 22.04 runtime
(<a href="https://github.com/googlecolab/colabtools/issues/3867" target="_blank" rel="nofollow" aria-label="#3867 Link will open in a new tab">#3867</a>)</li>
<li>Python package upgrades<ul>
<li>bokeh 2.4.3 -&gt; 3.2.2</li>
<li>cmake 3.25.2 -&gt; 3.27.2</li>
<li>cryptography 3.4.8 -&gt; 41.0.3</li>
<li>dask 2022.12.1 -&gt; 2023.8.0</li>
<li>distributed 2022.12.1 -&gt; 2023.8.0</li>
<li>earthengine-api 0.1.358 -&gt; 0.1.364</li>
<li>flax 0.7.0 -&gt; 0.7.2</li>
<li>ipython-sql 0.4.0 -&gt; 0.5.0</li>
<li>jax 0.4.13 -&gt; 0.4.14</li>
<li>jaxlib 0.4.13 -&gt; 0.4.14</li>
<li>lightgbm 3.3.5 -&gt; 4.0.0</li>
<li>mkl 2019.0 -&gt; 2023.2.0</li>
<li>notebook 6.4.8 -&gt; 6.5.5</li>
<li>numpy 1.22.4 -&gt; 1.23.5</li>
<li>opencv-python 4.7.0.72 -&gt; 4.8.0.76</li>
<li>pillow 8.4.0 -&gt; 9.4.0</li>
<li>plotly 5.13.1 -&gt; 5.15.0</li>
<li>prettytable 0.7.2 -&gt; 3.8.0</li>
<li>pytensor 2.10.1 -&gt; 2.14.2</li>
<li>spacy 3.5.4 -&gt; 3.6.1</li>
<li>statsmodels 0.13.5 -&gt; 0.14.0</li>
<li>xarray 2022.12.0 -&gt; 2023.7.0</li>
</ul>
</li>
<li>Python package inclusions<ul>
<li>PyDrive2 1.6.3</li>
</ul>
</li>
</ul>
<h3>2023-07-21</h3>
<ul>
<li><p>Launched auto-plotting for dataframes, available using the chart button that
shows up alongside datatables
(<a href="https://colab.research.google.com/corgiredirector?site=https%3A%2F%2Fmedium.com%2Fgoogle-colab%2Fcolab-data-visualizations-made-easy-5e1918e5234e" target="_blank" rel="nofollow" aria-label="post Link will open in a new tab">post</a>)</p>
<img src="./spam or ham_files/chart_icon.png" alt="Chart button in Colab" width="40">
</li>
<li><p>Added a menu to the table of contents to support running a section or
collapsing/expanding sections
(<a href="https://colab.research.google.com/corgiredirector?site=https%3A%2F%2Fmedium.com%2Fgoogle-colab%2Ftwo-new-ways-to-manage-cell-execution-fbad61b40882" target="_blank" rel="nofollow" aria-label="post Link will open in a new tab">post</a>)</p>
<img alt="Table of Contents running a section" src="./spam or ham_files/run_section.png" width="300">
</li>
<li><p>Added an option to automatically run the first cell or section, available
under Edit -&gt; Notebook settings
(<a href="https://colab.research.google.com/corgiredirector?site=https%3A%2F%2Fmedium.com%2Fgoogle-colab%2Ftwo-new-ways-to-manage-cell-execution-fbad61b40882" target="_blank" rel="nofollow" aria-label="post Link will open in a new tab">post</a>)</p>
<img alt="Run first cell option" src="./spam or ham_files/auto_run_first_cell.png" width="300">
</li>
<li><p>Launched Pro/Pro+ to Algeria, Argentina, Chile, Ecuador, Egypt, Ghana,
Kenya, Malaysia, Nepal, Nigeria, Peru, Rwanda, Saudi Arabia, South Africa,
Sri Lanka, Tunisia, and Ukraine
(<a href="https://colab.research.google.com/corgiredirector?site=https%3A%2F%2Ftwitter.com%2FGoogleColab%2Fstatus%2F1674412460017700866" target="_blank" rel="nofollow" aria-label="tweet Link will open in a new tab">tweet</a>)</p>
</li>
<li><p>Added a command, "Toggle tab moves focus" for toggling tab trapping in the
editor (Tools -&gt; Command palette, "Toggle tab moves focus")</p>
</li>
<li><p>Fixed issue where <code>files.upload()</code> was sometimes returning an incorrect
filename (<a href="https://github.com/googlecolab/colabtools/issues/1550" target="_blank" rel="nofollow" aria-label="#1550 Link will open in a new tab">#1550</a>)</p>
</li>
<li><p>Fixed f-string syntax highlighting bug
(<a href="https://github.com/googlecolab/colabtools/issues/3802" target="_blank" rel="nofollow" aria-label="#3802 Link will open in a new tab">#3802</a>)</p>
</li>
<li><p>Disabled ambiguous characters highlighting for commonly used LaTeX
characters (<a href="https://github.com/googlecolab/colabtools/issues/3648" target="_blank" rel="nofollow" aria-label="#3648 Link will open in a new tab">#3648</a>)</p>
</li>
<li><p>Upgraded Ubuntu from 20.04 LTS to
<a href="https://colab.research.google.com/corgiredirector?site=https%3A%2F%2Fdiscourse.ubuntu.com%2Ft%2Fjammy-jellyfish-release-notes%2F24668" target="_blank" rel="nofollow" aria-label="22.04 LTS Link will open in a new tab">22.04 LTS</a></p>
</li>
<li><p>Updated the Colab Marketplace VM image</p>
</li>
<li><p>Python package upgrades:</p>
<ul>
<li>autograd 1.6.1 -&gt; 1.6.2</li>
<li>drivefs 76.0 -&gt; 77.0</li>
<li>flax 0.6.11 -&gt; 0.7.0</li>
<li>earthengine-api 0.1.357 -&gt; 0.1.358</li>
<li>GDAL 3.3.2-&gt;3.4.3</li>
<li>google-cloud-bigquery-storage 2.20.0 -&gt; 2.22.2</li>
<li>gspread-dataframe 3.0.8 -&gt; 3.3.1</li>
<li>holidays 0.27.1 -&gt; 0.29</li>
<li>jax 0.4.10 -&gt; jax 0.4.13</li>
<li>jaxlib 0.4.10 -&gt; jax 0.4.13</li>
<li>jupyterlab-widgets 3.0.7 -&gt; 3.0.8</li>
<li>nbformat 5.9.0 -&gt; 5.9.1</li>
<li>opencv-python-headless 4.7.0.72 -&gt; 4.8.0.74</li>
<li>pygame 2.4.0 -&gt; 2.5.0</li>
<li>spacy 3.5.3 -&gt; 3.5.4</li>
<li>SQLAlchemy 2.0.16 -&gt; 2.0.19</li>
<li>tabulate 0.8.10 -&gt; 0.9.0</li>
<li>tensorflow-hub 0.13.0 -&gt; 0.14.0</li>
</ul>
</li>
</ul>
<h3>2023-06-23</h3>
<ul>
<li>Launched AI coding features to subscribed users starting with Pro+ users in
the US (<a href="https://colab.research.google.com/corgiredirector?site=https%3A%2F%2Ftwitter.com%2FGoogleColab%2Fstatus%2F1661056135196217346" target="_blank" rel="nofollow" aria-label="tweet Link will open in a new tab">tweet</a>,
<a href="https://colab.research.google.com/corgiredirector?site=https%3A%2F%2Fblog.google%2Ftechnology%2Fdevelopers%2Fgoogle-colab-ai-coding-features%2F" target="_blank" rel="nofollow" aria-label="post Link will open in a new tab">post</a>)</li>
<li>Added the Kernel Selector in the Notebook Settings
(<a href="https://colab.research.google.com/corgiredirector?site=https%3A%2F%2Ftwitter.com%2FGoogleColab%2Fstatus%2F1671265645756039168" target="_blank" rel="nofollow" aria-label="tweet Link will open in a new tab">tweet</a>)</li>
<li>Fixed double space trimming issue in markdown
<a href="https://github.com/googlecolab/colabtools/issues/3766" target="_blank" rel="nofollow" aria-label="#3766 Link will open in a new tab">#3766</a></li>
<li>Fixed run button indicator not always centered
<a href="https://github.com/googlecolab/colabtools/issues/3609" target="_blank" rel="nofollow" aria-label="#3609 Link will open in a new tab">#3609</a></li>
<li>Fixed inconsistencies for automatic indentation on multi-line
<a href="https://github.com/googlecolab/colabtools/issues/3697" target="_blank" rel="nofollow" aria-label="#3697 Link will open in a new tab">#3697</a></li>
<li>Upgraded Python from 3.10.11 to 3.10.12</li>
<li>Python package updates:<ul>
<li>duckdb 0.7.1 -&gt; 0.8.1</li>
<li>earthengine-api 0.1.350 -&gt; 0.1.357</li>
<li>flax 0.6.9 -&gt; 0.6.11</li>
<li>google-cloud-bigquery 3.9.0 -&gt; 3.10.0</li>
<li>google-cloud-bigquery-storage 2.19.1 -&gt; 2.20.0</li>
<li>grpcio 1.54.0 -&gt; 1.56.0</li>
<li>holidays 0.25 -&gt; 0.27.1</li>
<li>nbformat 5.8.0 -&gt; 5.9.0</li>
<li>prophet 1.1.3 -&gt; 1.1.4</li>
<li>pydata-google-auth 1.7.0 -&gt; 1.8.0</li>
<li>spacy 3.5.2 -&gt; 3.5.3</li>
<li>tensorboard 2.12.2 -&gt; 2.12.3</li>
<li>xgboost 1.7.5 -&gt; 1.7.6</li>
</ul>
</li>
<li>Python package inclusions:<ul>
<li>gcsfs 2023.6.0</li>
<li>geopandas 0.13.2</li>
<li>google-cloud-bigquery-connection 1.12.0</li>
<li>google-cloud-functions 1.13.0</li>
<li>grpc-google-iam-v1 0.12.6</li>
<li>multidict 6.0.4</li>
<li>tensorboard-data-server 0.7.1</li>
</ul>
</li>
</ul>
<h3>2023-06-02</h3>
<ul>
<li>Released the new site <a href="https://colab.research.google.com/corgiredirector?site=https%3A%2F%2Fcolab.google" target="_blank" rel="nofollow" aria-label="colab.google Link will open in a new tab">colab.google</a></li>
<li>Published Colab's Docker runtime image to
us-docker.pkg.dev/colab-images/public/runtime
(<a href="https://colab.research.google.com/corgiredirector?site=https%3A%2F%2Ftwitter.com%2FGoogleColab%2Fstatus%2F1663594080436375558" target="_blank" rel="nofollow" aria-label="tweet Link will open in a new tab">tweet</a>,
<a href="https://colab.research.google.com/corgiredirector?site=https%3A%2F%2Fresearch.google.com%2Fcolaboratory%2Flocal-runtimes.html" target="_blank" rel="nofollow" aria-label="instructions Link will open in a new tab">instructions</a>)</li>
<li>Launched support for Google children accounts
(<a href="https://colab.research.google.com/corgiredirector?site=https%3A%2F%2Ftwitter.com%2FGoogleColab%2Fstatus%2F1661811016664231937" target="_blank" rel="nofollow" aria-label="tweet Link will open in a new tab">tweet</a>)</li>
<li>Launched DagsHub integration
(<a href="https://colab.research.google.com/corgiredirector?site=https%3A%2F%2Ftwitter.com%2FTheRealDagsHub%2Fstatus%2F1658098271850749956" target="_blank" rel="nofollow" aria-label="tweet Link will open in a new tab">tweet</a>,
<a href="https://colab.research.google.com/corgiredirector?site=https%3A%2F%2Fdagshub.com%2Fblog%2Fgoogle-colab-integration%2F" target="_blank" rel="nofollow" aria-label="post Link will open in a new tab">post</a>)</li>
<li>Upgraded to Monaco Editor Version 0.37.1</li>
<li>Fixed various Vim keybinding bugs</li>
<li>Fixed issue where the N and P letters sometimes couldn't be typed
(<a href="https://github.com/googlecolab/colabtools/issues/3664" target="_blank" rel="nofollow" aria-label="#3664 Link will open in a new tab">#3664</a>)</li>
<li>Fixed rendering support for compositional inputs
(<a href="https://github.com/googlecolab/colabtools/issues/3660" target="_blank" rel="nofollow" aria-label="#3660 Link will open in a new tab">#3660</a>,
<a href="https://github.com/googlecolab/colabtools/issues/3660" target="_blank" rel="nofollow" aria-label="#3679 Link will open in a new tab">#3679</a>)</li>
<li>Fixed lag in notebooks with lots of cells
(<a href="https://github.com/googlecolab/colabtools/issues/3676" target="_blank" rel="nofollow" aria-label="#3676 Link will open in a new tab">#3676</a>)</li>
<li>Improved support for R by adding a Runtime type notebook setting (Edit -&gt;
Notebook settings)</li>
<li>Improved documentation for connecting to a local runtime (Connect -&gt; Connect
to a local runtime)</li>
<li>Python package updates:<ul>
<li>holidays 0.23 -&gt; 0.25</li>
<li>jax 0.4.8 -&gt; 0.4.10</li>
<li>jaxlib 0.4.8 -&gt; 0.4.10</li>
<li>pip 23.0.1 -&gt; 23.1.2</li>
<li>tensorflow-probability 0.19.0 -&gt; 0.20.1</li>
<li>torch 2.0.0 -&gt; 2.0.1</li>
<li>torchaudio 2.0.1 -&gt; 2.0.2</li>
<li>torchdata 0.6.0 -&gt; 0.6.1</li>
<li>torchtext 0.15.1 -&gt; 0.15.2</li>
<li>torchvision 0.15.1 -&gt; 0.15.2</li>
<li>tornado 6.2 -&gt; 6.3.1</li>
</ul>
</li>
</ul>
<h3>2023-05-05</h3>
<ul>
<li>Released GPU type selection for paid users, allowing them to choose a
preferred NVidia GPU</li>
<li>Upgraded R from 4.2.3 to 4.3.0</li>
<li>Upgraded Python from 3.9.16 to 3.10.11</li>
<li>Python package updates:<ul>
<li>attrs 22.2.0 -&gt; attrs 23.1.0</li>
<li>earthengine-api 0.1.349 -&gt; earthengine-api 0.1.350</li>
<li>flax 0.6.8 -&gt; 0.6.9</li>
<li>grpcio 1.53.0 -&gt; 1.54.0</li>
<li>nbclient 0.7.3 -&gt; 0.7.4</li>
<li>tensorflow-datasets 4.8.3 -&gt; 4.9.2</li>
<li>termcolor 2.2.0 -&gt; 2.3.0</li>
<li>zict 2.2.0 -&gt; 3.0.0</li>
</ul>
</li>
</ul>
<h3>2023-04-14</h3>
<ul>
<li>Python package updates:<ul>
<li>google-api-python-client 2.70.0 -&gt; 2.84.0</li>
<li>google-auth-oauthlib 0.4.6 -&gt; 1.0.0</li>
<li>google-cloud-bigquery 3.4.2 -&gt; 3.9.0</li>
<li>google-cloud-datastore 2.11.1 -&gt; 2.15.1</li>
<li>google-cloud-firestore 2.7.3 -&gt; 2.11.0</li>
<li>google-cloud-language 2.6.1 -&gt; 2.9.1</li>
<li>google-cloud-storage 2.7.0 -&gt; 2.8.0</li>
<li>google-cloud-translate 3.8.4 -&gt; 3.11.1</li>
<li>networkx 3.0 -&gt; 3.1</li>
<li>notebook 6.3.0 -&gt; 6.4.8</li>
<li>jax 0.4.7 -&gt; 0.4.8</li>
<li>pandas 1.4.4 -&gt; 1.5.3</li>
<li>spacy 3.5.1 -&gt; 3.5.2</li>
<li>SQLAlchemy 1.4.47 -&gt; 2.0.9</li>
<li>xgboost 1.7.4 -&gt; 1.7.5</li>
</ul>
</li>
</ul>
<h3>2023-03-31</h3>
<ul>
<li>Improve bash ! syntax highlighting
(<a href="https://github.com/googlecolab/colabtools/issues/3507" target="_blank" rel="nofollow" aria-label="GitHub issue Link will open in a new tab">GitHub issue</a>)</li>
<li>Fix bug where VIM keybindings weren't working in the file editor</li>
<li>Upgraded R from 4.2.2 to 4.2.3</li>
<li>Python package updates:<ul>
<li>arviz 0.12.1 --&gt; 0.15.1</li>
<li>astropy 4.3.1 --&gt; 5.2.2</li>
<li>dopamine-rl 1.0.5 --&gt; 4.0.6</li>
<li>gensim 3.6.0 --&gt; 4.3.1</li>
<li>ipykernel 5.3.4 -&gt; 5.5.6</li>
<li>ipython 7.9.0 -&gt; 7.34.0</li>
<li>jax 0.4.4 -&gt; 0.4.7</li>
<li>jaxlib 0.4.4 -&gt; 0.4.7</li>
<li>jupyter_core 5.2.0 -&gt; 5.3.0</li>
<li>keras 2.11.0 -&gt; 2.12.0</li>
<li>lightgbm 2.2.3 -&gt; 3.3.5</li>
<li>matplotlib 3.5.3 -&gt; 3.7.1</li>
<li>nltk 3.7 -&gt; 3.8.1</li>
<li>opencv-python 4.6.0.66 -&gt; 4.7.0.72</li>
<li>plotly 5.5.0 -&gt; 5.13.1</li>
<li>pymc 4.1.4 -&gt; 5.1.2</li>
<li>seaborn 0.11.2 -&gt; 0.12.2</li>
<li>spacy 3.4.4 -&gt; 3.5.1</li>
<li>sympy 1.7.1 -&gt; 1.11.1</li>
<li>tensorboard 2.11.2 -&gt; 2.12.0</li>
<li>tensorflow 2.11.0 -&gt; 2.12.0</li>
<li>tensorflow-estimator 2.11.0 -&gt; 2.12.0</li>
<li>tensorflow-hub 0.12.0 -&gt; 0.13.0</li>
<li>torch 1.13.1 -&gt; 2.0.0</li>
<li>torchaudio 0.13.1 -&gt; 2.0.1</li>
<li>torchtext 0.14.1 -&gt; 0.15.1</li>
<li>torchvision 0.14.1 -&gt; 0.15.1</li>
</ul>
</li>
</ul>
<h3>2023-03-10</h3>
<ul>
<li>Added the
<a href="https://colab.research.google.com/notebooks/editor_shortcuts.ipynb" target="_blank" rel="nofollow" aria-label="Colab editor shortcuts Link will open in a new tab">Colab editor shortcuts</a>
example notebook</li>
<li>Fixed triggering of @-mention and email autocomplete for large comments
(<a href="https://github.com/googlecolab/colabtools/issues/3383" target="_blank" rel="nofollow" aria-label="GitHub issue Link will open in a new tab">GitHub issue</a>)</li>
<li>Added View Resources to the Runtime menu</li>
<li>Made file viewer images fit the view by default, resizing to original size
on click</li>
<li>When in VIM mode, enable copy as well as allowing propagation to monaco-vim
to escape visual mode
(<a href="https://github.com/googlecolab/colabtools/issues/3414" target="_blank" rel="nofollow" aria-label="GitHub issue Link will open in a new tab">GitHub issue</a>)</li>
<li>Upgraded CUDA 11.6.2 -&gt; 11.8.0 and cuDNN 8.4.0.27 -&gt; 8.7.0.84</li>
<li>Upgraded Nvidia drivers 525.78.01 -&gt; 530.30.02</li>
<li>Upgraded Python 3.8.10 -&gt; 3.9.16</li>
<li>Python package updates:<ul>
<li>beautifulsoup4 4.6.3 -&gt; 4.9.3</li>
<li>bokeh 2.3.3 -&gt; 2.4.3</li>
<li>debugpy 1.0.0 -&gt; 1.6.6</li>
<li>Flask 1.1.4 -&gt; 2.2.3</li>
<li>jax 0.3.25 -&gt; 0.4.4</li>
<li>jaxlib 0.3.25 -&gt; 0.4.4</li>
<li>Jinja2 2.11.3 -&gt; 3.1.2</li>
<li>matplotlib 3.2.2 -&gt; 3.5.3</li>
<li>nbconvert 5.6.1 -&gt; 6.5.4</li>
<li>pandas 1.3.5 -&gt; 1.4.4</li>
<li>pandas-datareader 0.9.0 -&gt; 0.10.0</li>
<li>pandas-profiling 1.4.1 -&gt; 3.2.0</li>
<li>Pillow 7.1.2 -&gt; 8.4.0</li>
<li>plotnine 0.8.0 -&gt; 0.10.1</li>
<li>scikit-image 0.18.3 -&gt; 0.19.3</li>
<li>scikit-learn 1.0.2 -&gt; 1.2.2</li>
<li>scipy 1.7.3 -&gt; 1.10.1</li>
<li>setuptools 57.4.0 -&gt; 63.4.3</li>
<li>sklearn-pandas 1.8.0 -&gt; 2.2.0</li>
<li>statsmodels 0.12.2 -&gt; 0.13.5</li>
<li>urllib3 1.24.3 -&gt; 1.26.14</li>
<li>Werkzeug 1.0.1 -&gt; 2.2.3</li>
<li>wrapt 1.14.1 -&gt; 1.15.0</li>
<li>xgboost 0.90 -&gt; 1.7.4</li>
<li>xlrd 1.2.0 -&gt; 2.0.1</li>
</ul>
</li>
</ul>
<h3>2023-02-17</h3>
<ul>
<li>Show graphs of RAM and disk usage in notebook toolbar</li>
<li>Copy cell links directly to the clipboard instead of showing a dialog when
clicking on the link icon in the cell toolbar</li>
<li>Updated the
<a href="https://colab.research.google.com/corgiredirector?site=https%3A%2F%2Fresearch.google.com%2Fcolaboratory%2Fmarketplace.html" target="_blank" rel="nofollow" aria-label="Colab Marketplace VM image Link will open in a new tab">Colab Marketplace VM image</a></li>
<li>Upgraded CUDA to 11.6.2 and cuDNN to 8.4.0.27</li>
<li>Python package updates:<ul>
<li>tensorflow 2.9.2 -&gt; 2.11.0</li>
<li>tensorboard 2.9.1 -&gt; 2.11.2</li>
<li>keras 2.9.0 -&gt; 2.11.0</li>
<li>tensorflow-estimator 2.9.0 -&gt; 2.11.0</li>
<li>tensorflow-probability 0.17.0 -&gt; 0.19.0</li>
<li>tensorflow-gcs-config 2.9.0 -&gt; 2.11.0</li>
<li>earthengine-api 0.1.339 -&gt; 0.1.341</li>
<li>flatbuffers 1.12 -&gt; 23.1.21</li>
<li>platformdirs 2.6.2 -&gt; 3.0.0</li>
<li>pydata-google-auth 1.6.0 -&gt; 1.7.0</li>
<li>python-utils 3.4.5 -&gt; 3.5.2</li>
<li>tenacity 8.1.0 -&gt; 8.2.1</li>
<li>tifffile 2023.1.23.1 -&gt; 2023.2.3</li>
<li>notebook 5.7.16 -&gt; 6.3.0</li>
<li>tornado 6.0.4 -&gt; 6.2</li>
<li>aiohttp 3.8.3 -&gt; 3.8.4</li>
<li>charset-normalizer 2.1.1 -&gt; 3.0.1</li>
<li>fastai 2.7.0 -&gt; 2.7.1</li>
<li>soundfile 0.11.0 -&gt; 0.12.1</li>
<li>typing-extensions 4.4.0 -&gt; 4.5.0</li>
<li>widgetsnbextension 3.6.1 -&gt; 3.6.2</li>
<li>pydantic 1.10.4 -&gt; 1.10.5</li>
<li>zipp 3.12.0 -&gt; 3.13.0</li>
<li>numpy 1.21.6 -&gt; 1.22.4</li>
<li>drivefs 66.0 -&gt; 69.0</li>
<li>gdal 3.0.4 -&gt; 3.3.2
<a href="https://github.com/googlecolab/colabtools/issues/3375" target="_blank" rel="nofollow" aria-label="GitHub issue Link will open in a new tab">GitHub issue</a></li>
</ul>
</li>
<li>Added libudunits2-dev for smoother R package installs
<a href="https://github.com/googlecolab/colabtools/issues/2831" target="_blank" rel="nofollow" aria-label="GitHub issue Link will open in a new tab">GitHub issue</a></li>
</ul>
<h3>2023-02-03</h3>
<ul>
<li>Improved tooltips for pandas series to show common statistics about the
series object</li>
<li>Made the forms dropdown behave like an autocomplete box when it allows input</li>
<li>Updated the nvidia driver from 460.32.03 to 510.47.03</li>
<li>Python package updates:<ul>
<li>absl-py 1.3.0 -&gt; 1.4.0</li>
<li>bleach 5.0.1 -&gt; 6.0.0</li>
<li>cachetools 5.2.1 -&gt; 5.3.0</li>
<li>cmdstanpy 1.0.8 -&gt; 1.1.0</li>
<li>dnspython 2.2.1 -&gt; 2.3.0</li>
<li>fsspec 2022.11.0 -&gt; 2023.1.0</li>
<li>google-cloud-bigquery-storage 2.17.0 -&gt; 2.18.1</li>
<li>holidays 0.18 -&gt; 0.19</li>
<li>jupyter-core 5.1.3 -&gt; 5.2.0</li>
<li>packaging 21.3 -&gt; 23.0</li>
<li>prometheus-client 0.15.0 -&gt; 0.16.0</li>
<li>pyct 0.4.8 -&gt; 0.5.0</li>
<li>pydata-google-auth 1.5.0 -&gt; 1.6.0</li>
<li>python-slugify 7.0.0 -&gt; 8.0.0</li>
<li>sqlalchemy 1.4.46 -&gt; 2.0.0</li>
<li>tensorflow-io-gcs-filesystem 0.29.0 -&gt; 0.30.0</li>
<li>tifffile 2022.10.10 -&gt; 2023.1.23.1</li>
<li>zipp 3.11.0 -&gt; 3.12.0</li>
<li>Pinned sqlalchemy to version 1.4.46</li>
</ul>
</li>
</ul>
<h3>2023-01-12</h3>
<ul>
<li>Added support for @-mention and email autocomplete in comments</li>
<li>Improved errors when GitHub notebooks can't be loaded</li>
<li>Increased color contrast for colors used for syntax highlighting in the code
editor</li>
<li>Added terminal access for custom GCE VM runtimes</li>
<li>Upgraded Ubuntu from 18.04 LTS to 20.04 LTS
(<a>GitHub issue</a>)</li>
<li>Python package updates:<ul>
<li>GDAL 2.2.2 -&gt; 2.2.3.</li>
<li>NumPy from 1.21.5 to 1.21.6.</li>
<li>attrs 22.1.0 -&gt; 22.2.0</li>
<li>chardet 3.0.4 -&gt; 4.0.0</li>
<li>cloudpickle 1.6.0 -&gt; 2.2.0</li>
<li>filelock 3.8.2 -&gt; 3.9.0</li>
<li>google-api-core 2.8.2 -&gt; 2.11.0</li>
<li>google-api-python-client 1.12.11 -&gt; 2.70.0</li>
<li>google-auth-httplib2 0.0.3 -&gt; 0.1.0</li>
<li>google-cloud-bigquery 3.3.5 -&gt; 3.4.1</li>
<li>google-cloud-datastore 2.9.0 -&gt; 2.11.0</li>
<li>google-cloud-firestore 2.7.2 -&gt; 2.7.3</li>
<li>google-cloud-storage 2.5.0 -&gt; 2.7.0</li>
<li>holidays 0.17.2 -&gt; holidays 0.18</li>
<li>importlib-metadata 5.2.0 -&gt; 6.0.0</li>
<li>networkx 2.8.8 -&gt; 3.0</li>
<li>opencv-python-headless 4.6.0.66 -&gt; 4.7.0.68</li>
<li>pip 21.1.3 -&gt; 22.04</li>
<li>pip-tools 6.2.0 -&gt; 6.6.2</li>
<li>prettytable 3.5.0 -&gt; 3.6.0</li>
<li>requests 2.23.0 -&gt; 2.25.1</li>
<li>termcolor 2.1.1 -&gt; 2.2.0</li>
<li>torch 1.13.0 -&gt; 1.13.1</li>
<li>torchaudio 0.13.0 -&gt; 0.13.1</li>
<li>torchtext 0.14.0-&gt; 0.14.1</li>
<li>torchvision 0.14.0 -&gt; 0.14.1</li>
</ul>
</li>
</ul>
<h3>2022-12-06</h3>
<ul>
<li>Made fallback runtime version available until mid-December
(<a href="https://github.com/googlecolab/colabtools/issues/3246" target="_blank" rel="nofollow" aria-label="GitHub issue Link will open in a new tab">GitHub issue</a>)</li>
<li>Upgraded to Python 3.8
(<a href="https://github.com/googlecolab/colabtools/issues/3246" target="_blank" rel="nofollow" aria-label="GitHub issue Link will open in a new tab">GitHub issue</a>)</li>
<li>Python package updates:<ul>
<li>jax from 0.3.23 to 0.3.25, jaxlib from 0.3.22 to 0.3.25</li>
<li>pyarrow from 6.0.1 to 9.0.0</li>
<li>torch from 1.12.1 to 1.13.0</li>
<li>torchaudio from 0.12.1 to 0.13.0</li>
<li>torchvision from 0.13.1 to 0.14.0</li>
<li>torchtext from 0.13.1 to 0.14.0</li>
<li>xlrd from 1.1.0 to 1.2.0</li>
<li>DriveFS from 62.0.1 to 66.0.3</li>
</ul>
</li>
<li>Made styling of markdown tables in outputs match markdown tables in text
cells</li>
<li>Improved formatting for empty interactive table rows</li>
<li>Fixed syntax highlighting for variables with names that contain Python
keywords
(<a href="https://github.com/googlecolab/colabtools/issues/3210" target="_blank" rel="nofollow" aria-label="GitHub issue Link will open in a new tab">GitHub issue</a>)</li>
</ul>
<h3>2022-11-11</h3>
<ul>
<li>Added more dark editor themes for Monaco (when in dark mode, "Editor
colorization" appears as an option in the Editor tab of the Tools → Settings
dialog)</li>
<li>Fixed bug where collapsed forms were deleted on mobile
<a href="https://github.com/googlecolab/colabtools/issues/3153" target="_blank" rel="nofollow" aria-label="GitHub issue Link will open in a new tab">GitHub issue</a></li>
<li>Python package updates:<ul>
<li>rpy2 from 3.4.0 to 3.5.5
(<a href="https://github.com/googlecolab/colabtools/issues/3180" target="_blank" rel="nofollow" aria-label="GitHub issue Link will open in a new tab">GitHub issue</a>)</li>
<li>notebook from 5.5.0 to 5.7.16</li>
<li>tornado from 5.1.1 to 6.0.4</li>
<li>tensorflow_probability from 0.16.0 to 0.17.0</li>
<li>pandas-gbq from 0.13.3 to 0.17.9</li>
<li>protobuf from 3.17.3 to 3.19.6</li>
<li>google-api-core[grpc] from 1.31.5 to 2.8.2</li>
<li>google-cloud-bigquery from 1.21.0 to 3.3.5</li>
<li>google-cloud-core from 1.0.1 to 2.3.2</li>
<li>google-cloud-datastore from 1.8.0 to 2.9.0</li>
<li>google-cloud-firestore from 1.7.0 to 2.7.2</li>
<li>google-cloud-language from 1.2.0 to 2.6.1</li>
<li>google-cloud-storage from 1.18.0 to 2.5.0</li>
<li>google-cloud-translate from 1.5.0 to 3.8.4</li>
</ul>
</li>
</ul>
<h3>2022-10-21</h3>
<ul>
<li>Launched a single-click way to get from BigQuery to Colab to further explore
query results
(<a href="https://colab.research.google.com/corgiredirector?site=https%3A%2F%2Fcloud.google.com%2Fbigquery%2Fdocs%2Fexplore-data-colab" target="_blank" rel="nofollow" aria-label="announcement Link will open in a new tab">announcement</a>)</li>
<li>Launched
<a href="https://colab.research.google.com/signup" target="_blank" rel="nofollow" aria-label="Pro, Pro+, and Pay As You Go Link will open in a new tab">Pro, Pro+, and Pay As You Go</a> to
19 additional countries: Austria, Belgium, Bulgaria, Croatia, Cyprus,
Czechia, Denmark, Estonia, Finland, Greece, Hungary, Latvia, Lithuania,
Norway, Portugal, Romania, Slovakia, Slovenia, and Sweden
(<a href="https://colab.research.google.com/corgiredirector?site=https%3A%2F%2Ftwitter.com%2FGoogleColab%2Fstatus%2F1579956393834344449" target="_blank" rel="nofollow" aria-label="tweet Link will open in a new tab">tweet</a>)</li>
<li>Updated jax from 0.3.17 to 0.3.23, jaxlib from 0.3.15 to 0.3.22, TensorFlow
from 2.8.2 to 2.9.2, CUDA from 11.1 to 11.2, and cuDNN from 8.0 to 8.1
(<a href="https://github.com/googlecolab/backend-info" target="_blank" rel="nofollow" aria-label="backend-info Link will open in a new tab">backend-info</a>)</li>
<li>Added a <code>readonly</code> option to
<a href="https://github.com/googlecolab/colabtools/blob/main/google/colab/drive.py#L99" target="_blank" rel="nofollow" aria-label="drive.mount Link will open in a new tab"><code>drive.mount</code></a></li>
<li>Fixed bug where Xarray was not working
(<a href="https://github.com/googlecolab/colabtools/issues/3134" target="_blank" rel="nofollow" aria-label="GitHub issue Link will open in a new tab">GitHub issue</a>)</li>
<li>Modified Markdown parsing to ignore block quote symbol within MathJax
(<a href="https://github.com/googlecolab/colabtools/issues/3118" target="_blank" rel="nofollow" aria-label="GitHub issue Link will open in a new tab">GitHub issue</a>)</li>
</ul>
<h3>2022-09-30</h3>
<ul>
<li>Launched <a href="https://colab.research.google.com/signup" target="_blank" rel="nofollow" aria-label="Pay As You Go Link will open in a new tab">Pay As You Go</a>, allowing
premium GPU access without requiring a subscription</li>
<li>Added vim and tcllib to our runtime image</li>
<li>Fixed bug where open files were closed on kernel disconnect
(<a href="https://github.com/googlecolab/colabtools/issues/1716" target="_blank" rel="nofollow" aria-label="GitHub issue Link will open in a new tab">GitHub issue</a>)</li>
<li>Fixed bug where the play button/execution indicator was not clickable when
scrolled into the cell output
(<a href="https://github.com/googlecolab/colabtools/issues/3068" target="_blank" rel="nofollow" aria-label="GitHub issue Link will open in a new tab">GitHub issue</a>)</li>
<li>Updated the styling for form titles so that they avoid obscuring the code
editor</li>
<li>Created a GitHub repo,
<a href="https://github.com/googlecolab/backend-info" target="_blank" rel="nofollow" aria-label="backend-info Link will open in a new tab">backend-info</a>, with the latest
apt-list.txt and pip-freeze.txt files for the Colab runtime
(<a href="https://github.com/googlecolab/colabtools/issues/1445" target="_blank" rel="nofollow" aria-label="GitHub issue Link will open in a new tab">GitHub issue</a>)</li>
<li>Added
<a href="https://github.com/googlecolab/colabtools/blob/main/google/colab/files.py#L33" target="_blank" rel="nofollow" aria-label="files.upload_file(filename) Link will open in a new tab"><code>files.upload_file(filename)</code></a>
to upload a file from the browser to the runtime with a specified filename</li>
</ul>
<h3>2022-09-16</h3>
<ul>
<li>Upgraded pymc from 3.11.0 to 4.1.4, jax from 0.3.14 to 0.3.17, jaxlib from
0.3.14 to 0.3.15, fsspec from 2022.8.1 to 2022.8.2</li>
<li>Modified our save flow to avoid persisting Drive filenames as titles in
notebook JSON</li>
<li>Updated our <a href="https://colab.research.google.com/pro/terms" target="_blank" rel="nofollow" aria-label="Terms of Service Link will open in a new tab">Terms of Service</a></li>
<li>Modified the <code>Jump to Cell</code> command to locate the cursor at the end of the
command palette input (<code>Jump to cell</code> in Tools → Command palette in a
notebook with section headings)</li>
<li>Updated the styling of the Drive notebook comment UI</li>
<li>Added support for terminating your runtime from code: <code>python from
google.colab import runtime runtime.unassign()</code></li>
<li>Added regex filter support to the Recent notebooks dialog</li>
<li>Inline google.colab.files.upload JS to fix <code>files.upload()</code> not working
(<a href="https://github.com/googlecolab/colabtools/issues/51" target="_blank" rel="nofollow" aria-label="GitHub issue Link will open in a new tab">GitHub issue</a>)</li>
</ul>
<h3>2022-08-26</h3>
<ul>
<li>Upgraded PyYAML from 3.13 to 6.0
(<a href="https://github.com/googlecolab/colabtools/issues/2942" target="_blank" rel="nofollow" aria-label="GitHub issue Link will open in a new tab">GitHub issue</a>),
drivefs from 61.0.3 to 62.0.1</li>
<li>Upgraded TensorFlow from 2.8.2 to 2.9.1 and ipywidgets from 7.7.1 to 8.0.1
but rolled both back due to a number of user reports
(<a href="https://github.com/googlecolab/colabtools/issues/3008" target="_blank" rel="nofollow" aria-label="GitHub issue Link will open in a new tab">GitHub issue</a>,
<a href="https://github.com/googlecolab/colabtools/issues/3020#issuecomment-1223330253" target="_blank" rel="nofollow" aria-label="GitHub issue Link will open in a new tab">GitHub issue</a>)</li>
<li>Stop persisting inferred titles in notebook JSON
(<a href="https://github.com/googlecolab/colabtools/issues/764" target="_blank" rel="nofollow" aria-label="GitHub issue Link will open in a new tab">GitHub issue</a>)</li>
<li>Fix bug in background execution which affected some Pro+ users
(<a href="https://github.com/googlecolab/colabtools/issues/2991" target="_blank" rel="nofollow" aria-label="GitHub issue Link will open in a new tab">GitHub issue</a>)</li>
<li>Fix bug where <code>Download as .py</code> incorrectly handled text cells ending in a
double quote</li>
<li>Fix bug for Pro and Pro+ users where we weren't honoring the preference
(Tools → Settings) to use a temporary scratch notebook as the default
landing page</li>
<li>Provide undo/redo for scratch cells</li>
<li>When writing ipynb files, serialize empty multiline strings as <code>[]</code> for
better consistency with JupyterLab</li>
</ul>
<h3>2022-08-11</h3>
<ul>
<li>Upgraded ipython from 5.5.0 to 7.9.0, fbprophet 0.7 to prophet 1.1,
tensorflow-datasets from 4.0.1 to 4.6.0, drivefs from 60.0.2 to 61.0.3,
pytorch from 1.12.0 to 1.12.1, numba from 0.51 to 0.56, and lxml from 4.2.0
to 4.9.1</li>
<li>Loosened our <code>requests</code> version requirement
(<a href="https://github.com/deepset-ai/haystack/pull/2921#issuecomment-1199714337" target="_blank" rel="nofollow" aria-label="GitHub issue Link will open in a new tab">GitHub issue</a>)</li>
<li>Removed support for TensorFlow 1</li>
<li>Added Help → Report Drive abuse for Drive notebooks</li>
<li>Fixed indentation for Python lines ending in <code>[</code></li>
<li>Modified styling of tables in Markdown to left-align them rather than
centering them</li>
<li>Fixed special character replacement when copying interactive tables as
Markdown</li>
<li>Fixed ansi 8-bit color parsing
(<a href="https://github.com/googlecolab/colabtools/issues/2963" target="_blank" rel="nofollow" aria-label="GitHub issue Link will open in a new tab">GitHub issue</a>)</li>
<li>Configured logging to preempt transitive imports and other loading from
implicitly configuring the root logger</li>
<li>Modified forms to use a value of <code>None</code> instead of causing a parse error
when clearing raw and numeric-typed form fields</li>
</ul>
<h3>2022-07-22</h3>
<ul>
<li>Update scipy from 1.4.1 to 1.7.3, drivefs from 59.0.3 to 60.0.2, pytorch
from 1.11 to 1.12, jax &amp; jaxlib from 0.3.8 to 0.3.14, opencv-python from
4.1.2.30 to 4.6.0.66, spaCy from 3.3.1 to 3.4.0, and dlib from 19.18.0 to
19.24.0</li>
<li>Fix <code>Open in tab</code> doc link which was rendering incorrectly
(<a href="https://github.com/googlecolab/colabtools/issues/2690" target="_blank" rel="nofollow" aria-label="GitHub issue Link will open in a new tab">GitHub issue</a>)</li>
<li>Add a preference for the default tab orientation to the Site section of the
settings menu under Tools → Settings</li>
<li>Show a warning for <code>USE_AUTH_EPHEM</code> usage when running authenticate_user on
a TPU runtime
(<a href="https://github.com/googlecolab/colabtools/blob/main/google/colab/auth.py#L243" target="_blank" rel="nofollow" aria-label="code Link will open in a new tab">code</a>)</li>
</ul>
<h3>2022-07-01</h3>
<ul>
<li>Add a preference for code font to the settings menu under Tools → Settings</li>
<li>Update drivefs from 58.0.3 to 59.0.3 and spacy from 2.2.4 to 3.3.1</li>
<li>Allow
<a href="https://colab.research.google.com/corgiredirector?site=https%3A%2F%2Fipython.org%2Fipython-doc%2F3%2Fnotebook%2Fnbformat.html%23display-data" target="_blank" rel="nofollow" aria-label="display_data Link will open in a new tab">display_data</a>
and
<a href="https://colab.research.google.com/corgiredirector?site=https%3A%2F%2Fipython.org%2Fipython-doc%2F3%2Fnotebook%2Fnbformat.html%23execute-result" target="_blank" rel="nofollow" aria-label="execute_result Link will open in a new tab">execute_result</a>
text outputs to wrap, matching behavior of JupyterLab (does not affect
stream outputs/print statements).</li>
<li>Improve LSP handling of some magics, esp. %%writefile
(<a href="https://github.com/googlecolab/colabtools/issues/2859" target="_blank" rel="nofollow" aria-label="GitHub issue Link will open in a new tab">GitHub issue</a>).</li>
<li>Add a
<a href="https://colab.research.google.com/corgiredirector?site=https%3A%2F%2Fresearch.google.com%2Fcolaboratory%2Ffaq.html%23drive-mount-code-cell" target="_blank" rel="nofollow" aria-label="FAQ entry Link will open in a new tab">FAQ entry</a>
about the mount Drive button behavior and include link buttons for each FAQ
entry.</li>
<li>Fix bug where the notebook was sometimes hidden behind other tabs on load
when in single pane view.</li>
<li>Fix issue with inconsistent scrolling when an editor is in multi-select
mode.</li>
<li>Fix bug where clicking on a link in a form would navigate away from the
notebook</li>
<li>Show a confirmation dialog before performing Replace all from the Find and
replace pane.</li>
</ul>
<h3>2022-06-10</h3>
<ul>
<li>Update drivefs from 57.0.5 to 58.0.3 and tensorflow from 2.8.0 to 2.8.2</li>
<li>Support more than 100 repos in the GitHub repo selector shown in the open
dialog and the clone to GitHub dialog</li>
<li>Show full notebook names on hover in the open dialog</li>
<li>Improve the color contrast for links, buttons, and the
<code>ipywidgets.Accordion</code> widget in dark mode</li>
</ul>
<h3>2022-05-20</h3>
<ul>
<li>Support URL params for linking to some common pref settings:
<a href="https://colab.research.google.com/?force_theme=dark" target="_blank" rel="nofollow" aria-label="force_theme=dark Link will open in a new tab">force_theme=dark</a>,
<a href="https://colab.research.google.com/?force_corgi_mode=1" target="_blank" rel="nofollow" aria-label="force_corgi_mode=1 Link will open in a new tab">force_corgi_mode=1</a>,
<a href="https://colab.research.google.com/?force_font_size=14" target="_blank" rel="nofollow" aria-label="force_font_size=14 Link will open in a new tab">force_font_size=14</a>.
Params forced by URL are not persisted unless saved using Tools → Settings.</li>
<li>Add a class <code>markdown-google-sans</code> to allow
<span class="markdown-google-sans">Markdown to render in Google Sans</span></li>
<li>Update monaco-vim from 0.1.19 to 0.3.4</li>
<li>Update drivefs from 55.0.3 to 57.0.5, jax from 0.3.4 to 0.3.8, and jaxlib
from 0.3.2 to 0.3.7</li>
</ul>
<h3>2022-04-29</h3>
<ul>
<li>Added 🦀 mode (under Miscellaneous in Tools → Settings)</li>
<li>Added "Disconnect and delete runtime" option to the menu next to the Connect
button</li>
<li>Improved rendering of filter options in an interactive table</li>
<li>Added git-lfs to the base image</li>
<li>Updated torch from 1.10.0 to 1.11.0, jupyter-core from 4.9.2 to 4.10.0, and
cmake from 3.12.0 to 3.22.3</li>
<li>Added more details to our
<a href="https://colab.research.google.com/corgiredirector?site=https%3A%2F%2Fresearch.google.com%2Fcolaboratory%2Ffaq.html" target="_blank" rel="nofollow" aria-label="FAQ Link will open in a new tab">FAQ</a> about unsupported
uses (using proxies, downloading torrents, etc.)</li>
<li>Fixed <a href="https://github.com/googlecolab/colabtools/issues/2779" target="_blank" rel="nofollow" aria-label="issue Link will open in a new tab">issue</a> with
apt-get dependencies</li>
</ul>
<h3>2022-04-15</h3>
<ul>
<li>Add an option in the file browser to show hidden files.</li>
<li>Upgrade gdown from 4.2.0 to 4.4.0, google-api-core[grpc] from 1.26.0 to
1.31.5, and pytz from 2018.4 to 2022.1</li>
</ul>
<h3>2022-03-25</h3>
<ul>
<li>Launched
<a href="https://colab.research.google.com/signup?utm_source=relnotes&amp;utm_medium=link&amp;utm_campaign=additional_countries" target="_blank" rel="nofollow" aria-label="Pro/Pro+ Link will open in a new tab">Pro/Pro+</a>
to 12 additional countries: Australia, Bangladesh, Colombia, Hong Kong,
Indonesia, Mexico, New Zealand, Pakistan, Philippines, Singapore, Taiwan,
and Vietnam</li>
<li>Added
<a href="https://github.com/googlecolab/colabtools/blob/main/google/colab/auth.py#L253" target="_blank" rel="nofollow" aria-label="google.colab.auth.authenticate_service_account() Link will open in a new tab"><code>google.colab.auth.authenticate_service_account()</code></a>
to support using
<a href="https://colab.research.google.com/corgiredirector?site=https%3A%2F%2Fcloud.google.com%2Fiam%2Fdocs%2Fcreating-managing-service-account-keys%23iam-service-account-keys-create-console" target="_blank" rel="nofollow" aria-label="Service Account keys Link will open in a new tab">Service Account keys</a></li>
<li>Update jax from 0.3.1 to 0.3.4 &amp; jaxlib from 0.3.0 to 0.3.2</li>
<li>Fixed an issue with Twitter previews of notebooks shared as Github Gists</li>
</ul>
<h3>2022-03-10</h3>
<ul>
<li>Launched
<a href="https://colab.research.google.com/signup?utm_source=relnotes&amp;utm_medium=link&amp;utm_campaign=additional_countries" target="_blank" rel="nofollow" aria-label="Pro/Pro+ Link will open in a new tab">Pro/Pro+</a>
to 10 new countries: Ireland, Israel, Italy, Morocco, the Netherlands,
Poland, Spain, Switzerland, Turkey, and the United Arab Emirates</li>
<li>Launched support for
<a href="https://github.com/googlecolab/colabtools/wiki/Scheduled-notebooks" target="_blank" rel="nofollow" aria-label="scheduling notebooks for Pro+ users Link will open in a new tab">scheduling notebooks for Pro+ users</a></li>
<li>Fixed bug in interactive datatables where filtering by number did not work</li>
<li>Finished removing the python2 kernelspec</li>
</ul>
<h3>2022-02-25</h3>
<ul>
<li>Made various accessibility improvements to the header</li>
<li>Fix bug with
<a href="https://colab.research.google.com/corgiredirector?site=https%3A%2F%2Fcolab.sandbox.google.com%2Fnotebooks%2Fforms.ipynb%23scrollTo%3Dh9aZYKhly2h_" target="_blank" rel="nofollow" aria-label="forms run:auto Link will open in a new tab">forms run:auto</a>
where a form field change would trigger multiple runs</li>
<li>Minor updates to the
<a href="https://colab.research.google.com/notebooks/bigquery.ipynb" target="_blank" rel="nofollow" aria-label="bigquery example notebook Link will open in a new tab">bigquery example notebook</a>
and snippet</li>
<li>Include background execution setting in the sessions dialog for Pro+ users</li>
<li>Update tensorflow-probability from 0.15 to 0.16</li>
<li>Update jax from 0.2.25 to 0.3.1 &amp; jaxlib from 0.1.71 to 0.3.0</li>
</ul>
<h3>2022-02-11</h3>
<ul>
<li>Improve keyboard navigation for the open dialog</li>
<li>Fix issue where nvidia-smi stopped reporting resource utilization for some
users who were modifying the version of nvidia used</li>
<li>Update tensorflow from 2.7 to 2.8, keras from 2.7 to 2.8, numpy from 1.19.5
to 1.21.5, tables from 3.4.4 to 3.7.0</li>
</ul>
<h3>2022-02-04</h3>
<ul>
<li>Improve UX for opening content alongside your notebook, such as files opened
from the file browser. This includes a multi-pane view and drag-drop support</li>
<li>Better Twitter previews when sharing example Colab notebooks and notebooks
opened from GitHub Gists</li>
<li>Update pandas from 1.1.5 to 1.3.5</li>
<li>Update openpyxl from 2.5.9 to 3.0.0 and pyarrow from 3.0.0 to 6.0.0</li>
<li>Link to the release notes from the Help menu</li>
</ul>
<h3>2022-01-28</h3>
<ul>
<li>Add a copy button to
<a href="https://colab.research.google.com/notebooks/data_table.ipynb" target="_blank" rel="nofollow" aria-label="data tables Link will open in a new tab">data tables</a></li>
<li>Python LSP support for better completions and code diagnostics. This can be
configured in the Editor Settings (Tools → Settings)</li>
<li>Update
<a href="https://colab.research.google.com/notebooks/io.ipynb#scrollTo=sOm9PFrT8mGG" target="_blank" rel="nofollow" aria-label="gspread examples Link will open in a new tab">gspread examples</a>
in our documentation</li>
<li>Update gdown from 3.6 to 4.2</li>
</ul>
<h3>2022-01-21</h3>
<ul>
<li>New documentation for the
<a href="https://colab.research.google.com/notebooks/google.colab.ipynb" target="_blank" rel="nofollow" aria-label="google.colab package Link will open in a new tab"><code>google.colab</code> package</a></li>
<li>Show GPU RAM in the resource usage tab</li>
<li>Improved security for mounting Google Drive which disallows mounting Drive
from accounts other than the one currently executing the notebook</li>
</ul>
<h3>2022-01-14</h3>
<ul>
<li>Add a preference (Tools → Settings) to use a temporary scratch notebook as
the default landing page</li>
<li>Fix bug where <code>/</code> and <code>:</code> weren't working in VIM mode</li>
<li>Update gspread from 3.0 to 3.4</li>
<li>Update the
<a href="https://colab.research.google.com/corgiredirector?site=https%3A%2F%2Fresearch.google.com%2Fcolaboratory%2Fmarketplace.html" target="_blank" rel="nofollow" aria-label="Colab Marketplace VM image Link will open in a new tab">Colab Marketplace VM image</a></li>
</ul>
</span></div></colab-shaded-scroller></colab-tab></div>
  </div></colab-tab-pane>
      <colab-resizer style="height: 33.3%" class="sn-resize no-tabs"><div class="resizer-thumb"></div>
        <!--?lit$291671447$--><colab-tab-pane class="layout vertical grow no-tabs" align="horizontal"><!----> <div class="layout vertical grow">
    <div class="tab-pane-header layout horizontal noshrink">
      <md-tabs><template shadowrootmode="open"><!---->
      <div class="tabs">
        <slot></slot>
      </div>
      <md-divider part="divider"><template shadowrootmode="open"><!----></template></md-divider>
    </template></md-tabs>
      <div class="layout grow"></div>
      <!--?lit$291671447$--> <md-icon-button title="Show more" aria-label="Show more" role="presentation" value=""><template shadowrootmode="open" shadowrootdelegatesfocus><!----><button id="button" class="icon-button  standard " aria-label="Show more">
        <!--?lit$291671447$--><md-focus-ring part="focus-ring" for="button" aria-hidden="true"><template shadowrootmode="open"><!----></template></md-focus-ring>
        <!--?lit$291671447$--><md-ripple aria-hidden="true"><template shadowrootmode="open"><!----><div class="surface   "></div></template></md-ripple>
        <!--?lit$291671447$--><span class="icon"><slot></slot></span>
        <!--?lit$291671447$-->
        <!--?lit$291671447$--><span class="touch"></span>
        <!--?lit$291671447$-->
  </button></template>
    <md-icon aria-hidden="true"><template shadowrootmode="open"><!----><slot></slot></template>more_horiz</md-icon>
  </md-icon-button>
    </div>
    <div class="layout vertical grow tab-pane-container"> </div>
  </div></colab-tab-pane>
      </colab-resizer>
    </div>
      </colab-resizer>
    </div></colab-tab-layout-container>
        </div>
        <div class="proxies"><div><colab-dom-lifecycle-events style="display: none;"></colab-dom-lifecycle-events><iframe allow="" sandbox="allow-downloads allow-forms allow-pointer-lock allow-popups allow-same-origin allow-scripts allow-storage-access-by-user-activation allow-popups-to-escape-sandbox" src="./spam or ham_files/outputframe(5).html" style="width: 1px; height: 1px; position: absolute; top: -100px;"></iframe></div><div><colab-dom-lifecycle-events style="display: none;"></colab-dom-lifecycle-events><iframe allow="accelerometer; autoplay; camera; gyroscope; magnetometer; microphone; serial; usb; xr-spatial-tracking; clipboard-write" sandbox="allow-downloads allow-forms allow-pointer-lock allow-popups allow-same-origin allow-scripts allow-storage-access-by-user-activation allow-modals allow-popups-to-escape-sandbox" src="./spam or ham_files/outputframe(6).html" style="width: 1px; height: 1px; position: absolute; top: -100px;"></iframe></div></div>
      <colab-file-viewer-manager></colab-file-viewer-manager></div>
    <colab-status-bar role="region" aria-label="Runtime status bar" style="min-height: inherit;"><template shadowrootmode="open"><!----> <!--?lit$291671447$--><div class="frames"></div>
      <md-icon-button class="visible-on-closed" title="Runtime disconnected" aria-label="Runtime disconnected" disabled="" role="presentation" value=""><template shadowrootmode="open" shadowrootdelegatesfocus><!----><button id="button" class="icon-button  standard " aria-label="Runtime disconnected" disabled="">
        <!--?lit$291671447$--><md-focus-ring part="focus-ring" for="button" aria-hidden="true"><template shadowrootmode="open"><!----></template></md-focus-ring>
        <!--?lit$291671447$--><md-ripple disabled="" aria-hidden="true"><template shadowrootmode="open"><!----><div class="surface   "></div></template></md-ripple>
        <!--?lit$291671447$--><span class="icon"><slot></slot></span>
        <!--?lit$291671447$-->
        <!--?lit$291671447$--><span class="touch"></span>
        <!--?lit$291671447$-->
  </button></template>
        <md-icon filled="" class="visible-on-closed" status="" aria-hidden="true"><template shadowrootmode="open"><!----><slot></slot></template><!--?lit$291671447$-->fiber_manual_record</md-icon>
      </md-icon-button>
      <md-icon-button title="Close" aria-label="Close" role="presentation" value=""><template shadowrootmode="open" shadowrootdelegatesfocus><!----><button id="button" class="icon-button  standard " aria-label="Close">
        <!--?lit$291671447$--><md-focus-ring part="focus-ring" for="button" aria-hidden="true"><template shadowrootmode="open"><!----></template></md-focus-ring>
        <!--?lit$291671447$--><md-ripple aria-hidden="true"><template shadowrootmode="open"><!----><div class="surface   "></div></template></md-ripple>
        <!--?lit$291671447$--><span class="icon"><slot></slot></span>
        <!--?lit$291671447$-->
        <!--?lit$291671447$--><span class="touch"></span>
        <!--?lit$291671447$-->
  </button></template>
        <md-icon aria-hidden="true"><template shadowrootmode="open"><!----><slot></slot></template>close</md-icon>
      </md-icon-button></template></colab-status-bar></div><div class="goog-menu" id="file-menu" role="menu" aria-haspopup="true" style="display: none; user-select: none;"><!--?lit$291671447$--><div command="locate-in-drive" class="goog-menuitem " role="menuitem" id=":2" style="user-select: none;"><div class="goog-menuitem-content" style="user-select: none;"><!--?lit$291671447$-->Locate in Drive<!--?lit$291671447$--></div></div><div command="open-in-playground" class="goog-menuitem " role="menuitem" id=":3" style="user-select: none;"><div class="goog-menuitem-content" style="user-select: none;"><!--?lit$291671447$-->Open in playground mode<!--?lit$291671447$--></div></div><div class="goog-menuseparator goog-menuitem-disabled" aria-disabled="true" role="separator" id=":4" style="user-select: none;"></div><div command="new" class="goog-menuitem " role="menuitem" id=":5" style="user-select: none;"><div class="goog-menuitem-content" style="user-select: none;"><!--?lit$291671447$-->New notebook<!--?lit$291671447$--></div></div><div command="open" class="goog-menuitem " role="menuitem" id=":6" style="user-select: none;"><div class="goog-menuitem-content" style="user-select: none;"><!--?lit$291671447$-->Open notebook<!--?lit$291671447$--></div></div><div command="import-notebook" class="goog-menuitem " role="menuitem" id=":7" style="user-select: none;"><div class="goog-menuitem-content" style="user-select: none;"><!--?lit$291671447$-->Upload notebook<!--?lit$291671447$--></div></div><div class="goog-menuseparator goog-menuitem-disabled" aria-disabled="true" role="separator" id=":8" style="user-select: none;"></div><div command="rename" class="goog-menuitem " role="menuitem" id=":9" style="user-select: none;"><div class="goog-menuitem-content" style="user-select: none;"><!--?lit$291671447$-->Rename<!--?lit$291671447$--></div></div><div command="move-notebook" class="goog-menuitem " role="menuitem" id=":a" style="user-select: none;"><div class="goog-menuitem-content" style="user-select: none;"><!--?lit$291671447$-->Move<!--?lit$291671447$--></div></div><div command="trash" class="goog-menuitem " role="menuitem" id=":b" style="user-select: none;"><div class="goog-menuitem-content" style="user-select: none;"><!--?lit$291671447$-->Move to trash<!--?lit$291671447$--></div></div><div class="goog-menuseparator goog-menuitem-disabled" aria-disabled="true" role="separator" id=":c" style="user-select: none;"></div><div command="clone" class="goog-menuitem " role="menuitem" id=":d" style="user-select: none;"><div class="goog-menuitem-content" style="user-select: none;"><!--?lit$291671447$-->Save a copy in Drive<!--?lit$291671447$--></div></div><div command="copy-to-gist" class="goog-menuitem " role="menuitem" id=":e" style="user-select: none;"><div class="goog-menuitem-content" style="user-select: none;"><!--?lit$291671447$-->Save a copy as a GitHub Gist<!--?lit$291671447$--></div></div><div command="copy-to-github" class="goog-menuitem " role="menuitem" id=":f" style="user-select: none;"><div class="goog-menuitem-content" style="user-select: none;"><!--?lit$291671447$-->Save a copy in GitHub<!--?lit$291671447$--></div></div><div class="goog-menuseparator goog-menuitem-disabled" aria-disabled="true" role="separator" id=":g" style="user-select: none;"></div><div command="save" class="goog-menuitem " role="menuitem" id=":h" style="user-select: none;"><div class="goog-menuitem-content" style="user-select: none;"><!--?lit$291671447$-->Save<!--?lit$291671447$--></div></div><div command="save-and-checkpoint" class="goog-menuitem " role="menuitem" id=":i" style="user-select: none;"><div class="goog-menuitem-content" style="user-select: none;"><!--?lit$291671447$-->Save and pin revision<!--?lit$291671447$--></div></div><div command="show-history" class="goog-menuitem " role="menuitem" id=":j" style="user-select: none;"><div class="goog-menuitem-content" style="user-select: none;"><!--?lit$291671447$-->Revision history<!--?lit$291671447$--></div></div><div class="goog-menuseparator goog-menuitem-disabled" aria-disabled="true" role="separator" id=":k" style="user-select: none;"></div><div class="goog-submenu goog-menuitem" id="download-submenu-menu-button" role="menuitem" aria-haspopup="true" style="user-select: none;"><div class="goog-menuitem-content" style="user-select: none;">
      <!--?lit$291671447$-->Download
    <span class="goog-submenu-arrow" style="user-select: none;">►</span></div></div><div command="print" class="goog-menuitem " role="menuitem" id=":o" style="user-select: none;"><div class="goog-menuitem-content" style="user-select: none;"><!--?lit$291671447$-->Print<!--?lit$291671447$--></div></div></div><div class="goog-menu" id="download-submenu-menu" role="menu" aria-haspopup="true" style="display: none; user-select: none;"><!--?lit$291671447$--><div command="download-ipynb" class="goog-menuitem " role="menuitem" id=":m" style="user-select: none;"><div class="goog-menuitem-content" style="user-select: none;"><!--?lit$291671447$-->Download .ipynb<!--?lit$291671447$--></div></div><div command="download-python" class="goog-menuitem " role="menuitem" id=":n" style="user-select: none;"><div class="goog-menuitem-content" style="user-select: none;"><!--?lit$291671447$-->Download .py<!--?lit$291671447$--></div></div></div><div class="goog-menu" id="edit-menu" role="menu" aria-haspopup="true" style="display: none; user-select: none;"><!--?lit$291671447$--><div command="undo" class="goog-menuitem " role="menuitem" id=":q" style="user-select: none;"><div class="goog-menuitem-content" style="user-select: none;"><!--?lit$291671447$-->Undo<!--?lit$291671447$--></div></div><div command="redo" class="goog-menuitem " role="menuitem" id=":r" style="user-select: none;"><div class="goog-menuitem-content" style="user-select: none;"><!--?lit$291671447$-->Redo<!--?lit$291671447$--></div></div><div class="goog-menuseparator goog-menuitem-disabled" aria-disabled="true" role="separator" id=":s" style="user-select: none;"></div><div command="select-all" class="goog-menuitem " role="menuitem" id=":t" style="user-select: none;"><div class="goog-menuitem-content" style="user-select: none;"><!--?lit$291671447$-->Select all cells<!--?lit$291671447$--></div></div><div command="cut" class="goog-menuitem " role="menuitem" id=":u" style="user-select: none;"><div class="goog-menuitem-content" style="user-select: none;"><!--?lit$291671447$-->Cut cell or selection<!--?lit$291671447$--></div></div><div command="copy" class="goog-menuitem " role="menuitem" id=":v" style="user-select: none;"><div class="goog-menuitem-content" style="user-select: none;"><!--?lit$291671447$-->Copy cell or selection<!--?lit$291671447$--></div></div><div command="paste" class="goog-menuitem " role="menuitem" id=":w" style="user-select: none;"><div class="goog-menuitem-content" style="user-select: none;"><!--?lit$291671447$-->Paste<!--?lit$291671447$--></div></div><div command="delete-cell-or-selection" class="goog-menuitem " role="menuitem" id=":x" style="user-select: none;"><div class="goog-menuitem-content" style="user-select: none;"><!--?lit$291671447$-->Delete selected cells<!--?lit$291671447$--></div></div><div class="goog-menuseparator goog-menuitem-disabled" aria-disabled="true" role="separator" id=":y" style="user-select: none;"></div><div command="find" class="goog-menuitem " role="menuitem" id=":z" style="user-select: none;"><div class="goog-menuitem-content" style="user-select: none;"><!--?lit$291671447$-->Find and replace<!--?lit$291671447$--></div></div><div command="find-next" class="goog-menuitem " role="menuitem" id=":10" style="user-select: none;"><div class="goog-menuitem-content" style="user-select: none;"><!--?lit$291671447$-->Find next<!--?lit$291671447$--></div></div><div command="find-previous" class="goog-menuitem " role="menuitem" id=":11" style="user-select: none;"><div class="goog-menuitem-content" style="user-select: none;"><!--?lit$291671447$-->Find previous<!--?lit$291671447$--></div></div><div class="goog-menuseparator goog-menuitem-disabled" aria-disabled="true" role="separator" id=":12" style="user-select: none;"></div><div command="notebook-settings" class="goog-menuitem " role="menuitem" id=":13" style="user-select: none;"><div class="goog-menuitem-content" style="user-select: none;"><!--?lit$291671447$-->Notebook settings<!--?lit$291671447$--></div></div><div class="goog-menuseparator goog-menuitem-disabled" aria-disabled="true" role="separator" id=":14" style="user-select: none;"></div><div command="clear-outputs" class="goog-menuitem " role="menuitem" id=":15" style="user-select: none;"><div class="goog-menuitem-content" style="user-select: none;"><!--?lit$291671447$-->Clear all outputs<!--?lit$291671447$--></div></div></div><div class="goog-menu" id="view-menu" role="menu" aria-haspopup="true" style="display: none; user-select: none;"><!--?lit$291671447$--><div command="show-toc-pane" class="goog-menuitem goog-option" role="menuitemcheckbox" aria-checked="false" id=":17" style="user-select: none;"><div class="goog-menuitem-content" style="user-select: none;"><div class="goog-menuitem-checkbox" style="user-select: none;"><!----><md-icon aria-hidden="true"><template shadowrootmode="open"><!----><slot></slot></template>check</md-icon> </div><!--?lit$291671447$-->Table of contents<!--?lit$291671447$--></div></div><div command="show-fileinfo" class="goog-menuitem " role="menuitem" id=":18" style="user-select: none;"><div class="goog-menuitem-content" style="user-select: none;"><!--?lit$291671447$-->Notebook info<!--?lit$291671447$--></div></div><div command="show-executedcode" class="goog-menuitem " role="menuitem" id=":19" style="user-select: none;"><div class="goog-menuitem-content" style="user-select: none;"><!--?lit$291671447$-->Executed code history<!--?lit$291671447$--></div></div><div command="toggle-comments-visibility" class="goog-menuitem goog-option" role="menuitemcheckbox" aria-checked="false" id=":1a" style="user-select: none;"><div class="goog-menuitem-content" style="user-select: none;"><div class="goog-menuitem-checkbox" style="user-select: none;"><!----><md-icon aria-hidden="true"><template shadowrootmode="open"><!----><slot></slot></template>check</md-icon> </div><!--?lit$291671447$-->Comments sidebar<!--?lit$291671447$--></div></div><div class="goog-menuseparator goog-menuitem-disabled" aria-disabled="true" role="separator" id=":1b" style="user-select: none;"></div><div command="collapse-sections" class="goog-menuitem " role="menuitem" id=":1c" style="user-select: none;"><div class="goog-menuitem-content" style="user-select: none;"><!--?lit$291671447$-->Collapse sections<!--?lit$291671447$--></div></div><div command="expand-sections" class="goog-menuitem " role="menuitem" id=":1d" style="user-select: none;"><div class="goog-menuitem-content" style="user-select: none;"><!--?lit$291671447$-->Expand sections<!--?lit$291671447$--></div></div><div command="save-section-layout" class="goog-menuitem " role="menuitem" id=":1e" style="user-select: none;"><div class="goog-menuitem-content" style="user-select: none;"><!--?lit$291671447$-->Save collapsed section layout<!--?lit$291671447$--></div></div><div class="goog-menuseparator goog-menuitem-disabled" aria-disabled="true" role="separator" id=":1f" style="user-select: none;"></div><div command="hide-code" class="goog-menuitem " role="menuitem" id=":1g" style="user-select: none;"><div class="goog-menuitem-content" style="user-select: none;"><!--?lit$291671447$-->Show/hide code<!--?lit$291671447$--></div></div><div command="toggle-output" class="goog-menuitem " role="menuitem" id=":1h" style="user-select: none;"><div class="goog-menuitem-content" style="user-select: none;"><!--?lit$291671447$-->Show/hide output<!--?lit$291671447$--></div></div><div class="goog-menuseparator goog-menuitem-disabled" aria-disabled="true" role="separator" id=":1i" style="user-select: none;"></div><div command="focus-next-tab" class="goog-menuitem " role="menuitem" id=":1j" style="user-select: none;"><div class="goog-menuitem-content" style="user-select: none;"><!--?lit$291671447$-->Focus next tab<!--?lit$291671447$--></div></div><div command="focus-previous-tab" class="goog-menuitem " role="menuitem" id=":1k" style="user-select: none;"><div class="goog-menuitem-content" style="user-select: none;"><!--?lit$291671447$-->Focus previous tab<!--?lit$291671447$--></div></div><div command="move-tab-to-next" class="goog-menuitem " role="menuitem" id=":1l" style="user-select: none;"><div class="goog-menuitem-content" style="user-select: none;"><!--?lit$291671447$-->Move tab to next pane<!--?lit$291671447$--></div></div><div command="move-tab-to-prev" class="goog-menuitem " role="menuitem" id=":1m" style="user-select: none;"><div class="goog-menuitem-content" style="user-select: none;"><!--?lit$291671447$-->Move tab to previous pane<!--?lit$291671447$--></div></div></div><div class="goog-menu" id="insert-menu" role="menu" aria-haspopup="true" style="display: none; user-select: none;"><!--?lit$291671447$--><div command="insert-cell-below" class="goog-menuitem " role="menuitem" id=":1o" style="user-select: none;"><div class="goog-menuitem-content" style="user-select: none;"><!--?lit$291671447$-->Code cell<!--?lit$291671447$--></div></div><div command="add-text" class="goog-menuitem " role="menuitem" id=":1p" style="user-select: none;"><div class="goog-menuitem-content" style="user-select: none;"><!--?lit$291671447$-->Text cell<!--?lit$291671447$--></div></div><div command="add-section-header" class="goog-menuitem " role="menuitem" id=":1q" style="user-select: none;"><div class="goog-menuitem-content" style="user-select: none;"><!--?lit$291671447$-->Section header cell<!--?lit$291671447$--></div></div><div class="goog-menuseparator goog-menuitem-disabled" aria-disabled="true" role="separator" id=":1r" style="user-select: none;"></div><div command="open-scratch-code-cell" class="goog-menuitem " role="menuitem" id=":1s" style="user-select: none;"><div class="goog-menuitem-content" style="user-select: none;"><!--?lit$291671447$-->Scratch code cell<!--?lit$291671447$--></div></div><div command="snippets" class="goog-menuitem " role="menuitem" id=":1t" style="user-select: none;"><div class="goog-menuitem-content" style="user-select: none;"><!--?lit$291671447$-->Code snippets<!--?lit$291671447$--></div></div><div class="goog-menuseparator goog-menuitem-disabled" aria-disabled="true" role="separator" id=":1u" style="user-select: none;"></div><div command="add-form-field" class="goog-menuitem " role="menuitem" id=":1v" style="user-select: none;"><div class="goog-menuitem-content" style="user-select: none;"><!--?lit$291671447$-->Add a form field<!--?lit$291671447$--></div></div></div><div class="goog-menu" id="runtime-menu" role="menu" aria-haspopup="true" style="display: none; user-select: none;"><!--?lit$291671447$--><div command="runall" class="goog-menuitem " role="menuitem" id=":1x" style="user-select: none;"><div class="goog-menuitem-content" style="user-select: none;"><!--?lit$291671447$-->Run all<!--?lit$291671447$--></div></div><div command="runbefore" class="goog-menuitem " role="menuitem" id=":1y" style="user-select: none;"><div class="goog-menuitem-content" style="user-select: none;"><!--?lit$291671447$-->Run before<!--?lit$291671447$--></div></div><div command="runfocused" class="goog-menuitem " role="menuitem" id=":1z" style="user-select: none;"><div class="goog-menuitem-content" style="user-select: none;"><!--?lit$291671447$-->Run the focused cell<!--?lit$291671447$--></div></div><div command="runselected" class="goog-menuitem " role="menuitem" id=":20" style="user-select: none;"><div class="goog-menuitem-content" style="user-select: none;"><!--?lit$291671447$-->Run selection<!--?lit$291671447$--></div></div><div command="runafter" class="goog-menuitem " role="menuitem" id=":21" style="user-select: none;"><div class="goog-menuitem-content" style="user-select: none;"><!--?lit$291671447$-->Run after<!--?lit$291671447$--></div></div><div class="goog-menuseparator goog-menuitem-disabled" aria-disabled="true" role="separator" id=":22" style="user-select: none;"></div><div command="interrupt" class="goog-menuitem " role="menuitem" id=":23" style="user-select: none;"><div class="goog-menuitem-content" style="user-select: none;"><!--?lit$291671447$-->Interrupt execution<!--?lit$291671447$--></div></div><div command="restart" class="goog-menuitem " role="menuitem" id=":24" style="user-select: none;"><div class="goog-menuitem-content" style="user-select: none;"><!--?lit$291671447$-->Restart session<!--?lit$291671447$--></div></div><div command="restart-and-run-all" class="goog-menuitem " role="menuitem" id=":25" style="user-select: none;"><div class="goog-menuitem-content" style="user-select: none;"><!--?lit$291671447$-->Restart session and run all<!--?lit$291671447$--></div></div><div command="powerwash-current-vm" class="goog-menuitem " role="menuitem" id=":26" style="user-select: none;"><div class="goog-menuitem-content" style="user-select: none;"><!--?lit$291671447$-->Disconnect and delete runtime<!--?lit$291671447$--></div></div><div class="goog-menuseparator goog-menuitem-disabled" aria-disabled="true" role="separator" id=":27" style="user-select: none;"></div><div command="change-runtime-type" class="goog-menuitem " role="menuitem" id=":28" style="user-select: none;"><div class="goog-menuitem-content" style="user-select: none;"><!--?lit$291671447$-->Change runtime type<!--?lit$291671447$--></div></div><div class="goog-menuseparator goog-menuitem-disabled" aria-disabled="true" role="separator" id=":29" style="user-select: none;"></div><div command="manage-sessions" class="goog-menuitem " role="menuitem" id=":2a" style="user-select: none;"><div class="goog-menuitem-content" style="user-select: none;"><!--?lit$291671447$-->Manage sessions<!--?lit$291671447$--></div></div><div command="open-resource-viewer" class="goog-menuitem " role="menuitem" id=":2b" style="user-select: none;"><div class="goog-menuitem-content" style="user-select: none;"><!--?lit$291671447$-->View resources<!--?lit$291671447$--></div></div><div command="view-runtime-logs" class="goog-menuitem " role="menuitem" id=":2c" style="user-select: none;"><div class="goog-menuitem-content" style="user-select: none;"><!--?lit$291671447$-->View runtime logs<!--?lit$291671447$--></div></div></div><div class="goog-menu" id="tools-menu" role="menu" aria-haspopup="true" style="display: none; user-select: none;"><!--?lit$291671447$--><div command="show-command-palette" class="goog-menuitem " role="menuitem" id=":2e" style="user-select: none;"><div class="goog-menuitem-content" style="user-select: none;"><!--?lit$291671447$-->Command palette<!--?lit$291671447$--></div></div><div class="goog-menuseparator goog-menuitem-disabled" aria-disabled="true" role="separator" id=":2f" style="user-select: none;"></div><div command="preferences" class="goog-menuitem " role="menuitem" id=":2g" style="user-select: none;"><div class="goog-menuitem-content" style="user-select: none;"><!--?lit$291671447$-->Settings<!--?lit$291671447$--></div></div><div command="shortcuts" class="goog-menuitem " role="menuitem" id=":2h" style="user-select: none;"><div class="goog-menuitem-content" style="user-select: none;"><!--?lit$291671447$-->Keyboard shortcuts<!--?lit$291671447$--></div></div><div class="goog-menuseparator goog-menuitem-disabled" aria-disabled="true" role="separator" id=":2i" style="user-select: none;"></div><div command="open-differ" class="goog-menuitem " role="menuitem" id=":2j" style="user-select: none;"><div class="goog-menuitem-content" style="user-select: none;"><!--?lit$291671447$-->Diff notebooks<!--?lit$291671447$--> <span class="screenreader-only" style="user-select: none;"><!--?lit$291671447$-->(opens in a new tab)</span></div></div></div><div class="goog-menu" id="help-menu" role="menu" aria-haspopup="true" style="display: none; user-select: none;"><!--?lit$291671447$--><div command="faq" class="goog-menuitem " role="menuitem" id=":2l" style="user-select: none;"><div class="goog-menuitem-content" style="user-select: none;"><!--?lit$291671447$-->Frequently asked questions<!--?lit$291671447$--></div></div><div command="view-relnotes" class="goog-menuitem " role="menuitem" id=":2m" style="user-select: none;"><div class="goog-menuitem-content" style="user-select: none;"><!--?lit$291671447$-->View release notes<!--?lit$291671447$--></div></div><div command="snippets" class="goog-menuitem " role="menuitem" id=":2n" style="user-select: none;"><div class="goog-menuitem-content" style="user-select: none;"><!--?lit$291671447$-->Search code snippets<!--?lit$291671447$--></div></div><div class="goog-menuseparator goog-menuitem-disabled" aria-disabled="true" role="separator" id=":2o" style="user-select: none;"></div><div command="report-bug" class="goog-menuitem " role="menuitem" id=":2p" style="user-select: none;"><div class="goog-menuitem-content" style="user-select: none;"><!--?lit$291671447$-->Report a bug<!--?lit$291671447$--></div></div><div command="report-abuse" class="goog-menuitem " role="menuitem" id=":2q" style="user-select: none;"><div class="goog-menuitem-content" style="user-select: none;"><!--?lit$291671447$-->Report Drive abuse<!--?lit$291671447$--></div></div><div command="send-feedback" class="goog-menuitem " role="menuitem" id=":2r" style="user-select: none;"><div class="goog-menuitem-content" style="user-select: none;"><!--?lit$291671447$-->Send feedback<!--?lit$291671447$--></div></div></div><div class="doc-comments-area" style="display: none;"><!----><div class="doc-comments-buttons">
        <md-text-button command="add-comment" role="presentation" value="" has-icon=""><template shadowrootmode="open" shadowrootdelegatesfocus><!---->
      <!--?lit$291671447$-->
      <div class="background"></div>
      <md-focus-ring part="focus-ring" for="button" aria-hidden="true"><template shadowrootmode="open"><!----></template></md-focus-ring>
      <md-ripple for="button" aria-hidden="true"><template shadowrootmode="open"><!----><div class="surface   "></div></template></md-ripple>
      <!--?lit$291671447$--><button id="button" class="button">
      <!--?lit$291671447$-->
      <span class="touch"></span>
      <!--?lit$291671447$--><slot name="icon"></slot>
      <span class="label"><slot></slot></span>
      <!--?lit$291671447$-->
    
    </button>
    </template>
          <md-icon slot="icon" filled="" aria-hidden="true"><template shadowrootmode="open"><!----><slot></slot></template>comment</md-icon>
          <!--?lit$291671447$-->Add a comment
        </md-text-button>
      </div></div><div class="thumbnail"></div><div class="monaco-aria-container"><div class="monaco-alert" role="alert" aria-atomic="true"></div><div class="monaco-alert" role="alert" aria-atomic="true"></div><div class="monaco-status" role="complementary" aria-live="polite" aria-atomic="true"></div><div class="monaco-status" role="complementary" aria-live="polite" aria-atomic="true"></div></div><iframe id="apiproxya8324bb615760b02d9f7e78784afe1ebf2d14bc20.417541941" name="apiproxya8324bb615760b02d9f7e78784afe1ebf2d14bc20.417541941" src="./spam or ham_files/proxy.html" tabindex="-1" aria-hidden="true" style="width: 1px; height: 1px; position: absolute; top: -100px; display: none;"></iframe><div><div class="grecaptcha-badge" data-style="bottomright" style="width: 256px; height: 60px; position: fixed; visibility: hidden; display: block; transition: right 0.3s ease 0s; bottom: 14px; right: -186px; box-shadow: gray 0px 0px 5px; border-radius: 2px; overflow: hidden;"><div class="grecaptcha-logo"><iframe title="reCAPTCHA" width="256" height="60" role="presentation" name="a-ll40wvboi95h" frameborder="0" scrolling="no" sandbox="allow-forms allow-popups allow-same-origin allow-scripts allow-top-navigation allow-modals allow-popups-to-escape-sandbox allow-storage-access-by-user-activation" src="./spam or ham_files/anchor.html"></iframe></div><div class="grecaptcha-error"></div><textarea id="g-recaptcha-response-100000" name="g-recaptcha-response" class="g-recaptcha-response" style="width: 250px; height: 40px; border: 1px solid rgb(193, 193, 193); margin: 10px 25px; padding: 0px; resize: none; display: none;"></textarea></div><iframe style="display: none;" src="./spam or ham_files/saved_resource(1).html"></iframe></div><iframe src="./spam or ham_files/bscframe.html" style="display: none;"></iframe><iframe id="hfcr" src="./spam or ham_files/RotateCookiesPage.html" style="display: none;"></iframe></body></html>